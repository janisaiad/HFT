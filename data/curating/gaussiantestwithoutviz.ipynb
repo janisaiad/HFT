{
 "cells": [
  {
   "cell_type": "code",
   "execution_count": null,
   "metadata": {},
   "outputs": [],
   "source": [
    "import os\n",
    "import polars as pl\n",
    "import dotenv\n",
    "from tqdm import tqdm\n",
    "import plotly.graph_objects as go\n",
    "FOLDER_PATH = os.getenv(\"FOLDER_PATH\")\n",
    "\n",
    "\n",
    "dotenv.load_dotenv()\n",
    "stock = \"WBD\""
   ]
  },
  {
   "cell_type": "code",
   "execution_count": null,
   "metadata": {},
   "outputs": [],
   "source": [
    "parquet_files = [f for f in os.listdir(f\"{FOLDER_PATH}{stock}\") if f.endswith('.parquet')]\n",
    "parquet_files.sort()\n",
    "print(len(parquet_files),\"\\n\",parquet_files)\n",
    "threshold = len(parquet_files)//5\n",
    "parquet_files = parquet_files[:threshold]\n",
    "# Read and concatenate all parquet files\n",
    "df = pl.concat([\n",
    "    pl.read_parquet(f\"{FOLDER_PATH}{stock}/{file}\") \n",
    "    for file in parquet_files\n",
    "])"
   ]
  },
  {
   "cell_type": "code",
   "execution_count": 6,
   "metadata": {},
   "outputs": [],
   "source": [
    "def curate_mid_price(df,stock):\n",
    "    num_entries_by_publisher = df.group_by(\"publisher_id\").len().sort(\"len\", descending=True)\n",
    "    if len(num_entries_by_publisher) > 1:\n",
    "            df = df.filter(pl.col(\"publisher_id\") == 41)\n",
    "        \n",
    "        \n",
    "    if stock == \"GOOGL\":\n",
    "        df = df.filter(pl.col(\"ts_event\").dt.hour() >= 13)\n",
    "        df = df.filter(pl.col(\"ts_event\").dt.hour() <= 20)\n",
    "        \n",
    "        \n",
    "    else:\n",
    "        df = df.filter(\n",
    "            (\n",
    "                (pl.col(\"ts_event\").dt.hour() == 9) & (pl.col(\"ts_event\").dt.minute() >= 35) |\n",
    "                (pl.col(\"ts_event\").dt.hour() > 9) & (pl.col(\"ts_event\").dt.hour() < 16)\n",
    "            )\n",
    "        )\n",
    "    \n",
    "    # Remove the first row at 9:30\n",
    "    df = df.with_row_index(\"index\").filter(\n",
    "        ~((pl.col(\"ts_event\").dt.hour() == 9) & \n",
    "          (pl.col(\"ts_event\").dt.minute() == 30) & \n",
    "          (pl.col(\"index\") == df.filter(\n",
    "              (pl.col(\"ts_event\").dt.hour() == 9) & \n",
    "              (pl.col(\"ts_event\").dt.minute() == 30)\n",
    "          ).with_row_index(\"index\").select(\"index\").min())\n",
    "        )\n",
    "    ).drop(\"index\")\n",
    "    mid_price = (df[\"ask_px_00\"] + df[\"bid_px_00\"]) / 2\n",
    "    \n",
    "    # managing nans or infs, preceding value filling\n",
    "    mid_price = mid_price.fill_nan(mid_price.shift(1))\n",
    "    df = df.with_columns(mid_price=mid_price)\n",
    "    # sort by ts_event\n",
    "    df = df.sort(\"ts_event\")\n",
    "    return df\n"
   ]
  },
  {
   "cell_type": "code",
   "execution_count": 7,
   "metadata": {},
   "outputs": [],
   "source": [
    "df  = curate_mid_price(df,stock)\n",
    "\n",
    "# average bid ask spread\n",
    "avg_spread = (df[\"ask_px_00\"] - df[\"bid_px_00\"]).mean()"
   ]
  },
  {
   "cell_type": "code",
   "execution_count": null,
   "metadata": {},
   "outputs": [],
   "source": [
    "print(f\"Average bid ask spread: {avg_spread}\")"
   ]
  },
  {
   "cell_type": "code",
   "execution_count": 9,
   "metadata": {},
   "outputs": [],
   "source": [
    "df_cleaned = df[[\"ts_event\",\"mid_price\"]]"
   ]
  },
  {
   "cell_type": "markdown",
   "metadata": {},
   "source": [
    "Average arrival time"
   ]
  },
  {
   "cell_type": "code",
   "execution_count": null,
   "metadata": {},
   "outputs": [],
   "source": [
    "# Compute average time between mid price changes\n",
    "import numpy as np\n",
    "import matplotlib.pyplot as plt\n",
    "\n",
    "# Calculate time differences between mid price changes in nanoseconds and convert to milliseconds\n",
    "time_diffs = df.with_columns(\n",
    "    mid_price_change=pl.col(\"mid_price\").diff()\n",
    ").filter(\n",
    "    pl.col(\"mid_price_change\") != 0\n",
    ").select(\n",
    "    (pl.col(\"ts_event\").diff().cast(pl.Int64) / 1_000_000).alias(\"time_diff_ms\")  # Convert to milliseconds\n",
    ").drop_nulls()\n",
    "\n",
    "# Filter out times > 1 hour (3600000 milliseconds) \n",
    "time_diffs = time_diffs.filter(pl.col(\"time_diff_ms\") <= 36000)\n",
    "\n",
    "# Take first alpha fraction of data\n",
    "alpha = 0.1  # Use first 10% of data\n",
    "time_diffs_np = time_diffs.to_numpy().flatten()[:int(len(time_diffs) * alpha)]\n",
    "\n",
    "# Create histogram\n",
    "plt.figure(figsize=(10, 6))\n",
    "plt.hist(time_diffs_np, bins='auto', density=True, alpha=0.7)\n",
    "\n",
    "plt.title(f'Distribution of Time Between Mid Price Changes (<1h) for {stock} (First {alpha*100}% of data)')\n",
    "plt.xlabel('Time between mid price changes (milliseconds)')\n",
    "plt.ylabel('Density')\n",
    "plt.ylim(0,0.0002)\n",
    "print('Average time between mid price changes:', time_diffs.mean())\n",
    "avg_arrival_time = time_diffs.mean()[\"time_diff_ms\"][0] \n",
    "plt.grid(True, alpha=0.3)"
   ]
  },
  {
   "cell_type": "code",
   "execution_count": null,
   "metadata": {},
   "outputs": [],
   "source": [
    "\n",
    "# Save plot\n",
    "os.makedirs(f\"/home/janis/HFTP2/HFT/results/hurst/plots/{stock}/\", exist_ok=True)\n",
    "plt.savefig(f\"/home/janis/HFTP2/HFT/results/hurst/plots/{stock}/{stock}_arrival_times.png\")\n"
   ]
  },
  {
   "cell_type": "code",
   "execution_count": null,
   "metadata": {},
   "outputs": [],
   "source": [
    "time_scales = [str(int(k*avg_arrival_time))+\"us\" for k in [1,5,10,30,100,1000,3000,10000,30000,100000,300000,1000000,3000000]]\n",
    "print(time_scales)"
   ]
  },
  {
   "cell_type": "code",
   "execution_count": null,
   "metadata": {},
   "outputs": [],
   "source": [
    "time_scales = time_scales\n",
    "\n",
    "dfs = {}\n",
    "\n",
    "for scale in time_scales:\n",
    "    df_temp = df_cleaned.group_by(pl.col(\"ts_event\").dt.truncate(scale)).agg([\n",
    "        pl.col(\"mid_price\").last().alias(\"mid_price\")\n",
    "    ])\n",
    "    \n",
    "    df_temp = df_temp.sort(\"ts_event\")\n",
    "    \n",
    "    df_temp = df_temp.with_columns(\n",
    "        tick_variation=pl.when(pl.col(\"ts_event\").dt.date().diff() == 0)\n",
    "        .then(pl.col(\"mid_price\").diff()/avg_spread)\n",
    "        .otherwise(None)\n",
    "    )\n",
    "    df_temp = df_temp.with_columns(\n",
    "        log_variation=pl.when(pl.col(\"ts_event\").dt.date().diff() == 0)\n",
    "        .then(pl.col(\"mid_price\").log().diff())\n",
    "        .otherwise(None)\n",
    "    )\n",
    "    \n",
    "    dfs[scale] = df_temp\n",
    "    \n",
    "    print(f\"\\n{scale} sampling:\")\n",
    "    print(df_temp.head())"
   ]
  },
  {
   "cell_type": "code",
   "execution_count": null,
   "metadata": {},
   "outputs": [],
   "source": [
    "import plotly.graph_objects as go\n",
    "\n",
    "# Create plots for each time scale\n",
    "for scale in time_scales:\n",
    "    df_current = dfs[scale]\n",
    "    \n",
    "    fig = go.Figure()\n",
    "    fig.add_trace(\n",
    "        go.Scatter(x=df_current[\"ts_event\"], y=df_current[\"mid_price\"], name=\"Mid Price\")\n",
    "    )\n",
    "    fig.update_layout(\n",
    "        title=f\"{scale} Sampling\",\n",
    "        xaxis_title=\"Time\", \n",
    "        yaxis_title=\"Mid Price\"\n",
    "    )\n",
    "    fig.show()\n"
   ]
  },
  {
   "cell_type": "code",
   "execution_count": 80,
   "metadata": {},
   "outputs": [],
   "source": [
    "import numpy as np\n",
    "from scipy.stats import norm\n",
    "from scipy.optimize import curve_fit\n",
    "import matplotlib.pyplot as plt\n",
    "\n",
    "def rational_func(x, a, b, c):\n",
    "    return a / (b + np.power(np.abs(x), c))\n",
    "\n",
    "def plot_hist_with_gaussian(data, title):\n",
    "    data_np = data.to_numpy()\n",
    "    data_clean = data_np[~np.isnan(data_np) & ~np.isinf(data_np)]\n",
    "    mu, std = norm.fit(data_clean)\n",
    "    \n",
    "    plt.figure(figsize=(10, 6))\n",
    "    counts, bins, _ = plt.hist(data_clean, bins='auto', density=True, alpha=0.7)\n",
    "    \n",
    "    x = np.linspace(min(data_clean), max(data_clean), 100)\n",
    "    y = norm.pdf(x, mu, std)\n",
    "    plt.plot(x, y, 'r-', lw=2, label=f'Gaussian fit (μ={mu:.3f}, σ={std:.3f})')\n",
    "    \n",
    "    # Fit rational function to the positive side of the distribution\n",
    "    bin_centers = (bins[:-1] + bins[1:]) / 2\n",
    "    mask = (bin_centers > 0) & (counts > 0)\n",
    "    if np.any(mask):\n",
    "        popt, _ = curve_fit(rational_func, bin_centers[mask], counts[mask], p0=[1, 1, 2])\n",
    "        x_rational = np.linspace(max(min(data_clean), 0.01), max(data_clean), 100)\n",
    "        y_rational = rational_func(x_rational, *popt)\n",
    "        plt.plot(x_rational, y_rational, 'k-', lw=2, label=f'Rational fit (a={popt[0]:.3f}, b={popt[1]:.3f}, c={popt[2]:.3f})')\n",
    "    \n",
    "    plt.title(title)\n",
    "    plt.xlabel('Spread Variation')\n",
    "    plt.ylabel('Density')\n",
    "    plt.legend()\n",
    "    plt.grid(True, alpha=0.3)\n",
    "    plt.show()\n",
    "    plt.savefig(f\"/home/janis/HFTP2/HFT/results/hurst/plots/{stock}_{scale}_returns_histogram.png\")\n"
   ]
  },
  {
   "cell_type": "code",
   "execution_count": null,
   "metadata": {},
   "outputs": [],
   "source": [
    "for scale in time_scales:\n",
    "    df_current = dfs[scale]\n",
    "    title = f\"Histogram of spread Variations - {scale} Sampling\"\n",
    "    plot_hist_with_gaussian(df_current[\"tick_variation\"], title)\n"
   ]
  },
  {
   "cell_type": "code",
   "execution_count": null,
   "metadata": {},
   "outputs": [],
   "source": []
  }
 ],
 "metadata": {
  "kernelspec": {
   "display_name": ".venv",
   "language": "python",
   "name": "python3"
  },
  "language_info": {
   "codemirror_mode": {
    "name": "ipython",
    "version": 3
   },
   "file_extension": ".py",
   "mimetype": "text/x-python",
   "name": "python",
   "nbconvert_exporter": "python",
   "pygments_lexer": "ipython3",
   "version": "3.12.7"
  }
 },
 "nbformat": 4,
 "nbformat_minor": 2
}
