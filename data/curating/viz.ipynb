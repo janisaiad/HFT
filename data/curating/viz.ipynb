{
 "cells": [
  {
   "cell_type": "code",
   "execution_count": 63,
   "metadata": {},
   "outputs": [],
   "source": [
    "import polars as pl\n",
    "import plotly.graph_objects as go\n",
    "import os"
   ]
  },
  {
   "cell_type": "code",
   "execution_count": null,
   "metadata": {},
   "outputs": [],
   "source": [
    "\n",
    "# day_list = [\"2024-08-05\",\"2024-08-06\"]#,\"2024-08-07\"] # ,\"2023-07-20\",\"2023-07-21\", \"2023-07-24\", \"2023-07-25\", \"2023-07-26\", \"2023-07-27\", \"2023-07-28\"]\n",
    "stock = \"YMM\"\n",
    "day_list = sorted(os.listdir(f\"/home/janis/EAP1/HFT_QR_RL/data/smash4/DB_MBP_10/{stock}/\"))[:2]\n",
    "print(day_list)"
   ]
  },
  {
   "cell_type": "code",
   "execution_count": 103,
   "metadata": {},
   "outputs": [],
   "source": [
    "df = pl.concat([\n",
    "    df for df in [\n",
    "        pl.read_parquet(f\"/home/janis/EAP1/HFT_QR_RL/data/smash4/DB_MBP_10/{stock}/{day}\")\n",
    "        for day in day_list\n",
    "    ] if df.width >=10\n",
    "])"
   ]
  },
  {
   "cell_type": "markdown",
   "metadata": {},
   "source": [
    "Tri heure"
   ]
  },
  {
   "cell_type": "code",
   "execution_count": 99,
   "metadata": {},
   "outputs": [],
   "source": [
    "start_hour = 9\n",
    "end_hour = 16"
   ]
  },
  {
   "cell_type": "code",
   "execution_count": 100,
   "metadata": {},
   "outputs": [],
   "source": [
    "df = df.filter((pl.col(\"ts_event\").dt.hour() >= start_hour) & \n",
    "               (pl.col(\"ts_event\").dt.hour() < end_hour) &\n",
    "               ((pl.col(\"ts_event\").dt.hour() != start_hour) | (pl.col(\"ts_event\").dt.minute() >= 30)))\n"
   ]
  },
  {
   "cell_type": "markdown",
   "metadata": {},
   "source": [
    "> A NE PAS RUN"
   ]
  },
  {
   "cell_type": "code",
   "execution_count": 54,
   "metadata": {},
   "outputs": [],
   "source": [
    "df = df.filter(\n",
    "    (pl.col(\"ts_event\").dt.date().cast(pl.Utf8).is_in(day_list[:-1]) & (pl.col(\"ts_event\").dt.hour() == end_hour)) |\n",
    "    (pl.col(\"ts_event\").dt.date().cast(pl.Utf8).is_in(day_list[1:]) & (pl.col(\"ts_event\").dt.hour() == start_hour))\n",
    ")"
   ]
  },
  {
   "cell_type": "code",
   "execution_count": null,
   "metadata": {},
   "outputs": [],
   "source": [
    "num_entries_by_publisher = df.group_by(\"publisher_id\").len().sort(\"len\", descending=True)\n",
    "num_entries_by_publisher.head(10)"
   ]
  },
  {
   "cell_type": "code",
   "execution_count": 106,
   "metadata": {},
   "outputs": [],
   "source": [
    "\n",
    "df= df.filter(pl.col(\"publisher_id\") == 41)"
   ]
  },
  {
   "cell_type": "code",
   "execution_count": null,
   "metadata": {},
   "outputs": [],
   "source": [
    "\n",
    "# Create figure\n",
    "fig = go.Figure()\n",
    "\n",
    "# Add best bid line\n",
    "fig.add_trace(go.Scatter(\n",
    "    x=df['ts_event'],\n",
    "    y=df['bid_px_00'],\n",
    "    mode='lines',\n",
    "    name='Best Bid',\n",
    "    line=dict(color='blue')\n",
    "))\n",
    "\n",
    "# Add best ask line  \n",
    "fig.add_trace(go.Scatter(\n",
    "    x=df['ts_event'], \n",
    "    y=df['ask_px_00'],\n",
    "    mode='lines',\n",
    "    name='Best Ask',\n",
    "    line=dict(color='red')\n",
    "))\n",
    "\n",
    "\n",
    "# Update layout\n",
    "fig.update_layout(\n",
    "    title='Order Book and bid/ask',\n",
    "    xaxis_title='Time',\n",
    "    yaxis_title='Price',\n",
    "    showlegend=True\n",
    ")\n",
    "\n",
    "fig.show()\n",
    "\n"
   ]
  },
  {
   "cell_type": "code",
   "execution_count": null,
   "metadata": {},
   "outputs": [],
   "source": []
  },
  {
   "cell_type": "code",
   "execution_count": null,
   "metadata": {},
   "outputs": [],
   "source": []
  },
  {
   "cell_type": "code",
   "execution_count": null,
   "metadata": {},
   "outputs": [],
   "source": []
  },
  {
   "cell_type": "code",
   "execution_count": null,
   "metadata": {},
   "outputs": [],
   "source": []
  },
  {
   "cell_type": "code",
   "execution_count": null,
   "metadata": {},
   "outputs": [],
   "source": []
  }
 ],
 "metadata": {
  "kernelspec": {
   "display_name": ".venv",
   "language": "python",
   "name": "python3"
  },
  "language_info": {
   "codemirror_mode": {
    "name": "ipython",
    "version": 3
   },
   "file_extension": ".py",
   "mimetype": "text/x-python",
   "name": "python",
   "nbconvert_exporter": "python",
   "pygments_lexer": "ipython3",
   "version": "3.12.7"
  }
 },
 "nbformat": 4,
 "nbformat_minor": 2
}
