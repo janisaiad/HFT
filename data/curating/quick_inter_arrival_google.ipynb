{
 "cells": [
  {
   "cell_type": "markdown",
   "id": "0dc7285c",
   "metadata": {},
   "source": [
    "jupyter:\n",
    "  jupytext:\n",
    "    text_representation:\n",
    "      extension: .py\n",
    "      format_name: percent\n",
    "      format_version: '1.5'\n",
    "      jupytext_version: 1.16.7\n",
    "  kernelspec:\n",
    "    display_name: .venv\n",
    "    language: python\n",
    "    name: python3\n",
    "---"
   ]
  },
  {
   "cell_type": "code",
   "execution_count": null,
   "id": "10651335",
   "metadata": {},
   "outputs": [],
   "source": [
    "import os\n",
    "import polars as pl\n",
    "import dotenv\n",
    "import numpy as np\n",
    "import matplotlib.pyplot as plt\n",
    "from scipy.optimize import minimize\n",
    "from scipy.stats import norm\n",
    "from tqdm import tqdm"
   ]
  },
  {
   "cell_type": "code",
   "execution_count": null,
   "id": "52d67d7a",
   "metadata": {
    "lines_to_next_cell": 1
   },
   "outputs": [],
   "source": [
    "dotenv.load_dotenv()"
   ]
  },
  {
   "cell_type": "code",
   "execution_count": null,
   "id": "80c23121",
   "metadata": {
    "lines_to_next_cell": 1
   },
   "outputs": [],
   "source": [
    "def hill_estimator(data, k):\n",
    "    \"\"\"Compute Hill estimator for tail index\"\"\"\n",
    "    sorted_data = np.sort(data)[::-1]  # Sort in descending order\n",
    "    if k >= len(sorted_data):\n",
    "        return None\n",
    "    log_ratios = np.log(sorted_data[:k] / sorted_data[k])\n",
    "    return k / np.sum(log_ratios)"
   ]
  },
  {
   "cell_type": "code",
   "execution_count": null,
   "id": "b1470380",
   "metadata": {},
   "outputs": [],
   "source": [
    "# Load GOOGL data\n",
    "df = pl.read_parquet(\"/home/janis/HFTP2/HFT/data/DB_MBP_10/data/hawkes_dataset/GOOGL/GOOGL_2024-08-08.parquet\")"
   ]
  },
  {
   "cell_type": "code",
   "execution_count": null,
   "id": "599086af",
   "metadata": {},
   "outputs": [],
   "source": [
    "# Define counting processes based on the columns\n",
    "counting_processes = {\n",
    "    \"P_a\": df[\"P_a\"],\n",
    "    \"P_b\": df[\"P_b\"],\n",
    "    \"T_a\": df[\"T_a\"],\n",
    "    \"T_b\": df[\"T_b\"], \n",
    "    \"L_a\": df[\"L_a\"],\n",
    "    \"L_b\": df[\"L_b\"],\n",
    "    \"C_a\": df[\"C_a\"],\n",
    "    \"C_b\": df[\"C_b\"]\n",
    "}"
   ]
  },
  {
   "cell_type": "code",
   "execution_count": null,
   "id": "4cc96273",
   "metadata": {},
   "outputs": [],
   "source": [
    "for process_name, events in counting_processes.items():\n",
    "    print(f\"\\nAnalyse du processus {process_name}\")\n",
    "    \n",
    "    # Convert to inter-arrival times\n",
    "    events_np = df[\"ts_event\"].to_numpy()\n",
    "    counts = events.to_numpy()\n",
    "    \n",
    "    if len(events_np) > 1:\n",
    "        start_time = events_np[0]\n",
    "        event_times_sec = (events_np - start_time).astype('timedelta64[ns]').astype(np.float64) / 1e9\n",
    "        \n",
    "        # Get times where count changes\n",
    "        event_indices = np.where(np.diff(counts) != 0)[0] + 1\n",
    "        event_times = event_times_sec[event_indices]\n",
    "        inter_arrival_times = np.diff(event_times)\n",
    "        \n",
    "        # Calculate Hill estimator\n",
    "        k_values = np.arange(10, min(100, len(inter_arrival_times)))\n",
    "        hill_estimates = [hill_estimator(inter_arrival_times, k) for k in k_values]\n",
    "        \n",
    "        print(f\"Nombre d'événements: {len(event_indices)}\")\n",
    "        print(f\"Moyenne estimateur de Hill: {np.mean(hill_estimates):.4f}\")\n",
    "        \n",
    "        # Create plots\n",
    "        plt.figure(figsize=(12, 6))\n",
    "        \n",
    "        # Plot 1: Hill estimator vs k\n",
    "        plt.subplot(1, 2, 1)\n",
    "        plt.plot(k_values, hill_estimates, 'b-', label='Estimateur de Hill')\n",
    "        plt.axhline(y=np.mean(hill_estimates), color='r', linestyle='--',\n",
    "                   label=f'Moyenne α ≈ {np.mean(hill_estimates):.2f}')\n",
    "        plt.xlabel('k')\n",
    "        plt.ylabel('Estimateur de Hill α')\n",
    "        plt.title(f'Estimateur de Hill vs k - {process_name}')\n",
    "        plt.legend()\n",
    "        \n",
    "        # Plot 2: Inter-arrival time distribution\n",
    "        plt.subplot(1, 2, 2)\n",
    "        plt.hist(inter_arrival_times, bins=50, density=True, alpha=0.7)\n",
    "        plt.xlabel('Temps inter-arrivée (s)')\n",
    "        plt.ylabel('Densité')\n",
    "        plt.title(f'Distribution des temps inter-arrivée - {process_name}')\n",
    "        \n",
    "        plt.tight_layout()\n",
    "        plt.savefig(f'inter_arrival_times_analysis_{process_name}.png')\n",
    "        plt.close()\n",
    "    else:\n",
    "        print(f\"Pas assez d'événements pour analyser {process_name}\")"
   ]
  }
 ],
 "metadata": {
  "jupytext": {
   "cell_metadata_filter": "-all",
   "main_language": "python",
   "notebook_metadata_filter": "-all"
  }
 },
 "nbformat": 4,
 "nbformat_minor": 5
}
