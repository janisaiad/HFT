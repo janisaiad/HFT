{
 "cells": [
  {
   "cell_type": "code",
   "execution_count": null,
   "id": "8460a819",
   "metadata": {},
   "outputs": [
    {
     "name": "stderr",
     "output_type": "stream",
     "text": [
      "Python-dotenv could not parse statement starting at line 4\n",
      "Python-dotenv could not parse statement starting at line 5\n",
      "Python-dotenv could not parse statement starting at line 6\n",
      "Python-dotenv could not parse statement starting at line 7\n",
      "Python-dotenv could not parse statement starting at line 8\n",
      "Python-dotenv could not parse statement starting at line 9\n",
      "Python-dotenv could not parse statement starting at line 10\n"
     ]
    }
   ],
   "source": [
    "import os\n",
    "import polars as pl\n",
    "import dotenv\n",
    "from tqdm import tqdm\n",
    "import numpy as np\n",
    "import pandas as pd\n",
    "import matplotlib.pyplot as plt\n",
    "import seaborn as sns\n",
    "from numpy.linalg import eigvalsh # Use eigvalsh for symmetric matrices like correlation matrices\n",
    "\n",
    "# Load environment variables (ensure FOLDER_PATH is set in your .env file)\n",
    "dotenv.load_dotenv()\n",
    "FOLDER_PATH = os.getenv(\"FOLDER_PATH\")\n",
    "\n",
    "if FOLDER_PATH is None:\n",
    "    raise ValueError(\"FOLDER_PATH environment variable not set. Please create a .env file with FOLDER_PATH.\")"
   ]
  },
  {
   "cell_type": "code",
   "execution_count": null,
   "id": "d04c33a1",
   "metadata": {},
   "outputs": [
    {
     "name": "stdout",
     "output_type": "stream",
     "text": [
      "Found 47 potential stock folders.\n",
      "Scanning stock directories for parquet files...\n"
     ]
    },
    {
     "name": "stderr",
     "output_type": "stream",
     "text": [
      "100%|██████████| 47/47 [00:00<00:00, 1982.32it/s]"
     ]
    },
    {
     "name": "stdout",
     "output_type": "stream",
     "text": [
      "Warning: Skipping file with unexpected name format: UA_2024-06-24_dbeq-basic.parquet\n",
      "Warning: Skipping file with unexpected name format: UA_2024-06-25_dbeq-basic.parquet\n",
      "Warning: Skipping file with unexpected name format: UA_2024-06-26_dbeq-basic.parquet\n",
      "Warning: Skipping file with unexpected name format: UA_2024-06-27_dbeq-basic.parquet\n",
      "Warning: Skipping file with unexpected name format: UA_2024-06-28_dbeq-basic.parquet\n",
      "Warning: Skipping file with unexpected name format: UA_2024-07-01_dbeq-basic.parquet\n",
      "Warning: Skipping file with unexpected name format: UA_2024-07-02_dbeq-basic.parquet\n",
      "Warning: Skipping file with unexpected name format: UA_2024-07-03_dbeq-basic.parquet\n",
      "Warning: Skipping file with unexpected name format: UA_2024-07-05_dbeq-basic.parquet\n",
      "Warning: Skipping file with unexpected name format: UA_2024-07-08_dbeq-basic.parquet\n",
      "Warning: Skipping file with unexpected name format: UA_2024-07-09_dbeq-basic.parquet\n",
      "Warning: Skipping file with unexpected name format: UA_2024-07-10_dbeq-basic.parquet\n",
      "Warning: Skipping file with unexpected name format: UA_2024-07-11_dbeq-basic.parquet\n",
      "Warning: Skipping file with unexpected name format: UA_2024-07-12_dbeq-basic.parquet\n",
      "Warning: Skipping file with unexpected name format: UA_2024-07-15_dbeq-basic.parquet\n",
      "Warning: Skipping file with unexpected name format: UA_2024-07-16_dbeq-basic.parquet\n",
      "Warning: Skipping file with unexpected name format: UA_2024-07-17_dbeq-basic.parquet\n",
      "Warning: Skipping file with unexpected name format: UA_2024-07-18_dbeq-basic.parquet\n",
      "Warning: Skipping file with unexpected name format: UA_2024-07-19_dbeq-basic.parquet\n",
      "Warning: Skipping file with unexpected name format: UA_2024-07-22_dbeq-basic.parquet\n",
      "Warning: Skipping file with unexpected name format: UA_2024-07-23_dbeq-basic.parquet\n",
      "Warning: Skipping file with unexpected name format: UA_2024-07-24_dbeq-basic.parquet\n",
      "Warning: Skipping file with unexpected name format: UA_2024-07-25_dbeq-basic.parquet\n",
      "Warning: Skipping file with unexpected name format: UA_2024-07-26_dbeq-basic.parquet\n",
      "Warning: Skipping file with unexpected name format: UA_2024-07-29_dbeq-basic.parquet\n",
      "Warning: Skipping file with unexpected name format: UA_2024-07-30_dbeq-basic.parquet\n",
      "Warning: Skipping file with unexpected name format: UA_2024-07-31_dbeq-basic.parquet\n",
      "Warning: Skipping file with unexpected name format: UA_2024-08-01_dbeq-basic.parquet\n",
      "Warning: Skipping file with unexpected name format: UA_2024-08-02_dbeq-basic.parquet\n",
      "Warning: Skipping file with unexpected name format: UA_2024-08-05_dbeq-basic.parquet\n",
      "Warning: Skipping file with unexpected name format: UA_2024-08-06_dbeq-basic.parquet\n",
      "Warning: Skipping file with unexpected name format: UA_2024-08-07_dbeq-basic.parquet\n",
      "Warning: Skipping file with unexpected name format: UA_2024-08-08_dbeq-basic.parquet\n",
      "Warning: Skipping file with unexpected name format: UA_2024-08-09_dbeq-basic.parquet\n",
      "Warning: Skipping file with unexpected name format: UA_2024-08-12_dbeq-basic.parquet\n",
      "Warning: Skipping file with unexpected name format: UA_2024-08-13_dbeq-basic.parquet\n",
      "Warning: Skipping file with unexpected name format: UA_2024-08-14_dbeq-basic.parquet\n",
      "Warning: Skipping file with unexpected name format: UA_2024-08-15_dbeq-basic.parquet\n",
      "Warning: Skipping file with unexpected name format: UA_2024-08-16_dbeq-basic.parquet\n",
      "Warning: Skipping file with unexpected name format: UA_2024-08-19_dbeq-basic.parquet\n",
      "Warning: Skipping file with unexpected name format: UA_2024-08-20_dbeq-basic.parquet\n",
      "Warning: Skipping file with unexpected name format: UA_2024-08-21_dbeq-basic.parquet\n",
      "Warning: Skipping file with unexpected name format: UA_2024-08-22_dbeq-basic.parquet\n",
      "Warning: Skipping file with unexpected name format: UA_2024-08-23_dbeq-basic.parquet\n",
      "Warning: Skipping file with unexpected name format: UA_2024-08-26_dbeq-basic.parquet\n",
      "Warning: Skipping file with unexpected name format: UA_2024-08-27_dbeq-basic.parquet\n",
      "Warning: Skipping file with unexpected name format: UA_2024-08-28_dbeq-basic.parquet\n",
      "Warning: Skipping file with unexpected name format: UA_2024-08-29_dbeq-basic.parquet\n",
      "Warning: Skipping file with unexpected name format: UA_2024-08-30_dbeq-basic.parquet\n",
      "Warning: Skipping file with unexpected name format: UA_2024-09-03_dbeq-basic.parquet\n",
      "Warning: Skipping file with unexpected name format: UA_2024-09-04_dbeq-basic.parquet\n",
      "Warning: Skipping file with unexpected name format: UA_2024-09-05_dbeq-basic.parquet\n",
      "Warning: Skipping file with unexpected name format: UA_2024-09-06_dbeq-basic.parquet\n",
      "Warning: Skipping file with unexpected name format: UA_2024-09-09_dbeq-basic.parquet\n",
      "Warning: Skipping file with unexpected name format: UA_2024-09-10_dbeq-basic.parquet\n",
      "Warning: Skipping file with unexpected name format: UA_2024-09-11_dbeq-basic.parquet\n",
      "Warning: Skipping file with unexpected name format: UA_2024-09-12_dbeq-basic.parquet\n",
      "Warning: Skipping file with unexpected name format: UA_2024-09-13_dbeq-basic.parquet\n",
      "Warning: Skipping file with unexpected name format: UA_2024-09-16_dbeq-basic.parquet\n",
      "Warning: Skipping file with unexpected name format: UA_2024-09-17_dbeq-basic.parquet\n",
      "Warning: Skipping file with unexpected name format: UA_2024-09-18_dbeq-basic.parquet\n",
      "Warning: Skipping file with unexpected name format: UA_2024-09-19_dbeq-basic.parquet\n",
      "Warning: Skipping file with unexpected name format: UA_2024-09-20_dbeq-basic.parquet\n",
      "Warning: Skipping file with unexpected name format: UA_2024-09-23_dbeq-basic.parquet\n",
      "Warning: Skipping file with unexpected name format: CGAU_2024-06-24_dbeq-basic.parquet\n",
      "Warning: Skipping file with unexpected name format: CGAU_2024-06-25_dbeq-basic.parquet\n",
      "Warning: Skipping file with unexpected name format: CGAU_2024-06-26_dbeq-basic.parquet\n",
      "Warning: Skipping file with unexpected name format: CGAU_2024-06-27_dbeq-basic.parquet\n",
      "Warning: Skipping file with unexpected name format: CGAU_2024-06-28_dbeq-basic.parquet\n",
      "Warning: Skipping file with unexpected name format: CGAU_2024-07-01_dbeq-basic.parquet\n",
      "Warning: Skipping file with unexpected name format: CGAU_2024-07-02_dbeq-basic.parquet\n",
      "Warning: Skipping file with unexpected name format: CGAU_2024-07-03_dbeq-basic.parquet\n",
      "Warning: Skipping file with unexpected name format: CGAU_2024-07-05_dbeq-basic.parquet\n",
      "Warning: Skipping file with unexpected name format: CGAU_2024-07-08_dbeq-basic.parquet\n",
      "Warning: Skipping file with unexpected name format: CGAU_2024-07-09_dbeq-basic.parquet\n",
      "Warning: Skipping file with unexpected name format: CGAU_2024-07-10_dbeq-basic.parquet\n",
      "Warning: Skipping file with unexpected name format: CGAU_2024-07-11_dbeq-basic.parquet\n",
      "Warning: Skipping file with unexpected name format: CGAU_2024-07-12_dbeq-basic.parquet\n",
      "Warning: Skipping file with unexpected name format: CGAU_2024-07-15_dbeq-basic.parquet\n",
      "Warning: Skipping file with unexpected name format: CGAU_2024-07-16_dbeq-basic.parquet\n",
      "Warning: Skipping file with unexpected name format: CGAU_2024-07-17_dbeq-basic.parquet\n",
      "Warning: Skipping file with unexpected name format: CGAU_2024-07-18_dbeq-basic.parquet\n",
      "Warning: Skipping file with unexpected name format: CGAU_2024-07-19_dbeq-basic.parquet\n",
      "Warning: Skipping file with unexpected name format: CGAU_2024-07-22_dbeq-basic.parquet\n",
      "Warning: Skipping file with unexpected name format: CGAU_2024-07-23_dbeq-basic.parquet\n",
      "Warning: Skipping file with unexpected name format: CGAU_2024-07-24_dbeq-basic.parquet\n",
      "Warning: Skipping file with unexpected name format: CGAU_2024-07-25_dbeq-basic.parquet\n",
      "Warning: Skipping file with unexpected name format: CGAU_2024-07-26_dbeq-basic.parquet\n",
      "Warning: Skipping file with unexpected name format: CGAU_2024-07-29_dbeq-basic.parquet\n",
      "Warning: Skipping file with unexpected name format: CGAU_2024-07-30_dbeq-basic.parquet\n",
      "Warning: Skipping file with unexpected name format: CGAU_2024-07-31_dbeq-basic.parquet\n",
      "Warning: Skipping file with unexpected name format: CGAU_2024-08-01_dbeq-basic.parquet\n",
      "Warning: Skipping file with unexpected name format: CGAU_2024-08-02_dbeq-basic.parquet\n",
      "Warning: Skipping file with unexpected name format: CGAU_2024-08-05_dbeq-basic.parquet\n",
      "Warning: Skipping file with unexpected name format: CGAU_2024-08-06_dbeq-basic.parquet\n",
      "Warning: Skipping file with unexpected name format: CGAU_2024-08-07_dbeq-basic.parquet\n",
      "Warning: Skipping file with unexpected name format: CGAU_2024-08-08_dbeq-basic.parquet\n",
      "Warning: Skipping file with unexpected name format: CGAU_2024-08-09_dbeq-basic.parquet\n",
      "Warning: Skipping file with unexpected name format: CGAU_2024-08-12_dbeq-basic.parquet\n",
      "Warning: Skipping file with unexpected name format: CGAU_2024-08-13_dbeq-basic.parquet\n",
      "Warning: Skipping file with unexpected name format: CGAU_2024-08-14_dbeq-basic.parquet\n",
      "Warning: Skipping file with unexpected name format: CGAU_2024-08-15_dbeq-basic.parquet\n",
      "Warning: Skipping file with unexpected name format: CGAU_2024-08-16_dbeq-basic.parquet\n",
      "Warning: Skipping file with unexpected name format: CGAU_2024-08-19_dbeq-basic.parquet\n",
      "Warning: Skipping file with unexpected name format: CGAU_2024-08-20_dbeq-basic.parquet\n",
      "Warning: Skipping file with unexpected name format: CGAU_2024-08-21_dbeq-basic.parquet\n",
      "Warning: Skipping file with unexpected name format: CGAU_2024-08-22_dbeq-basic.parquet\n",
      "Warning: Skipping file with unexpected name format: CGAU_2024-08-23_dbeq-basic.parquet\n",
      "Warning: Skipping file with unexpected name format: CGAU_2024-08-26_dbeq-basic.parquet\n",
      "Warning: Skipping file with unexpected name format: CGAU_2024-08-27_dbeq-basic.parquet\n",
      "Warning: Skipping file with unexpected name format: CGAU_2024-08-28_dbeq-basic.parquet\n",
      "Warning: Skipping file with unexpected name format: CGAU_2024-08-29_dbeq-basic.parquet\n",
      "Warning: Skipping file with unexpected name format: CGAU_2024-08-30_dbeq-basic.parquet\n",
      "Warning: Skipping file with unexpected name format: CGAU_2024-09-03_dbeq-basic.parquet\n",
      "Warning: Skipping file with unexpected name format: CGAU_2024-09-04_dbeq-basic.parquet\n",
      "Warning: Skipping file with unexpected name format: CGAU_2024-09-05_dbeq-basic.parquet\n",
      "Warning: Skipping file with unexpected name format: CGAU_2024-09-06_dbeq-basic.parquet\n",
      "Warning: Skipping file with unexpected name format: CGAU_2024-09-09_dbeq-basic.parquet\n",
      "Warning: Skipping file with unexpected name format: CGAU_2024-09-10_dbeq-basic.parquet\n",
      "Warning: Skipping file with unexpected name format: CGAU_2024-09-11_dbeq-basic.parquet\n",
      "Warning: Skipping file with unexpected name format: CGAU_2024-09-12_dbeq-basic.parquet\n",
      "Warning: Skipping file with unexpected name format: CGAU_2024-09-13_dbeq-basic.parquet\n",
      "Warning: Skipping file with unexpected name format: CGAU_2024-09-16_dbeq-basic.parquet\n",
      "Warning: Skipping file with unexpected name format: CGAU_2024-09-17_dbeq-basic.parquet\n",
      "Warning: Skipping file with unexpected name format: CGAU_2024-09-18_dbeq-basic.parquet\n",
      "Warning: Skipping file with unexpected name format: CGAU_2024-09-19_dbeq-basic.parquet\n",
      "Warning: Skipping file with unexpected name format: CGAU_2024-09-20_dbeq-basic.parquet\n",
      "Warning: Skipping file with unexpected name format: CGAU_2024-09-23_dbeq-basic.parquet\n",
      "Warning: Skipping file with unexpected name format: IEP_2023-07-17_xnas-itch.parquet\n",
      "Warning: Skipping file with unexpected name format: IEP_2023-07-18_xnas-itch.parquet\n",
      "Warning: Skipping file with unexpected name format: IEP_2023-07-19_xnas-itch.parquet\n",
      "Warning: Skipping file with unexpected name format: IEP_2023-07-20_xnas-itch.parquet\n",
      "Warning: Skipping file with unexpected name format: IEP_2023-07-21_xnas-itch.parquet\n",
      "Warning: Skipping file with unexpected name format: IEP_2023-07-24_xnas-itch.parquet\n",
      "Warning: Skipping file with unexpected name format: IEP_2023-07-25_xnas-itch.parquet\n",
      "Warning: Skipping file with unexpected name format: IEP_2023-07-26_xnas-itch.parquet\n",
      "Warning: Skipping file with unexpected name format: IEP_2023-07-27_xnas-itch.parquet\n",
      "Warning: Skipping file with unexpected name format: IEP_2023-07-28_xnas-itch.parquet\n",
      "Warning: Skipping file with unexpected name format: IEP_2023-07-31_xnas-itch.parquet\n",
      "Warning: Skipping file with unexpected name format: IEP_2023-08-01_xnas-itch.parquet\n",
      "Warning: Skipping file with unexpected name format: IEP_2023-08-02_xnas-itch.parquet\n",
      "Warning: Skipping file with unexpected name format: IEP_2023-08-03_xnas-itch.parquet\n",
      "Warning: Skipping file with unexpected name format: IEP_2023-08-04_xnas-itch.parquet\n",
      "Warning: Skipping file with unexpected name format: IEP_2023-08-07_xnas-itch.parquet\n",
      "Warning: Skipping file with unexpected name format: IEP_2023-08-08_xnas-itch.parquet\n",
      "Warning: Skipping file with unexpected name format: IEP_2023-08-09_xnas-itch.parquet\n",
      "Warning: Skipping file with unexpected name format: IEP_2023-08-10_xnas-itch.parquet\n",
      "Warning: Skipping file with unexpected name format: IEP_2023-08-11_xnas-itch.parquet\n",
      "Warning: Skipping file with unexpected name format: IEP_2023-08-14_xnas-itch.parquet\n",
      "Warning: Skipping file with unexpected name format: IEP_2023-08-15_xnas-itch.parquet\n",
      "Warning: Skipping file with unexpected name format: IEP_2023-08-16_xnas-itch.parquet\n",
      "Warning: Skipping file with unexpected name format: IEP_2023-08-17_xnas-itch.parquet\n",
      "Warning: Skipping file with unexpected name format: IEP_2023-08-18_xnas-itch.parquet\n",
      "Warning: Skipping file with unexpected name format: IEP_2023-08-21_xnas-itch.parquet\n",
      "Warning: Skipping file with unexpected name format: IEP_2023-08-22_xnas-itch.parquet\n",
      "Warning: Skipping file with unexpected name format: IEP_2023-08-23_xnas-itch.parquet\n",
      "Warning: Skipping file with unexpected name format: IEP_2023-08-24_xnas-itch.parquet\n",
      "Warning: Skipping file with unexpected name format: IEP_2023-08-25_xnas-itch.parquet\n",
      "Warning: Skipping file with unexpected name format: IEP_2023-08-28_xnas-itch.parquet\n",
      "Warning: Skipping file with unexpected name format: IEP_2023-08-29_xnas-itch.parquet\n",
      "Warning: Skipping file with unexpected name format: IEP_2023-08-30_xnas-itch.parquet\n",
      "Warning: Skipping file with unexpected name format: IEP_2023-08-31_xnas-itch.parquet\n",
      "Warning: Skipping file with unexpected name format: IEP_2023-09-01_xnas-itch.parquet\n",
      "Warning: Skipping file with unexpected name format: IEP_2023-09-05_xnas-itch.parquet\n",
      "Warning: Skipping file with unexpected name format: IEP_2023-09-06_xnas-itch.parquet\n",
      "Warning: Skipping file with unexpected name format: IEP_2023-09-07_xnas-itch.parquet\n",
      "Warning: Skipping file with unexpected name format: IEP_2023-09-08_xnas-itch.parquet\n",
      "Warning: Skipping file with unexpected name format: IEP_2023-09-11_xnas-itch.parquet\n",
      "Warning: Skipping file with unexpected name format: IEP_2023-09-12_xnas-itch.parquet\n",
      "Warning: Skipping file with unexpected name format: IEP_2023-09-13_xnas-itch.parquet\n",
      "Warning: Skipping file with unexpected name format: IEP_2023-09-14_xnas-itch.parquet\n",
      "Warning: Skipping file with unexpected name format: IEP_2023-09-15_xnas-itch.parquet\n",
      "Warning: Skipping file with unexpected name format: IEP_2023-09-18_xnas-itch.parquet\n",
      "Warning: Skipping file with unexpected name format: IEP_2023-09-19_xnas-itch.parquet\n",
      "Warning: Skipping file with unexpected name format: IEP_2023-09-20_xnas-itch.parquet\n",
      "Warning: Skipping file with unexpected name format: IEP_2023-09-21_xnas-itch.parquet\n",
      "Warning: Skipping file with unexpected name format: IEP_2023-09-22_xnas-itch.parquet\n",
      "Warning: Skipping file with unexpected name format: IEP_2023-09-25_xnas-itch.parquet\n",
      "Warning: Skipping file with unexpected name format: IEP_2023-09-26_xnas-itch.parquet\n",
      "Warning: Skipping file with unexpected name format: IEP_2023-09-27_xnas-itch.parquet\n",
      "Warning: Skipping file with unexpected name format: IEP_2023-09-28_xnas-itch.parquet\n",
      "Warning: Skipping file with unexpected name format: IEP_2023-09-29_xnas-itch.parquet\n",
      "Warning: Skipping file with unexpected name format: IEP_2023-10-02_xnas-itch.parquet\n",
      "Warning: Skipping file with unexpected name format: IEP_2023-10-03_xnas-itch.parquet\n",
      "Warning: Skipping file with unexpected name format: IEP_2023-10-04_xnas-itch.parquet\n",
      "Warning: Skipping file with unexpected name format: IEP_2023-10-05_xnas-itch.parquet\n",
      "Warning: Skipping file with unexpected name format: IEP_2023-10-06_xnas-itch.parquet\n",
      "Warning: Skipping file with unexpected name format: IEP_2023-10-09_xnas-itch.parquet\n",
      "Warning: Skipping file with unexpected name format: IEP_2023-10-10_xnas-itch.parquet\n",
      "Warning: Skipping file with unexpected name format: IEP_2023-10-11_xnas-itch.parquet\n",
      "Warning: Skipping file with unexpected name format: IEP_2023-10-12_xnas-itch.parquet\n",
      "Warning: Skipping file with unexpected name format: IEP_2023-10-13_xnas-itch.parquet\n",
      "Warning: Skipping file with unexpected name format: IEP_2023-10-16_xnas-itch.parquet\n",
      "Warning: Skipping file with unexpected name format: IEP_2023-10-17_xnas-itch.parquet\n",
      "Warning: Skipping file with unexpected name format: IEP_2023-10-18_xnas-itch.parquet\n",
      "Warning: Skipping file with unexpected name format: IEP_2023-10-19_xnas-itch.parquet\n",
      "Warning: Skipping file with unexpected name format: IEP_2023-10-20_xnas-itch.parquet\n",
      "Warning: Skipping file with unexpected name format: IEP_2023-10-23_xnas-itch.parquet\n",
      "Warning: Skipping file with unexpected name format: IEP_2023-10-24_xnas-itch.parquet\n",
      "Warning: Skipping file with unexpected name format: IEP_2023-10-25_xnas-itch.parquet\n",
      "Warning: Skipping file with unexpected name format: IEP_2023-10-26_xnas-itch.parquet\n",
      "Warning: Skipping file with unexpected name format: IEP_2023-10-27_xnas-itch.parquet\n",
      "Warning: Skipping file with unexpected name format: IEP_2023-10-30_xnas-itch.parquet\n",
      "Warning: Skipping file with unexpected name format: IEP_2023-10-31_xnas-itch.parquet\n",
      "Warning: Skipping file with unexpected name format: IEP_2023-11-01_xnas-itch.parquet\n",
      "Warning: Skipping file with unexpected name format: IEP_2023-11-02_xnas-itch.parquet\n",
      "Warning: Skipping file with unexpected name format: IEP_2023-11-03_xnas-itch.parquet\n",
      "Warning: Skipping file with unexpected name format: IEP_2023-11-06_xnas-itch.parquet\n",
      "Warning: Skipping file with unexpected name format: IEP_2023-11-07_xnas-itch.parquet\n",
      "Warning: Skipping file with unexpected name format: IEP_2023-11-08_xnas-itch.parquet\n",
      "Warning: Skipping file with unexpected name format: IEP_2023-11-09_xnas-itch.parquet\n",
      "Warning: Skipping file with unexpected name format: IEP_2023-11-10_xnas-itch.parquet\n",
      "Warning: Skipping file with unexpected name format: IEP_2023-11-13_xnas-itch.parquet\n",
      "Warning: Skipping file with unexpected name format: IEP_2023-11-14_xnas-itch.parquet\n",
      "Warning: Skipping file with unexpected name format: IEP_2023-11-15_xnas-itch.parquet\n",
      "Warning: Skipping file with unexpected name format: IEP_2023-11-16_xnas-itch.parquet\n",
      "Warning: Skipping file with unexpected name format: IEP_2023-11-17_xnas-itch.parquet\n",
      "Warning: Skipping file with unexpected name format: IEP_2023-11-20_xnas-itch.parquet\n",
      "Warning: Skipping file with unexpected name format: IEP_2023-11-21_xnas-itch.parquet\n",
      "Warning: Skipping file with unexpected name format: IEP_2023-11-22_xnas-itch.parquet\n",
      "Warning: Skipping file with unexpected name format: IEP_2023-11-24_xnas-itch.parquet\n",
      "Warning: Skipping file with unexpected name format: IEP_2023-11-27_xnas-itch.parquet\n",
      "Warning: Skipping file with unexpected name format: IEP_2023-11-28_xnas-itch.parquet\n",
      "Warning: Skipping file with unexpected name format: IEP_2023-11-29_xnas-itch.parquet\n",
      "Warning: Skipping file with unexpected name format: IEP_2023-11-30_xnas-itch.parquet\n",
      "Warning: Skipping file with unexpected name format: IEP_2023-12-01_xnas-itch.parquet\n",
      "Warning: Skipping file with unexpected name format: IEP_2023-12-04_xnas-itch.parquet\n",
      "Warning: Skipping file with unexpected name format: IEP_2023-12-05_xnas-itch.parquet\n",
      "Warning: Skipping file with unexpected name format: IEP_2023-12-06_xnas-itch.parquet\n",
      "Warning: Skipping file with unexpected name format: IEP_2023-12-07_xnas-itch.parquet\n",
      "Warning: Skipping file with unexpected name format: IEP_2023-12-08_xnas-itch.parquet\n",
      "Warning: Skipping file with unexpected name format: IEP_2023-12-11_xnas-itch.parquet\n",
      "Warning: Skipping file with unexpected name format: IEP_2023-12-12_xnas-itch.parquet\n",
      "Warning: Skipping file with unexpected name format: IEP_2023-12-13_xnas-itch.parquet\n",
      "Warning: Skipping file with unexpected name format: IEP_2023-12-14_xnas-itch.parquet\n",
      "Warning: Skipping file with unexpected name format: IEP_2023-12-15_xnas-itch.parquet\n",
      "Warning: Skipping file with unexpected name format: IEP_2023-12-18_xnas-itch.parquet\n",
      "Warning: Skipping file with unexpected name format: IEP_2023-12-19_xnas-itch.parquet\n",
      "Warning: Skipping file with unexpected name format: IEP_2023-12-20_xnas-itch.parquet\n",
      "Warning: Skipping file with unexpected name format: IEP_2023-12-21_xnas-itch.parquet\n",
      "Warning: Skipping file with unexpected name format: IEP_2023-12-22_xnas-itch.parquet\n",
      "Warning: Skipping file with unexpected name format: IEP_2023-12-26_xnas-itch.parquet\n",
      "Warning: Skipping file with unexpected name format: IEP_2023-12-27_xnas-itch.parquet\n",
      "Warning: Skipping file with unexpected name format: IEP_2023-12-28_xnas-itch.parquet\n",
      "Warning: Skipping file with unexpected name format: IEP_2023-12-29_xnas-itch.parquet\n",
      "Warning: Skipping file with unexpected name format: IEP_2024-01-02_xnas-itch.parquet\n",
      "Warning: Skipping file with unexpected name format: IEP_2024-01-03_xnas-itch.parquet\n",
      "Warning: Skipping file with unexpected name format: IEP_2024-01-04_xnas-itch.parquet\n",
      "Warning: Skipping file with unexpected name format: IEP_2024-01-05_xnas-itch.parquet\n",
      "Warning: Skipping file with unexpected name format: IEP_2024-01-08_xnas-itch.parquet\n",
      "Warning: Skipping file with unexpected name format: IEP_2024-01-09_xnas-itch.parquet\n",
      "Warning: Skipping file with unexpected name format: IEP_2024-01-10_xnas-itch.parquet\n",
      "Warning: Skipping file with unexpected name format: IEP_2024-01-11_xnas-itch.parquet\n",
      "Warning: Skipping file with unexpected name format: IEP_2024-01-12_xnas-itch.parquet\n",
      "Warning: Skipping file with unexpected name format: IEP_2024-01-16_xnas-itch.parquet\n",
      "Warning: Skipping file with unexpected name format: IEP_2024-01-17_xnas-itch.parquet\n",
      "Warning: Skipping file with unexpected name format: IEP_2024-01-18_xnas-itch.parquet\n",
      "Warning: Skipping file with unexpected name format: IEP_2024-01-19_xnas-itch.parquet\n",
      "Warning: Skipping file with unexpected name format: IEP_2024-01-22_xnas-itch.parquet\n",
      "Warning: Skipping file with unexpected name format: IEP_2024-01-23_xnas-itch.parquet\n",
      "Warning: Skipping file with unexpected name format: IEP_2024-01-24_xnas-itch.parquet\n",
      "Warning: Skipping file with unexpected name format: IEP_2024-01-25_xnas-itch.parquet\n",
      "Warning: Skipping file with unexpected name format: IEP_2024-01-26_xnas-itch.parquet\n",
      "Warning: Skipping file with unexpected name format: IEP_2024-01-29_xnas-itch.parquet\n",
      "Warning: Skipping file with unexpected name format: IEP_2024-01-30_xnas-itch.parquet\n",
      "Warning: Skipping file with unexpected name format: IEP_2024-01-31_xnas-itch.parquet\n",
      "Warning: Skipping file with unexpected name format: IEP_2024-02-01_xnas-itch.parquet\n",
      "Warning: Skipping file with unexpected name format: IEP_2024-02-02_xnas-itch.parquet\n",
      "Warning: Skipping file with unexpected name format: IEP_2024-02-05_xnas-itch.parquet\n",
      "Warning: Skipping file with unexpected name format: IEP_2024-02-06_xnas-itch.parquet\n",
      "Warning: Skipping file with unexpected name format: IEP_2024-02-07_xnas-itch.parquet\n",
      "Warning: Skipping file with unexpected name format: IEP_2024-02-08_xnas-itch.parquet\n",
      "Warning: Skipping file with unexpected name format: IEP_2024-02-09_xnas-itch.parquet\n",
      "Warning: Skipping file with unexpected name format: IEP_2024-02-12_xnas-itch.parquet\n",
      "Warning: Skipping file with unexpected name format: IEP_2024-02-13_xnas-itch.parquet\n",
      "Warning: Skipping file with unexpected name format: IEP_2024-02-14_xnas-itch.parquet\n",
      "Warning: Skipping file with unexpected name format: IEP_2024-02-15_xnas-itch.parquet\n",
      "Warning: Skipping file with unexpected name format: IEP_2024-02-16_xnas-itch.parquet\n",
      "Warning: Skipping file with unexpected name format: IEP_2024-02-20_xnas-itch.parquet\n",
      "Warning: Skipping file with unexpected name format: IEP_2024-02-21_xnas-itch.parquet\n",
      "Warning: Skipping file with unexpected name format: IEP_2024-02-22_xnas-itch.parquet\n",
      "Warning: Skipping file with unexpected name format: IEP_2024-02-23_xnas-itch.parquet\n",
      "Warning: Skipping file with unexpected name format: IEP_2024-02-26_xnas-itch.parquet\n",
      "Warning: Skipping file with unexpected name format: IEP_2024-02-27_xnas-itch.parquet\n",
      "Warning: Skipping file with unexpected name format: IEP_2024-02-28_xnas-itch.parquet\n",
      "Warning: Skipping file with unexpected name format: IEP_2024-02-29_xnas-itch.parquet\n",
      "Warning: Skipping file with unexpected name format: IEP_2024-03-01_xnas-itch.parquet\n",
      "Warning: Skipping file with unexpected name format: IEP_2024-03-04_xnas-itch.parquet\n",
      "Warning: Skipping file with unexpected name format: IEP_2024-03-05_xnas-itch.parquet\n",
      "Warning: Skipping file with unexpected name format: IEP_2024-03-06_xnas-itch.parquet\n",
      "Warning: Skipping file with unexpected name format: IEP_2024-03-07_xnas-itch.parquet\n",
      "Warning: Skipping file with unexpected name format: IEP_2024-03-08_xnas-itch.parquet\n",
      "Warning: Skipping file with unexpected name format: IEP_2024-03-11_xnas-itch.parquet\n",
      "Warning: Skipping file with unexpected name format: IEP_2024-03-12_xnas-itch.parquet\n",
      "Warning: Skipping file with unexpected name format: IEP_2024-03-13_xnas-itch.parquet\n",
      "Warning: Skipping file with unexpected name format: IEP_2024-03-14_xnas-itch.parquet\n",
      "Warning: Skipping file with unexpected name format: IEP_2024-03-15_xnas-itch.parquet\n",
      "Warning: Skipping file with unexpected name format: IEP_2024-03-18_xnas-itch.parquet\n",
      "Warning: Skipping file with unexpected name format: IEP_2024-03-19_xnas-itch.parquet\n",
      "Warning: Skipping file with unexpected name format: IEP_2024-03-20_xnas-itch.parquet\n",
      "Warning: Skipping file with unexpected name format: IEP_2024-03-21_xnas-itch.parquet\n",
      "Warning: Skipping file with unexpected name format: IEP_2024-03-22_xnas-itch.parquet\n",
      "Warning: Skipping file with unexpected name format: IEP_2024-03-25_xnas-itch.parquet\n",
      "Warning: Skipping file with unexpected name format: IEP_2024-03-26_xnas-itch.parquet\n",
      "Warning: Skipping file with unexpected name format: IEP_2024-03-27_xnas-itch.parquet\n",
      "Warning: Skipping file with unexpected name format: IEP_2024-03-28_xnas-itch.parquet\n",
      "Warning: Skipping file with unexpected name format: IEP_2024-04-01_xnas-itch.parquet\n",
      "Warning: Skipping file with unexpected name format: IEP_2024-04-02_xnas-itch.parquet\n",
      "Warning: Skipping file with unexpected name format: IEP_2024-04-03_xnas-itch.parquet\n",
      "Warning: Skipping file with unexpected name format: IEP_2024-04-04_xnas-itch.parquet\n",
      "Warning: Skipping file with unexpected name format: IEP_2024-04-05_xnas-itch.parquet\n",
      "Warning: Skipping file with unexpected name format: IEP_2024-04-08_xnas-itch.parquet\n",
      "Warning: Skipping file with unexpected name format: IEP_2024-04-09_xnas-itch.parquet\n",
      "Warning: Skipping file with unexpected name format: IEP_2024-04-10_xnas-itch.parquet\n",
      "Warning: Skipping file with unexpected name format: IEP_2024-04-11_xnas-itch.parquet\n",
      "Warning: Skipping file with unexpected name format: IEP_2024-04-12_xnas-itch.parquet\n",
      "Warning: Skipping file with unexpected name format: IEP_2024-04-15_xnas-itch.parquet\n",
      "Warning: Skipping file with unexpected name format: IEP_2024-04-16_xnas-itch.parquet\n",
      "Warning: Skipping file with unexpected name format: IEP_2024-04-17_xnas-itch.parquet\n",
      "Warning: Skipping file with unexpected name format: IEP_2024-04-18_xnas-itch.parquet\n",
      "Warning: Skipping file with unexpected name format: IEP_2024-04-19_xnas-itch.parquet\n",
      "Warning: Skipping file with unexpected name format: IEP_2024-04-22_xnas-itch.parquet\n",
      "Warning: Skipping file with unexpected name format: IEP_2024-04-23_xnas-itch.parquet\n",
      "Warning: Skipping file with unexpected name format: IEP_2024-04-24_xnas-itch.parquet\n",
      "Warning: Skipping file with unexpected name format: IEP_2024-04-25_xnas-itch.parquet\n",
      "Warning: Skipping file with unexpected name format: IEP_2024-04-26_xnas-itch.parquet\n",
      "Warning: Skipping file with unexpected name format: IEP_2024-04-29_xnas-itch.parquet\n",
      "Warning: Skipping file with unexpected name format: IEP_2024-04-30_xnas-itch.parquet\n",
      "Warning: Skipping file with unexpected name format: IEP_2024-05-01_xnas-itch.parquet\n",
      "Warning: Skipping file with unexpected name format: IEP_2024-05-02_xnas-itch.parquet\n",
      "Warning: Skipping file with unexpected name format: IEP_2024-05-03_xnas-itch.parquet\n",
      "Warning: Skipping file with unexpected name format: IEP_2024-05-06_xnas-itch.parquet\n",
      "Warning: Skipping file with unexpected name format: IEP_2024-05-07_xnas-itch.parquet\n",
      "Warning: Skipping file with unexpected name format: IEP_2024-05-08_xnas-itch.parquet\n",
      "Warning: Skipping file with unexpected name format: IEP_2024-05-09_xnas-itch.parquet\n",
      "Warning: Skipping file with unexpected name format: IEP_2024-05-10_xnas-itch.parquet\n",
      "Warning: Skipping file with unexpected name format: IEP_2024-05-13_xnas-itch.parquet\n",
      "Warning: Skipping file with unexpected name format: IEP_2024-05-14_xnas-itch.parquet\n",
      "Warning: Skipping file with unexpected name format: IEP_2024-05-15_xnas-itch.parquet\n",
      "Warning: Skipping file with unexpected name format: IEP_2024-05-16_xnas-itch.parquet\n",
      "Warning: Skipping file with unexpected name format: IEP_2024-05-17_xnas-itch.parquet\n",
      "Warning: Skipping file with unexpected name format: IEP_2024-05-20_xnas-itch.parquet\n",
      "Warning: Skipping file with unexpected name format: IEP_2024-05-21_xnas-itch.parquet\n",
      "Warning: Skipping file with unexpected name format: IEP_2024-05-22_xnas-itch.parquet\n",
      "Warning: Skipping file with unexpected name format: IEP_2024-05-23_xnas-itch.parquet\n",
      "Warning: Skipping file with unexpected name format: IEP_2024-05-24_xnas-itch.parquet\n",
      "Warning: Skipping file with unexpected name format: IEP_2024-05-28_xnas-itch.parquet\n",
      "Warning: Skipping file with unexpected name format: IEP_2024-05-29_xnas-itch.parquet\n",
      "Warning: Skipping file with unexpected name format: IEP_2024-05-30_xnas-itch.parquet\n",
      "Warning: Skipping file with unexpected name format: IEP_2024-05-31_xnas-itch.parquet\n",
      "Warning: Skipping file with unexpected name format: IEP_2024-06-03_xnas-itch.parquet\n",
      "Warning: Skipping file with unexpected name format: IEP_2024-06-04_xnas-itch.parquet\n",
      "Warning: Skipping file with unexpected name format: IEP_2024-06-05_xnas-itch.parquet\n",
      "Warning: Skipping file with unexpected name format: IEP_2024-06-06_xnas-itch.parquet\n",
      "Warning: Skipping file with unexpected name format: IEP_2024-06-07_xnas-itch.parquet\n",
      "Warning: Skipping file with unexpected name format: IEP_2024-06-10_xnas-itch.parquet\n",
      "Warning: Skipping file with unexpected name format: IEP_2024-06-11_xnas-itch.parquet\n",
      "Warning: Skipping file with unexpected name format: IEP_2024-06-12_xnas-itch.parquet\n",
      "Warning: Skipping file with unexpected name format: IEP_2024-06-13_xnas-itch.parquet\n",
      "Warning: Skipping file with unexpected name format: IEP_2024-06-14_xnas-itch.parquet\n",
      "Warning: Skipping file with unexpected name format: IEP_2024-06-17_xnas-itch.parquet\n",
      "Warning: Skipping file with unexpected name format: IEP_2024-06-18_xnas-itch.parquet\n",
      "Warning: Skipping file with unexpected name format: IEP_2024-06-20_xnas-itch.parquet\n",
      "Warning: Skipping file with unexpected name format: IEP_2024-06-21_xnas-itch.parquet\n",
      "Warning: Skipping file with unexpected name format: IEP_2024-06-24_xnas-itch.parquet\n",
      "Warning: Skipping file with unexpected name format: IEP_2024-06-25_xnas-itch.parquet\n",
      "Warning: Skipping file with unexpected name format: IEP_2024-06-26_xnas-itch.parquet\n",
      "Warning: Skipping file with unexpected name format: IEP_2024-06-27_xnas-itch.parquet\n",
      "Warning: Skipping file with unexpected name format: IEP_2024-06-28_xnas-itch.parquet\n",
      "Warning: Skipping file with unexpected name format: IEP_2024-07-01_xnas-itch.parquet\n",
      "Warning: Skipping file with unexpected name format: IEP_2024-07-02_xnas-itch.parquet\n",
      "Warning: Skipping file with unexpected name format: IEP_2024-07-03_xnas-itch.parquet\n",
      "Warning: Skipping file with unexpected name format: IEP_2024-07-05_xnas-itch.parquet\n",
      "Warning: Skipping file with unexpected name format: IEP_2024-07-08_xnas-itch.parquet\n",
      "Warning: Skipping file with unexpected name format: IEP_2024-07-09_xnas-itch.parquet\n",
      "Warning: Skipping file with unexpected name format: IEP_2024-07-10_xnas-itch.parquet\n",
      "Warning: Skipping file with unexpected name format: IEP_2024-07-11_xnas-itch.parquet\n",
      "Warning: Skipping file with unexpected name format: IEP_2024-07-12_xnas-itch.parquet\n",
      "Warning: Skipping file with unexpected name format: IEP_2024-07-15_xnas-itch.parquet\n",
      "Warning: Skipping file with unexpected name format: IEP_2024-07-16_xnas-itch.parquet\n",
      "Warning: Skipping file with unexpected name format: IEP_2024-07-17_xnas-itch.parquet\n",
      "Warning: Skipping file with unexpected name format: IEP_2024-07-18_xnas-itch.parquet\n",
      "Warning: Skipping file with unexpected name format: IEP_2024-07-19_xnas-itch.parquet\n",
      "Warning: Skipping file with unexpected name format: IEP_2024-07-22_xnas-itch.parquet\n",
      "Warning: Skipping file with unexpected name format: IEP_2024-07-23_xnas-itch.parquet\n",
      "Warning: Skipping file with unexpected name format: IEP_2024-07-24_xnas-itch.parquet\n",
      "Warning: Skipping file with unexpected name format: IEP_2024-07-25_xnas-itch.parquet\n",
      "Warning: Skipping file with unexpected name format: IEP_2024-07-26_xnas-itch.parquet\n",
      "Warning: Skipping file with unexpected name format: IEP_2024-07-29_xnas-itch.parquet\n",
      "Warning: Skipping file with unexpected name format: IEP_2024-07-30_xnas-itch.parquet\n",
      "Warning: Skipping file with unexpected name format: IEP_2024-07-31_xnas-itch.parquet\n",
      "Warning: Skipping file with unexpected name format: IEP_2024-08-01_xnas-itch.parquet\n",
      "Warning: Skipping file with unexpected name format: IEP_2024-08-02_xnas-itch.parquet\n",
      "Warning: Skipping file with unexpected name format: IEP_2024-08-05_xnas-itch.parquet\n",
      "Warning: Skipping file with unexpected name format: IEP_2024-08-06_xnas-itch.parquet\n",
      "Warning: Skipping file with unexpected name format: IEP_2024-08-07_xnas-itch.parquet\n",
      "Warning: Skipping file with unexpected name format: IEP_2024-08-08_xnas-itch.parquet\n",
      "Warning: Skipping file with unexpected name format: IEP_2024-08-09_xnas-itch.parquet\n",
      "Warning: Skipping file with unexpected name format: IEP_2024-08-12_xnas-itch.parquet\n",
      "Warning: Skipping file with unexpected name format: IEP_2024-08-13_xnas-itch.parquet\n",
      "Warning: Skipping file with unexpected name format: IEP_2024-08-14_xnas-itch.parquet\n",
      "Warning: Skipping file with unexpected name format: IEP_2024-08-15_xnas-itch.parquet\n",
      "Warning: Skipping file with unexpected name format: IEP_2024-08-16_xnas-itch.parquet\n",
      "Warning: Skipping file with unexpected name format: IEP_2024-08-19_xnas-itch.parquet\n",
      "Warning: Skipping file with unexpected name format: IEP_2024-08-20_xnas-itch.parquet\n",
      "Warning: Skipping file with unexpected name format: IEP_2024-08-21_xnas-itch.parquet\n",
      "Warning: Skipping file with unexpected name format: IEP_2024-08-22_xnas-itch.parquet\n",
      "Warning: Skipping file with unexpected name format: IEP_2024-08-23_xnas-itch.parquet\n",
      "Warning: Skipping file with unexpected name format: IEP_2024-08-26_xnas-itch.parquet\n",
      "Warning: Skipping file with unexpected name format: IEP_2024-08-27_xnas-itch.parquet\n",
      "Warning: Skipping file with unexpected name format: IEP_2024-08-28_xnas-itch.parquet\n",
      "Warning: Skipping file with unexpected name format: IEP_2024-08-29_xnas-itch.parquet\n",
      "Warning: Skipping file with unexpected name format: IEP_2024-08-30_xnas-itch.parquet\n",
      "Warning: Skipping file with unexpected name format: IEP_2024-09-03_xnas-itch.parquet\n",
      "Warning: Skipping file with unexpected name format: IEP_2024-09-04_xnas-itch.parquet\n",
      "Warning: Skipping file with unexpected name format: IEP_2024-09-05_xnas-itch.parquet\n",
      "Warning: Skipping file with unexpected name format: IEP_2024-09-06_xnas-itch.parquet\n",
      "Warning: Skipping file with unexpected name format: IEP_2024-09-09_xnas-itch.parquet\n",
      "Warning: Skipping file with unexpected name format: IEP_2024-09-10_xnas-itch.parquet\n",
      "Warning: Skipping file with unexpected name format: IEP_2024-09-11_xnas-itch.parquet\n",
      "Warning: Skipping file with unexpected name format: IEP_2024-09-12_xnas-itch.parquet\n",
      "Warning: Skipping file with unexpected name format: IEP_2024-09-13_xnas-itch.parquet\n",
      "Warning: Skipping file with unexpected name format: IEP_2024-09-16_xnas-itch.parquet\n",
      "Warning: Skipping file with unexpected name format: IEP_2024-09-17_xnas-itch.parquet\n",
      "Warning: Skipping file with unexpected name format: IEP_2024-09-18_xnas-itch.parquet\n",
      "Warning: Skipping file with unexpected name format: IEP_2024-09-19_xnas-itch.parquet\n",
      "Warning: Skipping file with unexpected name format: IEP_2024-09-20_xnas-itch.parquet\n",
      "Warning: Skipping file with unexpected name format: IEP_2024-09-23_xnas-itch.parquet\n",
      "Warning: Skipping file with unexpected name format: IEP_2024-09-24_xnas-itch.parquet\n",
      "Warning: Skipping file with unexpected name format: IEP_2024-09-25_xnas-itch.parquet\n",
      "Warning: Skipping file with unexpected name format: IEP_2024-09-26_xnas-itch.parquet\n",
      "Warning: Skipping file with unexpected name format: IEP_2024-09-27_xnas-itch.parquet\n",
      "Warning: Skipping file with unexpected name format: IEP_2024-09-30_xnas-itch.parquet\n",
      "Warning: Skipping file with unexpected name format: IEP_2024-10-01_xnas-itch.parquet\n",
      "Warning: Skipping file with unexpected name format: IEP_2024-10-02_xnas-itch.parquet\n",
      "Warning: Skipping file with unexpected name format: IEP_2024-10-03_xnas-itch.parquet\n",
      "Warning: Skipping file with unexpected name format: IEP_2024-10-04_xnas-itch.parquet\n",
      "Warning: Skipping file with unexpected name format: IEP_2024-10-07_xnas-itch.parquet\n",
      "Warning: Skipping file with unexpected name format: IEP_2024-10-08_xnas-itch.parquet\n",
      "Warning: Skipping file with unexpected name format: IEP_2024-10-09_xnas-itch.parquet\n",
      "Warning: Skipping file with unexpected name format: IEP_2024-10-10_xnas-itch.parquet\n",
      "Warning: Skipping file with unexpected name format: IEP_2024-10-11_xnas-itch.parquet\n",
      "Warning: Skipping file with unexpected name format: IEP_2024-10-14_xnas-itch.parquet\n",
      "Warning: Skipping file with unexpected name format: IEP_2024-10-15_xnas-itch.parquet\n",
      "Warning: Skipping file with unexpected name format: IEP_2024-10-16_xnas-itch.parquet\n",
      "Warning: Skipping file with unexpected name format: IEP_2024-10-17_xnas-itch.parquet\n",
      "Warning: Skipping file with unexpected name format: IEP_2024-10-18_xnas-itch.parquet\n",
      "Warning: Skipping file with unexpected name format: IEP_2024-10-21_xnas-itch.parquet\n",
      "Warning: Skipping file with unexpected name format: IEP_2024-10-22_xnas-itch.parquet\n",
      "Warning: Skipping file with unexpected name format: IEP_2024-10-23_xnas-itch.parquet\n",
      "Warning: Skipping file with unexpected name format: IEP_2024-10-24_xnas-itch.parquet\n",
      "Warning: Skipping file with unexpected name format: IEP_2024-10-25_xnas-itch.parquet\n",
      "Warning: Skipping file with unexpected name format: IEP_2024-10-28_xnas-itch.parquet\n",
      "Warning: Skipping file with unexpected name format: IEP_2024-10-29_xnas-itch.parquet\n",
      "Warning: Skipping file with unexpected name format: IEP_2024-10-30_xnas-itch.parquet\n",
      "Warning: Skipping file with unexpected name format: IEP_2024-10-31_xnas-itch.parquet\n",
      "Warning: Skipping file with unexpected name format: IEP_2024-11-01_xnas-itch.parquet\n",
      "Warning: Skipping file with unexpected name format: IEP_2024-11-04_xnas-itch.parquet\n",
      "Warning: Skipping file with unexpected name format: IEP_2024-11-05_xnas-itch.parquet\n",
      "Warning: Skipping file with unexpected name format: IEP_2024-11-06_xnas-itch.parquet\n",
      "Warning: Skipping file with unexpected name format: IEP_2024-11-07_xnas-itch.parquet\n",
      "Warning: Skipping file with unexpected name format: IEP_2024-11-08_xnas-itch.parquet\n",
      "Warning: Skipping file with unexpected name format: IEP_2024-11-11_xnas-itch.parquet\n",
      "Warning: Skipping file with unexpected name format: IEP_2024-11-12_xnas-itch.parquet\n",
      "Warning: Skipping file with unexpected name format: IEP_2024-11-13_xnas-itch.parquet\n",
      "Warning: Skipping file with unexpected name format: IEP_2024-11-14_xnas-itch.parquet\n",
      "Warning: Skipping file with unexpected name format: IEP_2024-11-15_xnas-itch.parquet\n",
      "Warning: Skipping file with unexpected name format: IEP_2024-11-18_xnas-itch.parquet\n",
      "Warning: Skipping file with unexpected name format: IEP_2024-11-19_xnas-itch.parquet\n",
      "Warning: Skipping file with unexpected name format: IEP_2024-11-20_xnas-itch.parquet\n",
      "Warning: Skipping file with unexpected name format: IEP_2024-11-21_xnas-itch.parquet\n",
      "Warning: Skipping file with unexpected name format: IEP_2024-11-22_xnas-itch.parquet\n",
      "Warning: Skipping file with unexpected name format: IEP_2024-11-25_xnas-itch.parquet\n",
      "Warning: Skipping file with unexpected name format: IEP_2024-11-26_xnas-itch.parquet\n",
      "Warning: Skipping file with unexpected name format: IEP_2024-11-27_xnas-itch.parquet\n",
      "Warning: Skipping file with unexpected name format: IEP_2024-11-29_xnas-itch.parquet\n",
      "Warning: Skipping file with unexpected name format: IEP_2024-12-02_xnas-itch.parquet\n",
      "Warning: Skipping file with unexpected name format: IEP_2024-12-03_xnas-itch.parquet\n",
      "Warning: Skipping file with unexpected name format: IEP_2024-12-04_xnas-itch.parquet\n",
      "Warning: Skipping file with unexpected name format: IEP_2024-12-05_xnas-itch.parquet\n",
      "Warning: Skipping file with unexpected name format: IEP_2024-12-06_xnas-itch.parquet\n",
      "Warning: Skipping file with unexpected name format: IEP_2024-12-09_xnas-itch.parquet\n",
      "Warning: Skipping file with unexpected name format: IEP_2024-12-10_xnas-itch.parquet\n",
      "Warning: Skipping file with unexpected name format: IEP_2024-12-11_xnas-itch.parquet\n",
      "Warning: Skipping file with unexpected name format: IEP_2024-12-12_xnas-itch.parquet\n",
      "Warning: Skipping file with unexpected name format: IEP_2024-12-13_xnas-itch.parquet\n",
      "Warning: Skipping file with unexpected name format: IEP_2024-12-16_xnas-itch.parquet\n",
      "Warning: Skipping file with unexpected name format: APLT_2024-06-24_dbeq-basic.parquet\n",
      "Warning: Skipping file with unexpected name format: APLT_2024-06-25_dbeq-basic.parquet\n",
      "Warning: Skipping file with unexpected name format: APLT_2024-06-26_dbeq-basic.parquet\n",
      "Warning: Skipping file with unexpected name format: APLT_2024-06-27_dbeq-basic.parquet\n",
      "Warning: Skipping file with unexpected name format: APLT_2024-06-28_dbeq-basic.parquet\n",
      "Warning: Skipping file with unexpected name format: APLT_2024-07-01_dbeq-basic.parquet\n",
      "Warning: Skipping file with unexpected name format: APLT_2024-07-02_dbeq-basic.parquet\n",
      "Warning: Skipping file with unexpected name format: APLT_2024-07-03_dbeq-basic.parquet\n",
      "Warning: Skipping file with unexpected name format: APLT_2024-07-05_dbeq-basic.parquet\n",
      "Warning: Skipping file with unexpected name format: APLT_2024-07-08_dbeq-basic.parquet\n",
      "Warning: Skipping file with unexpected name format: APLT_2024-07-09_dbeq-basic.parquet\n",
      "Warning: Skipping file with unexpected name format: APLT_2024-07-10_dbeq-basic.parquet\n",
      "Warning: Skipping file with unexpected name format: APLT_2024-07-11_dbeq-basic.parquet\n",
      "Warning: Skipping file with unexpected name format: APLT_2024-07-12_dbeq-basic.parquet\n",
      "Warning: Skipping file with unexpected name format: APLT_2024-07-15_dbeq-basic.parquet\n",
      "Warning: Skipping file with unexpected name format: APLT_2024-07-16_dbeq-basic.parquet\n",
      "Warning: Skipping file with unexpected name format: APLT_2024-07-17_dbeq-basic.parquet\n",
      "Warning: Skipping file with unexpected name format: APLT_2024-07-18_dbeq-basic.parquet\n",
      "Warning: Skipping file with unexpected name format: APLT_2024-07-19_dbeq-basic.parquet\n",
      "Warning: Skipping file with unexpected name format: APLT_2024-07-22_dbeq-basic.parquet\n",
      "Warning: Skipping file with unexpected name format: APLT_2024-07-23_dbeq-basic.parquet\n",
      "Warning: Skipping file with unexpected name format: APLT_2024-07-24_dbeq-basic.parquet\n",
      "Warning: Skipping file with unexpected name format: APLT_2024-07-25_dbeq-basic.parquet\n",
      "Warning: Skipping file with unexpected name format: APLT_2024-07-26_dbeq-basic.parquet\n",
      "Warning: Skipping file with unexpected name format: APLT_2024-07-29_dbeq-basic.parquet\n",
      "Warning: Skipping file with unexpected name format: APLT_2024-07-30_dbeq-basic.parquet\n",
      "Warning: Skipping file with unexpected name format: APLT_2024-07-31_dbeq-basic.parquet\n",
      "Warning: Skipping file with unexpected name format: APLT_2024-08-01_dbeq-basic.parquet\n",
      "Warning: Skipping file with unexpected name format: APLT_2024-08-02_dbeq-basic.parquet\n",
      "Warning: Skipping file with unexpected name format: APLT_2024-08-05_dbeq-basic.parquet\n",
      "Warning: Skipping file with unexpected name format: APLT_2024-08-06_dbeq-basic.parquet\n",
      "Warning: Skipping file with unexpected name format: APLT_2024-08-07_dbeq-basic.parquet\n",
      "Warning: Skipping file with unexpected name format: APLT_2024-08-08_dbeq-basic.parquet\n",
      "Warning: Skipping file with unexpected name format: APLT_2024-08-09_dbeq-basic.parquet\n",
      "Warning: Skipping file with unexpected name format: APLT_2024-08-12_dbeq-basic.parquet\n",
      "Warning: Skipping file with unexpected name format: APLT_2024-08-13_dbeq-basic.parquet\n",
      "Warning: Skipping file with unexpected name format: APLT_2024-08-14_dbeq-basic.parquet\n",
      "Warning: Skipping file with unexpected name format: APLT_2024-08-15_dbeq-basic.parquet\n",
      "Warning: Skipping file with unexpected name format: APLT_2024-08-16_dbeq-basic.parquet\n",
      "Warning: Skipping file with unexpected name format: APLT_2024-08-19_dbeq-basic.parquet\n",
      "Warning: Skipping file with unexpected name format: APLT_2024-08-20_dbeq-basic.parquet\n",
      "Warning: Skipping file with unexpected name format: APLT_2024-08-21_dbeq-basic.parquet\n",
      "Warning: Skipping file with unexpected name format: APLT_2024-08-22_dbeq-basic.parquet\n",
      "Warning: Skipping file with unexpected name format: APLT_2024-08-23_dbeq-basic.parquet\n",
      "Warning: Skipping file with unexpected name format: APLT_2024-08-26_dbeq-basic.parquet\n",
      "Warning: Skipping file with unexpected name format: APLT_2024-08-27_dbeq-basic.parquet\n",
      "Warning: Skipping file with unexpected name format: APLT_2024-08-28_dbeq-basic.parquet\n",
      "Warning: Skipping file with unexpected name format: APLT_2024-08-29_dbeq-basic.parquet\n",
      "Warning: Skipping file with unexpected name format: APLT_2024-08-30_dbeq-basic.parquet\n",
      "Warning: Skipping file with unexpected name format: APLT_2024-09-03_dbeq-basic.parquet\n",
      "Warning: Skipping file with unexpected name format: APLT_2024-09-04_dbeq-basic.parquet\n",
      "Warning: Skipping file with unexpected name format: APLT_2024-09-05_dbeq-basic.parquet\n",
      "Warning: Skipping file with unexpected name format: APLT_2024-09-06_dbeq-basic.parquet\n",
      "Warning: Skipping file with unexpected name format: APLT_2024-09-09_dbeq-basic.parquet\n",
      "Warning: Skipping file with unexpected name format: APLT_2024-09-10_dbeq-basic.parquet\n",
      "Warning: Skipping file with unexpected name format: APLT_2024-09-11_dbeq-basic.parquet\n",
      "Warning: Skipping file with unexpected name format: APLT_2024-09-12_dbeq-basic.parquet\n",
      "Warning: Skipping file with unexpected name format: APLT_2024-09-13_dbeq-basic.parquet\n",
      "Warning: Skipping file with unexpected name format: APLT_2024-09-16_dbeq-basic.parquet\n",
      "Warning: Skipping file with unexpected name format: APLT_2024-09-17_dbeq-basic.parquet\n",
      "Warning: Skipping file with unexpected name format: APLT_2024-09-18_dbeq-basic.parquet\n",
      "Warning: Skipping file with unexpected name format: APLT_2024-09-19_dbeq-basic.parquet\n",
      "Warning: Skipping file with unexpected name format: APLT_2024-09-20_dbeq-basic.parquet\n",
      "Warning: Skipping file with unexpected name format: APLT_2024-09-23_dbeq-basic.parquet\n",
      "Warning: Skipping file with unexpected name format: ITUB_2024-06-24_dbeq-basic.parquet\n",
      "Warning: Skipping file with unexpected name format: ITUB_2024-06-25_dbeq-basic.parquet\n",
      "Warning: Skipping file with unexpected name format: ITUB_2024-06-26_dbeq-basic.parquet\n",
      "Warning: Skipping file with unexpected name format: ITUB_2024-06-27_dbeq-basic.parquet\n",
      "Warning: Skipping file with unexpected name format: ITUB_2024-06-28_dbeq-basic.parquet\n",
      "Warning: Skipping file with unexpected name format: ITUB_2024-07-01_dbeq-basic.parquet\n",
      "Warning: Skipping file with unexpected name format: ITUB_2024-07-02_dbeq-basic.parquet\n",
      "Warning: Skipping file with unexpected name format: ITUB_2024-07-03_dbeq-basic.parquet\n",
      "Warning: Skipping file with unexpected name format: ITUB_2024-07-05_dbeq-basic.parquet\n",
      "Warning: Skipping file with unexpected name format: ITUB_2024-07-08_dbeq-basic.parquet\n",
      "Warning: Skipping file with unexpected name format: ITUB_2024-07-09_dbeq-basic.parquet\n",
      "Warning: Skipping file with unexpected name format: ITUB_2024-07-10_dbeq-basic.parquet\n",
      "Warning: Skipping file with unexpected name format: ITUB_2024-07-11_dbeq-basic.parquet\n",
      "Warning: Skipping file with unexpected name format: ITUB_2024-07-12_dbeq-basic.parquet\n",
      "Warning: Skipping file with unexpected name format: ITUB_2024-07-15_dbeq-basic.parquet\n",
      "Warning: Skipping file with unexpected name format: ITUB_2024-07-16_dbeq-basic.parquet\n",
      "Warning: Skipping file with unexpected name format: ITUB_2024-07-17_dbeq-basic.parquet\n",
      "Warning: Skipping file with unexpected name format: ITUB_2024-07-18_dbeq-basic.parquet\n",
      "Warning: Skipping file with unexpected name format: ITUB_2024-07-19_dbeq-basic.parquet\n",
      "Warning: Skipping file with unexpected name format: ITUB_2024-07-22_dbeq-basic.parquet\n",
      "Warning: Skipping file with unexpected name format: ITUB_2024-07-23_dbeq-basic.parquet\n",
      "Warning: Skipping file with unexpected name format: ITUB_2024-07-24_dbeq-basic.parquet\n",
      "Warning: Skipping file with unexpected name format: ITUB_2024-07-25_dbeq-basic.parquet\n",
      "Warning: Skipping file with unexpected name format: ITUB_2024-07-26_dbeq-basic.parquet\n",
      "Warning: Skipping file with unexpected name format: ITUB_2024-07-29_dbeq-basic.parquet\n",
      "Warning: Skipping file with unexpected name format: ITUB_2024-07-30_dbeq-basic.parquet\n",
      "Warning: Skipping file with unexpected name format: ITUB_2024-07-31_dbeq-basic.parquet\n",
      "Warning: Skipping file with unexpected name format: ITUB_2024-08-01_dbeq-basic.parquet\n",
      "Warning: Skipping file with unexpected name format: ITUB_2024-08-02_dbeq-basic.parquet\n",
      "Warning: Skipping file with unexpected name format: ITUB_2024-08-05_dbeq-basic.parquet\n",
      "Warning: Skipping file with unexpected name format: ITUB_2024-08-06_dbeq-basic.parquet\n",
      "Warning: Skipping file with unexpected name format: ITUB_2024-08-07_dbeq-basic.parquet\n",
      "Warning: Skipping file with unexpected name format: ITUB_2024-08-08_dbeq-basic.parquet\n",
      "Warning: Skipping file with unexpected name format: ITUB_2024-08-09_dbeq-basic.parquet\n",
      "Warning: Skipping file with unexpected name format: ITUB_2024-08-12_dbeq-basic.parquet\n",
      "Warning: Skipping file with unexpected name format: ITUB_2024-08-13_dbeq-basic.parquet\n",
      "Warning: Skipping file with unexpected name format: ITUB_2024-08-14_dbeq-basic.parquet\n",
      "Warning: Skipping file with unexpected name format: ITUB_2024-08-15_dbeq-basic.parquet\n",
      "Warning: Skipping file with unexpected name format: ITUB_2024-08-16_dbeq-basic.parquet\n",
      "Warning: Skipping file with unexpected name format: ITUB_2024-08-19_dbeq-basic.parquet\n",
      "Warning: Skipping file with unexpected name format: ITUB_2024-08-20_dbeq-basic.parquet\n",
      "Warning: Skipping file with unexpected name format: ITUB_2024-08-21_dbeq-basic.parquet\n",
      "Warning: Skipping file with unexpected name format: ITUB_2024-08-22_dbeq-basic.parquet\n",
      "Warning: Skipping file with unexpected name format: ITUB_2024-08-23_dbeq-basic.parquet\n",
      "Warning: Skipping file with unexpected name format: ITUB_2024-08-26_dbeq-basic.parquet\n",
      "Warning: Skipping file with unexpected name format: ITUB_2024-08-27_dbeq-basic.parquet\n",
      "Warning: Skipping file with unexpected name format: ITUB_2024-08-28_dbeq-basic.parquet\n",
      "Warning: Skipping file with unexpected name format: ITUB_2024-08-29_dbeq-basic.parquet\n",
      "Warning: Skipping file with unexpected name format: ITUB_2024-08-30_dbeq-basic.parquet\n",
      "Warning: Skipping file with unexpected name format: ITUB_2024-09-03_dbeq-basic.parquet\n",
      "Warning: Skipping file with unexpected name format: ITUB_2024-09-04_dbeq-basic.parquet\n",
      "Warning: Skipping file with unexpected name format: ITUB_2024-09-05_dbeq-basic.parquet\n",
      "Warning: Skipping file with unexpected name format: ITUB_2024-09-06_dbeq-basic.parquet\n",
      "Warning: Skipping file with unexpected name format: ITUB_2024-09-09_dbeq-basic.parquet\n",
      "Warning: Skipping file with unexpected name format: ITUB_2024-09-10_dbeq-basic.parquet\n",
      "Warning: Skipping file with unexpected name format: ITUB_2024-09-11_dbeq-basic.parquet\n",
      "Warning: Skipping file with unexpected name format: ITUB_2024-09-12_dbeq-basic.parquet\n",
      "Warning: Skipping file with unexpected name format: ITUB_2024-09-13_dbeq-basic.parquet\n",
      "Warning: Skipping file with unexpected name format: ITUB_2024-09-16_dbeq-basic.parquet\n",
      "Warning: Skipping file with unexpected name format: ITUB_2024-09-17_dbeq-basic.parquet\n",
      "Warning: Skipping file with unexpected name format: ITUB_2024-09-18_dbeq-basic.parquet\n",
      "Warning: Skipping file with unexpected name format: ITUB_2024-09-19_dbeq-basic.parquet\n",
      "Warning: Skipping file with unexpected name format: ITUB_2024-09-20_dbeq-basic.parquet\n",
      "Warning: Skipping file with unexpected name format: ITUB_2024-09-23_dbeq-basic.parquet\n",
      "Warning: Skipping file with unexpected name format: GT_2023-07-17_xnas-itch.parquet\n",
      "Warning: Skipping file with unexpected name format: GT_2023-07-18_xnas-itch.parquet\n",
      "Warning: Skipping file with unexpected name format: GT_2023-07-19_xnas-itch.parquet\n",
      "Warning: Skipping file with unexpected name format: GT_2023-07-20_xnas-itch.parquet\n",
      "Warning: Skipping file with unexpected name format: GT_2023-07-21_xnas-itch.parquet\n",
      "Warning: Skipping file with unexpected name format: GT_2023-07-24_xnas-itch.parquet\n",
      "Warning: Skipping file with unexpected name format: GT_2023-07-25_xnas-itch.parquet\n",
      "Warning: Skipping file with unexpected name format: GT_2023-07-26_xnas-itch.parquet\n",
      "Warning: Skipping file with unexpected name format: GT_2023-07-27_xnas-itch.parquet\n",
      "Warning: Skipping file with unexpected name format: GT_2023-07-28_xnas-itch.parquet\n",
      "Warning: Skipping file with unexpected name format: GT_2023-07-31_xnas-itch.parquet\n",
      "Warning: Skipping file with unexpected name format: GT_2023-08-01_xnas-itch.parquet\n",
      "Warning: Skipping file with unexpected name format: GT_2023-08-02_xnas-itch.parquet\n",
      "Warning: Skipping file with unexpected name format: GT_2023-08-03_xnas-itch.parquet\n",
      "Warning: Skipping file with unexpected name format: GT_2023-08-04_xnas-itch.parquet\n",
      "Warning: Skipping file with unexpected name format: GT_2023-08-07_xnas-itch.parquet\n",
      "Warning: Skipping file with unexpected name format: GT_2023-08-08_xnas-itch.parquet\n",
      "Warning: Skipping file with unexpected name format: GT_2023-08-09_xnas-itch.parquet\n",
      "Warning: Skipping file with unexpected name format: GT_2023-08-10_xnas-itch.parquet\n",
      "Warning: Skipping file with unexpected name format: GT_2023-08-11_xnas-itch.parquet\n",
      "Warning: Skipping file with unexpected name format: GT_2023-08-14_xnas-itch.parquet\n",
      "Warning: Skipping file with unexpected name format: GT_2023-08-15_xnas-itch.parquet\n",
      "Warning: Skipping file with unexpected name format: GT_2023-08-16_xnas-itch.parquet\n",
      "Warning: Skipping file with unexpected name format: GT_2023-08-17_xnas-itch.parquet\n",
      "Warning: Skipping file with unexpected name format: GT_2023-08-18_xnas-itch.parquet\n",
      "Warning: Skipping file with unexpected name format: GT_2023-08-21_xnas-itch.parquet\n",
      "Warning: Skipping file with unexpected name format: GT_2023-08-22_xnas-itch.parquet\n",
      "Warning: Skipping file with unexpected name format: GT_2023-08-23_xnas-itch.parquet\n",
      "Warning: Skipping file with unexpected name format: GT_2023-08-24_xnas-itch.parquet\n",
      "Warning: Skipping file with unexpected name format: GT_2023-08-25_xnas-itch.parquet\n",
      "Warning: Skipping file with unexpected name format: GT_2023-08-28_xnas-itch.parquet\n",
      "Warning: Skipping file with unexpected name format: GT_2023-08-29_xnas-itch.parquet\n",
      "Warning: Skipping file with unexpected name format: GT_2023-08-30_xnas-itch.parquet\n",
      "Warning: Skipping file with unexpected name format: GT_2023-08-31_xnas-itch.parquet\n",
      "Warning: Skipping file with unexpected name format: GT_2023-09-01_xnas-itch.parquet\n",
      "Warning: Skipping file with unexpected name format: GT_2023-09-05_xnas-itch.parquet\n",
      "Warning: Skipping file with unexpected name format: GT_2023-09-06_xnas-itch.parquet\n",
      "Warning: Skipping file with unexpected name format: GT_2023-09-07_xnas-itch.parquet\n",
      "Warning: Skipping file with unexpected name format: GT_2023-09-08_xnas-itch.parquet\n",
      "Warning: Skipping file with unexpected name format: GT_2023-09-11_xnas-itch.parquet\n",
      "Warning: Skipping file with unexpected name format: GT_2023-09-12_xnas-itch.parquet\n",
      "Warning: Skipping file with unexpected name format: GT_2023-09-13_xnas-itch.parquet\n",
      "Warning: Skipping file with unexpected name format: GT_2023-09-14_xnas-itch.parquet\n",
      "Warning: Skipping file with unexpected name format: GT_2023-09-15_xnas-itch.parquet\n",
      "Warning: Skipping file with unexpected name format: GT_2023-09-18_xnas-itch.parquet\n",
      "Warning: Skipping file with unexpected name format: GT_2023-09-19_xnas-itch.parquet\n",
      "Warning: Skipping file with unexpected name format: GT_2023-09-20_xnas-itch.parquet\n",
      "Warning: Skipping file with unexpected name format: GT_2023-09-21_xnas-itch.parquet\n",
      "Warning: Skipping file with unexpected name format: GT_2023-09-22_xnas-itch.parquet\n",
      "Warning: Skipping file with unexpected name format: GT_2023-09-25_xnas-itch.parquet\n",
      "Warning: Skipping file with unexpected name format: GT_2023-09-26_xnas-itch.parquet\n",
      "Warning: Skipping file with unexpected name format: GT_2023-09-27_xnas-itch.parquet\n",
      "Warning: Skipping file with unexpected name format: GT_2023-09-28_xnas-itch.parquet\n",
      "Warning: Skipping file with unexpected name format: GT_2023-09-29_xnas-itch.parquet\n",
      "Warning: Skipping file with unexpected name format: GT_2023-10-02_xnas-itch.parquet\n",
      "Warning: Skipping file with unexpected name format: GT_2023-10-03_xnas-itch.parquet\n",
      "Warning: Skipping file with unexpected name format: GT_2023-10-04_xnas-itch.parquet\n",
      "Warning: Skipping file with unexpected name format: GT_2023-10-05_xnas-itch.parquet\n",
      "Warning: Skipping file with unexpected name format: GT_2023-10-06_xnas-itch.parquet\n",
      "Warning: Skipping file with unexpected name format: GT_2023-10-09_xnas-itch.parquet\n",
      "Warning: Skipping file with unexpected name format: GT_2023-10-10_xnas-itch.parquet\n",
      "Warning: Skipping file with unexpected name format: GT_2023-10-11_xnas-itch.parquet\n",
      "Warning: Skipping file with unexpected name format: GT_2023-10-12_xnas-itch.parquet\n",
      "Warning: Skipping file with unexpected name format: GT_2023-10-13_xnas-itch.parquet\n",
      "Warning: Skipping file with unexpected name format: GT_2023-10-16_xnas-itch.parquet\n",
      "Warning: Skipping file with unexpected name format: GT_2023-10-17_xnas-itch.parquet\n",
      "Warning: Skipping file with unexpected name format: GT_2023-10-18_xnas-itch.parquet\n",
      "Warning: Skipping file with unexpected name format: GT_2023-10-19_xnas-itch.parquet\n",
      "Warning: Skipping file with unexpected name format: GT_2023-10-20_xnas-itch.parquet\n",
      "Warning: Skipping file with unexpected name format: GT_2023-10-23_xnas-itch.parquet\n",
      "Warning: Skipping file with unexpected name format: GT_2023-10-24_xnas-itch.parquet\n",
      "Warning: Skipping file with unexpected name format: GT_2023-10-25_xnas-itch.parquet\n",
      "Warning: Skipping file with unexpected name format: GT_2023-10-26_xnas-itch.parquet\n",
      "Warning: Skipping file with unexpected name format: GT_2023-10-27_xnas-itch.parquet\n",
      "Warning: Skipping file with unexpected name format: GT_2023-10-30_xnas-itch.parquet\n",
      "Warning: Skipping file with unexpected name format: GT_2023-10-31_xnas-itch.parquet\n",
      "Warning: Skipping file with unexpected name format: GT_2023-11-01_xnas-itch.parquet\n",
      "Warning: Skipping file with unexpected name format: GT_2023-11-02_xnas-itch.parquet\n",
      "Warning: Skipping file with unexpected name format: GT_2023-11-03_xnas-itch.parquet\n",
      "Warning: Skipping file with unexpected name format: GT_2023-11-06_xnas-itch.parquet\n",
      "Warning: Skipping file with unexpected name format: GT_2023-11-07_xnas-itch.parquet\n",
      "Warning: Skipping file with unexpected name format: GT_2023-11-08_xnas-itch.parquet\n",
      "Warning: Skipping file with unexpected name format: GT_2023-11-09_xnas-itch.parquet\n",
      "Warning: Skipping file with unexpected name format: GT_2023-11-10_xnas-itch.parquet\n",
      "Warning: Skipping file with unexpected name format: GT_2023-11-13_xnas-itch.parquet\n",
      "Warning: Skipping file with unexpected name format: GT_2023-11-14_xnas-itch.parquet\n",
      "Warning: Skipping file with unexpected name format: GT_2023-11-15_xnas-itch.parquet\n",
      "Warning: Skipping file with unexpected name format: GT_2023-11-16_xnas-itch.parquet\n",
      "Warning: Skipping file with unexpected name format: GT_2023-11-17_xnas-itch.parquet\n",
      "Warning: Skipping file with unexpected name format: GT_2023-11-20_xnas-itch.parquet\n",
      "Warning: Skipping file with unexpected name format: GT_2023-11-21_xnas-itch.parquet\n",
      "Warning: Skipping file with unexpected name format: GT_2023-11-22_xnas-itch.parquet\n",
      "Warning: Skipping file with unexpected name format: GT_2023-11-24_xnas-itch.parquet\n",
      "Warning: Skipping file with unexpected name format: GT_2023-11-27_xnas-itch.parquet\n",
      "Warning: Skipping file with unexpected name format: GT_2023-11-28_xnas-itch.parquet\n",
      "Warning: Skipping file with unexpected name format: GT_2023-11-29_xnas-itch.parquet\n",
      "Warning: Skipping file with unexpected name format: GT_2023-11-30_xnas-itch.parquet\n",
      "Warning: Skipping file with unexpected name format: GT_2023-12-01_xnas-itch.parquet\n",
      "Warning: Skipping file with unexpected name format: GT_2023-12-04_xnas-itch.parquet\n",
      "Warning: Skipping file with unexpected name format: GT_2023-12-05_xnas-itch.parquet\n",
      "Warning: Skipping file with unexpected name format: GT_2023-12-06_xnas-itch.parquet\n",
      "Warning: Skipping file with unexpected name format: GT_2023-12-07_xnas-itch.parquet\n",
      "Warning: Skipping file with unexpected name format: GT_2023-12-08_xnas-itch.parquet\n",
      "Warning: Skipping file with unexpected name format: GT_2023-12-11_xnas-itch.parquet\n",
      "Warning: Skipping file with unexpected name format: GT_2023-12-12_xnas-itch.parquet\n",
      "Warning: Skipping file with unexpected name format: GT_2023-12-13_xnas-itch.parquet\n",
      "Warning: Skipping file with unexpected name format: GT_2023-12-14_xnas-itch.parquet\n",
      "Warning: Skipping file with unexpected name format: GT_2023-12-15_xnas-itch.parquet\n",
      "Warning: Skipping file with unexpected name format: GT_2023-12-18_xnas-itch.parquet\n",
      "Warning: Skipping file with unexpected name format: GT_2023-12-19_xnas-itch.parquet\n",
      "Warning: Skipping file with unexpected name format: GT_2023-12-20_xnas-itch.parquet\n",
      "Warning: Skipping file with unexpected name format: GT_2023-12-21_xnas-itch.parquet\n",
      "Warning: Skipping file with unexpected name format: GT_2023-12-22_xnas-itch.parquet\n",
      "Warning: Skipping file with unexpected name format: GT_2023-12-26_xnas-itch.parquet\n",
      "Warning: Skipping file with unexpected name format: GT_2023-12-27_xnas-itch.parquet\n",
      "Warning: Skipping file with unexpected name format: GT_2023-12-28_xnas-itch.parquet\n",
      "Warning: Skipping file with unexpected name format: GT_2023-12-29_xnas-itch.parquet\n",
      "Warning: Skipping file with unexpected name format: GT_2024-01-02_xnas-itch.parquet\n",
      "Warning: Skipping file with unexpected name format: GT_2024-01-03_xnas-itch.parquet\n",
      "Warning: Skipping file with unexpected name format: GT_2024-01-04_xnas-itch.parquet\n",
      "Warning: Skipping file with unexpected name format: GT_2024-01-05_xnas-itch.parquet\n",
      "Warning: Skipping file with unexpected name format: GT_2024-01-08_xnas-itch.parquet\n",
      "Warning: Skipping file with unexpected name format: GT_2024-01-09_xnas-itch.parquet\n",
      "Warning: Skipping file with unexpected name format: GT_2024-01-10_xnas-itch.parquet\n",
      "Warning: Skipping file with unexpected name format: GT_2024-01-11_xnas-itch.parquet\n",
      "Warning: Skipping file with unexpected name format: GT_2024-01-12_xnas-itch.parquet\n",
      "Warning: Skipping file with unexpected name format: GT_2024-01-16_xnas-itch.parquet\n",
      "Warning: Skipping file with unexpected name format: GT_2024-01-17_xnas-itch.parquet\n",
      "Warning: Skipping file with unexpected name format: GT_2024-01-18_xnas-itch.parquet\n",
      "Warning: Skipping file with unexpected name format: GT_2024-01-19_xnas-itch.parquet\n",
      "Warning: Skipping file with unexpected name format: GT_2024-01-22_xnas-itch.parquet\n",
      "Warning: Skipping file with unexpected name format: GT_2024-01-23_xnas-itch.parquet\n",
      "Warning: Skipping file with unexpected name format: GT_2024-01-24_xnas-itch.parquet\n",
      "Warning: Skipping file with unexpected name format: GT_2024-01-25_xnas-itch.parquet\n",
      "Warning: Skipping file with unexpected name format: GT_2024-01-26_xnas-itch.parquet\n",
      "Warning: Skipping file with unexpected name format: GT_2024-01-29_xnas-itch.parquet\n",
      "Warning: Skipping file with unexpected name format: GT_2024-01-30_xnas-itch.parquet\n",
      "Warning: Skipping file with unexpected name format: GT_2024-01-31_xnas-itch.parquet\n",
      "Warning: Skipping file with unexpected name format: GT_2024-02-01_xnas-itch.parquet\n",
      "Warning: Skipping file with unexpected name format: GT_2024-02-02_xnas-itch.parquet\n",
      "Warning: Skipping file with unexpected name format: GT_2024-02-05_xnas-itch.parquet\n",
      "Warning: Skipping file with unexpected name format: GT_2024-02-06_xnas-itch.parquet\n",
      "Warning: Skipping file with unexpected name format: GT_2024-02-07_xnas-itch.parquet\n",
      "Warning: Skipping file with unexpected name format: GT_2024-02-08_xnas-itch.parquet\n",
      "Warning: Skipping file with unexpected name format: GT_2024-02-09_xnas-itch.parquet\n",
      "Warning: Skipping file with unexpected name format: GT_2024-02-12_xnas-itch.parquet\n",
      "Warning: Skipping file with unexpected name format: GT_2024-02-13_xnas-itch.parquet\n",
      "Warning: Skipping file with unexpected name format: GT_2024-02-14_xnas-itch.parquet\n",
      "Warning: Skipping file with unexpected name format: GT_2024-02-15_xnas-itch.parquet\n",
      "Warning: Skipping file with unexpected name format: GT_2024-02-16_xnas-itch.parquet\n",
      "Warning: Skipping file with unexpected name format: GT_2024-02-20_xnas-itch.parquet\n",
      "Warning: Skipping file with unexpected name format: GT_2024-02-21_xnas-itch.parquet\n",
      "Warning: Skipping file with unexpected name format: GT_2024-02-22_xnas-itch.parquet\n",
      "Warning: Skipping file with unexpected name format: GT_2024-02-23_xnas-itch.parquet\n",
      "Warning: Skipping file with unexpected name format: GT_2024-02-26_xnas-itch.parquet\n",
      "Warning: Skipping file with unexpected name format: GT_2024-02-27_xnas-itch.parquet\n",
      "Warning: Skipping file with unexpected name format: GT_2024-02-28_xnas-itch.parquet\n",
      "Warning: Skipping file with unexpected name format: GT_2024-02-29_xnas-itch.parquet\n",
      "Warning: Skipping file with unexpected name format: GT_2024-03-01_xnas-itch.parquet\n",
      "Warning: Skipping file with unexpected name format: GT_2024-03-04_xnas-itch.parquet\n",
      "Warning: Skipping file with unexpected name format: GT_2024-03-05_xnas-itch.parquet\n",
      "Warning: Skipping file with unexpected name format: GT_2024-03-06_xnas-itch.parquet\n",
      "Warning: Skipping file with unexpected name format: GT_2024-03-07_xnas-itch.parquet\n",
      "Warning: Skipping file with unexpected name format: GT_2024-03-08_xnas-itch.parquet\n",
      "Warning: Skipping file with unexpected name format: GT_2024-03-11_xnas-itch.parquet\n",
      "Warning: Skipping file with unexpected name format: GT_2024-03-12_xnas-itch.parquet\n",
      "Warning: Skipping file with unexpected name format: GT_2024-03-13_xnas-itch.parquet\n",
      "Warning: Skipping file with unexpected name format: GT_2024-03-14_xnas-itch.parquet\n",
      "Warning: Skipping file with unexpected name format: GT_2024-03-15_xnas-itch.parquet\n",
      "Warning: Skipping file with unexpected name format: GT_2024-03-18_xnas-itch.parquet\n",
      "Warning: Skipping file with unexpected name format: GT_2024-03-19_xnas-itch.parquet\n",
      "Warning: Skipping file with unexpected name format: GT_2024-03-20_xnas-itch.parquet\n",
      "Warning: Skipping file with unexpected name format: GT_2024-03-21_xnas-itch.parquet\n",
      "Warning: Skipping file with unexpected name format: GT_2024-03-22_xnas-itch.parquet\n",
      "Warning: Skipping file with unexpected name format: GT_2024-03-25_xnas-itch.parquet\n",
      "Warning: Skipping file with unexpected name format: GT_2024-03-26_xnas-itch.parquet\n",
      "Warning: Skipping file with unexpected name format: GT_2024-03-27_xnas-itch.parquet\n",
      "Warning: Skipping file with unexpected name format: GT_2024-03-28_xnas-itch.parquet\n",
      "Warning: Skipping file with unexpected name format: GT_2024-04-01_xnas-itch.parquet\n",
      "Warning: Skipping file with unexpected name format: GT_2024-04-02_xnas-itch.parquet\n",
      "Warning: Skipping file with unexpected name format: GT_2024-04-03_xnas-itch.parquet\n",
      "Warning: Skipping file with unexpected name format: GT_2024-04-04_xnas-itch.parquet\n",
      "Warning: Skipping file with unexpected name format: GT_2024-04-05_xnas-itch.parquet\n",
      "Warning: Skipping file with unexpected name format: GT_2024-04-08_xnas-itch.parquet\n",
      "Warning: Skipping file with unexpected name format: GT_2024-04-09_xnas-itch.parquet\n",
      "Warning: Skipping file with unexpected name format: GT_2024-04-10_xnas-itch.parquet\n",
      "Warning: Skipping file with unexpected name format: GT_2024-04-11_xnas-itch.parquet\n",
      "Warning: Skipping file with unexpected name format: GT_2024-04-12_xnas-itch.parquet\n",
      "Warning: Skipping file with unexpected name format: GT_2024-04-15_xnas-itch.parquet\n",
      "Warning: Skipping file with unexpected name format: GT_2024-04-16_xnas-itch.parquet\n",
      "Warning: Skipping file with unexpected name format: GT_2024-04-17_xnas-itch.parquet\n",
      "Warning: Skipping file with unexpected name format: GT_2024-04-18_xnas-itch.parquet\n",
      "Warning: Skipping file with unexpected name format: GT_2024-04-19_xnas-itch.parquet\n",
      "Warning: Skipping file with unexpected name format: GT_2024-04-22_xnas-itch.parquet\n",
      "Warning: Skipping file with unexpected name format: GT_2024-04-23_xnas-itch.parquet\n",
      "Warning: Skipping file with unexpected name format: GT_2024-04-24_xnas-itch.parquet\n",
      "Warning: Skipping file with unexpected name format: GT_2024-04-25_xnas-itch.parquet\n",
      "Warning: Skipping file with unexpected name format: GT_2024-04-26_xnas-itch.parquet\n",
      "Warning: Skipping file with unexpected name format: GT_2024-04-29_xnas-itch.parquet\n",
      "Warning: Skipping file with unexpected name format: GT_2024-04-30_xnas-itch.parquet\n",
      "Warning: Skipping file with unexpected name format: GT_2024-05-01_xnas-itch.parquet\n",
      "Warning: Skipping file with unexpected name format: GT_2024-05-02_xnas-itch.parquet\n",
      "Warning: Skipping file with unexpected name format: GT_2024-05-03_xnas-itch.parquet\n",
      "Warning: Skipping file with unexpected name format: GT_2024-05-06_xnas-itch.parquet\n",
      "Warning: Skipping file with unexpected name format: GT_2024-05-07_xnas-itch.parquet\n",
      "Warning: Skipping file with unexpected name format: GT_2024-05-08_xnas-itch.parquet\n",
      "Warning: Skipping file with unexpected name format: GT_2024-05-09_xnas-itch.parquet\n",
      "Warning: Skipping file with unexpected name format: GT_2024-05-10_xnas-itch.parquet\n",
      "Warning: Skipping file with unexpected name format: GT_2024-05-13_xnas-itch.parquet\n",
      "Warning: Skipping file with unexpected name format: GT_2024-05-14_xnas-itch.parquet\n",
      "Warning: Skipping file with unexpected name format: GT_2024-05-15_xnas-itch.parquet\n",
      "Warning: Skipping file with unexpected name format: GT_2024-05-16_xnas-itch.parquet\n",
      "Warning: Skipping file with unexpected name format: GT_2024-05-17_xnas-itch.parquet\n",
      "Warning: Skipping file with unexpected name format: GT_2024-05-20_xnas-itch.parquet\n",
      "Warning: Skipping file with unexpected name format: GT_2024-05-21_xnas-itch.parquet\n",
      "Warning: Skipping file with unexpected name format: GT_2024-05-22_xnas-itch.parquet\n",
      "Warning: Skipping file with unexpected name format: GT_2024-05-23_xnas-itch.parquet\n",
      "Warning: Skipping file with unexpected name format: GT_2024-05-24_xnas-itch.parquet\n",
      "Warning: Skipping file with unexpected name format: GT_2024-05-28_xnas-itch.parquet\n",
      "Warning: Skipping file with unexpected name format: GT_2024-05-29_xnas-itch.parquet\n",
      "Warning: Skipping file with unexpected name format: GT_2024-05-30_xnas-itch.parquet\n",
      "Warning: Skipping file with unexpected name format: GT_2024-05-31_xnas-itch.parquet\n",
      "Warning: Skipping file with unexpected name format: GT_2024-06-03_xnas-itch.parquet\n",
      "Warning: Skipping file with unexpected name format: GT_2024-06-04_xnas-itch.parquet\n",
      "Warning: Skipping file with unexpected name format: GT_2024-06-05_xnas-itch.parquet\n",
      "Warning: Skipping file with unexpected name format: GT_2024-06-06_xnas-itch.parquet\n",
      "Warning: Skipping file with unexpected name format: GT_2024-06-07_xnas-itch.parquet\n",
      "Warning: Skipping file with unexpected name format: GT_2024-06-10_xnas-itch.parquet\n",
      "Warning: Skipping file with unexpected name format: GT_2024-06-11_xnas-itch.parquet\n",
      "Warning: Skipping file with unexpected name format: GT_2024-06-12_xnas-itch.parquet\n",
      "Warning: Skipping file with unexpected name format: GT_2024-06-13_xnas-itch.parquet\n",
      "Warning: Skipping file with unexpected name format: GT_2024-06-14_xnas-itch.parquet\n",
      "Warning: Skipping file with unexpected name format: GT_2024-06-17_xnas-itch.parquet\n",
      "Warning: Skipping file with unexpected name format: GT_2024-06-18_xnas-itch.parquet\n",
      "Warning: Skipping file with unexpected name format: GT_2024-06-20_xnas-itch.parquet\n",
      "Warning: Skipping file with unexpected name format: GT_2024-06-21_xnas-itch.parquet\n",
      "Warning: Skipping file with unexpected name format: GT_2024-06-24_xnas-itch.parquet\n",
      "Warning: Skipping file with unexpected name format: GT_2024-06-25_xnas-itch.parquet\n",
      "Warning: Skipping file with unexpected name format: GT_2024-06-26_xnas-itch.parquet\n",
      "Warning: Skipping file with unexpected name format: GT_2024-06-27_xnas-itch.parquet\n",
      "Warning: Skipping file with unexpected name format: GT_2024-06-28_xnas-itch.parquet\n",
      "Warning: Skipping file with unexpected name format: GT_2024-07-01_xnas-itch.parquet\n",
      "Warning: Skipping file with unexpected name format: GT_2024-07-02_xnas-itch.parquet\n",
      "Warning: Skipping file with unexpected name format: GT_2024-07-03_xnas-itch.parquet\n",
      "Warning: Skipping file with unexpected name format: GT_2024-07-05_xnas-itch.parquet\n",
      "Warning: Skipping file with unexpected name format: GT_2024-07-08_xnas-itch.parquet\n",
      "Warning: Skipping file with unexpected name format: GT_2024-07-09_xnas-itch.parquet\n",
      "Warning: Skipping file with unexpected name format: GT_2024-07-10_xnas-itch.parquet\n",
      "Warning: Skipping file with unexpected name format: GT_2024-07-11_xnas-itch.parquet\n",
      "Warning: Skipping file with unexpected name format: GT_2024-07-12_xnas-itch.parquet\n",
      "Warning: Skipping file with unexpected name format: GT_2024-07-15_xnas-itch.parquet\n",
      "Warning: Skipping file with unexpected name format: GT_2024-07-16_xnas-itch.parquet\n",
      "Warning: Skipping file with unexpected name format: GT_2024-07-17_xnas-itch.parquet\n",
      "Warning: Skipping file with unexpected name format: GT_2024-07-18_xnas-itch.parquet\n",
      "Warning: Skipping file with unexpected name format: GT_2024-07-19_xnas-itch.parquet\n",
      "Warning: Skipping file with unexpected name format: GT_2024-07-22_xnas-itch.parquet\n",
      "Warning: Skipping file with unexpected name format: GT_2024-07-23_xnas-itch.parquet\n",
      "Warning: Skipping file with unexpected name format: GT_2024-07-24_xnas-itch.parquet\n",
      "Warning: Skipping file with unexpected name format: GT_2024-07-25_xnas-itch.parquet\n",
      "Warning: Skipping file with unexpected name format: GT_2024-07-26_xnas-itch.parquet\n",
      "Warning: Skipping file with unexpected name format: GT_2024-07-29_xnas-itch.parquet\n",
      "Warning: Skipping file with unexpected name format: GT_2024-07-30_xnas-itch.parquet\n",
      "Warning: Skipping file with unexpected name format: GT_2024-07-31_xnas-itch.parquet\n",
      "Warning: Skipping file with unexpected name format: GT_2024-08-01_xnas-itch.parquet\n",
      "Warning: Skipping file with unexpected name format: GT_2024-08-02_xnas-itch.parquet\n",
      "Warning: Skipping file with unexpected name format: GT_2024-08-05_xnas-itch.parquet\n",
      "Warning: Skipping file with unexpected name format: GT_2024-08-06_xnas-itch.parquet\n",
      "Warning: Skipping file with unexpected name format: GT_2024-08-07_xnas-itch.parquet\n",
      "Warning: Skipping file with unexpected name format: GT_2024-08-08_xnas-itch.parquet\n",
      "Warning: Skipping file with unexpected name format: GT_2024-08-09_xnas-itch.parquet\n",
      "Warning: Skipping file with unexpected name format: GT_2024-08-12_xnas-itch.parquet\n",
      "Warning: Skipping file with unexpected name format: GT_2024-08-13_xnas-itch.parquet\n",
      "Warning: Skipping file with unexpected name format: GT_2024-08-14_xnas-itch.parquet\n",
      "Warning: Skipping file with unexpected name format: GT_2024-08-15_xnas-itch.parquet\n",
      "Warning: Skipping file with unexpected name format: GT_2024-08-16_xnas-itch.parquet\n",
      "Warning: Skipping file with unexpected name format: GT_2024-08-19_xnas-itch.parquet\n",
      "Warning: Skipping file with unexpected name format: GT_2024-08-20_xnas-itch.parquet\n",
      "Warning: Skipping file with unexpected name format: GT_2024-08-21_xnas-itch.parquet\n",
      "Warning: Skipping file with unexpected name format: GT_2024-08-22_xnas-itch.parquet\n",
      "Warning: Skipping file with unexpected name format: GT_2024-08-23_xnas-itch.parquet\n",
      "Warning: Skipping file with unexpected name format: GT_2024-08-26_xnas-itch.parquet\n",
      "Warning: Skipping file with unexpected name format: GT_2024-08-27_xnas-itch.parquet\n",
      "Warning: Skipping file with unexpected name format: GT_2024-08-28_xnas-itch.parquet\n",
      "Warning: Skipping file with unexpected name format: GT_2024-08-29_xnas-itch.parquet\n",
      "Warning: Skipping file with unexpected name format: GT_2024-08-30_xnas-itch.parquet\n",
      "Warning: Skipping file with unexpected name format: GT_2024-09-03_xnas-itch.parquet\n",
      "Warning: Skipping file with unexpected name format: GT_2024-09-04_xnas-itch.parquet\n",
      "Warning: Skipping file with unexpected name format: GT_2024-09-05_xnas-itch.parquet\n",
      "Warning: Skipping file with unexpected name format: GT_2024-09-06_xnas-itch.parquet\n",
      "Warning: Skipping file with unexpected name format: GT_2024-09-09_xnas-itch.parquet\n",
      "Warning: Skipping file with unexpected name format: GT_2024-09-10_xnas-itch.parquet\n",
      "Warning: Skipping file with unexpected name format: GT_2024-09-11_xnas-itch.parquet\n",
      "Warning: Skipping file with unexpected name format: GT_2024-09-12_xnas-itch.parquet\n",
      "Warning: Skipping file with unexpected name format: GT_2024-09-13_xnas-itch.parquet\n",
      "Warning: Skipping file with unexpected name format: GT_2024-09-16_xnas-itch.parquet\n",
      "Warning: Skipping file with unexpected name format: GT_2024-09-17_xnas-itch.parquet\n",
      "Warning: Skipping file with unexpected name format: GT_2024-09-18_xnas-itch.parquet\n",
      "Warning: Skipping file with unexpected name format: GT_2024-09-19_xnas-itch.parquet\n",
      "Warning: Skipping file with unexpected name format: GT_2024-09-20_xnas-itch.parquet\n",
      "Warning: Skipping file with unexpected name format: GT_2024-09-23_xnas-itch.parquet\n",
      "Warning: Skipping file with unexpected name format: GT_2024-09-24_xnas-itch.parquet\n",
      "Warning: Skipping file with unexpected name format: GT_2024-09-25_xnas-itch.parquet\n",
      "Warning: Skipping file with unexpected name format: GT_2024-09-26_xnas-itch.parquet\n",
      "Warning: Skipping file with unexpected name format: GT_2024-09-27_xnas-itch.parquet\n",
      "Warning: Skipping file with unexpected name format: GT_2024-09-30_xnas-itch.parquet\n",
      "Warning: Skipping file with unexpected name format: GT_2024-10-01_xnas-itch.parquet\n",
      "Warning: Skipping file with unexpected name format: GT_2024-10-02_xnas-itch.parquet\n",
      "Warning: Skipping file with unexpected name format: GT_2024-10-03_xnas-itch.parquet\n",
      "Warning: Skipping file with unexpected name format: GT_2024-10-04_xnas-itch.parquet\n",
      "Warning: Skipping file with unexpected name format: GT_2024-10-07_xnas-itch.parquet\n",
      "Warning: Skipping file with unexpected name format: GT_2024-10-08_xnas-itch.parquet\n",
      "Warning: Skipping file with unexpected name format: GT_2024-10-09_xnas-itch.parquet\n",
      "Warning: Skipping file with unexpected name format: GT_2024-10-10_xnas-itch.parquet\n",
      "Warning: Skipping file with unexpected name format: GT_2024-10-11_xnas-itch.parquet\n",
      "Warning: Skipping file with unexpected name format: GT_2024-10-14_xnas-itch.parquet\n",
      "Warning: Skipping file with unexpected name format: GT_2024-10-15_xnas-itch.parquet\n",
      "Warning: Skipping file with unexpected name format: GT_2024-10-16_xnas-itch.parquet\n",
      "Warning: Skipping file with unexpected name format: GT_2024-10-17_xnas-itch.parquet\n",
      "Warning: Skipping file with unexpected name format: GT_2024-10-18_xnas-itch.parquet\n",
      "Warning: Skipping file with unexpected name format: GT_2024-10-21_xnas-itch.parquet\n",
      "Warning: Skipping file with unexpected name format: GT_2024-10-22_xnas-itch.parquet\n",
      "Warning: Skipping file with unexpected name format: GT_2024-10-23_xnas-itch.parquet\n",
      "Warning: Skipping file with unexpected name format: GT_2024-10-24_xnas-itch.parquet\n",
      "Warning: Skipping file with unexpected name format: GT_2024-10-25_xnas-itch.parquet\n",
      "Warning: Skipping file with unexpected name format: GT_2024-10-28_xnas-itch.parquet\n",
      "Warning: Skipping file with unexpected name format: GT_2024-10-29_xnas-itch.parquet\n",
      "Warning: Skipping file with unexpected name format: GT_2024-10-30_xnas-itch.parquet\n",
      "Warning: Skipping file with unexpected name format: GT_2024-10-31_xnas-itch.parquet\n",
      "Warning: Skipping file with unexpected name format: GT_2024-11-01_xnas-itch.parquet\n",
      "Warning: Skipping file with unexpected name format: GT_2024-11-04_xnas-itch.parquet\n",
      "Warning: Skipping file with unexpected name format: GT_2024-11-05_xnas-itch.parquet\n",
      "Warning: Skipping file with unexpected name format: GT_2024-11-06_xnas-itch.parquet\n",
      "Warning: Skipping file with unexpected name format: GT_2024-11-07_xnas-itch.parquet\n",
      "Warning: Skipping file with unexpected name format: GT_2024-11-08_xnas-itch.parquet\n",
      "Warning: Skipping file with unexpected name format: GT_2024-11-11_xnas-itch.parquet\n",
      "Warning: Skipping file with unexpected name format: GT_2024-11-12_xnas-itch.parquet\n",
      "Warning: Skipping file with unexpected name format: GT_2024-11-13_xnas-itch.parquet\n",
      "Warning: Skipping file with unexpected name format: GT_2024-11-14_xnas-itch.parquet\n",
      "Warning: Skipping file with unexpected name format: GT_2024-11-15_xnas-itch.parquet\n",
      "Warning: Skipping file with unexpected name format: GT_2024-11-18_xnas-itch.parquet\n",
      "Warning: Skipping file with unexpected name format: GT_2024-11-19_xnas-itch.parquet\n",
      "Warning: Skipping file with unexpected name format: GT_2024-11-20_xnas-itch.parquet\n",
      "Warning: Skipping file with unexpected name format: GT_2024-11-21_xnas-itch.parquet\n",
      "Warning: Skipping file with unexpected name format: GT_2024-11-22_xnas-itch.parquet\n",
      "Warning: Skipping file with unexpected name format: GT_2024-11-25_xnas-itch.parquet\n",
      "Warning: Skipping file with unexpected name format: GT_2024-11-26_xnas-itch.parquet\n",
      "Warning: Skipping file with unexpected name format: GT_2024-11-27_xnas-itch.parquet\n",
      "Warning: Skipping file with unexpected name format: GT_2024-11-29_xnas-itch.parquet\n",
      "Warning: Skipping file with unexpected name format: GT_2024-12-02_xnas-itch.parquet\n",
      "Warning: Skipping file with unexpected name format: GT_2024-12-03_xnas-itch.parquet\n",
      "Warning: Skipping file with unexpected name format: GT_2024-12-04_xnas-itch.parquet\n",
      "Warning: Skipping file with unexpected name format: GT_2024-12-05_xnas-itch.parquet\n",
      "Warning: Skipping file with unexpected name format: GT_2024-12-06_xnas-itch.parquet\n",
      "Warning: Skipping file with unexpected name format: GT_2024-12-09_xnas-itch.parquet\n",
      "Warning: Skipping file with unexpected name format: GT_2024-12-10_xnas-itch.parquet\n",
      "Warning: Skipping file with unexpected name format: GT_2024-12-11_xnas-itch.parquet\n",
      "Warning: Skipping file with unexpected name format: GT_2024-12-12_xnas-itch.parquet\n",
      "Warning: Skipping file with unexpected name format: GT_2024-12-13_xnas-itch.parquet\n",
      "Warning: Skipping file with unexpected name format: GT_2024-12-16_xnas-itch.parquet\n",
      "Warning: Skipping file with unexpected name format: CX_2024-06-24_dbeq-basic.parquet\n",
      "Warning: Skipping file with unexpected name format: CX_2024-06-25_dbeq-basic.parquet\n",
      "Warning: Skipping file with unexpected name format: CX_2024-06-26_dbeq-basic.parquet\n",
      "Warning: Skipping file with unexpected name format: CX_2024-06-27_dbeq-basic.parquet\n",
      "Warning: Skipping file with unexpected name format: CX_2024-06-28_dbeq-basic.parquet\n",
      "Warning: Skipping file with unexpected name format: CX_2024-07-01_dbeq-basic.parquet\n",
      "Warning: Skipping file with unexpected name format: CX_2024-07-02_dbeq-basic.parquet\n",
      "Warning: Skipping file with unexpected name format: CX_2024-07-03_dbeq-basic.parquet\n",
      "Warning: Skipping file with unexpected name format: CX_2024-07-05_dbeq-basic.parquet\n",
      "Warning: Skipping file with unexpected name format: CX_2024-07-08_dbeq-basic.parquet\n",
      "Warning: Skipping file with unexpected name format: CX_2024-07-09_dbeq-basic.parquet\n",
      "Warning: Skipping file with unexpected name format: CX_2024-07-10_dbeq-basic.parquet\n",
      "Warning: Skipping file with unexpected name format: CX_2024-07-11_dbeq-basic.parquet\n",
      "Warning: Skipping file with unexpected name format: CX_2024-07-12_dbeq-basic.parquet\n",
      "Warning: Skipping file with unexpected name format: CX_2024-07-15_dbeq-basic.parquet\n",
      "Warning: Skipping file with unexpected name format: CX_2024-07-16_dbeq-basic.parquet\n",
      "Warning: Skipping file with unexpected name format: CX_2024-07-17_dbeq-basic.parquet\n",
      "Warning: Skipping file with unexpected name format: CX_2024-07-18_dbeq-basic.parquet\n",
      "Warning: Skipping file with unexpected name format: CX_2024-07-19_dbeq-basic.parquet\n",
      "Warning: Skipping file with unexpected name format: CX_2024-07-22_dbeq-basic.parquet\n",
      "Warning: Skipping file with unexpected name format: CX_2024-07-23_dbeq-basic.parquet\n",
      "Warning: Skipping file with unexpected name format: CX_2024-07-24_dbeq-basic.parquet\n",
      "Warning: Skipping file with unexpected name format: CX_2024-07-25_dbeq-basic.parquet\n",
      "Warning: Skipping file with unexpected name format: CX_2024-07-26_dbeq-basic.parquet\n",
      "Warning: Skipping file with unexpected name format: CX_2024-07-29_dbeq-basic.parquet\n",
      "Warning: Skipping file with unexpected name format: CX_2024-07-30_dbeq-basic.parquet\n",
      "Warning: Skipping file with unexpected name format: CX_2024-07-31_dbeq-basic.parquet\n",
      "Warning: Skipping file with unexpected name format: CX_2024-08-01_dbeq-basic.parquet\n",
      "Warning: Skipping file with unexpected name format: CX_2024-08-02_dbeq-basic.parquet\n",
      "Warning: Skipping file with unexpected name format: CX_2024-08-05_dbeq-basic.parquet\n",
      "Warning: Skipping file with unexpected name format: CX_2024-08-06_dbeq-basic.parquet\n",
      "Warning: Skipping file with unexpected name format: CX_2024-08-07_dbeq-basic.parquet\n",
      "Warning: Skipping file with unexpected name format: CX_2024-08-08_dbeq-basic.parquet\n",
      "Warning: Skipping file with unexpected name format: CX_2024-08-09_dbeq-basic.parquet\n",
      "Warning: Skipping file with unexpected name format: CX_2024-08-12_dbeq-basic.parquet\n",
      "Warning: Skipping file with unexpected name format: CX_2024-08-13_dbeq-basic.parquet\n",
      "Warning: Skipping file with unexpected name format: CX_2024-08-14_dbeq-basic.parquet\n",
      "Warning: Skipping file with unexpected name format: CX_2024-08-15_dbeq-basic.parquet\n",
      "Warning: Skipping file with unexpected name format: CX_2024-08-16_dbeq-basic.parquet\n",
      "Warning: Skipping file with unexpected name format: CX_2024-08-19_dbeq-basic.parquet\n",
      "Warning: Skipping file with unexpected name format: CX_2024-08-20_dbeq-basic.parquet\n",
      "Warning: Skipping file with unexpected name format: CX_2024-08-21_dbeq-basic.parquet\n",
      "Warning: Skipping file with unexpected name format: CX_2024-08-22_dbeq-basic.parquet\n",
      "Warning: Skipping file with unexpected name format: CX_2024-08-23_dbeq-basic.parquet\n",
      "Warning: Skipping file with unexpected name format: CX_2024-08-26_dbeq-basic.parquet\n",
      "Warning: Skipping file with unexpected name format: CX_2024-08-27_dbeq-basic.parquet\n",
      "Warning: Skipping file with unexpected name format: CX_2024-08-28_dbeq-basic.parquet\n",
      "Warning: Skipping file with unexpected name format: CX_2024-08-29_dbeq-basic.parquet\n",
      "Warning: Skipping file with unexpected name format: CX_2024-08-30_dbeq-basic.parquet\n",
      "Warning: Skipping file with unexpected name format: CX_2024-09-03_dbeq-basic.parquet\n",
      "Warning: Skipping file with unexpected name format: CX_2024-09-04_dbeq-basic.parquet\n",
      "Warning: Skipping file with unexpected name format: CX_2024-09-05_dbeq-basic.parquet\n",
      "Warning: Skipping file with unexpected name format: CX_2024-09-06_dbeq-basic.parquet\n",
      "Warning: Skipping file with unexpected name format: CX_2024-09-09_dbeq-basic.parquet\n",
      "Warning: Skipping file with unexpected name format: CX_2024-09-10_dbeq-basic.parquet\n",
      "Warning: Skipping file with unexpected name format: CX_2024-09-11_dbeq-basic.parquet\n",
      "Warning: Skipping file with unexpected name format: CX_2024-09-12_dbeq-basic.parquet\n",
      "Warning: Skipping file with unexpected name format: CX_2024-09-13_dbeq-basic.parquet\n",
      "Warning: Skipping file with unexpected name format: CX_2024-09-16_dbeq-basic.parquet\n",
      "Warning: Skipping file with unexpected name format: CX_2024-09-17_dbeq-basic.parquet\n",
      "Warning: Skipping file with unexpected name format: CX_2024-09-18_dbeq-basic.parquet\n",
      "Warning: Skipping file with unexpected name format: CX_2024-09-19_dbeq-basic.parquet\n",
      "Warning: Skipping file with unexpected name format: CX_2024-09-20_dbeq-basic.parquet\n",
      "Warning: Skipping file with unexpected name format: CX_2024-09-23_dbeq-basic.parquet\n",
      "Warning: Skipping file with unexpected name format: NTAP_2024-10-01_xnas-itch.parquet\n",
      "Warning: Skipping file with unexpected name format: NTAP_2024-10-02_xnas-itch.parquet\n",
      "Warning: Skipping file with unexpected name format: NTAP_2024-10-03_xnas-itch.parquet\n",
      "Warning: Skipping file with unexpected name format: NTAP_2024-10-04_xnas-itch.parquet\n",
      "Warning: Skipping file with unexpected name format: NTAP_2024-10-07_xnas-itch.parquet\n",
      "Warning: Skipping file with unexpected name format: NTAP_2024-10-08_xnas-itch.parquet\n",
      "Warning: Skipping file with unexpected name format: NTAP_2024-10-09_xnas-itch.parquet\n",
      "Warning: Skipping file with unexpected name format: NTAP_2024-10-10_xnas-itch.parquet\n",
      "Warning: Skipping file with unexpected name format: NTAP_2024-10-11_xnas-itch.parquet\n",
      "Warning: Skipping file with unexpected name format: NTAP_2024-10-14_xnas-itch.parquet\n",
      "Warning: Skipping file with unexpected name format: NTAP_2024-10-15_xnas-itch.parquet\n",
      "Warning: Skipping file with unexpected name format: NTAP_2024-10-16_xnas-itch.parquet\n",
      "Warning: Skipping file with unexpected name format: NTAP_2024-10-17_xnas-itch.parquet\n",
      "Warning: Skipping file with unexpected name format: NTAP_2024-10-18_xnas-itch.parquet\n",
      "Warning: Skipping file with unexpected name format: NTAP_2024-10-21_xnas-itch.parquet\n",
      "Warning: Skipping file with unexpected name format: NTAP_2024-10-22_xnas-itch.parquet\n",
      "Warning: Skipping file with unexpected name format: NTAP_2024-10-23_xnas-itch.parquet\n",
      "Warning: Skipping file with unexpected name format: NTAP_2024-10-24_xnas-itch.parquet\n",
      "Warning: Skipping file with unexpected name format: NTAP_2024-10-25_xnas-itch.parquet\n",
      "Warning: Skipping file with unexpected name format: NTAP_2024-10-28_xnas-itch.parquet\n",
      "Warning: Skipping file with unexpected name format: NTAP_2024-10-29_xnas-itch.parquet\n",
      "Warning: Skipping file with unexpected name format: NTAP_2024-10-30_xnas-itch.parquet\n",
      "Warning: Skipping file with unexpected name format: NTAP_2024-10-31_xnas-itch.parquet\n",
      "Warning: Skipping file with unexpected name format: NTAP_2024-11-01_xnas-itch.parquet\n",
      "Warning: Skipping file with unexpected name format: NTAP_2024-11-04_xnas-itch.parquet\n",
      "Warning: Skipping file with unexpected name format: NTAP_2024-11-05_xnas-itch.parquet\n",
      "Warning: Skipping file with unexpected name format: NTAP_2024-11-06_xnas-itch.parquet\n",
      "Warning: Skipping file with unexpected name format: NTAP_2024-11-07_xnas-itch.parquet\n",
      "Warning: Skipping file with unexpected name format: NTAP_2024-11-08_xnas-itch.parquet\n",
      "Warning: Skipping file with unexpected name format: NTAP_2024-11-11_xnas-itch.parquet\n",
      "Warning: Skipping file with unexpected name format: NTAP_2024-11-12_xnas-itch.parquet\n",
      "Warning: Skipping file with unexpected name format: NTAP_2024-11-13_xnas-itch.parquet\n",
      "Warning: Skipping file with unexpected name format: NTAP_2024-11-14_xnas-itch.parquet\n",
      "Warning: Skipping file with unexpected name format: NTAP_2024-11-15_xnas-itch.parquet\n",
      "Warning: Skipping file with unexpected name format: NTAP_2024-11-18_xnas-itch.parquet\n",
      "Warning: Skipping file with unexpected name format: NTAP_2024-11-19_xnas-itch.parquet\n",
      "Warning: Skipping file with unexpected name format: NTAP_2024-11-20_xnas-itch.parquet\n",
      "Warning: Skipping file with unexpected name format: NTAP_2024-11-21_xnas-itch.parquet\n",
      "Warning: Skipping file with unexpected name format: NTAP_2024-11-22_xnas-itch.parquet\n",
      "Warning: Skipping file with unexpected name format: NTAP_2024-11-25_xnas-itch.parquet\n",
      "Warning: Skipping file with unexpected name format: NTAP_2024-11-26_xnas-itch.parquet\n",
      "Warning: Skipping file with unexpected name format: NTAP_2024-11-27_xnas-itch.parquet\n",
      "Warning: Skipping file with unexpected name format: NTAP_2024-11-29_xnas-itch.parquet\n",
      "Warning: Skipping file with unexpected name format: NTAP_2024-12-02_xnas-itch.parquet\n",
      "Warning: Skipping file with unexpected name format: NTAP_2024-12-03_xnas-itch.parquet\n",
      "Warning: Skipping file with unexpected name format: NTAP_2024-12-04_xnas-itch.parquet\n",
      "Warning: Skipping file with unexpected name format: NTAP_2024-12-05_xnas-itch.parquet\n",
      "Warning: Skipping file with unexpected name format: NTAP_2024-12-06_xnas-itch.parquet\n",
      "Warning: Skipping file with unexpected name format: NTAP_2024-12-09_xnas-itch.parquet\n",
      "Warning: Skipping file with unexpected name format: NTAP_2024-12-10_xnas-itch.parquet\n",
      "Warning: Skipping file with unexpected name format: NTAP_2024-12-11_xnas-itch.parquet\n",
      "Warning: Skipping file with unexpected name format: NTAP_2024-12-12_xnas-itch.parquet\n",
      "Warning: Skipping file with unexpected name format: NTAP_2024-12-13_xnas-itch.parquet\n",
      "Warning: Skipping file with unexpected name format: NTAP_2024-12-16_xnas-itch.parquet\n",
      "Warning: Skipping file with unexpected name format: DBI_2024-06-24_dbeq-basic.parquet\n",
      "Warning: Skipping file with unexpected name format: DBI_2024-06-25_dbeq-basic.parquet\n",
      "Warning: Skipping file with unexpected name format: DBI_2024-06-26_dbeq-basic.parquet\n",
      "Warning: Skipping file with unexpected name format: DBI_2024-06-27_dbeq-basic.parquet\n",
      "Warning: Skipping file with unexpected name format: DBI_2024-06-28_dbeq-basic.parquet\n",
      "Warning: Skipping file with unexpected name format: DBI_2024-07-01_dbeq-basic.parquet\n",
      "Warning: Skipping file with unexpected name format: DBI_2024-07-02_dbeq-basic.parquet\n",
      "Warning: Skipping file with unexpected name format: DBI_2024-07-03_dbeq-basic.parquet\n",
      "Warning: Skipping file with unexpected name format: DBI_2024-07-05_dbeq-basic.parquet\n",
      "Warning: Skipping file with unexpected name format: DBI_2024-07-08_dbeq-basic.parquet\n",
      "Warning: Skipping file with unexpected name format: DBI_2024-07-09_dbeq-basic.parquet\n",
      "Warning: Skipping file with unexpected name format: DBI_2024-07-10_dbeq-basic.parquet\n",
      "Warning: Skipping file with unexpected name format: DBI_2024-07-11_dbeq-basic.parquet\n",
      "Warning: Skipping file with unexpected name format: DBI_2024-07-12_dbeq-basic.parquet\n",
      "Warning: Skipping file with unexpected name format: DBI_2024-07-15_dbeq-basic.parquet\n",
      "Warning: Skipping file with unexpected name format: DBI_2024-07-16_dbeq-basic.parquet\n",
      "Warning: Skipping file with unexpected name format: DBI_2024-07-17_dbeq-basic.parquet\n",
      "Warning: Skipping file with unexpected name format: DBI_2024-07-18_dbeq-basic.parquet\n",
      "Warning: Skipping file with unexpected name format: DBI_2024-07-19_dbeq-basic.parquet\n",
      "Warning: Skipping file with unexpected name format: DBI_2024-07-22_dbeq-basic.parquet\n",
      "Warning: Skipping file with unexpected name format: DBI_2024-07-23_dbeq-basic.parquet\n",
      "Warning: Skipping file with unexpected name format: DBI_2024-07-24_dbeq-basic.parquet\n",
      "Warning: Skipping file with unexpected name format: DBI_2024-07-25_dbeq-basic.parquet\n",
      "Warning: Skipping file with unexpected name format: DBI_2024-07-26_dbeq-basic.parquet\n",
      "Warning: Skipping file with unexpected name format: DBI_2024-07-29_dbeq-basic.parquet\n",
      "Warning: Skipping file with unexpected name format: DBI_2024-07-30_dbeq-basic.parquet\n",
      "Warning: Skipping file with unexpected name format: DBI_2024-07-31_dbeq-basic.parquet\n",
      "Warning: Skipping file with unexpected name format: DBI_2024-08-01_dbeq-basic.parquet\n",
      "Warning: Skipping file with unexpected name format: DBI_2024-08-02_dbeq-basic.parquet\n",
      "Warning: Skipping file with unexpected name format: DBI_2024-08-05_dbeq-basic.parquet\n",
      "Warning: Skipping file with unexpected name format: DBI_2024-08-06_dbeq-basic.parquet\n",
      "Warning: Skipping file with unexpected name format: DBI_2024-08-07_dbeq-basic.parquet\n",
      "Warning: Skipping file with unexpected name format: DBI_2024-08-08_dbeq-basic.parquet\n",
      "Warning: Skipping file with unexpected name format: DBI_2024-08-09_dbeq-basic.parquet\n",
      "Warning: Skipping file with unexpected name format: DBI_2024-08-12_dbeq-basic.parquet\n",
      "Warning: Skipping file with unexpected name format: DBI_2024-08-13_dbeq-basic.parquet\n",
      "Warning: Skipping file with unexpected name format: DBI_2024-08-14_dbeq-basic.parquet\n",
      "Warning: Skipping file with unexpected name format: DBI_2024-08-15_dbeq-basic.parquet\n",
      "Warning: Skipping file with unexpected name format: DBI_2024-08-16_dbeq-basic.parquet\n",
      "Warning: Skipping file with unexpected name format: DBI_2024-08-19_dbeq-basic.parquet\n",
      "Warning: Skipping file with unexpected name format: DBI_2024-08-20_dbeq-basic.parquet\n",
      "Warning: Skipping file with unexpected name format: DBI_2024-08-21_dbeq-basic.parquet\n",
      "Warning: Skipping file with unexpected name format: DBI_2024-08-22_dbeq-basic.parquet\n",
      "Warning: Skipping file with unexpected name format: DBI_2024-08-23_dbeq-basic.parquet\n",
      "Warning: Skipping file with unexpected name format: DBI_2024-08-26_dbeq-basic.parquet\n",
      "Warning: Skipping file with unexpected name format: DBI_2024-08-27_dbeq-basic.parquet\n",
      "Warning: Skipping file with unexpected name format: DBI_2024-08-28_dbeq-basic.parquet\n",
      "Warning: Skipping file with unexpected name format: DBI_2024-08-29_dbeq-basic.parquet\n",
      "Warning: Skipping file with unexpected name format: DBI_2024-08-30_dbeq-basic.parquet\n",
      "Warning: Skipping file with unexpected name format: DBI_2024-09-03_dbeq-basic.parquet\n",
      "Warning: Skipping file with unexpected name format: DBI_2024-09-04_dbeq-basic.parquet\n",
      "Warning: Skipping file with unexpected name format: DBI_2024-09-05_dbeq-basic.parquet\n",
      "Warning: Skipping file with unexpected name format: DBI_2024-09-06_dbeq-basic.parquet\n",
      "Warning: Skipping file with unexpected name format: DBI_2024-09-09_dbeq-basic.parquet\n",
      "Warning: Skipping file with unexpected name format: DBI_2024-09-10_dbeq-basic.parquet\n",
      "Warning: Skipping file with unexpected name format: DBI_2024-09-11_dbeq-basic.parquet\n",
      "Warning: Skipping file with unexpected name format: DBI_2024-09-12_dbeq-basic.parquet\n",
      "Warning: Skipping file with unexpected name format: DBI_2024-09-13_dbeq-basic.parquet\n",
      "Warning: Skipping file with unexpected name format: DBI_2024-09-16_dbeq-basic.parquet\n",
      "Warning: Skipping file with unexpected name format: DBI_2024-09-17_dbeq-basic.parquet\n",
      "Warning: Skipping file with unexpected name format: DBI_2024-09-18_dbeq-basic.parquet\n",
      "Warning: Skipping file with unexpected name format: DBI_2024-09-19_dbeq-basic.parquet\n",
      "Warning: Skipping file with unexpected name format: DBI_2024-09-20_dbeq-basic.parquet\n",
      "Warning: Skipping file with unexpected name format: DBI_2024-09-23_dbeq-basic.parquet\n",
      "Warning: Skipping file with unexpected name format: GRAB_2023-07-17_xnas-itch.parquet\n",
      "Warning: Skipping file with unexpected name format: GRAB_2023-07-18_xnas-itch.parquet\n",
      "Warning: Skipping file with unexpected name format: GRAB_2023-07-19_xnas-itch.parquet\n",
      "Warning: Skipping file with unexpected name format: GRAB_2023-07-20_xnas-itch.parquet\n",
      "Warning: Skipping file with unexpected name format: GRAB_2023-07-21_xnas-itch.parquet\n",
      "Warning: Skipping file with unexpected name format: GRAB_2023-07-24_xnas-itch.parquet\n",
      "Warning: Skipping file with unexpected name format: GRAB_2023-07-25_xnas-itch.parquet\n",
      "Warning: Skipping file with unexpected name format: GRAB_2023-07-26_xnas-itch.parquet\n",
      "Warning: Skipping file with unexpected name format: GRAB_2023-07-27_xnas-itch.parquet\n",
      "Warning: Skipping file with unexpected name format: GRAB_2023-07-28_xnas-itch.parquet\n",
      "Warning: Skipping file with unexpected name format: GRAB_2023-07-31_xnas-itch.parquet\n",
      "Warning: Skipping file with unexpected name format: GRAB_2023-08-01_xnas-itch.parquet\n",
      "Warning: Skipping file with unexpected name format: GRAB_2023-08-02_xnas-itch.parquet\n",
      "Warning: Skipping file with unexpected name format: GRAB_2023-08-03_xnas-itch.parquet\n",
      "Warning: Skipping file with unexpected name format: GRAB_2023-08-04_xnas-itch.parquet\n",
      "Warning: Skipping file with unexpected name format: GRAB_2023-08-07_xnas-itch.parquet\n",
      "Warning: Skipping file with unexpected name format: GRAB_2023-08-08_xnas-itch.parquet\n",
      "Warning: Skipping file with unexpected name format: GRAB_2023-08-09_xnas-itch.parquet\n",
      "Warning: Skipping file with unexpected name format: GRAB_2023-08-10_xnas-itch.parquet\n",
      "Warning: Skipping file with unexpected name format: GRAB_2023-08-11_xnas-itch.parquet\n",
      "Warning: Skipping file with unexpected name format: GRAB_2023-08-14_xnas-itch.parquet\n",
      "Warning: Skipping file with unexpected name format: GRAB_2023-08-15_xnas-itch.parquet\n",
      "Warning: Skipping file with unexpected name format: GRAB_2023-08-16_xnas-itch.parquet\n",
      "Warning: Skipping file with unexpected name format: GRAB_2023-08-17_xnas-itch.parquet\n",
      "Warning: Skipping file with unexpected name format: GRAB_2023-08-18_xnas-itch.parquet\n",
      "Warning: Skipping file with unexpected name format: GRAB_2023-08-21_xnas-itch.parquet\n",
      "Warning: Skipping file with unexpected name format: GRAB_2023-08-22_xnas-itch.parquet\n",
      "Warning: Skipping file with unexpected name format: GRAB_2023-08-23_xnas-itch.parquet\n",
      "Warning: Skipping file with unexpected name format: GRAB_2023-08-24_xnas-itch.parquet\n",
      "Warning: Skipping file with unexpected name format: GRAB_2023-08-25_xnas-itch.parquet\n",
      "Warning: Skipping file with unexpected name format: GRAB_2023-08-28_xnas-itch.parquet\n",
      "Warning: Skipping file with unexpected name format: GRAB_2023-08-29_xnas-itch.parquet\n",
      "Warning: Skipping file with unexpected name format: GRAB_2023-08-30_xnas-itch.parquet\n",
      "Warning: Skipping file with unexpected name format: GRAB_2023-08-31_xnas-itch.parquet\n",
      "Warning: Skipping file with unexpected name format: GRAB_2023-09-01_xnas-itch.parquet\n",
      "Warning: Skipping file with unexpected name format: GRAB_2023-09-05_xnas-itch.parquet\n",
      "Warning: Skipping file with unexpected name format: GRAB_2023-09-06_xnas-itch.parquet\n",
      "Warning: Skipping file with unexpected name format: GRAB_2023-09-07_xnas-itch.parquet\n",
      "Warning: Skipping file with unexpected name format: GRAB_2023-09-08_xnas-itch.parquet\n",
      "Warning: Skipping file with unexpected name format: GRAB_2023-09-11_xnas-itch.parquet\n",
      "Warning: Skipping file with unexpected name format: GRAB_2023-09-12_xnas-itch.parquet\n",
      "Warning: Skipping file with unexpected name format: GRAB_2023-09-13_xnas-itch.parquet\n",
      "Warning: Skipping file with unexpected name format: GRAB_2023-09-14_xnas-itch.parquet\n",
      "Warning: Skipping file with unexpected name format: GRAB_2023-09-15_xnas-itch.parquet\n",
      "Warning: Skipping file with unexpected name format: GRAB_2023-09-18_xnas-itch.parquet\n",
      "Warning: Skipping file with unexpected name format: GRAB_2023-09-19_xnas-itch.parquet\n",
      "Warning: Skipping file with unexpected name format: GRAB_2023-09-20_xnas-itch.parquet\n",
      "Warning: Skipping file with unexpected name format: GRAB_2023-09-21_xnas-itch.parquet\n",
      "Warning: Skipping file with unexpected name format: GRAB_2023-09-22_xnas-itch.parquet\n",
      "Warning: Skipping file with unexpected name format: GRAB_2023-09-25_xnas-itch.parquet\n",
      "Warning: Skipping file with unexpected name format: GRAB_2023-09-26_xnas-itch.parquet\n",
      "Warning: Skipping file with unexpected name format: GRAB_2023-09-27_xnas-itch.parquet\n",
      "Warning: Skipping file with unexpected name format: GRAB_2023-09-28_xnas-itch.parquet\n",
      "Warning: Skipping file with unexpected name format: GRAB_2023-09-29_xnas-itch.parquet\n",
      "Warning: Skipping file with unexpected name format: GRAB_2023-10-02_xnas-itch.parquet\n",
      "Warning: Skipping file with unexpected name format: GRAB_2023-10-03_xnas-itch.parquet\n",
      "Warning: Skipping file with unexpected name format: GRAB_2023-10-04_xnas-itch.parquet\n",
      "Warning: Skipping file with unexpected name format: GRAB_2023-10-05_xnas-itch.parquet\n",
      "Warning: Skipping file with unexpected name format: GRAB_2023-10-06_xnas-itch.parquet\n",
      "Warning: Skipping file with unexpected name format: GRAB_2023-10-09_xnas-itch.parquet\n",
      "Warning: Skipping file with unexpected name format: GRAB_2023-10-10_xnas-itch.parquet\n",
      "Warning: Skipping file with unexpected name format: GRAB_2023-10-11_xnas-itch.parquet\n",
      "Warning: Skipping file with unexpected name format: GRAB_2023-10-12_xnas-itch.parquet\n",
      "Warning: Skipping file with unexpected name format: GRAB_2023-10-13_xnas-itch.parquet\n",
      "Warning: Skipping file with unexpected name format: GRAB_2023-10-16_xnas-itch.parquet\n",
      "Warning: Skipping file with unexpected name format: GRAB_2023-10-17_xnas-itch.parquet\n",
      "Warning: Skipping file with unexpected name format: GRAB_2023-10-18_xnas-itch.parquet\n",
      "Warning: Skipping file with unexpected name format: GRAB_2023-10-19_xnas-itch.parquet\n",
      "Warning: Skipping file with unexpected name format: GRAB_2023-10-20_xnas-itch.parquet\n",
      "Warning: Skipping file with unexpected name format: GRAB_2023-10-23_xnas-itch.parquet\n",
      "Warning: Skipping file with unexpected name format: GRAB_2023-10-24_xnas-itch.parquet\n",
      "Warning: Skipping file with unexpected name format: GRAB_2023-10-25_xnas-itch.parquet\n",
      "Warning: Skipping file with unexpected name format: GRAB_2023-10-26_xnas-itch.parquet\n",
      "Warning: Skipping file with unexpected name format: GRAB_2023-10-27_xnas-itch.parquet\n",
      "Warning: Skipping file with unexpected name format: GRAB_2023-10-30_xnas-itch.parquet\n",
      "Warning: Skipping file with unexpected name format: GRAB_2023-10-31_xnas-itch.parquet\n",
      "Warning: Skipping file with unexpected name format: GRAB_2023-11-01_xnas-itch.parquet\n",
      "Warning: Skipping file with unexpected name format: GRAB_2023-11-02_xnas-itch.parquet\n",
      "Warning: Skipping file with unexpected name format: GRAB_2023-11-03_xnas-itch.parquet\n",
      "Warning: Skipping file with unexpected name format: GRAB_2023-11-06_xnas-itch.parquet\n",
      "Warning: Skipping file with unexpected name format: GRAB_2023-11-07_xnas-itch.parquet\n",
      "Warning: Skipping file with unexpected name format: GRAB_2023-11-08_xnas-itch.parquet\n",
      "Warning: Skipping file with unexpected name format: GRAB_2023-11-09_xnas-itch.parquet\n",
      "Warning: Skipping file with unexpected name format: GRAB_2023-11-10_xnas-itch.parquet\n",
      "Warning: Skipping file with unexpected name format: GRAB_2023-11-13_xnas-itch.parquet\n",
      "Warning: Skipping file with unexpected name format: GRAB_2023-11-14_xnas-itch.parquet\n",
      "Warning: Skipping file with unexpected name format: GRAB_2023-11-15_xnas-itch.parquet\n",
      "Warning: Skipping file with unexpected name format: GRAB_2023-11-16_xnas-itch.parquet\n",
      "Warning: Skipping file with unexpected name format: GRAB_2023-11-17_xnas-itch.parquet\n",
      "Warning: Skipping file with unexpected name format: GRAB_2023-11-20_xnas-itch.parquet\n",
      "Warning: Skipping file with unexpected name format: GRAB_2023-11-21_xnas-itch.parquet\n",
      "Warning: Skipping file with unexpected name format: GRAB_2023-11-22_xnas-itch.parquet\n",
      "Warning: Skipping file with unexpected name format: GRAB_2023-11-24_xnas-itch.parquet\n",
      "Warning: Skipping file with unexpected name format: GRAB_2023-11-27_xnas-itch.parquet\n",
      "Warning: Skipping file with unexpected name format: GRAB_2023-11-28_xnas-itch.parquet\n",
      "Warning: Skipping file with unexpected name format: GRAB_2023-11-29_xnas-itch.parquet\n",
      "Warning: Skipping file with unexpected name format: GRAB_2023-11-30_xnas-itch.parquet\n",
      "Warning: Skipping file with unexpected name format: GRAB_2023-12-01_xnas-itch.parquet\n",
      "Warning: Skipping file with unexpected name format: GRAB_2023-12-04_xnas-itch.parquet\n",
      "Warning: Skipping file with unexpected name format: GRAB_2023-12-05_xnas-itch.parquet\n",
      "Warning: Skipping file with unexpected name format: GRAB_2023-12-06_xnas-itch.parquet\n",
      "Warning: Skipping file with unexpected name format: GRAB_2023-12-07_xnas-itch.parquet\n",
      "Warning: Skipping file with unexpected name format: GRAB_2023-12-08_xnas-itch.parquet\n",
      "Warning: Skipping file with unexpected name format: GRAB_2023-12-11_xnas-itch.parquet\n",
      "Warning: Skipping file with unexpected name format: GRAB_2023-12-12_xnas-itch.parquet\n",
      "Warning: Skipping file with unexpected name format: GRAB_2023-12-13_xnas-itch.parquet\n",
      "Warning: Skipping file with unexpected name format: GRAB_2023-12-14_xnas-itch.parquet\n",
      "Warning: Skipping file with unexpected name format: GRAB_2023-12-15_xnas-itch.parquet\n",
      "Warning: Skipping file with unexpected name format: GRAB_2023-12-18_xnas-itch.parquet\n",
      "Warning: Skipping file with unexpected name format: GRAB_2023-12-19_xnas-itch.parquet\n",
      "Warning: Skipping file with unexpected name format: GRAB_2023-12-20_xnas-itch.parquet\n",
      "Warning: Skipping file with unexpected name format: GRAB_2023-12-21_xnas-itch.parquet\n",
      "Warning: Skipping file with unexpected name format: GRAB_2023-12-22_xnas-itch.parquet\n",
      "Warning: Skipping file with unexpected name format: GRAB_2023-12-26_xnas-itch.parquet\n",
      "Warning: Skipping file with unexpected name format: GRAB_2023-12-27_xnas-itch.parquet\n",
      "Warning: Skipping file with unexpected name format: GRAB_2023-12-28_xnas-itch.parquet\n",
      "Warning: Skipping file with unexpected name format: GRAB_2023-12-29_xnas-itch.parquet\n",
      "Warning: Skipping file with unexpected name format: GRAB_2024-01-02_xnas-itch.parquet\n",
      "Warning: Skipping file with unexpected name format: GRAB_2024-01-03_xnas-itch.parquet\n",
      "Warning: Skipping file with unexpected name format: GRAB_2024-01-04_xnas-itch.parquet\n",
      "Warning: Skipping file with unexpected name format: GRAB_2024-01-05_xnas-itch.parquet\n",
      "Warning: Skipping file with unexpected name format: GRAB_2024-01-08_xnas-itch.parquet\n",
      "Warning: Skipping file with unexpected name format: GRAB_2024-01-09_xnas-itch.parquet\n",
      "Warning: Skipping file with unexpected name format: GRAB_2024-01-10_xnas-itch.parquet\n",
      "Warning: Skipping file with unexpected name format: GRAB_2024-01-11_xnas-itch.parquet\n",
      "Warning: Skipping file with unexpected name format: GRAB_2024-01-12_xnas-itch.parquet\n",
      "Warning: Skipping file with unexpected name format: GRAB_2024-01-16_xnas-itch.parquet\n",
      "Warning: Skipping file with unexpected name format: GRAB_2024-01-17_xnas-itch.parquet\n",
      "Warning: Skipping file with unexpected name format: GRAB_2024-01-18_xnas-itch.parquet\n",
      "Warning: Skipping file with unexpected name format: GRAB_2024-01-19_xnas-itch.parquet\n",
      "Warning: Skipping file with unexpected name format: GRAB_2024-01-22_xnas-itch.parquet\n",
      "Warning: Skipping file with unexpected name format: GRAB_2024-01-23_xnas-itch.parquet\n",
      "Warning: Skipping file with unexpected name format: GRAB_2024-01-24_xnas-itch.parquet\n",
      "Warning: Skipping file with unexpected name format: GRAB_2024-01-25_xnas-itch.parquet\n",
      "Warning: Skipping file with unexpected name format: GRAB_2024-01-26_xnas-itch.parquet\n",
      "Warning: Skipping file with unexpected name format: GRAB_2024-01-29_xnas-itch.parquet\n",
      "Warning: Skipping file with unexpected name format: GRAB_2024-01-30_xnas-itch.parquet\n",
      "Warning: Skipping file with unexpected name format: GRAB_2024-01-31_xnas-itch.parquet\n",
      "Warning: Skipping file with unexpected name format: GRAB_2024-02-01_xnas-itch.parquet\n",
      "Warning: Skipping file with unexpected name format: GRAB_2024-02-02_xnas-itch.parquet\n",
      "Warning: Skipping file with unexpected name format: GRAB_2024-02-05_xnas-itch.parquet\n",
      "Warning: Skipping file with unexpected name format: GRAB_2024-02-06_xnas-itch.parquet\n",
      "Warning: Skipping file with unexpected name format: GRAB_2024-02-07_xnas-itch.parquet\n",
      "Warning: Skipping file with unexpected name format: GRAB_2024-02-08_xnas-itch.parquet\n",
      "Warning: Skipping file with unexpected name format: GRAB_2024-02-09_xnas-itch.parquet\n",
      "Warning: Skipping file with unexpected name format: GRAB_2024-02-12_xnas-itch.parquet\n",
      "Warning: Skipping file with unexpected name format: GRAB_2024-02-13_xnas-itch.parquet\n",
      "Warning: Skipping file with unexpected name format: GRAB_2024-02-14_xnas-itch.parquet\n",
      "Warning: Skipping file with unexpected name format: GRAB_2024-02-15_xnas-itch.parquet\n",
      "Warning: Skipping file with unexpected name format: GRAB_2024-02-16_xnas-itch.parquet\n",
      "Warning: Skipping file with unexpected name format: GRAB_2024-02-20_xnas-itch.parquet\n",
      "Warning: Skipping file with unexpected name format: GRAB_2024-02-21_xnas-itch.parquet\n",
      "Warning: Skipping file with unexpected name format: GRAB_2024-02-22_xnas-itch.parquet\n",
      "Warning: Skipping file with unexpected name format: GRAB_2024-02-23_xnas-itch.parquet\n",
      "Warning: Skipping file with unexpected name format: GRAB_2024-02-26_xnas-itch.parquet\n",
      "Warning: Skipping file with unexpected name format: GRAB_2024-02-27_xnas-itch.parquet\n",
      "Warning: Skipping file with unexpected name format: GRAB_2024-02-28_xnas-itch.parquet\n",
      "Warning: Skipping file with unexpected name format: GRAB_2024-02-29_xnas-itch.parquet\n",
      "Warning: Skipping file with unexpected name format: GRAB_2024-03-01_xnas-itch.parquet\n",
      "Warning: Skipping file with unexpected name format: GRAB_2024-03-04_xnas-itch.parquet\n",
      "Warning: Skipping file with unexpected name format: GRAB_2024-03-05_xnas-itch.parquet\n",
      "Warning: Skipping file with unexpected name format: GRAB_2024-03-06_xnas-itch.parquet\n",
      "Warning: Skipping file with unexpected name format: GRAB_2024-03-07_xnas-itch.parquet\n",
      "Warning: Skipping file with unexpected name format: GRAB_2024-03-08_xnas-itch.parquet\n",
      "Warning: Skipping file with unexpected name format: GRAB_2024-03-11_xnas-itch.parquet\n",
      "Warning: Skipping file with unexpected name format: GRAB_2024-03-12_xnas-itch.parquet\n",
      "Warning: Skipping file with unexpected name format: GRAB_2024-03-13_xnas-itch.parquet\n",
      "Warning: Skipping file with unexpected name format: GRAB_2024-03-14_xnas-itch.parquet\n",
      "Warning: Skipping file with unexpected name format: GRAB_2024-03-15_xnas-itch.parquet\n",
      "Warning: Skipping file with unexpected name format: GRAB_2024-03-18_xnas-itch.parquet\n",
      "Warning: Skipping file with unexpected name format: GRAB_2024-03-19_xnas-itch.parquet\n",
      "Warning: Skipping file with unexpected name format: GRAB_2024-03-20_xnas-itch.parquet\n",
      "Warning: Skipping file with unexpected name format: GRAB_2024-03-21_xnas-itch.parquet\n",
      "Warning: Skipping file with unexpected name format: GRAB_2024-03-22_xnas-itch.parquet\n",
      "Warning: Skipping file with unexpected name format: GRAB_2024-03-25_xnas-itch.parquet\n",
      "Warning: Skipping file with unexpected name format: GRAB_2024-03-26_xnas-itch.parquet\n",
      "Warning: Skipping file with unexpected name format: GRAB_2024-03-27_xnas-itch.parquet\n",
      "Warning: Skipping file with unexpected name format: GRAB_2024-03-28_xnas-itch.parquet\n",
      "Warning: Skipping file with unexpected name format: GRAB_2024-04-01_xnas-itch.parquet\n",
      "Warning: Skipping file with unexpected name format: GRAB_2024-04-02_xnas-itch.parquet\n",
      "Warning: Skipping file with unexpected name format: GRAB_2024-04-03_xnas-itch.parquet\n",
      "Warning: Skipping file with unexpected name format: GRAB_2024-04-04_xnas-itch.parquet\n",
      "Warning: Skipping file with unexpected name format: GRAB_2024-04-05_xnas-itch.parquet\n",
      "Warning: Skipping file with unexpected name format: GRAB_2024-04-08_xnas-itch.parquet\n",
      "Warning: Skipping file with unexpected name format: GRAB_2024-04-09_xnas-itch.parquet\n",
      "Warning: Skipping file with unexpected name format: GRAB_2024-04-10_xnas-itch.parquet\n",
      "Warning: Skipping file with unexpected name format: GRAB_2024-04-11_xnas-itch.parquet\n",
      "Warning: Skipping file with unexpected name format: GRAB_2024-04-12_xnas-itch.parquet\n",
      "Warning: Skipping file with unexpected name format: GRAB_2024-04-15_xnas-itch.parquet\n",
      "Warning: Skipping file with unexpected name format: GRAB_2024-04-16_xnas-itch.parquet\n",
      "Warning: Skipping file with unexpected name format: GRAB_2024-04-17_xnas-itch.parquet\n",
      "Warning: Skipping file with unexpected name format: GRAB_2024-04-18_xnas-itch.parquet\n",
      "Warning: Skipping file with unexpected name format: GRAB_2024-04-19_xnas-itch.parquet\n",
      "Warning: Skipping file with unexpected name format: GRAB_2024-04-22_xnas-itch.parquet\n",
      "Warning: Skipping file with unexpected name format: GRAB_2024-04-23_xnas-itch.parquet\n",
      "Warning: Skipping file with unexpected name format: GRAB_2024-04-24_xnas-itch.parquet\n",
      "Warning: Skipping file with unexpected name format: GRAB_2024-04-25_xnas-itch.parquet\n",
      "Warning: Skipping file with unexpected name format: GRAB_2024-04-26_xnas-itch.parquet\n",
      "Warning: Skipping file with unexpected name format: GRAB_2024-04-29_xnas-itch.parquet\n",
      "Warning: Skipping file with unexpected name format: GRAB_2024-04-30_xnas-itch.parquet\n",
      "Warning: Skipping file with unexpected name format: GRAB_2024-05-01_xnas-itch.parquet\n",
      "Warning: Skipping file with unexpected name format: GRAB_2024-05-02_xnas-itch.parquet\n",
      "Warning: Skipping file with unexpected name format: GRAB_2024-05-03_xnas-itch.parquet\n",
      "Warning: Skipping file with unexpected name format: GRAB_2024-05-06_xnas-itch.parquet\n",
      "Warning: Skipping file with unexpected name format: GRAB_2024-05-07_xnas-itch.parquet\n",
      "Warning: Skipping file with unexpected name format: GRAB_2024-05-08_xnas-itch.parquet\n",
      "Warning: Skipping file with unexpected name format: GRAB_2024-05-09_xnas-itch.parquet\n",
      "Warning: Skipping file with unexpected name format: GRAB_2024-05-10_xnas-itch.parquet\n",
      "Warning: Skipping file with unexpected name format: GRAB_2024-05-13_xnas-itch.parquet\n",
      "Warning: Skipping file with unexpected name format: GRAB_2024-05-14_xnas-itch.parquet\n",
      "Warning: Skipping file with unexpected name format: GRAB_2024-05-15_xnas-itch.parquet\n",
      "Warning: Skipping file with unexpected name format: GRAB_2024-05-16_xnas-itch.parquet\n",
      "Warning: Skipping file with unexpected name format: GRAB_2024-05-17_xnas-itch.parquet\n",
      "Warning: Skipping file with unexpected name format: GRAB_2024-05-20_xnas-itch.parquet\n",
      "Warning: Skipping file with unexpected name format: GRAB_2024-05-21_xnas-itch.parquet\n",
      "Warning: Skipping file with unexpected name format: GRAB_2024-05-22_xnas-itch.parquet\n",
      "Warning: Skipping file with unexpected name format: GRAB_2024-05-23_xnas-itch.parquet\n",
      "Warning: Skipping file with unexpected name format: GRAB_2024-05-24_xnas-itch.parquet\n",
      "Warning: Skipping file with unexpected name format: GRAB_2024-05-28_xnas-itch.parquet\n",
      "Warning: Skipping file with unexpected name format: GRAB_2024-05-29_xnas-itch.parquet\n",
      "Warning: Skipping file with unexpected name format: GRAB_2024-05-30_xnas-itch.parquet\n",
      "Warning: Skipping file with unexpected name format: GRAB_2024-05-31_xnas-itch.parquet\n",
      "Warning: Skipping file with unexpected name format: GRAB_2024-06-03_xnas-itch.parquet\n",
      "Warning: Skipping file with unexpected name format: GRAB_2024-06-04_xnas-itch.parquet\n",
      "Warning: Skipping file with unexpected name format: GRAB_2024-06-05_xnas-itch.parquet\n",
      "Warning: Skipping file with unexpected name format: GRAB_2024-06-06_xnas-itch.parquet\n",
      "Warning: Skipping file with unexpected name format: GRAB_2024-06-07_xnas-itch.parquet\n",
      "Warning: Skipping file with unexpected name format: GRAB_2024-06-10_xnas-itch.parquet\n",
      "Warning: Skipping file with unexpected name format: GRAB_2024-06-11_xnas-itch.parquet\n",
      "Warning: Skipping file with unexpected name format: GRAB_2024-06-12_xnas-itch.parquet\n",
      "Warning: Skipping file with unexpected name format: GRAB_2024-06-13_xnas-itch.parquet\n",
      "Warning: Skipping file with unexpected name format: GRAB_2024-06-14_xnas-itch.parquet\n",
      "Warning: Skipping file with unexpected name format: GRAB_2024-06-17_xnas-itch.parquet\n",
      "Warning: Skipping file with unexpected name format: GRAB_2024-06-18_xnas-itch.parquet\n",
      "Warning: Skipping file with unexpected name format: GRAB_2024-06-20_xnas-itch.parquet\n",
      "Warning: Skipping file with unexpected name format: GRAB_2024-06-21_xnas-itch.parquet\n",
      "Warning: Skipping file with unexpected name format: GRAB_2024-06-24_xnas-itch.parquet\n",
      "Warning: Skipping file with unexpected name format: GRAB_2024-06-25_xnas-itch.parquet\n",
      "Warning: Skipping file with unexpected name format: GRAB_2024-06-26_xnas-itch.parquet\n",
      "Warning: Skipping file with unexpected name format: GRAB_2024-06-27_xnas-itch.parquet\n",
      "Warning: Skipping file with unexpected name format: GRAB_2024-06-28_xnas-itch.parquet\n",
      "Warning: Skipping file with unexpected name format: GRAB_2024-07-01_xnas-itch.parquet\n",
      "Warning: Skipping file with unexpected name format: GRAB_2024-07-02_xnas-itch.parquet\n",
      "Warning: Skipping file with unexpected name format: GRAB_2024-07-03_xnas-itch.parquet\n",
      "Warning: Skipping file with unexpected name format: GRAB_2024-07-05_xnas-itch.parquet\n",
      "Warning: Skipping file with unexpected name format: GRAB_2024-07-08_xnas-itch.parquet\n",
      "Warning: Skipping file with unexpected name format: GRAB_2024-07-09_xnas-itch.parquet\n",
      "Warning: Skipping file with unexpected name format: GRAB_2024-07-10_xnas-itch.parquet\n",
      "Warning: Skipping file with unexpected name format: GRAB_2024-07-11_xnas-itch.parquet\n",
      "Warning: Skipping file with unexpected name format: GRAB_2024-07-12_xnas-itch.parquet\n",
      "Warning: Skipping file with unexpected name format: GRAB_2024-07-15_xnas-itch.parquet\n",
      "Warning: Skipping file with unexpected name format: GRAB_2024-07-16_xnas-itch.parquet\n",
      "Warning: Skipping file with unexpected name format: GRAB_2024-07-17_xnas-itch.parquet\n",
      "Warning: Skipping file with unexpected name format: GRAB_2024-07-18_xnas-itch.parquet\n",
      "Warning: Skipping file with unexpected name format: GRAB_2024-07-19_xnas-itch.parquet\n",
      "Warning: Skipping file with unexpected name format: GRAB_2024-07-22_xnas-itch.parquet\n",
      "Warning: Skipping file with unexpected name format: GRAB_2024-07-23_xnas-itch.parquet\n",
      "Warning: Skipping file with unexpected name format: GRAB_2024-07-24_xnas-itch.parquet\n",
      "Warning: Skipping file with unexpected name format: GRAB_2024-07-25_xnas-itch.parquet\n",
      "Warning: Skipping file with unexpected name format: GRAB_2024-07-26_xnas-itch.parquet\n",
      "Warning: Skipping file with unexpected name format: GRAB_2024-07-29_xnas-itch.parquet\n",
      "Warning: Skipping file with unexpected name format: GRAB_2024-07-30_xnas-itch.parquet\n",
      "Warning: Skipping file with unexpected name format: GRAB_2024-07-31_xnas-itch.parquet\n",
      "Warning: Skipping file with unexpected name format: GRAB_2024-08-01_xnas-itch.parquet\n",
      "Warning: Skipping file with unexpected name format: GRAB_2024-08-02_xnas-itch.parquet\n",
      "Warning: Skipping file with unexpected name format: GRAB_2024-08-05_xnas-itch.parquet\n",
      "Warning: Skipping file with unexpected name format: GRAB_2024-08-06_xnas-itch.parquet\n",
      "Warning: Skipping file with unexpected name format: GRAB_2024-08-07_xnas-itch.parquet\n",
      "Warning: Skipping file with unexpected name format: GRAB_2024-08-08_xnas-itch.parquet\n",
      "Warning: Skipping file with unexpected name format: GRAB_2024-08-09_xnas-itch.parquet\n",
      "Warning: Skipping file with unexpected name format: GRAB_2024-08-12_xnas-itch.parquet\n",
      "Warning: Skipping file with unexpected name format: GRAB_2024-08-13_xnas-itch.parquet\n",
      "Warning: Skipping file with unexpected name format: GRAB_2024-08-14_xnas-itch.parquet\n",
      "Warning: Skipping file with unexpected name format: GRAB_2024-08-15_xnas-itch.parquet\n",
      "Warning: Skipping file with unexpected name format: GRAB_2024-08-16_xnas-itch.parquet\n",
      "Warning: Skipping file with unexpected name format: GRAB_2024-08-19_xnas-itch.parquet\n",
      "Warning: Skipping file with unexpected name format: GRAB_2024-08-20_xnas-itch.parquet\n",
      "Warning: Skipping file with unexpected name format: GRAB_2024-08-21_xnas-itch.parquet\n",
      "Warning: Skipping file with unexpected name format: GRAB_2024-08-22_xnas-itch.parquet\n",
      "Warning: Skipping file with unexpected name format: GRAB_2024-08-23_xnas-itch.parquet\n",
      "Warning: Skipping file with unexpected name format: GRAB_2024-08-26_xnas-itch.parquet\n",
      "Warning: Skipping file with unexpected name format: GRAB_2024-08-27_xnas-itch.parquet\n",
      "Warning: Skipping file with unexpected name format: GRAB_2024-08-28_xnas-itch.parquet\n",
      "Warning: Skipping file with unexpected name format: GRAB_2024-08-29_xnas-itch.parquet\n",
      "Warning: Skipping file with unexpected name format: GRAB_2024-08-30_xnas-itch.parquet\n",
      "Warning: Skipping file with unexpected name format: GRAB_2024-09-03_xnas-itch.parquet\n",
      "Warning: Skipping file with unexpected name format: GRAB_2024-09-04_xnas-itch.parquet\n",
      "Warning: Skipping file with unexpected name format: GRAB_2024-09-05_xnas-itch.parquet\n",
      "Warning: Skipping file with unexpected name format: GRAB_2024-09-06_xnas-itch.parquet\n",
      "Warning: Skipping file with unexpected name format: GRAB_2024-09-09_xnas-itch.parquet\n",
      "Warning: Skipping file with unexpected name format: GRAB_2024-09-10_xnas-itch.parquet\n",
      "Warning: Skipping file with unexpected name format: GRAB_2024-09-11_xnas-itch.parquet\n",
      "Warning: Skipping file with unexpected name format: GRAB_2024-09-12_xnas-itch.parquet\n",
      "Warning: Skipping file with unexpected name format: GRAB_2024-09-13_xnas-itch.parquet\n",
      "Warning: Skipping file with unexpected name format: GRAB_2024-09-16_xnas-itch.parquet\n",
      "Warning: Skipping file with unexpected name format: GRAB_2024-09-17_xnas-itch.parquet\n",
      "Warning: Skipping file with unexpected name format: GRAB_2024-09-18_xnas-itch.parquet\n",
      "Warning: Skipping file with unexpected name format: GRAB_2024-09-19_xnas-itch.parquet\n",
      "Warning: Skipping file with unexpected name format: GRAB_2024-09-20_xnas-itch.parquet\n",
      "Warning: Skipping file with unexpected name format: GRAB_2024-09-23_xnas-itch.parquet\n",
      "Warning: Skipping file with unexpected name format: GRAB_2024-09-24_xnas-itch.parquet\n",
      "Warning: Skipping file with unexpected name format: GRAB_2024-09-25_xnas-itch.parquet\n",
      "Warning: Skipping file with unexpected name format: GRAB_2024-09-26_xnas-itch.parquet\n",
      "Warning: Skipping file with unexpected name format: GRAB_2024-09-27_xnas-itch.parquet\n",
      "Warning: Skipping file with unexpected name format: GRAB_2024-09-30_xnas-itch.parquet\n",
      "Warning: Skipping file with unexpected name format: GRAB_2024-10-01_xnas-itch.parquet\n",
      "Warning: Skipping file with unexpected name format: GRAB_2024-10-02_xnas-itch.parquet\n",
      "Warning: Skipping file with unexpected name format: GRAB_2024-10-03_xnas-itch.parquet\n",
      "Warning: Skipping file with unexpected name format: GRAB_2024-10-04_xnas-itch.parquet\n",
      "Warning: Skipping file with unexpected name format: GRAB_2024-10-07_xnas-itch.parquet\n",
      "Warning: Skipping file with unexpected name format: GRAB_2024-10-08_xnas-itch.parquet\n",
      "Warning: Skipping file with unexpected name format: GRAB_2024-10-09_xnas-itch.parquet\n",
      "Warning: Skipping file with unexpected name format: GRAB_2024-10-10_xnas-itch.parquet\n",
      "Warning: Skipping file with unexpected name format: GRAB_2024-10-11_xnas-itch.parquet\n",
      "Warning: Skipping file with unexpected name format: GRAB_2024-10-14_xnas-itch.parquet\n",
      "Warning: Skipping file with unexpected name format: GRAB_2024-10-15_xnas-itch.parquet\n",
      "Warning: Skipping file with unexpected name format: GRAB_2024-10-16_xnas-itch.parquet\n",
      "Warning: Skipping file with unexpected name format: GRAB_2024-10-17_xnas-itch.parquet\n",
      "Warning: Skipping file with unexpected name format: GRAB_2024-10-18_xnas-itch.parquet\n",
      "Warning: Skipping file with unexpected name format: GRAB_2024-10-21_xnas-itch.parquet\n",
      "Warning: Skipping file with unexpected name format: GRAB_2024-10-22_xnas-itch.parquet\n",
      "Warning: Skipping file with unexpected name format: GRAB_2024-10-23_xnas-itch.parquet\n",
      "Warning: Skipping file with unexpected name format: GRAB_2024-10-24_xnas-itch.parquet\n",
      "Warning: Skipping file with unexpected name format: GRAB_2024-10-25_xnas-itch.parquet\n",
      "Warning: Skipping file with unexpected name format: GRAB_2024-10-28_xnas-itch.parquet\n",
      "Warning: Skipping file with unexpected name format: GRAB_2024-10-29_xnas-itch.parquet\n",
      "Warning: Skipping file with unexpected name format: GRAB_2024-10-30_xnas-itch.parquet\n",
      "Warning: Skipping file with unexpected name format: GRAB_2024-10-31_xnas-itch.parquet\n",
      "Warning: Skipping file with unexpected name format: GRAB_2024-11-01_xnas-itch.parquet\n",
      "Warning: Skipping file with unexpected name format: GRAB_2024-11-04_xnas-itch.parquet\n",
      "Warning: Skipping file with unexpected name format: GRAB_2024-11-05_xnas-itch.parquet\n",
      "Warning: Skipping file with unexpected name format: GRAB_2024-11-06_xnas-itch.parquet\n",
      "Warning: Skipping file with unexpected name format: GRAB_2024-11-07_xnas-itch.parquet\n",
      "Warning: Skipping file with unexpected name format: GRAB_2024-11-08_xnas-itch.parquet\n",
      "Warning: Skipping file with unexpected name format: GRAB_2024-11-11_xnas-itch.parquet\n",
      "Warning: Skipping file with unexpected name format: GRAB_2024-11-12_xnas-itch.parquet\n",
      "Warning: Skipping file with unexpected name format: GRAB_2024-11-13_xnas-itch.parquet\n",
      "Warning: Skipping file with unexpected name format: GRAB_2024-11-14_xnas-itch.parquet\n",
      "Warning: Skipping file with unexpected name format: GRAB_2024-11-15_xnas-itch.parquet\n",
      "Warning: Skipping file with unexpected name format: GRAB_2024-11-18_xnas-itch.parquet\n",
      "Warning: Skipping file with unexpected name format: GRAB_2024-11-19_xnas-itch.parquet\n",
      "Warning: Skipping file with unexpected name format: GRAB_2024-11-20_xnas-itch.parquet\n",
      "Warning: Skipping file with unexpected name format: GRAB_2024-11-21_xnas-itch.parquet\n",
      "Warning: Skipping file with unexpected name format: GRAB_2024-11-22_xnas-itch.parquet\n",
      "Warning: Skipping file with unexpected name format: GRAB_2024-11-25_xnas-itch.parquet\n",
      "Warning: Skipping file with unexpected name format: GRAB_2024-11-26_xnas-itch.parquet\n",
      "Warning: Skipping file with unexpected name format: GRAB_2024-11-27_xnas-itch.parquet\n",
      "Warning: Skipping file with unexpected name format: GRAB_2024-11-29_xnas-itch.parquet\n",
      "Warning: Skipping file with unexpected name format: GRAB_2024-12-02_xnas-itch.parquet\n",
      "Warning: Skipping file with unexpected name format: GRAB_2024-12-03_xnas-itch.parquet\n",
      "Warning: Skipping file with unexpected name format: GRAB_2024-12-04_xnas-itch.parquet\n",
      "Warning: Skipping file with unexpected name format: GRAB_2024-12-05_xnas-itch.parquet\n",
      "Warning: Skipping file with unexpected name format: GRAB_2024-12-06_xnas-itch.parquet\n",
      "Warning: Skipping file with unexpected name format: GRAB_2024-12-09_xnas-itch.parquet\n",
      "Warning: Skipping file with unexpected name format: GRAB_2024-12-10_xnas-itch.parquet\n",
      "Warning: Skipping file with unexpected name format: GRAB_2024-12-11_xnas-itch.parquet\n",
      "Warning: Skipping file with unexpected name format: GRAB_2024-12-12_xnas-itch.parquet\n",
      "Warning: Skipping file with unexpected name format: GRAB_2024-12-13_xnas-itch.parquet\n",
      "Warning: Skipping file with unexpected name format: GRAB_2024-12-16_xnas-itch.parquet\n",
      "Warning: Skipping file with unexpected name format: ERIC_2024-06-24_dbeq-basic.parquet\n",
      "Warning: Skipping file with unexpected name format: ERIC_2024-06-25_dbeq-basic.parquet\n",
      "Warning: Skipping file with unexpected name format: ERIC_2024-06-26_dbeq-basic.parquet\n",
      "Warning: Skipping file with unexpected name format: ERIC_2024-06-27_dbeq-basic.parquet\n",
      "Warning: Skipping file with unexpected name format: ERIC_2024-06-28_dbeq-basic.parquet\n",
      "Warning: Skipping file with unexpected name format: ERIC_2024-07-01_dbeq-basic.parquet\n",
      "Warning: Skipping file with unexpected name format: ERIC_2024-07-02_dbeq-basic.parquet\n",
      "Warning: Skipping file with unexpected name format: ERIC_2024-07-03_dbeq-basic.parquet\n",
      "Warning: Skipping file with unexpected name format: ERIC_2024-07-05_dbeq-basic.parquet\n",
      "Warning: Skipping file with unexpected name format: ERIC_2024-07-08_dbeq-basic.parquet\n",
      "Warning: Skipping file with unexpected name format: ERIC_2024-07-09_dbeq-basic.parquet\n",
      "Warning: Skipping file with unexpected name format: ERIC_2024-07-10_dbeq-basic.parquet\n",
      "Warning: Skipping file with unexpected name format: ERIC_2024-07-11_dbeq-basic.parquet\n",
      "Warning: Skipping file with unexpected name format: ERIC_2024-07-12_dbeq-basic.parquet\n",
      "Warning: Skipping file with unexpected name format: ERIC_2024-07-15_dbeq-basic.parquet\n",
      "Warning: Skipping file with unexpected name format: ERIC_2024-07-16_dbeq-basic.parquet\n",
      "Warning: Skipping file with unexpected name format: ERIC_2024-07-17_dbeq-basic.parquet\n",
      "Warning: Skipping file with unexpected name format: ERIC_2024-07-18_dbeq-basic.parquet\n",
      "Warning: Skipping file with unexpected name format: ERIC_2024-07-19_dbeq-basic.parquet\n",
      "Warning: Skipping file with unexpected name format: ERIC_2024-07-22_dbeq-basic.parquet\n",
      "Warning: Skipping file with unexpected name format: ERIC_2024-07-23_dbeq-basic.parquet\n",
      "Warning: Skipping file with unexpected name format: ERIC_2024-07-24_dbeq-basic.parquet\n",
      "Warning: Skipping file with unexpected name format: ERIC_2024-07-25_dbeq-basic.parquet\n",
      "Warning: Skipping file with unexpected name format: ERIC_2024-07-26_dbeq-basic.parquet\n",
      "Warning: Skipping file with unexpected name format: ERIC_2024-07-29_dbeq-basic.parquet\n",
      "Warning: Skipping file with unexpected name format: ERIC_2024-07-30_dbeq-basic.parquet\n",
      "Warning: Skipping file with unexpected name format: ERIC_2024-07-31_dbeq-basic.parquet\n",
      "Warning: Skipping file with unexpected name format: ERIC_2024-08-01_dbeq-basic.parquet\n",
      "Warning: Skipping file with unexpected name format: ERIC_2024-08-02_dbeq-basic.parquet\n",
      "Warning: Skipping file with unexpected name format: ERIC_2024-08-05_dbeq-basic.parquet\n",
      "Warning: Skipping file with unexpected name format: ERIC_2024-08-06_dbeq-basic.parquet\n",
      "Warning: Skipping file with unexpected name format: ERIC_2024-08-07_dbeq-basic.parquet\n",
      "Warning: Skipping file with unexpected name format: ERIC_2024-08-08_dbeq-basic.parquet\n",
      "Warning: Skipping file with unexpected name format: ERIC_2024-08-09_dbeq-basic.parquet\n",
      "Warning: Skipping file with unexpected name format: ERIC_2024-08-12_dbeq-basic.parquet\n",
      "Warning: Skipping file with unexpected name format: ERIC_2024-08-13_dbeq-basic.parquet\n",
      "Warning: Skipping file with unexpected name format: ERIC_2024-08-14_dbeq-basic.parquet\n",
      "Warning: Skipping file with unexpected name format: ERIC_2024-08-15_dbeq-basic.parquet\n",
      "Warning: Skipping file with unexpected name format: ERIC_2024-08-16_dbeq-basic.parquet\n",
      "Warning: Skipping file with unexpected name format: ERIC_2024-08-19_dbeq-basic.parquet\n",
      "Warning: Skipping file with unexpected name format: ERIC_2024-08-20_dbeq-basic.parquet\n",
      "Warning: Skipping file with unexpected name format: ERIC_2024-08-21_dbeq-basic.parquet\n",
      "Warning: Skipping file with unexpected name format: ERIC_2024-08-22_dbeq-basic.parquet\n",
      "Warning: Skipping file with unexpected name format: ERIC_2024-08-23_dbeq-basic.parquet\n",
      "Warning: Skipping file with unexpected name format: ERIC_2024-08-26_dbeq-basic.parquet\n",
      "Warning: Skipping file with unexpected name format: ERIC_2024-08-27_dbeq-basic.parquet\n",
      "Warning: Skipping file with unexpected name format: ERIC_2024-08-28_dbeq-basic.parquet\n",
      "Warning: Skipping file with unexpected name format: ERIC_2024-08-29_dbeq-basic.parquet\n",
      "Warning: Skipping file with unexpected name format: ERIC_2024-08-30_dbeq-basic.parquet\n",
      "Warning: Skipping file with unexpected name format: ERIC_2024-09-03_dbeq-basic.parquet\n",
      "Warning: Skipping file with unexpected name format: ERIC_2024-09-04_dbeq-basic.parquet\n",
      "Warning: Skipping file with unexpected name format: ERIC_2024-09-05_dbeq-basic.parquet\n",
      "Warning: Skipping file with unexpected name format: ERIC_2024-09-06_dbeq-basic.parquet\n",
      "Warning: Skipping file with unexpected name format: ERIC_2024-09-09_dbeq-basic.parquet\n",
      "Warning: Skipping file with unexpected name format: ERIC_2024-09-10_dbeq-basic.parquet\n",
      "Warning: Skipping file with unexpected name format: ERIC_2024-09-11_dbeq-basic.parquet\n",
      "Warning: Skipping file with unexpected name format: ERIC_2024-09-12_dbeq-basic.parquet\n",
      "Warning: Skipping file with unexpected name format: ERIC_2024-09-13_dbeq-basic.parquet\n",
      "Warning: Skipping file with unexpected name format: ERIC_2024-09-16_dbeq-basic.parquet\n",
      "Warning: Skipping file with unexpected name format: ERIC_2024-09-17_dbeq-basic.parquet\n",
      "Warning: Skipping file with unexpected name format: ERIC_2024-09-18_dbeq-basic.parquet\n",
      "Warning: Skipping file with unexpected name format: ERIC_2024-09-19_dbeq-basic.parquet\n",
      "Warning: Skipping file with unexpected name format: ERIC_2024-09-20_dbeq-basic.parquet\n",
      "Warning: Skipping file with unexpected name format: ERIC_2024-09-23_dbeq-basic.parquet\n",
      "Warning: Skipping file with unexpected name format: AMZN_2024-10-01_xnas-itch.parquet\n",
      "Warning: Skipping file with unexpected name format: AMZN_2024-10-02_xnas-itch.parquet\n",
      "Warning: Skipping file with unexpected name format: AMZN_2024-10-03_xnas-itch.parquet\n",
      "Warning: Skipping file with unexpected name format: AMZN_2024-10-04_xnas-itch.parquet\n",
      "Warning: Skipping file with unexpected name format: AMZN_2024-10-07_xnas-itch.parquet\n",
      "Warning: Skipping file with unexpected name format: AMZN_2024-10-08_xnas-itch.parquet\n",
      "Warning: Skipping file with unexpected name format: AMZN_2024-10-09_xnas-itch.parquet\n",
      "Warning: Skipping file with unexpected name format: AMZN_2024-10-10_xnas-itch.parquet\n",
      "Warning: Skipping file with unexpected name format: AMZN_2024-10-11_xnas-itch.parquet\n",
      "Warning: Skipping file with unexpected name format: AMZN_2024-10-14_xnas-itch.parquet\n",
      "Warning: Skipping file with unexpected name format: AMZN_2024-10-15_xnas-itch.parquet\n",
      "Warning: Skipping file with unexpected name format: AMZN_2024-10-16_xnas-itch.parquet\n",
      "Warning: Skipping file with unexpected name format: AMZN_2024-10-17_xnas-itch.parquet\n",
      "Warning: Skipping file with unexpected name format: AMZN_2024-10-18_xnas-itch.parquet\n",
      "Warning: Skipping file with unexpected name format: AMZN_2024-10-21_xnas-itch.parquet\n",
      "Warning: Skipping file with unexpected name format: AMZN_2024-10-22_xnas-itch.parquet\n",
      "Warning: Skipping file with unexpected name format: AMZN_2024-10-23_xnas-itch.parquet\n",
      "Warning: Skipping file with unexpected name format: AMZN_2024-10-24_xnas-itch.parquet\n",
      "Warning: Skipping file with unexpected name format: AMZN_2024-10-25_xnas-itch.parquet\n",
      "Warning: Skipping file with unexpected name format: AMZN_2024-10-28_xnas-itch.parquet\n",
      "Warning: Skipping file with unexpected name format: AMZN_2024-10-29_xnas-itch.parquet\n",
      "Warning: Skipping file with unexpected name format: AMZN_2024-10-30_xnas-itch.parquet\n",
      "Warning: Skipping file with unexpected name format: AMZN_2024-10-31_xnas-itch.parquet\n",
      "Warning: Skipping file with unexpected name format: AMZN_2024-11-01_xnas-itch.parquet\n",
      "Warning: Skipping file with unexpected name format: AMZN_2024-11-04_xnas-itch.parquet\n",
      "Warning: Skipping file with unexpected name format: AMZN_2024-11-05_xnas-itch.parquet\n",
      "Warning: Skipping file with unexpected name format: AMZN_2024-11-06_xnas-itch.parquet\n",
      "Warning: Skipping file with unexpected name format: AMZN_2024-11-07_xnas-itch.parquet\n",
      "Warning: Skipping file with unexpected name format: AMZN_2024-11-08_xnas-itch.parquet\n",
      "Warning: Skipping file with unexpected name format: AMZN_2024-11-11_xnas-itch.parquet\n",
      "Warning: Skipping file with unexpected name format: AMZN_2024-11-12_xnas-itch.parquet\n",
      "Warning: Skipping file with unexpected name format: AMZN_2024-11-13_xnas-itch.parquet\n",
      "Warning: Skipping file with unexpected name format: AMZN_2024-11-14_xnas-itch.parquet\n",
      "Warning: Skipping file with unexpected name format: AMZN_2024-11-15_xnas-itch.parquet\n",
      "Warning: Skipping file with unexpected name format: AMZN_2024-11-18_xnas-itch.parquet\n",
      "Warning: Skipping file with unexpected name format: AMZN_2024-11-19_xnas-itch.parquet\n",
      "Warning: Skipping file with unexpected name format: AMZN_2024-11-20_xnas-itch.parquet\n",
      "Warning: Skipping file with unexpected name format: AMZN_2024-11-21_xnas-itch.parquet\n",
      "Warning: Skipping file with unexpected name format: AMZN_2024-11-22_xnas-itch.parquet\n",
      "Warning: Skipping file with unexpected name format: AMZN_2024-11-25_xnas-itch.parquet\n",
      "Warning: Skipping file with unexpected name format: AMZN_2024-11-26_xnas-itch.parquet\n",
      "Warning: Skipping file with unexpected name format: AMZN_2024-11-27_xnas-itch.parquet\n",
      "Warning: Skipping file with unexpected name format: AMZN_2024-11-29_xnas-itch.parquet\n",
      "Warning: Skipping file with unexpected name format: AMZN_2024-12-02_xnas-itch.parquet\n",
      "Warning: Skipping file with unexpected name format: AMZN_2024-12-03_xnas-itch.parquet\n",
      "Warning: Skipping file with unexpected name format: AMZN_2024-12-04_xnas-itch.parquet\n",
      "Warning: Skipping file with unexpected name format: AMZN_2024-12-05_xnas-itch.parquet\n",
      "Warning: Skipping file with unexpected name format: AMZN_2024-12-06_xnas-itch.parquet\n",
      "Warning: Skipping file with unexpected name format: AMZN_2024-12-09_xnas-itch.parquet\n",
      "Warning: Skipping file with unexpected name format: AMZN_2024-12-10_xnas-itch.parquet\n",
      "Warning: Skipping file with unexpected name format: AMZN_2024-12-11_xnas-itch.parquet\n",
      "Warning: Skipping file with unexpected name format: AMZN_2024-12-12_xnas-itch.parquet\n",
      "Warning: Skipping file with unexpected name format: AMZN_2024-12-13_xnas-itch.parquet\n",
      "Warning: Skipping file with unexpected name format: AMZN_2024-12-16_xnas-itch.parquet\n",
      "Warning: Skipping file with unexpected name format: ANGO_2024-06-24_dbeq-basic.parquet\n",
      "Warning: Skipping file with unexpected name format: ANGO_2024-06-25_dbeq-basic.parquet\n",
      "Warning: Skipping file with unexpected name format: ANGO_2024-06-26_dbeq-basic.parquet\n",
      "Warning: Skipping file with unexpected name format: ANGO_2024-06-27_dbeq-basic.parquet\n",
      "Warning: Skipping file with unexpected name format: ANGO_2024-06-28_dbeq-basic.parquet\n",
      "Warning: Skipping file with unexpected name format: ANGO_2024-07-01_dbeq-basic.parquet\n",
      "Warning: Skipping file with unexpected name format: ANGO_2024-07-02_dbeq-basic.parquet\n",
      "Warning: Skipping file with unexpected name format: ANGO_2024-07-03_dbeq-basic.parquet\n",
      "Warning: Skipping file with unexpected name format: ANGO_2024-07-05_dbeq-basic.parquet\n",
      "Warning: Skipping file with unexpected name format: ANGO_2024-07-08_dbeq-basic.parquet\n",
      "Warning: Skipping file with unexpected name format: ANGO_2024-07-09_dbeq-basic.parquet\n",
      "Warning: Skipping file with unexpected name format: ANGO_2024-07-10_dbeq-basic.parquet\n",
      "Warning: Skipping file with unexpected name format: ANGO_2024-07-11_dbeq-basic.parquet\n",
      "Warning: Skipping file with unexpected name format: ANGO_2024-07-12_dbeq-basic.parquet\n",
      "Warning: Skipping file with unexpected name format: ANGO_2024-07-15_dbeq-basic.parquet\n",
      "Warning: Skipping file with unexpected name format: ANGO_2024-07-16_dbeq-basic.parquet\n",
      "Warning: Skipping file with unexpected name format: ANGO_2024-07-17_dbeq-basic.parquet\n",
      "Warning: Skipping file with unexpected name format: ANGO_2024-07-18_dbeq-basic.parquet\n",
      "Warning: Skipping file with unexpected name format: ANGO_2024-07-19_dbeq-basic.parquet\n",
      "Warning: Skipping file with unexpected name format: ANGO_2024-07-22_dbeq-basic.parquet\n",
      "Warning: Skipping file with unexpected name format: ANGO_2024-07-23_dbeq-basic.parquet\n",
      "Warning: Skipping file with unexpected name format: ANGO_2024-07-24_dbeq-basic.parquet\n",
      "Warning: Skipping file with unexpected name format: ANGO_2024-07-25_dbeq-basic.parquet\n",
      "Warning: Skipping file with unexpected name format: ANGO_2024-07-26_dbeq-basic.parquet\n",
      "Warning: Skipping file with unexpected name format: ANGO_2024-07-29_dbeq-basic.parquet\n",
      "Warning: Skipping file with unexpected name format: ANGO_2024-07-30_dbeq-basic.parquet\n",
      "Warning: Skipping file with unexpected name format: ANGO_2024-07-31_dbeq-basic.parquet\n",
      "Warning: Skipping file with unexpected name format: ANGO_2024-08-01_dbeq-basic.parquet\n",
      "Warning: Skipping file with unexpected name format: ANGO_2024-08-02_dbeq-basic.parquet\n",
      "Warning: Skipping file with unexpected name format: ANGO_2024-08-05_dbeq-basic.parquet\n",
      "Warning: Skipping file with unexpected name format: ANGO_2024-08-06_dbeq-basic.parquet\n",
      "Warning: Skipping file with unexpected name format: ANGO_2024-08-07_dbeq-basic.parquet\n",
      "Warning: Skipping file with unexpected name format: ANGO_2024-08-08_dbeq-basic.parquet\n",
      "Warning: Skipping file with unexpected name format: ANGO_2024-08-09_dbeq-basic.parquet\n",
      "Warning: Skipping file with unexpected name format: ANGO_2024-08-12_dbeq-basic.parquet\n",
      "Warning: Skipping file with unexpected name format: ANGO_2024-08-13_dbeq-basic.parquet\n",
      "Warning: Skipping file with unexpected name format: ANGO_2024-08-14_dbeq-basic.parquet\n",
      "Warning: Skipping file with unexpected name format: ANGO_2024-08-15_dbeq-basic.parquet\n",
      "Warning: Skipping file with unexpected name format: ANGO_2024-08-16_dbeq-basic.parquet\n",
      "Warning: Skipping file with unexpected name format: ANGO_2024-08-19_dbeq-basic.parquet\n",
      "Warning: Skipping file with unexpected name format: ANGO_2024-08-20_dbeq-basic.parquet\n",
      "Warning: Skipping file with unexpected name format: ANGO_2024-08-21_dbeq-basic.parquet\n",
      "Warning: Skipping file with unexpected name format: ANGO_2024-08-22_dbeq-basic.parquet\n",
      "Warning: Skipping file with unexpected name format: ANGO_2024-08-23_dbeq-basic.parquet\n",
      "Warning: Skipping file with unexpected name format: ANGO_2024-08-26_dbeq-basic.parquet\n",
      "Warning: Skipping file with unexpected name format: ANGO_2024-08-27_dbeq-basic.parquet\n",
      "Warning: Skipping file with unexpected name format: ANGO_2024-08-28_dbeq-basic.parquet\n",
      "Warning: Skipping file with unexpected name format: ANGO_2024-08-29_dbeq-basic.parquet\n",
      "Warning: Skipping file with unexpected name format: ANGO_2024-08-30_dbeq-basic.parquet\n",
      "Warning: Skipping file with unexpected name format: ANGO_2024-09-03_dbeq-basic.parquet\n",
      "Warning: Skipping file with unexpected name format: ANGO_2024-09-04_dbeq-basic.parquet\n",
      "Warning: Skipping file with unexpected name format: ANGO_2024-09-05_dbeq-basic.parquet\n",
      "Warning: Skipping file with unexpected name format: ANGO_2024-09-06_dbeq-basic.parquet\n",
      "Warning: Skipping file with unexpected name format: ANGO_2024-09-09_dbeq-basic.parquet\n",
      "Warning: Skipping file with unexpected name format: ANGO_2024-09-10_dbeq-basic.parquet\n",
      "Warning: Skipping file with unexpected name format: ANGO_2024-09-11_dbeq-basic.parquet\n",
      "Warning: Skipping file with unexpected name format: ANGO_2024-09-12_dbeq-basic.parquet\n",
      "Warning: Skipping file with unexpected name format: ANGO_2024-09-13_dbeq-basic.parquet\n",
      "Warning: Skipping file with unexpected name format: ANGO_2024-09-16_dbeq-basic.parquet\n",
      "Warning: Skipping file with unexpected name format: ANGO_2024-09-17_dbeq-basic.parquet\n",
      "Warning: Skipping file with unexpected name format: ANGO_2024-09-18_dbeq-basic.parquet\n",
      "Warning: Skipping file with unexpected name format: ANGO_2024-09-19_dbeq-basic.parquet\n",
      "Warning: Skipping file with unexpected name format: ANGO_2024-09-20_dbeq-basic.parquet\n",
      "Warning: Skipping file with unexpected name format: ANGO_2024-09-23_dbeq-basic.parquet\n",
      "Warning: Skipping file with unexpected name format: MLCO_2023-07-17_xnas-itch.parquet\n",
      "Warning: Skipping file with unexpected name format: MLCO_2023-07-18_xnas-itch.parquet\n",
      "Warning: Skipping file with unexpected name format: MLCO_2023-07-19_xnas-itch.parquet\n",
      "Warning: Skipping file with unexpected name format: MLCO_2023-07-20_xnas-itch.parquet\n",
      "Warning: Skipping file with unexpected name format: MLCO_2023-07-21_xnas-itch.parquet\n",
      "Warning: Skipping file with unexpected name format: MLCO_2023-07-24_xnas-itch.parquet\n",
      "Warning: Skipping file with unexpected name format: MLCO_2023-07-25_xnas-itch.parquet\n",
      "Warning: Skipping file with unexpected name format: MLCO_2023-07-26_xnas-itch.parquet\n",
      "Warning: Skipping file with unexpected name format: MLCO_2023-07-27_xnas-itch.parquet\n",
      "Warning: Skipping file with unexpected name format: MLCO_2023-07-28_xnas-itch.parquet\n",
      "Warning: Skipping file with unexpected name format: MLCO_2023-07-31_xnas-itch.parquet\n",
      "Warning: Skipping file with unexpected name format: MLCO_2023-08-01_xnas-itch.parquet\n",
      "Warning: Skipping file with unexpected name format: MLCO_2023-08-02_xnas-itch.parquet\n",
      "Warning: Skipping file with unexpected name format: MLCO_2023-08-03_xnas-itch.parquet\n",
      "Warning: Skipping file with unexpected name format: MLCO_2023-08-04_xnas-itch.parquet\n",
      "Warning: Skipping file with unexpected name format: MLCO_2023-08-07_xnas-itch.parquet\n",
      "Warning: Skipping file with unexpected name format: MLCO_2023-08-08_xnas-itch.parquet\n",
      "Warning: Skipping file with unexpected name format: MLCO_2023-08-09_xnas-itch.parquet\n",
      "Warning: Skipping file with unexpected name format: MLCO_2023-08-10_xnas-itch.parquet\n",
      "Warning: Skipping file with unexpected name format: MLCO_2023-08-11_xnas-itch.parquet\n",
      "Warning: Skipping file with unexpected name format: MLCO_2023-08-14_xnas-itch.parquet\n",
      "Warning: Skipping file with unexpected name format: MLCO_2023-08-15_xnas-itch.parquet\n",
      "Warning: Skipping file with unexpected name format: MLCO_2023-08-16_xnas-itch.parquet\n",
      "Warning: Skipping file with unexpected name format: MLCO_2023-08-17_xnas-itch.parquet\n",
      "Warning: Skipping file with unexpected name format: MLCO_2023-08-18_xnas-itch.parquet\n",
      "Warning: Skipping file with unexpected name format: MLCO_2023-08-21_xnas-itch.parquet\n",
      "Warning: Skipping file with unexpected name format: MLCO_2023-08-22_xnas-itch.parquet\n",
      "Warning: Skipping file with unexpected name format: MLCO_2023-08-23_xnas-itch.parquet\n",
      "Warning: Skipping file with unexpected name format: MLCO_2023-08-24_xnas-itch.parquet\n",
      "Warning: Skipping file with unexpected name format: MLCO_2023-08-25_xnas-itch.parquet\n",
      "Warning: Skipping file with unexpected name format: MLCO_2023-08-28_xnas-itch.parquet\n",
      "Warning: Skipping file with unexpected name format: MLCO_2023-08-29_xnas-itch.parquet\n",
      "Warning: Skipping file with unexpected name format: MLCO_2023-08-30_xnas-itch.parquet\n",
      "Warning: Skipping file with unexpected name format: MLCO_2023-08-31_xnas-itch.parquet\n",
      "Warning: Skipping file with unexpected name format: MLCO_2023-09-01_xnas-itch.parquet\n",
      "Warning: Skipping file with unexpected name format: MLCO_2023-09-05_xnas-itch.parquet\n",
      "Warning: Skipping file with unexpected name format: MLCO_2023-09-06_xnas-itch.parquet\n",
      "Warning: Skipping file with unexpected name format: MLCO_2023-09-07_xnas-itch.parquet\n",
      "Warning: Skipping file with unexpected name format: MLCO_2023-09-08_xnas-itch.parquet\n",
      "Warning: Skipping file with unexpected name format: MLCO_2023-09-11_xnas-itch.parquet\n",
      "Warning: Skipping file with unexpected name format: MLCO_2023-09-12_xnas-itch.parquet\n",
      "Warning: Skipping file with unexpected name format: MLCO_2023-09-13_xnas-itch.parquet\n",
      "Warning: Skipping file with unexpected name format: MLCO_2023-09-14_xnas-itch.parquet\n",
      "Warning: Skipping file with unexpected name format: MLCO_2023-09-15_xnas-itch.parquet\n",
      "Warning: Skipping file with unexpected name format: MLCO_2023-09-18_xnas-itch.parquet\n",
      "Warning: Skipping file with unexpected name format: MLCO_2023-09-19_xnas-itch.parquet\n",
      "Warning: Skipping file with unexpected name format: MLCO_2023-09-20_xnas-itch.parquet\n",
      "Warning: Skipping file with unexpected name format: MLCO_2023-09-21_xnas-itch.parquet\n",
      "Warning: Skipping file with unexpected name format: MLCO_2023-09-22_xnas-itch.parquet\n",
      "Warning: Skipping file with unexpected name format: MLCO_2023-09-25_xnas-itch.parquet\n",
      "Warning: Skipping file with unexpected name format: MLCO_2023-09-26_xnas-itch.parquet\n",
      "Warning: Skipping file with unexpected name format: MLCO_2023-09-27_xnas-itch.parquet\n",
      "Warning: Skipping file with unexpected name format: MLCO_2023-09-28_xnas-itch.parquet\n",
      "Warning: Skipping file with unexpected name format: MLCO_2023-09-29_xnas-itch.parquet\n",
      "Warning: Skipping file with unexpected name format: MLCO_2023-10-02_xnas-itch.parquet\n",
      "Warning: Skipping file with unexpected name format: MLCO_2023-10-03_xnas-itch.parquet\n",
      "Warning: Skipping file with unexpected name format: MLCO_2023-10-04_xnas-itch.parquet\n",
      "Warning: Skipping file with unexpected name format: MLCO_2023-10-05_xnas-itch.parquet\n",
      "Warning: Skipping file with unexpected name format: MLCO_2023-10-06_xnas-itch.parquet\n",
      "Warning: Skipping file with unexpected name format: MLCO_2023-10-09_xnas-itch.parquet\n",
      "Warning: Skipping file with unexpected name format: MLCO_2023-10-10_xnas-itch.parquet\n",
      "Warning: Skipping file with unexpected name format: MLCO_2023-10-11_xnas-itch.parquet\n",
      "Warning: Skipping file with unexpected name format: MLCO_2023-10-12_xnas-itch.parquet\n",
      "Warning: Skipping file with unexpected name format: MLCO_2023-10-13_xnas-itch.parquet\n",
      "Warning: Skipping file with unexpected name format: MLCO_2023-10-16_xnas-itch.parquet\n",
      "Warning: Skipping file with unexpected name format: MLCO_2023-10-17_xnas-itch.parquet\n",
      "Warning: Skipping file with unexpected name format: MLCO_2023-10-18_xnas-itch.parquet\n",
      "Warning: Skipping file with unexpected name format: MLCO_2023-10-19_xnas-itch.parquet\n",
      "Warning: Skipping file with unexpected name format: MLCO_2023-10-20_xnas-itch.parquet\n",
      "Warning: Skipping file with unexpected name format: MLCO_2023-10-23_xnas-itch.parquet\n",
      "Warning: Skipping file with unexpected name format: MLCO_2023-10-24_xnas-itch.parquet\n",
      "Warning: Skipping file with unexpected name format: MLCO_2023-10-25_xnas-itch.parquet\n",
      "Warning: Skipping file with unexpected name format: MLCO_2023-10-26_xnas-itch.parquet\n",
      "Warning: Skipping file with unexpected name format: MLCO_2023-10-27_xnas-itch.parquet\n",
      "Warning: Skipping file with unexpected name format: MLCO_2023-10-30_xnas-itch.parquet\n",
      "Warning: Skipping file with unexpected name format: MLCO_2023-10-31_xnas-itch.parquet\n",
      "Warning: Skipping file with unexpected name format: MLCO_2023-11-01_xnas-itch.parquet\n",
      "Warning: Skipping file with unexpected name format: MLCO_2023-11-02_xnas-itch.parquet\n",
      "Warning: Skipping file with unexpected name format: MLCO_2023-11-03_xnas-itch.parquet\n",
      "Warning: Skipping file with unexpected name format: MLCO_2023-11-06_xnas-itch.parquet\n",
      "Warning: Skipping file with unexpected name format: MLCO_2023-11-07_xnas-itch.parquet\n",
      "Warning: Skipping file with unexpected name format: MLCO_2023-11-08_xnas-itch.parquet\n",
      "Warning: Skipping file with unexpected name format: MLCO_2023-11-09_xnas-itch.parquet\n",
      "Warning: Skipping file with unexpected name format: MLCO_2023-11-10_xnas-itch.parquet\n",
      "Warning: Skipping file with unexpected name format: MLCO_2023-11-13_xnas-itch.parquet\n",
      "Warning: Skipping file with unexpected name format: MLCO_2023-11-14_xnas-itch.parquet\n",
      "Warning: Skipping file with unexpected name format: MLCO_2023-11-15_xnas-itch.parquet\n",
      "Warning: Skipping file with unexpected name format: MLCO_2023-11-16_xnas-itch.parquet\n",
      "Warning: Skipping file with unexpected name format: MLCO_2023-11-17_xnas-itch.parquet\n",
      "Warning: Skipping file with unexpected name format: MLCO_2023-11-20_xnas-itch.parquet\n",
      "Warning: Skipping file with unexpected name format: MLCO_2023-11-21_xnas-itch.parquet\n",
      "Warning: Skipping file with unexpected name format: MLCO_2023-11-22_xnas-itch.parquet\n",
      "Warning: Skipping file with unexpected name format: MLCO_2023-11-24_xnas-itch.parquet\n",
      "Warning: Skipping file with unexpected name format: MLCO_2023-11-27_xnas-itch.parquet\n",
      "Warning: Skipping file with unexpected name format: MLCO_2023-11-28_xnas-itch.parquet\n",
      "Warning: Skipping file with unexpected name format: MLCO_2023-11-29_xnas-itch.parquet\n",
      "Warning: Skipping file with unexpected name format: MLCO_2023-11-30_xnas-itch.parquet\n",
      "Warning: Skipping file with unexpected name format: MLCO_2023-12-01_xnas-itch.parquet\n",
      "Warning: Skipping file with unexpected name format: MLCO_2023-12-04_xnas-itch.parquet\n",
      "Warning: Skipping file with unexpected name format: MLCO_2023-12-05_xnas-itch.parquet\n",
      "Warning: Skipping file with unexpected name format: MLCO_2023-12-06_xnas-itch.parquet\n",
      "Warning: Skipping file with unexpected name format: MLCO_2023-12-07_xnas-itch.parquet\n",
      "Warning: Skipping file with unexpected name format: MLCO_2023-12-08_xnas-itch.parquet\n",
      "Warning: Skipping file with unexpected name format: MLCO_2023-12-11_xnas-itch.parquet\n",
      "Warning: Skipping file with unexpected name format: MLCO_2023-12-12_xnas-itch.parquet\n",
      "Warning: Skipping file with unexpected name format: MLCO_2023-12-13_xnas-itch.parquet\n",
      "Warning: Skipping file with unexpected name format: MLCO_2023-12-14_xnas-itch.parquet\n",
      "Warning: Skipping file with unexpected name format: MLCO_2023-12-15_xnas-itch.parquet\n",
      "Warning: Skipping file with unexpected name format: MLCO_2023-12-18_xnas-itch.parquet\n",
      "Warning: Skipping file with unexpected name format: MLCO_2023-12-19_xnas-itch.parquet\n",
      "Warning: Skipping file with unexpected name format: MLCO_2023-12-20_xnas-itch.parquet\n",
      "Warning: Skipping file with unexpected name format: MLCO_2023-12-21_xnas-itch.parquet\n",
      "Warning: Skipping file with unexpected name format: MLCO_2023-12-22_xnas-itch.parquet\n",
      "Warning: Skipping file with unexpected name format: MLCO_2023-12-26_xnas-itch.parquet\n",
      "Warning: Skipping file with unexpected name format: MLCO_2023-12-27_xnas-itch.parquet\n",
      "Warning: Skipping file with unexpected name format: MLCO_2023-12-28_xnas-itch.parquet\n",
      "Warning: Skipping file with unexpected name format: MLCO_2023-12-29_xnas-itch.parquet\n",
      "Warning: Skipping file with unexpected name format: MLCO_2024-01-02_xnas-itch.parquet\n",
      "Warning: Skipping file with unexpected name format: MLCO_2024-01-03_xnas-itch.parquet\n",
      "Warning: Skipping file with unexpected name format: MLCO_2024-01-04_xnas-itch.parquet\n",
      "Warning: Skipping file with unexpected name format: MLCO_2024-01-05_xnas-itch.parquet\n",
      "Warning: Skipping file with unexpected name format: MLCO_2024-01-08_xnas-itch.parquet\n",
      "Warning: Skipping file with unexpected name format: MLCO_2024-01-09_xnas-itch.parquet\n",
      "Warning: Skipping file with unexpected name format: MLCO_2024-01-10_xnas-itch.parquet\n",
      "Warning: Skipping file with unexpected name format: MLCO_2024-01-11_xnas-itch.parquet\n",
      "Warning: Skipping file with unexpected name format: MLCO_2024-01-12_xnas-itch.parquet\n",
      "Warning: Skipping file with unexpected name format: MLCO_2024-01-16_xnas-itch.parquet\n",
      "Warning: Skipping file with unexpected name format: MLCO_2024-01-17_xnas-itch.parquet\n",
      "Warning: Skipping file with unexpected name format: MLCO_2024-01-18_xnas-itch.parquet\n",
      "Warning: Skipping file with unexpected name format: MLCO_2024-01-19_xnas-itch.parquet\n",
      "Warning: Skipping file with unexpected name format: MLCO_2024-01-22_xnas-itch.parquet\n",
      "Warning: Skipping file with unexpected name format: MLCO_2024-01-23_xnas-itch.parquet\n",
      "Warning: Skipping file with unexpected name format: MLCO_2024-01-24_xnas-itch.parquet\n",
      "Warning: Skipping file with unexpected name format: MLCO_2024-01-25_xnas-itch.parquet\n",
      "Warning: Skipping file with unexpected name format: MLCO_2024-01-26_xnas-itch.parquet\n",
      "Warning: Skipping file with unexpected name format: MLCO_2024-01-29_xnas-itch.parquet\n",
      "Warning: Skipping file with unexpected name format: MLCO_2024-01-30_xnas-itch.parquet\n",
      "Warning: Skipping file with unexpected name format: MLCO_2024-01-31_xnas-itch.parquet\n",
      "Warning: Skipping file with unexpected name format: MLCO_2024-02-01_xnas-itch.parquet\n",
      "Warning: Skipping file with unexpected name format: MLCO_2024-02-02_xnas-itch.parquet\n",
      "Warning: Skipping file with unexpected name format: MLCO_2024-02-05_xnas-itch.parquet\n",
      "Warning: Skipping file with unexpected name format: MLCO_2024-02-06_xnas-itch.parquet\n",
      "Warning: Skipping file with unexpected name format: MLCO_2024-02-07_xnas-itch.parquet\n",
      "Warning: Skipping file with unexpected name format: MLCO_2024-02-08_xnas-itch.parquet\n",
      "Warning: Skipping file with unexpected name format: MLCO_2024-02-09_xnas-itch.parquet\n",
      "Warning: Skipping file with unexpected name format: MLCO_2024-02-12_xnas-itch.parquet\n",
      "Warning: Skipping file with unexpected name format: MLCO_2024-02-13_xnas-itch.parquet\n",
      "Warning: Skipping file with unexpected name format: MLCO_2024-02-14_xnas-itch.parquet\n",
      "Warning: Skipping file with unexpected name format: MLCO_2024-02-15_xnas-itch.parquet\n",
      "Warning: Skipping file with unexpected name format: MLCO_2024-02-16_xnas-itch.parquet\n",
      "Warning: Skipping file with unexpected name format: MLCO_2024-02-20_xnas-itch.parquet\n",
      "Warning: Skipping file with unexpected name format: MLCO_2024-02-21_xnas-itch.parquet\n",
      "Warning: Skipping file with unexpected name format: MLCO_2024-02-22_xnas-itch.parquet\n",
      "Warning: Skipping file with unexpected name format: MLCO_2024-02-23_xnas-itch.parquet\n",
      "Warning: Skipping file with unexpected name format: MLCO_2024-02-26_xnas-itch.parquet\n",
      "Warning: Skipping file with unexpected name format: MLCO_2024-02-27_xnas-itch.parquet\n",
      "Warning: Skipping file with unexpected name format: MLCO_2024-02-28_xnas-itch.parquet\n",
      "Warning: Skipping file with unexpected name format: MLCO_2024-02-29_xnas-itch.parquet\n",
      "Warning: Skipping file with unexpected name format: MLCO_2024-03-01_xnas-itch.parquet\n",
      "Warning: Skipping file with unexpected name format: MLCO_2024-03-04_xnas-itch.parquet\n",
      "Warning: Skipping file with unexpected name format: MLCO_2024-03-05_xnas-itch.parquet\n",
      "Warning: Skipping file with unexpected name format: MLCO_2024-03-06_xnas-itch.parquet\n",
      "Warning: Skipping file with unexpected name format: MLCO_2024-03-07_xnas-itch.parquet\n",
      "Warning: Skipping file with unexpected name format: MLCO_2024-03-08_xnas-itch.parquet\n",
      "Warning: Skipping file with unexpected name format: MLCO_2024-03-11_xnas-itch.parquet\n",
      "Warning: Skipping file with unexpected name format: MLCO_2024-03-12_xnas-itch.parquet\n",
      "Warning: Skipping file with unexpected name format: MLCO_2024-03-13_xnas-itch.parquet\n",
      "Warning: Skipping file with unexpected name format: MLCO_2024-03-14_xnas-itch.parquet\n",
      "Warning: Skipping file with unexpected name format: MLCO_2024-03-15_xnas-itch.parquet\n",
      "Warning: Skipping file with unexpected name format: MLCO_2024-03-18_xnas-itch.parquet\n",
      "Warning: Skipping file with unexpected name format: MLCO_2024-03-19_xnas-itch.parquet\n",
      "Warning: Skipping file with unexpected name format: MLCO_2024-03-20_xnas-itch.parquet\n",
      "Warning: Skipping file with unexpected name format: MLCO_2024-03-21_xnas-itch.parquet\n",
      "Warning: Skipping file with unexpected name format: MLCO_2024-03-22_xnas-itch.parquet\n",
      "Warning: Skipping file with unexpected name format: MLCO_2024-03-25_xnas-itch.parquet\n",
      "Warning: Skipping file with unexpected name format: MLCO_2024-03-26_xnas-itch.parquet\n",
      "Warning: Skipping file with unexpected name format: MLCO_2024-03-27_xnas-itch.parquet\n",
      "Warning: Skipping file with unexpected name format: MLCO_2024-03-28_xnas-itch.parquet\n",
      "Warning: Skipping file with unexpected name format: MLCO_2024-04-01_xnas-itch.parquet\n",
      "Warning: Skipping file with unexpected name format: MLCO_2024-04-02_xnas-itch.parquet\n",
      "Warning: Skipping file with unexpected name format: MLCO_2024-04-03_xnas-itch.parquet\n",
      "Warning: Skipping file with unexpected name format: MLCO_2024-04-04_xnas-itch.parquet\n",
      "Warning: Skipping file with unexpected name format: MLCO_2024-04-05_xnas-itch.parquet\n",
      "Warning: Skipping file with unexpected name format: MLCO_2024-04-08_xnas-itch.parquet\n",
      "Warning: Skipping file with unexpected name format: MLCO_2024-04-09_xnas-itch.parquet\n",
      "Warning: Skipping file with unexpected name format: MLCO_2024-04-10_xnas-itch.parquet\n",
      "Warning: Skipping file with unexpected name format: MLCO_2024-04-11_xnas-itch.parquet\n",
      "Warning: Skipping file with unexpected name format: MLCO_2024-04-12_xnas-itch.parquet\n",
      "Warning: Skipping file with unexpected name format: MLCO_2024-04-15_xnas-itch.parquet\n",
      "Warning: Skipping file with unexpected name format: MLCO_2024-04-16_xnas-itch.parquet\n",
      "Warning: Skipping file with unexpected name format: MLCO_2024-04-17_xnas-itch.parquet\n",
      "Warning: Skipping file with unexpected name format: MLCO_2024-04-18_xnas-itch.parquet\n",
      "Warning: Skipping file with unexpected name format: MLCO_2024-04-19_xnas-itch.parquet\n",
      "Warning: Skipping file with unexpected name format: MLCO_2024-04-22_xnas-itch.parquet\n",
      "Warning: Skipping file with unexpected name format: MLCO_2024-04-23_xnas-itch.parquet\n",
      "Warning: Skipping file with unexpected name format: MLCO_2024-04-24_xnas-itch.parquet\n",
      "Warning: Skipping file with unexpected name format: MLCO_2024-04-25_xnas-itch.parquet\n",
      "Warning: Skipping file with unexpected name format: MLCO_2024-04-26_xnas-itch.parquet\n",
      "Warning: Skipping file with unexpected name format: MLCO_2024-04-29_xnas-itch.parquet\n",
      "Warning: Skipping file with unexpected name format: MLCO_2024-04-30_xnas-itch.parquet\n",
      "Warning: Skipping file with unexpected name format: MLCO_2024-05-01_xnas-itch.parquet\n",
      "Warning: Skipping file with unexpected name format: MLCO_2024-05-02_xnas-itch.parquet\n",
      "Warning: Skipping file with unexpected name format: MLCO_2024-05-03_xnas-itch.parquet\n",
      "Warning: Skipping file with unexpected name format: MLCO_2024-05-06_xnas-itch.parquet\n",
      "Warning: Skipping file with unexpected name format: MLCO_2024-05-07_xnas-itch.parquet\n",
      "Warning: Skipping file with unexpected name format: MLCO_2024-05-08_xnas-itch.parquet\n",
      "Warning: Skipping file with unexpected name format: MLCO_2024-05-09_xnas-itch.parquet\n",
      "Warning: Skipping file with unexpected name format: MLCO_2024-05-10_xnas-itch.parquet\n",
      "Warning: Skipping file with unexpected name format: MLCO_2024-05-13_xnas-itch.parquet\n",
      "Warning: Skipping file with unexpected name format: MLCO_2024-05-14_xnas-itch.parquet\n",
      "Warning: Skipping file with unexpected name format: MLCO_2024-05-15_xnas-itch.parquet\n",
      "Warning: Skipping file with unexpected name format: MLCO_2024-05-16_xnas-itch.parquet\n",
      "Warning: Skipping file with unexpected name format: MLCO_2024-05-17_xnas-itch.parquet\n",
      "Warning: Skipping file with unexpected name format: MLCO_2024-05-20_xnas-itch.parquet\n",
      "Warning: Skipping file with unexpected name format: MLCO_2024-05-21_xnas-itch.parquet\n",
      "Warning: Skipping file with unexpected name format: MLCO_2024-05-22_xnas-itch.parquet\n",
      "Warning: Skipping file with unexpected name format: MLCO_2024-05-23_xnas-itch.parquet\n",
      "Warning: Skipping file with unexpected name format: MLCO_2024-05-24_xnas-itch.parquet\n",
      "Warning: Skipping file with unexpected name format: MLCO_2024-05-28_xnas-itch.parquet\n",
      "Warning: Skipping file with unexpected name format: MLCO_2024-05-29_xnas-itch.parquet\n",
      "Warning: Skipping file with unexpected name format: MLCO_2024-05-30_xnas-itch.parquet\n",
      "Warning: Skipping file with unexpected name format: MLCO_2024-05-31_xnas-itch.parquet\n",
      "Warning: Skipping file with unexpected name format: MLCO_2024-06-03_xnas-itch.parquet\n",
      "Warning: Skipping file with unexpected name format: MLCO_2024-06-04_xnas-itch.parquet\n",
      "Warning: Skipping file with unexpected name format: MLCO_2024-06-05_xnas-itch.parquet\n",
      "Warning: Skipping file with unexpected name format: MLCO_2024-06-06_xnas-itch.parquet\n",
      "Warning: Skipping file with unexpected name format: MLCO_2024-06-07_xnas-itch.parquet\n",
      "Warning: Skipping file with unexpected name format: MLCO_2024-06-10_xnas-itch.parquet\n",
      "Warning: Skipping file with unexpected name format: MLCO_2024-06-11_xnas-itch.parquet\n",
      "Warning: Skipping file with unexpected name format: MLCO_2024-06-12_xnas-itch.parquet\n",
      "Warning: Skipping file with unexpected name format: MLCO_2024-06-13_xnas-itch.parquet\n",
      "Warning: Skipping file with unexpected name format: MLCO_2024-06-14_xnas-itch.parquet\n",
      "Warning: Skipping file with unexpected name format: MLCO_2024-06-17_xnas-itch.parquet\n",
      "Warning: Skipping file with unexpected name format: MLCO_2024-06-18_xnas-itch.parquet\n",
      "Warning: Skipping file with unexpected name format: MLCO_2024-06-20_xnas-itch.parquet\n",
      "Warning: Skipping file with unexpected name format: MLCO_2024-06-21_xnas-itch.parquet\n",
      "Warning: Skipping file with unexpected name format: MLCO_2024-06-24_xnas-itch.parquet\n",
      "Warning: Skipping file with unexpected name format: MLCO_2024-06-25_xnas-itch.parquet\n",
      "Warning: Skipping file with unexpected name format: MLCO_2024-06-26_xnas-itch.parquet\n",
      "Warning: Skipping file with unexpected name format: MLCO_2024-06-27_xnas-itch.parquet\n",
      "Warning: Skipping file with unexpected name format: MLCO_2024-06-28_xnas-itch.parquet\n",
      "Warning: Skipping file with unexpected name format: MLCO_2024-07-01_xnas-itch.parquet\n",
      "Warning: Skipping file with unexpected name format: MLCO_2024-07-02_xnas-itch.parquet\n",
      "Warning: Skipping file with unexpected name format: MLCO_2024-07-03_xnas-itch.parquet\n",
      "Warning: Skipping file with unexpected name format: MLCO_2024-07-05_xnas-itch.parquet\n",
      "Warning: Skipping file with unexpected name format: MLCO_2024-07-08_xnas-itch.parquet\n",
      "Warning: Skipping file with unexpected name format: MLCO_2024-07-09_xnas-itch.parquet\n",
      "Warning: Skipping file with unexpected name format: MLCO_2024-07-10_xnas-itch.parquet\n",
      "Warning: Skipping file with unexpected name format: MLCO_2024-07-11_xnas-itch.parquet\n",
      "Warning: Skipping file with unexpected name format: MLCO_2024-07-12_xnas-itch.parquet\n",
      "Warning: Skipping file with unexpected name format: MLCO_2024-07-15_xnas-itch.parquet\n",
      "Warning: Skipping file with unexpected name format: MLCO_2024-07-16_xnas-itch.parquet\n",
      "Warning: Skipping file with unexpected name format: MLCO_2024-07-17_xnas-itch.parquet\n",
      "Warning: Skipping file with unexpected name format: MLCO_2024-07-18_xnas-itch.parquet\n",
      "Warning: Skipping file with unexpected name format: MLCO_2024-07-19_xnas-itch.parquet\n",
      "Warning: Skipping file with unexpected name format: MLCO_2024-07-22_xnas-itch.parquet\n",
      "Warning: Skipping file with unexpected name format: MLCO_2024-07-23_xnas-itch.parquet\n",
      "Warning: Skipping file with unexpected name format: MLCO_2024-07-24_xnas-itch.parquet\n",
      "Warning: Skipping file with unexpected name format: MLCO_2024-07-25_xnas-itch.parquet\n",
      "Warning: Skipping file with unexpected name format: MLCO_2024-07-26_xnas-itch.parquet\n",
      "Warning: Skipping file with unexpected name format: MLCO_2024-07-29_xnas-itch.parquet\n",
      "Warning: Skipping file with unexpected name format: MLCO_2024-07-30_xnas-itch.parquet\n",
      "Warning: Skipping file with unexpected name format: MLCO_2024-07-31_xnas-itch.parquet\n",
      "Warning: Skipping file with unexpected name format: MLCO_2024-08-01_xnas-itch.parquet\n",
      "Warning: Skipping file with unexpected name format: MLCO_2024-08-02_xnas-itch.parquet\n",
      "Warning: Skipping file with unexpected name format: MLCO_2024-08-05_xnas-itch.parquet\n",
      "Warning: Skipping file with unexpected name format: MLCO_2024-08-06_xnas-itch.parquet\n",
      "Warning: Skipping file with unexpected name format: MLCO_2024-08-07_xnas-itch.parquet\n",
      "Warning: Skipping file with unexpected name format: MLCO_2024-08-08_xnas-itch.parquet\n",
      "Warning: Skipping file with unexpected name format: MLCO_2024-08-09_xnas-itch.parquet\n",
      "Warning: Skipping file with unexpected name format: MLCO_2024-08-12_xnas-itch.parquet\n",
      "Warning: Skipping file with unexpected name format: MLCO_2024-08-13_xnas-itch.parquet\n",
      "Warning: Skipping file with unexpected name format: MLCO_2024-08-14_xnas-itch.parquet\n",
      "Warning: Skipping file with unexpected name format: MLCO_2024-08-15_xnas-itch.parquet\n",
      "Warning: Skipping file with unexpected name format: MLCO_2024-08-16_xnas-itch.parquet\n",
      "Warning: Skipping file with unexpected name format: MLCO_2024-08-19_xnas-itch.parquet\n",
      "Warning: Skipping file with unexpected name format: MLCO_2024-08-20_xnas-itch.parquet\n",
      "Warning: Skipping file with unexpected name format: MLCO_2024-08-21_xnas-itch.parquet\n",
      "Warning: Skipping file with unexpected name format: MLCO_2024-08-22_xnas-itch.parquet\n",
      "Warning: Skipping file with unexpected name format: MLCO_2024-08-23_xnas-itch.parquet\n",
      "Warning: Skipping file with unexpected name format: MLCO_2024-08-26_xnas-itch.parquet\n",
      "Warning: Skipping file with unexpected name format: MLCO_2024-08-27_xnas-itch.parquet\n",
      "Warning: Skipping file with unexpected name format: MLCO_2024-08-28_xnas-itch.parquet\n",
      "Warning: Skipping file with unexpected name format: MLCO_2024-08-29_xnas-itch.parquet\n",
      "Warning: Skipping file with unexpected name format: MLCO_2024-08-30_xnas-itch.parquet\n",
      "Warning: Skipping file with unexpected name format: MLCO_2024-09-03_xnas-itch.parquet\n",
      "Warning: Skipping file with unexpected name format: MLCO_2024-09-04_xnas-itch.parquet\n",
      "Warning: Skipping file with unexpected name format: MLCO_2024-09-05_xnas-itch.parquet\n",
      "Warning: Skipping file with unexpected name format: MLCO_2024-09-06_xnas-itch.parquet\n",
      "Warning: Skipping file with unexpected name format: MLCO_2024-09-09_xnas-itch.parquet\n",
      "Warning: Skipping file with unexpected name format: MLCO_2024-09-10_xnas-itch.parquet\n",
      "Warning: Skipping file with unexpected name format: MLCO_2024-09-11_xnas-itch.parquet\n",
      "Warning: Skipping file with unexpected name format: MLCO_2024-09-12_xnas-itch.parquet\n",
      "Warning: Skipping file with unexpected name format: MLCO_2024-09-13_xnas-itch.parquet\n",
      "Warning: Skipping file with unexpected name format: MLCO_2024-09-16_xnas-itch.parquet\n",
      "Warning: Skipping file with unexpected name format: MLCO_2024-09-17_xnas-itch.parquet\n",
      "Warning: Skipping file with unexpected name format: MLCO_2024-09-18_xnas-itch.parquet\n",
      "Warning: Skipping file with unexpected name format: MLCO_2024-09-19_xnas-itch.parquet\n",
      "Warning: Skipping file with unexpected name format: MLCO_2024-09-20_xnas-itch.parquet\n",
      "Warning: Skipping file with unexpected name format: MLCO_2024-09-23_xnas-itch.parquet\n",
      "Warning: Skipping file with unexpected name format: MLCO_2024-09-24_xnas-itch.parquet\n",
      "Warning: Skipping file with unexpected name format: MLCO_2024-09-25_xnas-itch.parquet\n",
      "Warning: Skipping file with unexpected name format: MLCO_2024-09-26_xnas-itch.parquet\n",
      "Warning: Skipping file with unexpected name format: MLCO_2024-09-27_xnas-itch.parquet\n",
      "Warning: Skipping file with unexpected name format: MLCO_2024-09-30_xnas-itch.parquet\n",
      "Warning: Skipping file with unexpected name format: MLCO_2024-10-01_xnas-itch.parquet\n",
      "Warning: Skipping file with unexpected name format: MLCO_2024-10-02_xnas-itch.parquet\n",
      "Warning: Skipping file with unexpected name format: MLCO_2024-10-03_xnas-itch.parquet\n",
      "Warning: Skipping file with unexpected name format: MLCO_2024-10-04_xnas-itch.parquet\n",
      "Warning: Skipping file with unexpected name format: MLCO_2024-10-07_xnas-itch.parquet\n",
      "Warning: Skipping file with unexpected name format: MLCO_2024-10-08_xnas-itch.parquet\n",
      "Warning: Skipping file with unexpected name format: MLCO_2024-10-09_xnas-itch.parquet\n",
      "Warning: Skipping file with unexpected name format: MLCO_2024-10-10_xnas-itch.parquet\n",
      "Warning: Skipping file with unexpected name format: MLCO_2024-10-11_xnas-itch.parquet\n",
      "Warning: Skipping file with unexpected name format: MLCO_2024-10-14_xnas-itch.parquet\n",
      "Warning: Skipping file with unexpected name format: MLCO_2024-10-15_xnas-itch.parquet\n",
      "Warning: Skipping file with unexpected name format: MLCO_2024-10-16_xnas-itch.parquet\n",
      "Warning: Skipping file with unexpected name format: MLCO_2024-10-17_xnas-itch.parquet\n",
      "Warning: Skipping file with unexpected name format: MLCO_2024-10-18_xnas-itch.parquet\n",
      "Warning: Skipping file with unexpected name format: MLCO_2024-10-21_xnas-itch.parquet\n",
      "Warning: Skipping file with unexpected name format: MLCO_2024-10-22_xnas-itch.parquet\n",
      "Warning: Skipping file with unexpected name format: MLCO_2024-10-23_xnas-itch.parquet\n",
      "Warning: Skipping file with unexpected name format: MLCO_2024-10-24_xnas-itch.parquet\n",
      "Warning: Skipping file with unexpected name format: MLCO_2024-10-25_xnas-itch.parquet\n",
      "Warning: Skipping file with unexpected name format: MLCO_2024-10-28_xnas-itch.parquet\n",
      "Warning: Skipping file with unexpected name format: MLCO_2024-10-29_xnas-itch.parquet\n",
      "Warning: Skipping file with unexpected name format: MLCO_2024-10-30_xnas-itch.parquet\n",
      "Warning: Skipping file with unexpected name format: MLCO_2024-10-31_xnas-itch.parquet\n",
      "Warning: Skipping file with unexpected name format: MLCO_2024-11-01_xnas-itch.parquet\n",
      "Warning: Skipping file with unexpected name format: MLCO_2024-11-04_xnas-itch.parquet\n",
      "Warning: Skipping file with unexpected name format: MLCO_2024-11-05_xnas-itch.parquet\n",
      "Warning: Skipping file with unexpected name format: MLCO_2024-11-06_xnas-itch.parquet\n",
      "Warning: Skipping file with unexpected name format: MLCO_2024-11-07_xnas-itch.parquet\n",
      "Warning: Skipping file with unexpected name format: MLCO_2024-11-08_xnas-itch.parquet\n",
      "Warning: Skipping file with unexpected name format: MLCO_2024-11-11_xnas-itch.parquet\n",
      "Warning: Skipping file with unexpected name format: MLCO_2024-11-12_xnas-itch.parquet\n",
      "Warning: Skipping file with unexpected name format: MLCO_2024-11-13_xnas-itch.parquet\n",
      "Warning: Skipping file with unexpected name format: MLCO_2024-11-14_xnas-itch.parquet\n",
      "Warning: Skipping file with unexpected name format: MLCO_2024-11-15_xnas-itch.parquet\n",
      "Warning: Skipping file with unexpected name format: MLCO_2024-11-18_xnas-itch.parquet\n",
      "Warning: Skipping file with unexpected name format: MLCO_2024-11-19_xnas-itch.parquet\n",
      "Warning: Skipping file with unexpected name format: MLCO_2024-11-20_xnas-itch.parquet\n",
      "Warning: Skipping file with unexpected name format: MLCO_2024-11-21_xnas-itch.parquet\n",
      "Warning: Skipping file with unexpected name format: MLCO_2024-11-22_xnas-itch.parquet\n",
      "Warning: Skipping file with unexpected name format: MLCO_2024-11-25_xnas-itch.parquet\n",
      "Warning: Skipping file with unexpected name format: MLCO_2024-11-26_xnas-itch.parquet\n",
      "Warning: Skipping file with unexpected name format: MLCO_2024-11-27_xnas-itch.parquet\n",
      "Warning: Skipping file with unexpected name format: MLCO_2024-11-29_xnas-itch.parquet\n",
      "Warning: Skipping file with unexpected name format: MLCO_2024-12-02_xnas-itch.parquet\n",
      "Warning: Skipping file with unexpected name format: MLCO_2024-12-03_xnas-itch.parquet\n",
      "Warning: Skipping file with unexpected name format: MLCO_2024-12-04_xnas-itch.parquet\n",
      "Warning: Skipping file with unexpected name format: MLCO_2024-12-05_xnas-itch.parquet\n",
      "Warning: Skipping file with unexpected name format: MLCO_2024-12-06_xnas-itch.parquet\n",
      "Warning: Skipping file with unexpected name format: MLCO_2024-12-09_xnas-itch.parquet\n",
      "Warning: Skipping file with unexpected name format: MLCO_2024-12-10_xnas-itch.parquet\n",
      "Warning: Skipping file with unexpected name format: MLCO_2024-12-11_xnas-itch.parquet\n",
      "Warning: Skipping file with unexpected name format: MLCO_2024-12-12_xnas-itch.parquet\n",
      "Warning: Skipping file with unexpected name format: MLCO_2024-12-13_xnas-itch.parquet\n",
      "Warning: Skipping file with unexpected name format: MLCO_2024-12-16_xnas-itch.parquet\n",
      "Warning: Skipping file with unexpected name format: VOD_2023-07-17_xnas-itch.parquet\n",
      "Warning: Skipping file with unexpected name format: VOD_2023-07-18_xnas-itch.parquet\n",
      "Warning: Skipping file with unexpected name format: VOD_2023-07-19_xnas-itch.parquet\n",
      "Warning: Skipping file with unexpected name format: VOD_2023-07-20_xnas-itch.parquet\n",
      "Warning: Skipping file with unexpected name format: VOD_2023-07-21_xnas-itch.parquet\n",
      "Warning: Skipping file with unexpected name format: VOD_2023-07-24_xnas-itch.parquet\n",
      "Warning: Skipping file with unexpected name format: VOD_2023-07-25_xnas-itch.parquet\n",
      "Warning: Skipping file with unexpected name format: VOD_2023-07-26_xnas-itch.parquet\n",
      "Warning: Skipping file with unexpected name format: VOD_2023-07-27_xnas-itch.parquet\n",
      "Warning: Skipping file with unexpected name format: VOD_2023-07-28_xnas-itch.parquet\n",
      "Warning: Skipping file with unexpected name format: VOD_2023-07-31_xnas-itch.parquet\n",
      "Warning: Skipping file with unexpected name format: VOD_2023-08-01_xnas-itch.parquet\n",
      "Warning: Skipping file with unexpected name format: VOD_2023-08-02_xnas-itch.parquet\n",
      "Warning: Skipping file with unexpected name format: VOD_2023-08-03_xnas-itch.parquet\n",
      "Warning: Skipping file with unexpected name format: VOD_2023-08-04_xnas-itch.parquet\n",
      "Warning: Skipping file with unexpected name format: VOD_2023-08-07_xnas-itch.parquet\n",
      "Warning: Skipping file with unexpected name format: VOD_2023-08-08_xnas-itch.parquet\n",
      "Warning: Skipping file with unexpected name format: VOD_2023-08-09_xnas-itch.parquet\n",
      "Warning: Skipping file with unexpected name format: VOD_2023-08-10_xnas-itch.parquet\n",
      "Warning: Skipping file with unexpected name format: VOD_2023-08-11_xnas-itch.parquet\n",
      "Warning: Skipping file with unexpected name format: VOD_2023-08-14_xnas-itch.parquet\n",
      "Warning: Skipping file with unexpected name format: VOD_2023-08-15_xnas-itch.parquet\n",
      "Warning: Skipping file with unexpected name format: VOD_2023-08-16_xnas-itch.parquet\n",
      "Warning: Skipping file with unexpected name format: VOD_2023-08-17_xnas-itch.parquet\n",
      "Warning: Skipping file with unexpected name format: VOD_2023-08-18_xnas-itch.parquet\n",
      "Warning: Skipping file with unexpected name format: VOD_2023-08-21_xnas-itch.parquet\n",
      "Warning: Skipping file with unexpected name format: VOD_2023-08-22_xnas-itch.parquet\n",
      "Warning: Skipping file with unexpected name format: VOD_2023-08-23_xnas-itch.parquet\n",
      "Warning: Skipping file with unexpected name format: VOD_2023-08-24_xnas-itch.parquet\n",
      "Warning: Skipping file with unexpected name format: VOD_2023-08-25_xnas-itch.parquet\n",
      "Warning: Skipping file with unexpected name format: VOD_2023-08-28_xnas-itch.parquet\n",
      "Warning: Skipping file with unexpected name format: VOD_2023-08-29_xnas-itch.parquet\n",
      "Warning: Skipping file with unexpected name format: VOD_2023-08-30_xnas-itch.parquet\n",
      "Warning: Skipping file with unexpected name format: VOD_2023-08-31_xnas-itch.parquet\n",
      "Warning: Skipping file with unexpected name format: VOD_2023-09-01_xnas-itch.parquet\n",
      "Warning: Skipping file with unexpected name format: VOD_2023-09-05_xnas-itch.parquet\n",
      "Warning: Skipping file with unexpected name format: VOD_2023-09-06_xnas-itch.parquet\n",
      "Warning: Skipping file with unexpected name format: VOD_2023-09-07_xnas-itch.parquet\n",
      "Warning: Skipping file with unexpected name format: VOD_2023-09-08_xnas-itch.parquet\n",
      "Warning: Skipping file with unexpected name format: VOD_2023-09-11_xnas-itch.parquet\n",
      "Warning: Skipping file with unexpected name format: VOD_2023-09-12_xnas-itch.parquet\n",
      "Warning: Skipping file with unexpected name format: VOD_2023-09-13_xnas-itch.parquet\n",
      "Warning: Skipping file with unexpected name format: VOD_2023-09-14_xnas-itch.parquet\n",
      "Warning: Skipping file with unexpected name format: VOD_2023-09-15_xnas-itch.parquet\n",
      "Warning: Skipping file with unexpected name format: VOD_2023-09-18_xnas-itch.parquet\n",
      "Warning: Skipping file with unexpected name format: VOD_2023-09-19_xnas-itch.parquet\n",
      "Warning: Skipping file with unexpected name format: VOD_2023-09-20_xnas-itch.parquet\n",
      "Warning: Skipping file with unexpected name format: VOD_2023-09-21_xnas-itch.parquet\n",
      "Warning: Skipping file with unexpected name format: VOD_2023-09-22_xnas-itch.parquet\n",
      "Warning: Skipping file with unexpected name format: VOD_2023-09-25_xnas-itch.parquet\n",
      "Warning: Skipping file with unexpected name format: VOD_2023-09-26_xnas-itch.parquet\n",
      "Warning: Skipping file with unexpected name format: VOD_2023-09-27_xnas-itch.parquet\n",
      "Warning: Skipping file with unexpected name format: VOD_2023-09-28_xnas-itch.parquet\n",
      "Warning: Skipping file with unexpected name format: VOD_2023-09-29_xnas-itch.parquet\n",
      "Warning: Skipping file with unexpected name format: VOD_2023-10-02_xnas-itch.parquet\n",
      "Warning: Skipping file with unexpected name format: VOD_2023-10-03_xnas-itch.parquet\n",
      "Warning: Skipping file with unexpected name format: VOD_2023-10-04_xnas-itch.parquet\n",
      "Warning: Skipping file with unexpected name format: VOD_2023-10-05_xnas-itch.parquet\n",
      "Warning: Skipping file with unexpected name format: VOD_2023-10-06_xnas-itch.parquet\n",
      "Warning: Skipping file with unexpected name format: VOD_2023-10-09_xnas-itch.parquet\n",
      "Warning: Skipping file with unexpected name format: VOD_2023-10-10_xnas-itch.parquet\n",
      "Warning: Skipping file with unexpected name format: VOD_2023-10-11_xnas-itch.parquet\n",
      "Warning: Skipping file with unexpected name format: VOD_2023-10-12_xnas-itch.parquet\n",
      "Warning: Skipping file with unexpected name format: VOD_2023-10-13_xnas-itch.parquet\n",
      "Warning: Skipping file with unexpected name format: VOD_2023-10-16_xnas-itch.parquet\n",
      "Warning: Skipping file with unexpected name format: VOD_2023-10-17_xnas-itch.parquet\n",
      "Warning: Skipping file with unexpected name format: VOD_2023-10-18_xnas-itch.parquet\n",
      "Warning: Skipping file with unexpected name format: VOD_2023-10-19_xnas-itch.parquet\n",
      "Warning: Skipping file with unexpected name format: VOD_2023-10-20_xnas-itch.parquet\n",
      "Warning: Skipping file with unexpected name format: VOD_2023-10-23_xnas-itch.parquet\n",
      "Warning: Skipping file with unexpected name format: VOD_2023-10-24_xnas-itch.parquet\n",
      "Warning: Skipping file with unexpected name format: VOD_2023-10-25_xnas-itch.parquet\n",
      "Warning: Skipping file with unexpected name format: VOD_2023-10-26_xnas-itch.parquet\n",
      "Warning: Skipping file with unexpected name format: VOD_2023-10-27_xnas-itch.parquet\n",
      "Warning: Skipping file with unexpected name format: VOD_2023-10-30_xnas-itch.parquet\n",
      "Warning: Skipping file with unexpected name format: VOD_2023-10-31_xnas-itch.parquet\n",
      "Warning: Skipping file with unexpected name format: VOD_2023-11-01_xnas-itch.parquet\n",
      "Warning: Skipping file with unexpected name format: VOD_2023-11-02_xnas-itch.parquet\n",
      "Warning: Skipping file with unexpected name format: VOD_2023-11-03_xnas-itch.parquet\n",
      "Warning: Skipping file with unexpected name format: VOD_2023-11-06_xnas-itch.parquet\n",
      "Warning: Skipping file with unexpected name format: VOD_2023-11-07_xnas-itch.parquet\n",
      "Warning: Skipping file with unexpected name format: VOD_2023-11-08_xnas-itch.parquet\n",
      "Warning: Skipping file with unexpected name format: VOD_2023-11-09_xnas-itch.parquet\n",
      "Warning: Skipping file with unexpected name format: VOD_2023-11-10_xnas-itch.parquet\n",
      "Warning: Skipping file with unexpected name format: VOD_2023-11-13_xnas-itch.parquet\n",
      "Warning: Skipping file with unexpected name format: VOD_2023-11-14_xnas-itch.parquet\n",
      "Warning: Skipping file with unexpected name format: VOD_2023-11-15_xnas-itch.parquet\n",
      "Warning: Skipping file with unexpected name format: VOD_2023-11-16_xnas-itch.parquet\n",
      "Warning: Skipping file with unexpected name format: VOD_2023-11-17_xnas-itch.parquet\n",
      "Warning: Skipping file with unexpected name format: VOD_2023-11-20_xnas-itch.parquet\n",
      "Warning: Skipping file with unexpected name format: VOD_2023-11-21_xnas-itch.parquet\n",
      "Warning: Skipping file with unexpected name format: VOD_2023-11-22_xnas-itch.parquet\n",
      "Warning: Skipping file with unexpected name format: VOD_2023-11-24_xnas-itch.parquet\n",
      "Warning: Skipping file with unexpected name format: VOD_2023-11-27_xnas-itch.parquet\n",
      "Warning: Skipping file with unexpected name format: VOD_2023-11-28_xnas-itch.parquet\n",
      "Warning: Skipping file with unexpected name format: VOD_2023-11-29_xnas-itch.parquet\n",
      "Warning: Skipping file with unexpected name format: VOD_2023-11-30_xnas-itch.parquet\n",
      "Warning: Skipping file with unexpected name format: VOD_2023-12-01_xnas-itch.parquet\n",
      "Warning: Skipping file with unexpected name format: VOD_2023-12-04_xnas-itch.parquet\n",
      "Warning: Skipping file with unexpected name format: VOD_2023-12-05_xnas-itch.parquet\n",
      "Warning: Skipping file with unexpected name format: VOD_2023-12-06_xnas-itch.parquet\n",
      "Warning: Skipping file with unexpected name format: VOD_2023-12-07_xnas-itch.parquet\n",
      "Warning: Skipping file with unexpected name format: VOD_2023-12-08_xnas-itch.parquet\n",
      "Warning: Skipping file with unexpected name format: VOD_2023-12-11_xnas-itch.parquet\n",
      "Warning: Skipping file with unexpected name format: VOD_2023-12-12_xnas-itch.parquet\n",
      "Warning: Skipping file with unexpected name format: VOD_2023-12-13_xnas-itch.parquet\n",
      "Warning: Skipping file with unexpected name format: VOD_2023-12-14_xnas-itch.parquet\n",
      "Warning: Skipping file with unexpected name format: VOD_2023-12-15_xnas-itch.parquet\n",
      "Warning: Skipping file with unexpected name format: VOD_2023-12-18_xnas-itch.parquet\n",
      "Warning: Skipping file with unexpected name format: VOD_2023-12-19_xnas-itch.parquet\n",
      "Warning: Skipping file with unexpected name format: VOD_2023-12-20_xnas-itch.parquet\n",
      "Warning: Skipping file with unexpected name format: VOD_2023-12-21_xnas-itch.parquet\n",
      "Warning: Skipping file with unexpected name format: VOD_2023-12-22_xnas-itch.parquet\n",
      "Warning: Skipping file with unexpected name format: VOD_2023-12-26_xnas-itch.parquet\n",
      "Warning: Skipping file with unexpected name format: VOD_2023-12-27_xnas-itch.parquet\n",
      "Warning: Skipping file with unexpected name format: VOD_2023-12-28_xnas-itch.parquet\n",
      "Warning: Skipping file with unexpected name format: VOD_2023-12-29_xnas-itch.parquet\n",
      "Warning: Skipping file with unexpected name format: VOD_2024-01-02_xnas-itch.parquet\n",
      "Warning: Skipping file with unexpected name format: VOD_2024-01-03_xnas-itch.parquet\n",
      "Warning: Skipping file with unexpected name format: VOD_2024-01-04_xnas-itch.parquet\n",
      "Warning: Skipping file with unexpected name format: VOD_2024-01-05_xnas-itch.parquet\n",
      "Warning: Skipping file with unexpected name format: VOD_2024-01-08_xnas-itch.parquet\n",
      "Warning: Skipping file with unexpected name format: VOD_2024-01-09_xnas-itch.parquet\n",
      "Warning: Skipping file with unexpected name format: VOD_2024-01-10_xnas-itch.parquet\n",
      "Warning: Skipping file with unexpected name format: VOD_2024-01-11_xnas-itch.parquet\n",
      "Warning: Skipping file with unexpected name format: VOD_2024-01-12_xnas-itch.parquet\n",
      "Warning: Skipping file with unexpected name format: VOD_2024-01-16_xnas-itch.parquet\n",
      "Warning: Skipping file with unexpected name format: VOD_2024-01-17_xnas-itch.parquet\n",
      "Warning: Skipping file with unexpected name format: VOD_2024-01-18_xnas-itch.parquet\n",
      "Warning: Skipping file with unexpected name format: VOD_2024-01-19_xnas-itch.parquet\n",
      "Warning: Skipping file with unexpected name format: VOD_2024-01-22_xnas-itch.parquet\n",
      "Warning: Skipping file with unexpected name format: VOD_2024-01-23_xnas-itch.parquet\n",
      "Warning: Skipping file with unexpected name format: VOD_2024-01-24_xnas-itch.parquet\n",
      "Warning: Skipping file with unexpected name format: VOD_2024-01-25_xnas-itch.parquet\n",
      "Warning: Skipping file with unexpected name format: VOD_2024-01-26_xnas-itch.parquet\n",
      "Warning: Skipping file with unexpected name format: VOD_2024-01-29_xnas-itch.parquet\n",
      "Warning: Skipping file with unexpected name format: VOD_2024-01-30_xnas-itch.parquet\n",
      "Warning: Skipping file with unexpected name format: VOD_2024-01-31_xnas-itch.parquet\n",
      "Warning: Skipping file with unexpected name format: VOD_2024-02-01_xnas-itch.parquet\n",
      "Warning: Skipping file with unexpected name format: VOD_2024-02-02_xnas-itch.parquet\n",
      "Warning: Skipping file with unexpected name format: VOD_2024-02-05_xnas-itch.parquet\n",
      "Warning: Skipping file with unexpected name format: VOD_2024-02-06_xnas-itch.parquet\n",
      "Warning: Skipping file with unexpected name format: VOD_2024-02-07_xnas-itch.parquet\n",
      "Warning: Skipping file with unexpected name format: VOD_2024-02-08_xnas-itch.parquet\n",
      "Warning: Skipping file with unexpected name format: VOD_2024-02-09_xnas-itch.parquet\n",
      "Warning: Skipping file with unexpected name format: VOD_2024-02-12_xnas-itch.parquet\n",
      "Warning: Skipping file with unexpected name format: VOD_2024-02-13_xnas-itch.parquet\n",
      "Warning: Skipping file with unexpected name format: VOD_2024-02-14_xnas-itch.parquet\n",
      "Warning: Skipping file with unexpected name format: VOD_2024-02-15_xnas-itch.parquet\n",
      "Warning: Skipping file with unexpected name format: VOD_2024-02-16_xnas-itch.parquet\n",
      "Warning: Skipping file with unexpected name format: VOD_2024-02-20_xnas-itch.parquet\n",
      "Warning: Skipping file with unexpected name format: VOD_2024-02-21_xnas-itch.parquet\n",
      "Warning: Skipping file with unexpected name format: VOD_2024-02-22_xnas-itch.parquet\n",
      "Warning: Skipping file with unexpected name format: VOD_2024-02-23_xnas-itch.parquet\n",
      "Warning: Skipping file with unexpected name format: VOD_2024-02-26_xnas-itch.parquet\n",
      "Warning: Skipping file with unexpected name format: VOD_2024-02-27_xnas-itch.parquet\n",
      "Warning: Skipping file with unexpected name format: VOD_2024-02-28_xnas-itch.parquet\n",
      "Warning: Skipping file with unexpected name format: VOD_2024-02-29_xnas-itch.parquet\n",
      "Warning: Skipping file with unexpected name format: VOD_2024-03-01_xnas-itch.parquet\n",
      "Warning: Skipping file with unexpected name format: VOD_2024-03-04_xnas-itch.parquet\n",
      "Warning: Skipping file with unexpected name format: VOD_2024-03-05_xnas-itch.parquet\n",
      "Warning: Skipping file with unexpected name format: VOD_2024-03-06_xnas-itch.parquet\n",
      "Warning: Skipping file with unexpected name format: VOD_2024-03-07_xnas-itch.parquet\n",
      "Warning: Skipping file with unexpected name format: VOD_2024-03-08_xnas-itch.parquet\n",
      "Warning: Skipping file with unexpected name format: VOD_2024-03-11_xnas-itch.parquet\n",
      "Warning: Skipping file with unexpected name format: VOD_2024-03-12_xnas-itch.parquet\n",
      "Warning: Skipping file with unexpected name format: VOD_2024-03-13_xnas-itch.parquet\n",
      "Warning: Skipping file with unexpected name format: VOD_2024-03-14_xnas-itch.parquet\n",
      "Warning: Skipping file with unexpected name format: VOD_2024-03-15_xnas-itch.parquet\n",
      "Warning: Skipping file with unexpected name format: VOD_2024-03-18_xnas-itch.parquet\n",
      "Warning: Skipping file with unexpected name format: VOD_2024-03-19_xnas-itch.parquet\n",
      "Warning: Skipping file with unexpected name format: VOD_2024-03-20_xnas-itch.parquet\n",
      "Warning: Skipping file with unexpected name format: VOD_2024-03-21_xnas-itch.parquet\n",
      "Warning: Skipping file with unexpected name format: VOD_2024-03-22_xnas-itch.parquet\n",
      "Warning: Skipping file with unexpected name format: VOD_2024-03-25_xnas-itch.parquet\n",
      "Warning: Skipping file with unexpected name format: VOD_2024-03-26_xnas-itch.parquet\n",
      "Warning: Skipping file with unexpected name format: VOD_2024-03-27_xnas-itch.parquet\n",
      "Warning: Skipping file with unexpected name format: VOD_2024-03-28_xnas-itch.parquet\n",
      "Warning: Skipping file with unexpected name format: VOD_2024-04-01_xnas-itch.parquet\n",
      "Warning: Skipping file with unexpected name format: VOD_2024-04-02_xnas-itch.parquet\n",
      "Warning: Skipping file with unexpected name format: VOD_2024-04-03_xnas-itch.parquet\n",
      "Warning: Skipping file with unexpected name format: VOD_2024-04-04_xnas-itch.parquet\n",
      "Warning: Skipping file with unexpected name format: VOD_2024-04-05_xnas-itch.parquet\n",
      "Warning: Skipping file with unexpected name format: VOD_2024-04-08_xnas-itch.parquet\n",
      "Warning: Skipping file with unexpected name format: VOD_2024-04-09_xnas-itch.parquet\n",
      "Warning: Skipping file with unexpected name format: VOD_2024-04-10_xnas-itch.parquet\n",
      "Warning: Skipping file with unexpected name format: VOD_2024-04-11_xnas-itch.parquet\n",
      "Warning: Skipping file with unexpected name format: VOD_2024-04-12_xnas-itch.parquet\n",
      "Warning: Skipping file with unexpected name format: VOD_2024-04-15_xnas-itch.parquet\n",
      "Warning: Skipping file with unexpected name format: VOD_2024-04-16_xnas-itch.parquet\n",
      "Warning: Skipping file with unexpected name format: VOD_2024-04-17_xnas-itch.parquet\n",
      "Warning: Skipping file with unexpected name format: VOD_2024-04-18_xnas-itch.parquet\n",
      "Warning: Skipping file with unexpected name format: VOD_2024-04-19_xnas-itch.parquet\n",
      "Warning: Skipping file with unexpected name format: VOD_2024-04-22_xnas-itch.parquet\n",
      "Warning: Skipping file with unexpected name format: VOD_2024-04-23_xnas-itch.parquet\n",
      "Warning: Skipping file with unexpected name format: VOD_2024-04-24_xnas-itch.parquet\n",
      "Warning: Skipping file with unexpected name format: VOD_2024-04-25_xnas-itch.parquet\n",
      "Warning: Skipping file with unexpected name format: VOD_2024-04-26_xnas-itch.parquet\n",
      "Warning: Skipping file with unexpected name format: VOD_2024-04-29_xnas-itch.parquet\n",
      "Warning: Skipping file with unexpected name format: VOD_2024-04-30_xnas-itch.parquet\n",
      "Warning: Skipping file with unexpected name format: VOD_2024-05-01_xnas-itch.parquet\n",
      "Warning: Skipping file with unexpected name format: VOD_2024-05-02_xnas-itch.parquet\n",
      "Warning: Skipping file with unexpected name format: VOD_2024-05-03_xnas-itch.parquet\n",
      "Warning: Skipping file with unexpected name format: VOD_2024-05-06_xnas-itch.parquet\n",
      "Warning: Skipping file with unexpected name format: VOD_2024-05-07_xnas-itch.parquet\n",
      "Warning: Skipping file with unexpected name format: VOD_2024-05-08_xnas-itch.parquet\n",
      "Warning: Skipping file with unexpected name format: VOD_2024-05-09_xnas-itch.parquet\n",
      "Warning: Skipping file with unexpected name format: VOD_2024-05-10_xnas-itch.parquet\n",
      "Warning: Skipping file with unexpected name format: VOD_2024-05-13_xnas-itch.parquet\n",
      "Warning: Skipping file with unexpected name format: VOD_2024-05-14_xnas-itch.parquet\n",
      "Warning: Skipping file with unexpected name format: VOD_2024-05-15_xnas-itch.parquet\n",
      "Warning: Skipping file with unexpected name format: VOD_2024-05-16_xnas-itch.parquet\n",
      "Warning: Skipping file with unexpected name format: VOD_2024-05-17_xnas-itch.parquet\n",
      "Warning: Skipping file with unexpected name format: VOD_2024-05-20_xnas-itch.parquet\n",
      "Warning: Skipping file with unexpected name format: VOD_2024-05-21_xnas-itch.parquet\n",
      "Warning: Skipping file with unexpected name format: VOD_2024-05-22_xnas-itch.parquet\n",
      "Warning: Skipping file with unexpected name format: VOD_2024-05-23_xnas-itch.parquet\n",
      "Warning: Skipping file with unexpected name format: VOD_2024-05-24_xnas-itch.parquet\n",
      "Warning: Skipping file with unexpected name format: VOD_2024-05-28_xnas-itch.parquet\n",
      "Warning: Skipping file with unexpected name format: VOD_2024-05-29_xnas-itch.parquet\n",
      "Warning: Skipping file with unexpected name format: VOD_2024-05-30_xnas-itch.parquet\n",
      "Warning: Skipping file with unexpected name format: VOD_2024-05-31_xnas-itch.parquet\n",
      "Warning: Skipping file with unexpected name format: VOD_2024-06-03_xnas-itch.parquet\n",
      "Warning: Skipping file with unexpected name format: VOD_2024-06-04_xnas-itch.parquet\n",
      "Warning: Skipping file with unexpected name format: VOD_2024-06-05_xnas-itch.parquet\n",
      "Warning: Skipping file with unexpected name format: VOD_2024-06-06_xnas-itch.parquet\n",
      "Warning: Skipping file with unexpected name format: VOD_2024-06-07_xnas-itch.parquet\n",
      "Warning: Skipping file with unexpected name format: VOD_2024-06-10_xnas-itch.parquet\n",
      "Warning: Skipping file with unexpected name format: VOD_2024-06-11_xnas-itch.parquet\n",
      "Warning: Skipping file with unexpected name format: VOD_2024-06-12_xnas-itch.parquet\n",
      "Warning: Skipping file with unexpected name format: VOD_2024-06-13_xnas-itch.parquet\n",
      "Warning: Skipping file with unexpected name format: VOD_2024-06-14_xnas-itch.parquet\n",
      "Warning: Skipping file with unexpected name format: VOD_2024-06-17_xnas-itch.parquet\n",
      "Warning: Skipping file with unexpected name format: VOD_2024-06-18_xnas-itch.parquet\n",
      "Warning: Skipping file with unexpected name format: VOD_2024-06-20_xnas-itch.parquet\n",
      "Warning: Skipping file with unexpected name format: VOD_2024-06-21_xnas-itch.parquet\n",
      "Warning: Skipping file with unexpected name format: VOD_2024-06-24_xnas-itch.parquet\n",
      "Warning: Skipping file with unexpected name format: VOD_2024-06-25_xnas-itch.parquet\n",
      "Warning: Skipping file with unexpected name format: VOD_2024-06-26_xnas-itch.parquet\n",
      "Warning: Skipping file with unexpected name format: VOD_2024-06-27_xnas-itch.parquet\n",
      "Warning: Skipping file with unexpected name format: VOD_2024-06-28_xnas-itch.parquet\n",
      "Warning: Skipping file with unexpected name format: VOD_2024-07-01_xnas-itch.parquet\n",
      "Warning: Skipping file with unexpected name format: VOD_2024-07-02_xnas-itch.parquet\n",
      "Warning: Skipping file with unexpected name format: VOD_2024-07-03_xnas-itch.parquet\n",
      "Warning: Skipping file with unexpected name format: VOD_2024-07-05_xnas-itch.parquet\n",
      "Warning: Skipping file with unexpected name format: VOD_2024-07-08_xnas-itch.parquet\n",
      "Warning: Skipping file with unexpected name format: VOD_2024-07-09_xnas-itch.parquet\n",
      "Warning: Skipping file with unexpected name format: VOD_2024-07-10_xnas-itch.parquet\n",
      "Warning: Skipping file with unexpected name format: VOD_2024-07-11_xnas-itch.parquet\n",
      "Warning: Skipping file with unexpected name format: VOD_2024-07-12_xnas-itch.parquet\n",
      "Warning: Skipping file with unexpected name format: VOD_2024-07-15_xnas-itch.parquet\n",
      "Warning: Skipping file with unexpected name format: VOD_2024-07-16_xnas-itch.parquet\n",
      "Warning: Skipping file with unexpected name format: VOD_2024-07-17_xnas-itch.parquet\n",
      "Warning: Skipping file with unexpected name format: VOD_2024-07-18_xnas-itch.parquet\n",
      "Warning: Skipping file with unexpected name format: VOD_2024-07-19_xnas-itch.parquet\n",
      "Warning: Skipping file with unexpected name format: VOD_2024-07-22_xnas-itch.parquet\n",
      "Warning: Skipping file with unexpected name format: VOD_2024-07-23_xnas-itch.parquet\n",
      "Warning: Skipping file with unexpected name format: VOD_2024-07-24_xnas-itch.parquet\n",
      "Warning: Skipping file with unexpected name format: VOD_2024-07-25_xnas-itch.parquet\n",
      "Warning: Skipping file with unexpected name format: VOD_2024-07-26_xnas-itch.parquet\n",
      "Warning: Skipping file with unexpected name format: VOD_2024-07-29_xnas-itch.parquet\n",
      "Warning: Skipping file with unexpected name format: VOD_2024-07-30_xnas-itch.parquet\n",
      "Warning: Skipping file with unexpected name format: VOD_2024-07-31_xnas-itch.parquet\n",
      "Warning: Skipping file with unexpected name format: VOD_2024-08-01_xnas-itch.parquet\n",
      "Warning: Skipping file with unexpected name format: VOD_2024-08-02_xnas-itch.parquet\n",
      "Warning: Skipping file with unexpected name format: VOD_2024-08-05_xnas-itch.parquet\n",
      "Warning: Skipping file with unexpected name format: VOD_2024-08-06_xnas-itch.parquet\n",
      "Warning: Skipping file with unexpected name format: VOD_2024-08-07_xnas-itch.parquet\n",
      "Warning: Skipping file with unexpected name format: VOD_2024-08-08_xnas-itch.parquet\n",
      "Warning: Skipping file with unexpected name format: VOD_2024-08-09_xnas-itch.parquet\n",
      "Warning: Skipping file with unexpected name format: VOD_2024-08-12_xnas-itch.parquet\n",
      "Warning: Skipping file with unexpected name format: VOD_2024-08-13_xnas-itch.parquet\n",
      "Warning: Skipping file with unexpected name format: VOD_2024-08-14_xnas-itch.parquet\n",
      "Warning: Skipping file with unexpected name format: VOD_2024-08-15_xnas-itch.parquet\n",
      "Warning: Skipping file with unexpected name format: VOD_2024-08-16_xnas-itch.parquet\n",
      "Warning: Skipping file with unexpected name format: VOD_2024-08-19_xnas-itch.parquet\n",
      "Warning: Skipping file with unexpected name format: VOD_2024-08-20_xnas-itch.parquet\n",
      "Warning: Skipping file with unexpected name format: VOD_2024-08-21_xnas-itch.parquet\n",
      "Warning: Skipping file with unexpected name format: VOD_2024-08-22_xnas-itch.parquet\n",
      "Warning: Skipping file with unexpected name format: VOD_2024-08-23_xnas-itch.parquet\n",
      "Warning: Skipping file with unexpected name format: VOD_2024-08-26_xnas-itch.parquet\n",
      "Warning: Skipping file with unexpected name format: VOD_2024-08-27_xnas-itch.parquet\n",
      "Warning: Skipping file with unexpected name format: VOD_2024-08-28_xnas-itch.parquet\n",
      "Warning: Skipping file with unexpected name format: VOD_2024-08-29_xnas-itch.parquet\n",
      "Warning: Skipping file with unexpected name format: VOD_2024-08-30_xnas-itch.parquet\n",
      "Warning: Skipping file with unexpected name format: VOD_2024-09-03_xnas-itch.parquet\n",
      "Warning: Skipping file with unexpected name format: VOD_2024-09-04_xnas-itch.parquet\n",
      "Warning: Skipping file with unexpected name format: VOD_2024-09-05_xnas-itch.parquet\n",
      "Warning: Skipping file with unexpected name format: VOD_2024-09-06_xnas-itch.parquet\n",
      "Warning: Skipping file with unexpected name format: VOD_2024-09-09_xnas-itch.parquet\n",
      "Warning: Skipping file with unexpected name format: VOD_2024-09-10_xnas-itch.parquet\n",
      "Warning: Skipping file with unexpected name format: VOD_2024-09-11_xnas-itch.parquet\n",
      "Warning: Skipping file with unexpected name format: VOD_2024-09-12_xnas-itch.parquet\n",
      "Warning: Skipping file with unexpected name format: VOD_2024-09-13_xnas-itch.parquet\n",
      "Warning: Skipping file with unexpected name format: VOD_2024-09-16_xnas-itch.parquet\n",
      "Warning: Skipping file with unexpected name format: VOD_2024-09-17_xnas-itch.parquet\n",
      "Warning: Skipping file with unexpected name format: VOD_2024-09-18_xnas-itch.parquet\n",
      "Warning: Skipping file with unexpected name format: VOD_2024-09-19_xnas-itch.parquet\n",
      "Warning: Skipping file with unexpected name format: VOD_2024-09-20_xnas-itch.parquet\n",
      "Warning: Skipping file with unexpected name format: VOD_2024-09-23_xnas-itch.parquet\n",
      "Warning: Skipping file with unexpected name format: VOD_2024-09-24_xnas-itch.parquet\n",
      "Warning: Skipping file with unexpected name format: VOD_2024-09-25_xnas-itch.parquet\n",
      "Warning: Skipping file with unexpected name format: VOD_2024-09-26_xnas-itch.parquet\n",
      "Warning: Skipping file with unexpected name format: VOD_2024-09-27_xnas-itch.parquet\n",
      "Warning: Skipping file with unexpected name format: VOD_2024-09-30_xnas-itch.parquet\n",
      "Warning: Skipping file with unexpected name format: VOD_2024-10-01_xnas-itch.parquet\n",
      "Warning: Skipping file with unexpected name format: VOD_2024-10-02_xnas-itch.parquet\n",
      "Warning: Skipping file with unexpected name format: VOD_2024-10-03_xnas-itch.parquet\n",
      "Warning: Skipping file with unexpected name format: VOD_2024-10-04_xnas-itch.parquet\n",
      "Warning: Skipping file with unexpected name format: VOD_2024-10-07_xnas-itch.parquet\n",
      "Warning: Skipping file with unexpected name format: VOD_2024-10-08_xnas-itch.parquet\n",
      "Warning: Skipping file with unexpected name format: VOD_2024-10-09_xnas-itch.parquet\n",
      "Warning: Skipping file with unexpected name format: VOD_2024-10-10_xnas-itch.parquet\n",
      "Warning: Skipping file with unexpected name format: VOD_2024-10-11_xnas-itch.parquet\n",
      "Warning: Skipping file with unexpected name format: VOD_2024-10-14_xnas-itch.parquet\n",
      "Warning: Skipping file with unexpected name format: VOD_2024-10-15_xnas-itch.parquet\n",
      "Warning: Skipping file with unexpected name format: VOD_2024-10-16_xnas-itch.parquet\n",
      "Warning: Skipping file with unexpected name format: VOD_2024-10-17_xnas-itch.parquet\n",
      "Warning: Skipping file with unexpected name format: VOD_2024-10-18_xnas-itch.parquet\n",
      "Warning: Skipping file with unexpected name format: VOD_2024-10-21_xnas-itch.parquet\n",
      "Warning: Skipping file with unexpected name format: VOD_2024-10-22_xnas-itch.parquet\n",
      "Warning: Skipping file with unexpected name format: VOD_2024-10-23_xnas-itch.parquet\n",
      "Warning: Skipping file with unexpected name format: VOD_2024-10-24_xnas-itch.parquet\n",
      "Warning: Skipping file with unexpected name format: VOD_2024-10-25_xnas-itch.parquet\n",
      "Warning: Skipping file with unexpected name format: VOD_2024-10-28_xnas-itch.parquet\n",
      "Warning: Skipping file with unexpected name format: VOD_2024-10-29_xnas-itch.parquet\n",
      "Warning: Skipping file with unexpected name format: VOD_2024-10-30_xnas-itch.parquet\n",
      "Warning: Skipping file with unexpected name format: VOD_2024-10-31_xnas-itch.parquet\n",
      "Warning: Skipping file with unexpected name format: VOD_2024-11-01_xnas-itch.parquet\n",
      "Warning: Skipping file with unexpected name format: VOD_2024-11-04_xnas-itch.parquet\n",
      "Warning: Skipping file with unexpected name format: VOD_2024-11-05_xnas-itch.parquet\n",
      "Warning: Skipping file with unexpected name format: VOD_2024-11-06_xnas-itch.parquet\n",
      "Warning: Skipping file with unexpected name format: VOD_2024-11-07_xnas-itch.parquet\n",
      "Warning: Skipping file with unexpected name format: VOD_2024-11-08_xnas-itch.parquet\n",
      "Warning: Skipping file with unexpected name format: VOD_2024-11-11_xnas-itch.parquet\n",
      "Warning: Skipping file with unexpected name format: VOD_2024-11-12_xnas-itch.parquet\n",
      "Warning: Skipping file with unexpected name format: VOD_2024-11-13_xnas-itch.parquet\n",
      "Warning: Skipping file with unexpected name format: VOD_2024-11-14_xnas-itch.parquet\n",
      "Warning: Skipping file with unexpected name format: VOD_2024-11-15_xnas-itch.parquet\n",
      "Warning: Skipping file with unexpected name format: VOD_2024-11-18_xnas-itch.parquet\n",
      "Warning: Skipping file with unexpected name format: VOD_2024-11-19_xnas-itch.parquet\n",
      "Warning: Skipping file with unexpected name format: VOD_2024-11-20_xnas-itch.parquet\n",
      "Warning: Skipping file with unexpected name format: VOD_2024-11-21_xnas-itch.parquet\n",
      "Warning: Skipping file with unexpected name format: VOD_2024-11-22_xnas-itch.parquet\n",
      "Warning: Skipping file with unexpected name format: VOD_2024-11-25_xnas-itch.parquet\n",
      "Warning: Skipping file with unexpected name format: VOD_2024-11-26_xnas-itch.parquet\n",
      "Warning: Skipping file with unexpected name format: VOD_2024-11-27_xnas-itch.parquet\n",
      "Warning: Skipping file with unexpected name format: VOD_2024-11-29_xnas-itch.parquet\n",
      "Warning: Skipping file with unexpected name format: VOD_2024-12-02_xnas-itch.parquet\n",
      "Warning: Skipping file with unexpected name format: VOD_2024-12-03_xnas-itch.parquet\n",
      "Warning: Skipping file with unexpected name format: VOD_2024-12-04_xnas-itch.parquet\n",
      "Warning: Skipping file with unexpected name format: VOD_2024-12-05_xnas-itch.parquet\n",
      "Warning: Skipping file with unexpected name format: VOD_2024-12-06_xnas-itch.parquet\n",
      "Warning: Skipping file with unexpected name format: VOD_2024-12-09_xnas-itch.parquet\n",
      "Warning: Skipping file with unexpected name format: VOD_2024-12-10_xnas-itch.parquet\n",
      "Warning: Skipping file with unexpected name format: VOD_2024-12-11_xnas-itch.parquet\n",
      "Warning: Skipping file with unexpected name format: VOD_2024-12-12_xnas-itch.parquet\n",
      "Warning: Skipping file with unexpected name format: VOD_2024-12-13_xnas-itch.parquet\n",
      "Warning: Skipping file with unexpected name format: VOD_2024-12-16_xnas-itch.parquet\n",
      "Warning: No parquet files found for stock data\n",
      "Warning: Skipping file with unexpected name format: AAPL_2024-10-01_xnas-itch.parquet\n",
      "Warning: Skipping file with unexpected name format: AAPL_2024-10-02_xnas-itch.parquet\n",
      "Warning: Skipping file with unexpected name format: AAPL_2024-10-03_xnas-itch.parquet\n",
      "Warning: Skipping file with unexpected name format: AAPL_2024-10-04_xnas-itch.parquet\n",
      "Warning: Skipping file with unexpected name format: AAPL_2024-10-07_xnas-itch.parquet\n",
      "Warning: Skipping file with unexpected name format: AAPL_2024-10-08_xnas-itch.parquet\n",
      "Warning: Skipping file with unexpected name format: AAPL_2024-10-09_xnas-itch.parquet\n",
      "Warning: Skipping file with unexpected name format: AAPL_2024-10-10_xnas-itch.parquet\n",
      "Warning: Skipping file with unexpected name format: AAPL_2024-10-11_xnas-itch.parquet\n",
      "Warning: Skipping file with unexpected name format: AAPL_2024-10-14_xnas-itch.parquet\n",
      "Warning: Skipping file with unexpected name format: AAPL_2024-10-15_xnas-itch.parquet\n",
      "Warning: Skipping file with unexpected name format: AAPL_2024-10-16_xnas-itch.parquet\n",
      "Warning: Skipping file with unexpected name format: AAPL_2024-10-17_xnas-itch.parquet\n",
      "Warning: Skipping file with unexpected name format: AAPL_2024-10-18_xnas-itch.parquet\n",
      "Warning: Skipping file with unexpected name format: AAPL_2024-10-21_xnas-itch.parquet\n",
      "Warning: Skipping file with unexpected name format: AAPL_2024-10-22_xnas-itch.parquet\n",
      "Warning: Skipping file with unexpected name format: AAPL_2024-10-23_xnas-itch.parquet\n",
      "Warning: Skipping file with unexpected name format: AAPL_2024-10-24_xnas-itch.parquet\n",
      "Warning: Skipping file with unexpected name format: AAPL_2024-10-25_xnas-itch.parquet\n",
      "Warning: Skipping file with unexpected name format: AAPL_2024-10-28_xnas-itch.parquet\n",
      "Warning: Skipping file with unexpected name format: AAPL_2024-10-29_xnas-itch.parquet\n",
      "Warning: Skipping file with unexpected name format: AAPL_2024-10-30_xnas-itch.parquet\n",
      "Warning: Skipping file with unexpected name format: AAPL_2024-10-31_xnas-itch.parquet\n",
      "Warning: Skipping file with unexpected name format: AAPL_2024-11-01_xnas-itch.parquet\n",
      "Warning: Skipping file with unexpected name format: AAPL_2024-11-04_xnas-itch.parquet\n",
      "Warning: Skipping file with unexpected name format: AAPL_2024-11-05_xnas-itch.parquet\n",
      "Warning: Skipping file with unexpected name format: AAPL_2024-11-06_xnas-itch.parquet\n",
      "Warning: Skipping file with unexpected name format: AAPL_2024-11-07_xnas-itch.parquet\n",
      "Warning: Skipping file with unexpected name format: AAPL_2024-11-08_xnas-itch.parquet\n",
      "Warning: Skipping file with unexpected name format: AAPL_2024-11-11_xnas-itch.parquet\n",
      "Warning: Skipping file with unexpected name format: AAPL_2024-11-12_xnas-itch.parquet\n",
      "Warning: Skipping file with unexpected name format: AAPL_2024-11-13_xnas-itch.parquet\n",
      "Warning: Skipping file with unexpected name format: AAPL_2024-11-14_xnas-itch.parquet\n",
      "Warning: Skipping file with unexpected name format: AAPL_2024-11-15_xnas-itch.parquet\n",
      "Warning: Skipping file with unexpected name format: AAPL_2024-11-18_xnas-itch.parquet\n",
      "Warning: Skipping file with unexpected name format: AAPL_2024-11-19_xnas-itch.parquet\n",
      "Warning: Skipping file with unexpected name format: AAPL_2024-11-20_xnas-itch.parquet\n",
      "Warning: Skipping file with unexpected name format: AAPL_2024-11-21_xnas-itch.parquet\n",
      "Warning: Skipping file with unexpected name format: AAPL_2024-11-22_xnas-itch.parquet\n",
      "Warning: Skipping file with unexpected name format: AAPL_2024-11-25_xnas-itch.parquet\n",
      "Warning: Skipping file with unexpected name format: AAPL_2024-11-26_xnas-itch.parquet\n",
      "Warning: Skipping file with unexpected name format: AAPL_2024-11-27_xnas-itch.parquet\n",
      "Warning: Skipping file with unexpected name format: AAPL_2024-11-29_xnas-itch.parquet\n",
      "Warning: Skipping file with unexpected name format: AAPL_2024-12-02_xnas-itch.parquet\n",
      "Warning: Skipping file with unexpected name format: AAPL_2024-12-03_xnas-itch.parquet\n",
      "Warning: Skipping file with unexpected name format: AAPL_2024-12-04_xnas-itch.parquet\n",
      "Warning: Skipping file with unexpected name format: AAPL_2024-12-05_xnas-itch.parquet\n",
      "Warning: Skipping file with unexpected name format: AAPL_2024-12-06_xnas-itch.parquet\n",
      "Warning: Skipping file with unexpected name format: AAPL_2024-12-09_xnas-itch.parquet\n",
      "Warning: Skipping file with unexpected name format: AAPL_2024-12-10_xnas-itch.parquet\n",
      "Warning: Skipping file with unexpected name format: AAPL_2024-12-11_xnas-itch.parquet\n",
      "Warning: Skipping file with unexpected name format: AAPL_2024-12-12_xnas-itch.parquet\n",
      "Warning: Skipping file with unexpected name format: AAPL_2024-12-13_xnas-itch.parquet\n",
      "Warning: Skipping file with unexpected name format: AAPL_2024-12-16_xnas-itch.parquet\n",
      "Warning: Skipping file with unexpected name format: WB_2023-07-17_xnas-itch.parquet\n",
      "Warning: Skipping file with unexpected name format: WB_2023-07-18_xnas-itch.parquet\n",
      "Warning: Skipping file with unexpected name format: WB_2023-07-19_xnas-itch.parquet\n",
      "Warning: Skipping file with unexpected name format: WB_2023-07-20_xnas-itch.parquet\n",
      "Warning: Skipping file with unexpected name format: WB_2023-07-21_xnas-itch.parquet\n",
      "Warning: Skipping file with unexpected name format: WB_2023-07-24_xnas-itch.parquet\n",
      "Warning: Skipping file with unexpected name format: WB_2023-07-25_xnas-itch.parquet\n",
      "Warning: Skipping file with unexpected name format: WB_2023-07-26_xnas-itch.parquet\n",
      "Warning: Skipping file with unexpected name format: WB_2023-07-27_xnas-itch.parquet\n",
      "Warning: Skipping file with unexpected name format: WB_2023-07-28_xnas-itch.parquet\n",
      "Warning: Skipping file with unexpected name format: WB_2023-07-31_xnas-itch.parquet\n",
      "Warning: Skipping file with unexpected name format: WB_2023-08-01_xnas-itch.parquet\n",
      "Warning: Skipping file with unexpected name format: WB_2023-08-02_xnas-itch.parquet\n",
      "Warning: Skipping file with unexpected name format: WB_2023-08-03_xnas-itch.parquet\n",
      "Warning: Skipping file with unexpected name format: WB_2023-08-04_xnas-itch.parquet\n",
      "Warning: Skipping file with unexpected name format: WB_2023-08-07_xnas-itch.parquet\n",
      "Warning: Skipping file with unexpected name format: WB_2023-08-08_xnas-itch.parquet\n",
      "Warning: Skipping file with unexpected name format: WB_2023-08-09_xnas-itch.parquet\n",
      "Warning: Skipping file with unexpected name format: WB_2023-08-10_xnas-itch.parquet\n",
      "Warning: Skipping file with unexpected name format: WB_2023-08-11_xnas-itch.parquet\n",
      "Warning: Skipping file with unexpected name format: WB_2023-08-14_xnas-itch.parquet\n",
      "Warning: Skipping file with unexpected name format: WB_2023-08-15_xnas-itch.parquet\n",
      "Warning: Skipping file with unexpected name format: WB_2023-08-16_xnas-itch.parquet\n",
      "Warning: Skipping file with unexpected name format: WB_2023-08-17_xnas-itch.parquet\n",
      "Warning: Skipping file with unexpected name format: WB_2023-08-18_xnas-itch.parquet\n",
      "Warning: Skipping file with unexpected name format: WB_2023-08-21_xnas-itch.parquet\n",
      "Warning: Skipping file with unexpected name format: WB_2023-08-22_xnas-itch.parquet\n",
      "Warning: Skipping file with unexpected name format: WB_2023-08-23_xnas-itch.parquet\n",
      "Warning: Skipping file with unexpected name format: WB_2023-08-24_xnas-itch.parquet\n",
      "Warning: Skipping file with unexpected name format: WB_2023-08-25_xnas-itch.parquet\n",
      "Warning: Skipping file with unexpected name format: WB_2023-08-28_xnas-itch.parquet\n",
      "Warning: Skipping file with unexpected name format: WB_2023-08-29_xnas-itch.parquet\n",
      "Warning: Skipping file with unexpected name format: WB_2023-08-30_xnas-itch.parquet\n",
      "Warning: Skipping file with unexpected name format: WB_2023-08-31_xnas-itch.parquet\n",
      "Warning: Skipping file with unexpected name format: WB_2023-09-01_xnas-itch.parquet\n",
      "Warning: Skipping file with unexpected name format: WB_2023-09-05_xnas-itch.parquet\n",
      "Warning: Skipping file with unexpected name format: WB_2023-09-06_xnas-itch.parquet\n",
      "Warning: Skipping file with unexpected name format: WB_2023-09-07_xnas-itch.parquet\n",
      "Warning: Skipping file with unexpected name format: WB_2023-09-08_xnas-itch.parquet\n",
      "Warning: Skipping file with unexpected name format: WB_2023-09-11_xnas-itch.parquet\n",
      "Warning: Skipping file with unexpected name format: WB_2023-09-12_xnas-itch.parquet\n",
      "Warning: Skipping file with unexpected name format: WB_2023-09-13_xnas-itch.parquet\n",
      "Warning: Skipping file with unexpected name format: WB_2023-09-14_xnas-itch.parquet\n",
      "Warning: Skipping file with unexpected name format: WB_2023-09-15_xnas-itch.parquet\n",
      "Warning: Skipping file with unexpected name format: WB_2023-09-18_xnas-itch.parquet\n",
      "Warning: Skipping file with unexpected name format: WB_2023-09-19_xnas-itch.parquet\n",
      "Warning: Skipping file with unexpected name format: WB_2023-09-20_xnas-itch.parquet\n",
      "Warning: Skipping file with unexpected name format: WB_2023-09-21_xnas-itch.parquet\n",
      "Warning: Skipping file with unexpected name format: WB_2023-09-22_xnas-itch.parquet\n",
      "Warning: Skipping file with unexpected name format: WB_2023-09-25_xnas-itch.parquet\n",
      "Warning: Skipping file with unexpected name format: WB_2023-09-26_xnas-itch.parquet\n",
      "Warning: Skipping file with unexpected name format: WB_2023-09-27_xnas-itch.parquet\n",
      "Warning: Skipping file with unexpected name format: WB_2023-09-28_xnas-itch.parquet\n",
      "Warning: Skipping file with unexpected name format: WB_2023-09-29_xnas-itch.parquet\n",
      "Warning: Skipping file with unexpected name format: WB_2023-10-02_xnas-itch.parquet\n",
      "Warning: Skipping file with unexpected name format: WB_2023-10-03_xnas-itch.parquet\n",
      "Warning: Skipping file with unexpected name format: WB_2023-10-04_xnas-itch.parquet\n",
      "Warning: Skipping file with unexpected name format: WB_2023-10-05_xnas-itch.parquet\n",
      "Warning: Skipping file with unexpected name format: WB_2023-10-06_xnas-itch.parquet\n",
      "Warning: Skipping file with unexpected name format: WB_2023-10-09_xnas-itch.parquet\n",
      "Warning: Skipping file with unexpected name format: WB_2023-10-10_xnas-itch.parquet\n",
      "Warning: Skipping file with unexpected name format: WB_2023-10-11_xnas-itch.parquet\n",
      "Warning: Skipping file with unexpected name format: WB_2023-10-12_xnas-itch.parquet\n",
      "Warning: Skipping file with unexpected name format: WB_2023-10-13_xnas-itch.parquet\n",
      "Warning: Skipping file with unexpected name format: WB_2023-10-16_xnas-itch.parquet\n",
      "Warning: Skipping file with unexpected name format: WB_2023-10-17_xnas-itch.parquet\n",
      "Warning: Skipping file with unexpected name format: WB_2023-10-18_xnas-itch.parquet\n",
      "Warning: Skipping file with unexpected name format: WB_2023-10-19_xnas-itch.parquet\n",
      "Warning: Skipping file with unexpected name format: WB_2023-10-20_xnas-itch.parquet\n",
      "Warning: Skipping file with unexpected name format: WB_2023-10-23_xnas-itch.parquet\n",
      "Warning: Skipping file with unexpected name format: WB_2023-10-24_xnas-itch.parquet\n",
      "Warning: Skipping file with unexpected name format: WB_2023-10-25_xnas-itch.parquet\n",
      "Warning: Skipping file with unexpected name format: WB_2023-10-26_xnas-itch.parquet\n",
      "Warning: Skipping file with unexpected name format: WB_2023-10-27_xnas-itch.parquet\n",
      "Warning: Skipping file with unexpected name format: WB_2023-10-30_xnas-itch.parquet\n",
      "Warning: Skipping file with unexpected name format: WB_2023-10-31_xnas-itch.parquet\n",
      "Warning: Skipping file with unexpected name format: WB_2023-11-01_xnas-itch.parquet\n",
      "Warning: Skipping file with unexpected name format: WB_2023-11-02_xnas-itch.parquet\n",
      "Warning: Skipping file with unexpected name format: WB_2023-11-03_xnas-itch.parquet\n",
      "Warning: Skipping file with unexpected name format: WB_2023-11-06_xnas-itch.parquet\n",
      "Warning: Skipping file with unexpected name format: WB_2023-11-07_xnas-itch.parquet\n",
      "Warning: Skipping file with unexpected name format: WB_2023-11-08_xnas-itch.parquet\n",
      "Warning: Skipping file with unexpected name format: WB_2023-11-09_xnas-itch.parquet\n",
      "Warning: Skipping file with unexpected name format: WB_2023-11-10_xnas-itch.parquet\n",
      "Warning: Skipping file with unexpected name format: WB_2023-11-13_xnas-itch.parquet\n",
      "Warning: Skipping file with unexpected name format: WB_2023-11-14_xnas-itch.parquet\n",
      "Warning: Skipping file with unexpected name format: WB_2023-11-15_xnas-itch.parquet\n",
      "Warning: Skipping file with unexpected name format: WB_2023-11-16_xnas-itch.parquet\n",
      "Warning: Skipping file with unexpected name format: WB_2023-11-17_xnas-itch.parquet\n",
      "Warning: Skipping file with unexpected name format: WB_2023-11-20_xnas-itch.parquet\n",
      "Warning: Skipping file with unexpected name format: WB_2023-11-21_xnas-itch.parquet\n",
      "Warning: Skipping file with unexpected name format: WB_2023-11-22_xnas-itch.parquet\n",
      "Warning: Skipping file with unexpected name format: WB_2023-11-24_xnas-itch.parquet\n",
      "Warning: Skipping file with unexpected name format: WB_2023-11-27_xnas-itch.parquet\n",
      "Warning: Skipping file with unexpected name format: WB_2023-11-28_xnas-itch.parquet\n",
      "Warning: Skipping file with unexpected name format: WB_2023-11-29_xnas-itch.parquet\n",
      "Warning: Skipping file with unexpected name format: WB_2023-11-30_xnas-itch.parquet\n",
      "Warning: Skipping file with unexpected name format: WB_2023-12-01_xnas-itch.parquet\n",
      "Warning: Skipping file with unexpected name format: WB_2023-12-04_xnas-itch.parquet\n",
      "Warning: Skipping file with unexpected name format: WB_2023-12-05_xnas-itch.parquet\n",
      "Warning: Skipping file with unexpected name format: WB_2023-12-06_xnas-itch.parquet\n",
      "Warning: Skipping file with unexpected name format: WB_2023-12-07_xnas-itch.parquet\n",
      "Warning: Skipping file with unexpected name format: WB_2023-12-08_xnas-itch.parquet\n",
      "Warning: Skipping file with unexpected name format: WB_2023-12-11_xnas-itch.parquet\n",
      "Warning: Skipping file with unexpected name format: WB_2023-12-12_xnas-itch.parquet\n",
      "Warning: Skipping file with unexpected name format: WB_2023-12-13_xnas-itch.parquet\n",
      "Warning: Skipping file with unexpected name format: WB_2023-12-14_xnas-itch.parquet\n",
      "Warning: Skipping file with unexpected name format: WB_2023-12-15_xnas-itch.parquet\n",
      "Warning: Skipping file with unexpected name format: WB_2023-12-18_xnas-itch.parquet\n",
      "Warning: Skipping file with unexpected name format: WB_2023-12-19_xnas-itch.parquet\n",
      "Warning: Skipping file with unexpected name format: WB_2023-12-20_xnas-itch.parquet\n",
      "Warning: Skipping file with unexpected name format: WB_2023-12-21_xnas-itch.parquet\n",
      "Warning: Skipping file with unexpected name format: WB_2023-12-22_xnas-itch.parquet\n",
      "Warning: Skipping file with unexpected name format: WB_2023-12-26_xnas-itch.parquet\n",
      "Warning: Skipping file with unexpected name format: WB_2023-12-27_xnas-itch.parquet\n",
      "Warning: Skipping file with unexpected name format: WB_2023-12-28_xnas-itch.parquet\n",
      "Warning: Skipping file with unexpected name format: WB_2023-12-29_xnas-itch.parquet\n",
      "Warning: Skipping file with unexpected name format: WB_2024-01-02_xnas-itch.parquet\n",
      "Warning: Skipping file with unexpected name format: WB_2024-01-03_xnas-itch.parquet\n",
      "Warning: Skipping file with unexpected name format: WB_2024-01-04_xnas-itch.parquet\n",
      "Warning: Skipping file with unexpected name format: WB_2024-01-05_xnas-itch.parquet\n",
      "Warning: Skipping file with unexpected name format: WB_2024-01-08_xnas-itch.parquet\n",
      "Warning: Skipping file with unexpected name format: WB_2024-01-09_xnas-itch.parquet\n",
      "Warning: Skipping file with unexpected name format: WB_2024-01-10_xnas-itch.parquet\n",
      "Warning: Skipping file with unexpected name format: WB_2024-01-11_xnas-itch.parquet\n",
      "Warning: Skipping file with unexpected name format: WB_2024-01-12_xnas-itch.parquet\n",
      "Warning: Skipping file with unexpected name format: WB_2024-01-16_xnas-itch.parquet\n",
      "Warning: Skipping file with unexpected name format: WB_2024-01-17_xnas-itch.parquet\n",
      "Warning: Skipping file with unexpected name format: WB_2024-01-18_xnas-itch.parquet\n",
      "Warning: Skipping file with unexpected name format: WB_2024-01-19_xnas-itch.parquet\n",
      "Warning: Skipping file with unexpected name format: WB_2024-01-22_xnas-itch.parquet\n",
      "Warning: Skipping file with unexpected name format: WB_2024-01-23_xnas-itch.parquet\n",
      "Warning: Skipping file with unexpected name format: WB_2024-01-24_xnas-itch.parquet\n",
      "Warning: Skipping file with unexpected name format: WB_2024-01-25_xnas-itch.parquet\n",
      "Warning: Skipping file with unexpected name format: WB_2024-01-26_xnas-itch.parquet\n",
      "Warning: Skipping file with unexpected name format: WB_2024-01-29_xnas-itch.parquet\n",
      "Warning: Skipping file with unexpected name format: WB_2024-01-30_xnas-itch.parquet\n",
      "Warning: Skipping file with unexpected name format: WB_2024-01-31_xnas-itch.parquet\n",
      "Warning: Skipping file with unexpected name format: WB_2024-02-01_xnas-itch.parquet\n",
      "Warning: Skipping file with unexpected name format: WB_2024-02-02_xnas-itch.parquet\n",
      "Warning: Skipping file with unexpected name format: WB_2024-02-05_xnas-itch.parquet\n",
      "Warning: Skipping file with unexpected name format: WB_2024-02-06_xnas-itch.parquet\n",
      "Warning: Skipping file with unexpected name format: WB_2024-02-07_xnas-itch.parquet\n",
      "Warning: Skipping file with unexpected name format: WB_2024-02-08_xnas-itch.parquet\n",
      "Warning: Skipping file with unexpected name format: WB_2024-02-09_xnas-itch.parquet\n",
      "Warning: Skipping file with unexpected name format: WB_2024-02-12_xnas-itch.parquet\n",
      "Warning: Skipping file with unexpected name format: WB_2024-02-13_xnas-itch.parquet\n",
      "Warning: Skipping file with unexpected name format: WB_2024-02-14_xnas-itch.parquet\n",
      "Warning: Skipping file with unexpected name format: WB_2024-02-15_xnas-itch.parquet\n",
      "Warning: Skipping file with unexpected name format: WB_2024-02-16_xnas-itch.parquet\n",
      "Warning: Skipping file with unexpected name format: WB_2024-02-20_xnas-itch.parquet\n",
      "Warning: Skipping file with unexpected name format: WB_2024-02-21_xnas-itch.parquet\n",
      "Warning: Skipping file with unexpected name format: WB_2024-02-22_xnas-itch.parquet\n",
      "Warning: Skipping file with unexpected name format: WB_2024-02-23_xnas-itch.parquet\n",
      "Warning: Skipping file with unexpected name format: WB_2024-02-26_xnas-itch.parquet\n",
      "Warning: Skipping file with unexpected name format: WB_2024-02-27_xnas-itch.parquet\n",
      "Warning: Skipping file with unexpected name format: WB_2024-02-28_xnas-itch.parquet\n",
      "Warning: Skipping file with unexpected name format: WB_2024-02-29_xnas-itch.parquet\n",
      "Warning: Skipping file with unexpected name format: WB_2024-03-01_xnas-itch.parquet\n",
      "Warning: Skipping file with unexpected name format: WB_2024-03-04_xnas-itch.parquet\n",
      "Warning: Skipping file with unexpected name format: WB_2024-03-05_xnas-itch.parquet\n",
      "Warning: Skipping file with unexpected name format: WB_2024-03-06_xnas-itch.parquet\n",
      "Warning: Skipping file with unexpected name format: WB_2024-03-07_xnas-itch.parquet\n",
      "Warning: Skipping file with unexpected name format: WB_2024-03-08_xnas-itch.parquet\n",
      "Warning: Skipping file with unexpected name format: WB_2024-03-11_xnas-itch.parquet\n",
      "Warning: Skipping file with unexpected name format: WB_2024-03-12_xnas-itch.parquet\n",
      "Warning: Skipping file with unexpected name format: WB_2024-03-13_xnas-itch.parquet\n",
      "Warning: Skipping file with unexpected name format: WB_2024-03-14_xnas-itch.parquet\n",
      "Warning: Skipping file with unexpected name format: WB_2024-03-15_xnas-itch.parquet\n",
      "Warning: Skipping file with unexpected name format: WB_2024-03-18_xnas-itch.parquet\n",
      "Warning: Skipping file with unexpected name format: WB_2024-03-19_xnas-itch.parquet\n",
      "Warning: Skipping file with unexpected name format: WB_2024-03-20_xnas-itch.parquet\n",
      "Warning: Skipping file with unexpected name format: WB_2024-03-21_xnas-itch.parquet\n",
      "Warning: Skipping file with unexpected name format: WB_2024-03-22_xnas-itch.parquet\n",
      "Warning: Skipping file with unexpected name format: WB_2024-03-25_xnas-itch.parquet\n",
      "Warning: Skipping file with unexpected name format: WB_2024-03-26_xnas-itch.parquet\n",
      "Warning: Skipping file with unexpected name format: WB_2024-03-27_xnas-itch.parquet\n",
      "Warning: Skipping file with unexpected name format: WB_2024-03-28_xnas-itch.parquet\n",
      "Warning: Skipping file with unexpected name format: WB_2024-04-01_xnas-itch.parquet\n",
      "Warning: Skipping file with unexpected name format: WB_2024-04-02_xnas-itch.parquet\n",
      "Warning: Skipping file with unexpected name format: WB_2024-04-03_xnas-itch.parquet\n",
      "Warning: Skipping file with unexpected name format: WB_2024-04-04_xnas-itch.parquet\n",
      "Warning: Skipping file with unexpected name format: WB_2024-04-05_xnas-itch.parquet\n",
      "Warning: Skipping file with unexpected name format: WB_2024-04-08_xnas-itch.parquet\n",
      "Warning: Skipping file with unexpected name format: WB_2024-04-09_xnas-itch.parquet\n",
      "Warning: Skipping file with unexpected name format: WB_2024-04-10_xnas-itch.parquet\n",
      "Warning: Skipping file with unexpected name format: WB_2024-04-11_xnas-itch.parquet\n",
      "Warning: Skipping file with unexpected name format: WB_2024-04-12_xnas-itch.parquet\n",
      "Warning: Skipping file with unexpected name format: WB_2024-04-15_xnas-itch.parquet\n",
      "Warning: Skipping file with unexpected name format: WB_2024-04-16_xnas-itch.parquet\n",
      "Warning: Skipping file with unexpected name format: WB_2024-04-17_xnas-itch.parquet\n",
      "Warning: Skipping file with unexpected name format: WB_2024-04-18_xnas-itch.parquet\n",
      "Warning: Skipping file with unexpected name format: WB_2024-04-19_xnas-itch.parquet\n",
      "Warning: Skipping file with unexpected name format: WB_2024-04-22_xnas-itch.parquet\n",
      "Warning: Skipping file with unexpected name format: WB_2024-04-23_xnas-itch.parquet\n",
      "Warning: Skipping file with unexpected name format: WB_2024-04-24_xnas-itch.parquet\n",
      "Warning: Skipping file with unexpected name format: WB_2024-04-25_xnas-itch.parquet\n",
      "Warning: Skipping file with unexpected name format: WB_2024-04-26_xnas-itch.parquet\n",
      "Warning: Skipping file with unexpected name format: WB_2024-04-29_xnas-itch.parquet\n",
      "Warning: Skipping file with unexpected name format: WB_2024-04-30_xnas-itch.parquet\n",
      "Warning: Skipping file with unexpected name format: WB_2024-05-01_xnas-itch.parquet\n",
      "Warning: Skipping file with unexpected name format: WB_2024-05-02_xnas-itch.parquet\n",
      "Warning: Skipping file with unexpected name format: WB_2024-05-03_xnas-itch.parquet\n",
      "Warning: Skipping file with unexpected name format: WB_2024-05-06_xnas-itch.parquet\n",
      "Warning: Skipping file with unexpected name format: WB_2024-05-07_xnas-itch.parquet\n",
      "Warning: Skipping file with unexpected name format: WB_2024-05-08_xnas-itch.parquet\n",
      "Warning: Skipping file with unexpected name format: WB_2024-05-09_xnas-itch.parquet\n",
      "Warning: Skipping file with unexpected name format: WB_2024-05-10_xnas-itch.parquet\n",
      "Warning: Skipping file with unexpected name format: WB_2024-05-13_xnas-itch.parquet\n",
      "Warning: Skipping file with unexpected name format: WB_2024-05-14_xnas-itch.parquet\n",
      "Warning: Skipping file with unexpected name format: WB_2024-05-15_xnas-itch.parquet\n",
      "Warning: Skipping file with unexpected name format: WB_2024-05-16_xnas-itch.parquet\n",
      "Warning: Skipping file with unexpected name format: WB_2024-05-17_xnas-itch.parquet\n",
      "Warning: Skipping file with unexpected name format: WB_2024-05-20_xnas-itch.parquet\n",
      "Warning: Skipping file with unexpected name format: WB_2024-05-21_xnas-itch.parquet\n",
      "Warning: Skipping file with unexpected name format: WB_2024-05-22_xnas-itch.parquet\n",
      "Warning: Skipping file with unexpected name format: WB_2024-05-23_xnas-itch.parquet\n",
      "Warning: Skipping file with unexpected name format: WB_2024-05-24_xnas-itch.parquet\n",
      "Warning: Skipping file with unexpected name format: WB_2024-05-28_xnas-itch.parquet\n",
      "Warning: Skipping file with unexpected name format: WB_2024-05-29_xnas-itch.parquet\n",
      "Warning: Skipping file with unexpected name format: WB_2024-05-30_xnas-itch.parquet\n",
      "Warning: Skipping file with unexpected name format: WB_2024-05-31_xnas-itch.parquet\n",
      "Warning: Skipping file with unexpected name format: WB_2024-06-03_xnas-itch.parquet\n",
      "Warning: Skipping file with unexpected name format: WB_2024-06-04_xnas-itch.parquet\n",
      "Warning: Skipping file with unexpected name format: WB_2024-06-05_xnas-itch.parquet\n",
      "Warning: Skipping file with unexpected name format: WB_2024-06-06_xnas-itch.parquet\n",
      "Warning: Skipping file with unexpected name format: WB_2024-06-07_xnas-itch.parquet\n",
      "Warning: Skipping file with unexpected name format: WB_2024-06-10_xnas-itch.parquet\n",
      "Warning: Skipping file with unexpected name format: WB_2024-06-11_xnas-itch.parquet\n",
      "Warning: Skipping file with unexpected name format: WB_2024-06-12_xnas-itch.parquet\n",
      "Warning: Skipping file with unexpected name format: WB_2024-06-13_xnas-itch.parquet\n",
      "Warning: Skipping file with unexpected name format: WB_2024-06-14_xnas-itch.parquet\n",
      "Warning: Skipping file with unexpected name format: WB_2024-06-17_xnas-itch.parquet\n",
      "Warning: Skipping file with unexpected name format: WB_2024-06-18_xnas-itch.parquet\n",
      "Warning: Skipping file with unexpected name format: WB_2024-06-20_xnas-itch.parquet\n",
      "Warning: Skipping file with unexpected name format: WB_2024-06-21_xnas-itch.parquet\n",
      "Warning: Skipping file with unexpected name format: WB_2024-06-24_xnas-itch.parquet\n",
      "Warning: Skipping file with unexpected name format: WB_2024-06-25_xnas-itch.parquet\n",
      "Warning: Skipping file with unexpected name format: WB_2024-06-26_xnas-itch.parquet\n",
      "Warning: Skipping file with unexpected name format: WB_2024-06-27_xnas-itch.parquet\n",
      "Warning: Skipping file with unexpected name format: WB_2024-06-28_xnas-itch.parquet\n",
      "Warning: Skipping file with unexpected name format: WB_2024-07-01_xnas-itch.parquet\n",
      "Warning: Skipping file with unexpected name format: WB_2024-07-02_xnas-itch.parquet\n",
      "Warning: Skipping file with unexpected name format: WB_2024-07-03_xnas-itch.parquet\n",
      "Warning: Skipping file with unexpected name format: WB_2024-07-05_xnas-itch.parquet\n",
      "Warning: Skipping file with unexpected name format: WB_2024-07-08_xnas-itch.parquet\n",
      "Warning: Skipping file with unexpected name format: WB_2024-07-09_xnas-itch.parquet\n",
      "Warning: Skipping file with unexpected name format: WB_2024-07-10_xnas-itch.parquet\n",
      "Warning: Skipping file with unexpected name format: WB_2024-07-11_xnas-itch.parquet\n",
      "Warning: Skipping file with unexpected name format: WB_2024-07-12_xnas-itch.parquet\n",
      "Warning: Skipping file with unexpected name format: WB_2024-07-15_xnas-itch.parquet\n",
      "Warning: Skipping file with unexpected name format: WB_2024-07-16_xnas-itch.parquet\n",
      "Warning: Skipping file with unexpected name format: WB_2024-07-17_xnas-itch.parquet\n",
      "Warning: Skipping file with unexpected name format: WB_2024-07-18_xnas-itch.parquet\n",
      "Warning: Skipping file with unexpected name format: WB_2024-07-19_xnas-itch.parquet\n",
      "Warning: Skipping file with unexpected name format: WB_2024-07-22_xnas-itch.parquet\n",
      "Warning: Skipping file with unexpected name format: WB_2024-07-23_xnas-itch.parquet\n",
      "Warning: Skipping file with unexpected name format: WB_2024-07-24_xnas-itch.parquet\n",
      "Warning: Skipping file with unexpected name format: WB_2024-07-25_xnas-itch.parquet\n",
      "Warning: Skipping file with unexpected name format: WB_2024-07-26_xnas-itch.parquet\n",
      "Warning: Skipping file with unexpected name format: WB_2024-07-29_xnas-itch.parquet\n",
      "Warning: Skipping file with unexpected name format: WB_2024-07-30_xnas-itch.parquet\n",
      "Warning: Skipping file with unexpected name format: WB_2024-07-31_xnas-itch.parquet\n",
      "Warning: Skipping file with unexpected name format: WB_2024-08-01_xnas-itch.parquet\n",
      "Warning: Skipping file with unexpected name format: WB_2024-08-02_xnas-itch.parquet\n",
      "Warning: Skipping file with unexpected name format: WB_2024-08-05_xnas-itch.parquet\n",
      "Warning: Skipping file with unexpected name format: WB_2024-08-06_xnas-itch.parquet\n",
      "Warning: Skipping file with unexpected name format: WB_2024-08-07_xnas-itch.parquet\n",
      "Warning: Skipping file with unexpected name format: WB_2024-08-08_xnas-itch.parquet\n",
      "Warning: Skipping file with unexpected name format: WB_2024-08-09_xnas-itch.parquet\n",
      "Warning: Skipping file with unexpected name format: WB_2024-08-12_xnas-itch.parquet\n",
      "Warning: Skipping file with unexpected name format: WB_2024-08-13_xnas-itch.parquet\n",
      "Warning: Skipping file with unexpected name format: WB_2024-08-14_xnas-itch.parquet\n",
      "Warning: Skipping file with unexpected name format: WB_2024-08-15_xnas-itch.parquet\n",
      "Warning: Skipping file with unexpected name format: WB_2024-08-16_xnas-itch.parquet\n",
      "Warning: Skipping file with unexpected name format: WB_2024-08-19_xnas-itch.parquet\n",
      "Warning: Skipping file with unexpected name format: WB_2024-08-20_xnas-itch.parquet\n",
      "Warning: Skipping file with unexpected name format: WB_2024-08-21_xnas-itch.parquet\n",
      "Warning: Skipping file with unexpected name format: WB_2024-08-22_xnas-itch.parquet\n",
      "Warning: Skipping file with unexpected name format: WB_2024-08-23_xnas-itch.parquet\n",
      "Warning: Skipping file with unexpected name format: WB_2024-08-26_xnas-itch.parquet\n",
      "Warning: Skipping file with unexpected name format: WB_2024-08-27_xnas-itch.parquet\n",
      "Warning: Skipping file with unexpected name format: WB_2024-08-28_xnas-itch.parquet\n",
      "Warning: Skipping file with unexpected name format: WB_2024-08-29_xnas-itch.parquet\n",
      "Warning: Skipping file with unexpected name format: WB_2024-08-30_xnas-itch.parquet\n",
      "Warning: Skipping file with unexpected name format: WB_2024-09-03_xnas-itch.parquet\n",
      "Warning: Skipping file with unexpected name format: WB_2024-09-04_xnas-itch.parquet\n",
      "Warning: Skipping file with unexpected name format: WB_2024-09-05_xnas-itch.parquet\n",
      "Warning: Skipping file with unexpected name format: WB_2024-09-06_xnas-itch.parquet\n",
      "Warning: Skipping file with unexpected name format: WB_2024-09-09_xnas-itch.parquet\n",
      "Warning: Skipping file with unexpected name format: WB_2024-09-10_xnas-itch.parquet\n",
      "Warning: Skipping file with unexpected name format: WB_2024-09-11_xnas-itch.parquet\n",
      "Warning: Skipping file with unexpected name format: WB_2024-09-12_xnas-itch.parquet\n",
      "Warning: Skipping file with unexpected name format: WB_2024-09-13_xnas-itch.parquet\n",
      "Warning: Skipping file with unexpected name format: WB_2024-09-16_xnas-itch.parquet\n",
      "Warning: Skipping file with unexpected name format: WB_2024-09-17_xnas-itch.parquet\n",
      "Warning: Skipping file with unexpected name format: WB_2024-09-18_xnas-itch.parquet\n",
      "Warning: Skipping file with unexpected name format: WB_2024-09-19_xnas-itch.parquet\n",
      "Warning: Skipping file with unexpected name format: WB_2024-09-20_xnas-itch.parquet\n",
      "Warning: Skipping file with unexpected name format: WB_2024-09-23_xnas-itch.parquet\n",
      "Warning: Skipping file with unexpected name format: WB_2024-09-24_xnas-itch.parquet\n",
      "Warning: Skipping file with unexpected name format: WB_2024-09-25_xnas-itch.parquet\n",
      "Warning: Skipping file with unexpected name format: WB_2024-09-26_xnas-itch.parquet\n",
      "Warning: Skipping file with unexpected name format: WB_2024-09-27_xnas-itch.parquet\n",
      "Warning: Skipping file with unexpected name format: WB_2024-09-30_xnas-itch.parquet\n",
      "Warning: Skipping file with unexpected name format: WB_2024-10-01_xnas-itch.parquet\n",
      "Warning: Skipping file with unexpected name format: WB_2024-10-02_xnas-itch.parquet\n",
      "Warning: Skipping file with unexpected name format: WB_2024-10-03_xnas-itch.parquet\n",
      "Warning: Skipping file with unexpected name format: WB_2024-10-04_xnas-itch.parquet\n",
      "Warning: Skipping file with unexpected name format: WB_2024-10-07_xnas-itch.parquet\n",
      "Warning: Skipping file with unexpected name format: WB_2024-10-08_xnas-itch.parquet\n",
      "Warning: Skipping file with unexpected name format: WB_2024-10-09_xnas-itch.parquet\n",
      "Warning: Skipping file with unexpected name format: WB_2024-10-10_xnas-itch.parquet\n",
      "Warning: Skipping file with unexpected name format: WB_2024-10-11_xnas-itch.parquet\n",
      "Warning: Skipping file with unexpected name format: WB_2024-10-14_xnas-itch.parquet\n",
      "Warning: Skipping file with unexpected name format: WB_2024-10-15_xnas-itch.parquet\n",
      "Warning: Skipping file with unexpected name format: WB_2024-10-16_xnas-itch.parquet\n",
      "Warning: Skipping file with unexpected name format: WB_2024-10-17_xnas-itch.parquet\n",
      "Warning: Skipping file with unexpected name format: WB_2024-10-18_xnas-itch.parquet\n",
      "Warning: Skipping file with unexpected name format: WB_2024-10-21_xnas-itch.parquet\n",
      "Warning: Skipping file with unexpected name format: WB_2024-10-22_xnas-itch.parquet\n",
      "Warning: Skipping file with unexpected name format: WB_2024-10-23_xnas-itch.parquet\n",
      "Warning: Skipping file with unexpected name format: WB_2024-10-24_xnas-itch.parquet\n",
      "Warning: Skipping file with unexpected name format: WB_2024-10-25_xnas-itch.parquet\n",
      "Warning: Skipping file with unexpected name format: WB_2024-10-28_xnas-itch.parquet\n",
      "Warning: Skipping file with unexpected name format: WB_2024-10-29_xnas-itch.parquet\n",
      "Warning: Skipping file with unexpected name format: WB_2024-10-30_xnas-itch.parquet\n",
      "Warning: Skipping file with unexpected name format: WB_2024-10-31_xnas-itch.parquet\n",
      "Warning: Skipping file with unexpected name format: WB_2024-11-01_xnas-itch.parquet\n",
      "Warning: Skipping file with unexpected name format: WB_2024-11-04_xnas-itch.parquet\n",
      "Warning: Skipping file with unexpected name format: WB_2024-11-05_xnas-itch.parquet\n",
      "Warning: Skipping file with unexpected name format: WB_2024-11-06_xnas-itch.parquet\n",
      "Warning: Skipping file with unexpected name format: WB_2024-11-07_xnas-itch.parquet\n",
      "Warning: Skipping file with unexpected name format: WB_2024-11-08_xnas-itch.parquet\n",
      "Warning: Skipping file with unexpected name format: WB_2024-11-11_xnas-itch.parquet\n",
      "Warning: Skipping file with unexpected name format: WB_2024-11-12_xnas-itch.parquet\n",
      "Warning: Skipping file with unexpected name format: WB_2024-11-13_xnas-itch.parquet\n",
      "Warning: Skipping file with unexpected name format: WB_2024-11-14_xnas-itch.parquet\n",
      "Warning: Skipping file with unexpected name format: WB_2024-11-15_xnas-itch.parquet\n",
      "Warning: Skipping file with unexpected name format: WB_2024-11-18_xnas-itch.parquet\n",
      "Warning: Skipping file with unexpected name format: WB_2024-11-19_xnas-itch.parquet\n",
      "Warning: Skipping file with unexpected name format: WB_2024-11-20_xnas-itch.parquet\n",
      "Warning: Skipping file with unexpected name format: WB_2024-11-21_xnas-itch.parquet\n",
      "Warning: Skipping file with unexpected name format: WB_2024-11-22_xnas-itch.parquet\n",
      "Warning: Skipping file with unexpected name format: WB_2024-11-25_xnas-itch.parquet\n",
      "Warning: Skipping file with unexpected name format: WB_2024-11-26_xnas-itch.parquet\n",
      "Warning: Skipping file with unexpected name format: WB_2024-11-27_xnas-itch.parquet\n",
      "Warning: Skipping file with unexpected name format: WB_2024-11-29_xnas-itch.parquet\n",
      "Warning: Skipping file with unexpected name format: WB_2024-12-02_xnas-itch.parquet\n",
      "Warning: Skipping file with unexpected name format: WB_2024-12-03_xnas-itch.parquet\n",
      "Warning: Skipping file with unexpected name format: WB_2024-12-04_xnas-itch.parquet\n",
      "Warning: Skipping file with unexpected name format: WB_2024-12-05_xnas-itch.parquet\n",
      "Warning: Skipping file with unexpected name format: WB_2024-12-06_xnas-itch.parquet\n",
      "Warning: Skipping file with unexpected name format: WB_2024-12-09_xnas-itch.parquet\n",
      "Warning: Skipping file with unexpected name format: WB_2024-12-10_xnas-itch.parquet\n",
      "Warning: Skipping file with unexpected name format: WB_2024-12-11_xnas-itch.parquet\n",
      "Warning: Skipping file with unexpected name format: WB_2024-12-12_xnas-itch.parquet\n",
      "Warning: Skipping file with unexpected name format: WB_2024-12-13_xnas-itch.parquet\n",
      "Warning: Skipping file with unexpected name format: WB_2024-12-16_xnas-itch.parquet\n",
      "Warning: Skipping file with unexpected name format: PTON_2023-07-17_xnas-itch.parquet\n",
      "Warning: Skipping file with unexpected name format: PTON_2023-07-18_xnas-itch.parquet\n",
      "Warning: Skipping file with unexpected name format: PTON_2023-07-19_xnas-itch.parquet\n",
      "Warning: Skipping file with unexpected name format: PTON_2023-07-20_xnas-itch.parquet\n",
      "Warning: Skipping file with unexpected name format: PTON_2023-07-21_xnas-itch.parquet\n",
      "Warning: Skipping file with unexpected name format: PTON_2023-07-24_xnas-itch.parquet\n",
      "Warning: Skipping file with unexpected name format: PTON_2023-07-25_xnas-itch.parquet\n",
      "Warning: Skipping file with unexpected name format: PTON_2023-07-26_xnas-itch.parquet\n",
      "Warning: Skipping file with unexpected name format: PTON_2023-07-27_xnas-itch.parquet\n",
      "Warning: Skipping file with unexpected name format: PTON_2023-07-28_xnas-itch.parquet\n",
      "Warning: Skipping file with unexpected name format: PTON_2023-07-31_xnas-itch.parquet\n",
      "Warning: Skipping file with unexpected name format: PTON_2023-08-01_xnas-itch.parquet\n",
      "Warning: Skipping file with unexpected name format: PTON_2023-08-02_xnas-itch.parquet\n",
      "Warning: Skipping file with unexpected name format: PTON_2023-08-03_xnas-itch.parquet\n",
      "Warning: Skipping file with unexpected name format: PTON_2023-08-04_xnas-itch.parquet\n",
      "Warning: Skipping file with unexpected name format: PTON_2023-08-07_xnas-itch.parquet\n",
      "Warning: Skipping file with unexpected name format: PTON_2023-08-08_xnas-itch.parquet\n",
      "Warning: Skipping file with unexpected name format: PTON_2023-08-09_xnas-itch.parquet\n",
      "Warning: Skipping file with unexpected name format: PTON_2023-08-10_xnas-itch.parquet\n",
      "Warning: Skipping file with unexpected name format: PTON_2023-08-11_xnas-itch.parquet\n",
      "Warning: Skipping file with unexpected name format: PTON_2023-08-14_xnas-itch.parquet\n",
      "Warning: Skipping file with unexpected name format: PTON_2023-08-15_xnas-itch.parquet\n",
      "Warning: Skipping file with unexpected name format: PTON_2023-08-16_xnas-itch.parquet\n",
      "Warning: Skipping file with unexpected name format: PTON_2023-08-17_xnas-itch.parquet\n",
      "Warning: Skipping file with unexpected name format: PTON_2023-08-18_xnas-itch.parquet\n",
      "Warning: Skipping file with unexpected name format: PTON_2023-08-21_xnas-itch.parquet\n",
      "Warning: Skipping file with unexpected name format: PTON_2023-08-22_xnas-itch.parquet\n",
      "Warning: Skipping file with unexpected name format: PTON_2023-08-23_xnas-itch.parquet\n",
      "Warning: Skipping file with unexpected name format: PTON_2023-08-24_xnas-itch.parquet\n",
      "Warning: Skipping file with unexpected name format: PTON_2023-08-25_xnas-itch.parquet\n",
      "Warning: Skipping file with unexpected name format: PTON_2023-08-28_xnas-itch.parquet\n",
      "Warning: Skipping file with unexpected name format: PTON_2023-08-29_xnas-itch.parquet\n",
      "Warning: Skipping file with unexpected name format: PTON_2023-08-30_xnas-itch.parquet\n",
      "Warning: Skipping file with unexpected name format: PTON_2023-08-31_xnas-itch.parquet\n",
      "Warning: Skipping file with unexpected name format: PTON_2023-09-01_xnas-itch.parquet\n",
      "Warning: Skipping file with unexpected name format: PTON_2023-09-05_xnas-itch.parquet\n",
      "Warning: Skipping file with unexpected name format: PTON_2023-09-06_xnas-itch.parquet\n",
      "Warning: Skipping file with unexpected name format: PTON_2023-09-07_xnas-itch.parquet\n",
      "Warning: Skipping file with unexpected name format: PTON_2023-09-08_xnas-itch.parquet\n",
      "Warning: Skipping file with unexpected name format: PTON_2023-09-11_xnas-itch.parquet\n",
      "Warning: Skipping file with unexpected name format: PTON_2023-09-12_xnas-itch.parquet\n",
      "Warning: Skipping file with unexpected name format: PTON_2023-09-13_xnas-itch.parquet\n",
      "Warning: Skipping file with unexpected name format: PTON_2023-09-14_xnas-itch.parquet\n",
      "Warning: Skipping file with unexpected name format: PTON_2023-09-15_xnas-itch.parquet\n",
      "Warning: Skipping file with unexpected name format: PTON_2023-09-18_xnas-itch.parquet\n",
      "Warning: Skipping file with unexpected name format: PTON_2023-09-19_xnas-itch.parquet\n",
      "Warning: Skipping file with unexpected name format: PTON_2023-09-20_xnas-itch.parquet\n",
      "Warning: Skipping file with unexpected name format: PTON_2023-09-21_xnas-itch.parquet\n",
      "Warning: Skipping file with unexpected name format: PTON_2023-09-22_xnas-itch.parquet\n",
      "Warning: Skipping file with unexpected name format: PTON_2023-09-25_xnas-itch.parquet\n",
      "Warning: Skipping file with unexpected name format: PTON_2023-09-26_xnas-itch.parquet\n",
      "Warning: Skipping file with unexpected name format: PTON_2023-09-27_xnas-itch.parquet\n",
      "Warning: Skipping file with unexpected name format: PTON_2023-09-28_xnas-itch.parquet\n",
      "Warning: Skipping file with unexpected name format: PTON_2023-09-29_xnas-itch.parquet\n",
      "Warning: Skipping file with unexpected name format: PTON_2023-10-02_xnas-itch.parquet\n",
      "Warning: Skipping file with unexpected name format: PTON_2023-10-03_xnas-itch.parquet\n",
      "Warning: Skipping file with unexpected name format: PTON_2023-10-04_xnas-itch.parquet\n",
      "Warning: Skipping file with unexpected name format: PTON_2023-10-05_xnas-itch.parquet\n",
      "Warning: Skipping file with unexpected name format: PTON_2023-10-06_xnas-itch.parquet\n",
      "Warning: Skipping file with unexpected name format: PTON_2023-10-09_xnas-itch.parquet\n",
      "Warning: Skipping file with unexpected name format: PTON_2023-10-10_xnas-itch.parquet\n",
      "Warning: Skipping file with unexpected name format: PTON_2023-10-11_xnas-itch.parquet\n",
      "Warning: Skipping file with unexpected name format: PTON_2023-10-12_xnas-itch.parquet\n",
      "Warning: Skipping file with unexpected name format: PTON_2023-10-13_xnas-itch.parquet\n",
      "Warning: Skipping file with unexpected name format: PTON_2023-10-16_xnas-itch.parquet\n",
      "Warning: Skipping file with unexpected name format: PTON_2023-10-17_xnas-itch.parquet\n",
      "Warning: Skipping file with unexpected name format: PTON_2023-10-18_xnas-itch.parquet\n",
      "Warning: Skipping file with unexpected name format: PTON_2023-10-19_xnas-itch.parquet\n",
      "Warning: Skipping file with unexpected name format: PTON_2023-10-20_xnas-itch.parquet\n",
      "Warning: Skipping file with unexpected name format: PTON_2023-10-23_xnas-itch.parquet\n",
      "Warning: Skipping file with unexpected name format: PTON_2023-10-24_xnas-itch.parquet\n",
      "Warning: Skipping file with unexpected name format: PTON_2023-10-25_xnas-itch.parquet\n",
      "Warning: Skipping file with unexpected name format: PTON_2023-10-26_xnas-itch.parquet\n",
      "Warning: Skipping file with unexpected name format: PTON_2023-10-27_xnas-itch.parquet\n",
      "Warning: Skipping file with unexpected name format: PTON_2023-10-30_xnas-itch.parquet\n",
      "Warning: Skipping file with unexpected name format: PTON_2023-10-31_xnas-itch.parquet\n",
      "Warning: Skipping file with unexpected name format: PTON_2023-11-01_xnas-itch.parquet\n",
      "Warning: Skipping file with unexpected name format: PTON_2023-11-02_xnas-itch.parquet\n",
      "Warning: Skipping file with unexpected name format: PTON_2023-11-03_xnas-itch.parquet\n",
      "Warning: Skipping file with unexpected name format: PTON_2023-11-06_xnas-itch.parquet\n",
      "Warning: Skipping file with unexpected name format: PTON_2023-11-07_xnas-itch.parquet\n",
      "Warning: Skipping file with unexpected name format: PTON_2023-11-08_xnas-itch.parquet\n",
      "Warning: Skipping file with unexpected name format: PTON_2023-11-09_xnas-itch.parquet\n",
      "Warning: Skipping file with unexpected name format: PTON_2023-11-10_xnas-itch.parquet\n",
      "Warning: Skipping file with unexpected name format: PTON_2023-11-13_xnas-itch.parquet\n",
      "Warning: Skipping file with unexpected name format: PTON_2023-11-14_xnas-itch.parquet\n",
      "Warning: Skipping file with unexpected name format: PTON_2023-11-15_xnas-itch.parquet\n",
      "Warning: Skipping file with unexpected name format: PTON_2023-11-16_xnas-itch.parquet\n",
      "Warning: Skipping file with unexpected name format: PTON_2023-11-17_xnas-itch.parquet\n",
      "Warning: Skipping file with unexpected name format: PTON_2023-11-20_xnas-itch.parquet\n",
      "Warning: Skipping file with unexpected name format: PTON_2023-11-21_xnas-itch.parquet\n",
      "Warning: Skipping file with unexpected name format: PTON_2023-11-22_xnas-itch.parquet\n",
      "Warning: Skipping file with unexpected name format: PTON_2023-11-24_xnas-itch.parquet\n",
      "Warning: Skipping file with unexpected name format: PTON_2023-11-27_xnas-itch.parquet\n",
      "Warning: Skipping file with unexpected name format: PTON_2023-11-28_xnas-itch.parquet\n",
      "Warning: Skipping file with unexpected name format: PTON_2023-11-29_xnas-itch.parquet\n",
      "Warning: Skipping file with unexpected name format: PTON_2023-11-30_xnas-itch.parquet\n",
      "Warning: Skipping file with unexpected name format: PTON_2023-12-01_xnas-itch.parquet\n",
      "Warning: Skipping file with unexpected name format: PTON_2023-12-04_xnas-itch.parquet\n",
      "Warning: Skipping file with unexpected name format: PTON_2023-12-05_xnas-itch.parquet\n",
      "Warning: Skipping file with unexpected name format: PTON_2023-12-06_xnas-itch.parquet\n",
      "Warning: Skipping file with unexpected name format: PTON_2023-12-07_xnas-itch.parquet\n",
      "Warning: Skipping file with unexpected name format: PTON_2023-12-08_xnas-itch.parquet\n",
      "Warning: Skipping file with unexpected name format: PTON_2023-12-11_xnas-itch.parquet\n",
      "Warning: Skipping file with unexpected name format: PTON_2023-12-12_xnas-itch.parquet\n",
      "Warning: Skipping file with unexpected name format: PTON_2023-12-13_xnas-itch.parquet\n",
      "Warning: Skipping file with unexpected name format: PTON_2023-12-14_xnas-itch.parquet\n",
      "Warning: Skipping file with unexpected name format: PTON_2023-12-15_xnas-itch.parquet\n",
      "Warning: Skipping file with unexpected name format: PTON_2023-12-18_xnas-itch.parquet\n",
      "Warning: Skipping file with unexpected name format: PTON_2023-12-19_xnas-itch.parquet\n",
      "Warning: Skipping file with unexpected name format: PTON_2023-12-20_xnas-itch.parquet\n",
      "Warning: Skipping file with unexpected name format: PTON_2023-12-21_xnas-itch.parquet\n",
      "Warning: Skipping file with unexpected name format: PTON_2023-12-22_xnas-itch.parquet\n",
      "Warning: Skipping file with unexpected name format: PTON_2023-12-26_xnas-itch.parquet\n",
      "Warning: Skipping file with unexpected name format: PTON_2023-12-27_xnas-itch.parquet\n",
      "Warning: Skipping file with unexpected name format: PTON_2023-12-28_xnas-itch.parquet\n",
      "Warning: Skipping file with unexpected name format: PTON_2023-12-29_xnas-itch.parquet\n",
      "Warning: Skipping file with unexpected name format: PTON_2024-01-02_xnas-itch.parquet\n",
      "Warning: Skipping file with unexpected name format: PTON_2024-01-03_xnas-itch.parquet\n",
      "Warning: Skipping file with unexpected name format: PTON_2024-01-04_xnas-itch.parquet\n",
      "Warning: Skipping file with unexpected name format: PTON_2024-01-05_xnas-itch.parquet\n",
      "Warning: Skipping file with unexpected name format: PTON_2024-01-08_xnas-itch.parquet\n",
      "Warning: Skipping file with unexpected name format: PTON_2024-01-09_xnas-itch.parquet\n",
      "Warning: Skipping file with unexpected name format: PTON_2024-01-10_xnas-itch.parquet\n",
      "Warning: Skipping file with unexpected name format: PTON_2024-01-11_xnas-itch.parquet\n",
      "Warning: Skipping file with unexpected name format: PTON_2024-01-12_xnas-itch.parquet\n",
      "Warning: Skipping file with unexpected name format: PTON_2024-01-16_xnas-itch.parquet\n",
      "Warning: Skipping file with unexpected name format: PTON_2024-01-17_xnas-itch.parquet\n",
      "Warning: Skipping file with unexpected name format: PTON_2024-01-18_xnas-itch.parquet\n",
      "Warning: Skipping file with unexpected name format: PTON_2024-01-19_xnas-itch.parquet\n",
      "Warning: Skipping file with unexpected name format: PTON_2024-01-22_xnas-itch.parquet\n",
      "Warning: Skipping file with unexpected name format: PTON_2024-01-23_xnas-itch.parquet\n",
      "Warning: Skipping file with unexpected name format: PTON_2024-01-24_xnas-itch.parquet\n",
      "Warning: Skipping file with unexpected name format: PTON_2024-01-25_xnas-itch.parquet\n",
      "Warning: Skipping file with unexpected name format: PTON_2024-01-26_xnas-itch.parquet\n",
      "Warning: Skipping file with unexpected name format: PTON_2024-01-29_xnas-itch.parquet\n",
      "Warning: Skipping file with unexpected name format: PTON_2024-01-30_xnas-itch.parquet\n",
      "Warning: Skipping file with unexpected name format: PTON_2024-01-31_xnas-itch.parquet\n",
      "Warning: Skipping file with unexpected name format: PTON_2024-02-01_xnas-itch.parquet\n",
      "Warning: Skipping file with unexpected name format: PTON_2024-02-02_xnas-itch.parquet\n",
      "Warning: Skipping file with unexpected name format: PTON_2024-02-05_xnas-itch.parquet\n",
      "Warning: Skipping file with unexpected name format: PTON_2024-02-06_xnas-itch.parquet\n",
      "Warning: Skipping file with unexpected name format: PTON_2024-02-07_xnas-itch.parquet\n",
      "Warning: Skipping file with unexpected name format: PTON_2024-02-08_xnas-itch.parquet\n",
      "Warning: Skipping file with unexpected name format: PTON_2024-02-09_xnas-itch.parquet\n",
      "Warning: Skipping file with unexpected name format: PTON_2024-02-12_xnas-itch.parquet\n",
      "Warning: Skipping file with unexpected name format: PTON_2024-02-13_xnas-itch.parquet\n",
      "Warning: Skipping file with unexpected name format: PTON_2024-02-14_xnas-itch.parquet\n",
      "Warning: Skipping file with unexpected name format: PTON_2024-02-15_xnas-itch.parquet\n",
      "Warning: Skipping file with unexpected name format: PTON_2024-02-16_xnas-itch.parquet\n",
      "Warning: Skipping file with unexpected name format: PTON_2024-02-20_xnas-itch.parquet\n",
      "Warning: Skipping file with unexpected name format: PTON_2024-02-21_xnas-itch.parquet\n",
      "Warning: Skipping file with unexpected name format: PTON_2024-02-22_xnas-itch.parquet\n",
      "Warning: Skipping file with unexpected name format: PTON_2024-02-23_xnas-itch.parquet\n",
      "Warning: Skipping file with unexpected name format: PTON_2024-02-26_xnas-itch.parquet\n",
      "Warning: Skipping file with unexpected name format: PTON_2024-02-27_xnas-itch.parquet\n",
      "Warning: Skipping file with unexpected name format: PTON_2024-02-28_xnas-itch.parquet\n",
      "Warning: Skipping file with unexpected name format: PTON_2024-02-29_xnas-itch.parquet\n",
      "Warning: Skipping file with unexpected name format: PTON_2024-03-01_xnas-itch.parquet\n",
      "Warning: Skipping file with unexpected name format: PTON_2024-03-04_xnas-itch.parquet\n",
      "Warning: Skipping file with unexpected name format: PTON_2024-03-05_xnas-itch.parquet\n",
      "Warning: Skipping file with unexpected name format: PTON_2024-03-06_xnas-itch.parquet\n",
      "Warning: Skipping file with unexpected name format: PTON_2024-03-07_xnas-itch.parquet\n",
      "Warning: Skipping file with unexpected name format: PTON_2024-03-08_xnas-itch.parquet\n",
      "Warning: Skipping file with unexpected name format: PTON_2024-03-11_xnas-itch.parquet\n",
      "Warning: Skipping file with unexpected name format: PTON_2024-03-12_xnas-itch.parquet\n",
      "Warning: Skipping file with unexpected name format: PTON_2024-03-13_xnas-itch.parquet\n",
      "Warning: Skipping file with unexpected name format: PTON_2024-03-14_xnas-itch.parquet\n",
      "Warning: Skipping file with unexpected name format: PTON_2024-03-15_xnas-itch.parquet\n",
      "Warning: Skipping file with unexpected name format: PTON_2024-03-18_xnas-itch.parquet\n",
      "Warning: Skipping file with unexpected name format: PTON_2024-03-19_xnas-itch.parquet\n",
      "Warning: Skipping file with unexpected name format: PTON_2024-03-20_xnas-itch.parquet\n",
      "Warning: Skipping file with unexpected name format: PTON_2024-03-21_xnas-itch.parquet\n",
      "Warning: Skipping file with unexpected name format: PTON_2024-03-22_xnas-itch.parquet\n",
      "Warning: Skipping file with unexpected name format: PTON_2024-03-25_xnas-itch.parquet\n",
      "Warning: Skipping file with unexpected name format: PTON_2024-03-26_xnas-itch.parquet\n",
      "Warning: Skipping file with unexpected name format: PTON_2024-03-27_xnas-itch.parquet\n",
      "Warning: Skipping file with unexpected name format: PTON_2024-03-28_xnas-itch.parquet\n",
      "Warning: Skipping file with unexpected name format: PTON_2024-04-01_xnas-itch.parquet\n",
      "Warning: Skipping file with unexpected name format: PTON_2024-04-02_xnas-itch.parquet\n",
      "Warning: Skipping file with unexpected name format: PTON_2024-04-03_xnas-itch.parquet\n",
      "Warning: Skipping file with unexpected name format: PTON_2024-04-04_xnas-itch.parquet\n",
      "Warning: Skipping file with unexpected name format: PTON_2024-04-05_xnas-itch.parquet\n",
      "Warning: Skipping file with unexpected name format: PTON_2024-04-08_xnas-itch.parquet\n",
      "Warning: Skipping file with unexpected name format: PTON_2024-04-09_xnas-itch.parquet\n",
      "Warning: Skipping file with unexpected name format: PTON_2024-04-10_xnas-itch.parquet\n",
      "Warning: Skipping file with unexpected name format: PTON_2024-04-11_xnas-itch.parquet\n",
      "Warning: Skipping file with unexpected name format: PTON_2024-04-12_xnas-itch.parquet\n",
      "Warning: Skipping file with unexpected name format: PTON_2024-04-15_xnas-itch.parquet\n",
      "Warning: Skipping file with unexpected name format: PTON_2024-04-16_xnas-itch.parquet\n",
      "Warning: Skipping file with unexpected name format: PTON_2024-04-17_xnas-itch.parquet\n",
      "Warning: Skipping file with unexpected name format: PTON_2024-04-18_xnas-itch.parquet\n",
      "Warning: Skipping file with unexpected name format: PTON_2024-04-19_xnas-itch.parquet\n",
      "Warning: Skipping file with unexpected name format: PTON_2024-04-22_xnas-itch.parquet\n",
      "Warning: Skipping file with unexpected name format: PTON_2024-04-23_xnas-itch.parquet\n",
      "Warning: Skipping file with unexpected name format: PTON_2024-04-24_xnas-itch.parquet\n",
      "Warning: Skipping file with unexpected name format: PTON_2024-04-25_xnas-itch.parquet\n",
      "Warning: Skipping file with unexpected name format: PTON_2024-04-26_xnas-itch.parquet\n",
      "Warning: Skipping file with unexpected name format: PTON_2024-04-29_xnas-itch.parquet\n",
      "Warning: Skipping file with unexpected name format: PTON_2024-04-30_xnas-itch.parquet\n",
      "Warning: Skipping file with unexpected name format: PTON_2024-05-01_xnas-itch.parquet\n",
      "Warning: Skipping file with unexpected name format: PTON_2024-05-02_xnas-itch.parquet\n",
      "Warning: Skipping file with unexpected name format: PTON_2024-05-03_xnas-itch.parquet\n",
      "Warning: Skipping file with unexpected name format: PTON_2024-05-06_xnas-itch.parquet\n",
      "Warning: Skipping file with unexpected name format: PTON_2024-05-07_xnas-itch.parquet\n",
      "Warning: Skipping file with unexpected name format: PTON_2024-05-08_xnas-itch.parquet\n",
      "Warning: Skipping file with unexpected name format: PTON_2024-05-09_xnas-itch.parquet\n",
      "Warning: Skipping file with unexpected name format: PTON_2024-05-10_xnas-itch.parquet\n",
      "Warning: Skipping file with unexpected name format: PTON_2024-05-13_xnas-itch.parquet\n",
      "Warning: Skipping file with unexpected name format: PTON_2024-05-14_xnas-itch.parquet\n",
      "Warning: Skipping file with unexpected name format: PTON_2024-05-15_xnas-itch.parquet\n",
      "Warning: Skipping file with unexpected name format: PTON_2024-05-16_xnas-itch.parquet\n",
      "Warning: Skipping file with unexpected name format: PTON_2024-05-17_xnas-itch.parquet\n",
      "Warning: Skipping file with unexpected name format: PTON_2024-05-20_xnas-itch.parquet\n",
      "Warning: Skipping file with unexpected name format: PTON_2024-05-21_xnas-itch.parquet\n",
      "Warning: Skipping file with unexpected name format: PTON_2024-05-22_xnas-itch.parquet\n",
      "Warning: Skipping file with unexpected name format: PTON_2024-05-23_xnas-itch.parquet\n",
      "Warning: Skipping file with unexpected name format: PTON_2024-05-24_xnas-itch.parquet\n",
      "Warning: Skipping file with unexpected name format: PTON_2024-05-28_xnas-itch.parquet\n",
      "Warning: Skipping file with unexpected name format: PTON_2024-05-29_xnas-itch.parquet\n",
      "Warning: Skipping file with unexpected name format: PTON_2024-05-30_xnas-itch.parquet\n",
      "Warning: Skipping file with unexpected name format: PTON_2024-05-31_xnas-itch.parquet\n",
      "Warning: Skipping file with unexpected name format: PTON_2024-06-03_xnas-itch.parquet\n",
      "Warning: Skipping file with unexpected name format: PTON_2024-06-04_xnas-itch.parquet\n",
      "Warning: Skipping file with unexpected name format: PTON_2024-06-05_xnas-itch.parquet\n",
      "Warning: Skipping file with unexpected name format: PTON_2024-06-06_xnas-itch.parquet\n",
      "Warning: Skipping file with unexpected name format: PTON_2024-06-07_xnas-itch.parquet\n",
      "Warning: Skipping file with unexpected name format: PTON_2024-06-10_xnas-itch.parquet\n",
      "Warning: Skipping file with unexpected name format: PTON_2024-06-11_xnas-itch.parquet\n",
      "Warning: Skipping file with unexpected name format: PTON_2024-06-12_xnas-itch.parquet\n",
      "Warning: Skipping file with unexpected name format: PTON_2024-06-13_xnas-itch.parquet\n",
      "Warning: Skipping file with unexpected name format: PTON_2024-06-14_xnas-itch.parquet\n",
      "Warning: Skipping file with unexpected name format: PTON_2024-06-17_xnas-itch.parquet\n",
      "Warning: Skipping file with unexpected name format: PTON_2024-06-18_xnas-itch.parquet\n",
      "Warning: Skipping file with unexpected name format: PTON_2024-06-20_xnas-itch.parquet\n",
      "Warning: Skipping file with unexpected name format: PTON_2024-06-21_xnas-itch.parquet\n",
      "Warning: Skipping file with unexpected name format: PTON_2024-06-24_xnas-itch.parquet\n",
      "Warning: Skipping file with unexpected name format: PTON_2024-06-25_xnas-itch.parquet\n",
      "Warning: Skipping file with unexpected name format: PTON_2024-06-26_xnas-itch.parquet\n",
      "Warning: Skipping file with unexpected name format: PTON_2024-06-27_xnas-itch.parquet\n",
      "Warning: Skipping file with unexpected name format: PTON_2024-06-28_xnas-itch.parquet\n",
      "Warning: Skipping file with unexpected name format: PTON_2024-07-01_xnas-itch.parquet\n",
      "Warning: Skipping file with unexpected name format: PTON_2024-07-02_xnas-itch.parquet\n",
      "Warning: Skipping file with unexpected name format: PTON_2024-07-03_xnas-itch.parquet\n",
      "Warning: Skipping file with unexpected name format: PTON_2024-07-05_xnas-itch.parquet\n",
      "Warning: Skipping file with unexpected name format: PTON_2024-07-08_xnas-itch.parquet\n",
      "Warning: Skipping file with unexpected name format: PTON_2024-07-09_xnas-itch.parquet\n",
      "Warning: Skipping file with unexpected name format: PTON_2024-07-10_xnas-itch.parquet\n",
      "Warning: Skipping file with unexpected name format: PTON_2024-07-11_xnas-itch.parquet\n",
      "Warning: Skipping file with unexpected name format: PTON_2024-07-12_xnas-itch.parquet\n",
      "Warning: Skipping file with unexpected name format: PTON_2024-07-15_xnas-itch.parquet\n",
      "Warning: Skipping file with unexpected name format: PTON_2024-07-16_xnas-itch.parquet\n",
      "Warning: Skipping file with unexpected name format: PTON_2024-07-17_xnas-itch.parquet\n",
      "Warning: Skipping file with unexpected name format: PTON_2024-07-18_xnas-itch.parquet\n",
      "Warning: Skipping file with unexpected name format: PTON_2024-07-19_xnas-itch.parquet\n",
      "Warning: Skipping file with unexpected name format: PTON_2024-07-22_xnas-itch.parquet\n",
      "Warning: Skipping file with unexpected name format: PTON_2024-07-23_xnas-itch.parquet\n",
      "Warning: Skipping file with unexpected name format: PTON_2024-07-24_xnas-itch.parquet\n",
      "Warning: Skipping file with unexpected name format: PTON_2024-07-25_xnas-itch.parquet\n",
      "Warning: Skipping file with unexpected name format: PTON_2024-07-26_xnas-itch.parquet\n",
      "Warning: Skipping file with unexpected name format: PTON_2024-07-29_xnas-itch.parquet\n",
      "Warning: Skipping file with unexpected name format: PTON_2024-07-30_xnas-itch.parquet\n",
      "Warning: Skipping file with unexpected name format: PTON_2024-07-31_xnas-itch.parquet\n",
      "Warning: Skipping file with unexpected name format: PTON_2024-08-01_xnas-itch.parquet\n",
      "Warning: Skipping file with unexpected name format: PTON_2024-08-02_xnas-itch.parquet\n",
      "Warning: Skipping file with unexpected name format: PTON_2024-08-05_xnas-itch.parquet\n",
      "Warning: Skipping file with unexpected name format: PTON_2024-08-06_xnas-itch.parquet\n",
      "Warning: Skipping file with unexpected name format: PTON_2024-08-07_xnas-itch.parquet\n",
      "Warning: Skipping file with unexpected name format: PTON_2024-08-08_xnas-itch.parquet\n",
      "Warning: Skipping file with unexpected name format: PTON_2024-08-09_xnas-itch.parquet\n",
      "Warning: Skipping file with unexpected name format: PTON_2024-08-12_xnas-itch.parquet\n",
      "Warning: Skipping file with unexpected name format: PTON_2024-08-13_xnas-itch.parquet\n",
      "Warning: Skipping file with unexpected name format: PTON_2024-08-14_xnas-itch.parquet\n",
      "Warning: Skipping file with unexpected name format: PTON_2024-08-15_xnas-itch.parquet\n",
      "Warning: Skipping file with unexpected name format: PTON_2024-08-16_xnas-itch.parquet\n",
      "Warning: Skipping file with unexpected name format: PTON_2024-08-19_xnas-itch.parquet\n",
      "Warning: Skipping file with unexpected name format: PTON_2024-08-20_xnas-itch.parquet\n",
      "Warning: Skipping file with unexpected name format: PTON_2024-08-21_xnas-itch.parquet\n",
      "Warning: Skipping file with unexpected name format: PTON_2024-08-22_xnas-itch.parquet\n",
      "Warning: Skipping file with unexpected name format: PTON_2024-08-23_xnas-itch.parquet\n",
      "Warning: Skipping file with unexpected name format: PTON_2024-08-26_xnas-itch.parquet\n",
      "Warning: Skipping file with unexpected name format: PTON_2024-08-27_xnas-itch.parquet\n",
      "Warning: Skipping file with unexpected name format: PTON_2024-08-28_xnas-itch.parquet\n",
      "Warning: Skipping file with unexpected name format: PTON_2024-08-29_xnas-itch.parquet\n",
      "Warning: Skipping file with unexpected name format: PTON_2024-08-30_xnas-itch.parquet\n",
      "Warning: Skipping file with unexpected name format: PTON_2024-09-03_xnas-itch.parquet\n",
      "Warning: Skipping file with unexpected name format: PTON_2024-09-04_xnas-itch.parquet\n",
      "Warning: Skipping file with unexpected name format: PTON_2024-09-05_xnas-itch.parquet\n",
      "Warning: Skipping file with unexpected name format: PTON_2024-09-06_xnas-itch.parquet\n",
      "Warning: Skipping file with unexpected name format: PTON_2024-09-09_xnas-itch.parquet\n",
      "Warning: Skipping file with unexpected name format: PTON_2024-09-10_xnas-itch.parquet\n",
      "Warning: Skipping file with unexpected name format: PTON_2024-09-11_xnas-itch.parquet\n",
      "Warning: Skipping file with unexpected name format: PTON_2024-09-12_xnas-itch.parquet\n",
      "Warning: Skipping file with unexpected name format: PTON_2024-09-13_xnas-itch.parquet\n",
      "Warning: Skipping file with unexpected name format: PTON_2024-09-16_xnas-itch.parquet\n",
      "Warning: Skipping file with unexpected name format: PTON_2024-09-17_xnas-itch.parquet\n",
      "Warning: Skipping file with unexpected name format: PTON_2024-09-18_xnas-itch.parquet\n",
      "Warning: Skipping file with unexpected name format: PTON_2024-09-19_xnas-itch.parquet\n",
      "Warning: Skipping file with unexpected name format: PTON_2024-09-20_xnas-itch.parquet\n",
      "Warning: Skipping file with unexpected name format: PTON_2024-09-23_xnas-itch.parquet\n",
      "Warning: Skipping file with unexpected name format: PTON_2024-09-24_xnas-itch.parquet\n",
      "Warning: Skipping file with unexpected name format: PTON_2024-09-25_xnas-itch.parquet\n",
      "Warning: Skipping file with unexpected name format: PTON_2024-09-26_xnas-itch.parquet\n",
      "Warning: Skipping file with unexpected name format: PTON_2024-09-27_xnas-itch.parquet\n",
      "Warning: Skipping file with unexpected name format: PTON_2024-09-30_xnas-itch.parquet\n",
      "Warning: Skipping file with unexpected name format: PTON_2024-10-01_xnas-itch.parquet\n",
      "Warning: Skipping file with unexpected name format: PTON_2024-10-02_xnas-itch.parquet\n",
      "Warning: Skipping file with unexpected name format: PTON_2024-10-03_xnas-itch.parquet\n",
      "Warning: Skipping file with unexpected name format: PTON_2024-10-04_xnas-itch.parquet\n",
      "Warning: Skipping file with unexpected name format: PTON_2024-10-07_xnas-itch.parquet\n",
      "Warning: Skipping file with unexpected name format: PTON_2024-10-08_xnas-itch.parquet\n",
      "Warning: Skipping file with unexpected name format: PTON_2024-10-09_xnas-itch.parquet\n",
      "Warning: Skipping file with unexpected name format: PTON_2024-10-10_xnas-itch.parquet\n",
      "Warning: Skipping file with unexpected name format: PTON_2024-10-11_xnas-itch.parquet\n",
      "Warning: Skipping file with unexpected name format: PTON_2024-10-14_xnas-itch.parquet\n",
      "Warning: Skipping file with unexpected name format: PTON_2024-10-15_xnas-itch.parquet\n",
      "Warning: Skipping file with unexpected name format: PTON_2024-10-16_xnas-itch.parquet\n",
      "Warning: Skipping file with unexpected name format: PTON_2024-10-17_xnas-itch.parquet\n",
      "Warning: Skipping file with unexpected name format: PTON_2024-10-18_xnas-itch.parquet\n",
      "Warning: Skipping file with unexpected name format: PTON_2024-10-21_xnas-itch.parquet\n",
      "Warning: Skipping file with unexpected name format: PTON_2024-10-22_xnas-itch.parquet\n",
      "Warning: Skipping file with unexpected name format: PTON_2024-10-23_xnas-itch.parquet\n",
      "Warning: Skipping file with unexpected name format: PTON_2024-10-24_xnas-itch.parquet\n",
      "Warning: Skipping file with unexpected name format: PTON_2024-10-25_xnas-itch.parquet\n",
      "Warning: Skipping file with unexpected name format: PTON_2024-10-28_xnas-itch.parquet\n",
      "Warning: Skipping file with unexpected name format: PTON_2024-10-29_xnas-itch.parquet\n",
      "Warning: Skipping file with unexpected name format: PTON_2024-10-30_xnas-itch.parquet\n",
      "Warning: Skipping file with unexpected name format: PTON_2024-10-31_xnas-itch.parquet\n",
      "Warning: Skipping file with unexpected name format: PTON_2024-11-01_xnas-itch.parquet\n",
      "Warning: Skipping file with unexpected name format: PTON_2024-11-04_xnas-itch.parquet\n",
      "Warning: Skipping file with unexpected name format: PTON_2024-11-05_xnas-itch.parquet\n",
      "Warning: Skipping file with unexpected name format: PTON_2024-11-06_xnas-itch.parquet\n",
      "Warning: Skipping file with unexpected name format: PTON_2024-11-07_xnas-itch.parquet\n",
      "Warning: Skipping file with unexpected name format: PTON_2024-11-08_xnas-itch.parquet\n",
      "Warning: Skipping file with unexpected name format: PTON_2024-11-11_xnas-itch.parquet\n",
      "Warning: Skipping file with unexpected name format: PTON_2024-11-12_xnas-itch.parquet\n",
      "Warning: Skipping file with unexpected name format: PTON_2024-11-13_xnas-itch.parquet\n",
      "Warning: Skipping file with unexpected name format: PTON_2024-11-14_xnas-itch.parquet\n",
      "Warning: Skipping file with unexpected name format: PTON_2024-11-15_xnas-itch.parquet\n",
      "Warning: Skipping file with unexpected name format: PTON_2024-11-18_xnas-itch.parquet\n",
      "Warning: Skipping file with unexpected name format: PTON_2024-11-19_xnas-itch.parquet\n",
      "Warning: Skipping file with unexpected name format: PTON_2024-11-20_xnas-itch.parquet\n",
      "Warning: Skipping file with unexpected name format: PTON_2024-11-21_xnas-itch.parquet\n",
      "Warning: Skipping file with unexpected name format: PTON_2024-11-22_xnas-itch.parquet\n",
      "Warning: Skipping file with unexpected name format: PTON_2024-11-25_xnas-itch.parquet\n",
      "Warning: Skipping file with unexpected name format: PTON_2024-11-26_xnas-itch.parquet\n",
      "Warning: Skipping file with unexpected name format: PTON_2024-11-27_xnas-itch.parquet\n",
      "Warning: Skipping file with unexpected name format: PTON_2024-11-29_xnas-itch.parquet\n",
      "Warning: Skipping file with unexpected name format: PTON_2024-12-02_xnas-itch.parquet\n",
      "Warning: Skipping file with unexpected name format: PTON_2024-12-03_xnas-itch.parquet\n",
      "Warning: Skipping file with unexpected name format: PTON_2024-12-04_xnas-itch.parquet\n",
      "Warning: Skipping file with unexpected name format: PTON_2024-12-05_xnas-itch.parquet\n",
      "Warning: Skipping file with unexpected name format: PTON_2024-12-06_xnas-itch.parquet\n",
      "Warning: Skipping file with unexpected name format: PTON_2024-12-09_xnas-itch.parquet\n",
      "Warning: Skipping file with unexpected name format: PTON_2024-12-10_xnas-itch.parquet\n",
      "Warning: Skipping file with unexpected name format: PTON_2024-12-11_xnas-itch.parquet\n",
      "Warning: Skipping file with unexpected name format: PTON_2024-12-12_xnas-itch.parquet\n",
      "Warning: Skipping file with unexpected name format: PTON_2024-12-13_xnas-itch.parquet\n",
      "Warning: Skipping file with unexpected name format: PTON_2024-12-16_xnas-itch.parquet\n",
      "Warning: Skipping file with unexpected name format: HLMN_2023-07-17_xnas-itch.parquet\n",
      "Warning: Skipping file with unexpected name format: HLMN_2023-07-18_xnas-itch.parquet\n",
      "Warning: Skipping file with unexpected name format: HLMN_2023-07-19_xnas-itch.parquet\n",
      "Warning: Skipping file with unexpected name format: HLMN_2023-07-20_xnas-itch.parquet\n",
      "Warning: Skipping file with unexpected name format: HLMN_2023-07-21_xnas-itch.parquet\n",
      "Warning: Skipping file with unexpected name format: HLMN_2023-07-24_xnas-itch.parquet\n",
      "Warning: Skipping file with unexpected name format: HLMN_2023-07-25_xnas-itch.parquet\n",
      "Warning: Skipping file with unexpected name format: HLMN_2023-07-26_xnas-itch.parquet\n",
      "Warning: Skipping file with unexpected name format: HLMN_2023-07-27_xnas-itch.parquet\n",
      "Warning: Skipping file with unexpected name format: HLMN_2023-07-28_xnas-itch.parquet\n",
      "Warning: Skipping file with unexpected name format: HLMN_2023-07-31_xnas-itch.parquet\n",
      "Warning: Skipping file with unexpected name format: HLMN_2023-08-01_xnas-itch.parquet\n",
      "Warning: Skipping file with unexpected name format: HLMN_2023-08-02_xnas-itch.parquet\n",
      "Warning: Skipping file with unexpected name format: HLMN_2023-08-03_xnas-itch.parquet\n",
      "Warning: Skipping file with unexpected name format: HLMN_2023-08-04_xnas-itch.parquet\n",
      "Warning: Skipping file with unexpected name format: HLMN_2023-08-07_xnas-itch.parquet\n",
      "Warning: Skipping file with unexpected name format: HLMN_2023-08-08_xnas-itch.parquet\n",
      "Warning: Skipping file with unexpected name format: HLMN_2023-08-09_xnas-itch.parquet\n",
      "Warning: Skipping file with unexpected name format: HLMN_2023-08-10_xnas-itch.parquet\n",
      "Warning: Skipping file with unexpected name format: HLMN_2023-08-11_xnas-itch.parquet\n",
      "Warning: Skipping file with unexpected name format: HLMN_2023-08-14_xnas-itch.parquet\n",
      "Warning: Skipping file with unexpected name format: HLMN_2023-08-15_xnas-itch.parquet\n",
      "Warning: Skipping file with unexpected name format: HLMN_2023-08-16_xnas-itch.parquet\n",
      "Warning: Skipping file with unexpected name format: HLMN_2023-08-17_xnas-itch.parquet\n",
      "Warning: Skipping file with unexpected name format: HLMN_2023-08-18_xnas-itch.parquet\n",
      "Warning: Skipping file with unexpected name format: HLMN_2023-08-21_xnas-itch.parquet\n",
      "Warning: Skipping file with unexpected name format: HLMN_2023-08-22_xnas-itch.parquet\n",
      "Warning: Skipping file with unexpected name format: HLMN_2023-08-23_xnas-itch.parquet\n",
      "Warning: Skipping file with unexpected name format: HLMN_2023-08-24_xnas-itch.parquet\n",
      "Warning: Skipping file with unexpected name format: HLMN_2023-08-25_xnas-itch.parquet\n",
      "Warning: Skipping file with unexpected name format: HLMN_2023-08-28_xnas-itch.parquet\n",
      "Warning: Skipping file with unexpected name format: HLMN_2023-08-29_xnas-itch.parquet\n",
      "Warning: Skipping file with unexpected name format: HLMN_2023-08-30_xnas-itch.parquet\n",
      "Warning: Skipping file with unexpected name format: HLMN_2023-08-31_xnas-itch.parquet\n",
      "Warning: Skipping file with unexpected name format: HLMN_2023-09-01_xnas-itch.parquet\n",
      "Warning: Skipping file with unexpected name format: HLMN_2023-09-05_xnas-itch.parquet\n",
      "Warning: Skipping file with unexpected name format: HLMN_2023-09-06_xnas-itch.parquet\n",
      "Warning: Skipping file with unexpected name format: HLMN_2023-09-07_xnas-itch.parquet\n",
      "Warning: Skipping file with unexpected name format: HLMN_2023-09-08_xnas-itch.parquet\n",
      "Warning: Skipping file with unexpected name format: HLMN_2023-09-11_xnas-itch.parquet\n",
      "Warning: Skipping file with unexpected name format: HLMN_2023-09-12_xnas-itch.parquet\n",
      "Warning: Skipping file with unexpected name format: HLMN_2023-09-13_xnas-itch.parquet\n",
      "Warning: Skipping file with unexpected name format: HLMN_2023-09-14_xnas-itch.parquet\n",
      "Warning: Skipping file with unexpected name format: HLMN_2023-09-15_xnas-itch.parquet\n",
      "Warning: Skipping file with unexpected name format: HLMN_2023-09-18_xnas-itch.parquet\n",
      "Warning: Skipping file with unexpected name format: HLMN_2023-09-19_xnas-itch.parquet\n",
      "Warning: Skipping file with unexpected name format: HLMN_2023-09-20_xnas-itch.parquet\n",
      "Warning: Skipping file with unexpected name format: HLMN_2023-09-21_xnas-itch.parquet\n",
      "Warning: Skipping file with unexpected name format: HLMN_2023-09-22_xnas-itch.parquet\n",
      "Warning: Skipping file with unexpected name format: HLMN_2023-09-25_xnas-itch.parquet\n",
      "Warning: Skipping file with unexpected name format: HLMN_2023-09-26_xnas-itch.parquet\n",
      "Warning: Skipping file with unexpected name format: HLMN_2023-09-27_xnas-itch.parquet\n",
      "Warning: Skipping file with unexpected name format: HLMN_2023-09-28_xnas-itch.parquet\n",
      "Warning: Skipping file with unexpected name format: HLMN_2023-09-29_xnas-itch.parquet\n",
      "Warning: Skipping file with unexpected name format: HLMN_2023-10-02_xnas-itch.parquet\n",
      "Warning: Skipping file with unexpected name format: HLMN_2023-10-03_xnas-itch.parquet\n",
      "Warning: Skipping file with unexpected name format: HLMN_2023-10-04_xnas-itch.parquet\n",
      "Warning: Skipping file with unexpected name format: HLMN_2023-10-05_xnas-itch.parquet\n",
      "Warning: Skipping file with unexpected name format: HLMN_2023-10-06_xnas-itch.parquet\n",
      "Warning: Skipping file with unexpected name format: HLMN_2023-10-09_xnas-itch.parquet\n",
      "Warning: Skipping file with unexpected name format: HLMN_2023-10-10_xnas-itch.parquet\n",
      "Warning: Skipping file with unexpected name format: HLMN_2023-10-11_xnas-itch.parquet\n",
      "Warning: Skipping file with unexpected name format: HLMN_2023-10-12_xnas-itch.parquet\n",
      "Warning: Skipping file with unexpected name format: HLMN_2023-10-13_xnas-itch.parquet\n",
      "Warning: Skipping file with unexpected name format: HLMN_2023-10-16_xnas-itch.parquet\n",
      "Warning: Skipping file with unexpected name format: HLMN_2023-10-17_xnas-itch.parquet\n",
      "Warning: Skipping file with unexpected name format: HLMN_2023-10-18_xnas-itch.parquet\n",
      "Warning: Skipping file with unexpected name format: HLMN_2023-10-19_xnas-itch.parquet\n",
      "Warning: Skipping file with unexpected name format: HLMN_2023-10-20_xnas-itch.parquet\n",
      "Warning: Skipping file with unexpected name format: HLMN_2023-10-23_xnas-itch.parquet\n",
      "Warning: Skipping file with unexpected name format: HLMN_2023-10-24_xnas-itch.parquet\n",
      "Warning: Skipping file with unexpected name format: HLMN_2023-10-25_xnas-itch.parquet\n",
      "Warning: Skipping file with unexpected name format: HLMN_2023-10-26_xnas-itch.parquet\n",
      "Warning: Skipping file with unexpected name format: HLMN_2023-10-27_xnas-itch.parquet\n",
      "Warning: Skipping file with unexpected name format: HLMN_2023-10-30_xnas-itch.parquet\n",
      "Warning: Skipping file with unexpected name format: HLMN_2023-10-31_xnas-itch.parquet\n",
      "Warning: Skipping file with unexpected name format: HLMN_2023-11-01_xnas-itch.parquet\n",
      "Warning: Skipping file with unexpected name format: HLMN_2023-11-02_xnas-itch.parquet\n",
      "Warning: Skipping file with unexpected name format: HLMN_2023-11-03_xnas-itch.parquet\n",
      "Warning: Skipping file with unexpected name format: HLMN_2023-11-06_xnas-itch.parquet\n",
      "Warning: Skipping file with unexpected name format: HLMN_2023-11-07_xnas-itch.parquet\n",
      "Warning: Skipping file with unexpected name format: HLMN_2023-11-08_xnas-itch.parquet\n",
      "Warning: Skipping file with unexpected name format: HLMN_2023-11-09_xnas-itch.parquet\n",
      "Warning: Skipping file with unexpected name format: HLMN_2023-11-10_xnas-itch.parquet\n",
      "Warning: Skipping file with unexpected name format: HLMN_2023-11-13_xnas-itch.parquet\n",
      "Warning: Skipping file with unexpected name format: HLMN_2023-11-14_xnas-itch.parquet\n",
      "Warning: Skipping file with unexpected name format: HLMN_2023-11-15_xnas-itch.parquet\n",
      "Warning: Skipping file with unexpected name format: HLMN_2023-11-16_xnas-itch.parquet\n",
      "Warning: Skipping file with unexpected name format: HLMN_2023-11-17_xnas-itch.parquet\n",
      "Warning: Skipping file with unexpected name format: HLMN_2023-11-20_xnas-itch.parquet\n",
      "Warning: Skipping file with unexpected name format: HLMN_2023-11-21_xnas-itch.parquet\n",
      "Warning: Skipping file with unexpected name format: HLMN_2023-11-22_xnas-itch.parquet\n",
      "Warning: Skipping file with unexpected name format: HLMN_2023-11-24_xnas-itch.parquet\n",
      "Warning: Skipping file with unexpected name format: HLMN_2023-11-27_xnas-itch.parquet\n",
      "Warning: Skipping file with unexpected name format: HLMN_2023-11-28_xnas-itch.parquet\n",
      "Warning: Skipping file with unexpected name format: HLMN_2023-11-29_xnas-itch.parquet\n",
      "Warning: Skipping file with unexpected name format: HLMN_2023-11-30_xnas-itch.parquet\n",
      "Warning: Skipping file with unexpected name format: HLMN_2023-12-01_xnas-itch.parquet\n",
      "Warning: Skipping file with unexpected name format: HLMN_2023-12-04_xnas-itch.parquet\n",
      "Warning: Skipping file with unexpected name format: HLMN_2023-12-05_xnas-itch.parquet\n",
      "Warning: Skipping file with unexpected name format: HLMN_2023-12-06_xnas-itch.parquet\n",
      "Warning: Skipping file with unexpected name format: HLMN_2023-12-07_xnas-itch.parquet\n",
      "Warning: Skipping file with unexpected name format: HLMN_2023-12-08_xnas-itch.parquet\n",
      "Warning: Skipping file with unexpected name format: HLMN_2023-12-11_xnas-itch.parquet\n",
      "Warning: Skipping file with unexpected name format: HLMN_2023-12-12_xnas-itch.parquet\n",
      "Warning: Skipping file with unexpected name format: HLMN_2023-12-13_xnas-itch.parquet\n",
      "Warning: Skipping file with unexpected name format: HLMN_2023-12-14_xnas-itch.parquet\n",
      "Warning: Skipping file with unexpected name format: HLMN_2023-12-15_xnas-itch.parquet\n",
      "Warning: Skipping file with unexpected name format: HLMN_2023-12-18_xnas-itch.parquet\n",
      "Warning: Skipping file with unexpected name format: HLMN_2023-12-19_xnas-itch.parquet\n",
      "Warning: Skipping file with unexpected name format: HLMN_2023-12-20_xnas-itch.parquet\n",
      "Warning: Skipping file with unexpected name format: HLMN_2023-12-21_xnas-itch.parquet\n",
      "Warning: Skipping file with unexpected name format: HLMN_2023-12-22_xnas-itch.parquet\n",
      "Warning: Skipping file with unexpected name format: HLMN_2023-12-26_xnas-itch.parquet\n",
      "Warning: Skipping file with unexpected name format: HLMN_2023-12-27_xnas-itch.parquet\n",
      "Warning: Skipping file with unexpected name format: HLMN_2023-12-28_xnas-itch.parquet\n",
      "Warning: Skipping file with unexpected name format: HLMN_2023-12-29_xnas-itch.parquet\n",
      "Warning: Skipping file with unexpected name format: HLMN_2024-01-02_xnas-itch.parquet\n",
      "Warning: Skipping file with unexpected name format: HLMN_2024-01-03_xnas-itch.parquet\n",
      "Warning: Skipping file with unexpected name format: HLMN_2024-01-04_xnas-itch.parquet\n",
      "Warning: Skipping file with unexpected name format: HLMN_2024-01-05_xnas-itch.parquet\n",
      "Warning: Skipping file with unexpected name format: HLMN_2024-01-08_xnas-itch.parquet\n",
      "Warning: Skipping file with unexpected name format: HLMN_2024-01-09_xnas-itch.parquet\n",
      "Warning: Skipping file with unexpected name format: HLMN_2024-01-10_xnas-itch.parquet\n",
      "Warning: Skipping file with unexpected name format: HLMN_2024-01-11_xnas-itch.parquet\n",
      "Warning: Skipping file with unexpected name format: HLMN_2024-01-12_xnas-itch.parquet\n",
      "Warning: Skipping file with unexpected name format: HLMN_2024-01-16_xnas-itch.parquet\n",
      "Warning: Skipping file with unexpected name format: HLMN_2024-01-17_xnas-itch.parquet\n",
      "Warning: Skipping file with unexpected name format: HLMN_2024-01-18_xnas-itch.parquet\n",
      "Warning: Skipping file with unexpected name format: HLMN_2024-01-19_xnas-itch.parquet\n",
      "Warning: Skipping file with unexpected name format: HLMN_2024-01-22_xnas-itch.parquet\n",
      "Warning: Skipping file with unexpected name format: HLMN_2024-01-23_xnas-itch.parquet\n",
      "Warning: Skipping file with unexpected name format: HLMN_2024-01-24_xnas-itch.parquet\n",
      "Warning: Skipping file with unexpected name format: HLMN_2024-01-25_xnas-itch.parquet\n",
      "Warning: Skipping file with unexpected name format: HLMN_2024-01-26_xnas-itch.parquet\n",
      "Warning: Skipping file with unexpected name format: HLMN_2024-01-29_xnas-itch.parquet\n",
      "Warning: Skipping file with unexpected name format: HLMN_2024-01-30_xnas-itch.parquet\n",
      "Warning: Skipping file with unexpected name format: HLMN_2024-01-31_xnas-itch.parquet\n",
      "Warning: Skipping file with unexpected name format: HLMN_2024-02-01_xnas-itch.parquet\n",
      "Warning: Skipping file with unexpected name format: HLMN_2024-02-02_xnas-itch.parquet\n",
      "Warning: Skipping file with unexpected name format: HLMN_2024-02-05_xnas-itch.parquet\n",
      "Warning: Skipping file with unexpected name format: HLMN_2024-02-06_xnas-itch.parquet\n",
      "Warning: Skipping file with unexpected name format: HLMN_2024-02-07_xnas-itch.parquet\n",
      "Warning: Skipping file with unexpected name format: HLMN_2024-02-08_xnas-itch.parquet\n",
      "Warning: Skipping file with unexpected name format: HLMN_2024-02-09_xnas-itch.parquet\n",
      "Warning: Skipping file with unexpected name format: HLMN_2024-02-12_xnas-itch.parquet\n",
      "Warning: Skipping file with unexpected name format: HLMN_2024-02-13_xnas-itch.parquet\n",
      "Warning: Skipping file with unexpected name format: HLMN_2024-02-14_xnas-itch.parquet\n",
      "Warning: Skipping file with unexpected name format: HLMN_2024-02-15_xnas-itch.parquet\n",
      "Warning: Skipping file with unexpected name format: HLMN_2024-02-16_xnas-itch.parquet\n",
      "Warning: Skipping file with unexpected name format: HLMN_2024-02-20_xnas-itch.parquet\n",
      "Warning: Skipping file with unexpected name format: HLMN_2024-02-21_xnas-itch.parquet\n",
      "Warning: Skipping file with unexpected name format: HLMN_2024-02-22_xnas-itch.parquet\n",
      "Warning: Skipping file with unexpected name format: HLMN_2024-02-23_xnas-itch.parquet\n",
      "Warning: Skipping file with unexpected name format: HLMN_2024-02-26_xnas-itch.parquet\n",
      "Warning: Skipping file with unexpected name format: HLMN_2024-02-27_xnas-itch.parquet\n",
      "Warning: Skipping file with unexpected name format: HLMN_2024-02-28_xnas-itch.parquet\n",
      "Warning: Skipping file with unexpected name format: HLMN_2024-02-29_xnas-itch.parquet\n",
      "Warning: Skipping file with unexpected name format: HLMN_2024-03-01_xnas-itch.parquet\n",
      "Warning: Skipping file with unexpected name format: HLMN_2024-03-04_xnas-itch.parquet\n",
      "Warning: Skipping file with unexpected name format: HLMN_2024-03-05_xnas-itch.parquet\n",
      "Warning: Skipping file with unexpected name format: HLMN_2024-03-06_xnas-itch.parquet\n",
      "Warning: Skipping file with unexpected name format: HLMN_2024-03-07_xnas-itch.parquet\n",
      "Warning: Skipping file with unexpected name format: HLMN_2024-03-08_xnas-itch.parquet\n",
      "Warning: Skipping file with unexpected name format: HLMN_2024-03-11_xnas-itch.parquet\n",
      "Warning: Skipping file with unexpected name format: HLMN_2024-03-12_xnas-itch.parquet\n",
      "Warning: Skipping file with unexpected name format: HLMN_2024-03-13_xnas-itch.parquet\n",
      "Warning: Skipping file with unexpected name format: HLMN_2024-03-14_xnas-itch.parquet\n",
      "Warning: Skipping file with unexpected name format: HLMN_2024-03-15_xnas-itch.parquet\n",
      "Warning: Skipping file with unexpected name format: HLMN_2024-03-18_xnas-itch.parquet\n",
      "Warning: Skipping file with unexpected name format: HLMN_2024-03-19_xnas-itch.parquet\n",
      "Warning: Skipping file with unexpected name format: HLMN_2024-03-20_xnas-itch.parquet\n",
      "Warning: Skipping file with unexpected name format: HLMN_2024-03-21_xnas-itch.parquet\n",
      "Warning: Skipping file with unexpected name format: HLMN_2024-03-22_xnas-itch.parquet\n",
      "Warning: Skipping file with unexpected name format: HLMN_2024-03-25_xnas-itch.parquet\n",
      "Warning: Skipping file with unexpected name format: HLMN_2024-03-26_xnas-itch.parquet\n",
      "Warning: Skipping file with unexpected name format: HLMN_2024-03-27_xnas-itch.parquet\n",
      "Warning: Skipping file with unexpected name format: HLMN_2024-03-28_xnas-itch.parquet\n",
      "Warning: Skipping file with unexpected name format: HLMN_2024-04-01_xnas-itch.parquet\n",
      "Warning: Skipping file with unexpected name format: HLMN_2024-04-02_xnas-itch.parquet\n",
      "Warning: Skipping file with unexpected name format: HLMN_2024-04-03_xnas-itch.parquet\n",
      "Warning: Skipping file with unexpected name format: HLMN_2024-04-04_xnas-itch.parquet\n",
      "Warning: Skipping file with unexpected name format: HLMN_2024-04-05_xnas-itch.parquet\n",
      "Warning: Skipping file with unexpected name format: HLMN_2024-04-08_xnas-itch.parquet\n",
      "Warning: Skipping file with unexpected name format: HLMN_2024-04-09_xnas-itch.parquet\n",
      "Warning: Skipping file with unexpected name format: HLMN_2024-04-10_xnas-itch.parquet\n",
      "Warning: Skipping file with unexpected name format: HLMN_2024-04-11_xnas-itch.parquet\n",
      "Warning: Skipping file with unexpected name format: HLMN_2024-04-12_xnas-itch.parquet\n",
      "Warning: Skipping file with unexpected name format: HLMN_2024-04-15_xnas-itch.parquet\n",
      "Warning: Skipping file with unexpected name format: HLMN_2024-04-16_xnas-itch.parquet\n",
      "Warning: Skipping file with unexpected name format: HLMN_2024-04-17_xnas-itch.parquet\n",
      "Warning: Skipping file with unexpected name format: HLMN_2024-04-18_xnas-itch.parquet\n",
      "Warning: Skipping file with unexpected name format: HLMN_2024-04-19_xnas-itch.parquet\n",
      "Warning: Skipping file with unexpected name format: HLMN_2024-04-22_xnas-itch.parquet\n",
      "Warning: Skipping file with unexpected name format: HLMN_2024-04-23_xnas-itch.parquet\n",
      "Warning: Skipping file with unexpected name format: HLMN_2024-04-24_xnas-itch.parquet\n",
      "Warning: Skipping file with unexpected name format: HLMN_2024-04-25_xnas-itch.parquet\n",
      "Warning: Skipping file with unexpected name format: HLMN_2024-04-26_xnas-itch.parquet\n",
      "Warning: Skipping file with unexpected name format: HLMN_2024-04-29_xnas-itch.parquet\n",
      "Warning: Skipping file with unexpected name format: HLMN_2024-04-30_xnas-itch.parquet\n",
      "Warning: Skipping file with unexpected name format: HLMN_2024-05-01_xnas-itch.parquet\n",
      "Warning: Skipping file with unexpected name format: HLMN_2024-05-02_xnas-itch.parquet\n",
      "Warning: Skipping file with unexpected name format: HLMN_2024-05-03_xnas-itch.parquet\n",
      "Warning: Skipping file with unexpected name format: HLMN_2024-05-06_xnas-itch.parquet\n",
      "Warning: Skipping file with unexpected name format: HLMN_2024-05-07_xnas-itch.parquet\n",
      "Warning: Skipping file with unexpected name format: HLMN_2024-05-08_xnas-itch.parquet\n",
      "Warning: Skipping file with unexpected name format: HLMN_2024-05-09_xnas-itch.parquet\n",
      "Warning: Skipping file with unexpected name format: HLMN_2024-05-10_xnas-itch.parquet\n",
      "Warning: Skipping file with unexpected name format: HLMN_2024-05-13_xnas-itch.parquet\n",
      "Warning: Skipping file with unexpected name format: HLMN_2024-05-14_xnas-itch.parquet\n",
      "Warning: Skipping file with unexpected name format: HLMN_2024-05-15_xnas-itch.parquet\n",
      "Warning: Skipping file with unexpected name format: HLMN_2024-05-16_xnas-itch.parquet\n",
      "Warning: Skipping file with unexpected name format: HLMN_2024-05-17_xnas-itch.parquet\n",
      "Warning: Skipping file with unexpected name format: HLMN_2024-05-20_xnas-itch.parquet\n",
      "Warning: Skipping file with unexpected name format: HLMN_2024-05-21_xnas-itch.parquet\n",
      "Warning: Skipping file with unexpected name format: HLMN_2024-05-22_xnas-itch.parquet\n",
      "Warning: Skipping file with unexpected name format: HLMN_2024-05-23_xnas-itch.parquet\n",
      "Warning: Skipping file with unexpected name format: HLMN_2024-05-24_xnas-itch.parquet\n",
      "Warning: Skipping file with unexpected name format: HLMN_2024-05-28_xnas-itch.parquet\n",
      "Warning: Skipping file with unexpected name format: HLMN_2024-05-29_xnas-itch.parquet\n",
      "Warning: Skipping file with unexpected name format: HLMN_2024-05-30_xnas-itch.parquet\n",
      "Warning: Skipping file with unexpected name format: HLMN_2024-05-31_xnas-itch.parquet\n",
      "Warning: Skipping file with unexpected name format: HLMN_2024-06-03_xnas-itch.parquet\n",
      "Warning: Skipping file with unexpected name format: HLMN_2024-06-04_xnas-itch.parquet\n",
      "Warning: Skipping file with unexpected name format: HLMN_2024-06-05_xnas-itch.parquet\n",
      "Warning: Skipping file with unexpected name format: HLMN_2024-06-06_xnas-itch.parquet\n",
      "Warning: Skipping file with unexpected name format: HLMN_2024-06-07_xnas-itch.parquet\n",
      "Warning: Skipping file with unexpected name format: HLMN_2024-06-10_xnas-itch.parquet\n",
      "Warning: Skipping file with unexpected name format: HLMN_2024-06-11_xnas-itch.parquet\n",
      "Warning: Skipping file with unexpected name format: HLMN_2024-06-12_xnas-itch.parquet\n",
      "Warning: Skipping file with unexpected name format: HLMN_2024-06-13_xnas-itch.parquet\n",
      "Warning: Skipping file with unexpected name format: HLMN_2024-06-14_xnas-itch.parquet\n",
      "Warning: Skipping file with unexpected name format: HLMN_2024-06-17_xnas-itch.parquet\n",
      "Warning: Skipping file with unexpected name format: HLMN_2024-06-18_xnas-itch.parquet\n",
      "Warning: Skipping file with unexpected name format: HLMN_2024-06-20_xnas-itch.parquet\n",
      "Warning: Skipping file with unexpected name format: HLMN_2024-06-21_xnas-itch.parquet\n",
      "Warning: Skipping file with unexpected name format: HLMN_2024-06-24_xnas-itch.parquet\n",
      "Warning: Skipping file with unexpected name format: HLMN_2024-06-25_xnas-itch.parquet\n",
      "Warning: Skipping file with unexpected name format: HLMN_2024-06-26_xnas-itch.parquet\n",
      "Warning: Skipping file with unexpected name format: HLMN_2024-06-27_xnas-itch.parquet\n",
      "Warning: Skipping file with unexpected name format: HLMN_2024-06-28_xnas-itch.parquet\n",
      "Warning: Skipping file with unexpected name format: HLMN_2024-07-01_xnas-itch.parquet\n",
      "Warning: Skipping file with unexpected name format: HLMN_2024-07-02_xnas-itch.parquet\n",
      "Warning: Skipping file with unexpected name format: HLMN_2024-07-03_xnas-itch.parquet\n",
      "Warning: Skipping file with unexpected name format: HLMN_2024-07-05_xnas-itch.parquet\n",
      "Warning: Skipping file with unexpected name format: HLMN_2024-07-08_xnas-itch.parquet\n",
      "Warning: Skipping file with unexpected name format: HLMN_2024-07-09_xnas-itch.parquet\n",
      "Warning: Skipping file with unexpected name format: HLMN_2024-07-10_xnas-itch.parquet\n",
      "Warning: Skipping file with unexpected name format: HLMN_2024-07-11_xnas-itch.parquet\n",
      "Warning: Skipping file with unexpected name format: HLMN_2024-07-12_xnas-itch.parquet\n",
      "Warning: Skipping file with unexpected name format: HLMN_2024-07-15_xnas-itch.parquet\n",
      "Warning: Skipping file with unexpected name format: HLMN_2024-07-16_xnas-itch.parquet\n",
      "Warning: Skipping file with unexpected name format: HLMN_2024-07-17_xnas-itch.parquet\n",
      "Warning: Skipping file with unexpected name format: HLMN_2024-07-18_xnas-itch.parquet\n",
      "Warning: Skipping file with unexpected name format: HLMN_2024-07-19_xnas-itch.parquet\n",
      "Warning: Skipping file with unexpected name format: HLMN_2024-07-22_xnas-itch.parquet\n",
      "Warning: Skipping file with unexpected name format: HLMN_2024-07-23_xnas-itch.parquet\n",
      "Warning: Skipping file with unexpected name format: HLMN_2024-07-24_xnas-itch.parquet\n",
      "Warning: Skipping file with unexpected name format: HLMN_2024-07-25_xnas-itch.parquet\n",
      "Warning: Skipping file with unexpected name format: HLMN_2024-07-26_xnas-itch.parquet\n",
      "Warning: Skipping file with unexpected name format: HLMN_2024-07-29_xnas-itch.parquet\n",
      "Warning: Skipping file with unexpected name format: HLMN_2024-07-30_xnas-itch.parquet\n",
      "Warning: Skipping file with unexpected name format: HLMN_2024-07-31_xnas-itch.parquet\n",
      "Warning: Skipping file with unexpected name format: HLMN_2024-08-01_xnas-itch.parquet\n",
      "Warning: Skipping file with unexpected name format: HLMN_2024-08-02_xnas-itch.parquet\n",
      "Warning: Skipping file with unexpected name format: HLMN_2024-08-05_xnas-itch.parquet\n",
      "Warning: Skipping file with unexpected name format: HLMN_2024-08-06_xnas-itch.parquet\n",
      "Warning: Skipping file with unexpected name format: HLMN_2024-08-07_xnas-itch.parquet\n",
      "Warning: Skipping file with unexpected name format: HLMN_2024-08-08_xnas-itch.parquet\n",
      "Warning: Skipping file with unexpected name format: HLMN_2024-08-09_xnas-itch.parquet\n",
      "Warning: Skipping file with unexpected name format: HLMN_2024-08-12_xnas-itch.parquet\n",
      "Warning: Skipping file with unexpected name format: HLMN_2024-08-13_xnas-itch.parquet\n",
      "Warning: Skipping file with unexpected name format: HLMN_2024-08-14_xnas-itch.parquet\n",
      "Warning: Skipping file with unexpected name format: HLMN_2024-08-15_xnas-itch.parquet\n",
      "Warning: Skipping file with unexpected name format: HLMN_2024-08-16_xnas-itch.parquet\n",
      "Warning: Skipping file with unexpected name format: HLMN_2024-08-19_xnas-itch.parquet\n",
      "Warning: Skipping file with unexpected name format: HLMN_2024-08-20_xnas-itch.parquet\n",
      "Warning: Skipping file with unexpected name format: HLMN_2024-08-21_xnas-itch.parquet\n",
      "Warning: Skipping file with unexpected name format: HLMN_2024-08-22_xnas-itch.parquet\n",
      "Warning: Skipping file with unexpected name format: HLMN_2024-08-23_xnas-itch.parquet\n",
      "Warning: Skipping file with unexpected name format: HLMN_2024-08-26_xnas-itch.parquet\n",
      "Warning: Skipping file with unexpected name format: HLMN_2024-08-27_xnas-itch.parquet\n",
      "Warning: Skipping file with unexpected name format: HLMN_2024-08-28_xnas-itch.parquet\n",
      "Warning: Skipping file with unexpected name format: HLMN_2024-08-29_xnas-itch.parquet\n",
      "Warning: Skipping file with unexpected name format: HLMN_2024-08-30_xnas-itch.parquet\n",
      "Warning: Skipping file with unexpected name format: HLMN_2024-09-03_xnas-itch.parquet\n",
      "Warning: Skipping file with unexpected name format: HLMN_2024-09-04_xnas-itch.parquet\n",
      "Warning: Skipping file with unexpected name format: HLMN_2024-09-05_xnas-itch.parquet\n",
      "Warning: Skipping file with unexpected name format: HLMN_2024-09-06_xnas-itch.parquet\n",
      "Warning: Skipping file with unexpected name format: HLMN_2024-09-09_xnas-itch.parquet\n",
      "Warning: Skipping file with unexpected name format: HLMN_2024-09-10_xnas-itch.parquet\n",
      "Warning: Skipping file with unexpected name format: HLMN_2024-09-11_xnas-itch.parquet\n",
      "Warning: Skipping file with unexpected name format: HLMN_2024-09-12_xnas-itch.parquet\n",
      "Warning: Skipping file with unexpected name format: HLMN_2024-09-13_xnas-itch.parquet\n",
      "Warning: Skipping file with unexpected name format: HLMN_2024-09-16_xnas-itch.parquet\n",
      "Warning: Skipping file with unexpected name format: HLMN_2024-09-17_xnas-itch.parquet\n",
      "Warning: Skipping file with unexpected name format: HLMN_2024-09-18_xnas-itch.parquet\n",
      "Warning: Skipping file with unexpected name format: HLMN_2024-09-19_xnas-itch.parquet\n",
      "Warning: Skipping file with unexpected name format: HLMN_2024-09-20_xnas-itch.parquet\n",
      "Warning: Skipping file with unexpected name format: HLMN_2024-09-23_xnas-itch.parquet\n",
      "Warning: Skipping file with unexpected name format: HLMN_2024-09-24_xnas-itch.parquet\n",
      "Warning: Skipping file with unexpected name format: HLMN_2024-09-25_xnas-itch.parquet\n",
      "Warning: Skipping file with unexpected name format: HLMN_2024-09-26_xnas-itch.parquet\n",
      "Warning: Skipping file with unexpected name format: HLMN_2024-09-27_xnas-itch.parquet\n",
      "Warning: Skipping file with unexpected name format: HLMN_2024-09-30_xnas-itch.parquet\n",
      "Warning: Skipping file with unexpected name format: HLMN_2024-10-01_xnas-itch.parquet\n",
      "Warning: Skipping file with unexpected name format: HLMN_2024-10-02_xnas-itch.parquet\n",
      "Warning: Skipping file with unexpected name format: HLMN_2024-10-03_xnas-itch.parquet\n",
      "Warning: Skipping file with unexpected name format: HLMN_2024-10-04_xnas-itch.parquet\n",
      "Warning: Skipping file with unexpected name format: HLMN_2024-10-07_xnas-itch.parquet\n",
      "Warning: Skipping file with unexpected name format: HLMN_2024-10-08_xnas-itch.parquet\n",
      "Warning: Skipping file with unexpected name format: HLMN_2024-10-09_xnas-itch.parquet\n",
      "Warning: Skipping file with unexpected name format: HLMN_2024-10-10_xnas-itch.parquet\n",
      "Warning: Skipping file with unexpected name format: HLMN_2024-10-11_xnas-itch.parquet\n",
      "Warning: Skipping file with unexpected name format: HLMN_2024-10-14_xnas-itch.parquet\n",
      "Warning: Skipping file with unexpected name format: HLMN_2024-10-15_xnas-itch.parquet\n",
      "Warning: Skipping file with unexpected name format: HLMN_2024-10-16_xnas-itch.parquet\n",
      "Warning: Skipping file with unexpected name format: HLMN_2024-10-17_xnas-itch.parquet\n",
      "Warning: Skipping file with unexpected name format: HLMN_2024-10-18_xnas-itch.parquet\n",
      "Warning: Skipping file with unexpected name format: HLMN_2024-10-21_xnas-itch.parquet\n",
      "Warning: Skipping file with unexpected name format: HLMN_2024-10-22_xnas-itch.parquet\n",
      "Warning: Skipping file with unexpected name format: HLMN_2024-10-23_xnas-itch.parquet\n",
      "Warning: Skipping file with unexpected name format: HLMN_2024-10-24_xnas-itch.parquet\n",
      "Warning: Skipping file with unexpected name format: HLMN_2024-10-25_xnas-itch.parquet\n",
      "Warning: Skipping file with unexpected name format: HLMN_2024-10-28_xnas-itch.parquet\n",
      "Warning: Skipping file with unexpected name format: HLMN_2024-10-29_xnas-itch.parquet\n",
      "Warning: Skipping file with unexpected name format: HLMN_2024-10-30_xnas-itch.parquet\n",
      "Warning: Skipping file with unexpected name format: HLMN_2024-10-31_xnas-itch.parquet\n",
      "Warning: Skipping file with unexpected name format: HLMN_2024-11-01_xnas-itch.parquet\n",
      "Warning: Skipping file with unexpected name format: HLMN_2024-11-04_xnas-itch.parquet\n",
      "Warning: Skipping file with unexpected name format: HLMN_2024-11-05_xnas-itch.parquet\n",
      "Warning: Skipping file with unexpected name format: HLMN_2024-11-06_xnas-itch.parquet\n",
      "Warning: Skipping file with unexpected name format: HLMN_2024-11-07_xnas-itch.parquet\n",
      "Warning: Skipping file with unexpected name format: HLMN_2024-11-08_xnas-itch.parquet\n",
      "Warning: Skipping file with unexpected name format: HLMN_2024-11-11_xnas-itch.parquet\n",
      "Warning: Skipping file with unexpected name format: HLMN_2024-11-12_xnas-itch.parquet\n",
      "Warning: Skipping file with unexpected name format: HLMN_2024-11-13_xnas-itch.parquet\n",
      "Warning: Skipping file with unexpected name format: HLMN_2024-11-14_xnas-itch.parquet\n",
      "Warning: Skipping file with unexpected name format: HLMN_2024-11-15_xnas-itch.parquet\n",
      "Warning: Skipping file with unexpected name format: HLMN_2024-11-18_xnas-itch.parquet\n",
      "Warning: Skipping file with unexpected name format: HLMN_2024-11-19_xnas-itch.parquet\n",
      "Warning: Skipping file with unexpected name format: HLMN_2024-11-20_xnas-itch.parquet\n",
      "Warning: Skipping file with unexpected name format: HLMN_2024-11-21_xnas-itch.parquet\n",
      "Warning: Skipping file with unexpected name format: HLMN_2024-11-22_xnas-itch.parquet\n",
      "Warning: Skipping file with unexpected name format: HLMN_2024-11-25_xnas-itch.parquet\n",
      "Warning: Skipping file with unexpected name format: HLMN_2024-11-26_xnas-itch.parquet\n",
      "Warning: Skipping file with unexpected name format: HLMN_2024-11-27_xnas-itch.parquet\n",
      "Warning: Skipping file with unexpected name format: HLMN_2024-11-29_xnas-itch.parquet\n",
      "Warning: Skipping file with unexpected name format: HLMN_2024-12-02_xnas-itch.parquet\n",
      "Warning: Skipping file with unexpected name format: HLMN_2024-12-03_xnas-itch.parquet\n",
      "Warning: Skipping file with unexpected name format: HLMN_2024-12-04_xnas-itch.parquet\n",
      "Warning: Skipping file with unexpected name format: HLMN_2024-12-05_xnas-itch.parquet\n",
      "Warning: Skipping file with unexpected name format: HLMN_2024-12-06_xnas-itch.parquet\n",
      "Warning: Skipping file with unexpected name format: HLMN_2024-12-09_xnas-itch.parquet\n",
      "Warning: Skipping file with unexpected name format: HLMN_2024-12-10_xnas-itch.parquet\n",
      "Warning: Skipping file with unexpected name format: HLMN_2024-12-11_xnas-itch.parquet\n",
      "Warning: Skipping file with unexpected name format: HLMN_2024-12-12_xnas-itch.parquet\n",
      "Warning: Skipping file with unexpected name format: HLMN_2024-12-13_xnas-itch.parquet\n",
      "Warning: Skipping file with unexpected name format: HLMN_2024-12-16_xnas-itch.parquet\n",
      "Warning: Skipping file with unexpected name format: LION_2024-05-14_xnas-itch.parquet\n",
      "Warning: Skipping file with unexpected name format: LION_2024-05-15_xnas-itch.parquet\n",
      "Warning: Skipping file with unexpected name format: LION_2024-05-16_xnas-itch.parquet\n",
      "Warning: Skipping file with unexpected name format: LION_2024-05-17_xnas-itch.parquet\n",
      "Warning: Skipping file with unexpected name format: LION_2024-05-20_xnas-itch.parquet\n",
      "Warning: Skipping file with unexpected name format: LION_2024-05-21_xnas-itch.parquet\n",
      "Warning: Skipping file with unexpected name format: LION_2024-05-22_xnas-itch.parquet\n",
      "Warning: Skipping file with unexpected name format: LION_2024-05-23_xnas-itch.parquet\n",
      "Warning: Skipping file with unexpected name format: LION_2024-05-24_xnas-itch.parquet\n",
      "Warning: Skipping file with unexpected name format: LION_2024-05-28_xnas-itch.parquet\n",
      "Warning: Skipping file with unexpected name format: LION_2024-05-29_xnas-itch.parquet\n",
      "Warning: Skipping file with unexpected name format: LION_2024-05-30_xnas-itch.parquet\n",
      "Warning: Skipping file with unexpected name format: LION_2024-05-31_xnas-itch.parquet\n",
      "Warning: Skipping file with unexpected name format: LION_2024-06-03_xnas-itch.parquet\n",
      "Warning: Skipping file with unexpected name format: LION_2024-06-04_xnas-itch.parquet\n",
      "Warning: Skipping file with unexpected name format: LION_2024-06-05_xnas-itch.parquet\n",
      "Warning: Skipping file with unexpected name format: LION_2024-06-06_xnas-itch.parquet\n",
      "Warning: Skipping file with unexpected name format: LION_2024-06-07_xnas-itch.parquet\n",
      "Warning: Skipping file with unexpected name format: LION_2024-06-10_xnas-itch.parquet\n",
      "Warning: Skipping file with unexpected name format: LION_2024-06-11_xnas-itch.parquet\n",
      "Warning: Skipping file with unexpected name format: LION_2024-06-12_xnas-itch.parquet\n",
      "Warning: Skipping file with unexpected name format: LION_2024-06-13_xnas-itch.parquet\n",
      "Warning: Skipping file with unexpected name format: LION_2024-06-14_xnas-itch.parquet\n",
      "Warning: Skipping file with unexpected name format: LION_2024-06-17_xnas-itch.parquet\n",
      "Warning: Skipping file with unexpected name format: LION_2024-06-18_xnas-itch.parquet\n",
      "Warning: Skipping file with unexpected name format: LION_2024-06-20_xnas-itch.parquet\n",
      "Warning: Skipping file with unexpected name format: LION_2024-06-21_xnas-itch.parquet\n",
      "Warning: Skipping file with unexpected name format: LION_2024-06-24_xnas-itch.parquet\n",
      "Warning: Skipping file with unexpected name format: LION_2024-06-25_xnas-itch.parquet\n",
      "Warning: Skipping file with unexpected name format: LION_2024-06-26_xnas-itch.parquet\n",
      "Warning: Skipping file with unexpected name format: LION_2024-06-27_xnas-itch.parquet\n",
      "Warning: Skipping file with unexpected name format: LION_2024-06-28_xnas-itch.parquet\n",
      "Warning: Skipping file with unexpected name format: LION_2024-07-01_xnas-itch.parquet\n",
      "Warning: Skipping file with unexpected name format: LION_2024-07-02_xnas-itch.parquet\n",
      "Warning: Skipping file with unexpected name format: LION_2024-07-03_xnas-itch.parquet\n",
      "Warning: Skipping file with unexpected name format: LION_2024-07-05_xnas-itch.parquet\n",
      "Warning: Skipping file with unexpected name format: LION_2024-07-08_xnas-itch.parquet\n",
      "Warning: Skipping file with unexpected name format: LION_2024-07-09_xnas-itch.parquet\n",
      "Warning: Skipping file with unexpected name format: LION_2024-07-10_xnas-itch.parquet\n",
      "Warning: Skipping file with unexpected name format: LION_2024-07-11_xnas-itch.parquet\n",
      "Warning: Skipping file with unexpected name format: LION_2024-07-12_xnas-itch.parquet\n",
      "Warning: Skipping file with unexpected name format: LION_2024-07-15_xnas-itch.parquet\n",
      "Warning: Skipping file with unexpected name format: LION_2024-07-16_xnas-itch.parquet\n",
      "Warning: Skipping file with unexpected name format: LION_2024-07-17_xnas-itch.parquet\n",
      "Warning: Skipping file with unexpected name format: LION_2024-07-18_xnas-itch.parquet\n",
      "Warning: Skipping file with unexpected name format: LION_2024-07-19_xnas-itch.parquet\n",
      "Warning: Skipping file with unexpected name format: LION_2024-07-22_xnas-itch.parquet\n",
      "Warning: Skipping file with unexpected name format: LION_2024-07-23_xnas-itch.parquet\n",
      "Warning: Skipping file with unexpected name format: LION_2024-07-24_xnas-itch.parquet\n",
      "Warning: Skipping file with unexpected name format: LION_2024-07-25_xnas-itch.parquet\n",
      "Warning: Skipping file with unexpected name format: LION_2024-07-26_xnas-itch.parquet\n",
      "Warning: Skipping file with unexpected name format: LION_2024-07-29_xnas-itch.parquet\n",
      "Warning: Skipping file with unexpected name format: LION_2024-07-30_xnas-itch.parquet\n",
      "Warning: Skipping file with unexpected name format: LION_2024-07-31_xnas-itch.parquet\n",
      "Warning: Skipping file with unexpected name format: LION_2024-08-01_xnas-itch.parquet\n",
      "Warning: Skipping file with unexpected name format: LION_2024-08-02_xnas-itch.parquet\n",
      "Warning: Skipping file with unexpected name format: LION_2024-08-05_xnas-itch.parquet\n",
      "Warning: Skipping file with unexpected name format: LION_2024-08-06_xnas-itch.parquet\n",
      "Warning: Skipping file with unexpected name format: LION_2024-08-07_xnas-itch.parquet\n",
      "Warning: Skipping file with unexpected name format: LION_2024-08-08_xnas-itch.parquet\n",
      "Warning: Skipping file with unexpected name format: LION_2024-08-09_xnas-itch.parquet\n",
      "Warning: Skipping file with unexpected name format: LION_2024-08-12_xnas-itch.parquet\n",
      "Warning: Skipping file with unexpected name format: LION_2024-08-13_xnas-itch.parquet\n",
      "Warning: Skipping file with unexpected name format: LION_2024-08-14_xnas-itch.parquet\n",
      "Warning: Skipping file with unexpected name format: LION_2024-08-15_xnas-itch.parquet\n",
      "Warning: Skipping file with unexpected name format: LION_2024-08-16_xnas-itch.parquet\n",
      "Warning: Skipping file with unexpected name format: LION_2024-08-19_xnas-itch.parquet\n",
      "Warning: Skipping file with unexpected name format: LION_2024-08-20_xnas-itch.parquet\n",
      "Warning: Skipping file with unexpected name format: LION_2024-08-21_xnas-itch.parquet\n",
      "Warning: Skipping file with unexpected name format: LION_2024-08-22_xnas-itch.parquet\n",
      "Warning: Skipping file with unexpected name format: LION_2024-08-23_xnas-itch.parquet\n",
      "Warning: Skipping file with unexpected name format: LION_2024-08-26_xnas-itch.parquet\n",
      "Warning: Skipping file with unexpected name format: LION_2024-08-27_xnas-itch.parquet\n",
      "Warning: Skipping file with unexpected name format: LION_2024-08-28_xnas-itch.parquet\n",
      "Warning: Skipping file with unexpected name format: LION_2024-08-29_xnas-itch.parquet\n",
      "Warning: Skipping file with unexpected name format: LION_2024-08-30_xnas-itch.parquet\n",
      "Warning: Skipping file with unexpected name format: LION_2024-09-03_xnas-itch.parquet\n",
      "Warning: Skipping file with unexpected name format: LION_2024-09-04_xnas-itch.parquet\n",
      "Warning: Skipping file with unexpected name format: LION_2024-09-05_xnas-itch.parquet\n",
      "Warning: Skipping file with unexpected name format: LION_2024-09-06_xnas-itch.parquet\n",
      "Warning: Skipping file with unexpected name format: LION_2024-09-09_xnas-itch.parquet\n",
      "Warning: Skipping file with unexpected name format: LION_2024-09-10_xnas-itch.parquet\n",
      "Warning: Skipping file with unexpected name format: LION_2024-09-11_xnas-itch.parquet\n",
      "Warning: Skipping file with unexpected name format: LION_2024-09-12_xnas-itch.parquet\n",
      "Warning: Skipping file with unexpected name format: LION_2024-09-13_xnas-itch.parquet\n",
      "Warning: Skipping file with unexpected name format: LION_2024-09-16_xnas-itch.parquet\n",
      "Warning: Skipping file with unexpected name format: LION_2024-09-17_xnas-itch.parquet\n",
      "Warning: Skipping file with unexpected name format: LION_2024-09-18_xnas-itch.parquet\n",
      "Warning: Skipping file with unexpected name format: LION_2024-09-19_xnas-itch.parquet\n",
      "Warning: Skipping file with unexpected name format: LION_2024-09-20_xnas-itch.parquet\n",
      "Warning: Skipping file with unexpected name format: LION_2024-09-23_xnas-itch.parquet\n",
      "Warning: Skipping file with unexpected name format: LION_2024-09-24_xnas-itch.parquet\n",
      "Warning: Skipping file with unexpected name format: LION_2024-09-25_xnas-itch.parquet\n",
      "Warning: Skipping file with unexpected name format: LION_2024-09-26_xnas-itch.parquet\n",
      "Warning: Skipping file with unexpected name format: LION_2024-09-27_xnas-itch.parquet\n",
      "Warning: Skipping file with unexpected name format: LION_2024-09-30_xnas-itch.parquet\n",
      "Warning: Skipping file with unexpected name format: LION_2024-10-01_xnas-itch.parquet\n",
      "Warning: Skipping file with unexpected name format: LION_2024-10-02_xnas-itch.parquet\n",
      "Warning: Skipping file with unexpected name format: LION_2024-10-03_xnas-itch.parquet\n",
      "Warning: Skipping file with unexpected name format: LION_2024-10-04_xnas-itch.parquet\n",
      "Warning: Skipping file with unexpected name format: LION_2024-10-07_xnas-itch.parquet\n",
      "Warning: Skipping file with unexpected name format: LION_2024-10-08_xnas-itch.parquet\n",
      "Warning: Skipping file with unexpected name format: LION_2024-10-09_xnas-itch.parquet\n",
      "Warning: Skipping file with unexpected name format: LION_2024-10-10_xnas-itch.parquet\n",
      "Warning: Skipping file with unexpected name format: LION_2024-10-11_xnas-itch.parquet\n",
      "Warning: Skipping file with unexpected name format: LION_2024-10-14_xnas-itch.parquet\n",
      "Warning: Skipping file with unexpected name format: LION_2024-10-15_xnas-itch.parquet\n",
      "Warning: Skipping file with unexpected name format: LION_2024-10-16_xnas-itch.parquet\n",
      "Warning: Skipping file with unexpected name format: LION_2024-10-17_xnas-itch.parquet\n",
      "Warning: Skipping file with unexpected name format: LION_2024-10-18_xnas-itch.parquet\n",
      "Warning: Skipping file with unexpected name format: LION_2024-10-21_xnas-itch.parquet\n",
      "Warning: Skipping file with unexpected name format: LION_2024-10-22_xnas-itch.parquet\n",
      "Warning: Skipping file with unexpected name format: LION_2024-10-23_xnas-itch.parquet\n",
      "Warning: Skipping file with unexpected name format: LION_2024-10-24_xnas-itch.parquet\n",
      "Warning: Skipping file with unexpected name format: LION_2024-10-25_xnas-itch.parquet\n",
      "Warning: Skipping file with unexpected name format: LION_2024-10-28_xnas-itch.parquet\n",
      "Warning: Skipping file with unexpected name format: LION_2024-10-29_xnas-itch.parquet\n",
      "Warning: Skipping file with unexpected name format: LION_2024-10-30_xnas-itch.parquet\n",
      "Warning: Skipping file with unexpected name format: LION_2024-10-31_xnas-itch.parquet\n",
      "Warning: Skipping file with unexpected name format: LION_2024-11-01_xnas-itch.parquet\n",
      "Warning: Skipping file with unexpected name format: LION_2024-11-04_xnas-itch.parquet\n",
      "Warning: Skipping file with unexpected name format: LION_2024-11-05_xnas-itch.parquet\n",
      "Warning: Skipping file with unexpected name format: LION_2024-11-06_xnas-itch.parquet\n",
      "Warning: Skipping file with unexpected name format: LION_2024-11-07_xnas-itch.parquet\n",
      "Warning: Skipping file with unexpected name format: LION_2024-11-08_xnas-itch.parquet\n",
      "Warning: Skipping file with unexpected name format: LION_2024-11-11_xnas-itch.parquet\n",
      "Warning: Skipping file with unexpected name format: LION_2024-11-12_xnas-itch.parquet\n",
      "Warning: Skipping file with unexpected name format: LION_2024-11-13_xnas-itch.parquet\n",
      "Warning: Skipping file with unexpected name format: LION_2024-11-14_xnas-itch.parquet\n",
      "Warning: Skipping file with unexpected name format: LION_2024-11-15_xnas-itch.parquet\n",
      "Warning: Skipping file with unexpected name format: LION_2024-11-18_xnas-itch.parquet\n",
      "Warning: Skipping file with unexpected name format: LION_2024-11-19_xnas-itch.parquet\n",
      "Warning: Skipping file with unexpected name format: LION_2024-11-20_xnas-itch.parquet\n",
      "Warning: Skipping file with unexpected name format: LION_2024-11-21_xnas-itch.parquet\n",
      "Warning: Skipping file with unexpected name format: LION_2024-11-22_xnas-itch.parquet\n",
      "Warning: Skipping file with unexpected name format: LION_2024-11-25_xnas-itch.parquet\n",
      "Warning: Skipping file with unexpected name format: LION_2024-11-26_xnas-itch.parquet\n",
      "Warning: Skipping file with unexpected name format: LION_2024-11-27_xnas-itch.parquet\n",
      "Warning: Skipping file with unexpected name format: LION_2024-11-29_xnas-itch.parquet\n",
      "Warning: Skipping file with unexpected name format: LION_2024-12-02_xnas-itch.parquet\n",
      "Warning: Skipping file with unexpected name format: LION_2024-12-03_xnas-itch.parquet\n",
      "Warning: Skipping file with unexpected name format: LION_2024-12-04_xnas-itch.parquet\n",
      "Warning: Skipping file with unexpected name format: LION_2024-12-05_xnas-itch.parquet\n",
      "Warning: Skipping file with unexpected name format: LION_2024-12-06_xnas-itch.parquet\n",
      "Warning: Skipping file with unexpected name format: LION_2024-12-09_xnas-itch.parquet\n",
      "Warning: Skipping file with unexpected name format: LION_2024-12-10_xnas-itch.parquet\n",
      "Warning: Skipping file with unexpected name format: LION_2024-12-11_xnas-itch.parquet\n",
      "Warning: Skipping file with unexpected name format: LION_2024-12-12_xnas-itch.parquet\n",
      "Warning: Skipping file with unexpected name format: LION_2024-12-13_xnas-itch.parquet\n",
      "Warning: Skipping file with unexpected name format: LION_2024-12-16_xnas-itch.parquet\n",
      "Warning: Skipping file with unexpected name format: ASAI_2024-06-24_dbeq-basic.parquet\n",
      "Warning: Skipping file with unexpected name format: ASAI_2024-06-25_dbeq-basic.parquet\n",
      "Warning: Skipping file with unexpected name format: ASAI_2024-06-26_dbeq-basic.parquet\n",
      "Warning: Skipping file with unexpected name format: ASAI_2024-06-27_dbeq-basic.parquet\n",
      "Warning: Skipping file with unexpected name format: ASAI_2024-06-28_dbeq-basic.parquet\n",
      "Warning: Skipping file with unexpected name format: ASAI_2024-07-01_dbeq-basic.parquet\n",
      "Warning: Skipping file with unexpected name format: ASAI_2024-07-02_dbeq-basic.parquet\n",
      "Warning: Skipping file with unexpected name format: ASAI_2024-07-03_dbeq-basic.parquet\n",
      "Warning: Skipping file with unexpected name format: ASAI_2024-07-05_dbeq-basic.parquet\n",
      "Warning: Skipping file with unexpected name format: ASAI_2024-07-08_dbeq-basic.parquet\n",
      "Warning: Skipping file with unexpected name format: ASAI_2024-07-09_dbeq-basic.parquet\n",
      "Warning: Skipping file with unexpected name format: ASAI_2024-07-10_dbeq-basic.parquet\n",
      "Warning: Skipping file with unexpected name format: ASAI_2024-07-11_dbeq-basic.parquet\n",
      "Warning: Skipping file with unexpected name format: ASAI_2024-07-12_dbeq-basic.parquet\n",
      "Warning: Skipping file with unexpected name format: ASAI_2024-07-15_dbeq-basic.parquet\n",
      "Warning: Skipping file with unexpected name format: ASAI_2024-07-16_dbeq-basic.parquet\n",
      "Warning: Skipping file with unexpected name format: ASAI_2024-07-17_dbeq-basic.parquet\n",
      "Warning: Skipping file with unexpected name format: ASAI_2024-07-18_dbeq-basic.parquet\n",
      "Warning: Skipping file with unexpected name format: ASAI_2024-07-19_dbeq-basic.parquet\n",
      "Warning: Skipping file with unexpected name format: ASAI_2024-07-22_dbeq-basic.parquet\n",
      "Warning: Skipping file with unexpected name format: ASAI_2024-07-23_dbeq-basic.parquet\n",
      "Warning: Skipping file with unexpected name format: ASAI_2024-07-24_dbeq-basic.parquet\n",
      "Warning: Skipping file with unexpected name format: ASAI_2024-07-25_dbeq-basic.parquet\n",
      "Warning: Skipping file with unexpected name format: ASAI_2024-07-26_dbeq-basic.parquet\n",
      "Warning: Skipping file with unexpected name format: ASAI_2024-07-29_dbeq-basic.parquet\n",
      "Warning: Skipping file with unexpected name format: ASAI_2024-07-30_dbeq-basic.parquet\n",
      "Warning: Skipping file with unexpected name format: ASAI_2024-07-31_dbeq-basic.parquet\n",
      "Warning: Skipping file with unexpected name format: ASAI_2024-08-01_dbeq-basic.parquet\n",
      "Warning: Skipping file with unexpected name format: ASAI_2024-08-02_dbeq-basic.parquet\n",
      "Warning: Skipping file with unexpected name format: ASAI_2024-08-05_dbeq-basic.parquet\n",
      "Warning: Skipping file with unexpected name format: ASAI_2024-08-06_dbeq-basic.parquet\n",
      "Warning: Skipping file with unexpected name format: ASAI_2024-08-07_dbeq-basic.parquet\n",
      "Warning: Skipping file with unexpected name format: ASAI_2024-08-08_dbeq-basic.parquet\n",
      "Warning: Skipping file with unexpected name format: ASAI_2024-08-09_dbeq-basic.parquet\n",
      "Warning: Skipping file with unexpected name format: ASAI_2024-08-12_dbeq-basic.parquet\n",
      "Warning: Skipping file with unexpected name format: ASAI_2024-08-13_dbeq-basic.parquet\n",
      "Warning: Skipping file with unexpected name format: ASAI_2024-08-14_dbeq-basic.parquet\n",
      "Warning: Skipping file with unexpected name format: ASAI_2024-08-15_dbeq-basic.parquet\n",
      "Warning: Skipping file with unexpected name format: ASAI_2024-08-16_dbeq-basic.parquet\n",
      "Warning: Skipping file with unexpected name format: ASAI_2024-08-19_dbeq-basic.parquet\n",
      "Warning: Skipping file with unexpected name format: ASAI_2024-08-20_dbeq-basic.parquet\n",
      "Warning: Skipping file with unexpected name format: ASAI_2024-08-21_dbeq-basic.parquet\n",
      "Warning: Skipping file with unexpected name format: ASAI_2024-08-22_dbeq-basic.parquet\n",
      "Warning: Skipping file with unexpected name format: ASAI_2024-08-23_dbeq-basic.parquet\n",
      "Warning: Skipping file with unexpected name format: ASAI_2024-08-26_dbeq-basic.parquet\n",
      "Warning: Skipping file with unexpected name format: ASAI_2024-08-27_dbeq-basic.parquet\n",
      "Warning: Skipping file with unexpected name format: ASAI_2024-08-28_dbeq-basic.parquet\n",
      "Warning: Skipping file with unexpected name format: ASAI_2024-08-29_dbeq-basic.parquet\n",
      "Warning: Skipping file with unexpected name format: ASAI_2024-08-30_dbeq-basic.parquet\n",
      "Warning: Skipping file with unexpected name format: ASAI_2024-09-03_dbeq-basic.parquet\n",
      "Warning: Skipping file with unexpected name format: ASAI_2024-09-04_dbeq-basic.parquet\n",
      "Warning: Skipping file with unexpected name format: ASAI_2024-09-05_dbeq-basic.parquet\n",
      "Warning: Skipping file with unexpected name format: ASAI_2024-09-06_dbeq-basic.parquet\n",
      "Warning: Skipping file with unexpected name format: ASAI_2024-09-09_dbeq-basic.parquet\n",
      "Warning: Skipping file with unexpected name format: ASAI_2024-09-10_dbeq-basic.parquet\n",
      "Warning: Skipping file with unexpected name format: ASAI_2024-09-11_dbeq-basic.parquet\n",
      "Warning: Skipping file with unexpected name format: ASAI_2024-09-12_dbeq-basic.parquet\n",
      "Warning: Skipping file with unexpected name format: ASAI_2024-09-13_dbeq-basic.parquet\n",
      "Warning: Skipping file with unexpected name format: ASAI_2024-09-16_dbeq-basic.parquet\n",
      "Warning: Skipping file with unexpected name format: ASAI_2024-09-17_dbeq-basic.parquet\n",
      "Warning: Skipping file with unexpected name format: ASAI_2024-09-18_dbeq-basic.parquet\n",
      "Warning: Skipping file with unexpected name format: ASAI_2024-09-19_dbeq-basic.parquet\n",
      "Warning: Skipping file with unexpected name format: ASAI_2024-09-20_dbeq-basic.parquet\n",
      "Warning: Skipping file with unexpected name format: ASAI_2024-09-23_dbeq-basic.parquet\n",
      "Warning: Skipping file with unexpected name format: PBI_2024-06-24_dbeq-basic.parquet\n",
      "Warning: Skipping file with unexpected name format: PBI_2024-06-25_dbeq-basic.parquet\n",
      "Warning: Skipping file with unexpected name format: PBI_2024-06-26_dbeq-basic.parquet\n",
      "Warning: Skipping file with unexpected name format: PBI_2024-06-27_dbeq-basic.parquet\n",
      "Warning: Skipping file with unexpected name format: PBI_2024-06-28_dbeq-basic.parquet\n",
      "Warning: Skipping file with unexpected name format: PBI_2024-07-01_dbeq-basic.parquet\n",
      "Warning: Skipping file with unexpected name format: PBI_2024-07-02_dbeq-basic.parquet\n",
      "Warning: Skipping file with unexpected name format: PBI_2024-07-03_dbeq-basic.parquet\n",
      "Warning: Skipping file with unexpected name format: PBI_2024-07-05_dbeq-basic.parquet\n",
      "Warning: Skipping file with unexpected name format: PBI_2024-07-08_dbeq-basic.parquet\n",
      "Warning: Skipping file with unexpected name format: PBI_2024-07-09_dbeq-basic.parquet\n",
      "Warning: Skipping file with unexpected name format: PBI_2024-07-10_dbeq-basic.parquet\n",
      "Warning: Skipping file with unexpected name format: PBI_2024-07-11_dbeq-basic.parquet\n",
      "Warning: Skipping file with unexpected name format: PBI_2024-07-12_dbeq-basic.parquet\n",
      "Warning: Skipping file with unexpected name format: PBI_2024-07-15_dbeq-basic.parquet\n",
      "Warning: Skipping file with unexpected name format: PBI_2024-07-16_dbeq-basic.parquet\n",
      "Warning: Skipping file with unexpected name format: PBI_2024-07-17_dbeq-basic.parquet\n",
      "Warning: Skipping file with unexpected name format: PBI_2024-07-18_dbeq-basic.parquet\n",
      "Warning: Skipping file with unexpected name format: PBI_2024-07-19_dbeq-basic.parquet\n",
      "Warning: Skipping file with unexpected name format: PBI_2024-07-22_dbeq-basic.parquet\n",
      "Warning: Skipping file with unexpected name format: PBI_2024-07-23_dbeq-basic.parquet\n",
      "Warning: Skipping file with unexpected name format: PBI_2024-07-24_dbeq-basic.parquet\n",
      "Warning: Skipping file with unexpected name format: PBI_2024-07-25_dbeq-basic.parquet\n",
      "Warning: Skipping file with unexpected name format: PBI_2024-07-26_dbeq-basic.parquet\n",
      "Warning: Skipping file with unexpected name format: PBI_2024-07-29_dbeq-basic.parquet\n",
      "Warning: Skipping file with unexpected name format: PBI_2024-07-30_dbeq-basic.parquet\n",
      "Warning: Skipping file with unexpected name format: PBI_2024-07-31_dbeq-basic.parquet\n",
      "Warning: Skipping file with unexpected name format: PBI_2024-08-01_dbeq-basic.parquet\n",
      "Warning: Skipping file with unexpected name format: PBI_2024-08-02_dbeq-basic.parquet\n",
      "Warning: Skipping file with unexpected name format: PBI_2024-08-05_dbeq-basic.parquet\n",
      "Warning: Skipping file with unexpected name format: PBI_2024-08-06_dbeq-basic.parquet\n",
      "Warning: Skipping file with unexpected name format: PBI_2024-08-07_dbeq-basic.parquet\n",
      "Warning: Skipping file with unexpected name format: PBI_2024-08-08_dbeq-basic.parquet\n",
      "Warning: Skipping file with unexpected name format: PBI_2024-08-09_dbeq-basic.parquet\n",
      "Warning: Skipping file with unexpected name format: PBI_2024-08-12_dbeq-basic.parquet\n",
      "Warning: Skipping file with unexpected name format: PBI_2024-08-13_dbeq-basic.parquet\n",
      "Warning: Skipping file with unexpected name format: PBI_2024-08-14_dbeq-basic.parquet\n",
      "Warning: Skipping file with unexpected name format: PBI_2024-08-15_dbeq-basic.parquet\n",
      "Warning: Skipping file with unexpected name format: PBI_2024-08-16_dbeq-basic.parquet\n",
      "Warning: Skipping file with unexpected name format: PBI_2024-08-19_dbeq-basic.parquet\n",
      "Warning: Skipping file with unexpected name format: PBI_2024-08-20_dbeq-basic.parquet\n",
      "Warning: Skipping file with unexpected name format: PBI_2024-08-21_dbeq-basic.parquet\n",
      "Warning: Skipping file with unexpected name format: PBI_2024-08-22_dbeq-basic.parquet\n",
      "Warning: Skipping file with unexpected name format: PBI_2024-08-23_dbeq-basic.parquet\n",
      "Warning: Skipping file with unexpected name format: PBI_2024-08-26_dbeq-basic.parquet\n",
      "Warning: Skipping file with unexpected name format: PBI_2024-08-27_dbeq-basic.parquet\n",
      "Warning: Skipping file with unexpected name format: PBI_2024-08-28_dbeq-basic.parquet\n",
      "Warning: Skipping file with unexpected name format: PBI_2024-08-29_dbeq-basic.parquet\n",
      "Warning: Skipping file with unexpected name format: PBI_2024-08-30_dbeq-basic.parquet\n",
      "Warning: Skipping file with unexpected name format: PBI_2024-09-03_dbeq-basic.parquet\n",
      "Warning: Skipping file with unexpected name format: PBI_2024-09-04_dbeq-basic.parquet\n",
      "Warning: Skipping file with unexpected name format: PBI_2024-09-05_dbeq-basic.parquet\n",
      "Warning: Skipping file with unexpected name format: PBI_2024-09-06_dbeq-basic.parquet\n",
      "Warning: Skipping file with unexpected name format: PBI_2024-09-09_dbeq-basic.parquet\n",
      "Warning: Skipping file with unexpected name format: PBI_2024-09-10_dbeq-basic.parquet\n",
      "Warning: Skipping file with unexpected name format: PBI_2024-09-11_dbeq-basic.parquet\n",
      "Warning: Skipping file with unexpected name format: PBI_2024-09-12_dbeq-basic.parquet\n",
      "Warning: Skipping file with unexpected name format: PBI_2024-09-13_dbeq-basic.parquet\n",
      "Warning: Skipping file with unexpected name format: PBI_2024-09-16_dbeq-basic.parquet\n",
      "Warning: Skipping file with unexpected name format: PBI_2024-09-17_dbeq-basic.parquet\n",
      "Warning: Skipping file with unexpected name format: PBI_2024-09-18_dbeq-basic.parquet\n",
      "Warning: Skipping file with unexpected name format: PBI_2024-09-19_dbeq-basic.parquet\n",
      "Warning: Skipping file with unexpected name format: PBI_2024-09-20_dbeq-basic.parquet\n",
      "Warning: Skipping file with unexpected name format: PBI_2024-09-23_dbeq-basic.parquet\n",
      "Warning: Skipping file with unexpected name format: MSFT_2024-10-01_xnas-itch.parquet\n",
      "Warning: Skipping file with unexpected name format: MSFT_2024-10-02_xnas-itch.parquet\n",
      "Warning: Skipping file with unexpected name format: MSFT_2024-10-03_xnas-itch.parquet\n",
      "Warning: Skipping file with unexpected name format: MSFT_2024-10-04_xnas-itch.parquet\n",
      "Warning: Skipping file with unexpected name format: MSFT_2024-10-07_xnas-itch.parquet\n",
      "Warning: Skipping file with unexpected name format: MSFT_2024-10-08_xnas-itch.parquet\n",
      "Warning: Skipping file with unexpected name format: MSFT_2024-10-09_xnas-itch.parquet\n",
      "Warning: Skipping file with unexpected name format: MSFT_2024-10-10_xnas-itch.parquet\n",
      "Warning: Skipping file with unexpected name format: MSFT_2024-10-11_xnas-itch.parquet\n",
      "Warning: Skipping file with unexpected name format: MSFT_2024-10-14_xnas-itch.parquet\n",
      "Warning: Skipping file with unexpected name format: MSFT_2024-10-15_xnas-itch.parquet\n",
      "Warning: Skipping file with unexpected name format: MSFT_2024-10-16_xnas-itch.parquet\n",
      "Warning: Skipping file with unexpected name format: MSFT_2024-10-17_xnas-itch.parquet\n",
      "Warning: Skipping file with unexpected name format: MSFT_2024-10-18_xnas-itch.parquet\n",
      "Warning: Skipping file with unexpected name format: MSFT_2024-10-21_xnas-itch.parquet\n",
      "Warning: Skipping file with unexpected name format: MSFT_2024-10-22_xnas-itch.parquet\n",
      "Warning: Skipping file with unexpected name format: MSFT_2024-10-23_xnas-itch.parquet\n",
      "Warning: Skipping file with unexpected name format: MSFT_2024-10-24_xnas-itch.parquet\n",
      "Warning: Skipping file with unexpected name format: MSFT_2024-10-25_xnas-itch.parquet\n",
      "Warning: Skipping file with unexpected name format: MSFT_2024-10-28_xnas-itch.parquet\n",
      "Warning: Skipping file with unexpected name format: MSFT_2024-10-29_xnas-itch.parquet\n",
      "Warning: Skipping file with unexpected name format: MSFT_2024-10-30_xnas-itch.parquet\n",
      "Warning: Skipping file with unexpected name format: MSFT_2024-10-31_xnas-itch.parquet\n",
      "Warning: Skipping file with unexpected name format: MSFT_2024-11-01_xnas-itch.parquet\n",
      "Warning: Skipping file with unexpected name format: MSFT_2024-11-04_xnas-itch.parquet\n",
      "Warning: Skipping file with unexpected name format: MSFT_2024-11-05_xnas-itch.parquet\n",
      "Warning: Skipping file with unexpected name format: MSFT_2024-11-06_xnas-itch.parquet\n",
      "Warning: Skipping file with unexpected name format: MSFT_2024-11-07_xnas-itch.parquet\n",
      "Warning: Skipping file with unexpected name format: MSFT_2024-11-08_xnas-itch.parquet\n",
      "Warning: Skipping file with unexpected name format: MSFT_2024-11-11_xnas-itch.parquet\n",
      "Warning: Skipping file with unexpected name format: MSFT_2024-11-12_xnas-itch.parquet\n",
      "Warning: Skipping file with unexpected name format: MSFT_2024-11-13_xnas-itch.parquet\n",
      "Warning: Skipping file with unexpected name format: MSFT_2024-11-14_xnas-itch.parquet\n",
      "Warning: Skipping file with unexpected name format: MSFT_2024-11-15_xnas-itch.parquet\n",
      "Warning: Skipping file with unexpected name format: MSFT_2024-11-18_xnas-itch.parquet\n",
      "Warning: Skipping file with unexpected name format: MSFT_2024-11-19_xnas-itch.parquet\n",
      "Warning: Skipping file with unexpected name format: MSFT_2024-11-20_xnas-itch.parquet\n",
      "Warning: Skipping file with unexpected name format: MSFT_2024-11-21_xnas-itch.parquet\n",
      "Warning: Skipping file with unexpected name format: MSFT_2024-11-22_xnas-itch.parquet\n",
      "Warning: Skipping file with unexpected name format: MSFT_2024-11-25_xnas-itch.parquet\n",
      "Warning: Skipping file with unexpected name format: MSFT_2024-11-26_xnas-itch.parquet\n",
      "Warning: Skipping file with unexpected name format: MSFT_2024-11-27_xnas-itch.parquet\n",
      "Warning: Skipping file with unexpected name format: MSFT_2024-11-29_xnas-itch.parquet\n",
      "Warning: Skipping file with unexpected name format: MSFT_2024-12-02_xnas-itch.parquet\n",
      "Warning: Skipping file with unexpected name format: MSFT_2024-12-03_xnas-itch.parquet\n",
      "Warning: Skipping file with unexpected name format: MSFT_2024-12-04_xnas-itch.parquet\n",
      "Warning: Skipping file with unexpected name format: MSFT_2024-12-05_xnas-itch.parquet\n",
      "Warning: Skipping file with unexpected name format: MSFT_2024-12-06_xnas-itch.parquet\n",
      "Warning: Skipping file with unexpected name format: MSFT_2024-12-09_xnas-itch.parquet\n",
      "Warning: Skipping file with unexpected name format: MSFT_2024-12-10_xnas-itch.parquet\n",
      "Warning: Skipping file with unexpected name format: MSFT_2024-12-11_xnas-itch.parquet\n",
      "Warning: Skipping file with unexpected name format: MSFT_2024-12-12_xnas-itch.parquet\n",
      "Warning: Skipping file with unexpected name format: MSFT_2024-12-13_xnas-itch.parquet\n",
      "Warning: Skipping file with unexpected name format: MSFT_2024-12-16_xnas-itch.parquet\n",
      "Warning: Skipping file with unexpected name format: PTEN_2023-07-17_xnas-itch.parquet\n",
      "Warning: Skipping file with unexpected name format: PTEN_2023-07-18_xnas-itch.parquet\n",
      "Warning: Skipping file with unexpected name format: PTEN_2023-07-19_xnas-itch.parquet\n",
      "Warning: Skipping file with unexpected name format: PTEN_2023-07-20_xnas-itch.parquet\n",
      "Warning: Skipping file with unexpected name format: PTEN_2023-07-21_xnas-itch.parquet\n",
      "Warning: Skipping file with unexpected name format: PTEN_2023-07-24_xnas-itch.parquet\n",
      "Warning: Skipping file with unexpected name format: PTEN_2023-07-25_xnas-itch.parquet\n",
      "Warning: Skipping file with unexpected name format: PTEN_2023-07-26_xnas-itch.parquet\n",
      "Warning: Skipping file with unexpected name format: PTEN_2023-07-27_xnas-itch.parquet\n",
      "Warning: Skipping file with unexpected name format: PTEN_2023-07-28_xnas-itch.parquet\n",
      "Warning: Skipping file with unexpected name format: PTEN_2023-07-31_xnas-itch.parquet\n",
      "Warning: Skipping file with unexpected name format: PTEN_2023-08-01_xnas-itch.parquet\n",
      "Warning: Skipping file with unexpected name format: PTEN_2023-08-02_xnas-itch.parquet\n",
      "Warning: Skipping file with unexpected name format: PTEN_2023-08-03_xnas-itch.parquet\n",
      "Warning: Skipping file with unexpected name format: PTEN_2023-08-04_xnas-itch.parquet\n",
      "Warning: Skipping file with unexpected name format: PTEN_2023-08-07_xnas-itch.parquet\n",
      "Warning: Skipping file with unexpected name format: PTEN_2023-08-08_xnas-itch.parquet\n",
      "Warning: Skipping file with unexpected name format: PTEN_2023-08-09_xnas-itch.parquet\n",
      "Warning: Skipping file with unexpected name format: PTEN_2023-08-10_xnas-itch.parquet\n",
      "Warning: Skipping file with unexpected name format: PTEN_2023-08-11_xnas-itch.parquet\n",
      "Warning: Skipping file with unexpected name format: PTEN_2023-08-14_xnas-itch.parquet\n",
      "Warning: Skipping file with unexpected name format: PTEN_2023-08-15_xnas-itch.parquet\n",
      "Warning: Skipping file with unexpected name format: PTEN_2023-08-16_xnas-itch.parquet\n",
      "Warning: Skipping file with unexpected name format: PTEN_2023-08-17_xnas-itch.parquet\n",
      "Warning: Skipping file with unexpected name format: PTEN_2023-08-18_xnas-itch.parquet\n",
      "Warning: Skipping file with unexpected name format: PTEN_2023-08-21_xnas-itch.parquet\n",
      "Warning: Skipping file with unexpected name format: PTEN_2023-08-22_xnas-itch.parquet\n",
      "Warning: Skipping file with unexpected name format: PTEN_2023-08-23_xnas-itch.parquet\n",
      "Warning: Skipping file with unexpected name format: PTEN_2023-08-24_xnas-itch.parquet\n",
      "Warning: Skipping file with unexpected name format: PTEN_2023-08-25_xnas-itch.parquet\n",
      "Warning: Skipping file with unexpected name format: PTEN_2023-08-28_xnas-itch.parquet\n",
      "Warning: Skipping file with unexpected name format: PTEN_2023-08-29_xnas-itch.parquet\n",
      "Warning: Skipping file with unexpected name format: PTEN_2023-08-30_xnas-itch.parquet\n",
      "Warning: Skipping file with unexpected name format: PTEN_2023-08-31_xnas-itch.parquet\n",
      "Warning: Skipping file with unexpected name format: PTEN_2023-09-01_xnas-itch.parquet\n",
      "Warning: Skipping file with unexpected name format: PTEN_2023-09-05_xnas-itch.parquet\n",
      "Warning: Skipping file with unexpected name format: PTEN_2023-09-06_xnas-itch.parquet\n",
      "Warning: Skipping file with unexpected name format: PTEN_2023-09-07_xnas-itch.parquet\n",
      "Warning: Skipping file with unexpected name format: PTEN_2023-09-08_xnas-itch.parquet\n",
      "Warning: Skipping file with unexpected name format: PTEN_2023-09-11_xnas-itch.parquet\n",
      "Warning: Skipping file with unexpected name format: PTEN_2023-09-12_xnas-itch.parquet\n",
      "Warning: Skipping file with unexpected name format: PTEN_2023-09-13_xnas-itch.parquet\n",
      "Warning: Skipping file with unexpected name format: PTEN_2023-09-14_xnas-itch.parquet\n",
      "Warning: Skipping file with unexpected name format: PTEN_2023-09-15_xnas-itch.parquet\n",
      "Warning: Skipping file with unexpected name format: PTEN_2023-09-18_xnas-itch.parquet\n",
      "Warning: Skipping file with unexpected name format: PTEN_2023-09-19_xnas-itch.parquet\n",
      "Warning: Skipping file with unexpected name format: PTEN_2023-09-20_xnas-itch.parquet\n",
      "Warning: Skipping file with unexpected name format: PTEN_2023-09-21_xnas-itch.parquet\n",
      "Warning: Skipping file with unexpected name format: PTEN_2023-09-22_xnas-itch.parquet\n",
      "Warning: Skipping file with unexpected name format: PTEN_2023-09-25_xnas-itch.parquet\n",
      "Warning: Skipping file with unexpected name format: PTEN_2023-09-26_xnas-itch.parquet\n",
      "Warning: Skipping file with unexpected name format: PTEN_2023-09-27_xnas-itch.parquet\n",
      "Warning: Skipping file with unexpected name format: PTEN_2023-09-28_xnas-itch.parquet\n",
      "Warning: Skipping file with unexpected name format: PTEN_2023-09-29_xnas-itch.parquet\n",
      "Warning: Skipping file with unexpected name format: PTEN_2023-10-02_xnas-itch.parquet\n",
      "Warning: Skipping file with unexpected name format: PTEN_2023-10-03_xnas-itch.parquet\n",
      "Warning: Skipping file with unexpected name format: PTEN_2023-10-04_xnas-itch.parquet\n",
      "Warning: Skipping file with unexpected name format: PTEN_2023-10-05_xnas-itch.parquet\n",
      "Warning: Skipping file with unexpected name format: PTEN_2023-10-06_xnas-itch.parquet\n",
      "Warning: Skipping file with unexpected name format: PTEN_2023-10-09_xnas-itch.parquet\n",
      "Warning: Skipping file with unexpected name format: PTEN_2023-10-10_xnas-itch.parquet\n",
      "Warning: Skipping file with unexpected name format: PTEN_2023-10-11_xnas-itch.parquet\n",
      "Warning: Skipping file with unexpected name format: PTEN_2023-10-12_xnas-itch.parquet\n",
      "Warning: Skipping file with unexpected name format: PTEN_2023-10-13_xnas-itch.parquet\n",
      "Warning: Skipping file with unexpected name format: PTEN_2023-10-16_xnas-itch.parquet\n",
      "Warning: Skipping file with unexpected name format: PTEN_2023-10-17_xnas-itch.parquet\n",
      "Warning: Skipping file with unexpected name format: PTEN_2023-10-18_xnas-itch.parquet\n",
      "Warning: Skipping file with unexpected name format: PTEN_2023-10-19_xnas-itch.parquet\n",
      "Warning: Skipping file with unexpected name format: PTEN_2023-10-20_xnas-itch.parquet\n",
      "Warning: Skipping file with unexpected name format: PTEN_2023-10-23_xnas-itch.parquet\n",
      "Warning: Skipping file with unexpected name format: PTEN_2023-10-24_xnas-itch.parquet\n",
      "Warning: Skipping file with unexpected name format: PTEN_2023-10-25_xnas-itch.parquet\n",
      "Warning: Skipping file with unexpected name format: PTEN_2023-10-26_xnas-itch.parquet\n",
      "Warning: Skipping file with unexpected name format: PTEN_2023-10-27_xnas-itch.parquet\n",
      "Warning: Skipping file with unexpected name format: PTEN_2023-10-30_xnas-itch.parquet\n",
      "Warning: Skipping file with unexpected name format: PTEN_2023-10-31_xnas-itch.parquet\n",
      "Warning: Skipping file with unexpected name format: PTEN_2023-11-01_xnas-itch.parquet\n",
      "Warning: Skipping file with unexpected name format: PTEN_2023-11-02_xnas-itch.parquet\n",
      "Warning: Skipping file with unexpected name format: PTEN_2023-11-03_xnas-itch.parquet\n",
      "Warning: Skipping file with unexpected name format: PTEN_2023-11-06_xnas-itch.parquet\n",
      "Warning: Skipping file with unexpected name format: PTEN_2023-11-07_xnas-itch.parquet\n",
      "Warning: Skipping file with unexpected name format: PTEN_2023-11-08_xnas-itch.parquet\n",
      "Warning: Skipping file with unexpected name format: PTEN_2023-11-09_xnas-itch.parquet\n",
      "Warning: Skipping file with unexpected name format: PTEN_2023-11-10_xnas-itch.parquet\n",
      "Warning: Skipping file with unexpected name format: PTEN_2023-11-13_xnas-itch.parquet\n",
      "Warning: Skipping file with unexpected name format: PTEN_2023-11-14_xnas-itch.parquet\n",
      "Warning: Skipping file with unexpected name format: PTEN_2023-11-15_xnas-itch.parquet\n",
      "Warning: Skipping file with unexpected name format: PTEN_2023-11-16_xnas-itch.parquet\n",
      "Warning: Skipping file with unexpected name format: PTEN_2023-11-17_xnas-itch.parquet\n",
      "Warning: Skipping file with unexpected name format: PTEN_2023-11-20_xnas-itch.parquet\n",
      "Warning: Skipping file with unexpected name format: PTEN_2023-11-21_xnas-itch.parquet\n",
      "Warning: Skipping file with unexpected name format: PTEN_2023-11-22_xnas-itch.parquet\n",
      "Warning: Skipping file with unexpected name format: PTEN_2023-11-24_xnas-itch.parquet\n",
      "Warning: Skipping file with unexpected name format: PTEN_2023-11-27_xnas-itch.parquet\n",
      "Warning: Skipping file with unexpected name format: PTEN_2023-11-28_xnas-itch.parquet\n",
      "Warning: Skipping file with unexpected name format: PTEN_2023-11-29_xnas-itch.parquet\n",
      "Warning: Skipping file with unexpected name format: PTEN_2023-11-30_xnas-itch.parquet\n",
      "Warning: Skipping file with unexpected name format: PTEN_2023-12-01_xnas-itch.parquet\n",
      "Warning: Skipping file with unexpected name format: PTEN_2023-12-04_xnas-itch.parquet\n",
      "Warning: Skipping file with unexpected name format: PTEN_2023-12-05_xnas-itch.parquet\n",
      "Warning: Skipping file with unexpected name format: PTEN_2023-12-06_xnas-itch.parquet\n",
      "Warning: Skipping file with unexpected name format: PTEN_2023-12-07_xnas-itch.parquet\n",
      "Warning: Skipping file with unexpected name format: PTEN_2023-12-08_xnas-itch.parquet\n",
      "Warning: Skipping file with unexpected name format: PTEN_2023-12-11_xnas-itch.parquet\n",
      "Warning: Skipping file with unexpected name format: PTEN_2023-12-12_xnas-itch.parquet\n",
      "Warning: Skipping file with unexpected name format: PTEN_2023-12-13_xnas-itch.parquet\n",
      "Warning: Skipping file with unexpected name format: PTEN_2023-12-14_xnas-itch.parquet\n",
      "Warning: Skipping file with unexpected name format: PTEN_2023-12-15_xnas-itch.parquet\n",
      "Warning: Skipping file with unexpected name format: PTEN_2023-12-18_xnas-itch.parquet\n",
      "Warning: Skipping file with unexpected name format: PTEN_2023-12-19_xnas-itch.parquet\n",
      "Warning: Skipping file with unexpected name format: PTEN_2023-12-20_xnas-itch.parquet\n",
      "Warning: Skipping file with unexpected name format: PTEN_2023-12-21_xnas-itch.parquet\n",
      "Warning: Skipping file with unexpected name format: PTEN_2023-12-22_xnas-itch.parquet\n",
      "Warning: Skipping file with unexpected name format: PTEN_2023-12-26_xnas-itch.parquet\n",
      "Warning: Skipping file with unexpected name format: PTEN_2023-12-27_xnas-itch.parquet\n",
      "Warning: Skipping file with unexpected name format: PTEN_2023-12-28_xnas-itch.parquet\n",
      "Warning: Skipping file with unexpected name format: PTEN_2023-12-29_xnas-itch.parquet\n",
      "Warning: Skipping file with unexpected name format: PTEN_2024-01-02_xnas-itch.parquet\n",
      "Warning: Skipping file with unexpected name format: PTEN_2024-01-03_xnas-itch.parquet\n",
      "Warning: Skipping file with unexpected name format: PTEN_2024-01-04_xnas-itch.parquet\n",
      "Warning: Skipping file with unexpected name format: PTEN_2024-01-05_xnas-itch.parquet\n",
      "Warning: Skipping file with unexpected name format: PTEN_2024-01-08_xnas-itch.parquet\n",
      "Warning: Skipping file with unexpected name format: PTEN_2024-01-09_xnas-itch.parquet\n",
      "Warning: Skipping file with unexpected name format: PTEN_2024-01-10_xnas-itch.parquet\n",
      "Warning: Skipping file with unexpected name format: PTEN_2024-01-11_xnas-itch.parquet\n",
      "Warning: Skipping file with unexpected name format: PTEN_2024-01-12_xnas-itch.parquet\n",
      "Warning: Skipping file with unexpected name format: PTEN_2024-01-16_xnas-itch.parquet\n",
      "Warning: Skipping file with unexpected name format: PTEN_2024-01-17_xnas-itch.parquet\n",
      "Warning: Skipping file with unexpected name format: PTEN_2024-01-18_xnas-itch.parquet\n",
      "Warning: Skipping file with unexpected name format: PTEN_2024-01-19_xnas-itch.parquet\n",
      "Warning: Skipping file with unexpected name format: PTEN_2024-01-22_xnas-itch.parquet\n",
      "Warning: Skipping file with unexpected name format: PTEN_2024-01-23_xnas-itch.parquet\n",
      "Warning: Skipping file with unexpected name format: PTEN_2024-01-24_xnas-itch.parquet\n",
      "Warning: Skipping file with unexpected name format: PTEN_2024-01-25_xnas-itch.parquet\n",
      "Warning: Skipping file with unexpected name format: PTEN_2024-01-26_xnas-itch.parquet\n",
      "Warning: Skipping file with unexpected name format: PTEN_2024-01-29_xnas-itch.parquet\n",
      "Warning: Skipping file with unexpected name format: PTEN_2024-01-30_xnas-itch.parquet\n",
      "Warning: Skipping file with unexpected name format: PTEN_2024-01-31_xnas-itch.parquet\n",
      "Warning: Skipping file with unexpected name format: PTEN_2024-02-01_xnas-itch.parquet\n",
      "Warning: Skipping file with unexpected name format: PTEN_2024-02-02_xnas-itch.parquet\n",
      "Warning: Skipping file with unexpected name format: PTEN_2024-02-05_xnas-itch.parquet\n",
      "Warning: Skipping file with unexpected name format: PTEN_2024-02-06_xnas-itch.parquet\n",
      "Warning: Skipping file with unexpected name format: PTEN_2024-02-07_xnas-itch.parquet\n",
      "Warning: Skipping file with unexpected name format: PTEN_2024-02-08_xnas-itch.parquet\n",
      "Warning: Skipping file with unexpected name format: PTEN_2024-02-09_xnas-itch.parquet\n",
      "Warning: Skipping file with unexpected name format: PTEN_2024-02-12_xnas-itch.parquet\n",
      "Warning: Skipping file with unexpected name format: PTEN_2024-02-13_xnas-itch.parquet\n",
      "Warning: Skipping file with unexpected name format: PTEN_2024-02-14_xnas-itch.parquet\n",
      "Warning: Skipping file with unexpected name format: PTEN_2024-02-15_xnas-itch.parquet\n",
      "Warning: Skipping file with unexpected name format: PTEN_2024-02-16_xnas-itch.parquet\n",
      "Warning: Skipping file with unexpected name format: PTEN_2024-02-20_xnas-itch.parquet\n",
      "Warning: Skipping file with unexpected name format: PTEN_2024-02-21_xnas-itch.parquet\n",
      "Warning: Skipping file with unexpected name format: PTEN_2024-02-22_xnas-itch.parquet\n",
      "Warning: Skipping file with unexpected name format: PTEN_2024-02-23_xnas-itch.parquet\n",
      "Warning: Skipping file with unexpected name format: PTEN_2024-02-26_xnas-itch.parquet\n",
      "Warning: Skipping file with unexpected name format: PTEN_2024-02-27_xnas-itch.parquet\n",
      "Warning: Skipping file with unexpected name format: PTEN_2024-02-28_xnas-itch.parquet\n",
      "Warning: Skipping file with unexpected name format: PTEN_2024-02-29_xnas-itch.parquet\n",
      "Warning: Skipping file with unexpected name format: PTEN_2024-03-01_xnas-itch.parquet\n",
      "Warning: Skipping file with unexpected name format: PTEN_2024-03-04_xnas-itch.parquet\n",
      "Warning: Skipping file with unexpected name format: PTEN_2024-03-05_xnas-itch.parquet\n",
      "Warning: Skipping file with unexpected name format: PTEN_2024-03-06_xnas-itch.parquet\n",
      "Warning: Skipping file with unexpected name format: PTEN_2024-03-07_xnas-itch.parquet\n",
      "Warning: Skipping file with unexpected name format: PTEN_2024-03-08_xnas-itch.parquet\n",
      "Warning: Skipping file with unexpected name format: PTEN_2024-03-11_xnas-itch.parquet\n",
      "Warning: Skipping file with unexpected name format: PTEN_2024-03-12_xnas-itch.parquet\n",
      "Warning: Skipping file with unexpected name format: PTEN_2024-03-13_xnas-itch.parquet\n",
      "Warning: Skipping file with unexpected name format: PTEN_2024-03-14_xnas-itch.parquet\n",
      "Warning: Skipping file with unexpected name format: PTEN_2024-03-15_xnas-itch.parquet\n",
      "Warning: Skipping file with unexpected name format: PTEN_2024-03-18_xnas-itch.parquet\n",
      "Warning: Skipping file with unexpected name format: PTEN_2024-03-19_xnas-itch.parquet\n",
      "Warning: Skipping file with unexpected name format: PTEN_2024-03-20_xnas-itch.parquet\n",
      "Warning: Skipping file with unexpected name format: PTEN_2024-03-21_xnas-itch.parquet\n",
      "Warning: Skipping file with unexpected name format: PTEN_2024-03-22_xnas-itch.parquet\n",
      "Warning: Skipping file with unexpected name format: PTEN_2024-03-25_xnas-itch.parquet\n",
      "Warning: Skipping file with unexpected name format: PTEN_2024-03-26_xnas-itch.parquet\n",
      "Warning: Skipping file with unexpected name format: PTEN_2024-03-27_xnas-itch.parquet\n",
      "Warning: Skipping file with unexpected name format: PTEN_2024-03-28_xnas-itch.parquet\n",
      "Warning: Skipping file with unexpected name format: PTEN_2024-04-01_xnas-itch.parquet\n",
      "Warning: Skipping file with unexpected name format: PTEN_2024-04-02_xnas-itch.parquet\n",
      "Warning: Skipping file with unexpected name format: PTEN_2024-04-03_xnas-itch.parquet\n",
      "Warning: Skipping file with unexpected name format: PTEN_2024-04-04_xnas-itch.parquet\n",
      "Warning: Skipping file with unexpected name format: PTEN_2024-04-05_xnas-itch.parquet\n",
      "Warning: Skipping file with unexpected name format: PTEN_2024-04-08_xnas-itch.parquet\n",
      "Warning: Skipping file with unexpected name format: PTEN_2024-04-09_xnas-itch.parquet\n",
      "Warning: Skipping file with unexpected name format: PTEN_2024-04-10_xnas-itch.parquet\n",
      "Warning: Skipping file with unexpected name format: PTEN_2024-04-11_xnas-itch.parquet\n",
      "Warning: Skipping file with unexpected name format: PTEN_2024-04-12_xnas-itch.parquet\n",
      "Warning: Skipping file with unexpected name format: PTEN_2024-04-15_xnas-itch.parquet\n",
      "Warning: Skipping file with unexpected name format: PTEN_2024-04-16_xnas-itch.parquet\n",
      "Warning: Skipping file with unexpected name format: PTEN_2024-04-17_xnas-itch.parquet\n",
      "Warning: Skipping file with unexpected name format: PTEN_2024-04-18_xnas-itch.parquet\n",
      "Warning: Skipping file with unexpected name format: PTEN_2024-04-19_xnas-itch.parquet\n",
      "Warning: Skipping file with unexpected name format: PTEN_2024-04-22_xnas-itch.parquet\n",
      "Warning: Skipping file with unexpected name format: PTEN_2024-04-23_xnas-itch.parquet\n",
      "Warning: Skipping file with unexpected name format: PTEN_2024-04-24_xnas-itch.parquet\n",
      "Warning: Skipping file with unexpected name format: PTEN_2024-04-25_xnas-itch.parquet\n",
      "Warning: Skipping file with unexpected name format: PTEN_2024-04-26_xnas-itch.parquet\n",
      "Warning: Skipping file with unexpected name format: PTEN_2024-04-29_xnas-itch.parquet\n",
      "Warning: Skipping file with unexpected name format: PTEN_2024-04-30_xnas-itch.parquet\n",
      "Warning: Skipping file with unexpected name format: PTEN_2024-05-01_xnas-itch.parquet\n",
      "Warning: Skipping file with unexpected name format: PTEN_2024-05-02_xnas-itch.parquet\n",
      "Warning: Skipping file with unexpected name format: PTEN_2024-05-03_xnas-itch.parquet\n",
      "Warning: Skipping file with unexpected name format: PTEN_2024-05-06_xnas-itch.parquet\n",
      "Warning: Skipping file with unexpected name format: PTEN_2024-05-07_xnas-itch.parquet\n",
      "Warning: Skipping file with unexpected name format: PTEN_2024-05-08_xnas-itch.parquet\n",
      "Warning: Skipping file with unexpected name format: PTEN_2024-05-09_xnas-itch.parquet\n",
      "Warning: Skipping file with unexpected name format: PTEN_2024-05-10_xnas-itch.parquet\n",
      "Warning: Skipping file with unexpected name format: PTEN_2024-05-13_xnas-itch.parquet\n",
      "Warning: Skipping file with unexpected name format: PTEN_2024-05-14_xnas-itch.parquet\n",
      "Warning: Skipping file with unexpected name format: PTEN_2024-05-15_xnas-itch.parquet\n",
      "Warning: Skipping file with unexpected name format: PTEN_2024-05-16_xnas-itch.parquet\n",
      "Warning: Skipping file with unexpected name format: PTEN_2024-05-17_xnas-itch.parquet\n",
      "Warning: Skipping file with unexpected name format: PTEN_2024-05-20_xnas-itch.parquet\n",
      "Warning: Skipping file with unexpected name format: PTEN_2024-05-21_xnas-itch.parquet\n",
      "Warning: Skipping file with unexpected name format: PTEN_2024-05-22_xnas-itch.parquet\n",
      "Warning: Skipping file with unexpected name format: PTEN_2024-05-23_xnas-itch.parquet\n",
      "Warning: Skipping file with unexpected name format: PTEN_2024-05-24_xnas-itch.parquet\n",
      "Warning: Skipping file with unexpected name format: PTEN_2024-05-28_xnas-itch.parquet\n",
      "Warning: Skipping file with unexpected name format: PTEN_2024-05-29_xnas-itch.parquet\n",
      "Warning: Skipping file with unexpected name format: PTEN_2024-05-30_xnas-itch.parquet\n",
      "Warning: Skipping file with unexpected name format: PTEN_2024-05-31_xnas-itch.parquet\n",
      "Warning: Skipping file with unexpected name format: PTEN_2024-06-03_xnas-itch.parquet\n",
      "Warning: Skipping file with unexpected name format: PTEN_2024-06-04_xnas-itch.parquet\n",
      "Warning: Skipping file with unexpected name format: PTEN_2024-06-05_xnas-itch.parquet\n",
      "Warning: Skipping file with unexpected name format: PTEN_2024-06-06_xnas-itch.parquet\n",
      "Warning: Skipping file with unexpected name format: PTEN_2024-06-07_xnas-itch.parquet\n",
      "Warning: Skipping file with unexpected name format: PTEN_2024-06-10_xnas-itch.parquet\n",
      "Warning: Skipping file with unexpected name format: PTEN_2024-06-11_xnas-itch.parquet\n",
      "Warning: Skipping file with unexpected name format: PTEN_2024-06-12_xnas-itch.parquet\n",
      "Warning: Skipping file with unexpected name format: PTEN_2024-06-13_xnas-itch.parquet\n",
      "Warning: Skipping file with unexpected name format: PTEN_2024-06-14_xnas-itch.parquet\n",
      "Warning: Skipping file with unexpected name format: PTEN_2024-06-17_xnas-itch.parquet\n",
      "Warning: Skipping file with unexpected name format: PTEN_2024-06-18_xnas-itch.parquet\n",
      "Warning: Skipping file with unexpected name format: PTEN_2024-06-20_xnas-itch.parquet\n",
      "Warning: Skipping file with unexpected name format: PTEN_2024-06-21_xnas-itch.parquet\n",
      "Warning: Skipping file with unexpected name format: PTEN_2024-06-24_xnas-itch.parquet\n",
      "Warning: Skipping file with unexpected name format: PTEN_2024-06-25_xnas-itch.parquet\n",
      "Warning: Skipping file with unexpected name format: PTEN_2024-06-26_xnas-itch.parquet\n",
      "Warning: Skipping file with unexpected name format: PTEN_2024-06-27_xnas-itch.parquet\n",
      "Warning: Skipping file with unexpected name format: PTEN_2024-06-28_xnas-itch.parquet\n",
      "Warning: Skipping file with unexpected name format: PTEN_2024-07-01_xnas-itch.parquet\n",
      "Warning: Skipping file with unexpected name format: PTEN_2024-07-02_xnas-itch.parquet\n",
      "Warning: Skipping file with unexpected name format: PTEN_2024-07-03_xnas-itch.parquet\n",
      "Warning: Skipping file with unexpected name format: PTEN_2024-07-05_xnas-itch.parquet\n",
      "Warning: Skipping file with unexpected name format: PTEN_2024-07-08_xnas-itch.parquet\n",
      "Warning: Skipping file with unexpected name format: PTEN_2024-07-09_xnas-itch.parquet\n",
      "Warning: Skipping file with unexpected name format: PTEN_2024-07-10_xnas-itch.parquet\n",
      "Warning: Skipping file with unexpected name format: PTEN_2024-07-11_xnas-itch.parquet\n",
      "Warning: Skipping file with unexpected name format: PTEN_2024-07-12_xnas-itch.parquet\n",
      "Warning: Skipping file with unexpected name format: PTEN_2024-07-15_xnas-itch.parquet\n",
      "Warning: Skipping file with unexpected name format: PTEN_2024-07-16_xnas-itch.parquet\n",
      "Warning: Skipping file with unexpected name format: PTEN_2024-07-17_xnas-itch.parquet\n",
      "Warning: Skipping file with unexpected name format: PTEN_2024-07-18_xnas-itch.parquet\n",
      "Warning: Skipping file with unexpected name format: PTEN_2024-07-19_xnas-itch.parquet\n",
      "Warning: Skipping file with unexpected name format: PTEN_2024-07-22_xnas-itch.parquet\n",
      "Warning: Skipping file with unexpected name format: PTEN_2024-07-23_xnas-itch.parquet\n",
      "Warning: Skipping file with unexpected name format: PTEN_2024-07-24_xnas-itch.parquet\n",
      "Warning: Skipping file with unexpected name format: PTEN_2024-07-25_xnas-itch.parquet\n",
      "Warning: Skipping file with unexpected name format: PTEN_2024-07-26_xnas-itch.parquet\n",
      "Warning: Skipping file with unexpected name format: PTEN_2024-07-29_xnas-itch.parquet\n",
      "Warning: Skipping file with unexpected name format: PTEN_2024-07-30_xnas-itch.parquet\n",
      "Warning: Skipping file with unexpected name format: PTEN_2024-07-31_xnas-itch.parquet\n",
      "Warning: Skipping file with unexpected name format: PTEN_2024-08-01_xnas-itch.parquet\n",
      "Warning: Skipping file with unexpected name format: PTEN_2024-08-02_xnas-itch.parquet\n",
      "Warning: Skipping file with unexpected name format: PTEN_2024-08-05_xnas-itch.parquet\n",
      "Warning: Skipping file with unexpected name format: PTEN_2024-08-06_xnas-itch.parquet\n",
      "Warning: Skipping file with unexpected name format: PTEN_2024-08-07_xnas-itch.parquet\n",
      "Warning: Skipping file with unexpected name format: PTEN_2024-08-08_xnas-itch.parquet\n",
      "Warning: Skipping file with unexpected name format: PTEN_2024-08-09_xnas-itch.parquet\n",
      "Warning: Skipping file with unexpected name format: PTEN_2024-08-12_xnas-itch.parquet\n",
      "Warning: Skipping file with unexpected name format: PTEN_2024-08-13_xnas-itch.parquet\n",
      "Warning: Skipping file with unexpected name format: PTEN_2024-08-14_xnas-itch.parquet\n",
      "Warning: Skipping file with unexpected name format: PTEN_2024-08-15_xnas-itch.parquet\n",
      "Warning: Skipping file with unexpected name format: PTEN_2024-08-16_xnas-itch.parquet\n",
      "Warning: Skipping file with unexpected name format: PTEN_2024-08-19_xnas-itch.parquet\n",
      "Warning: Skipping file with unexpected name format: PTEN_2024-08-20_xnas-itch.parquet\n",
      "Warning: Skipping file with unexpected name format: PTEN_2024-08-21_xnas-itch.parquet\n",
      "Warning: Skipping file with unexpected name format: PTEN_2024-08-22_xnas-itch.parquet\n",
      "Warning: Skipping file with unexpected name format: PTEN_2024-08-23_xnas-itch.parquet\n",
      "Warning: Skipping file with unexpected name format: PTEN_2024-08-26_xnas-itch.parquet\n",
      "Warning: Skipping file with unexpected name format: PTEN_2024-08-27_xnas-itch.parquet\n",
      "Warning: Skipping file with unexpected name format: PTEN_2024-08-28_xnas-itch.parquet\n",
      "Warning: Skipping file with unexpected name format: PTEN_2024-08-29_xnas-itch.parquet\n",
      "Warning: Skipping file with unexpected name format: PTEN_2024-08-30_xnas-itch.parquet\n",
      "Warning: Skipping file with unexpected name format: PTEN_2024-09-03_xnas-itch.parquet\n",
      "Warning: Skipping file with unexpected name format: PTEN_2024-09-04_xnas-itch.parquet\n",
      "Warning: Skipping file with unexpected name format: PTEN_2024-09-05_xnas-itch.parquet\n",
      "Warning: Skipping file with unexpected name format: PTEN_2024-09-06_xnas-itch.parquet\n",
      "Warning: Skipping file with unexpected name format: PTEN_2024-09-09_xnas-itch.parquet\n",
      "Warning: Skipping file with unexpected name format: PTEN_2024-09-10_xnas-itch.parquet\n",
      "Warning: Skipping file with unexpected name format: PTEN_2024-09-11_xnas-itch.parquet\n",
      "Warning: Skipping file with unexpected name format: PTEN_2024-09-12_xnas-itch.parquet\n",
      "Warning: Skipping file with unexpected name format: PTEN_2024-09-13_xnas-itch.parquet\n",
      "Warning: Skipping file with unexpected name format: PTEN_2024-09-16_xnas-itch.parquet\n",
      "Warning: Skipping file with unexpected name format: PTEN_2024-09-17_xnas-itch.parquet\n",
      "Warning: Skipping file with unexpected name format: PTEN_2024-09-18_xnas-itch.parquet\n",
      "Warning: Skipping file with unexpected name format: PTEN_2024-09-19_xnas-itch.parquet\n",
      "Warning: Skipping file with unexpected name format: PTEN_2024-09-20_xnas-itch.parquet\n",
      "Warning: Skipping file with unexpected name format: PTEN_2024-09-23_xnas-itch.parquet\n",
      "Warning: Skipping file with unexpected name format: PTEN_2024-09-24_xnas-itch.parquet\n",
      "Warning: Skipping file with unexpected name format: PTEN_2024-09-25_xnas-itch.parquet\n",
      "Warning: Skipping file with unexpected name format: PTEN_2024-09-26_xnas-itch.parquet\n",
      "Warning: Skipping file with unexpected name format: PTEN_2024-09-27_xnas-itch.parquet\n",
      "Warning: Skipping file with unexpected name format: PTEN_2024-09-30_xnas-itch.parquet\n",
      "Warning: Skipping file with unexpected name format: PTEN_2024-10-01_xnas-itch.parquet\n",
      "Warning: Skipping file with unexpected name format: PTEN_2024-10-02_xnas-itch.parquet\n",
      "Warning: Skipping file with unexpected name format: PTEN_2024-10-03_xnas-itch.parquet\n",
      "Warning: Skipping file with unexpected name format: PTEN_2024-10-04_xnas-itch.parquet\n",
      "Warning: Skipping file with unexpected name format: PTEN_2024-10-07_xnas-itch.parquet\n",
      "Warning: Skipping file with unexpected name format: PTEN_2024-10-08_xnas-itch.parquet\n",
      "Warning: Skipping file with unexpected name format: PTEN_2024-10-09_xnas-itch.parquet\n",
      "Warning: Skipping file with unexpected name format: PTEN_2024-10-10_xnas-itch.parquet\n",
      "Warning: Skipping file with unexpected name format: PTEN_2024-10-11_xnas-itch.parquet\n",
      "Warning: Skipping file with unexpected name format: PTEN_2024-10-14_xnas-itch.parquet\n",
      "Warning: Skipping file with unexpected name format: PTEN_2024-10-15_xnas-itch.parquet\n",
      "Warning: Skipping file with unexpected name format: PTEN_2024-10-16_xnas-itch.parquet\n",
      "Warning: Skipping file with unexpected name format: PTEN_2024-10-17_xnas-itch.parquet\n",
      "Warning: Skipping file with unexpected name format: PTEN_2024-10-18_xnas-itch.parquet\n",
      "Warning: Skipping file with unexpected name format: PTEN_2024-10-21_xnas-itch.parquet\n",
      "Warning: Skipping file with unexpected name format: PTEN_2024-10-22_xnas-itch.parquet\n",
      "Warning: Skipping file with unexpected name format: PTEN_2024-10-23_xnas-itch.parquet\n",
      "Warning: Skipping file with unexpected name format: PTEN_2024-10-24_xnas-itch.parquet\n",
      "Warning: Skipping file with unexpected name format: PTEN_2024-10-25_xnas-itch.parquet\n",
      "Warning: Skipping file with unexpected name format: PTEN_2024-10-28_xnas-itch.parquet\n",
      "Warning: Skipping file with unexpected name format: PTEN_2024-10-29_xnas-itch.parquet\n",
      "Warning: Skipping file with unexpected name format: PTEN_2024-10-30_xnas-itch.parquet\n",
      "Warning: Skipping file with unexpected name format: PTEN_2024-10-31_xnas-itch.parquet\n",
      "Warning: Skipping file with unexpected name format: PTEN_2024-11-01_xnas-itch.parquet\n",
      "Warning: Skipping file with unexpected name format: PTEN_2024-11-04_xnas-itch.parquet\n",
      "Warning: Skipping file with unexpected name format: PTEN_2024-11-05_xnas-itch.parquet\n",
      "Warning: Skipping file with unexpected name format: PTEN_2024-11-06_xnas-itch.parquet\n",
      "Warning: Skipping file with unexpected name format: PTEN_2024-11-07_xnas-itch.parquet\n",
      "Warning: Skipping file with unexpected name format: PTEN_2024-11-08_xnas-itch.parquet\n",
      "Warning: Skipping file with unexpected name format: PTEN_2024-11-11_xnas-itch.parquet\n",
      "Warning: Skipping file with unexpected name format: PTEN_2024-11-12_xnas-itch.parquet\n",
      "Warning: Skipping file with unexpected name format: PTEN_2024-11-13_xnas-itch.parquet\n",
      "Warning: Skipping file with unexpected name format: PTEN_2024-11-14_xnas-itch.parquet\n",
      "Warning: Skipping file with unexpected name format: PTEN_2024-11-15_xnas-itch.parquet\n",
      "Warning: Skipping file with unexpected name format: PTEN_2024-11-18_xnas-itch.parquet\n",
      "Warning: Skipping file with unexpected name format: PTEN_2024-11-19_xnas-itch.parquet\n",
      "Warning: Skipping file with unexpected name format: PTEN_2024-11-20_xnas-itch.parquet\n",
      "Warning: Skipping file with unexpected name format: PTEN_2024-11-21_xnas-itch.parquet\n",
      "Warning: Skipping file with unexpected name format: PTEN_2024-11-22_xnas-itch.parquet\n",
      "Warning: Skipping file with unexpected name format: PTEN_2024-11-25_xnas-itch.parquet\n",
      "Warning: Skipping file with unexpected name format: PTEN_2024-11-26_xnas-itch.parquet\n",
      "Warning: Skipping file with unexpected name format: PTEN_2024-11-27_xnas-itch.parquet\n",
      "Warning: Skipping file with unexpected name format: PTEN_2024-11-29_xnas-itch.parquet\n",
      "Warning: Skipping file with unexpected name format: PTEN_2024-12-02_xnas-itch.parquet\n",
      "Warning: Skipping file with unexpected name format: PTEN_2024-12-03_xnas-itch.parquet\n",
      "Warning: Skipping file with unexpected name format: PTEN_2024-12-04_xnas-itch.parquet\n",
      "Warning: Skipping file with unexpected name format: PTEN_2024-12-05_xnas-itch.parquet\n",
      "Warning: Skipping file with unexpected name format: PTEN_2024-12-06_xnas-itch.parquet\n",
      "Warning: Skipping file with unexpected name format: PTEN_2024-12-09_xnas-itch.parquet\n",
      "Warning: Skipping file with unexpected name format: PTEN_2024-12-10_xnas-itch.parquet\n",
      "Warning: Skipping file with unexpected name format: PTEN_2024-12-11_xnas-itch.parquet\n",
      "Warning: Skipping file with unexpected name format: PTEN_2024-12-12_xnas-itch.parquet\n",
      "Warning: Skipping file with unexpected name format: PTEN_2024-12-13_xnas-itch.parquet\n",
      "Warning: Skipping file with unexpected name format: PTEN_2024-12-16_xnas-itch.parquet\n",
      "Warning: Skipping file with unexpected name format: HL_2024-06-24_dbeq-basic.parquet\n",
      "Warning: Skipping file with unexpected name format: HL_2024-06-25_dbeq-basic.parquet\n",
      "Warning: Skipping file with unexpected name format: HL_2024-06-26_dbeq-basic.parquet\n",
      "Warning: Skipping file with unexpected name format: HL_2024-06-27_dbeq-basic.parquet\n",
      "Warning: Skipping file with unexpected name format: HL_2024-06-28_dbeq-basic.parquet\n",
      "Warning: Skipping file with unexpected name format: HL_2024-07-01_dbeq-basic.parquet\n",
      "Warning: Skipping file with unexpected name format: HL_2024-07-02_dbeq-basic.parquet\n",
      "Warning: Skipping file with unexpected name format: HL_2024-07-03_dbeq-basic.parquet\n",
      "Warning: Skipping file with unexpected name format: HL_2024-07-05_dbeq-basic.parquet\n",
      "Warning: Skipping file with unexpected name format: HL_2024-07-08_dbeq-basic.parquet\n",
      "Warning: Skipping file with unexpected name format: HL_2024-07-09_dbeq-basic.parquet\n",
      "Warning: Skipping file with unexpected name format: HL_2024-07-10_dbeq-basic.parquet\n",
      "Warning: Skipping file with unexpected name format: HL_2024-07-11_dbeq-basic.parquet\n",
      "Warning: Skipping file with unexpected name format: HL_2024-07-12_dbeq-basic.parquet\n",
      "Warning: Skipping file with unexpected name format: HL_2024-07-15_dbeq-basic.parquet\n",
      "Warning: Skipping file with unexpected name format: HL_2024-07-16_dbeq-basic.parquet\n",
      "Warning: Skipping file with unexpected name format: HL_2024-07-17_dbeq-basic.parquet\n",
      "Warning: Skipping file with unexpected name format: HL_2024-07-18_dbeq-basic.parquet\n",
      "Warning: Skipping file with unexpected name format: HL_2024-07-19_dbeq-basic.parquet\n",
      "Warning: Skipping file with unexpected name format: HL_2024-07-22_dbeq-basic.parquet\n",
      "Warning: Skipping file with unexpected name format: HL_2024-07-23_dbeq-basic.parquet\n",
      "Warning: Skipping file with unexpected name format: HL_2024-07-24_dbeq-basic.parquet\n",
      "Warning: Skipping file with unexpected name format: HL_2024-07-25_dbeq-basic.parquet\n",
      "Warning: Skipping file with unexpected name format: HL_2024-07-26_dbeq-basic.parquet\n",
      "Warning: Skipping file with unexpected name format: HL_2024-07-29_dbeq-basic.parquet\n",
      "Warning: Skipping file with unexpected name format: HL_2024-07-30_dbeq-basic.parquet\n",
      "Warning: Skipping file with unexpected name format: HL_2024-07-31_dbeq-basic.parquet\n",
      "Warning: Skipping file with unexpected name format: HL_2024-08-01_dbeq-basic.parquet\n",
      "Warning: Skipping file with unexpected name format: HL_2024-08-02_dbeq-basic.parquet\n",
      "Warning: Skipping file with unexpected name format: HL_2024-08-05_dbeq-basic.parquet\n",
      "Warning: Skipping file with unexpected name format: HL_2024-08-06_dbeq-basic.parquet\n",
      "Warning: Skipping file with unexpected name format: HL_2024-08-07_dbeq-basic.parquet\n",
      "Warning: Skipping file with unexpected name format: HL_2024-08-08_dbeq-basic.parquet\n",
      "Warning: Skipping file with unexpected name format: HL_2024-08-09_dbeq-basic.parquet\n",
      "Warning: Skipping file with unexpected name format: HL_2024-08-12_dbeq-basic.parquet\n",
      "Warning: Skipping file with unexpected name format: HL_2024-08-13_dbeq-basic.parquet\n",
      "Warning: Skipping file with unexpected name format: HL_2024-08-14_dbeq-basic.parquet\n",
      "Warning: Skipping file with unexpected name format: HL_2024-08-15_dbeq-basic.parquet\n",
      "Warning: Skipping file with unexpected name format: HL_2024-08-16_dbeq-basic.parquet\n",
      "Warning: Skipping file with unexpected name format: HL_2024-08-19_dbeq-basic.parquet\n",
      "Warning: Skipping file with unexpected name format: HL_2024-08-20_dbeq-basic.parquet\n",
      "Warning: Skipping file with unexpected name format: HL_2024-08-21_dbeq-basic.parquet\n",
      "Warning: Skipping file with unexpected name format: HL_2024-08-22_dbeq-basic.parquet\n",
      "Warning: Skipping file with unexpected name format: HL_2024-08-23_dbeq-basic.parquet\n",
      "Warning: Skipping file with unexpected name format: HL_2024-08-26_dbeq-basic.parquet\n",
      "Warning: Skipping file with unexpected name format: HL_2024-08-27_dbeq-basic.parquet\n",
      "Warning: Skipping file with unexpected name format: HL_2024-08-28_dbeq-basic.parquet\n",
      "Warning: Skipping file with unexpected name format: HL_2024-08-29_dbeq-basic.parquet\n",
      "Warning: Skipping file with unexpected name format: HL_2024-08-30_dbeq-basic.parquet\n",
      "Warning: Skipping file with unexpected name format: HL_2024-09-03_dbeq-basic.parquet\n",
      "Warning: Skipping file with unexpected name format: HL_2024-09-04_dbeq-basic.parquet\n",
      "Warning: Skipping file with unexpected name format: HL_2024-09-05_dbeq-basic.parquet\n",
      "Warning: Skipping file with unexpected name format: HL_2024-09-06_dbeq-basic.parquet\n",
      "Warning: Skipping file with unexpected name format: HL_2024-09-09_dbeq-basic.parquet\n",
      "Warning: Skipping file with unexpected name format: HL_2024-09-10_dbeq-basic.parquet\n",
      "Warning: Skipping file with unexpected name format: HL_2024-09-11_dbeq-basic.parquet\n",
      "Warning: Skipping file with unexpected name format: HL_2024-09-12_dbeq-basic.parquet\n",
      "Warning: Skipping file with unexpected name format: HL_2024-09-13_dbeq-basic.parquet\n",
      "Warning: Skipping file with unexpected name format: HL_2024-09-16_dbeq-basic.parquet\n",
      "Warning: Skipping file with unexpected name format: HL_2024-09-17_dbeq-basic.parquet\n",
      "Warning: Skipping file with unexpected name format: HL_2024-09-18_dbeq-basic.parquet\n",
      "Warning: Skipping file with unexpected name format: HL_2024-09-19_dbeq-basic.parquet\n",
      "Warning: Skipping file with unexpected name format: HL_2024-09-20_dbeq-basic.parquet\n",
      "Warning: Skipping file with unexpected name format: HL_2024-09-23_dbeq-basic.parquet\n",
      "Warning: Skipping file with unexpected name format: BGC_2023-07-17_xnas-itch.parquet\n",
      "Warning: Skipping file with unexpected name format: BGC_2023-07-18_xnas-itch.parquet\n",
      "Warning: Skipping file with unexpected name format: BGC_2023-07-19_xnas-itch.parquet\n",
      "Warning: Skipping file with unexpected name format: BGC_2023-07-20_xnas-itch.parquet\n",
      "Warning: Skipping file with unexpected name format: BGC_2023-07-21_xnas-itch.parquet\n",
      "Warning: Skipping file with unexpected name format: BGC_2023-07-24_xnas-itch.parquet\n",
      "Warning: Skipping file with unexpected name format: BGC_2023-07-25_xnas-itch.parquet\n",
      "Warning: Skipping file with unexpected name format: BGC_2023-07-26_xnas-itch.parquet\n",
      "Warning: Skipping file with unexpected name format: BGC_2023-07-27_xnas-itch.parquet\n",
      "Warning: Skipping file with unexpected name format: BGC_2023-07-28_xnas-itch.parquet\n",
      "Warning: Skipping file with unexpected name format: BGC_2023-07-31_xnas-itch.parquet\n",
      "Warning: Skipping file with unexpected name format: BGC_2023-08-01_xnas-itch.parquet\n",
      "Warning: Skipping file with unexpected name format: BGC_2023-08-02_xnas-itch.parquet\n",
      "Warning: Skipping file with unexpected name format: BGC_2023-08-03_xnas-itch.parquet\n",
      "Warning: Skipping file with unexpected name format: BGC_2023-08-04_xnas-itch.parquet\n",
      "Warning: Skipping file with unexpected name format: BGC_2023-08-07_xnas-itch.parquet\n",
      "Warning: Skipping file with unexpected name format: BGC_2023-08-08_xnas-itch.parquet\n",
      "Warning: Skipping file with unexpected name format: BGC_2023-08-09_xnas-itch.parquet\n",
      "Warning: Skipping file with unexpected name format: BGC_2023-08-10_xnas-itch.parquet\n",
      "Warning: Skipping file with unexpected name format: BGC_2023-08-11_xnas-itch.parquet\n",
      "Warning: Skipping file with unexpected name format: BGC_2023-08-14_xnas-itch.parquet\n",
      "Warning: Skipping file with unexpected name format: BGC_2023-08-15_xnas-itch.parquet\n",
      "Warning: Skipping file with unexpected name format: BGC_2023-08-16_xnas-itch.parquet\n",
      "Warning: Skipping file with unexpected name format: BGC_2023-08-17_xnas-itch.parquet\n",
      "Warning: Skipping file with unexpected name format: BGC_2023-08-18_xnas-itch.parquet\n",
      "Warning: Skipping file with unexpected name format: BGC_2023-08-21_xnas-itch.parquet\n",
      "Warning: Skipping file with unexpected name format: BGC_2023-08-22_xnas-itch.parquet\n",
      "Warning: Skipping file with unexpected name format: BGC_2023-08-23_xnas-itch.parquet\n",
      "Warning: Skipping file with unexpected name format: BGC_2023-08-24_xnas-itch.parquet\n",
      "Warning: Skipping file with unexpected name format: BGC_2023-08-25_xnas-itch.parquet\n",
      "Warning: Skipping file with unexpected name format: BGC_2023-08-28_xnas-itch.parquet\n",
      "Warning: Skipping file with unexpected name format: BGC_2023-08-29_xnas-itch.parquet\n",
      "Warning: Skipping file with unexpected name format: BGC_2023-08-30_xnas-itch.parquet\n",
      "Warning: Skipping file with unexpected name format: BGC_2023-08-31_xnas-itch.parquet\n",
      "Warning: Skipping file with unexpected name format: BGC_2023-09-01_xnas-itch.parquet\n",
      "Warning: Skipping file with unexpected name format: BGC_2023-09-05_xnas-itch.parquet\n",
      "Warning: Skipping file with unexpected name format: BGC_2023-09-06_xnas-itch.parquet\n",
      "Warning: Skipping file with unexpected name format: BGC_2023-09-07_xnas-itch.parquet\n",
      "Warning: Skipping file with unexpected name format: BGC_2023-09-08_xnas-itch.parquet\n",
      "Warning: Skipping file with unexpected name format: BGC_2023-09-11_xnas-itch.parquet\n",
      "Warning: Skipping file with unexpected name format: BGC_2023-09-12_xnas-itch.parquet\n",
      "Warning: Skipping file with unexpected name format: BGC_2023-09-13_xnas-itch.parquet\n",
      "Warning: Skipping file with unexpected name format: BGC_2023-09-14_xnas-itch.parquet\n",
      "Warning: Skipping file with unexpected name format: BGC_2023-09-15_xnas-itch.parquet\n",
      "Warning: Skipping file with unexpected name format: BGC_2023-09-18_xnas-itch.parquet\n",
      "Warning: Skipping file with unexpected name format: BGC_2023-09-19_xnas-itch.parquet\n",
      "Warning: Skipping file with unexpected name format: BGC_2023-09-20_xnas-itch.parquet\n",
      "Warning: Skipping file with unexpected name format: BGC_2023-09-21_xnas-itch.parquet\n",
      "Warning: Skipping file with unexpected name format: BGC_2023-09-22_xnas-itch.parquet\n",
      "Warning: Skipping file with unexpected name format: BGC_2023-09-25_xnas-itch.parquet\n",
      "Warning: Skipping file with unexpected name format: BGC_2023-09-26_xnas-itch.parquet\n",
      "Warning: Skipping file with unexpected name format: BGC_2023-09-27_xnas-itch.parquet\n",
      "Warning: Skipping file with unexpected name format: BGC_2023-09-28_xnas-itch.parquet\n",
      "Warning: Skipping file with unexpected name format: BGC_2023-09-29_xnas-itch.parquet\n",
      "Warning: Skipping file with unexpected name format: BGC_2023-10-02_xnas-itch.parquet\n",
      "Warning: Skipping file with unexpected name format: BGC_2023-10-03_xnas-itch.parquet\n",
      "Warning: Skipping file with unexpected name format: BGC_2023-10-04_xnas-itch.parquet\n",
      "Warning: Skipping file with unexpected name format: BGC_2023-10-05_xnas-itch.parquet\n",
      "Warning: Skipping file with unexpected name format: BGC_2023-10-06_xnas-itch.parquet\n",
      "Warning: Skipping file with unexpected name format: BGC_2023-10-09_xnas-itch.parquet\n",
      "Warning: Skipping file with unexpected name format: BGC_2023-10-10_xnas-itch.parquet\n",
      "Warning: Skipping file with unexpected name format: BGC_2023-10-11_xnas-itch.parquet\n",
      "Warning: Skipping file with unexpected name format: BGC_2023-10-12_xnas-itch.parquet\n",
      "Warning: Skipping file with unexpected name format: BGC_2023-10-13_xnas-itch.parquet\n",
      "Warning: Skipping file with unexpected name format: BGC_2023-10-16_xnas-itch.parquet\n",
      "Warning: Skipping file with unexpected name format: BGC_2023-10-17_xnas-itch.parquet\n",
      "Warning: Skipping file with unexpected name format: BGC_2023-10-18_xnas-itch.parquet\n",
      "Warning: Skipping file with unexpected name format: BGC_2023-10-19_xnas-itch.parquet\n",
      "Warning: Skipping file with unexpected name format: BGC_2023-10-20_xnas-itch.parquet\n",
      "Warning: Skipping file with unexpected name format: BGC_2023-10-23_xnas-itch.parquet\n",
      "Warning: Skipping file with unexpected name format: BGC_2023-10-24_xnas-itch.parquet\n",
      "Warning: Skipping file with unexpected name format: BGC_2023-10-25_xnas-itch.parquet\n",
      "Warning: Skipping file with unexpected name format: BGC_2023-10-26_xnas-itch.parquet\n",
      "Warning: Skipping file with unexpected name format: BGC_2023-10-27_xnas-itch.parquet\n",
      "Warning: Skipping file with unexpected name format: BGC_2023-10-30_xnas-itch.parquet\n",
      "Warning: Skipping file with unexpected name format: BGC_2023-10-31_xnas-itch.parquet\n",
      "Warning: Skipping file with unexpected name format: BGC_2023-11-01_xnas-itch.parquet\n",
      "Warning: Skipping file with unexpected name format: BGC_2023-11-02_xnas-itch.parquet\n",
      "Warning: Skipping file with unexpected name format: BGC_2023-11-03_xnas-itch.parquet\n",
      "Warning: Skipping file with unexpected name format: BGC_2023-11-06_xnas-itch.parquet\n",
      "Warning: Skipping file with unexpected name format: BGC_2023-11-07_xnas-itch.parquet\n",
      "Warning: Skipping file with unexpected name format: BGC_2023-11-08_xnas-itch.parquet\n",
      "Warning: Skipping file with unexpected name format: BGC_2023-11-09_xnas-itch.parquet\n",
      "Warning: Skipping file with unexpected name format: BGC_2023-11-10_xnas-itch.parquet\n",
      "Warning: Skipping file with unexpected name format: BGC_2023-11-13_xnas-itch.parquet\n",
      "Warning: Skipping file with unexpected name format: BGC_2023-11-14_xnas-itch.parquet\n",
      "Warning: Skipping file with unexpected name format: BGC_2023-11-15_xnas-itch.parquet\n",
      "Warning: Skipping file with unexpected name format: BGC_2023-11-16_xnas-itch.parquet\n",
      "Warning: Skipping file with unexpected name format: BGC_2023-11-17_xnas-itch.parquet\n",
      "Warning: Skipping file with unexpected name format: BGC_2023-11-20_xnas-itch.parquet\n",
      "Warning: Skipping file with unexpected name format: BGC_2023-11-21_xnas-itch.parquet\n",
      "Warning: Skipping file with unexpected name format: BGC_2023-11-22_xnas-itch.parquet\n",
      "Warning: Skipping file with unexpected name format: BGC_2023-11-24_xnas-itch.parquet\n",
      "Warning: Skipping file with unexpected name format: BGC_2023-11-27_xnas-itch.parquet\n",
      "Warning: Skipping file with unexpected name format: BGC_2023-11-28_xnas-itch.parquet\n",
      "Warning: Skipping file with unexpected name format: BGC_2023-11-29_xnas-itch.parquet\n",
      "Warning: Skipping file with unexpected name format: BGC_2023-11-30_xnas-itch.parquet\n",
      "Warning: Skipping file with unexpected name format: BGC_2023-12-01_xnas-itch.parquet\n",
      "Warning: Skipping file with unexpected name format: BGC_2023-12-04_xnas-itch.parquet\n",
      "Warning: Skipping file with unexpected name format: BGC_2023-12-05_xnas-itch.parquet\n",
      "Warning: Skipping file with unexpected name format: BGC_2023-12-06_xnas-itch.parquet\n",
      "Warning: Skipping file with unexpected name format: BGC_2023-12-07_xnas-itch.parquet\n",
      "Warning: Skipping file with unexpected name format: BGC_2023-12-08_xnas-itch.parquet\n",
      "Warning: Skipping file with unexpected name format: BGC_2023-12-11_xnas-itch.parquet\n",
      "Warning: Skipping file with unexpected name format: BGC_2023-12-12_xnas-itch.parquet\n",
      "Warning: Skipping file with unexpected name format: BGC_2023-12-13_xnas-itch.parquet\n",
      "Warning: Skipping file with unexpected name format: BGC_2023-12-14_xnas-itch.parquet\n",
      "Warning: Skipping file with unexpected name format: BGC_2023-12-15_xnas-itch.parquet\n",
      "Warning: Skipping file with unexpected name format: BGC_2023-12-18_xnas-itch.parquet\n",
      "Warning: Skipping file with unexpected name format: BGC_2023-12-19_xnas-itch.parquet\n",
      "Warning: Skipping file with unexpected name format: BGC_2023-12-20_xnas-itch.parquet\n",
      "Warning: Skipping file with unexpected name format: BGC_2023-12-21_xnas-itch.parquet\n",
      "Warning: Skipping file with unexpected name format: BGC_2023-12-22_xnas-itch.parquet\n",
      "Warning: Skipping file with unexpected name format: BGC_2023-12-26_xnas-itch.parquet\n",
      "Warning: Skipping file with unexpected name format: BGC_2023-12-27_xnas-itch.parquet\n",
      "Warning: Skipping file with unexpected name format: BGC_2023-12-28_xnas-itch.parquet\n",
      "Warning: Skipping file with unexpected name format: BGC_2023-12-29_xnas-itch.parquet\n",
      "Warning: Skipping file with unexpected name format: BGC_2024-01-02_xnas-itch.parquet\n",
      "Warning: Skipping file with unexpected name format: BGC_2024-01-03_xnas-itch.parquet\n",
      "Warning: Skipping file with unexpected name format: BGC_2024-01-04_xnas-itch.parquet\n",
      "Warning: Skipping file with unexpected name format: BGC_2024-01-05_xnas-itch.parquet\n",
      "Warning: Skipping file with unexpected name format: BGC_2024-01-08_xnas-itch.parquet\n",
      "Warning: Skipping file with unexpected name format: BGC_2024-01-09_xnas-itch.parquet\n",
      "Warning: Skipping file with unexpected name format: BGC_2024-01-10_xnas-itch.parquet\n",
      "Warning: Skipping file with unexpected name format: BGC_2024-01-11_xnas-itch.parquet\n",
      "Warning: Skipping file with unexpected name format: BGC_2024-01-12_xnas-itch.parquet\n",
      "Warning: Skipping file with unexpected name format: BGC_2024-01-16_xnas-itch.parquet\n",
      "Warning: Skipping file with unexpected name format: BGC_2024-01-17_xnas-itch.parquet\n",
      "Warning: Skipping file with unexpected name format: BGC_2024-01-18_xnas-itch.parquet\n",
      "Warning: Skipping file with unexpected name format: BGC_2024-01-19_xnas-itch.parquet\n",
      "Warning: Skipping file with unexpected name format: BGC_2024-01-22_xnas-itch.parquet\n",
      "Warning: Skipping file with unexpected name format: BGC_2024-01-23_xnas-itch.parquet\n",
      "Warning: Skipping file with unexpected name format: BGC_2024-01-24_xnas-itch.parquet\n",
      "Warning: Skipping file with unexpected name format: BGC_2024-01-25_xnas-itch.parquet\n",
      "Warning: Skipping file with unexpected name format: BGC_2024-01-26_xnas-itch.parquet\n",
      "Warning: Skipping file with unexpected name format: BGC_2024-01-29_xnas-itch.parquet\n",
      "Warning: Skipping file with unexpected name format: BGC_2024-01-30_xnas-itch.parquet\n",
      "Warning: Skipping file with unexpected name format: BGC_2024-01-31_xnas-itch.parquet\n",
      "Warning: Skipping file with unexpected name format: BGC_2024-02-01_xnas-itch.parquet\n",
      "Warning: Skipping file with unexpected name format: BGC_2024-02-02_xnas-itch.parquet\n",
      "Warning: Skipping file with unexpected name format: BGC_2024-02-05_xnas-itch.parquet\n",
      "Warning: Skipping file with unexpected name format: BGC_2024-02-06_xnas-itch.parquet\n",
      "Warning: Skipping file with unexpected name format: BGC_2024-02-07_xnas-itch.parquet\n",
      "Warning: Skipping file with unexpected name format: BGC_2024-02-08_xnas-itch.parquet\n",
      "Warning: Skipping file with unexpected name format: BGC_2024-02-09_xnas-itch.parquet\n",
      "Warning: Skipping file with unexpected name format: BGC_2024-02-12_xnas-itch.parquet\n",
      "Warning: Skipping file with unexpected name format: BGC_2024-02-13_xnas-itch.parquet\n",
      "Warning: Skipping file with unexpected name format: BGC_2024-02-14_xnas-itch.parquet\n",
      "Warning: Skipping file with unexpected name format: BGC_2024-02-15_xnas-itch.parquet\n",
      "Warning: Skipping file with unexpected name format: BGC_2024-02-16_xnas-itch.parquet\n",
      "Warning: Skipping file with unexpected name format: BGC_2024-02-20_xnas-itch.parquet\n",
      "Warning: Skipping file with unexpected name format: BGC_2024-02-21_xnas-itch.parquet\n",
      "Warning: Skipping file with unexpected name format: BGC_2024-02-22_xnas-itch.parquet\n",
      "Warning: Skipping file with unexpected name format: BGC_2024-02-23_xnas-itch.parquet\n",
      "Warning: Skipping file with unexpected name format: BGC_2024-02-26_xnas-itch.parquet\n",
      "Warning: Skipping file with unexpected name format: BGC_2024-02-27_xnas-itch.parquet\n",
      "Warning: Skipping file with unexpected name format: BGC_2024-02-28_xnas-itch.parquet\n",
      "Warning: Skipping file with unexpected name format: BGC_2024-02-29_xnas-itch.parquet\n",
      "Warning: Skipping file with unexpected name format: BGC_2024-03-01_xnas-itch.parquet\n",
      "Warning: Skipping file with unexpected name format: BGC_2024-03-04_xnas-itch.parquet\n",
      "Warning: Skipping file with unexpected name format: BGC_2024-03-05_xnas-itch.parquet\n",
      "Warning: Skipping file with unexpected name format: BGC_2024-03-06_xnas-itch.parquet\n",
      "Warning: Skipping file with unexpected name format: BGC_2024-03-07_xnas-itch.parquet\n",
      "Warning: Skipping file with unexpected name format: BGC_2024-03-08_xnas-itch.parquet\n",
      "Warning: Skipping file with unexpected name format: BGC_2024-03-11_xnas-itch.parquet\n",
      "Warning: Skipping file with unexpected name format: BGC_2024-03-12_xnas-itch.parquet\n",
      "Warning: Skipping file with unexpected name format: BGC_2024-03-13_xnas-itch.parquet\n",
      "Warning: Skipping file with unexpected name format: BGC_2024-03-14_xnas-itch.parquet\n",
      "Warning: Skipping file with unexpected name format: BGC_2024-03-15_xnas-itch.parquet\n",
      "Warning: Skipping file with unexpected name format: BGC_2024-03-18_xnas-itch.parquet\n",
      "Warning: Skipping file with unexpected name format: BGC_2024-03-19_xnas-itch.parquet\n",
      "Warning: Skipping file with unexpected name format: BGC_2024-03-20_xnas-itch.parquet\n",
      "Warning: Skipping file with unexpected name format: BGC_2024-03-21_xnas-itch.parquet\n",
      "Warning: Skipping file with unexpected name format: BGC_2024-03-22_xnas-itch.parquet\n",
      "Warning: Skipping file with unexpected name format: BGC_2024-03-25_xnas-itch.parquet\n",
      "Warning: Skipping file with unexpected name format: BGC_2024-03-26_xnas-itch.parquet\n",
      "Warning: Skipping file with unexpected name format: BGC_2024-03-27_xnas-itch.parquet\n",
      "Warning: Skipping file with unexpected name format: BGC_2024-03-28_xnas-itch.parquet\n",
      "Warning: Skipping file with unexpected name format: BGC_2024-04-01_xnas-itch.parquet\n",
      "Warning: Skipping file with unexpected name format: BGC_2024-04-02_xnas-itch.parquet\n",
      "Warning: Skipping file with unexpected name format: BGC_2024-04-03_xnas-itch.parquet\n",
      "Warning: Skipping file with unexpected name format: BGC_2024-04-04_xnas-itch.parquet\n",
      "Warning: Skipping file with unexpected name format: BGC_2024-04-05_xnas-itch.parquet\n",
      "Warning: Skipping file with unexpected name format: BGC_2024-04-08_xnas-itch.parquet\n",
      "Warning: Skipping file with unexpected name format: BGC_2024-04-09_xnas-itch.parquet\n",
      "Warning: Skipping file with unexpected name format: BGC_2024-04-10_xnas-itch.parquet\n",
      "Warning: Skipping file with unexpected name format: BGC_2024-04-11_xnas-itch.parquet\n",
      "Warning: Skipping file with unexpected name format: BGC_2024-04-12_xnas-itch.parquet\n",
      "Warning: Skipping file with unexpected name format: BGC_2024-04-15_xnas-itch.parquet\n",
      "Warning: Skipping file with unexpected name format: BGC_2024-04-16_xnas-itch.parquet\n",
      "Warning: Skipping file with unexpected name format: BGC_2024-04-17_xnas-itch.parquet\n",
      "Warning: Skipping file with unexpected name format: BGC_2024-04-18_xnas-itch.parquet\n",
      "Warning: Skipping file with unexpected name format: BGC_2024-04-19_xnas-itch.parquet\n",
      "Warning: Skipping file with unexpected name format: BGC_2024-04-22_xnas-itch.parquet\n",
      "Warning: Skipping file with unexpected name format: BGC_2024-04-23_xnas-itch.parquet\n",
      "Warning: Skipping file with unexpected name format: BGC_2024-04-24_xnas-itch.parquet\n",
      "Warning: Skipping file with unexpected name format: BGC_2024-04-25_xnas-itch.parquet\n",
      "Warning: Skipping file with unexpected name format: BGC_2024-04-26_xnas-itch.parquet\n",
      "Warning: Skipping file with unexpected name format: BGC_2024-04-29_xnas-itch.parquet\n",
      "Warning: Skipping file with unexpected name format: BGC_2024-04-30_xnas-itch.parquet\n",
      "Warning: Skipping file with unexpected name format: BGC_2024-05-01_xnas-itch.parquet\n",
      "Warning: Skipping file with unexpected name format: BGC_2024-05-02_xnas-itch.parquet\n",
      "Warning: Skipping file with unexpected name format: BGC_2024-05-03_xnas-itch.parquet\n",
      "Warning: Skipping file with unexpected name format: BGC_2024-05-06_xnas-itch.parquet\n",
      "Warning: Skipping file with unexpected name format: BGC_2024-05-07_xnas-itch.parquet\n",
      "Warning: Skipping file with unexpected name format: BGC_2024-05-08_xnas-itch.parquet\n",
      "Warning: Skipping file with unexpected name format: BGC_2024-05-09_xnas-itch.parquet\n",
      "Warning: Skipping file with unexpected name format: BGC_2024-05-10_xnas-itch.parquet\n",
      "Warning: Skipping file with unexpected name format: BGC_2024-05-13_xnas-itch.parquet\n",
      "Warning: Skipping file with unexpected name format: BGC_2024-05-14_xnas-itch.parquet\n",
      "Warning: Skipping file with unexpected name format: BGC_2024-05-15_xnas-itch.parquet\n",
      "Warning: Skipping file with unexpected name format: BGC_2024-05-16_xnas-itch.parquet\n",
      "Warning: Skipping file with unexpected name format: BGC_2024-05-17_xnas-itch.parquet\n",
      "Warning: Skipping file with unexpected name format: BGC_2024-05-20_xnas-itch.parquet\n",
      "Warning: Skipping file with unexpected name format: BGC_2024-05-21_xnas-itch.parquet\n",
      "Warning: Skipping file with unexpected name format: BGC_2024-05-22_xnas-itch.parquet\n",
      "Warning: Skipping file with unexpected name format: BGC_2024-05-23_xnas-itch.parquet\n",
      "Warning: Skipping file with unexpected name format: BGC_2024-05-24_xnas-itch.parquet\n",
      "Warning: Skipping file with unexpected name format: BGC_2024-05-28_xnas-itch.parquet\n",
      "Warning: Skipping file with unexpected name format: BGC_2024-05-29_xnas-itch.parquet\n",
      "Warning: Skipping file with unexpected name format: BGC_2024-05-30_xnas-itch.parquet\n",
      "Warning: Skipping file with unexpected name format: BGC_2024-05-31_xnas-itch.parquet\n",
      "Warning: Skipping file with unexpected name format: BGC_2024-06-03_xnas-itch.parquet\n",
      "Warning: Skipping file with unexpected name format: BGC_2024-06-04_xnas-itch.parquet\n",
      "Warning: Skipping file with unexpected name format: BGC_2024-06-05_xnas-itch.parquet\n",
      "Warning: Skipping file with unexpected name format: BGC_2024-06-06_xnas-itch.parquet\n",
      "Warning: Skipping file with unexpected name format: BGC_2024-06-07_xnas-itch.parquet\n",
      "Warning: Skipping file with unexpected name format: BGC_2024-06-10_xnas-itch.parquet\n",
      "Warning: Skipping file with unexpected name format: BGC_2024-06-11_xnas-itch.parquet\n",
      "Warning: Skipping file with unexpected name format: BGC_2024-06-12_xnas-itch.parquet\n",
      "Warning: Skipping file with unexpected name format: BGC_2024-06-13_xnas-itch.parquet\n",
      "Warning: Skipping file with unexpected name format: BGC_2024-06-14_xnas-itch.parquet\n",
      "Warning: Skipping file with unexpected name format: BGC_2024-06-17_xnas-itch.parquet\n",
      "Warning: Skipping file with unexpected name format: BGC_2024-06-18_xnas-itch.parquet\n",
      "Warning: Skipping file with unexpected name format: BGC_2024-06-20_xnas-itch.parquet\n",
      "Warning: Skipping file with unexpected name format: BGC_2024-06-21_xnas-itch.parquet\n",
      "Warning: Skipping file with unexpected name format: BGC_2024-06-24_xnas-itch.parquet\n",
      "Warning: Skipping file with unexpected name format: BGC_2024-06-25_xnas-itch.parquet\n",
      "Warning: Skipping file with unexpected name format: BGC_2024-06-26_xnas-itch.parquet\n",
      "Warning: Skipping file with unexpected name format: BGC_2024-06-27_xnas-itch.parquet\n",
      "Warning: Skipping file with unexpected name format: BGC_2024-06-28_xnas-itch.parquet\n",
      "Warning: Skipping file with unexpected name format: BGC_2024-07-01_xnas-itch.parquet\n",
      "Warning: Skipping file with unexpected name format: BGC_2024-07-02_xnas-itch.parquet\n",
      "Warning: Skipping file with unexpected name format: BGC_2024-07-03_xnas-itch.parquet\n",
      "Warning: Skipping file with unexpected name format: BGC_2024-07-05_xnas-itch.parquet\n",
      "Warning: Skipping file with unexpected name format: BGC_2024-07-08_xnas-itch.parquet\n",
      "Warning: Skipping file with unexpected name format: BGC_2024-07-09_xnas-itch.parquet\n",
      "Warning: Skipping file with unexpected name format: BGC_2024-07-10_xnas-itch.parquet\n",
      "Warning: Skipping file with unexpected name format: BGC_2024-07-11_xnas-itch.parquet\n",
      "Warning: Skipping file with unexpected name format: BGC_2024-07-12_xnas-itch.parquet\n",
      "Warning: Skipping file with unexpected name format: BGC_2024-07-15_xnas-itch.parquet\n",
      "Warning: Skipping file with unexpected name format: BGC_2024-07-16_xnas-itch.parquet\n",
      "Warning: Skipping file with unexpected name format: BGC_2024-07-17_xnas-itch.parquet\n",
      "Warning: Skipping file with unexpected name format: BGC_2024-07-18_xnas-itch.parquet\n",
      "Warning: Skipping file with unexpected name format: BGC_2024-07-19_xnas-itch.parquet\n",
      "Warning: Skipping file with unexpected name format: BGC_2024-07-22_xnas-itch.parquet\n",
      "Warning: Skipping file with unexpected name format: BGC_2024-07-23_xnas-itch.parquet\n",
      "Warning: Skipping file with unexpected name format: BGC_2024-07-24_xnas-itch.parquet\n",
      "Warning: Skipping file with unexpected name format: BGC_2024-07-25_xnas-itch.parquet\n",
      "Warning: Skipping file with unexpected name format: BGC_2024-07-26_xnas-itch.parquet\n",
      "Warning: Skipping file with unexpected name format: BGC_2024-07-29_xnas-itch.parquet\n",
      "Warning: Skipping file with unexpected name format: BGC_2024-07-30_xnas-itch.parquet\n",
      "Warning: Skipping file with unexpected name format: BGC_2024-07-31_xnas-itch.parquet\n",
      "Warning: Skipping file with unexpected name format: BGC_2024-08-01_xnas-itch.parquet\n",
      "Warning: Skipping file with unexpected name format: BGC_2024-08-02_xnas-itch.parquet\n",
      "Warning: Skipping file with unexpected name format: BGC_2024-08-05_xnas-itch.parquet\n",
      "Warning: Skipping file with unexpected name format: BGC_2024-08-06_xnas-itch.parquet\n",
      "Warning: Skipping file with unexpected name format: BGC_2024-08-07_xnas-itch.parquet\n",
      "Warning: Skipping file with unexpected name format: BGC_2024-08-08_xnas-itch.parquet\n",
      "Warning: Skipping file with unexpected name format: BGC_2024-08-09_xnas-itch.parquet\n",
      "Warning: Skipping file with unexpected name format: BGC_2024-08-12_xnas-itch.parquet\n",
      "Warning: Skipping file with unexpected name format: BGC_2024-08-13_xnas-itch.parquet\n",
      "Warning: Skipping file with unexpected name format: BGC_2024-08-14_xnas-itch.parquet\n",
      "Warning: Skipping file with unexpected name format: BGC_2024-08-15_xnas-itch.parquet\n",
      "Warning: Skipping file with unexpected name format: BGC_2024-08-16_xnas-itch.parquet\n",
      "Warning: Skipping file with unexpected name format: BGC_2024-08-19_xnas-itch.parquet\n",
      "Warning: Skipping file with unexpected name format: BGC_2024-08-20_xnas-itch.parquet\n",
      "Warning: Skipping file with unexpected name format: BGC_2024-08-21_xnas-itch.parquet\n",
      "Warning: Skipping file with unexpected name format: BGC_2024-08-22_xnas-itch.parquet\n",
      "Warning: Skipping file with unexpected name format: BGC_2024-08-23_xnas-itch.parquet\n",
      "Warning: Skipping file with unexpected name format: BGC_2024-08-26_xnas-itch.parquet\n",
      "Warning: Skipping file with unexpected name format: BGC_2024-08-27_xnas-itch.parquet\n",
      "Warning: Skipping file with unexpected name format: BGC_2024-08-28_xnas-itch.parquet\n",
      "Warning: Skipping file with unexpected name format: BGC_2024-08-29_xnas-itch.parquet\n",
      "Warning: Skipping file with unexpected name format: BGC_2024-08-30_xnas-itch.parquet\n",
      "Warning: Skipping file with unexpected name format: BGC_2024-09-03_xnas-itch.parquet\n",
      "Warning: Skipping file with unexpected name format: BGC_2024-09-04_xnas-itch.parquet\n",
      "Warning: Skipping file with unexpected name format: BGC_2024-09-05_xnas-itch.parquet\n",
      "Warning: Skipping file with unexpected name format: BGC_2024-09-06_xnas-itch.parquet\n",
      "Warning: Skipping file with unexpected name format: BGC_2024-09-09_xnas-itch.parquet\n",
      "Warning: Skipping file with unexpected name format: BGC_2024-09-10_xnas-itch.parquet\n",
      "Warning: Skipping file with unexpected name format: BGC_2024-09-11_xnas-itch.parquet\n",
      "Warning: Skipping file with unexpected name format: BGC_2024-09-12_xnas-itch.parquet\n",
      "Warning: Skipping file with unexpected name format: BGC_2024-09-13_xnas-itch.parquet\n",
      "Warning: Skipping file with unexpected name format: BGC_2024-09-16_xnas-itch.parquet\n",
      "Warning: Skipping file with unexpected name format: BGC_2024-09-17_xnas-itch.parquet\n",
      "Warning: Skipping file with unexpected name format: BGC_2024-09-18_xnas-itch.parquet\n",
      "Warning: Skipping file with unexpected name format: BGC_2024-09-19_xnas-itch.parquet\n",
      "Warning: Skipping file with unexpected name format: BGC_2024-09-20_xnas-itch.parquet\n",
      "Warning: Skipping file with unexpected name format: BGC_2024-09-23_xnas-itch.parquet\n",
      "Warning: Skipping file with unexpected name format: BGC_2024-09-24_xnas-itch.parquet\n",
      "Warning: Skipping file with unexpected name format: BGC_2024-09-25_xnas-itch.parquet\n",
      "Warning: Skipping file with unexpected name format: BGC_2024-09-26_xnas-itch.parquet\n",
      "Warning: Skipping file with unexpected name format: BGC_2024-09-27_xnas-itch.parquet\n",
      "Warning: Skipping file with unexpected name format: BGC_2024-09-30_xnas-itch.parquet\n",
      "Warning: Skipping file with unexpected name format: BGC_2024-10-01_xnas-itch.parquet\n",
      "Warning: Skipping file with unexpected name format: BGC_2024-10-02_xnas-itch.parquet\n",
      "Warning: Skipping file with unexpected name format: BGC_2024-10-03_xnas-itch.parquet\n",
      "Warning: Skipping file with unexpected name format: BGC_2024-10-04_xnas-itch.parquet\n",
      "Warning: Skipping file with unexpected name format: BGC_2024-10-07_xnas-itch.parquet\n",
      "Warning: Skipping file with unexpected name format: BGC_2024-10-08_xnas-itch.parquet\n",
      "Warning: Skipping file with unexpected name format: BGC_2024-10-09_xnas-itch.parquet\n",
      "Warning: Skipping file with unexpected name format: BGC_2024-10-10_xnas-itch.parquet\n",
      "Warning: Skipping file with unexpected name format: BGC_2024-10-11_xnas-itch.parquet\n",
      "Warning: Skipping file with unexpected name format: BGC_2024-10-14_xnas-itch.parquet\n",
      "Warning: Skipping file with unexpected name format: BGC_2024-10-15_xnas-itch.parquet\n",
      "Warning: Skipping file with unexpected name format: BGC_2024-10-16_xnas-itch.parquet\n",
      "Warning: Skipping file with unexpected name format: BGC_2024-10-17_xnas-itch.parquet\n",
      "Warning: Skipping file with unexpected name format: BGC_2024-10-18_xnas-itch.parquet\n",
      "Warning: Skipping file with unexpected name format: BGC_2024-10-21_xnas-itch.parquet\n",
      "Warning: Skipping file with unexpected name format: BGC_2024-10-22_xnas-itch.parquet\n",
      "Warning: Skipping file with unexpected name format: BGC_2024-10-23_xnas-itch.parquet\n",
      "Warning: Skipping file with unexpected name format: BGC_2024-10-24_xnas-itch.parquet\n",
      "Warning: Skipping file with unexpected name format: BGC_2024-10-25_xnas-itch.parquet\n",
      "Warning: Skipping file with unexpected name format: BGC_2024-10-28_xnas-itch.parquet\n",
      "Warning: Skipping file with unexpected name format: BGC_2024-10-29_xnas-itch.parquet\n",
      "Warning: Skipping file with unexpected name format: BGC_2024-10-30_xnas-itch.parquet\n",
      "Warning: Skipping file with unexpected name format: BGC_2024-10-31_xnas-itch.parquet\n",
      "Warning: Skipping file with unexpected name format: BGC_2024-11-01_xnas-itch.parquet\n",
      "Warning: Skipping file with unexpected name format: BGC_2024-11-04_xnas-itch.parquet\n",
      "Warning: Skipping file with unexpected name format: BGC_2024-11-05_xnas-itch.parquet\n",
      "Warning: Skipping file with unexpected name format: BGC_2024-11-06_xnas-itch.parquet\n",
      "Warning: Skipping file with unexpected name format: BGC_2024-11-07_xnas-itch.parquet\n",
      "Warning: Skipping file with unexpected name format: BGC_2024-11-08_xnas-itch.parquet\n",
      "Warning: Skipping file with unexpected name format: BGC_2024-11-11_xnas-itch.parquet\n",
      "Warning: Skipping file with unexpected name format: BGC_2024-11-12_xnas-itch.parquet\n",
      "Warning: Skipping file with unexpected name format: BGC_2024-11-13_xnas-itch.parquet\n",
      "Warning: Skipping file with unexpected name format: BGC_2024-11-14_xnas-itch.parquet\n",
      "Warning: Skipping file with unexpected name format: BGC_2024-11-15_xnas-itch.parquet\n",
      "Warning: Skipping file with unexpected name format: BGC_2024-11-18_xnas-itch.parquet\n",
      "Warning: Skipping file with unexpected name format: BGC_2024-11-19_xnas-itch.parquet\n",
      "Warning: Skipping file with unexpected name format: BGC_2024-11-20_xnas-itch.parquet\n",
      "Warning: Skipping file with unexpected name format: BGC_2024-11-21_xnas-itch.parquet\n",
      "Warning: Skipping file with unexpected name format: BGC_2024-11-22_xnas-itch.parquet\n",
      "Warning: Skipping file with unexpected name format: BGC_2024-11-25_xnas-itch.parquet\n",
      "Warning: Skipping file with unexpected name format: BGC_2024-11-26_xnas-itch.parquet\n",
      "Warning: Skipping file with unexpected name format: BGC_2024-11-27_xnas-itch.parquet\n",
      "Warning: Skipping file with unexpected name format: BGC_2024-11-29_xnas-itch.parquet\n",
      "Warning: Skipping file with unexpected name format: BGC_2024-12-02_xnas-itch.parquet\n",
      "Warning: Skipping file with unexpected name format: BGC_2024-12-03_xnas-itch.parquet\n",
      "Warning: Skipping file with unexpected name format: BGC_2024-12-04_xnas-itch.parquet\n",
      "Warning: Skipping file with unexpected name format: BGC_2024-12-05_xnas-itch.parquet\n",
      "Warning: Skipping file with unexpected name format: BGC_2024-12-06_xnas-itch.parquet\n",
      "Warning: Skipping file with unexpected name format: BGC_2024-12-09_xnas-itch.parquet\n",
      "Warning: Skipping file with unexpected name format: BGC_2024-12-10_xnas-itch.parquet\n",
      "Warning: Skipping file with unexpected name format: BGC_2024-12-11_xnas-itch.parquet\n",
      "Warning: Skipping file with unexpected name format: BGC_2024-12-12_xnas-itch.parquet\n",
      "Warning: Skipping file with unexpected name format: BGC_2024-12-13_xnas-itch.parquet\n",
      "Warning: Skipping file with unexpected name format: BGC_2024-12-16_xnas-itch.parquet\n",
      "Warning: Skipping file with unexpected name format: IOVA_2023-07-17_xnas-itch.parquet\n",
      "Warning: Skipping file with unexpected name format: IOVA_2023-07-18_xnas-itch.parquet\n",
      "Warning: Skipping file with unexpected name format: IOVA_2023-07-19_xnas-itch.parquet\n",
      "Warning: Skipping file with unexpected name format: IOVA_2023-07-20_xnas-itch.parquet\n",
      "Warning: Skipping file with unexpected name format: IOVA_2023-07-21_xnas-itch.parquet\n",
      "Warning: Skipping file with unexpected name format: IOVA_2023-07-24_xnas-itch.parquet\n",
      "Warning: Skipping file with unexpected name format: IOVA_2023-07-25_xnas-itch.parquet\n",
      "Warning: Skipping file with unexpected name format: IOVA_2023-07-26_xnas-itch.parquet\n",
      "Warning: Skipping file with unexpected name format: IOVA_2023-07-27_xnas-itch.parquet\n",
      "Warning: Skipping file with unexpected name format: IOVA_2023-07-28_xnas-itch.parquet\n",
      "Warning: Skipping file with unexpected name format: IOVA_2023-07-31_xnas-itch.parquet\n",
      "Warning: Skipping file with unexpected name format: IOVA_2023-08-01_xnas-itch.parquet\n",
      "Warning: Skipping file with unexpected name format: IOVA_2023-08-02_xnas-itch.parquet\n",
      "Warning: Skipping file with unexpected name format: IOVA_2023-08-03_xnas-itch.parquet\n",
      "Warning: Skipping file with unexpected name format: IOVA_2023-08-04_xnas-itch.parquet\n",
      "Warning: Skipping file with unexpected name format: IOVA_2023-08-07_xnas-itch.parquet\n",
      "Warning: Skipping file with unexpected name format: IOVA_2023-08-08_xnas-itch.parquet\n",
      "Warning: Skipping file with unexpected name format: IOVA_2023-08-09_xnas-itch.parquet\n",
      "Warning: Skipping file with unexpected name format: IOVA_2023-08-10_xnas-itch.parquet\n",
      "Warning: Skipping file with unexpected name format: IOVA_2023-08-11_xnas-itch.parquet\n",
      "Warning: Skipping file with unexpected name format: IOVA_2023-08-14_xnas-itch.parquet\n",
      "Warning: Skipping file with unexpected name format: IOVA_2023-08-15_xnas-itch.parquet\n",
      "Warning: Skipping file with unexpected name format: IOVA_2023-08-16_xnas-itch.parquet\n",
      "Warning: Skipping file with unexpected name format: IOVA_2023-08-17_xnas-itch.parquet\n",
      "Warning: Skipping file with unexpected name format: IOVA_2023-08-18_xnas-itch.parquet\n",
      "Warning: Skipping file with unexpected name format: IOVA_2023-08-21_xnas-itch.parquet\n",
      "Warning: Skipping file with unexpected name format: IOVA_2023-08-22_xnas-itch.parquet\n",
      "Warning: Skipping file with unexpected name format: IOVA_2023-08-23_xnas-itch.parquet\n",
      "Warning: Skipping file with unexpected name format: IOVA_2023-08-24_xnas-itch.parquet\n",
      "Warning: Skipping file with unexpected name format: IOVA_2023-08-25_xnas-itch.parquet\n",
      "Warning: Skipping file with unexpected name format: IOVA_2023-08-28_xnas-itch.parquet\n",
      "Warning: Skipping file with unexpected name format: IOVA_2023-08-29_xnas-itch.parquet\n",
      "Warning: Skipping file with unexpected name format: IOVA_2023-08-30_xnas-itch.parquet\n",
      "Warning: Skipping file with unexpected name format: IOVA_2023-08-31_xnas-itch.parquet\n",
      "Warning: Skipping file with unexpected name format: IOVA_2023-09-01_xnas-itch.parquet\n",
      "Warning: Skipping file with unexpected name format: IOVA_2023-09-05_xnas-itch.parquet\n",
      "Warning: Skipping file with unexpected name format: IOVA_2023-09-06_xnas-itch.parquet\n",
      "Warning: Skipping file with unexpected name format: IOVA_2023-09-07_xnas-itch.parquet\n",
      "Warning: Skipping file with unexpected name format: IOVA_2023-09-08_xnas-itch.parquet\n",
      "Warning: Skipping file with unexpected name format: IOVA_2023-09-11_xnas-itch.parquet\n",
      "Warning: Skipping file with unexpected name format: IOVA_2023-09-12_xnas-itch.parquet\n",
      "Warning: Skipping file with unexpected name format: IOVA_2023-09-13_xnas-itch.parquet\n",
      "Warning: Skipping file with unexpected name format: IOVA_2023-09-14_xnas-itch.parquet\n",
      "Warning: Skipping file with unexpected name format: IOVA_2023-09-15_xnas-itch.parquet\n",
      "Warning: Skipping file with unexpected name format: IOVA_2023-09-18_xnas-itch.parquet\n",
      "Warning: Skipping file with unexpected name format: IOVA_2023-09-19_xnas-itch.parquet\n",
      "Warning: Skipping file with unexpected name format: IOVA_2023-09-20_xnas-itch.parquet\n",
      "Warning: Skipping file with unexpected name format: IOVA_2023-09-21_xnas-itch.parquet\n",
      "Warning: Skipping file with unexpected name format: IOVA_2023-09-22_xnas-itch.parquet\n",
      "Warning: Skipping file with unexpected name format: IOVA_2023-09-25_xnas-itch.parquet\n",
      "Warning: Skipping file with unexpected name format: IOVA_2023-09-26_xnas-itch.parquet\n",
      "Warning: Skipping file with unexpected name format: IOVA_2023-09-27_xnas-itch.parquet\n",
      "Warning: Skipping file with unexpected name format: IOVA_2023-09-28_xnas-itch.parquet\n",
      "Warning: Skipping file with unexpected name format: IOVA_2023-09-29_xnas-itch.parquet\n",
      "Warning: Skipping file with unexpected name format: IOVA_2023-10-02_xnas-itch.parquet\n",
      "Warning: Skipping file with unexpected name format: IOVA_2023-10-03_xnas-itch.parquet\n",
      "Warning: Skipping file with unexpected name format: IOVA_2023-10-04_xnas-itch.parquet\n",
      "Warning: Skipping file with unexpected name format: IOVA_2023-10-05_xnas-itch.parquet\n",
      "Warning: Skipping file with unexpected name format: IOVA_2023-10-06_xnas-itch.parquet\n",
      "Warning: Skipping file with unexpected name format: IOVA_2023-10-09_xnas-itch.parquet\n",
      "Warning: Skipping file with unexpected name format: IOVA_2023-10-10_xnas-itch.parquet\n",
      "Warning: Skipping file with unexpected name format: IOVA_2023-10-11_xnas-itch.parquet\n",
      "Warning: Skipping file with unexpected name format: IOVA_2023-10-12_xnas-itch.parquet\n",
      "Warning: Skipping file with unexpected name format: IOVA_2023-10-13_xnas-itch.parquet\n",
      "Warning: Skipping file with unexpected name format: IOVA_2023-10-16_xnas-itch.parquet\n",
      "Warning: Skipping file with unexpected name format: IOVA_2023-10-17_xnas-itch.parquet\n",
      "Warning: Skipping file with unexpected name format: IOVA_2023-10-18_xnas-itch.parquet\n",
      "Warning: Skipping file with unexpected name format: IOVA_2023-10-19_xnas-itch.parquet\n",
      "Warning: Skipping file with unexpected name format: IOVA_2023-10-20_xnas-itch.parquet\n",
      "Warning: Skipping file with unexpected name format: IOVA_2023-10-23_xnas-itch.parquet\n",
      "Warning: Skipping file with unexpected name format: IOVA_2023-10-24_xnas-itch.parquet\n",
      "Warning: Skipping file with unexpected name format: IOVA_2023-10-25_xnas-itch.parquet\n",
      "Warning: Skipping file with unexpected name format: IOVA_2023-10-26_xnas-itch.parquet\n",
      "Warning: Skipping file with unexpected name format: IOVA_2023-10-27_xnas-itch.parquet\n",
      "Warning: Skipping file with unexpected name format: IOVA_2023-10-30_xnas-itch.parquet\n",
      "Warning: Skipping file with unexpected name format: IOVA_2023-10-31_xnas-itch.parquet\n",
      "Warning: Skipping file with unexpected name format: IOVA_2023-11-01_xnas-itch.parquet\n",
      "Warning: Skipping file with unexpected name format: IOVA_2023-11-02_xnas-itch.parquet\n",
      "Warning: Skipping file with unexpected name format: IOVA_2023-11-03_xnas-itch.parquet\n",
      "Warning: Skipping file with unexpected name format: IOVA_2023-11-06_xnas-itch.parquet\n",
      "Warning: Skipping file with unexpected name format: IOVA_2023-11-07_xnas-itch.parquet\n",
      "Warning: Skipping file with unexpected name format: IOVA_2023-11-08_xnas-itch.parquet\n",
      "Warning: Skipping file with unexpected name format: IOVA_2023-11-09_xnas-itch.parquet\n",
      "Warning: Skipping file with unexpected name format: IOVA_2023-11-10_xnas-itch.parquet\n",
      "Warning: Skipping file with unexpected name format: IOVA_2023-11-13_xnas-itch.parquet\n",
      "Warning: Skipping file with unexpected name format: IOVA_2023-11-14_xnas-itch.parquet\n",
      "Warning: Skipping file with unexpected name format: IOVA_2023-11-15_xnas-itch.parquet\n",
      "Warning: Skipping file with unexpected name format: IOVA_2023-11-16_xnas-itch.parquet\n",
      "Warning: Skipping file with unexpected name format: IOVA_2023-11-17_xnas-itch.parquet\n",
      "Warning: Skipping file with unexpected name format: IOVA_2023-11-20_xnas-itch.parquet\n",
      "Warning: Skipping file with unexpected name format: IOVA_2023-11-21_xnas-itch.parquet\n",
      "Warning: Skipping file with unexpected name format: IOVA_2023-11-22_xnas-itch.parquet\n",
      "Warning: Skipping file with unexpected name format: IOVA_2023-11-24_xnas-itch.parquet\n",
      "Warning: Skipping file with unexpected name format: IOVA_2023-11-27_xnas-itch.parquet\n",
      "Warning: Skipping file with unexpected name format: IOVA_2023-11-28_xnas-itch.parquet\n",
      "Warning: Skipping file with unexpected name format: IOVA_2023-11-29_xnas-itch.parquet\n",
      "Warning: Skipping file with unexpected name format: IOVA_2023-11-30_xnas-itch.parquet\n",
      "Warning: Skipping file with unexpected name format: IOVA_2023-12-01_xnas-itch.parquet\n",
      "Warning: Skipping file with unexpected name format: IOVA_2023-12-04_xnas-itch.parquet\n",
      "Warning: Skipping file with unexpected name format: IOVA_2023-12-05_xnas-itch.parquet\n",
      "Warning: Skipping file with unexpected name format: IOVA_2023-12-06_xnas-itch.parquet\n",
      "Warning: Skipping file with unexpected name format: IOVA_2023-12-07_xnas-itch.parquet\n",
      "Warning: Skipping file with unexpected name format: IOVA_2023-12-08_xnas-itch.parquet\n",
      "Warning: Skipping file with unexpected name format: IOVA_2023-12-11_xnas-itch.parquet\n",
      "Warning: Skipping file with unexpected name format: IOVA_2023-12-12_xnas-itch.parquet\n",
      "Warning: Skipping file with unexpected name format: IOVA_2023-12-13_xnas-itch.parquet\n",
      "Warning: Skipping file with unexpected name format: IOVA_2023-12-14_xnas-itch.parquet\n",
      "Warning: Skipping file with unexpected name format: IOVA_2023-12-15_xnas-itch.parquet\n",
      "Warning: Skipping file with unexpected name format: IOVA_2023-12-18_xnas-itch.parquet\n",
      "Warning: Skipping file with unexpected name format: IOVA_2023-12-19_xnas-itch.parquet\n",
      "Warning: Skipping file with unexpected name format: IOVA_2023-12-20_xnas-itch.parquet\n",
      "Warning: Skipping file with unexpected name format: IOVA_2023-12-21_xnas-itch.parquet\n",
      "Warning: Skipping file with unexpected name format: IOVA_2023-12-22_xnas-itch.parquet\n",
      "Warning: Skipping file with unexpected name format: IOVA_2023-12-26_xnas-itch.parquet\n",
      "Warning: Skipping file with unexpected name format: IOVA_2023-12-27_xnas-itch.parquet\n",
      "Warning: Skipping file with unexpected name format: IOVA_2023-12-28_xnas-itch.parquet\n",
      "Warning: Skipping file with unexpected name format: IOVA_2023-12-29_xnas-itch.parquet\n",
      "Warning: Skipping file with unexpected name format: IOVA_2024-01-02_xnas-itch.parquet\n",
      "Warning: Skipping file with unexpected name format: IOVA_2024-01-03_xnas-itch.parquet\n",
      "Warning: Skipping file with unexpected name format: IOVA_2024-01-04_xnas-itch.parquet\n",
      "Warning: Skipping file with unexpected name format: IOVA_2024-01-05_xnas-itch.parquet\n",
      "Warning: Skipping file with unexpected name format: IOVA_2024-01-08_xnas-itch.parquet\n",
      "Warning: Skipping file with unexpected name format: IOVA_2024-01-09_xnas-itch.parquet\n",
      "Warning: Skipping file with unexpected name format: IOVA_2024-01-10_xnas-itch.parquet\n",
      "Warning: Skipping file with unexpected name format: IOVA_2024-01-11_xnas-itch.parquet\n",
      "Warning: Skipping file with unexpected name format: IOVA_2024-01-12_xnas-itch.parquet\n",
      "Warning: Skipping file with unexpected name format: IOVA_2024-01-16_xnas-itch.parquet\n",
      "Warning: Skipping file with unexpected name format: IOVA_2024-01-17_xnas-itch.parquet\n",
      "Warning: Skipping file with unexpected name format: IOVA_2024-01-18_xnas-itch.parquet\n",
      "Warning: Skipping file with unexpected name format: IOVA_2024-01-19_xnas-itch.parquet\n",
      "Warning: Skipping file with unexpected name format: IOVA_2024-01-22_xnas-itch.parquet\n",
      "Warning: Skipping file with unexpected name format: IOVA_2024-01-23_xnas-itch.parquet\n",
      "Warning: Skipping file with unexpected name format: IOVA_2024-01-24_xnas-itch.parquet\n",
      "Warning: Skipping file with unexpected name format: IOVA_2024-01-25_xnas-itch.parquet\n",
      "Warning: Skipping file with unexpected name format: IOVA_2024-01-26_xnas-itch.parquet\n",
      "Warning: Skipping file with unexpected name format: IOVA_2024-01-29_xnas-itch.parquet\n",
      "Warning: Skipping file with unexpected name format: IOVA_2024-01-30_xnas-itch.parquet\n",
      "Warning: Skipping file with unexpected name format: IOVA_2024-01-31_xnas-itch.parquet\n",
      "Warning: Skipping file with unexpected name format: IOVA_2024-02-01_xnas-itch.parquet\n",
      "Warning: Skipping file with unexpected name format: IOVA_2024-02-02_xnas-itch.parquet\n",
      "Warning: Skipping file with unexpected name format: IOVA_2024-02-05_xnas-itch.parquet\n",
      "Warning: Skipping file with unexpected name format: IOVA_2024-02-06_xnas-itch.parquet\n",
      "Warning: Skipping file with unexpected name format: IOVA_2024-02-07_xnas-itch.parquet\n",
      "Warning: Skipping file with unexpected name format: IOVA_2024-02-08_xnas-itch.parquet\n",
      "Warning: Skipping file with unexpected name format: IOVA_2024-02-09_xnas-itch.parquet\n",
      "Warning: Skipping file with unexpected name format: IOVA_2024-02-12_xnas-itch.parquet\n",
      "Warning: Skipping file with unexpected name format: IOVA_2024-02-13_xnas-itch.parquet\n",
      "Warning: Skipping file with unexpected name format: IOVA_2024-02-14_xnas-itch.parquet\n",
      "Warning: Skipping file with unexpected name format: IOVA_2024-02-15_xnas-itch.parquet\n",
      "Warning: Skipping file with unexpected name format: IOVA_2024-02-16_xnas-itch.parquet\n",
      "Warning: Skipping file with unexpected name format: IOVA_2024-02-20_xnas-itch.parquet\n",
      "Warning: Skipping file with unexpected name format: IOVA_2024-02-21_xnas-itch.parquet\n",
      "Warning: Skipping file with unexpected name format: IOVA_2024-02-22_xnas-itch.parquet\n",
      "Warning: Skipping file with unexpected name format: IOVA_2024-02-23_xnas-itch.parquet\n",
      "Warning: Skipping file with unexpected name format: IOVA_2024-02-26_xnas-itch.parquet\n",
      "Warning: Skipping file with unexpected name format: IOVA_2024-02-27_xnas-itch.parquet\n",
      "Warning: Skipping file with unexpected name format: IOVA_2024-02-28_xnas-itch.parquet\n",
      "Warning: Skipping file with unexpected name format: IOVA_2024-02-29_xnas-itch.parquet\n",
      "Warning: Skipping file with unexpected name format: IOVA_2024-03-01_xnas-itch.parquet\n",
      "Warning: Skipping file with unexpected name format: IOVA_2024-03-04_xnas-itch.parquet\n",
      "Warning: Skipping file with unexpected name format: IOVA_2024-03-05_xnas-itch.parquet\n",
      "Warning: Skipping file with unexpected name format: IOVA_2024-03-06_xnas-itch.parquet\n",
      "Warning: Skipping file with unexpected name format: IOVA_2024-03-07_xnas-itch.parquet\n",
      "Warning: Skipping file with unexpected name format: IOVA_2024-03-08_xnas-itch.parquet\n",
      "Warning: Skipping file with unexpected name format: IOVA_2024-03-11_xnas-itch.parquet\n",
      "Warning: Skipping file with unexpected name format: IOVA_2024-03-12_xnas-itch.parquet\n",
      "Warning: Skipping file with unexpected name format: IOVA_2024-03-13_xnas-itch.parquet\n",
      "Warning: Skipping file with unexpected name format: IOVA_2024-03-14_xnas-itch.parquet\n",
      "Warning: Skipping file with unexpected name format: IOVA_2024-03-15_xnas-itch.parquet\n",
      "Warning: Skipping file with unexpected name format: IOVA_2024-03-18_xnas-itch.parquet\n",
      "Warning: Skipping file with unexpected name format: IOVA_2024-03-19_xnas-itch.parquet\n",
      "Warning: Skipping file with unexpected name format: IOVA_2024-03-20_xnas-itch.parquet\n",
      "Warning: Skipping file with unexpected name format: IOVA_2024-03-21_xnas-itch.parquet\n",
      "Warning: Skipping file with unexpected name format: IOVA_2024-03-22_xnas-itch.parquet\n",
      "Warning: Skipping file with unexpected name format: IOVA_2024-03-25_xnas-itch.parquet\n",
      "Warning: Skipping file with unexpected name format: IOVA_2024-03-26_xnas-itch.parquet\n",
      "Warning: Skipping file with unexpected name format: IOVA_2024-03-27_xnas-itch.parquet\n",
      "Warning: Skipping file with unexpected name format: IOVA_2024-03-28_xnas-itch.parquet\n",
      "Warning: Skipping file with unexpected name format: IOVA_2024-04-01_xnas-itch.parquet\n",
      "Warning: Skipping file with unexpected name format: IOVA_2024-04-02_xnas-itch.parquet\n",
      "Warning: Skipping file with unexpected name format: IOVA_2024-04-03_xnas-itch.parquet\n",
      "Warning: Skipping file with unexpected name format: IOVA_2024-04-04_xnas-itch.parquet\n",
      "Warning: Skipping file with unexpected name format: IOVA_2024-04-05_xnas-itch.parquet\n",
      "Warning: Skipping file with unexpected name format: IOVA_2024-04-08_xnas-itch.parquet\n",
      "Warning: Skipping file with unexpected name format: IOVA_2024-04-09_xnas-itch.parquet\n",
      "Warning: Skipping file with unexpected name format: IOVA_2024-04-10_xnas-itch.parquet\n",
      "Warning: Skipping file with unexpected name format: IOVA_2024-04-11_xnas-itch.parquet\n",
      "Warning: Skipping file with unexpected name format: IOVA_2024-04-12_xnas-itch.parquet\n",
      "Warning: Skipping file with unexpected name format: IOVA_2024-04-15_xnas-itch.parquet\n",
      "Warning: Skipping file with unexpected name format: IOVA_2024-04-16_xnas-itch.parquet\n",
      "Warning: Skipping file with unexpected name format: IOVA_2024-04-17_xnas-itch.parquet\n",
      "Warning: Skipping file with unexpected name format: IOVA_2024-04-18_xnas-itch.parquet\n",
      "Warning: Skipping file with unexpected name format: IOVA_2024-04-19_xnas-itch.parquet\n",
      "Warning: Skipping file with unexpected name format: IOVA_2024-04-22_xnas-itch.parquet\n",
      "Warning: Skipping file with unexpected name format: IOVA_2024-04-23_xnas-itch.parquet\n",
      "Warning: Skipping file with unexpected name format: IOVA_2024-04-24_xnas-itch.parquet\n",
      "Warning: Skipping file with unexpected name format: IOVA_2024-04-25_xnas-itch.parquet\n",
      "Warning: Skipping file with unexpected name format: IOVA_2024-04-26_xnas-itch.parquet\n",
      "Warning: Skipping file with unexpected name format: IOVA_2024-04-29_xnas-itch.parquet\n",
      "Warning: Skipping file with unexpected name format: IOVA_2024-04-30_xnas-itch.parquet\n",
      "Warning: Skipping file with unexpected name format: IOVA_2024-05-01_xnas-itch.parquet\n",
      "Warning: Skipping file with unexpected name format: IOVA_2024-05-02_xnas-itch.parquet\n",
      "Warning: Skipping file with unexpected name format: IOVA_2024-05-03_xnas-itch.parquet\n",
      "Warning: Skipping file with unexpected name format: IOVA_2024-05-06_xnas-itch.parquet\n",
      "Warning: Skipping file with unexpected name format: IOVA_2024-05-07_xnas-itch.parquet\n",
      "Warning: Skipping file with unexpected name format: IOVA_2024-05-08_xnas-itch.parquet\n",
      "Warning: Skipping file with unexpected name format: IOVA_2024-05-09_xnas-itch.parquet\n",
      "Warning: Skipping file with unexpected name format: IOVA_2024-05-10_xnas-itch.parquet\n",
      "Warning: Skipping file with unexpected name format: IOVA_2024-05-13_xnas-itch.parquet\n",
      "Warning: Skipping file with unexpected name format: IOVA_2024-05-14_xnas-itch.parquet\n",
      "Warning: Skipping file with unexpected name format: IOVA_2024-05-15_xnas-itch.parquet\n",
      "Warning: Skipping file with unexpected name format: IOVA_2024-05-16_xnas-itch.parquet\n",
      "Warning: Skipping file with unexpected name format: IOVA_2024-05-17_xnas-itch.parquet\n",
      "Warning: Skipping file with unexpected name format: IOVA_2024-05-20_xnas-itch.parquet\n",
      "Warning: Skipping file with unexpected name format: IOVA_2024-05-21_xnas-itch.parquet\n",
      "Warning: Skipping file with unexpected name format: IOVA_2024-05-22_xnas-itch.parquet\n",
      "Warning: Skipping file with unexpected name format: IOVA_2024-05-23_xnas-itch.parquet\n",
      "Warning: Skipping file with unexpected name format: IOVA_2024-05-24_xnas-itch.parquet\n",
      "Warning: Skipping file with unexpected name format: IOVA_2024-05-28_xnas-itch.parquet\n",
      "Warning: Skipping file with unexpected name format: IOVA_2024-05-29_xnas-itch.parquet\n",
      "Warning: Skipping file with unexpected name format: IOVA_2024-05-30_xnas-itch.parquet\n",
      "Warning: Skipping file with unexpected name format: IOVA_2024-05-31_xnas-itch.parquet\n",
      "Warning: Skipping file with unexpected name format: IOVA_2024-06-03_xnas-itch.parquet\n",
      "Warning: Skipping file with unexpected name format: IOVA_2024-06-04_xnas-itch.parquet\n",
      "Warning: Skipping file with unexpected name format: IOVA_2024-06-05_xnas-itch.parquet\n",
      "Warning: Skipping file with unexpected name format: IOVA_2024-06-06_xnas-itch.parquet\n",
      "Warning: Skipping file with unexpected name format: IOVA_2024-06-07_xnas-itch.parquet\n",
      "Warning: Skipping file with unexpected name format: IOVA_2024-06-10_xnas-itch.parquet\n",
      "Warning: Skipping file with unexpected name format: IOVA_2024-06-11_xnas-itch.parquet\n",
      "Warning: Skipping file with unexpected name format: IOVA_2024-06-12_xnas-itch.parquet\n",
      "Warning: Skipping file with unexpected name format: IOVA_2024-06-13_xnas-itch.parquet\n",
      "Warning: Skipping file with unexpected name format: IOVA_2024-06-14_xnas-itch.parquet\n",
      "Warning: Skipping file with unexpected name format: IOVA_2024-06-17_xnas-itch.parquet\n",
      "Warning: Skipping file with unexpected name format: IOVA_2024-06-18_xnas-itch.parquet\n",
      "Warning: Skipping file with unexpected name format: IOVA_2024-06-20_xnas-itch.parquet\n",
      "Warning: Skipping file with unexpected name format: IOVA_2024-06-21_xnas-itch.parquet\n",
      "Warning: Skipping file with unexpected name format: IOVA_2024-06-24_xnas-itch.parquet\n",
      "Warning: Skipping file with unexpected name format: IOVA_2024-06-25_xnas-itch.parquet\n",
      "Warning: Skipping file with unexpected name format: IOVA_2024-06-26_xnas-itch.parquet\n",
      "Warning: Skipping file with unexpected name format: IOVA_2024-06-27_xnas-itch.parquet\n",
      "Warning: Skipping file with unexpected name format: IOVA_2024-06-28_xnas-itch.parquet\n",
      "Warning: Skipping file with unexpected name format: IOVA_2024-07-01_xnas-itch.parquet\n",
      "Warning: Skipping file with unexpected name format: IOVA_2024-07-02_xnas-itch.parquet\n",
      "Warning: Skipping file with unexpected name format: IOVA_2024-07-03_xnas-itch.parquet\n",
      "Warning: Skipping file with unexpected name format: IOVA_2024-07-05_xnas-itch.parquet\n",
      "Warning: Skipping file with unexpected name format: IOVA_2024-07-08_xnas-itch.parquet\n",
      "Warning: Skipping file with unexpected name format: IOVA_2024-07-09_xnas-itch.parquet\n",
      "Warning: Skipping file with unexpected name format: IOVA_2024-07-10_xnas-itch.parquet\n",
      "Warning: Skipping file with unexpected name format: IOVA_2024-07-11_xnas-itch.parquet\n",
      "Warning: Skipping file with unexpected name format: IOVA_2024-07-12_xnas-itch.parquet\n",
      "Warning: Skipping file with unexpected name format: IOVA_2024-07-15_xnas-itch.parquet\n",
      "Warning: Skipping file with unexpected name format: IOVA_2024-07-16_xnas-itch.parquet\n",
      "Warning: Skipping file with unexpected name format: IOVA_2024-07-17_xnas-itch.parquet\n",
      "Warning: Skipping file with unexpected name format: IOVA_2024-07-18_xnas-itch.parquet\n",
      "Warning: Skipping file with unexpected name format: IOVA_2024-07-19_xnas-itch.parquet\n",
      "Warning: Skipping file with unexpected name format: IOVA_2024-07-22_xnas-itch.parquet\n",
      "Warning: Skipping file with unexpected name format: IOVA_2024-07-23_xnas-itch.parquet\n",
      "Warning: Skipping file with unexpected name format: IOVA_2024-07-24_xnas-itch.parquet\n",
      "Warning: Skipping file with unexpected name format: IOVA_2024-07-25_xnas-itch.parquet\n",
      "Warning: Skipping file with unexpected name format: IOVA_2024-07-26_xnas-itch.parquet\n",
      "Warning: Skipping file with unexpected name format: IOVA_2024-07-29_xnas-itch.parquet\n",
      "Warning: Skipping file with unexpected name format: IOVA_2024-07-30_xnas-itch.parquet\n",
      "Warning: Skipping file with unexpected name format: IOVA_2024-07-31_xnas-itch.parquet\n",
      "Warning: Skipping file with unexpected name format: IOVA_2024-08-01_xnas-itch.parquet\n",
      "Warning: Skipping file with unexpected name format: IOVA_2024-08-02_xnas-itch.parquet\n",
      "Warning: Skipping file with unexpected name format: IOVA_2024-08-05_xnas-itch.parquet\n",
      "Warning: Skipping file with unexpected name format: IOVA_2024-08-06_xnas-itch.parquet\n",
      "Warning: Skipping file with unexpected name format: IOVA_2024-08-07_xnas-itch.parquet\n",
      "Warning: Skipping file with unexpected name format: IOVA_2024-08-08_xnas-itch.parquet\n",
      "Warning: Skipping file with unexpected name format: IOVA_2024-08-09_xnas-itch.parquet\n",
      "Warning: Skipping file with unexpected name format: IOVA_2024-08-12_xnas-itch.parquet\n",
      "Warning: Skipping file with unexpected name format: IOVA_2024-08-13_xnas-itch.parquet\n",
      "Warning: Skipping file with unexpected name format: IOVA_2024-08-14_xnas-itch.parquet\n",
      "Warning: Skipping file with unexpected name format: IOVA_2024-08-15_xnas-itch.parquet\n",
      "Warning: Skipping file with unexpected name format: IOVA_2024-08-16_xnas-itch.parquet\n",
      "Warning: Skipping file with unexpected name format: IOVA_2024-08-19_xnas-itch.parquet\n",
      "Warning: Skipping file with unexpected name format: IOVA_2024-08-20_xnas-itch.parquet\n",
      "Warning: Skipping file with unexpected name format: IOVA_2024-08-21_xnas-itch.parquet\n",
      "Warning: Skipping file with unexpected name format: IOVA_2024-08-22_xnas-itch.parquet\n",
      "Warning: Skipping file with unexpected name format: IOVA_2024-08-23_xnas-itch.parquet\n",
      "Warning: Skipping file with unexpected name format: IOVA_2024-08-26_xnas-itch.parquet\n",
      "Warning: Skipping file with unexpected name format: IOVA_2024-08-27_xnas-itch.parquet\n",
      "Warning: Skipping file with unexpected name format: IOVA_2024-08-28_xnas-itch.parquet\n",
      "Warning: Skipping file with unexpected name format: IOVA_2024-08-29_xnas-itch.parquet\n",
      "Warning: Skipping file with unexpected name format: IOVA_2024-08-30_xnas-itch.parquet\n",
      "Warning: Skipping file with unexpected name format: IOVA_2024-09-03_xnas-itch.parquet\n",
      "Warning: Skipping file with unexpected name format: IOVA_2024-09-04_xnas-itch.parquet\n",
      "Warning: Skipping file with unexpected name format: IOVA_2024-09-05_xnas-itch.parquet\n",
      "Warning: Skipping file with unexpected name format: IOVA_2024-09-06_xnas-itch.parquet\n",
      "Warning: Skipping file with unexpected name format: IOVA_2024-09-09_xnas-itch.parquet\n",
      "Warning: Skipping file with unexpected name format: IOVA_2024-09-10_xnas-itch.parquet\n",
      "Warning: Skipping file with unexpected name format: IOVA_2024-09-11_xnas-itch.parquet\n",
      "Warning: Skipping file with unexpected name format: IOVA_2024-09-12_xnas-itch.parquet\n",
      "Warning: Skipping file with unexpected name format: IOVA_2024-09-13_xnas-itch.parquet\n",
      "Warning: Skipping file with unexpected name format: IOVA_2024-09-16_xnas-itch.parquet\n",
      "Warning: Skipping file with unexpected name format: IOVA_2024-09-17_xnas-itch.parquet\n",
      "Warning: Skipping file with unexpected name format: IOVA_2024-09-18_xnas-itch.parquet\n",
      "Warning: Skipping file with unexpected name format: IOVA_2024-09-19_xnas-itch.parquet\n",
      "Warning: Skipping file with unexpected name format: IOVA_2024-09-20_xnas-itch.parquet\n",
      "Warning: Skipping file with unexpected name format: IOVA_2024-09-23_xnas-itch.parquet\n",
      "Warning: Skipping file with unexpected name format: IOVA_2024-09-24_xnas-itch.parquet\n",
      "Warning: Skipping file with unexpected name format: IOVA_2024-09-25_xnas-itch.parquet\n",
      "Warning: Skipping file with unexpected name format: IOVA_2024-09-26_xnas-itch.parquet\n",
      "Warning: Skipping file with unexpected name format: IOVA_2024-09-27_xnas-itch.parquet\n",
      "Warning: Skipping file with unexpected name format: IOVA_2024-09-30_xnas-itch.parquet\n",
      "Warning: Skipping file with unexpected name format: IOVA_2024-10-01_xnas-itch.parquet\n",
      "Warning: Skipping file with unexpected name format: IOVA_2024-10-02_xnas-itch.parquet\n",
      "Warning: Skipping file with unexpected name format: IOVA_2024-10-03_xnas-itch.parquet\n",
      "Warning: Skipping file with unexpected name format: IOVA_2024-10-04_xnas-itch.parquet\n",
      "Warning: Skipping file with unexpected name format: IOVA_2024-10-07_xnas-itch.parquet\n",
      "Warning: Skipping file with unexpected name format: IOVA_2024-10-08_xnas-itch.parquet\n",
      "Warning: Skipping file with unexpected name format: IOVA_2024-10-09_xnas-itch.parquet\n",
      "Warning: Skipping file with unexpected name format: IOVA_2024-10-10_xnas-itch.parquet\n",
      "Warning: Skipping file with unexpected name format: IOVA_2024-10-11_xnas-itch.parquet\n",
      "Warning: Skipping file with unexpected name format: IOVA_2024-10-14_xnas-itch.parquet\n",
      "Warning: Skipping file with unexpected name format: IOVA_2024-10-15_xnas-itch.parquet\n",
      "Warning: Skipping file with unexpected name format: IOVA_2024-10-16_xnas-itch.parquet\n",
      "Warning: Skipping file with unexpected name format: IOVA_2024-10-17_xnas-itch.parquet\n",
      "Warning: Skipping file with unexpected name format: IOVA_2024-10-18_xnas-itch.parquet\n",
      "Warning: Skipping file with unexpected name format: IOVA_2024-10-21_xnas-itch.parquet\n",
      "Warning: Skipping file with unexpected name format: IOVA_2024-10-22_xnas-itch.parquet\n",
      "Warning: Skipping file with unexpected name format: IOVA_2024-10-23_xnas-itch.parquet\n",
      "Warning: Skipping file with unexpected name format: IOVA_2024-10-24_xnas-itch.parquet\n",
      "Warning: Skipping file with unexpected name format: IOVA_2024-10-25_xnas-itch.parquet\n",
      "Warning: Skipping file with unexpected name format: IOVA_2024-10-28_xnas-itch.parquet\n",
      "Warning: Skipping file with unexpected name format: IOVA_2024-10-29_xnas-itch.parquet\n",
      "Warning: Skipping file with unexpected name format: IOVA_2024-10-30_xnas-itch.parquet\n",
      "Warning: Skipping file with unexpected name format: IOVA_2024-10-31_xnas-itch.parquet\n",
      "Warning: Skipping file with unexpected name format: IOVA_2024-11-01_xnas-itch.parquet\n",
      "Warning: Skipping file with unexpected name format: IOVA_2024-11-04_xnas-itch.parquet\n",
      "Warning: Skipping file with unexpected name format: IOVA_2024-11-05_xnas-itch.parquet\n",
      "Warning: Skipping file with unexpected name format: IOVA_2024-11-06_xnas-itch.parquet\n",
      "Warning: Skipping file with unexpected name format: IOVA_2024-11-07_xnas-itch.parquet\n",
      "Warning: Skipping file with unexpected name format: IOVA_2024-11-08_xnas-itch.parquet\n",
      "Warning: Skipping file with unexpected name format: IOVA_2024-11-11_xnas-itch.parquet\n",
      "Warning: Skipping file with unexpected name format: IOVA_2024-11-12_xnas-itch.parquet\n",
      "Warning: Skipping file with unexpected name format: IOVA_2024-11-13_xnas-itch.parquet\n",
      "Warning: Skipping file with unexpected name format: IOVA_2024-11-14_xnas-itch.parquet\n",
      "Warning: Skipping file with unexpected name format: IOVA_2024-11-15_xnas-itch.parquet\n",
      "Warning: Skipping file with unexpected name format: IOVA_2024-11-18_xnas-itch.parquet\n",
      "Warning: Skipping file with unexpected name format: IOVA_2024-11-19_xnas-itch.parquet\n",
      "Warning: Skipping file with unexpected name format: IOVA_2024-11-20_xnas-itch.parquet\n",
      "Warning: Skipping file with unexpected name format: IOVA_2024-11-21_xnas-itch.parquet\n",
      "Warning: Skipping file with unexpected name format: IOVA_2024-11-22_xnas-itch.parquet\n",
      "Warning: Skipping file with unexpected name format: IOVA_2024-11-25_xnas-itch.parquet\n",
      "Warning: Skipping file with unexpected name format: IOVA_2024-11-26_xnas-itch.parquet\n",
      "Warning: Skipping file with unexpected name format: IOVA_2024-11-27_xnas-itch.parquet\n",
      "Warning: Skipping file with unexpected name format: IOVA_2024-11-29_xnas-itch.parquet\n",
      "Warning: Skipping file with unexpected name format: IOVA_2024-12-02_xnas-itch.parquet\n",
      "Warning: Skipping file with unexpected name format: IOVA_2024-12-03_xnas-itch.parquet\n",
      "Warning: Skipping file with unexpected name format: IOVA_2024-12-04_xnas-itch.parquet\n",
      "Warning: Skipping file with unexpected name format: IOVA_2024-12-05_xnas-itch.parquet\n",
      "Warning: Skipping file with unexpected name format: IOVA_2024-12-06_xnas-itch.parquet\n",
      "Warning: Skipping file with unexpected name format: IOVA_2024-12-09_xnas-itch.parquet\n",
      "Warning: Skipping file with unexpected name format: IOVA_2024-12-10_xnas-itch.parquet\n",
      "Warning: Skipping file with unexpected name format: IOVA_2024-12-11_xnas-itch.parquet\n",
      "Warning: Skipping file with unexpected name format: IOVA_2024-12-12_xnas-itch.parquet\n",
      "Warning: Skipping file with unexpected name format: IOVA_2024-12-13_xnas-itch.parquet\n",
      "Warning: Skipping file with unexpected name format: IOVA_2024-12-16_xnas-itch.parquet\n",
      "Warning: Skipping file with unexpected name format: IE_2024-06-24_dbeq-basic.parquet\n",
      "Warning: Skipping file with unexpected name format: IE_2024-06-25_dbeq-basic.parquet\n",
      "Warning: Skipping file with unexpected name format: IE_2024-06-26_dbeq-basic.parquet\n",
      "Warning: Skipping file with unexpected name format: IE_2024-06-27_dbeq-basic.parquet\n",
      "Warning: Skipping file with unexpected name format: IE_2024-06-28_dbeq-basic.parquet\n",
      "Warning: Skipping file with unexpected name format: IE_2024-07-01_dbeq-basic.parquet\n",
      "Warning: Skipping file with unexpected name format: IE_2024-07-02_dbeq-basic.parquet\n",
      "Warning: Skipping file with unexpected name format: IE_2024-07-03_dbeq-basic.parquet\n",
      "Warning: Skipping file with unexpected name format: IE_2024-07-05_dbeq-basic.parquet\n",
      "Warning: Skipping file with unexpected name format: IE_2024-07-08_dbeq-basic.parquet\n",
      "Warning: Skipping file with unexpected name format: IE_2024-07-09_dbeq-basic.parquet\n",
      "Warning: Skipping file with unexpected name format: IE_2024-07-10_dbeq-basic.parquet\n",
      "Warning: Skipping file with unexpected name format: IE_2024-07-11_dbeq-basic.parquet\n",
      "Warning: Skipping file with unexpected name format: IE_2024-07-12_dbeq-basic.parquet\n",
      "Warning: Skipping file with unexpected name format: IE_2024-07-15_dbeq-basic.parquet\n",
      "Warning: Skipping file with unexpected name format: IE_2024-07-16_dbeq-basic.parquet\n",
      "Warning: Skipping file with unexpected name format: IE_2024-07-17_dbeq-basic.parquet\n",
      "Warning: Skipping file with unexpected name format: IE_2024-07-18_dbeq-basic.parquet\n",
      "Warning: Skipping file with unexpected name format: IE_2024-07-19_dbeq-basic.parquet\n",
      "Warning: Skipping file with unexpected name format: IE_2024-07-22_dbeq-basic.parquet\n",
      "Warning: Skipping file with unexpected name format: IE_2024-07-23_dbeq-basic.parquet\n",
      "Warning: Skipping file with unexpected name format: IE_2024-07-24_dbeq-basic.parquet\n",
      "Warning: Skipping file with unexpected name format: IE_2024-07-25_dbeq-basic.parquet\n",
      "Warning: Skipping file with unexpected name format: IE_2024-07-26_dbeq-basic.parquet\n",
      "Warning: Skipping file with unexpected name format: IE_2024-07-29_dbeq-basic.parquet\n",
      "Warning: Skipping file with unexpected name format: IE_2024-07-30_dbeq-basic.parquet\n",
      "Warning: Skipping file with unexpected name format: IE_2024-07-31_dbeq-basic.parquet\n",
      "Warning: Skipping file with unexpected name format: IE_2024-08-01_dbeq-basic.parquet\n",
      "Warning: Skipping file with unexpected name format: IE_2024-08-02_dbeq-basic.parquet\n",
      "Warning: Skipping file with unexpected name format: IE_2024-08-05_dbeq-basic.parquet\n",
      "Warning: Skipping file with unexpected name format: IE_2024-08-06_dbeq-basic.parquet\n",
      "Warning: Skipping file with unexpected name format: IE_2024-08-07_dbeq-basic.parquet\n",
      "Warning: Skipping file with unexpected name format: IE_2024-08-08_dbeq-basic.parquet\n",
      "Warning: Skipping file with unexpected name format: IE_2024-08-09_dbeq-basic.parquet\n",
      "Warning: Skipping file with unexpected name format: IE_2024-08-12_dbeq-basic.parquet\n",
      "Warning: Skipping file with unexpected name format: IE_2024-08-13_dbeq-basic.parquet\n",
      "Warning: Skipping file with unexpected name format: IE_2024-08-14_dbeq-basic.parquet\n",
      "Warning: Skipping file with unexpected name format: IE_2024-08-15_dbeq-basic.parquet\n",
      "Warning: Skipping file with unexpected name format: IE_2024-08-16_dbeq-basic.parquet\n",
      "Warning: Skipping file with unexpected name format: IE_2024-08-19_dbeq-basic.parquet\n",
      "Warning: Skipping file with unexpected name format: IE_2024-08-20_dbeq-basic.parquet\n",
      "Warning: Skipping file with unexpected name format: IE_2024-08-21_dbeq-basic.parquet\n",
      "Warning: Skipping file with unexpected name format: IE_2024-08-22_dbeq-basic.parquet\n",
      "Warning: Skipping file with unexpected name format: IE_2024-08-23_dbeq-basic.parquet\n",
      "Warning: Skipping file with unexpected name format: IE_2024-08-26_dbeq-basic.parquet\n",
      "Warning: Skipping file with unexpected name format: IE_2024-08-27_dbeq-basic.parquet\n",
      "Warning: Skipping file with unexpected name format: IE_2024-08-28_dbeq-basic.parquet\n",
      "Warning: Skipping file with unexpected name format: IE_2024-08-29_dbeq-basic.parquet\n",
      "Warning: Skipping file with unexpected name format: IE_2024-08-30_dbeq-basic.parquet\n",
      "Warning: Skipping file with unexpected name format: IE_2024-09-03_dbeq-basic.parquet\n",
      "Warning: Skipping file with unexpected name format: IE_2024-09-04_dbeq-basic.parquet\n",
      "Warning: Skipping file with unexpected name format: IE_2024-09-05_dbeq-basic.parquet\n",
      "Warning: Skipping file with unexpected name format: IE_2024-09-06_dbeq-basic.parquet\n",
      "Warning: Skipping file with unexpected name format: IE_2024-09-09_dbeq-basic.parquet\n",
      "Warning: Skipping file with unexpected name format: IE_2024-09-10_dbeq-basic.parquet\n",
      "Warning: Skipping file with unexpected name format: IE_2024-09-11_dbeq-basic.parquet\n",
      "Warning: Skipping file with unexpected name format: IE_2024-09-12_dbeq-basic.parquet\n",
      "Warning: Skipping file with unexpected name format: IE_2024-09-13_dbeq-basic.parquet\n",
      "Warning: Skipping file with unexpected name format: IE_2024-09-16_dbeq-basic.parquet\n",
      "Warning: Skipping file with unexpected name format: IE_2024-09-17_dbeq-basic.parquet\n",
      "Warning: Skipping file with unexpected name format: IE_2024-09-18_dbeq-basic.parquet\n",
      "Warning: Skipping file with unexpected name format: IE_2024-09-19_dbeq-basic.parquet\n",
      "Warning: Skipping file with unexpected name format: IE_2024-09-20_dbeq-basic.parquet\n",
      "Warning: Skipping file with unexpected name format: IE_2024-09-23_dbeq-basic.parquet\n",
      "Warning: Skipping file with unexpected name format: AMRX_2023-07-17_xnas-itch.parquet\n",
      "Warning: Skipping file with unexpected name format: AMRX_2023-07-18_xnas-itch.parquet\n",
      "Warning: Skipping file with unexpected name format: AMRX_2023-07-19_xnas-itch.parquet\n",
      "Warning: Skipping file with unexpected name format: AMRX_2023-07-20_xnas-itch.parquet\n",
      "Warning: Skipping file with unexpected name format: AMRX_2023-07-21_xnas-itch.parquet\n",
      "Warning: Skipping file with unexpected name format: AMRX_2023-07-24_xnas-itch.parquet\n",
      "Warning: Skipping file with unexpected name format: AMRX_2023-07-25_xnas-itch.parquet\n",
      "Warning: Skipping file with unexpected name format: AMRX_2023-07-26_xnas-itch.parquet\n",
      "Warning: Skipping file with unexpected name format: AMRX_2023-07-27_xnas-itch.parquet\n",
      "Warning: Skipping file with unexpected name format: AMRX_2023-07-28_xnas-itch.parquet\n",
      "Warning: Skipping file with unexpected name format: AMRX_2023-07-31_xnas-itch.parquet\n",
      "Warning: Skipping file with unexpected name format: AMRX_2023-08-01_xnas-itch.parquet\n",
      "Warning: Skipping file with unexpected name format: AMRX_2023-08-02_xnas-itch.parquet\n",
      "Warning: Skipping file with unexpected name format: AMRX_2023-08-03_xnas-itch.parquet\n",
      "Warning: Skipping file with unexpected name format: AMRX_2023-08-04_xnas-itch.parquet\n",
      "Warning: Skipping file with unexpected name format: AMRX_2023-08-07_xnas-itch.parquet\n",
      "Warning: Skipping file with unexpected name format: AMRX_2023-08-08_xnas-itch.parquet\n",
      "Warning: Skipping file with unexpected name format: AMRX_2023-08-09_xnas-itch.parquet\n",
      "Warning: Skipping file with unexpected name format: AMRX_2023-08-10_xnas-itch.parquet\n",
      "Warning: Skipping file with unexpected name format: AMRX_2023-08-11_xnas-itch.parquet\n",
      "Warning: Skipping file with unexpected name format: AMRX_2023-08-14_xnas-itch.parquet\n",
      "Warning: Skipping file with unexpected name format: AMRX_2023-08-15_xnas-itch.parquet\n",
      "Warning: Skipping file with unexpected name format: AMRX_2023-08-16_xnas-itch.parquet\n",
      "Warning: Skipping file with unexpected name format: AMRX_2023-08-17_xnas-itch.parquet\n",
      "Warning: Skipping file with unexpected name format: AMRX_2023-08-18_xnas-itch.parquet\n",
      "Warning: Skipping file with unexpected name format: AMRX_2023-08-21_xnas-itch.parquet\n",
      "Warning: Skipping file with unexpected name format: AMRX_2023-08-22_xnas-itch.parquet\n",
      "Warning: Skipping file with unexpected name format: AMRX_2023-08-23_xnas-itch.parquet\n",
      "Warning: Skipping file with unexpected name format: AMRX_2023-08-24_xnas-itch.parquet\n",
      "Warning: Skipping file with unexpected name format: AMRX_2023-08-25_xnas-itch.parquet\n",
      "Warning: Skipping file with unexpected name format: AMRX_2023-08-28_xnas-itch.parquet\n",
      "Warning: Skipping file with unexpected name format: AMRX_2023-08-29_xnas-itch.parquet\n",
      "Warning: Skipping file with unexpected name format: AMRX_2023-08-30_xnas-itch.parquet\n",
      "Warning: Skipping file with unexpected name format: AMRX_2023-08-31_xnas-itch.parquet\n",
      "Warning: Skipping file with unexpected name format: AMRX_2023-09-01_xnas-itch.parquet\n",
      "Warning: Skipping file with unexpected name format: AMRX_2023-09-05_xnas-itch.parquet\n",
      "Warning: Skipping file with unexpected name format: AMRX_2023-09-06_xnas-itch.parquet\n",
      "Warning: Skipping file with unexpected name format: AMRX_2023-09-07_xnas-itch.parquet\n",
      "Warning: Skipping file with unexpected name format: AMRX_2023-09-08_xnas-itch.parquet\n",
      "Warning: Skipping file with unexpected name format: AMRX_2023-09-11_xnas-itch.parquet\n",
      "Warning: Skipping file with unexpected name format: AMRX_2023-09-12_xnas-itch.parquet\n",
      "Warning: Skipping file with unexpected name format: AMRX_2023-09-13_xnas-itch.parquet\n",
      "Warning: Skipping file with unexpected name format: AMRX_2023-09-14_xnas-itch.parquet\n",
      "Warning: Skipping file with unexpected name format: AMRX_2023-09-15_xnas-itch.parquet\n",
      "Warning: Skipping file with unexpected name format: AMRX_2023-09-18_xnas-itch.parquet\n",
      "Warning: Skipping file with unexpected name format: AMRX_2023-09-19_xnas-itch.parquet\n",
      "Warning: Skipping file with unexpected name format: AMRX_2023-09-20_xnas-itch.parquet\n",
      "Warning: Skipping file with unexpected name format: AMRX_2023-09-21_xnas-itch.parquet\n",
      "Warning: Skipping file with unexpected name format: AMRX_2023-09-22_xnas-itch.parquet\n",
      "Warning: Skipping file with unexpected name format: AMRX_2023-09-25_xnas-itch.parquet\n",
      "Warning: Skipping file with unexpected name format: AMRX_2023-09-26_xnas-itch.parquet\n",
      "Warning: Skipping file with unexpected name format: AMRX_2023-09-27_xnas-itch.parquet\n",
      "Warning: Skipping file with unexpected name format: AMRX_2023-09-28_xnas-itch.parquet\n",
      "Warning: Skipping file with unexpected name format: AMRX_2023-09-29_xnas-itch.parquet\n",
      "Warning: Skipping file with unexpected name format: AMRX_2023-10-02_xnas-itch.parquet\n",
      "Warning: Skipping file with unexpected name format: AMRX_2023-10-03_xnas-itch.parquet\n",
      "Warning: Skipping file with unexpected name format: AMRX_2023-10-04_xnas-itch.parquet\n",
      "Warning: Skipping file with unexpected name format: AMRX_2023-10-05_xnas-itch.parquet\n",
      "Warning: Skipping file with unexpected name format: AMRX_2023-10-06_xnas-itch.parquet\n",
      "Warning: Skipping file with unexpected name format: AMRX_2023-10-09_xnas-itch.parquet\n",
      "Warning: Skipping file with unexpected name format: AMRX_2023-10-10_xnas-itch.parquet\n",
      "Warning: Skipping file with unexpected name format: AMRX_2023-10-11_xnas-itch.parquet\n",
      "Warning: Skipping file with unexpected name format: AMRX_2023-10-12_xnas-itch.parquet\n",
      "Warning: Skipping file with unexpected name format: AMRX_2023-10-13_xnas-itch.parquet\n",
      "Warning: Skipping file with unexpected name format: AMRX_2023-10-16_xnas-itch.parquet\n",
      "Warning: Skipping file with unexpected name format: AMRX_2023-10-17_xnas-itch.parquet\n",
      "Warning: Skipping file with unexpected name format: AMRX_2023-10-18_xnas-itch.parquet\n",
      "Warning: Skipping file with unexpected name format: AMRX_2023-10-19_xnas-itch.parquet\n",
      "Warning: Skipping file with unexpected name format: AMRX_2023-10-20_xnas-itch.parquet\n",
      "Warning: Skipping file with unexpected name format: AMRX_2023-10-23_xnas-itch.parquet\n",
      "Warning: Skipping file with unexpected name format: AMRX_2023-10-24_xnas-itch.parquet\n",
      "Warning: Skipping file with unexpected name format: AMRX_2023-10-25_xnas-itch.parquet\n",
      "Warning: Skipping file with unexpected name format: AMRX_2023-10-26_xnas-itch.parquet\n",
      "Warning: Skipping file with unexpected name format: AMRX_2023-10-27_xnas-itch.parquet\n",
      "Warning: Skipping file with unexpected name format: AMRX_2023-10-30_xnas-itch.parquet\n",
      "Warning: Skipping file with unexpected name format: AMRX_2023-10-31_xnas-itch.parquet\n",
      "Warning: Skipping file with unexpected name format: AMRX_2023-11-01_xnas-itch.parquet\n",
      "Warning: Skipping file with unexpected name format: AMRX_2023-11-02_xnas-itch.parquet\n",
      "Warning: Skipping file with unexpected name format: AMRX_2023-11-03_xnas-itch.parquet\n",
      "Warning: Skipping file with unexpected name format: AMRX_2023-11-06_xnas-itch.parquet\n",
      "Warning: Skipping file with unexpected name format: AMRX_2023-11-07_xnas-itch.parquet\n",
      "Warning: Skipping file with unexpected name format: AMRX_2023-11-08_xnas-itch.parquet\n",
      "Warning: Skipping file with unexpected name format: AMRX_2023-11-09_xnas-itch.parquet\n",
      "Warning: Skipping file with unexpected name format: AMRX_2023-11-10_xnas-itch.parquet\n",
      "Warning: Skipping file with unexpected name format: AMRX_2023-11-13_xnas-itch.parquet\n",
      "Warning: Skipping file with unexpected name format: AMRX_2023-11-14_xnas-itch.parquet\n",
      "Warning: Skipping file with unexpected name format: AMRX_2023-11-15_xnas-itch.parquet\n",
      "Warning: Skipping file with unexpected name format: AMRX_2023-11-16_xnas-itch.parquet\n",
      "Warning: Skipping file with unexpected name format: AMRX_2023-11-17_xnas-itch.parquet\n",
      "Warning: Skipping file with unexpected name format: AMRX_2023-11-20_xnas-itch.parquet\n",
      "Warning: Skipping file with unexpected name format: AMRX_2023-11-21_xnas-itch.parquet\n",
      "Warning: Skipping file with unexpected name format: AMRX_2023-11-22_xnas-itch.parquet\n",
      "Warning: Skipping file with unexpected name format: AMRX_2023-11-24_xnas-itch.parquet\n",
      "Warning: Skipping file with unexpected name format: AMRX_2023-11-27_xnas-itch.parquet\n",
      "Warning: Skipping file with unexpected name format: AMRX_2023-11-28_xnas-itch.parquet\n",
      "Warning: Skipping file with unexpected name format: AMRX_2023-11-29_xnas-itch.parquet\n",
      "Warning: Skipping file with unexpected name format: AMRX_2023-11-30_xnas-itch.parquet\n",
      "Warning: Skipping file with unexpected name format: AMRX_2023-12-01_xnas-itch.parquet\n",
      "Warning: Skipping file with unexpected name format: AMRX_2023-12-04_xnas-itch.parquet\n",
      "Warning: Skipping file with unexpected name format: AMRX_2023-12-05_xnas-itch.parquet\n",
      "Warning: Skipping file with unexpected name format: AMRX_2023-12-06_xnas-itch.parquet\n",
      "Warning: Skipping file with unexpected name format: AMRX_2023-12-07_xnas-itch.parquet\n",
      "Warning: Skipping file with unexpected name format: AMRX_2023-12-08_xnas-itch.parquet\n",
      "Warning: Skipping file with unexpected name format: AMRX_2023-12-11_xnas-itch.parquet\n",
      "Warning: Skipping file with unexpected name format: AMRX_2023-12-12_xnas-itch.parquet\n",
      "Warning: Skipping file with unexpected name format: AMRX_2023-12-13_xnas-itch.parquet\n",
      "Warning: Skipping file with unexpected name format: AMRX_2023-12-14_xnas-itch.parquet\n",
      "Warning: Skipping file with unexpected name format: AMRX_2023-12-15_xnas-itch.parquet\n",
      "Warning: Skipping file with unexpected name format: AMRX_2023-12-18_xnas-itch.parquet\n",
      "Warning: Skipping file with unexpected name format: AMRX_2023-12-19_xnas-itch.parquet\n",
      "Warning: Skipping file with unexpected name format: AMRX_2023-12-20_xnas-itch.parquet\n",
      "Warning: Skipping file with unexpected name format: AMRX_2023-12-21_xnas-itch.parquet\n",
      "Warning: Skipping file with unexpected name format: AMRX_2023-12-22_xnas-itch.parquet\n",
      "Warning: Skipping file with unexpected name format: AMRX_2023-12-26_xnas-itch.parquet\n",
      "Warning: Skipping file with unexpected name format: AMRX_2023-12-27_xnas-itch.parquet\n",
      "Warning: Skipping file with unexpected name format: AMRX_2023-12-28_xnas-itch.parquet\n",
      "Warning: Skipping file with unexpected name format: AMRX_2023-12-29_xnas-itch.parquet\n",
      "Warning: Skipping file with unexpected name format: AMRX_2024-01-02_xnas-itch.parquet\n",
      "Warning: Skipping file with unexpected name format: AMRX_2024-01-03_xnas-itch.parquet\n",
      "Warning: Skipping file with unexpected name format: AMRX_2024-01-04_xnas-itch.parquet\n",
      "Warning: Skipping file with unexpected name format: AMRX_2024-01-05_xnas-itch.parquet\n",
      "Warning: Skipping file with unexpected name format: AMRX_2024-01-08_xnas-itch.parquet\n",
      "Warning: Skipping file with unexpected name format: AMRX_2024-01-09_xnas-itch.parquet\n",
      "Warning: Skipping file with unexpected name format: AMRX_2024-01-10_xnas-itch.parquet\n",
      "Warning: Skipping file with unexpected name format: AMRX_2024-01-11_xnas-itch.parquet\n",
      "Warning: Skipping file with unexpected name format: AMRX_2024-01-12_xnas-itch.parquet\n",
      "Warning: Skipping file with unexpected name format: AMRX_2024-01-16_xnas-itch.parquet\n",
      "Warning: Skipping file with unexpected name format: AMRX_2024-01-17_xnas-itch.parquet\n",
      "Warning: Skipping file with unexpected name format: AMRX_2024-01-18_xnas-itch.parquet\n",
      "Warning: Skipping file with unexpected name format: AMRX_2024-01-19_xnas-itch.parquet\n",
      "Warning: Skipping file with unexpected name format: AMRX_2024-01-22_xnas-itch.parquet\n",
      "Warning: Skipping file with unexpected name format: AMRX_2024-01-23_xnas-itch.parquet\n",
      "Warning: Skipping file with unexpected name format: AMRX_2024-01-24_xnas-itch.parquet\n",
      "Warning: Skipping file with unexpected name format: AMRX_2024-01-25_xnas-itch.parquet\n",
      "Warning: Skipping file with unexpected name format: AMRX_2024-01-26_xnas-itch.parquet\n",
      "Warning: Skipping file with unexpected name format: AMRX_2024-01-29_xnas-itch.parquet\n",
      "Warning: Skipping file with unexpected name format: AMRX_2024-01-30_xnas-itch.parquet\n",
      "Warning: Skipping file with unexpected name format: AMRX_2024-01-31_xnas-itch.parquet\n",
      "Warning: Skipping file with unexpected name format: AMRX_2024-02-01_xnas-itch.parquet\n",
      "Warning: Skipping file with unexpected name format: AMRX_2024-02-02_xnas-itch.parquet\n",
      "Warning: Skipping file with unexpected name format: AMRX_2024-02-05_xnas-itch.parquet\n",
      "Warning: Skipping file with unexpected name format: AMRX_2024-02-06_xnas-itch.parquet\n",
      "Warning: Skipping file with unexpected name format: AMRX_2024-02-07_xnas-itch.parquet\n",
      "Warning: Skipping file with unexpected name format: AMRX_2024-02-08_xnas-itch.parquet\n",
      "Warning: Skipping file with unexpected name format: AMRX_2024-02-09_xnas-itch.parquet\n",
      "Warning: Skipping file with unexpected name format: AMRX_2024-02-12_xnas-itch.parquet\n",
      "Warning: Skipping file with unexpected name format: AMRX_2024-02-13_xnas-itch.parquet\n",
      "Warning: Skipping file with unexpected name format: AMRX_2024-02-14_xnas-itch.parquet\n",
      "Warning: Skipping file with unexpected name format: AMRX_2024-02-15_xnas-itch.parquet\n",
      "Warning: Skipping file with unexpected name format: AMRX_2024-02-16_xnas-itch.parquet\n",
      "Warning: Skipping file with unexpected name format: AMRX_2024-02-20_xnas-itch.parquet\n",
      "Warning: Skipping file with unexpected name format: AMRX_2024-02-21_xnas-itch.parquet\n",
      "Warning: Skipping file with unexpected name format: AMRX_2024-02-22_xnas-itch.parquet\n",
      "Warning: Skipping file with unexpected name format: AMRX_2024-02-23_xnas-itch.parquet\n",
      "Warning: Skipping file with unexpected name format: AMRX_2024-02-26_xnas-itch.parquet\n",
      "Warning: Skipping file with unexpected name format: AMRX_2024-02-27_xnas-itch.parquet\n",
      "Warning: Skipping file with unexpected name format: AMRX_2024-02-28_xnas-itch.parquet\n",
      "Warning: Skipping file with unexpected name format: AMRX_2024-02-29_xnas-itch.parquet\n",
      "Warning: Skipping file with unexpected name format: AMRX_2024-03-01_xnas-itch.parquet\n",
      "Warning: Skipping file with unexpected name format: AMRX_2024-03-04_xnas-itch.parquet\n",
      "Warning: Skipping file with unexpected name format: AMRX_2024-03-05_xnas-itch.parquet\n",
      "Warning: Skipping file with unexpected name format: AMRX_2024-03-06_xnas-itch.parquet\n",
      "Warning: Skipping file with unexpected name format: AMRX_2024-03-07_xnas-itch.parquet\n",
      "Warning: Skipping file with unexpected name format: AMRX_2024-03-08_xnas-itch.parquet\n",
      "Warning: Skipping file with unexpected name format: AMRX_2024-03-11_xnas-itch.parquet\n",
      "Warning: Skipping file with unexpected name format: AMRX_2024-03-12_xnas-itch.parquet\n",
      "Warning: Skipping file with unexpected name format: AMRX_2024-03-13_xnas-itch.parquet\n",
      "Warning: Skipping file with unexpected name format: AMRX_2024-03-14_xnas-itch.parquet\n",
      "Warning: Skipping file with unexpected name format: AMRX_2024-03-15_xnas-itch.parquet\n",
      "Warning: Skipping file with unexpected name format: AMRX_2024-03-18_xnas-itch.parquet\n",
      "Warning: Skipping file with unexpected name format: AMRX_2024-03-19_xnas-itch.parquet\n",
      "Warning: Skipping file with unexpected name format: AMRX_2024-03-20_xnas-itch.parquet\n",
      "Warning: Skipping file with unexpected name format: AMRX_2024-03-21_xnas-itch.parquet\n",
      "Warning: Skipping file with unexpected name format: AMRX_2024-03-22_xnas-itch.parquet\n",
      "Warning: Skipping file with unexpected name format: AMRX_2024-03-25_xnas-itch.parquet\n",
      "Warning: Skipping file with unexpected name format: AMRX_2024-03-26_xnas-itch.parquet\n",
      "Warning: Skipping file with unexpected name format: AMRX_2024-03-27_xnas-itch.parquet\n",
      "Warning: Skipping file with unexpected name format: AMRX_2024-03-28_xnas-itch.parquet\n",
      "Warning: Skipping file with unexpected name format: AMRX_2024-04-01_xnas-itch.parquet\n",
      "Warning: Skipping file with unexpected name format: AMRX_2024-04-02_xnas-itch.parquet\n",
      "Warning: Skipping file with unexpected name format: AMRX_2024-04-03_xnas-itch.parquet\n",
      "Warning: Skipping file with unexpected name format: AMRX_2024-04-04_xnas-itch.parquet\n",
      "Warning: Skipping file with unexpected name format: AMRX_2024-04-05_xnas-itch.parquet\n",
      "Warning: Skipping file with unexpected name format: AMRX_2024-04-08_xnas-itch.parquet\n",
      "Warning: Skipping file with unexpected name format: AMRX_2024-04-09_xnas-itch.parquet\n",
      "Warning: Skipping file with unexpected name format: AMRX_2024-04-10_xnas-itch.parquet\n",
      "Warning: Skipping file with unexpected name format: AMRX_2024-04-11_xnas-itch.parquet\n",
      "Warning: Skipping file with unexpected name format: AMRX_2024-04-12_xnas-itch.parquet\n",
      "Warning: Skipping file with unexpected name format: AMRX_2024-04-15_xnas-itch.parquet\n",
      "Warning: Skipping file with unexpected name format: AMRX_2024-04-16_xnas-itch.parquet\n",
      "Warning: Skipping file with unexpected name format: AMRX_2024-04-17_xnas-itch.parquet\n",
      "Warning: Skipping file with unexpected name format: AMRX_2024-04-18_xnas-itch.parquet\n",
      "Warning: Skipping file with unexpected name format: AMRX_2024-04-19_xnas-itch.parquet\n",
      "Warning: Skipping file with unexpected name format: AMRX_2024-04-22_xnas-itch.parquet\n",
      "Warning: Skipping file with unexpected name format: AMRX_2024-04-23_xnas-itch.parquet\n",
      "Warning: Skipping file with unexpected name format: AMRX_2024-04-24_xnas-itch.parquet\n",
      "Warning: Skipping file with unexpected name format: AMRX_2024-04-25_xnas-itch.parquet\n",
      "Warning: Skipping file with unexpected name format: AMRX_2024-04-26_xnas-itch.parquet\n",
      "Warning: Skipping file with unexpected name format: AMRX_2024-04-29_xnas-itch.parquet\n",
      "Warning: Skipping file with unexpected name format: AMRX_2024-04-30_xnas-itch.parquet\n",
      "Warning: Skipping file with unexpected name format: AMRX_2024-05-01_xnas-itch.parquet\n",
      "Warning: Skipping file with unexpected name format: AMRX_2024-05-02_xnas-itch.parquet\n",
      "Warning: Skipping file with unexpected name format: AMRX_2024-05-03_xnas-itch.parquet\n",
      "Warning: Skipping file with unexpected name format: AMRX_2024-05-06_xnas-itch.parquet\n",
      "Warning: Skipping file with unexpected name format: AMRX_2024-05-07_xnas-itch.parquet\n",
      "Warning: Skipping file with unexpected name format: AMRX_2024-05-08_xnas-itch.parquet\n",
      "Warning: Skipping file with unexpected name format: AMRX_2024-05-09_xnas-itch.parquet\n",
      "Warning: Skipping file with unexpected name format: AMRX_2024-05-10_xnas-itch.parquet\n",
      "Warning: Skipping file with unexpected name format: AMRX_2024-05-13_xnas-itch.parquet\n",
      "Warning: Skipping file with unexpected name format: AMRX_2024-05-14_xnas-itch.parquet\n",
      "Warning: Skipping file with unexpected name format: AMRX_2024-05-15_xnas-itch.parquet\n",
      "Warning: Skipping file with unexpected name format: AMRX_2024-05-16_xnas-itch.parquet\n",
      "Warning: Skipping file with unexpected name format: AMRX_2024-05-17_xnas-itch.parquet\n",
      "Warning: Skipping file with unexpected name format: AMRX_2024-05-20_xnas-itch.parquet\n",
      "Warning: Skipping file with unexpected name format: AMRX_2024-05-21_xnas-itch.parquet\n",
      "Warning: Skipping file with unexpected name format: AMRX_2024-05-22_xnas-itch.parquet\n",
      "Warning: Skipping file with unexpected name format: AMRX_2024-05-23_xnas-itch.parquet\n",
      "Warning: Skipping file with unexpected name format: AMRX_2024-05-24_xnas-itch.parquet\n",
      "Warning: Skipping file with unexpected name format: AMRX_2024-05-28_xnas-itch.parquet\n",
      "Warning: Skipping file with unexpected name format: AMRX_2024-05-29_xnas-itch.parquet\n",
      "Warning: Skipping file with unexpected name format: AMRX_2024-05-30_xnas-itch.parquet\n",
      "Warning: Skipping file with unexpected name format: AMRX_2024-05-31_xnas-itch.parquet\n",
      "Warning: Skipping file with unexpected name format: AMRX_2024-06-03_xnas-itch.parquet\n",
      "Warning: Skipping file with unexpected name format: AMRX_2024-06-04_xnas-itch.parquet\n",
      "Warning: Skipping file with unexpected name format: AMRX_2024-06-05_xnas-itch.parquet\n",
      "Warning: Skipping file with unexpected name format: AMRX_2024-06-06_xnas-itch.parquet\n",
      "Warning: Skipping file with unexpected name format: AMRX_2024-06-07_xnas-itch.parquet\n",
      "Warning: Skipping file with unexpected name format: AMRX_2024-06-10_xnas-itch.parquet\n",
      "Warning: Skipping file with unexpected name format: AMRX_2024-06-11_xnas-itch.parquet\n",
      "Warning: Skipping file with unexpected name format: AMRX_2024-06-12_xnas-itch.parquet\n",
      "Warning: Skipping file with unexpected name format: AMRX_2024-06-13_xnas-itch.parquet\n",
      "Warning: Skipping file with unexpected name format: AMRX_2024-06-14_xnas-itch.parquet\n",
      "Warning: Skipping file with unexpected name format: AMRX_2024-06-17_xnas-itch.parquet\n",
      "Warning: Skipping file with unexpected name format: AMRX_2024-06-18_xnas-itch.parquet\n",
      "Warning: Skipping file with unexpected name format: AMRX_2024-06-20_xnas-itch.parquet\n",
      "Warning: Skipping file with unexpected name format: AMRX_2024-06-21_xnas-itch.parquet\n",
      "Warning: Skipping file with unexpected name format: AMRX_2024-06-24_xnas-itch.parquet\n",
      "Warning: Skipping file with unexpected name format: AMRX_2024-06-25_xnas-itch.parquet\n",
      "Warning: Skipping file with unexpected name format: AMRX_2024-06-26_xnas-itch.parquet\n",
      "Warning: Skipping file with unexpected name format: AMRX_2024-06-27_xnas-itch.parquet\n",
      "Warning: Skipping file with unexpected name format: AMRX_2024-06-28_xnas-itch.parquet\n",
      "Warning: Skipping file with unexpected name format: AMRX_2024-07-01_xnas-itch.parquet\n",
      "Warning: Skipping file with unexpected name format: AMRX_2024-07-02_xnas-itch.parquet\n",
      "Warning: Skipping file with unexpected name format: AMRX_2024-07-03_xnas-itch.parquet\n",
      "Warning: Skipping file with unexpected name format: AMRX_2024-07-05_xnas-itch.parquet\n",
      "Warning: Skipping file with unexpected name format: AMRX_2024-07-08_xnas-itch.parquet\n",
      "Warning: Skipping file with unexpected name format: AMRX_2024-07-09_xnas-itch.parquet\n",
      "Warning: Skipping file with unexpected name format: AMRX_2024-07-10_xnas-itch.parquet\n",
      "Warning: Skipping file with unexpected name format: AMRX_2024-07-11_xnas-itch.parquet\n",
      "Warning: Skipping file with unexpected name format: AMRX_2024-07-12_xnas-itch.parquet\n",
      "Warning: Skipping file with unexpected name format: AMRX_2024-07-15_xnas-itch.parquet\n",
      "Warning: Skipping file with unexpected name format: AMRX_2024-07-16_xnas-itch.parquet\n",
      "Warning: Skipping file with unexpected name format: AMRX_2024-07-17_xnas-itch.parquet\n",
      "Warning: Skipping file with unexpected name format: AMRX_2024-07-18_xnas-itch.parquet\n",
      "Warning: Skipping file with unexpected name format: AMRX_2024-07-19_xnas-itch.parquet\n",
      "Warning: Skipping file with unexpected name format: AMRX_2024-07-22_xnas-itch.parquet\n",
      "Warning: Skipping file with unexpected name format: AMRX_2024-07-23_xnas-itch.parquet\n",
      "Warning: Skipping file with unexpected name format: AMRX_2024-07-24_xnas-itch.parquet\n",
      "Warning: Skipping file with unexpected name format: AMRX_2024-07-25_xnas-itch.parquet\n",
      "Warning: Skipping file with unexpected name format: AMRX_2024-07-26_xnas-itch.parquet\n",
      "Warning: Skipping file with unexpected name format: AMRX_2024-07-29_xnas-itch.parquet\n",
      "Warning: Skipping file with unexpected name format: AMRX_2024-07-30_xnas-itch.parquet\n",
      "Warning: Skipping file with unexpected name format: AMRX_2024-07-31_xnas-itch.parquet\n",
      "Warning: Skipping file with unexpected name format: AMRX_2024-08-01_xnas-itch.parquet\n",
      "Warning: Skipping file with unexpected name format: AMRX_2024-08-02_xnas-itch.parquet\n",
      "Warning: Skipping file with unexpected name format: AMRX_2024-08-05_xnas-itch.parquet\n",
      "Warning: Skipping file with unexpected name format: AMRX_2024-08-06_xnas-itch.parquet\n",
      "Warning: Skipping file with unexpected name format: AMRX_2024-08-07_xnas-itch.parquet\n",
      "Warning: Skipping file with unexpected name format: AMRX_2024-08-08_xnas-itch.parquet\n",
      "Warning: Skipping file with unexpected name format: AMRX_2024-08-09_xnas-itch.parquet\n",
      "Warning: Skipping file with unexpected name format: AMRX_2024-08-12_xnas-itch.parquet\n",
      "Warning: Skipping file with unexpected name format: AMRX_2024-08-13_xnas-itch.parquet\n",
      "Warning: Skipping file with unexpected name format: AMRX_2024-08-14_xnas-itch.parquet\n",
      "Warning: Skipping file with unexpected name format: AMRX_2024-08-15_xnas-itch.parquet\n",
      "Warning: Skipping file with unexpected name format: AMRX_2024-08-16_xnas-itch.parquet\n",
      "Warning: Skipping file with unexpected name format: AMRX_2024-08-19_xnas-itch.parquet\n",
      "Warning: Skipping file with unexpected name format: AMRX_2024-08-20_xnas-itch.parquet\n",
      "Warning: Skipping file with unexpected name format: AMRX_2024-08-21_xnas-itch.parquet\n",
      "Warning: Skipping file with unexpected name format: AMRX_2024-08-22_xnas-itch.parquet\n",
      "Warning: Skipping file with unexpected name format: AMRX_2024-08-23_xnas-itch.parquet\n",
      "Warning: Skipping file with unexpected name format: AMRX_2024-08-26_xnas-itch.parquet\n",
      "Warning: Skipping file with unexpected name format: AMRX_2024-08-27_xnas-itch.parquet\n",
      "Warning: Skipping file with unexpected name format: AMRX_2024-08-28_xnas-itch.parquet\n",
      "Warning: Skipping file with unexpected name format: AMRX_2024-08-29_xnas-itch.parquet\n",
      "Warning: Skipping file with unexpected name format: AMRX_2024-08-30_xnas-itch.parquet\n",
      "Warning: Skipping file with unexpected name format: AMRX_2024-09-03_xnas-itch.parquet\n",
      "Warning: Skipping file with unexpected name format: AMRX_2024-09-04_xnas-itch.parquet\n",
      "Warning: Skipping file with unexpected name format: AMRX_2024-09-05_xnas-itch.parquet\n",
      "Warning: Skipping file with unexpected name format: AMRX_2024-09-06_xnas-itch.parquet\n",
      "Warning: Skipping file with unexpected name format: AMRX_2024-09-09_xnas-itch.parquet\n",
      "Warning: Skipping file with unexpected name format: AMRX_2024-09-10_xnas-itch.parquet\n",
      "Warning: Skipping file with unexpected name format: AMRX_2024-09-11_xnas-itch.parquet\n",
      "Warning: Skipping file with unexpected name format: AMRX_2024-09-12_xnas-itch.parquet\n",
      "Warning: Skipping file with unexpected name format: AMRX_2024-09-13_xnas-itch.parquet\n",
      "Warning: Skipping file with unexpected name format: AMRX_2024-09-16_xnas-itch.parquet\n",
      "Warning: Skipping file with unexpected name format: AMRX_2024-09-17_xnas-itch.parquet\n",
      "Warning: Skipping file with unexpected name format: AMRX_2024-09-18_xnas-itch.parquet\n",
      "Warning: Skipping file with unexpected name format: AMRX_2024-09-19_xnas-itch.parquet\n",
      "Warning: Skipping file with unexpected name format: AMRX_2024-09-20_xnas-itch.parquet\n",
      "Warning: Skipping file with unexpected name format: AMRX_2024-09-23_xnas-itch.parquet\n",
      "Warning: Skipping file with unexpected name format: AMRX_2024-09-24_xnas-itch.parquet\n",
      "Warning: Skipping file with unexpected name format: AMRX_2024-09-25_xnas-itch.parquet\n",
      "Warning: Skipping file with unexpected name format: AMRX_2024-09-26_xnas-itch.parquet\n",
      "Warning: Skipping file with unexpected name format: AMRX_2024-09-27_xnas-itch.parquet\n",
      "Warning: Skipping file with unexpected name format: AMRX_2024-09-30_xnas-itch.parquet\n",
      "Warning: Skipping file with unexpected name format: AMRX_2024-10-01_xnas-itch.parquet\n",
      "Warning: Skipping file with unexpected name format: AMRX_2024-10-02_xnas-itch.parquet\n",
      "Warning: Skipping file with unexpected name format: AMRX_2024-10-03_xnas-itch.parquet\n",
      "Warning: Skipping file with unexpected name format: AMRX_2024-10-04_xnas-itch.parquet\n",
      "Warning: Skipping file with unexpected name format: AMRX_2024-10-07_xnas-itch.parquet\n",
      "Warning: Skipping file with unexpected name format: AMRX_2024-10-08_xnas-itch.parquet\n",
      "Warning: Skipping file with unexpected name format: AMRX_2024-10-09_xnas-itch.parquet\n",
      "Warning: Skipping file with unexpected name format: AMRX_2024-10-10_xnas-itch.parquet\n",
      "Warning: Skipping file with unexpected name format: AMRX_2024-10-11_xnas-itch.parquet\n",
      "Warning: Skipping file with unexpected name format: AMRX_2024-10-14_xnas-itch.parquet\n",
      "Warning: Skipping file with unexpected name format: AMRX_2024-10-15_xnas-itch.parquet\n",
      "Warning: Skipping file with unexpected name format: AMRX_2024-10-16_xnas-itch.parquet\n",
      "Warning: Skipping file with unexpected name format: AMRX_2024-10-17_xnas-itch.parquet\n",
      "Warning: Skipping file with unexpected name format: AMRX_2024-10-18_xnas-itch.parquet\n",
      "Warning: Skipping file with unexpected name format: AMRX_2024-10-21_xnas-itch.parquet\n",
      "Warning: Skipping file with unexpected name format: AMRX_2024-10-22_xnas-itch.parquet\n",
      "Warning: Skipping file with unexpected name format: AMRX_2024-10-23_xnas-itch.parquet\n",
      "Warning: Skipping file with unexpected name format: AMRX_2024-10-24_xnas-itch.parquet\n",
      "Warning: Skipping file with unexpected name format: AMRX_2024-10-25_xnas-itch.parquet\n",
      "Warning: Skipping file with unexpected name format: AMRX_2024-10-28_xnas-itch.parquet\n",
      "Warning: Skipping file with unexpected name format: AMRX_2024-10-29_xnas-itch.parquet\n",
      "Warning: Skipping file with unexpected name format: AMRX_2024-10-30_xnas-itch.parquet\n",
      "Warning: Skipping file with unexpected name format: AMRX_2024-10-31_xnas-itch.parquet\n",
      "Warning: Skipping file with unexpected name format: AMRX_2024-11-01_xnas-itch.parquet\n",
      "Warning: Skipping file with unexpected name format: AMRX_2024-11-04_xnas-itch.parquet\n",
      "Warning: Skipping file with unexpected name format: AMRX_2024-11-05_xnas-itch.parquet\n",
      "Warning: Skipping file with unexpected name format: AMRX_2024-11-06_xnas-itch.parquet\n",
      "Warning: Skipping file with unexpected name format: AMRX_2024-11-07_xnas-itch.parquet\n",
      "Warning: Skipping file with unexpected name format: AMRX_2024-11-08_xnas-itch.parquet\n",
      "Warning: Skipping file with unexpected name format: AMRX_2024-11-11_xnas-itch.parquet\n",
      "Warning: Skipping file with unexpected name format: AMRX_2024-11-12_xnas-itch.parquet\n",
      "Warning: Skipping file with unexpected name format: AMRX_2024-11-13_xnas-itch.parquet\n",
      "Warning: Skipping file with unexpected name format: AMRX_2024-11-14_xnas-itch.parquet\n",
      "Warning: Skipping file with unexpected name format: AMRX_2024-11-15_xnas-itch.parquet\n",
      "Warning: Skipping file with unexpected name format: AMRX_2024-11-18_xnas-itch.parquet\n",
      "Warning: Skipping file with unexpected name format: AMRX_2024-11-19_xnas-itch.parquet\n",
      "Warning: Skipping file with unexpected name format: AMRX_2024-11-20_xnas-itch.parquet\n",
      "Warning: Skipping file with unexpected name format: AMRX_2024-11-21_xnas-itch.parquet\n",
      "Warning: Skipping file with unexpected name format: AMRX_2024-11-22_xnas-itch.parquet\n",
      "Warning: Skipping file with unexpected name format: AMRX_2024-11-25_xnas-itch.parquet\n",
      "Warning: Skipping file with unexpected name format: AMRX_2024-11-26_xnas-itch.parquet\n",
      "Warning: Skipping file with unexpected name format: AMRX_2024-11-27_xnas-itch.parquet\n",
      "Warning: Skipping file with unexpected name format: AMRX_2024-11-29_xnas-itch.parquet\n",
      "Warning: Skipping file with unexpected name format: AMRX_2024-12-02_xnas-itch.parquet\n",
      "Warning: Skipping file with unexpected name format: AMRX_2024-12-03_xnas-itch.parquet\n",
      "Warning: Skipping file with unexpected name format: AMRX_2024-12-04_xnas-itch.parquet\n",
      "Warning: Skipping file with unexpected name format: AMRX_2024-12-05_xnas-itch.parquet\n",
      "Warning: Skipping file with unexpected name format: AMRX_2024-12-06_xnas-itch.parquet\n",
      "Warning: Skipping file with unexpected name format: AMRX_2024-12-09_xnas-itch.parquet\n",
      "Warning: Skipping file with unexpected name format: AMRX_2024-12-10_xnas-itch.parquet\n",
      "Warning: Skipping file with unexpected name format: AMRX_2024-12-11_xnas-itch.parquet\n",
      "Warning: Skipping file with unexpected name format: AMRX_2024-12-12_xnas-itch.parquet\n",
      "Warning: Skipping file with unexpected name format: AMRX_2024-12-13_xnas-itch.parquet\n",
      "Warning: Skipping file with unexpected name format: AMRX_2024-12-16_xnas-itch.parquet\n",
      "Warning: Skipping file with unexpected name format: RIOT_2024-06-24_dbeq-basic.parquet\n",
      "Warning: Skipping file with unexpected name format: RIOT_2024-06-25_dbeq-basic.parquet\n",
      "Warning: Skipping file with unexpected name format: RIOT_2024-06-26_dbeq-basic.parquet\n",
      "Warning: Skipping file with unexpected name format: RIOT_2024-06-27_dbeq-basic.parquet\n",
      "Warning: Skipping file with unexpected name format: RIOT_2024-06-28_dbeq-basic.parquet\n",
      "Warning: Skipping file with unexpected name format: RIOT_2024-07-01_dbeq-basic.parquet\n",
      "Warning: Skipping file with unexpected name format: RIOT_2024-07-02_dbeq-basic.parquet\n",
      "Warning: Skipping file with unexpected name format: RIOT_2024-07-03_dbeq-basic.parquet\n",
      "Warning: Skipping file with unexpected name format: RIOT_2024-07-05_dbeq-basic.parquet\n",
      "Warning: Skipping file with unexpected name format: RIOT_2024-07-08_dbeq-basic.parquet\n",
      "Warning: Skipping file with unexpected name format: RIOT_2024-07-09_dbeq-basic.parquet\n",
      "Warning: Skipping file with unexpected name format: RIOT_2024-07-10_dbeq-basic.parquet\n",
      "Warning: Skipping file with unexpected name format: RIOT_2024-07-11_dbeq-basic.parquet\n",
      "Warning: Skipping file with unexpected name format: RIOT_2024-07-12_dbeq-basic.parquet\n",
      "Warning: Skipping file with unexpected name format: RIOT_2024-07-15_dbeq-basic.parquet\n",
      "Warning: Skipping file with unexpected name format: RIOT_2024-07-16_dbeq-basic.parquet\n",
      "Warning: Skipping file with unexpected name format: RIOT_2024-07-17_dbeq-basic.parquet\n",
      "Warning: Skipping file with unexpected name format: RIOT_2024-07-18_dbeq-basic.parquet\n",
      "Warning: Skipping file with unexpected name format: RIOT_2024-07-19_dbeq-basic.parquet\n",
      "Warning: Skipping file with unexpected name format: RIOT_2024-07-22_dbeq-basic.parquet\n",
      "Warning: Skipping file with unexpected name format: RIOT_2024-07-23_dbeq-basic.parquet\n",
      "Warning: Skipping file with unexpected name format: RIOT_2024-07-24_dbeq-basic.parquet\n",
      "Warning: Skipping file with unexpected name format: RIOT_2024-07-25_dbeq-basic.parquet\n",
      "Warning: Skipping file with unexpected name format: RIOT_2024-07-26_dbeq-basic.parquet\n",
      "Warning: Skipping file with unexpected name format: RIOT_2024-07-29_dbeq-basic.parquet\n",
      "Warning: Skipping file with unexpected name format: RIOT_2024-07-30_dbeq-basic.parquet\n",
      "Warning: Skipping file with unexpected name format: RIOT_2024-07-31_dbeq-basic.parquet\n",
      "Warning: Skipping file with unexpected name format: RIOT_2024-08-01_dbeq-basic.parquet\n",
      "Warning: Skipping file with unexpected name format: RIOT_2024-08-02_dbeq-basic.parquet\n",
      "Warning: Skipping file with unexpected name format: RIOT_2024-08-05_dbeq-basic.parquet\n",
      "Warning: Skipping file with unexpected name format: RIOT_2024-08-06_dbeq-basic.parquet\n",
      "Warning: Skipping file with unexpected name format: RIOT_2024-08-07_dbeq-basic.parquet\n",
      "Warning: Skipping file with unexpected name format: RIOT_2024-08-08_dbeq-basic.parquet\n",
      "Warning: Skipping file with unexpected name format: RIOT_2024-08-09_dbeq-basic.parquet\n",
      "Warning: Skipping file with unexpected name format: RIOT_2024-08-12_dbeq-basic.parquet\n",
      "Warning: Skipping file with unexpected name format: RIOT_2024-08-13_dbeq-basic.parquet\n",
      "Warning: Skipping file with unexpected name format: RIOT_2024-08-14_dbeq-basic.parquet\n",
      "Warning: Skipping file with unexpected name format: RIOT_2024-08-15_dbeq-basic.parquet\n",
      "Warning: Skipping file with unexpected name format: RIOT_2024-08-16_dbeq-basic.parquet\n",
      "Warning: Skipping file with unexpected name format: RIOT_2024-08-19_dbeq-basic.parquet\n",
      "Warning: Skipping file with unexpected name format: RIOT_2024-08-20_dbeq-basic.parquet\n",
      "Warning: Skipping file with unexpected name format: RIOT_2024-08-21_dbeq-basic.parquet\n",
      "Warning: Skipping file with unexpected name format: RIOT_2024-08-22_dbeq-basic.parquet\n",
      "Warning: Skipping file with unexpected name format: RIOT_2024-08-23_dbeq-basic.parquet\n",
      "Warning: Skipping file with unexpected name format: RIOT_2024-08-26_dbeq-basic.parquet\n",
      "Warning: Skipping file with unexpected name format: RIOT_2024-08-27_dbeq-basic.parquet\n",
      "Warning: Skipping file with unexpected name format: RIOT_2024-08-28_dbeq-basic.parquet\n",
      "Warning: Skipping file with unexpected name format: RIOT_2024-08-29_dbeq-basic.parquet\n",
      "Warning: Skipping file with unexpected name format: RIOT_2024-08-30_dbeq-basic.parquet\n",
      "Warning: Skipping file with unexpected name format: RIOT_2024-09-03_dbeq-basic.parquet\n",
      "Warning: Skipping file with unexpected name format: RIOT_2024-09-04_dbeq-basic.parquet\n",
      "Warning: Skipping file with unexpected name format: RIOT_2024-09-05_dbeq-basic.parquet\n",
      "Warning: Skipping file with unexpected name format: RIOT_2024-09-06_dbeq-basic.parquet\n",
      "Warning: Skipping file with unexpected name format: RIOT_2024-09-09_dbeq-basic.parquet\n",
      "Warning: Skipping file with unexpected name format: RIOT_2024-09-10_dbeq-basic.parquet\n",
      "Warning: Skipping file with unexpected name format: RIOT_2024-09-11_dbeq-basic.parquet\n",
      "Warning: Skipping file with unexpected name format: RIOT_2024-09-12_dbeq-basic.parquet\n",
      "Warning: Skipping file with unexpected name format: RIOT_2024-09-13_dbeq-basic.parquet\n",
      "Warning: Skipping file with unexpected name format: RIOT_2024-09-16_dbeq-basic.parquet\n",
      "Warning: Skipping file with unexpected name format: RIOT_2024-09-17_dbeq-basic.parquet\n",
      "Warning: Skipping file with unexpected name format: RIOT_2024-09-18_dbeq-basic.parquet\n",
      "Warning: Skipping file with unexpected name format: RIOT_2024-09-19_dbeq-basic.parquet\n",
      "Warning: Skipping file with unexpected name format: RIOT_2024-09-20_dbeq-basic.parquet\n",
      "Warning: Skipping file with unexpected name format: RIOT_2024-09-23_dbeq-basic.parquet\n",
      "Warning: Skipping file with unexpected name format: YMM_2024-06-24_dbeq-basic.parquet\n",
      "Warning: Skipping file with unexpected name format: YMM_2024-06-25_dbeq-basic.parquet\n",
      "Warning: Skipping file with unexpected name format: YMM_2024-06-26_dbeq-basic.parquet\n",
      "Warning: Skipping file with unexpected name format: YMM_2024-06-27_dbeq-basic.parquet\n",
      "Warning: Skipping file with unexpected name format: YMM_2024-06-28_dbeq-basic.parquet\n",
      "Warning: Skipping file with unexpected name format: YMM_2024-07-01_dbeq-basic.parquet\n",
      "Warning: Skipping file with unexpected name format: YMM_2024-07-02_dbeq-basic.parquet\n",
      "Warning: Skipping file with unexpected name format: YMM_2024-07-03_dbeq-basic.parquet\n",
      "Warning: Skipping file with unexpected name format: YMM_2024-07-05_dbeq-basic.parquet\n",
      "Warning: Skipping file with unexpected name format: YMM_2024-07-08_dbeq-basic.parquet\n",
      "Warning: Skipping file with unexpected name format: YMM_2024-07-09_dbeq-basic.parquet\n",
      "Warning: Skipping file with unexpected name format: YMM_2024-07-10_dbeq-basic.parquet\n",
      "Warning: Skipping file with unexpected name format: YMM_2024-07-11_dbeq-basic.parquet\n",
      "Warning: Skipping file with unexpected name format: YMM_2024-07-12_dbeq-basic.parquet\n",
      "Warning: Skipping file with unexpected name format: YMM_2024-07-15_dbeq-basic.parquet\n",
      "Warning: Skipping file with unexpected name format: YMM_2024-07-16_dbeq-basic.parquet\n",
      "Warning: Skipping file with unexpected name format: YMM_2024-07-17_dbeq-basic.parquet\n",
      "Warning: Skipping file with unexpected name format: YMM_2024-07-18_dbeq-basic.parquet\n",
      "Warning: Skipping file with unexpected name format: YMM_2024-07-19_dbeq-basic.parquet\n",
      "Warning: Skipping file with unexpected name format: YMM_2024-07-22_dbeq-basic.parquet\n",
      "Warning: Skipping file with unexpected name format: YMM_2024-07-23_dbeq-basic.parquet\n",
      "Warning: Skipping file with unexpected name format: YMM_2024-07-24_dbeq-basic.parquet\n",
      "Warning: Skipping file with unexpected name format: YMM_2024-07-25_dbeq-basic.parquet\n",
      "Warning: Skipping file with unexpected name format: YMM_2024-07-26_dbeq-basic.parquet\n",
      "Warning: Skipping file with unexpected name format: YMM_2024-07-29_dbeq-basic.parquet\n",
      "Warning: Skipping file with unexpected name format: YMM_2024-07-30_dbeq-basic.parquet\n",
      "Warning: Skipping file with unexpected name format: YMM_2024-07-31_dbeq-basic.parquet\n",
      "Warning: Skipping file with unexpected name format: YMM_2024-08-01_dbeq-basic.parquet\n",
      "Warning: Skipping file with unexpected name format: YMM_2024-08-02_dbeq-basic.parquet\n",
      "Warning: Skipping file with unexpected name format: YMM_2024-08-05_dbeq-basic.parquet\n",
      "Warning: Skipping file with unexpected name format: YMM_2024-08-06_dbeq-basic.parquet\n",
      "Warning: Skipping file with unexpected name format: YMM_2024-08-07_dbeq-basic.parquet\n",
      "Warning: Skipping file with unexpected name format: YMM_2024-08-08_dbeq-basic.parquet\n",
      "Warning: Skipping file with unexpected name format: YMM_2024-08-09_dbeq-basic.parquet\n",
      "Warning: Skipping file with unexpected name format: YMM_2024-08-12_dbeq-basic.parquet\n",
      "Warning: Skipping file with unexpected name format: YMM_2024-08-13_dbeq-basic.parquet\n",
      "Warning: Skipping file with unexpected name format: YMM_2024-08-14_dbeq-basic.parquet\n",
      "Warning: Skipping file with unexpected name format: YMM_2024-08-15_dbeq-basic.parquet\n",
      "Warning: Skipping file with unexpected name format: YMM_2024-08-16_dbeq-basic.parquet\n",
      "Warning: Skipping file with unexpected name format: YMM_2024-08-19_dbeq-basic.parquet\n",
      "Warning: Skipping file with unexpected name format: YMM_2024-08-20_dbeq-basic.parquet\n",
      "Warning: Skipping file with unexpected name format: YMM_2024-08-21_dbeq-basic.parquet\n",
      "Warning: Skipping file with unexpected name format: YMM_2024-08-22_dbeq-basic.parquet\n",
      "Warning: Skipping file with unexpected name format: YMM_2024-08-23_dbeq-basic.parquet\n",
      "Warning: Skipping file with unexpected name format: YMM_2024-08-26_dbeq-basic.parquet\n",
      "Warning: Skipping file with unexpected name format: YMM_2024-08-27_dbeq-basic.parquet\n",
      "Warning: Skipping file with unexpected name format: YMM_2024-08-28_dbeq-basic.parquet\n",
      "Warning: Skipping file with unexpected name format: YMM_2024-08-29_dbeq-basic.parquet\n",
      "Warning: Skipping file with unexpected name format: YMM_2024-08-30_dbeq-basic.parquet\n",
      "Warning: Skipping file with unexpected name format: YMM_2024-09-03_dbeq-basic.parquet\n",
      "Warning: Skipping file with unexpected name format: YMM_2024-09-04_dbeq-basic.parquet\n",
      "Warning: Skipping file with unexpected name format: YMM_2024-09-05_dbeq-basic.parquet\n",
      "Warning: Skipping file with unexpected name format: YMM_2024-09-06_dbeq-basic.parquet\n",
      "Warning: Skipping file with unexpected name format: YMM_2024-09-09_dbeq-basic.parquet\n",
      "Warning: Skipping file with unexpected name format: YMM_2024-09-10_dbeq-basic.parquet\n",
      "Warning: Skipping file with unexpected name format: YMM_2024-09-11_dbeq-basic.parquet\n",
      "Warning: Skipping file with unexpected name format: YMM_2024-09-12_dbeq-basic.parquet\n",
      "Warning: Skipping file with unexpected name format: YMM_2024-09-13_dbeq-basic.parquet\n",
      "Warning: Skipping file with unexpected name format: YMM_2024-09-16_dbeq-basic.parquet\n",
      "Warning: Skipping file with unexpected name format: YMM_2024-09-17_dbeq-basic.parquet\n",
      "Warning: Skipping file with unexpected name format: YMM_2024-09-18_dbeq-basic.parquet\n",
      "Warning: Skipping file with unexpected name format: YMM_2024-09-19_dbeq-basic.parquet\n",
      "Warning: Skipping file with unexpected name format: YMM_2024-09-20_dbeq-basic.parquet\n",
      "Warning: Skipping file with unexpected name format: YMM_2024-09-23_dbeq-basic.parquet\n",
      "\n",
      "Maximum number of stocks available on a single day: 18\n",
      "Date(s) with maximum count: ['2024-07-22', '2024-07-23', '2024-07-24', '2024-07-25', '2024-07-26', '2024-07-29', '2024-07-30', '2024-07-31', '2024-08-01', '2024-08-02', '2024-08-05', '2024-08-06', '2024-08-07', '2024-08-08', '2024-08-09', '2024-08-12', '2024-08-13', '2024-08-14', '2024-08-15', '2024-08-16', '2024-08-19', '2024-08-20', '2024-08-21', '2024-08-22', '2024-08-23', '2024-08-26', '2024-08-27', '2024-08-28', '2024-08-29', '2024-08-30', '2024-09-03', '2024-09-04', '2024-09-05', '2024-09-06', '2024-09-09', '2024-09-10', '2024-09-11', '2024-09-12', '2024-09-13', '2024-09-16', '2024-09-17', '2024-09-18', '2024-09-19', '2024-09-20', '2024-09-23', '2024-09-24', '2024-09-25', '2024-09-26', '2024-09-27', '2024-09-30', '2024-10-01', '2024-10-02', '2024-10-03', '2024-10-04', '2024-10-07', '2024-10-08', '2024-10-09', '2024-10-10', '2024-10-11', '2024-10-14', '2024-10-15', '2024-10-16', '2024-10-17', '2024-10-18', '2024-10-21']\n",
      "Stocks available on 2024-07-22: 18\n"
     ]
    },
    {
     "name": "stderr",
     "output_type": "stream",
     "text": [
      "\n"
     ]
    }
   ],
   "source": [
    "# --- Stock and Date Identification ---\n",
    "\n",
    "stocks_list = [d for d in os.listdir(FOLDER_PATH) if os.path.isdir(os.path.join(FOLDER_PATH, d))]\n",
    "print(f\"Found {len(stocks_list)} potential stock folders.\")\n",
    "\n",
    "stock_files = {}\n",
    "date_counts = {}\n",
    "date_stocks = {}  # Dictionary to store stocks for each date\n",
    "\n",
    "print(\"Scanning stock directories for parquet files...\")\n",
    "for stock in tqdm(stocks_list):\n",
    "    stock_path = os.path.join(FOLDER_PATH, stock)\n",
    "    try:\n",
    "        files = [f for f in os.listdir(stock_path) if f.endswith('.parquet') and f.startswith(f\"{stock}_\")]\n",
    "        if not files:\n",
    "            print(f\"Warning: No parquet files found for stock {stock}\")\n",
    "            continue\n",
    "            \n",
    "        files.sort()\n",
    "        stock_files[stock] = set(files)\n",
    "\n",
    "        # Count occurrences of each date and store stocks\n",
    "        for file in files:\n",
    "            try:\n",
    "                # Extract date from filename (remove stock prefix and .parquet suffix)\n",
    "                date_str = file.replace(f\"{stock}_\", \"\").replace(\".parquet\", \"\")\n",
    "                # Basic validation of date format YYYY-MM-DD\n",
    "                if len(date_str) == 10 and date_str[4] == '-' and date_str[7] == '-':\n",
    "                    if date_str in date_counts:\n",
    "                        date_counts[date_str] += 1\n",
    "                        date_stocks[date_str].append(stock)\n",
    "                    else:\n",
    "                        date_counts[date_str] = 1\n",
    "                        date_stocks[date_str] = [stock]\n",
    "                else:\n",
    "                     print(f\"Warning: Skipping file with unexpected name format: {file}\")\n",
    "            except Exception as e:\n",
    "                print(f\"Warning: Error processing file name {file}: {e}\")\n",
    "\n",
    "    except FileNotFoundError:\n",
    "        print(f\"Warning: Folder not found for stock {stock}, skipping.\")\n",
    "    except Exception as e:\n",
    "        print(f\"Warning: Error accessing folder for stock {stock}: {e}\")\n",
    "\n",
    "if not date_counts:\n",
    "    raise ValueError(\"No valid parquet files found or processed. Check FOLDER_PATH and file naming convention (STOCK_YYYY-MM-DD.parquet).\")\n",
    "\n",
    "# Find the most common date(s)\n",
    "max_count = max(date_counts.values())\n",
    "most_common_dates = [date for date, count in date_counts.items() if count == max_count]\n",
    "\n",
    "print(f\"\\nMaximum number of stocks available on a single day: {max_count}\")\n",
    "print(f\"Date(s) with maximum count: {most_common_dates}\")\n",
    "if most_common_dates:\n",
    "    print(f\"Stocks available on {most_common_dates[0]}: {len(date_stocks[most_common_dates[0]])}\")\n",
    "    # print(f\"Stocks: {date_stocks[most_common_dates[0]]}\") # Uncomment to see list of stocks\n",
    "else:\n",
    "    raise ValueError(\"Could not determine any common dates with stocks.\")\n",
    "\n",
    "target_dates = most_common_dates # Process all dates with the maximum count\n",
    "# target_dates = most_common_dates[:1] # Or uncomment to process only the first one"
   ]
  },
  {
   "cell_type": "code",
   "execution_count": null,
   "id": "4c2d6163",
   "metadata": {},
   "outputs": [],
   "source": [
    "# --- Helper Function: Curate Mid Price ---\n",
    "\n",
    "def curate_mid_price(df: pl.DataFrame, stock: str) -> pl.DataFrame:\n",
    "    \"\"\"\n",
    "    Cleans the raw stock data, filters time ranges, and calculates microprice.\n",
    "    Handles potential missing columns gracefully.\n",
    "    \"\"\"\n",
    "    required_cols = {\"ts_event\", \"ask_px_00\", \"bid_px_00\", \"ask_sz_00\", \"bid_sz_00\"}\n",
    "    if not required_cols.issubset(df.columns):\n",
    "        missing = required_cols - set(df.columns)\n",
    "        print(f\"Warning: Stock {stock} missing required columns: {missing}. Returning original DataFrame.\")\n",
    "        return df # Or handle differently, e.g., return empty DF or raise error\n",
    "\n",
    "    # Filter by publisher_id if it exists\n",
    "    if \"publisher_id\" in df.columns:\n",
    "        try:\n",
    "            publisher_counts = df.group_by(\"publisher_id\").len().sort(\"len\", descending=True)\n",
    "            if len(publisher_counts) > 1 and publisher_counts[\"publisher_id\"][0] == 41:\n",
    "                df = df.filter(pl.col(\"publisher_id\") == 41)\n",
    "            elif len(publisher_counts) > 1:\n",
    "                print(f\"Info: Stock {stock}: Most frequent publisher is not 41, using all publishers.\")\n",
    "        except Exception as e:\n",
    "            print(f\"Warning: Error filtering by publisher_id for stock {stock}: {e}\")\n",
    "\n",
    "    # Filter time range (adjust GOOGL time if needed based on market)\n",
    "    try:\n",
    "        if stock == \"GOOGL\": # Example: Different trading hours for GOOGL?\n",
    "            df = df.filter((pl.col(\"ts_event\").dt.hour() >= 13) & (pl.col(\"ts_event\").dt.hour() < 20)) # Between 1 PM and 8 PM UTC? Adjust as needed\n",
    "        else:\n",
    "            # Standard US market hours 9:30 AM to 4 PM ET - adjust for UTC if data is in UTC\n",
    "            # Example: Assuming data is UTC and market is ET (UTC-4 during EDT, UTC-5 during EST)\n",
    "            # Let's assume UTC for simplicity, standard hours 9:30 to 16:00\n",
    "            df = df.filter(\n",
    "                (pl.col(\"ts_event\").dt.hour() * 60 + pl.col(\"ts_event\").dt.minute() >= 9 * 60 + 30) & # >= 9:30\n",
    "                (pl.col(\"ts_event\").dt.hour() < 16)                                                  # < 16:00\n",
    "            )\n",
    "            # Remove potential opening auction noise (first few minutes)\n",
    "            df = df.filter(pl.col(\"ts_event\").dt.time() > pl.time(9, 35, 0)) # Start after 9:35 AM\n",
    "\n",
    "    except Exception as e:\n",
    "        print(f\"Warning: Error filtering time for stock {stock}: {e}. Proceeding with unfiltered time.\")\n",
    "\n",
    "    # Calculate microprice\n",
    "    df = df.with_columns(\n",
    "        micro_price = (pl.col(\"ask_px_00\") * pl.col(\"bid_sz_00\") + pl.col(\"bid_px_00\") * pl.col(\"ask_sz_00\"))\n",
    "                       / (pl.col(\"ask_sz_00\") + pl.col(\"bid_sz_00\"))\n",
    "    )\n",
    "\n",
    "    # Handle potential division by zero or NaNs, fill with forward fill\n",
    "    # Check for inf values resulting from calculation before filling NaNs\n",
    "    df = df.with_columns(\n",
    "        pl.when(pl.col(\"micro_price\").is_infinite())\n",
    "        .then(None) # Replace inf with null\n",
    "        .otherwise(pl.col(\"micro_price\"))\n",
    "        .alias(\"micro_price\")\n",
    "    )\n",
    "    df = df.fill_null(strategy=\"forward\") # Forward fill NaNs first\n",
    "    df = df.fill_nan(None) # Replace any remaining NaNs (e.g., at the start) with Null\n",
    "\n",
    "    # Drop rows where microprice is still null after forward fill (usually only the first few rows)\n",
    "    df = df.drop_nulls(subset=[\"micro_price\"])\n",
    "\n",
    "    # Ensure data is sorted by time\n",
    "    df = df.sort(\"ts_event\")\n",
    "\n",
    "    # Keep only necessary columns\n",
    "    df = df.select([\"ts_event\", \"micro_price\"])\n",
    "\n",
    "    return df"
   ]
  },
  {
   "cell_type": "code",
   "execution_count": null,
   "id": "084f1828",
   "metadata": {},
   "outputs": [
    {
     "name": "stdout",
     "output_type": "stream",
     "text": [
      "\n",
      "==================== Processing Date: 2024-07-22 ====================\n",
      "Loading and curating data for 18 stocks on 2024-07-22...\n"
     ]
    },
    {
     "name": "stderr",
     "output_type": "stream",
     "text": [
      "Curating 2024-07-22:   6%|▌         | 1/18 [00:00<00:02,  7.94it/s]"
     ]
    },
    {
     "name": "stdout",
     "output_type": "stream",
     "text": [
      "Warning: Not enough data points after curating for WBD on 2024-07-22. Skipping stock.\n",
      "Warning: Not enough data points after curating for AAL on 2024-07-22. Skipping stock.\n",
      "Warning: Not enough data points after curating for GT on 2024-07-22. Skipping stock.\n"
     ]
    },
    {
     "name": "stderr",
     "output_type": "stream",
     "text": [
      "Curating 2024-07-22:  28%|██▊       | 5/18 [00:00<00:00, 22.54it/s]"
     ]
    },
    {
     "name": "stdout",
     "output_type": "stream",
     "text": [
      "Warning: Not enough data points after curating for LBTYB on 2024-07-22. Skipping stock.\n",
      "Warning: Not enough data points after curating for MLCO on 2024-07-22. Skipping stock.\n"
     ]
    },
    {
     "name": "stderr",
     "output_type": "stream",
     "text": [
      "Curating 2024-07-22:  44%|████▍     | 8/18 [00:00<00:00, 15.47it/s]"
     ]
    },
    {
     "name": "stdout",
     "output_type": "stream",
     "text": [
      "Warning: Not enough data points after curating for INTC on 2024-07-22. Skipping stock.\n",
      "Warning: Not enough data points after curating for GBDC on 2024-07-22. Skipping stock.\n",
      "Warning: Not enough data points after curating for CSX on 2024-07-22. Skipping stock.\n",
      "Warning: Not enough data points after curating for LCID on 2024-07-22. Skipping stock.\n",
      "Warning: Not enough data points after curating for PSNY on 2024-07-22. Skipping stock.\n",
      "Warning: Not enough data points after curating for KHC on 2024-07-22. Skipping stock.\n"
     ]
    },
    {
     "name": "stderr",
     "output_type": "stream",
     "text": [
      "Curating 2024-07-22:  67%|██████▋   | 12/18 [00:00<00:00, 20.51it/s]"
     ]
    },
    {
     "name": "stdout",
     "output_type": "stream",
     "text": [
      "Warning: Not enough data points after curating for GEO on 2024-07-22. Skipping stock.\n"
     ]
    },
    {
     "name": "stderr",
     "output_type": "stream",
     "text": [
      "Curating 2024-07-22: 100%|██████████| 18/18 [00:02<00:00,  6.99it/s]\n"
     ]
    },
    {
     "name": "stdout",
     "output_type": "stream",
     "text": [
      "Warning: Not enough data points after curating for CXW on 2024-07-22. Skipping stock.\n",
      "Warning: Not enough data points after curating for VLY on 2024-07-22. Skipping stock.\n",
      "Warning: Not enough data points after curating for GCMG on 2024-07-22. Skipping stock.\n",
      "Warning: Not enough data points after curating for AVDX on 2024-07-22. Skipping stock.\n",
      "Warning: Not enough data points after curating for AMRX on 2024-07-22. Skipping stock.\n",
      "Successfully curated data for 1 stocks.\n",
      "\n",
      "--- Processing Time Scale: 1m ---\n",
      "Resampling to 1m and calculating log returns...\n"
     ]
    },
    {
     "name": "stderr",
     "output_type": "stream",
     "text": [
      "Resampling 1m: 100%|██████████| 1/1 [00:00<00:00, 69.38it/s]"
     ]
    },
    {
     "name": "stdout",
     "output_type": "stream",
     "text": [
      "Aligning data across stocks...\n"
     ]
    },
    {
     "name": "stderr",
     "output_type": "stream",
     "text": [
      "\n",
      "/tmp/ipykernel_23556/2642790735.py:89: DeprecationWarning: Use of `how='outer'` should be replaced with `how='full'`.\n",
      "  aligned_df_pl = aligned_df_pl.join(df_to_join, on=\"ts_event\", how=\"outer\", coalesce=True)\n"
     ]
    },
    {
     "name": "stdout",
     "output_type": "stream",
     "text": [
      "Not enough data (405 rows, 1 stocks) remaining after alignment and NaN handling for 1m. Skipping correlation.\n",
      "\n",
      "--- Processing Time Scale: 10ms ---\n",
      "Resampling to 10ms and calculating log returns...\n"
     ]
    },
    {
     "name": "stderr",
     "output_type": "stream",
     "text": [
      "Resampling 10ms: 100%|██████████| 1/1 [00:00<00:00, 12.50it/s]\n",
      "/tmp/ipykernel_23556/2642790735.py:89: DeprecationWarning: Use of `how='outer'` should be replaced with `how='full'`.\n",
      "  aligned_df_pl = aligned_df_pl.join(df_to_join, on=\"ts_event\", how=\"outer\", coalesce=True)\n"
     ]
    },
    {
     "name": "stdout",
     "output_type": "stream",
     "text": [
      "Aligning data across stocks...\n",
      "Not enough data (220871 rows, 1 stocks) remaining after alignment and NaN handling for 10ms. Skipping correlation.\n",
      "\n",
      "==================== Processing Date: 2024-07-23 ====================\n",
      "Loading and curating data for 18 stocks on 2024-07-23...\n"
     ]
    },
    {
     "name": "stderr",
     "output_type": "stream",
     "text": [
      "Curating 2024-07-23:   0%|          | 0/18 [00:00<?, ?it/s]"
     ]
    },
    {
     "name": "stdout",
     "output_type": "stream",
     "text": [
      "Warning: Not enough data points after curating for WBD on 2024-07-23. Skipping stock.\n"
     ]
    },
    {
     "name": "stderr",
     "output_type": "stream",
     "text": [
      "Curating 2024-07-23:  17%|█▋        | 3/18 [00:00<00:00, 26.21it/s]"
     ]
    },
    {
     "name": "stdout",
     "output_type": "stream",
     "text": [
      "Warning: Not enough data points after curating for AAL on 2024-07-23. Skipping stock.\n",
      "Warning: Not enough data points after curating for GT on 2024-07-23. Skipping stock.\n"
     ]
    },
    {
     "name": "stderr",
     "output_type": "stream",
     "text": [
      "Curating 2024-07-23:  33%|███▎      | 6/18 [00:00<00:00, 24.36it/s]"
     ]
    },
    {
     "name": "stdout",
     "output_type": "stream",
     "text": [
      "Warning: Not enough data points after curating for LBTYB on 2024-07-23. Skipping stock.\n",
      "Warning: Not enough data points after curating for MLCO on 2024-07-23. Skipping stock.\n",
      "Warning: Not enough data points after curating for INTC on 2024-07-23. Skipping stock.\n",
      "Warning: Not enough data points after curating for GBDC on 2024-07-23. Skipping stock.\n",
      "Warning: Not enough data points after curating for CSX on 2024-07-23. Skipping stock.\n"
     ]
    },
    {
     "name": "stderr",
     "output_type": "stream",
     "text": [
      "Curating 2024-07-23:  67%|██████▋   | 12/18 [00:00<00:00, 25.20it/s]"
     ]
    },
    {
     "name": "stdout",
     "output_type": "stream",
     "text": [
      "Warning: Not enough data points after curating for LCID on 2024-07-23. Skipping stock.\n",
      "Warning: Not enough data points after curating for PSNY on 2024-07-23. Skipping stock.\n",
      "Warning: Not enough data points after curating for KHC on 2024-07-23. Skipping stock.\n",
      "Warning: Not enough data points after curating for GEO on 2024-07-23. Skipping stock.\n"
     ]
    },
    {
     "name": "stderr",
     "output_type": "stream",
     "text": [
      "Curating 2024-07-23: 100%|██████████| 18/18 [00:01<00:00, 13.05it/s]\n"
     ]
    },
    {
     "name": "stdout",
     "output_type": "stream",
     "text": [
      "Warning: Not enough data points after curating for CXW on 2024-07-23. Skipping stock.\n",
      "Warning: Not enough data points after curating for VLY on 2024-07-23. Skipping stock.\n",
      "Warning: Not enough data points after curating for GCMG on 2024-07-23. Skipping stock.\n",
      "Warning: Not enough data points after curating for AVDX on 2024-07-23. Skipping stock.\n",
      "Warning: Not enough data points after curating for AMRX on 2024-07-23. Skipping stock.\n",
      "Successfully curated data for 1 stocks.\n",
      "\n",
      "--- Processing Time Scale: 1m ---\n",
      "Resampling to 1m and calculating log returns...\n"
     ]
    },
    {
     "name": "stderr",
     "output_type": "stream",
     "text": [
      "Resampling 1m: 100%|██████████| 1/1 [00:00<00:00, 251.67it/s]\n",
      "/tmp/ipykernel_23556/2642790735.py:89: DeprecationWarning: Use of `how='outer'` should be replaced with `how='full'`.\n",
      "  aligned_df_pl = aligned_df_pl.join(df_to_join, on=\"ts_event\", how=\"outer\", coalesce=True)\n"
     ]
    },
    {
     "name": "stdout",
     "output_type": "stream",
     "text": [
      "Aligning data across stocks...\n",
      "Not enough data (419 rows, 1 stocks) remaining after alignment and NaN handling for 1m. Skipping correlation.\n",
      "\n",
      "--- Processing Time Scale: 10ms ---\n",
      "Resampling to 10ms and calculating log returns...\n"
     ]
    },
    {
     "name": "stderr",
     "output_type": "stream",
     "text": [
      "Resampling 10ms: 100%|██████████| 1/1 [00:00<00:00, 23.40it/s]"
     ]
    },
    {
     "name": "stdout",
     "output_type": "stream",
     "text": [
      "Aligning data across stocks...\n"
     ]
    },
    {
     "name": "stderr",
     "output_type": "stream",
     "text": [
      "\n",
      "/tmp/ipykernel_23556/2642790735.py:89: DeprecationWarning: Use of `how='outer'` should be replaced with `how='full'`.\n",
      "  aligned_df_pl = aligned_df_pl.join(df_to_join, on=\"ts_event\", how=\"outer\", coalesce=True)\n"
     ]
    },
    {
     "name": "stdout",
     "output_type": "stream",
     "text": [
      "Not enough data (239606 rows, 1 stocks) remaining after alignment and NaN handling for 10ms. Skipping correlation.\n",
      "\n",
      "==================== Processing Date: 2024-07-24 ====================\n",
      "Loading and curating data for 18 stocks on 2024-07-24...\n"
     ]
    },
    {
     "name": "stderr",
     "output_type": "stream",
     "text": [
      "Curating 2024-07-24:   0%|          | 0/18 [00:00<?, ?it/s]"
     ]
    },
    {
     "name": "stdout",
     "output_type": "stream",
     "text": [
      "Warning: Not enough data points after curating for WBD on 2024-07-24. Skipping stock.\n",
      "Warning: Not enough data points after curating for AAL on 2024-07-24. Skipping stock.\n"
     ]
    },
    {
     "name": "stderr",
     "output_type": "stream",
     "text": [
      "Curating 2024-07-24:  17%|█▋        | 3/18 [00:00<00:00, 27.97it/s]"
     ]
    },
    {
     "name": "stdout",
     "output_type": "stream",
     "text": [
      "Warning: Not enough data points after curating for GT on 2024-07-24. Skipping stock.\n",
      "Warning: Not enough data points after curating for LBTYB on 2024-07-24. Skipping stock.\n",
      "Warning: Not enough data points after curating for MLCO on 2024-07-24. Skipping stock.\n"
     ]
    },
    {
     "name": "stderr",
     "output_type": "stream",
     "text": [
      "Curating 2024-07-24:  33%|███▎      | 6/18 [00:00<00:00, 24.90it/s]"
     ]
    },
    {
     "name": "stdout",
     "output_type": "stream",
     "text": [
      "Warning: Not enough data points after curating for INTC on 2024-07-24. Skipping stock.\n",
      "Warning: Not enough data points after curating for GBDC on 2024-07-24. Skipping stock.\n",
      "Warning: Not enough data points after curating for CSX on 2024-07-24. Skipping stock.\n"
     ]
    },
    {
     "name": "stderr",
     "output_type": "stream",
     "text": [
      "Curating 2024-07-24:  50%|█████     | 9/18 [00:00<00:00, 26.67it/s]"
     ]
    },
    {
     "name": "stdout",
     "output_type": "stream",
     "text": [
      "Warning: Not enough data points after curating for LCID on 2024-07-24. Skipping stock.\n",
      "Warning: Not enough data points after curating for PSNY on 2024-07-24. Skipping stock.\n",
      "Warning: Not enough data points after curating for KHC on 2024-07-24. Skipping stock.\n"
     ]
    },
    {
     "name": "stderr",
     "output_type": "stream",
     "text": [
      "Curating 2024-07-24:  67%|██████▋   | 12/18 [00:00<00:00, 27.02it/s]"
     ]
    },
    {
     "name": "stdout",
     "output_type": "stream",
     "text": [
      "Warning: Not enough data points after curating for GEO on 2024-07-24. Skipping stock.\n"
     ]
    },
    {
     "name": "stderr",
     "output_type": "stream",
     "text": [
      "Curating 2024-07-24: 100%|██████████| 18/18 [00:01<00:00, 15.35it/s]\n"
     ]
    },
    {
     "name": "stdout",
     "output_type": "stream",
     "text": [
      "Warning: Not enough data points after curating for CXW on 2024-07-24. Skipping stock.\n",
      "Warning: Not enough data points after curating for VLY on 2024-07-24. Skipping stock.\n",
      "Warning: Not enough data points after curating for GCMG on 2024-07-24. Skipping stock.\n",
      "Warning: Not enough data points after curating for AVDX on 2024-07-24. Skipping stock.\n",
      "Warning: Not enough data points after curating for AMRX on 2024-07-24. Skipping stock.\n",
      "Successfully curated data for 1 stocks.\n",
      "\n",
      "--- Processing Time Scale: 1m ---\n",
      "Resampling to 1m and calculating log returns...\n"
     ]
    },
    {
     "name": "stderr",
     "output_type": "stream",
     "text": [
      "Resampling 1m: 100%|██████████| 1/1 [00:00<00:00, 160.74it/s]\n",
      "/tmp/ipykernel_23556/2642790735.py:89: DeprecationWarning: Use of `how='outer'` should be replaced with `how='full'`.\n",
      "  aligned_df_pl = aligned_df_pl.join(df_to_join, on=\"ts_event\", how=\"outer\", coalesce=True)\n"
     ]
    },
    {
     "name": "stdout",
     "output_type": "stream",
     "text": [
      "Aligning data across stocks...\n",
      "Not enough data (416 rows, 1 stocks) remaining after alignment and NaN handling for 1m. Skipping correlation.\n",
      "\n",
      "--- Processing Time Scale: 10ms ---\n",
      "Resampling to 10ms and calculating log returns...\n"
     ]
    },
    {
     "name": "stderr",
     "output_type": "stream",
     "text": [
      "Resampling 10ms: 100%|██████████| 1/1 [00:00<00:00, 26.38it/s]"
     ]
    },
    {
     "name": "stdout",
     "output_type": "stream",
     "text": [
      "Aligning data across stocks...\n"
     ]
    },
    {
     "name": "stderr",
     "output_type": "stream",
     "text": [
      "\n",
      "/tmp/ipykernel_23556/2642790735.py:89: DeprecationWarning: Use of `how='outer'` should be replaced with `how='full'`.\n",
      "  aligned_df_pl = aligned_df_pl.join(df_to_join, on=\"ts_event\", how=\"outer\", coalesce=True)\n"
     ]
    },
    {
     "name": "stdout",
     "output_type": "stream",
     "text": [
      "Not enough data (232165 rows, 1 stocks) remaining after alignment and NaN handling for 10ms. Skipping correlation.\n",
      "\n",
      "==================== Processing Date: 2024-07-25 ====================\n",
      "Loading and curating data for 18 stocks on 2024-07-25...\n"
     ]
    },
    {
     "name": "stderr",
     "output_type": "stream",
     "text": [
      "Curating 2024-07-25:  17%|█▋        | 3/18 [00:00<00:00, 26.35it/s]"
     ]
    },
    {
     "name": "stdout",
     "output_type": "stream",
     "text": [
      "Warning: Not enough data points after curating for WBD on 2024-07-25. Skipping stock.\n",
      "Warning: Not enough data points after curating for AAL on 2024-07-25. Skipping stock.\n",
      "Warning: Not enough data points after curating for GT on 2024-07-25. Skipping stock.\n",
      "Warning: Not enough data points after curating for LBTYB on 2024-07-25. Skipping stock.\n",
      "Warning: Not enough data points after curating for MLCO on 2024-07-25. Skipping stock.\n"
     ]
    },
    {
     "name": "stderr",
     "output_type": "stream",
     "text": [
      "Curating 2024-07-25:  33%|███▎      | 6/18 [00:00<00:00, 24.45it/s]"
     ]
    },
    {
     "name": "stdout",
     "output_type": "stream",
     "text": [
      "Warning: Not enough data points after curating for INTC on 2024-07-25. Skipping stock.\n",
      "Warning: Not enough data points after curating for GBDC on 2024-07-25. Skipping stock.\n",
      "Warning: Not enough data points after curating for CSX on 2024-07-25. Skipping stock.\n",
      "Warning: Not enough data points after curating for LCID on 2024-07-25. Skipping stock.\n"
     ]
    },
    {
     "name": "stderr",
     "output_type": "stream",
     "text": [
      "Curating 2024-07-25:  50%|█████     | 9/18 [00:00<00:00, 26.56it/s]"
     ]
    },
    {
     "name": "stdout",
     "output_type": "stream",
     "text": [
      "Warning: Not enough data points after curating for PSNY on 2024-07-25. Skipping stock.\n",
      "Warning: Not enough data points after curating for KHC on 2024-07-25. Skipping stock.\n"
     ]
    },
    {
     "name": "stderr",
     "output_type": "stream",
     "text": [
      "Curating 2024-07-25:  67%|██████▋   | 12/18 [00:00<00:00, 27.45it/s]"
     ]
    },
    {
     "name": "stdout",
     "output_type": "stream",
     "text": [
      "Warning: Not enough data points after curating for GEO on 2024-07-25. Skipping stock.\n"
     ]
    },
    {
     "name": "stderr",
     "output_type": "stream",
     "text": [
      "Curating 2024-07-25: 100%|██████████| 18/18 [00:01<00:00, 10.21it/s]\n"
     ]
    },
    {
     "name": "stdout",
     "output_type": "stream",
     "text": [
      "Warning: Not enough data points after curating for CXW on 2024-07-25. Skipping stock.\n",
      "Warning: Not enough data points after curating for VLY on 2024-07-25. Skipping stock.\n",
      "Warning: Not enough data points after curating for GCMG on 2024-07-25. Skipping stock.\n",
      "Warning: Not enough data points after curating for AVDX on 2024-07-25. Skipping stock.\n",
      "Warning: Not enough data points after curating for AMRX on 2024-07-25. Skipping stock.\n",
      "Successfully curated data for 1 stocks.\n",
      "\n",
      "--- Processing Time Scale: 1m ---\n",
      "Resampling to 1m and calculating log returns...\n"
     ]
    },
    {
     "name": "stderr",
     "output_type": "stream",
     "text": [
      "Resampling 1m: 100%|██████████| 1/1 [00:00<00:00, 202.63it/s]\n",
      "/tmp/ipykernel_23556/2642790735.py:89: DeprecationWarning: Use of `how='outer'` should be replaced with `how='full'`.\n",
      "  aligned_df_pl = aligned_df_pl.join(df_to_join, on=\"ts_event\", how=\"outer\", coalesce=True)\n"
     ]
    },
    {
     "name": "stdout",
     "output_type": "stream",
     "text": [
      "Aligning data across stocks...\n",
      "Not enough data (419 rows, 1 stocks) remaining after alignment and NaN handling for 1m. Skipping correlation.\n",
      "\n",
      "--- Processing Time Scale: 10ms ---\n",
      "Resampling to 10ms and calculating log returns...\n"
     ]
    },
    {
     "name": "stderr",
     "output_type": "stream",
     "text": [
      "Resampling 10ms: 100%|██████████| 1/1 [00:00<00:00, 20.96it/s]\n",
      "/tmp/ipykernel_23556/2642790735.py:89: DeprecationWarning: Use of `how='outer'` should be replaced with `how='full'`.\n",
      "  aligned_df_pl = aligned_df_pl.join(df_to_join, on=\"ts_event\", how=\"outer\", coalesce=True)\n"
     ]
    },
    {
     "name": "stdout",
     "output_type": "stream",
     "text": [
      "Aligning data across stocks...\n",
      "Not enough data (312745 rows, 1 stocks) remaining after alignment and NaN handling for 10ms. Skipping correlation.\n",
      "\n",
      "==================== Processing Date: 2024-07-26 ====================\n",
      "Loading and curating data for 18 stocks on 2024-07-26...\n"
     ]
    },
    {
     "name": "stderr",
     "output_type": "stream",
     "text": [
      "Curating 2024-07-26:   0%|          | 0/18 [00:00<?, ?it/s]"
     ]
    },
    {
     "name": "stdout",
     "output_type": "stream",
     "text": [
      "Warning: Not enough data points after curating for WBD on 2024-07-26. Skipping stock.\n",
      "Warning: Not enough data points after curating for AAL on 2024-07-26. Skipping stock.\n"
     ]
    },
    {
     "name": "stderr",
     "output_type": "stream",
     "text": [
      "Curating 2024-07-26:  17%|█▋        | 3/18 [00:00<00:00, 25.47it/s]"
     ]
    },
    {
     "name": "stdout",
     "output_type": "stream",
     "text": [
      "Warning: Not enough data points after curating for GT on 2024-07-26. Skipping stock.\n",
      "Warning: Not enough data points after curating for LBTYB on 2024-07-26. Skipping stock.\n"
     ]
    },
    {
     "name": "stderr",
     "output_type": "stream",
     "text": [
      "Curating 2024-07-26:  33%|███▎      | 6/18 [00:00<00:00, 24.34it/s]"
     ]
    },
    {
     "name": "stdout",
     "output_type": "stream",
     "text": [
      "Warning: Not enough data points after curating for MLCO on 2024-07-26. Skipping stock.\n",
      "Warning: Not enough data points after curating for INTC on 2024-07-26. Skipping stock.\n",
      "Warning: Not enough data points after curating for GBDC on 2024-07-26. Skipping stock.\n",
      "Warning: Not enough data points after curating for CSX on 2024-07-26. Skipping stock.\n"
     ]
    },
    {
     "name": "stderr",
     "output_type": "stream",
     "text": [
      "Curating 2024-07-26:  50%|█████     | 9/18 [00:00<00:00, 25.82it/s]"
     ]
    },
    {
     "name": "stdout",
     "output_type": "stream",
     "text": [
      "Warning: Not enough data points after curating for LCID on 2024-07-26. Skipping stock.\n"
     ]
    },
    {
     "name": "stderr",
     "output_type": "stream",
     "text": [
      "Curating 2024-07-26:  67%|██████▋   | 12/18 [00:00<00:00, 27.26it/s]"
     ]
    },
    {
     "name": "stdout",
     "output_type": "stream",
     "text": [
      "Warning: Not enough data points after curating for PSNY on 2024-07-26. Skipping stock.\n",
      "Warning: Not enough data points after curating for KHC on 2024-07-26. Skipping stock.\n",
      "Warning: Not enough data points after curating for GEO on 2024-07-26. Skipping stock.\n"
     ]
    },
    {
     "name": "stderr",
     "output_type": "stream",
     "text": [
      "Curating 2024-07-26: 100%|██████████| 18/18 [00:01<00:00, 15.20it/s]\n"
     ]
    },
    {
     "name": "stdout",
     "output_type": "stream",
     "text": [
      "Warning: Not enough data points after curating for CXW on 2024-07-26. Skipping stock.\n",
      "Warning: Not enough data points after curating for VLY on 2024-07-26. Skipping stock.\n",
      "Warning: Not enough data points after curating for GCMG on 2024-07-26. Skipping stock.\n",
      "Warning: Not enough data points after curating for AVDX on 2024-07-26. Skipping stock.\n",
      "Warning: Not enough data points after curating for AMRX on 2024-07-26. Skipping stock.\n",
      "Successfully curated data for 1 stocks.\n",
      "\n",
      "--- Processing Time Scale: 1m ---\n",
      "Resampling to 1m and calculating log returns...\n"
     ]
    },
    {
     "name": "stderr",
     "output_type": "stream",
     "text": [
      "Resampling 1m: 100%|██████████| 1/1 [00:00<00:00, 182.19it/s]\n",
      "/tmp/ipykernel_23556/2642790735.py:89: DeprecationWarning: Use of `how='outer'` should be replaced with `how='full'`.\n",
      "  aligned_df_pl = aligned_df_pl.join(df_to_join, on=\"ts_event\", how=\"outer\", coalesce=True)\n"
     ]
    },
    {
     "name": "stdout",
     "output_type": "stream",
     "text": [
      "Aligning data across stocks...\n",
      "Not enough data (387 rows, 1 stocks) remaining after alignment and NaN handling for 1m. Skipping correlation.\n",
      "\n",
      "--- Processing Time Scale: 10ms ---\n",
      "Resampling to 10ms and calculating log returns...\n"
     ]
    },
    {
     "name": "stderr",
     "output_type": "stream",
     "text": [
      "Resampling 10ms: 100%|██████████| 1/1 [00:00<00:00, 26.16it/s]"
     ]
    },
    {
     "name": "stdout",
     "output_type": "stream",
     "text": [
      "Aligning data across stocks...\n"
     ]
    },
    {
     "name": "stderr",
     "output_type": "stream",
     "text": [
      "\n",
      "/tmp/ipykernel_23556/2642790735.py:89: DeprecationWarning: Use of `how='outer'` should be replaced with `how='full'`.\n",
      "  aligned_df_pl = aligned_df_pl.join(df_to_join, on=\"ts_event\", how=\"outer\", coalesce=True)\n"
     ]
    },
    {
     "name": "stdout",
     "output_type": "stream",
     "text": [
      "Not enough data (279743 rows, 1 stocks) remaining after alignment and NaN handling for 10ms. Skipping correlation.\n",
      "\n",
      "==================== Processing Date: 2024-07-29 ====================\n",
      "Loading and curating data for 18 stocks on 2024-07-29...\n"
     ]
    },
    {
     "name": "stderr",
     "output_type": "stream",
     "text": [
      "Curating 2024-07-29:   0%|          | 0/18 [00:00<?, ?it/s]"
     ]
    },
    {
     "name": "stdout",
     "output_type": "stream",
     "text": [
      "Warning: Not enough data points after curating for WBD on 2024-07-29. Skipping stock.\n",
      "Warning: Not enough data points after curating for AAL on 2024-07-29. Skipping stock.\n"
     ]
    },
    {
     "name": "stderr",
     "output_type": "stream",
     "text": [
      "Curating 2024-07-29:  17%|█▋        | 3/18 [00:00<00:00, 28.46it/s]"
     ]
    },
    {
     "name": "stdout",
     "output_type": "stream",
     "text": [
      "Warning: Not enough data points after curating for GT on 2024-07-29. Skipping stock.\n",
      "Warning: Not enough data points after curating for LBTYB on 2024-07-29. Skipping stock.\n",
      "Warning: Not enough data points after curating for MLCO on 2024-07-29. Skipping stock.\n"
     ]
    },
    {
     "name": "stderr",
     "output_type": "stream",
     "text": [
      "Curating 2024-07-29:  33%|███▎      | 6/18 [00:00<00:00, 27.65it/s]"
     ]
    },
    {
     "name": "stdout",
     "output_type": "stream",
     "text": [
      "Warning: Not enough data points after curating for INTC on 2024-07-29. Skipping stock.\n",
      "Warning: Not enough data points after curating for GBDC on 2024-07-29. Skipping stock.\n",
      "Warning: Not enough data points after curating for CSX on 2024-07-29. Skipping stock.\n"
     ]
    },
    {
     "name": "stderr",
     "output_type": "stream",
     "text": [
      "Curating 2024-07-29:  56%|█████▌    | 10/18 [00:00<00:00, 29.72it/s]"
     ]
    },
    {
     "name": "stdout",
     "output_type": "stream",
     "text": [
      "Warning: Not enough data points after curating for LCID on 2024-07-29. Skipping stock.\n",
      "Warning: Not enough data points after curating for PSNY on 2024-07-29. Skipping stock.\n",
      "Warning: Not enough data points after curating for KHC on 2024-07-29. Skipping stock.\n",
      "Warning: Not enough data points after curating for GEO on 2024-07-29. Skipping stock.\n"
     ]
    },
    {
     "name": "stderr",
     "output_type": "stream",
     "text": [
      "Curating 2024-07-29: 100%|██████████| 18/18 [00:00<00:00, 19.91it/s]\n"
     ]
    },
    {
     "name": "stdout",
     "output_type": "stream",
     "text": [
      "Warning: Not enough data points after curating for CXW on 2024-07-29. Skipping stock.\n",
      "Warning: Not enough data points after curating for VLY on 2024-07-29. Skipping stock.\n",
      "Warning: Not enough data points after curating for GCMG on 2024-07-29. Skipping stock.\n",
      "Warning: Not enough data points after curating for AVDX on 2024-07-29. Skipping stock.\n",
      "Warning: Not enough data points after curating for AMRX on 2024-07-29. Skipping stock.\n",
      "Successfully curated data for 1 stocks.\n",
      "\n",
      "--- Processing Time Scale: 1m ---\n",
      "Resampling to 1m and calculating log returns...\n"
     ]
    },
    {
     "name": "stderr",
     "output_type": "stream",
     "text": [
      "Resampling 1m: 100%|██████████| 1/1 [00:00<00:00, 210.99it/s]\n",
      "/tmp/ipykernel_23556/2642790735.py:89: DeprecationWarning: Use of `how='outer'` should be replaced with `how='full'`.\n",
      "  aligned_df_pl = aligned_df_pl.join(df_to_join, on=\"ts_event\", how=\"outer\", coalesce=True)\n"
     ]
    },
    {
     "name": "stdout",
     "output_type": "stream",
     "text": [
      "Aligning data across stocks...\n",
      "Not enough data (385 rows, 1 stocks) remaining after alignment and NaN handling for 1m. Skipping correlation.\n",
      "\n",
      "--- Processing Time Scale: 10ms ---\n",
      "Resampling to 10ms and calculating log returns...\n"
     ]
    },
    {
     "name": "stderr",
     "output_type": "stream",
     "text": [
      "Resampling 10ms: 100%|██████████| 1/1 [00:00<00:00, 17.40it/s]\n",
      "/tmp/ipykernel_23556/2642790735.py:89: DeprecationWarning: Use of `how='outer'` should be replaced with `how='full'`.\n",
      "  aligned_df_pl = aligned_df_pl.join(df_to_join, on=\"ts_event\", how=\"outer\", coalesce=True)\n"
     ]
    },
    {
     "name": "stdout",
     "output_type": "stream",
     "text": [
      "Aligning data across stocks...\n",
      "Not enough data (225936 rows, 1 stocks) remaining after alignment and NaN handling for 10ms. Skipping correlation.\n",
      "\n",
      "==================== Processing Date: 2024-07-30 ====================\n",
      "Loading and curating data for 18 stocks on 2024-07-30...\n"
     ]
    },
    {
     "name": "stderr",
     "output_type": "stream",
     "text": [
      "Curating 2024-07-30:   0%|          | 0/18 [00:00<?, ?it/s]"
     ]
    },
    {
     "name": "stdout",
     "output_type": "stream",
     "text": [
      "Warning: Not enough data points after curating for WBD on 2024-07-30. Skipping stock.\n",
      "Warning: Not enough data points after curating for AAL on 2024-07-30. Skipping stock.\n"
     ]
    },
    {
     "name": "stderr",
     "output_type": "stream",
     "text": [
      "Curating 2024-07-30:  17%|█▋        | 3/18 [00:00<00:00, 27.83it/s]"
     ]
    },
    {
     "name": "stdout",
     "output_type": "stream",
     "text": [
      "Warning: Not enough data points after curating for GT on 2024-07-30. Skipping stock.\n",
      "Warning: Not enough data points after curating for LBTYB on 2024-07-30. Skipping stock.\n",
      "Warning: Not enough data points after curating for MLCO on 2024-07-30. Skipping stock.\n"
     ]
    },
    {
     "name": "stderr",
     "output_type": "stream",
     "text": [
      "Curating 2024-07-30:  33%|███▎      | 6/18 [00:00<00:00, 22.93it/s]"
     ]
    },
    {
     "name": "stdout",
     "output_type": "stream",
     "text": [
      "Warning: Not enough data points after curating for INTC on 2024-07-30. Skipping stock.\n",
      "Warning: Not enough data points after curating for GBDC on 2024-07-30. Skipping stock.\n"
     ]
    },
    {
     "name": "stderr",
     "output_type": "stream",
     "text": [
      "Curating 2024-07-30:  50%|█████     | 9/18 [00:00<00:00, 23.58it/s]"
     ]
    },
    {
     "name": "stdout",
     "output_type": "stream",
     "text": [
      "Warning: Not enough data points after curating for CSX on 2024-07-30. Skipping stock.\n",
      "Warning: Not enough data points after curating for LCID on 2024-07-30. Skipping stock.\n",
      "Warning: Not enough data points after curating for PSNY on 2024-07-30. Skipping stock.\n"
     ]
    },
    {
     "name": "stderr",
     "output_type": "stream",
     "text": [
      "Curating 2024-07-30:  67%|██████▋   | 12/18 [00:00<00:00, 23.00it/s]"
     ]
    },
    {
     "name": "stdout",
     "output_type": "stream",
     "text": [
      "Warning: Not enough data points after curating for KHC on 2024-07-30. Skipping stock.\n",
      "Warning: Not enough data points after curating for GEO on 2024-07-30. Skipping stock.\n"
     ]
    },
    {
     "name": "stderr",
     "output_type": "stream",
     "text": [
      "Curating 2024-07-30: 100%|██████████| 18/18 [00:01<00:00, 15.49it/s]\n"
     ]
    },
    {
     "name": "stdout",
     "output_type": "stream",
     "text": [
      "Warning: Not enough data points after curating for CXW on 2024-07-30. Skipping stock.\n",
      "Warning: Not enough data points after curating for VLY on 2024-07-30. Skipping stock.\n",
      "Warning: Not enough data points after curating for GCMG on 2024-07-30. Skipping stock.\n",
      "Warning: Not enough data points after curating for AVDX on 2024-07-30. Skipping stock.\n",
      "Warning: Not enough data points after curating for AMRX on 2024-07-30. Skipping stock.\n",
      "Successfully curated data for 1 stocks.\n",
      "\n",
      "--- Processing Time Scale: 1m ---\n",
      "Resampling to 1m and calculating log returns...\n"
     ]
    },
    {
     "name": "stderr",
     "output_type": "stream",
     "text": [
      "Resampling 1m: 100%|██████████| 1/1 [00:00<00:00, 315.27it/s]\n",
      "/tmp/ipykernel_23556/2642790735.py:89: DeprecationWarning: Use of `how='outer'` should be replaced with `how='full'`.\n",
      "  aligned_df_pl = aligned_df_pl.join(df_to_join, on=\"ts_event\", how=\"outer\", coalesce=True)\n"
     ]
    },
    {
     "name": "stdout",
     "output_type": "stream",
     "text": [
      "Aligning data across stocks...\n",
      "Not enough data (413 rows, 1 stocks) remaining after alignment and NaN handling for 1m. Skipping correlation.\n",
      "\n",
      "--- Processing Time Scale: 10ms ---\n",
      "Resampling to 10ms and calculating log returns...\n"
     ]
    },
    {
     "name": "stderr",
     "output_type": "stream",
     "text": [
      "Resampling 10ms: 100%|██████████| 1/1 [00:00<00:00, 26.87it/s]"
     ]
    },
    {
     "name": "stdout",
     "output_type": "stream",
     "text": [
      "Aligning data across stocks...\n"
     ]
    },
    {
     "name": "stderr",
     "output_type": "stream",
     "text": [
      "\n",
      "/tmp/ipykernel_23556/2642790735.py:89: DeprecationWarning: Use of `how='outer'` should be replaced with `how='full'`.\n",
      "  aligned_df_pl = aligned_df_pl.join(df_to_join, on=\"ts_event\", how=\"outer\", coalesce=True)\n"
     ]
    },
    {
     "name": "stdout",
     "output_type": "stream",
     "text": [
      "Not enough data (282635 rows, 1 stocks) remaining after alignment and NaN handling for 10ms. Skipping correlation.\n",
      "\n",
      "==================== Processing Date: 2024-07-31 ====================\n",
      "Loading and curating data for 18 stocks on 2024-07-31...\n"
     ]
    },
    {
     "name": "stderr",
     "output_type": "stream",
     "text": [
      "Curating 2024-07-31:   0%|          | 0/18 [00:00<?, ?it/s]"
     ]
    },
    {
     "name": "stdout",
     "output_type": "stream",
     "text": [
      "Warning: Not enough data points after curating for WBD on 2024-07-31. Skipping stock.\n",
      "Warning: Not enough data points after curating for AAL on 2024-07-31. Skipping stock.\n"
     ]
    },
    {
     "name": "stderr",
     "output_type": "stream",
     "text": [
      "Curating 2024-07-31:  17%|█▋        | 3/18 [00:00<00:00, 25.96it/s]"
     ]
    },
    {
     "name": "stdout",
     "output_type": "stream",
     "text": [
      "Warning: Not enough data points after curating for GT on 2024-07-31. Skipping stock.\n",
      "Warning: Not enough data points after curating for LBTYB on 2024-07-31. Skipping stock.\n",
      "Warning: Not enough data points after curating for MLCO on 2024-07-31. Skipping stock.\n"
     ]
    },
    {
     "name": "stderr",
     "output_type": "stream",
     "text": [
      "Curating 2024-07-31:  33%|███▎      | 6/18 [00:00<00:00, 26.08it/s]"
     ]
    },
    {
     "name": "stdout",
     "output_type": "stream",
     "text": [
      "Warning: Not enough data points after curating for INTC on 2024-07-31. Skipping stock.\n",
      "Warning: Not enough data points after curating for GBDC on 2024-07-31. Skipping stock.\n",
      "Warning: Not enough data points after curating for CSX on 2024-07-31. Skipping stock.\n"
     ]
    },
    {
     "name": "stderr",
     "output_type": "stream",
     "text": [
      "Curating 2024-07-31:  56%|█████▌    | 10/18 [00:00<00:00, 29.13it/s]"
     ]
    },
    {
     "name": "stdout",
     "output_type": "stream",
     "text": [
      "Warning: Not enough data points after curating for LCID on 2024-07-31. Skipping stock.\n",
      "Warning: Not enough data points after curating for PSNY on 2024-07-31. Skipping stock.\n",
      "Warning: Not enough data points after curating for KHC on 2024-07-31. Skipping stock.\n",
      "Warning: Not enough data points after curating for GEO on 2024-07-31. Skipping stock.\n"
     ]
    },
    {
     "name": "stderr",
     "output_type": "stream",
     "text": [
      "Curating 2024-07-31: 100%|██████████| 18/18 [00:01<00:00, 17.11it/s]\n"
     ]
    },
    {
     "name": "stdout",
     "output_type": "stream",
     "text": [
      "Warning: Not enough data points after curating for CXW on 2024-07-31. Skipping stock.\n",
      "Warning: Not enough data points after curating for VLY on 2024-07-31. Skipping stock.\n",
      "Warning: Not enough data points after curating for GCMG on 2024-07-31. Skipping stock.\n",
      "Warning: Not enough data points after curating for AVDX on 2024-07-31. Skipping stock.\n",
      "Warning: Not enough data points after curating for AMRX on 2024-07-31. Skipping stock.\n",
      "Successfully curated data for 1 stocks.\n",
      "\n",
      "--- Processing Time Scale: 1m ---\n",
      "Resampling to 1m and calculating log returns...\n"
     ]
    },
    {
     "name": "stderr",
     "output_type": "stream",
     "text": [
      "Resampling 1m: 100%|██████████| 1/1 [00:00<00:00, 196.95it/s]\n",
      "/tmp/ipykernel_23556/2642790735.py:89: DeprecationWarning: Use of `how='outer'` should be replaced with `how='full'`.\n",
      "  aligned_df_pl = aligned_df_pl.join(df_to_join, on=\"ts_event\", how=\"outer\", coalesce=True)\n"
     ]
    },
    {
     "name": "stdout",
     "output_type": "stream",
     "text": [
      "Aligning data across stocks...\n",
      "Not enough data (419 rows, 1 stocks) remaining after alignment and NaN handling for 1m. Skipping correlation.\n",
      "\n",
      "--- Processing Time Scale: 10ms ---\n",
      "Resampling to 10ms and calculating log returns...\n"
     ]
    },
    {
     "name": "stderr",
     "output_type": "stream",
     "text": [
      "Resampling 10ms: 100%|██████████| 1/1 [00:00<00:00, 18.84it/s]"
     ]
    },
    {
     "name": "stdout",
     "output_type": "stream",
     "text": [
      "Aligning data across stocks...\n"
     ]
    },
    {
     "name": "stderr",
     "output_type": "stream",
     "text": [
      "\n",
      "/tmp/ipykernel_23556/2642790735.py:89: DeprecationWarning: Use of `how='outer'` should be replaced with `how='full'`.\n",
      "  aligned_df_pl = aligned_df_pl.join(df_to_join, on=\"ts_event\", how=\"outer\", coalesce=True)\n"
     ]
    },
    {
     "name": "stdout",
     "output_type": "stream",
     "text": [
      "Not enough data (293669 rows, 1 stocks) remaining after alignment and NaN handling for 10ms. Skipping correlation.\n",
      "\n",
      "==================== Processing Date: 2024-08-01 ====================\n",
      "Loading and curating data for 18 stocks on 2024-08-01...\n"
     ]
    },
    {
     "name": "stderr",
     "output_type": "stream",
     "text": [
      "Curating 2024-08-01:   0%|          | 0/18 [00:00<?, ?it/s]"
     ]
    },
    {
     "name": "stdout",
     "output_type": "stream",
     "text": [
      "Warning: Not enough data points after curating for WBD on 2024-08-01. Skipping stock.\n",
      "Warning: Not enough data points after curating for AAL on 2024-08-01. Skipping stock.\n"
     ]
    },
    {
     "name": "stderr",
     "output_type": "stream",
     "text": [
      "Curating 2024-08-01:  17%|█▋        | 3/18 [00:00<00:00, 27.79it/s]"
     ]
    },
    {
     "name": "stdout",
     "output_type": "stream",
     "text": [
      "Warning: Not enough data points after curating for GT on 2024-08-01. Skipping stock.\n",
      "Warning: Not enough data points after curating for LBTYB on 2024-08-01. Skipping stock.\n",
      "Warning: Not enough data points after curating for MLCO on 2024-08-01. Skipping stock.\n"
     ]
    },
    {
     "name": "stderr",
     "output_type": "stream",
     "text": [
      "Curating 2024-08-01:  33%|███▎      | 6/18 [00:00<00:00, 25.59it/s]"
     ]
    },
    {
     "name": "stdout",
     "output_type": "stream",
     "text": [
      "Warning: Not enough data points after curating for INTC on 2024-08-01. Skipping stock.\n",
      "Warning: Not enough data points after curating for GBDC on 2024-08-01. Skipping stock.\n",
      "Warning: Not enough data points after curating for CSX on 2024-08-01. Skipping stock.\n"
     ]
    },
    {
     "name": "stderr",
     "output_type": "stream",
     "text": [
      "Curating 2024-08-01:  50%|█████     | 9/18 [00:00<00:00, 27.10it/s]"
     ]
    },
    {
     "name": "stdout",
     "output_type": "stream",
     "text": [
      "Warning: Not enough data points after curating for LCID on 2024-08-01. Skipping stock.\n",
      "Warning: Not enough data points after curating for PSNY on 2024-08-01. Skipping stock.\n",
      "Warning: Not enough data points after curating for KHC on 2024-08-01. Skipping stock.\n",
      "Warning: Not enough data points after curating for GEO on 2024-08-01. Skipping stock.\n"
     ]
    },
    {
     "name": "stderr",
     "output_type": "stream",
     "text": [
      "Curating 2024-08-01: 100%|██████████| 18/18 [00:01<00:00, 12.12it/s]\n"
     ]
    },
    {
     "name": "stdout",
     "output_type": "stream",
     "text": [
      "Warning: Not enough data points after curating for CXW on 2024-08-01. Skipping stock.\n",
      "Warning: Not enough data points after curating for VLY on 2024-08-01. Skipping stock.\n",
      "Warning: Not enough data points after curating for GCMG on 2024-08-01. Skipping stock.\n",
      "Warning: Not enough data points after curating for AVDX on 2024-08-01. Skipping stock.\n",
      "Warning: Not enough data points after curating for AMRX on 2024-08-01. Skipping stock.\n",
      "Successfully curated data for 1 stocks.\n",
      "\n",
      "--- Processing Time Scale: 1m ---\n",
      "Resampling to 1m and calculating log returns...\n"
     ]
    },
    {
     "name": "stderr",
     "output_type": "stream",
     "text": [
      "Resampling 1m: 100%|██████████| 1/1 [00:00<00:00, 208.21it/s]\n",
      "/tmp/ipykernel_23556/2642790735.py:89: DeprecationWarning: Use of `how='outer'` should be replaced with `how='full'`.\n",
      "  aligned_df_pl = aligned_df_pl.join(df_to_join, on=\"ts_event\", how=\"outer\", coalesce=True)\n"
     ]
    },
    {
     "name": "stdout",
     "output_type": "stream",
     "text": [
      "Aligning data across stocks...\n",
      "Not enough data (418 rows, 1 stocks) remaining after alignment and NaN handling for 1m. Skipping correlation.\n",
      "\n",
      "--- Processing Time Scale: 10ms ---\n",
      "Resampling to 10ms and calculating log returns...\n"
     ]
    },
    {
     "name": "stderr",
     "output_type": "stream",
     "text": [
      "Resampling 10ms: 100%|██████████| 1/1 [00:00<00:00, 24.56it/s]"
     ]
    },
    {
     "name": "stdout",
     "output_type": "stream",
     "text": [
      "Aligning data across stocks...\n"
     ]
    },
    {
     "name": "stderr",
     "output_type": "stream",
     "text": [
      "\n",
      "/tmp/ipykernel_23556/2642790735.py:89: DeprecationWarning: Use of `how='outer'` should be replaced with `how='full'`.\n",
      "  aligned_df_pl = aligned_df_pl.join(df_to_join, on=\"ts_event\", how=\"outer\", coalesce=True)\n"
     ]
    },
    {
     "name": "stdout",
     "output_type": "stream",
     "text": [
      "Not enough data (337249 rows, 1 stocks) remaining after alignment and NaN handling for 10ms. Skipping correlation.\n",
      "\n",
      "==================== Processing Date: 2024-08-02 ====================\n",
      "Loading and curating data for 18 stocks on 2024-08-02...\n"
     ]
    },
    {
     "name": "stderr",
     "output_type": "stream",
     "text": [
      "Curating 2024-08-02:   0%|          | 0/18 [00:00<?, ?it/s]"
     ]
    },
    {
     "name": "stdout",
     "output_type": "stream",
     "text": [
      "Warning: Not enough data points after curating for WBD on 2024-08-02. Skipping stock.\n",
      "Warning: Not enough data points after curating for AAL on 2024-08-02. Skipping stock.\n"
     ]
    },
    {
     "name": "stderr",
     "output_type": "stream",
     "text": [
      "Curating 2024-08-02:  17%|█▋        | 3/18 [00:00<00:00, 25.39it/s]"
     ]
    },
    {
     "name": "stdout",
     "output_type": "stream",
     "text": [
      "Warning: Not enough data points after curating for GT on 2024-08-02. Skipping stock.\n",
      "Warning: Not enough data points after curating for LBTYB on 2024-08-02. Skipping stock.\n",
      "Warning: Not enough data points after curating for MLCO on 2024-08-02. Skipping stock.\n"
     ]
    },
    {
     "name": "stderr",
     "output_type": "stream",
     "text": [
      "Curating 2024-08-02:  33%|███▎      | 6/18 [00:00<00:00, 15.85it/s]"
     ]
    },
    {
     "name": "stdout",
     "output_type": "stream",
     "text": [
      "Warning: Not enough data points after curating for INTC on 2024-08-02. Skipping stock.\n"
     ]
    },
    {
     "name": "stderr",
     "output_type": "stream",
     "text": [
      "Curating 2024-08-02:  50%|█████     | 9/18 [00:00<00:00, 18.98it/s]"
     ]
    },
    {
     "name": "stdout",
     "output_type": "stream",
     "text": [
      "Warning: Not enough data points after curating for GBDC on 2024-08-02. Skipping stock.\n",
      "Warning: Not enough data points after curating for CSX on 2024-08-02. Skipping stock.\n",
      "Warning: Not enough data points after curating for LCID on 2024-08-02. Skipping stock.\n",
      "Warning: Not enough data points after curating for PSNY on 2024-08-02. Skipping stock.\n",
      "Warning: Not enough data points after curating for KHC on 2024-08-02. Skipping stock.\n"
     ]
    },
    {
     "name": "stderr",
     "output_type": "stream",
     "text": [
      "Curating 2024-08-02:  67%|██████▋   | 12/18 [00:00<00:00, 21.60it/s]"
     ]
    },
    {
     "name": "stdout",
     "output_type": "stream",
     "text": [
      "Warning: Not enough data points after curating for GEO on 2024-08-02. Skipping stock.\n"
     ]
    },
    {
     "name": "stderr",
     "output_type": "stream",
     "text": [
      "Curating 2024-08-02: 100%|██████████| 18/18 [00:01<00:00, 11.17it/s]\n"
     ]
    },
    {
     "name": "stdout",
     "output_type": "stream",
     "text": [
      "Warning: Not enough data points after curating for CXW on 2024-08-02. Skipping stock.\n",
      "Warning: Not enough data points after curating for VLY on 2024-08-02. Skipping stock.\n",
      "Warning: Not enough data points after curating for GCMG on 2024-08-02. Skipping stock.\n",
      "Warning: Not enough data points after curating for AVDX on 2024-08-02. Skipping stock.\n",
      "Warning: Not enough data points after curating for AMRX on 2024-08-02. Skipping stock.\n",
      "Successfully curated data for 1 stocks.\n",
      "\n",
      "--- Processing Time Scale: 1m ---\n",
      "Resampling to 1m and calculating log returns...\n"
     ]
    },
    {
     "name": "stderr",
     "output_type": "stream",
     "text": [
      "Resampling 1m: 100%|██████████| 1/1 [00:00<00:00, 116.47it/s]\n",
      "/tmp/ipykernel_23556/2642790735.py:89: DeprecationWarning: Use of `how='outer'` should be replaced with `how='full'`.\n",
      "  aligned_df_pl = aligned_df_pl.join(df_to_join, on=\"ts_event\", how=\"outer\", coalesce=True)\n"
     ]
    },
    {
     "name": "stdout",
     "output_type": "stream",
     "text": [
      "Aligning data across stocks...\n",
      "Not enough data (401 rows, 1 stocks) remaining after alignment and NaN handling for 1m. Skipping correlation.\n",
      "\n",
      "--- Processing Time Scale: 10ms ---\n",
      "Resampling to 10ms and calculating log returns...\n"
     ]
    },
    {
     "name": "stderr",
     "output_type": "stream",
     "text": [
      "Resampling 10ms: 100%|██████████| 1/1 [00:00<00:00, 24.66it/s]"
     ]
    },
    {
     "name": "stdout",
     "output_type": "stream",
     "text": [
      "Aligning data across stocks...\n"
     ]
    },
    {
     "name": "stderr",
     "output_type": "stream",
     "text": [
      "\n",
      "/tmp/ipykernel_23556/2642790735.py:89: DeprecationWarning: Use of `how='outer'` should be replaced with `how='full'`.\n",
      "  aligned_df_pl = aligned_df_pl.join(df_to_join, on=\"ts_event\", how=\"outer\", coalesce=True)\n"
     ]
    },
    {
     "name": "stdout",
     "output_type": "stream",
     "text": [
      "Not enough data (316202 rows, 1 stocks) remaining after alignment and NaN handling for 10ms. Skipping correlation.\n",
      "\n",
      "==================== Processing Date: 2024-08-05 ====================\n",
      "Loading and curating data for 18 stocks on 2024-08-05...\n"
     ]
    },
    {
     "name": "stderr",
     "output_type": "stream",
     "text": [
      "Curating 2024-08-05:   0%|          | 0/18 [00:00<?, ?it/s]"
     ]
    },
    {
     "name": "stdout",
     "output_type": "stream",
     "text": [
      "Warning: Not enough data points after curating for WBD on 2024-08-05. Skipping stock.\n",
      "Warning: Not enough data points after curating for AAL on 2024-08-05. Skipping stock.\n"
     ]
    },
    {
     "name": "stderr",
     "output_type": "stream",
     "text": [
      "Curating 2024-08-05:  17%|█▋        | 3/18 [00:00<00:00, 22.95it/s]"
     ]
    },
    {
     "name": "stdout",
     "output_type": "stream",
     "text": [
      "Warning: Not enough data points after curating for GT on 2024-08-05. Skipping stock.\n",
      "Warning: Not enough data points after curating for LBTYB on 2024-08-05. Skipping stock.\n",
      "Warning: Not enough data points after curating for MLCO on 2024-08-05. Skipping stock.\n"
     ]
    },
    {
     "name": "stderr",
     "output_type": "stream",
     "text": [
      "Curating 2024-08-05:  33%|███▎      | 6/18 [00:00<00:00, 17.17it/s]"
     ]
    },
    {
     "name": "stdout",
     "output_type": "stream",
     "text": [
      "Warning: Not enough data points after curating for INTC on 2024-08-05. Skipping stock.\n",
      "Warning: Not enough data points after curating for GBDC on 2024-08-05. Skipping stock.\n"
     ]
    },
    {
     "name": "stderr",
     "output_type": "stream",
     "text": [
      "Curating 2024-08-05:  44%|████▍     | 8/18 [00:00<00:00, 17.30it/s]"
     ]
    },
    {
     "name": "stdout",
     "output_type": "stream",
     "text": [
      "Warning: Not enough data points after curating for CSX on 2024-08-05. Skipping stock.\n",
      "Warning: Not enough data points after curating for LCID on 2024-08-05. Skipping stock.\n",
      "Warning: Not enough data points after curating for PSNY on 2024-08-05. Skipping stock.\n"
     ]
    },
    {
     "name": "stderr",
     "output_type": "stream",
     "text": [
      "Curating 2024-08-05:  61%|██████    | 11/18 [00:00<00:00, 21.02it/s]"
     ]
    },
    {
     "name": "stdout",
     "output_type": "stream",
     "text": [
      "Warning: Not enough data points after curating for KHC on 2024-08-05. Skipping stock.\n",
      "Warning: Not enough data points after curating for GEO on 2024-08-05. Skipping stock.\n",
      "Error loading or curating GOOGL on 2024-08-05: parquet: File out of specification: The file must end with PAR1\n",
      "Warning: Not enough data points after curating for CXW on 2024-08-05. Skipping stock.\n",
      "Warning: Not enough data points after curating for VLY on 2024-08-05. Skipping stock.\n"
     ]
    },
    {
     "name": "stderr",
     "output_type": "stream",
     "text": [
      "Curating 2024-08-05: 100%|██████████| 18/18 [00:00<00:00, 24.30it/s]\n"
     ]
    },
    {
     "name": "stdout",
     "output_type": "stream",
     "text": [
      "Warning: Not enough data points after curating for GCMG on 2024-08-05. Skipping stock.\n",
      "Warning: Not enough data points after curating for AVDX on 2024-08-05. Skipping stock.\n",
      "Warning: Not enough data points after curating for AMRX on 2024-08-05. Skipping stock.\n",
      "No valid data loaded for any stock on 2024-08-05. Skipping date.\n",
      "\n",
      "==================== Processing Date: 2024-08-06 ====================\n",
      "Loading and curating data for 18 stocks on 2024-08-06...\n"
     ]
    },
    {
     "name": "stderr",
     "output_type": "stream",
     "text": [
      "Curating 2024-08-06:  17%|█▋        | 3/18 [00:00<00:00, 29.29it/s]"
     ]
    },
    {
     "name": "stdout",
     "output_type": "stream",
     "text": [
      "Warning: Not enough data points after curating for WBD on 2024-08-06. Skipping stock.\n",
      "Warning: Not enough data points after curating for AAL on 2024-08-06. Skipping stock.\n",
      "Warning: Not enough data points after curating for GT on 2024-08-06. Skipping stock.\n",
      "Warning: Not enough data points after curating for LBTYB on 2024-08-06. Skipping stock.\n"
     ]
    },
    {
     "name": "stderr",
     "output_type": "stream",
     "text": [
      "Curating 2024-08-06:  33%|███▎      | 6/18 [00:00<00:00, 26.77it/s]"
     ]
    },
    {
     "name": "stdout",
     "output_type": "stream",
     "text": [
      "Warning: Not enough data points after curating for MLCO on 2024-08-06. Skipping stock.\n",
      "Warning: Not enough data points after curating for INTC on 2024-08-06. Skipping stock.\n"
     ]
    },
    {
     "name": "stderr",
     "output_type": "stream",
     "text": [
      "Curating 2024-08-06:  50%|█████     | 9/18 [00:00<00:00, 27.22it/s]"
     ]
    },
    {
     "name": "stdout",
     "output_type": "stream",
     "text": [
      "Warning: Not enough data points after curating for GBDC on 2024-08-06. Skipping stock.\n",
      "Warning: Not enough data points after curating for CSX on 2024-08-06. Skipping stock.\n",
      "Warning: Not enough data points after curating for LCID on 2024-08-06. Skipping stock.\n"
     ]
    },
    {
     "name": "stderr",
     "output_type": "stream",
     "text": [
      "Curating 2024-08-06:  67%|██████▋   | 12/18 [00:00<00:00, 27.97it/s]"
     ]
    },
    {
     "name": "stdout",
     "output_type": "stream",
     "text": [
      "Warning: Not enough data points after curating for PSNY on 2024-08-06. Skipping stock.\n",
      "Warning: Not enough data points after curating for KHC on 2024-08-06. Skipping stock.\n",
      "Warning: Not enough data points after curating for GEO on 2024-08-06. Skipping stock.\n",
      "Warning: Not enough data points after curating for CXW on 2024-08-06. Skipping stock.\n"
     ]
    },
    {
     "name": "stderr",
     "output_type": "stream",
     "text": [
      "Curating 2024-08-06:  83%|████████▎ | 15/18 [00:01<00:00,  5.79it/s]"
     ]
    },
    {
     "name": "stdout",
     "output_type": "stream",
     "text": [
      "Warning: Not enough data points after curating for VLY on 2024-08-06. Skipping stock.\n",
      "Warning: Not enough data points after curating for GCMG on 2024-08-06. Skipping stock.\n"
     ]
    },
    {
     "name": "stderr",
     "output_type": "stream",
     "text": [
      "Curating 2024-08-06: 100%|██████████| 18/18 [00:02<00:00,  6.61it/s]\n"
     ]
    },
    {
     "name": "stdout",
     "output_type": "stream",
     "text": [
      "Warning: Not enough data points after curating for AVDX on 2024-08-06. Skipping stock.\n",
      "Warning: Not enough data points after curating for AMRX on 2024-08-06. Skipping stock.\n",
      "Successfully curated data for 1 stocks.\n",
      "\n",
      "--- Processing Time Scale: 1m ---\n",
      "Resampling to 1m and calculating log returns...\n"
     ]
    },
    {
     "name": "stderr",
     "output_type": "stream",
     "text": [
      "Resampling 1m: 100%|██████████| 1/1 [00:00<00:00, 193.76it/s]\n",
      "/tmp/ipykernel_23556/2642790735.py:89: DeprecationWarning: Use of `how='outer'` should be replaced with `how='full'`.\n",
      "  aligned_df_pl = aligned_df_pl.join(df_to_join, on=\"ts_event\", how=\"outer\", coalesce=True)\n"
     ]
    },
    {
     "name": "stdout",
     "output_type": "stream",
     "text": [
      "Aligning data across stocks...\n",
      "Not enough data (418 rows, 1 stocks) remaining after alignment and NaN handling for 1m. Skipping correlation.\n",
      "\n",
      "--- Processing Time Scale: 10ms ---\n",
      "Resampling to 10ms and calculating log returns...\n"
     ]
    },
    {
     "name": "stderr",
     "output_type": "stream",
     "text": [
      "Resampling 10ms: 100%|██████████| 1/1 [00:00<00:00, 21.53it/s]\n",
      "/tmp/ipykernel_23556/2642790735.py:89: DeprecationWarning: Use of `how='outer'` should be replaced with `how='full'`.\n",
      "  aligned_df_pl = aligned_df_pl.join(df_to_join, on=\"ts_event\", how=\"outer\", coalesce=True)\n"
     ]
    },
    {
     "name": "stdout",
     "output_type": "stream",
     "text": [
      "Aligning data across stocks...\n",
      "Not enough data (328952 rows, 1 stocks) remaining after alignment and NaN handling for 10ms. Skipping correlation.\n",
      "\n",
      "==================== Processing Date: 2024-08-07 ====================\n",
      "Loading and curating data for 18 stocks on 2024-08-07...\n"
     ]
    },
    {
     "name": "stderr",
     "output_type": "stream",
     "text": [
      "Curating 2024-08-07:   0%|          | 0/18 [00:00<?, ?it/s]"
     ]
    },
    {
     "name": "stdout",
     "output_type": "stream",
     "text": [
      "Warning: Not enough data points after curating for WBD on 2024-08-07. Skipping stock.\n",
      "Warning: Not enough data points after curating for AAL on 2024-08-07. Skipping stock.\n"
     ]
    },
    {
     "name": "stderr",
     "output_type": "stream",
     "text": [
      "Curating 2024-08-07:  17%|█▋        | 3/18 [00:00<00:00, 26.68it/s]"
     ]
    },
    {
     "name": "stdout",
     "output_type": "stream",
     "text": [
      "Warning: Not enough data points after curating for GT on 2024-08-07. Skipping stock.\n",
      "Warning: Not enough data points after curating for LBTYB on 2024-08-07. Skipping stock.\n"
     ]
    },
    {
     "name": "stderr",
     "output_type": "stream",
     "text": [
      "Curating 2024-08-07:  33%|███▎      | 6/18 [00:00<00:00, 26.20it/s]"
     ]
    },
    {
     "name": "stdout",
     "output_type": "stream",
     "text": [
      "Warning: Not enough data points after curating for MLCO on 2024-08-07. Skipping stock.\n",
      "Warning: Not enough data points after curating for INTC on 2024-08-07. Skipping stock.\n",
      "Warning: Not enough data points after curating for GBDC on 2024-08-07. Skipping stock.\n",
      "Warning: Not enough data points after curating for CSX on 2024-08-07. Skipping stock.\n"
     ]
    },
    {
     "name": "stderr",
     "output_type": "stream",
     "text": [
      "Curating 2024-08-07:  50%|█████     | 9/18 [00:00<00:00, 26.81it/s]"
     ]
    },
    {
     "name": "stdout",
     "output_type": "stream",
     "text": [
      "Warning: Not enough data points after curating for LCID on 2024-08-07. Skipping stock.\n",
      "Warning: Not enough data points after curating for PSNY on 2024-08-07. Skipping stock.\n",
      "Warning: Not enough data points after curating for KHC on 2024-08-07. Skipping stock.\n",
      "Warning: Not enough data points after curating for GEO on 2024-08-07. Skipping stock.\n"
     ]
    },
    {
     "name": "stderr",
     "output_type": "stream",
     "text": [
      "Curating 2024-08-07: 100%|██████████| 18/18 [00:01<00:00, 15.48it/s]\n"
     ]
    },
    {
     "name": "stdout",
     "output_type": "stream",
     "text": [
      "Warning: Not enough data points after curating for CXW on 2024-08-07. Skipping stock.\n",
      "Warning: Not enough data points after curating for VLY on 2024-08-07. Skipping stock.\n",
      "Warning: Not enough data points after curating for GCMG on 2024-08-07. Skipping stock.\n",
      "Warning: Not enough data points after curating for AVDX on 2024-08-07. Skipping stock.\n",
      "Warning: Not enough data points after curating for AMRX on 2024-08-07. Skipping stock.\n",
      "Successfully curated data for 1 stocks.\n",
      "\n",
      "--- Processing Time Scale: 1m ---\n",
      "Resampling to 1m and calculating log returns...\n"
     ]
    },
    {
     "name": "stderr",
     "output_type": "stream",
     "text": [
      "Resampling 1m: 100%|██████████| 1/1 [00:00<00:00, 200.20it/s]\n",
      "/tmp/ipykernel_23556/2642790735.py:89: DeprecationWarning: Use of `how='outer'` should be replaced with `how='full'`.\n",
      "  aligned_df_pl = aligned_df_pl.join(df_to_join, on=\"ts_event\", how=\"outer\", coalesce=True)\n"
     ]
    },
    {
     "name": "stdout",
     "output_type": "stream",
     "text": [
      "Aligning data across stocks...\n",
      "Not enough data (417 rows, 1 stocks) remaining after alignment and NaN handling for 1m. Skipping correlation.\n",
      "\n",
      "--- Processing Time Scale: 10ms ---\n",
      "Resampling to 10ms and calculating log returns...\n"
     ]
    },
    {
     "name": "stderr",
     "output_type": "stream",
     "text": [
      "Resampling 10ms: 100%|██████████| 1/1 [00:00<00:00, 22.84it/s]"
     ]
    },
    {
     "name": "stdout",
     "output_type": "stream",
     "text": [
      "Aligning data across stocks...\n"
     ]
    },
    {
     "name": "stderr",
     "output_type": "stream",
     "text": [
      "\n",
      "/tmp/ipykernel_23556/2642790735.py:89: DeprecationWarning: Use of `how='outer'` should be replaced with `how='full'`.\n",
      "  aligned_df_pl = aligned_df_pl.join(df_to_join, on=\"ts_event\", how=\"outer\", coalesce=True)\n"
     ]
    },
    {
     "name": "stdout",
     "output_type": "stream",
     "text": [
      "Not enough data (317718 rows, 1 stocks) remaining after alignment and NaN handling for 10ms. Skipping correlation.\n",
      "\n",
      "==================== Processing Date: 2024-08-08 ====================\n",
      "Loading and curating data for 18 stocks on 2024-08-08...\n"
     ]
    },
    {
     "name": "stderr",
     "output_type": "stream",
     "text": [
      "Curating 2024-08-08:   0%|          | 0/18 [00:00<?, ?it/s]"
     ]
    },
    {
     "name": "stdout",
     "output_type": "stream",
     "text": [
      "Warning: Not enough data points after curating for WBD on 2024-08-08. Skipping stock.\n",
      "Warning: Not enough data points after curating for AAL on 2024-08-08. Skipping stock.\n"
     ]
    },
    {
     "name": "stderr",
     "output_type": "stream",
     "text": [
      "Curating 2024-08-08:  17%|█▋        | 3/18 [00:00<00:00, 27.34it/s]"
     ]
    },
    {
     "name": "stdout",
     "output_type": "stream",
     "text": [
      "Warning: Not enough data points after curating for GT on 2024-08-08. Skipping stock.\n",
      "Warning: Not enough data points after curating for LBTYB on 2024-08-08. Skipping stock.\n",
      "Warning: Not enough data points after curating for MLCO on 2024-08-08. Skipping stock.\n"
     ]
    },
    {
     "name": "stderr",
     "output_type": "stream",
     "text": [
      "Curating 2024-08-08:  33%|███▎      | 6/18 [00:00<00:00, 24.93it/s]"
     ]
    },
    {
     "name": "stdout",
     "output_type": "stream",
     "text": [
      "Warning: Not enough data points after curating for INTC on 2024-08-08. Skipping stock.\n",
      "Warning: Not enough data points after curating for GBDC on 2024-08-08. Skipping stock.\n",
      "Warning: Not enough data points after curating for CSX on 2024-08-08. Skipping stock.\n"
     ]
    },
    {
     "name": "stderr",
     "output_type": "stream",
     "text": [
      "Curating 2024-08-08:  56%|█████▌    | 10/18 [00:00<00:00, 27.90it/s]"
     ]
    },
    {
     "name": "stdout",
     "output_type": "stream",
     "text": [
      "Warning: Not enough data points after curating for LCID on 2024-08-08. Skipping stock.\n",
      "Warning: Not enough data points after curating for PSNY on 2024-08-08. Skipping stock.\n",
      "Warning: Not enough data points after curating for KHC on 2024-08-08. Skipping stock.\n",
      "Warning: Not enough data points after curating for GEO on 2024-08-08. Skipping stock.\n"
     ]
    },
    {
     "name": "stderr",
     "output_type": "stream",
     "text": [
      "Curating 2024-08-08: 100%|██████████| 18/18 [00:01<00:00, 16.15it/s]\n"
     ]
    },
    {
     "name": "stdout",
     "output_type": "stream",
     "text": [
      "Warning: Not enough data points after curating for CXW on 2024-08-08. Skipping stock.\n",
      "Warning: Not enough data points after curating for VLY on 2024-08-08. Skipping stock.\n",
      "Warning: Not enough data points after curating for GCMG on 2024-08-08. Skipping stock.\n",
      "Warning: Not enough data points after curating for AVDX on 2024-08-08. Skipping stock.\n",
      "Warning: Not enough data points after curating for AMRX on 2024-08-08. Skipping stock.\n",
      "Successfully curated data for 1 stocks.\n",
      "\n",
      "--- Processing Time Scale: 1m ---\n",
      "Resampling to 1m and calculating log returns...\n"
     ]
    },
    {
     "name": "stderr",
     "output_type": "stream",
     "text": [
      "Resampling 1m: 100%|██████████| 1/1 [00:00<00:00, 254.32it/s]\n",
      "/tmp/ipykernel_23556/2642790735.py:89: DeprecationWarning: Use of `how='outer'` should be replaced with `how='full'`.\n",
      "  aligned_df_pl = aligned_df_pl.join(df_to_join, on=\"ts_event\", how=\"outer\", coalesce=True)\n"
     ]
    },
    {
     "name": "stdout",
     "output_type": "stream",
     "text": [
      "Aligning data across stocks...\n",
      "Not enough data (400 rows, 1 stocks) remaining after alignment and NaN handling for 1m. Skipping correlation.\n",
      "\n",
      "--- Processing Time Scale: 10ms ---\n",
      "Resampling to 10ms and calculating log returns...\n"
     ]
    },
    {
     "name": "stderr",
     "output_type": "stream",
     "text": [
      "Resampling 10ms: 100%|██████████| 1/1 [00:00<00:00, 19.40it/s]"
     ]
    },
    {
     "name": "stdout",
     "output_type": "stream",
     "text": [
      "Aligning data across stocks...\n"
     ]
    },
    {
     "name": "stderr",
     "output_type": "stream",
     "text": [
      "\n",
      "/tmp/ipykernel_23556/2642790735.py:89: DeprecationWarning: Use of `how='outer'` should be replaced with `how='full'`.\n",
      "  aligned_df_pl = aligned_df_pl.join(df_to_join, on=\"ts_event\", how=\"outer\", coalesce=True)\n"
     ]
    },
    {
     "name": "stdout",
     "output_type": "stream",
     "text": [
      "Not enough data (249609 rows, 1 stocks) remaining after alignment and NaN handling for 10ms. Skipping correlation.\n",
      "\n",
      "==================== Processing Date: 2024-08-09 ====================\n",
      "Loading and curating data for 18 stocks on 2024-08-09...\n"
     ]
    },
    {
     "name": "stderr",
     "output_type": "stream",
     "text": [
      "Curating 2024-08-09:   0%|          | 0/18 [00:00<?, ?it/s]"
     ]
    },
    {
     "name": "stdout",
     "output_type": "stream",
     "text": [
      "Warning: Not enough data points after curating for WBD on 2024-08-09. Skipping stock.\n",
      "Warning: Not enough data points after curating for AAL on 2024-08-09. Skipping stock.\n"
     ]
    },
    {
     "name": "stderr",
     "output_type": "stream",
     "text": [
      "Curating 2024-08-09:  17%|█▋        | 3/18 [00:00<00:00, 28.92it/s]"
     ]
    },
    {
     "name": "stdout",
     "output_type": "stream",
     "text": [
      "Warning: Not enough data points after curating for GT on 2024-08-09. Skipping stock.\n",
      "Warning: Not enough data points after curating for LBTYB on 2024-08-09. Skipping stock.\n",
      "Warning: Not enough data points after curating for MLCO on 2024-08-09. Skipping stock.\n"
     ]
    },
    {
     "name": "stderr",
     "output_type": "stream",
     "text": [
      "Curating 2024-08-09:  33%|███▎      | 6/18 [00:00<00:00, 27.58it/s]"
     ]
    },
    {
     "name": "stdout",
     "output_type": "stream",
     "text": [
      "Warning: Not enough data points after curating for INTC on 2024-08-09. Skipping stock.\n",
      "Warning: Not enough data points after curating for GBDC on 2024-08-09. Skipping stock.\n",
      "Warning: Not enough data points after curating for CSX on 2024-08-09. Skipping stock.\n"
     ]
    },
    {
     "name": "stderr",
     "output_type": "stream",
     "text": [
      "Curating 2024-08-09:  56%|█████▌    | 10/18 [00:00<00:00, 28.88it/s]"
     ]
    },
    {
     "name": "stdout",
     "output_type": "stream",
     "text": [
      "Warning: Not enough data points after curating for LCID on 2024-08-09. Skipping stock.\n",
      "Warning: Not enough data points after curating for PSNY on 2024-08-09. Skipping stock.\n",
      "Warning: Not enough data points after curating for KHC on 2024-08-09. Skipping stock.\n",
      "Warning: Not enough data points after curating for GEO on 2024-08-09. Skipping stock.\n"
     ]
    },
    {
     "name": "stderr",
     "output_type": "stream",
     "text": [
      "Curating 2024-08-09: 100%|██████████| 18/18 [00:00<00:00, 18.08it/s]\n"
     ]
    },
    {
     "name": "stdout",
     "output_type": "stream",
     "text": [
      "Warning: Not enough data points after curating for CXW on 2024-08-09. Skipping stock.\n",
      "Warning: Not enough data points after curating for VLY on 2024-08-09. Skipping stock.\n",
      "Warning: Not enough data points after curating for GCMG on 2024-08-09. Skipping stock.\n",
      "Warning: Not enough data points after curating for AVDX on 2024-08-09. Skipping stock.\n",
      "Warning: Not enough data points after curating for AMRX on 2024-08-09. Skipping stock.\n",
      "Successfully curated data for 1 stocks.\n",
      "\n",
      "--- Processing Time Scale: 1m ---\n",
      "Resampling to 1m and calculating log returns...\n"
     ]
    },
    {
     "name": "stderr",
     "output_type": "stream",
     "text": [
      "Resampling 1m: 100%|██████████| 1/1 [00:00<00:00, 282.56it/s]\n",
      "/tmp/ipykernel_23556/2642790735.py:89: DeprecationWarning: Use of `how='outer'` should be replaced with `how='full'`.\n",
      "  aligned_df_pl = aligned_df_pl.join(df_to_join, on=\"ts_event\", how=\"outer\", coalesce=True)\n"
     ]
    },
    {
     "name": "stdout",
     "output_type": "stream",
     "text": [
      "Aligning data across stocks...\n",
      "Not enough data (376 rows, 1 stocks) remaining after alignment and NaN handling for 1m. Skipping correlation.\n",
      "\n",
      "--- Processing Time Scale: 10ms ---\n",
      "Resampling to 10ms and calculating log returns...\n"
     ]
    },
    {
     "name": "stderr",
     "output_type": "stream",
     "text": [
      "Resampling 10ms: 100%|██████████| 1/1 [00:00<00:00, 21.09it/s]"
     ]
    },
    {
     "name": "stdout",
     "output_type": "stream",
     "text": [
      "Aligning data across stocks...\n"
     ]
    },
    {
     "name": "stderr",
     "output_type": "stream",
     "text": [
      "\n",
      "/tmp/ipykernel_23556/2642790735.py:89: DeprecationWarning: Use of `how='outer'` should be replaced with `how='full'`.\n",
      "  aligned_df_pl = aligned_df_pl.join(df_to_join, on=\"ts_event\", how=\"outer\", coalesce=True)\n"
     ]
    },
    {
     "name": "stdout",
     "output_type": "stream",
     "text": [
      "Not enough data (242949 rows, 1 stocks) remaining after alignment and NaN handling for 10ms. Skipping correlation.\n",
      "\n",
      "==================== Processing Date: 2024-08-12 ====================\n",
      "Loading and curating data for 18 stocks on 2024-08-12...\n"
     ]
    },
    {
     "name": "stderr",
     "output_type": "stream",
     "text": [
      "Curating 2024-08-12:   0%|          | 0/18 [00:00<?, ?it/s]"
     ]
    },
    {
     "name": "stdout",
     "output_type": "stream",
     "text": [
      "Warning: Not enough data points after curating for WBD on 2024-08-12. Skipping stock.\n",
      "Warning: Not enough data points after curating for AAL on 2024-08-12. Skipping stock.\n"
     ]
    },
    {
     "name": "stderr",
     "output_type": "stream",
     "text": [
      "Curating 2024-08-12:  17%|█▋        | 3/18 [00:00<00:00, 26.24it/s]"
     ]
    },
    {
     "name": "stdout",
     "output_type": "stream",
     "text": [
      "Warning: Not enough data points after curating for GT on 2024-08-12. Skipping stock.\n",
      "Warning: Not enough data points after curating for LBTYB on 2024-08-12. Skipping stock.\n",
      "Warning: Not enough data points after curating for MLCO on 2024-08-12. Skipping stock.\n"
     ]
    },
    {
     "name": "stderr",
     "output_type": "stream",
     "text": [
      "Curating 2024-08-12:  33%|███▎      | 6/18 [00:00<00:00, 25.47it/s]"
     ]
    },
    {
     "name": "stdout",
     "output_type": "stream",
     "text": [
      "Warning: Not enough data points after curating for INTC on 2024-08-12. Skipping stock.\n",
      "Warning: Not enough data points after curating for GBDC on 2024-08-12. Skipping stock.\n",
      "Warning: Not enough data points after curating for CSX on 2024-08-12. Skipping stock.\n"
     ]
    },
    {
     "name": "stderr",
     "output_type": "stream",
     "text": [
      "Curating 2024-08-12:  50%|█████     | 9/18 [00:00<00:00, 27.04it/s]"
     ]
    },
    {
     "name": "stdout",
     "output_type": "stream",
     "text": [
      "Warning: Not enough data points after curating for LCID on 2024-08-12. Skipping stock.\n",
      "Warning: Not enough data points after curating for PSNY on 2024-08-12. Skipping stock.\n",
      "Warning: Not enough data points after curating for KHC on 2024-08-12. Skipping stock.\n"
     ]
    },
    {
     "name": "stderr",
     "output_type": "stream",
     "text": [
      "Curating 2024-08-12:  67%|██████▋   | 12/18 [00:00<00:00, 28.03it/s]"
     ]
    },
    {
     "name": "stdout",
     "output_type": "stream",
     "text": [
      "Warning: Not enough data points after curating for GEO on 2024-08-12. Skipping stock.\n"
     ]
    },
    {
     "name": "stderr",
     "output_type": "stream",
     "text": [
      "Curating 2024-08-12: 100%|██████████| 18/18 [00:00<00:00, 20.02it/s]\n"
     ]
    },
    {
     "name": "stdout",
     "output_type": "stream",
     "text": [
      "Warning: Not enough data points after curating for CXW on 2024-08-12. Skipping stock.\n",
      "Warning: Not enough data points after curating for VLY on 2024-08-12. Skipping stock.\n",
      "Warning: Not enough data points after curating for GCMG on 2024-08-12. Skipping stock.\n",
      "Warning: Not enough data points after curating for AVDX on 2024-08-12. Skipping stock.\n",
      "Warning: Not enough data points after curating for AMRX on 2024-08-12. Skipping stock.\n",
      "Successfully curated data for 1 stocks.\n",
      "\n",
      "--- Processing Time Scale: 1m ---\n",
      "Resampling to 1m and calculating log returns...\n"
     ]
    },
    {
     "name": "stderr",
     "output_type": "stream",
     "text": [
      "Resampling 1m: 100%|██████████| 1/1 [00:00<00:00, 330.55it/s]\n",
      "/tmp/ipykernel_23556/2642790735.py:89: DeprecationWarning: Use of `how='outer'` should be replaced with `how='full'`.\n",
      "  aligned_df_pl = aligned_df_pl.join(df_to_join, on=\"ts_event\", how=\"outer\", coalesce=True)\n"
     ]
    },
    {
     "name": "stdout",
     "output_type": "stream",
     "text": [
      "Aligning data across stocks...\n",
      "Not enough data (371 rows, 1 stocks) remaining after alignment and NaN handling for 1m. Skipping correlation.\n",
      "\n",
      "--- Processing Time Scale: 10ms ---\n",
      "Resampling to 10ms and calculating log returns...\n"
     ]
    },
    {
     "name": "stderr",
     "output_type": "stream",
     "text": [
      "Resampling 10ms: 100%|██████████| 1/1 [00:00<00:00, 20.87it/s]"
     ]
    },
    {
     "name": "stdout",
     "output_type": "stream",
     "text": [
      "Aligning data across stocks...\n"
     ]
    },
    {
     "name": "stderr",
     "output_type": "stream",
     "text": [
      "\n",
      "/tmp/ipykernel_23556/2642790735.py:89: DeprecationWarning: Use of `how='outer'` should be replaced with `how='full'`.\n",
      "  aligned_df_pl = aligned_df_pl.join(df_to_join, on=\"ts_event\", how=\"outer\", coalesce=True)\n"
     ]
    },
    {
     "name": "stdout",
     "output_type": "stream",
     "text": [
      "Not enough data (190257 rows, 1 stocks) remaining after alignment and NaN handling for 10ms. Skipping correlation.\n",
      "\n",
      "==================== Processing Date: 2024-08-13 ====================\n",
      "Loading and curating data for 18 stocks on 2024-08-13...\n"
     ]
    },
    {
     "name": "stderr",
     "output_type": "stream",
     "text": [
      "Curating 2024-08-13:  17%|█▋        | 3/18 [00:00<00:00, 29.45it/s]"
     ]
    },
    {
     "name": "stdout",
     "output_type": "stream",
     "text": [
      "Warning: Not enough data points after curating for WBD on 2024-08-13. Skipping stock.\n",
      "Warning: Not enough data points after curating for AAL on 2024-08-13. Skipping stock.\n",
      "Warning: Not enough data points after curating for GT on 2024-08-13. Skipping stock.\n",
      "Warning: Not enough data points after curating for LBTYB on 2024-08-13. Skipping stock.\n",
      "Warning: Not enough data points after curating for MLCO on 2024-08-13. Skipping stock.\n"
     ]
    },
    {
     "name": "stderr",
     "output_type": "stream",
     "text": [
      "Curating 2024-08-13:  33%|███▎      | 6/18 [00:00<00:00, 26.83it/s]"
     ]
    },
    {
     "name": "stdout",
     "output_type": "stream",
     "text": [
      "Warning: Not enough data points after curating for INTC on 2024-08-13. Skipping stock.\n"
     ]
    },
    {
     "name": "stderr",
     "output_type": "stream",
     "text": [
      "Curating 2024-08-13:  50%|█████     | 9/18 [00:00<00:00, 28.09it/s]"
     ]
    },
    {
     "name": "stdout",
     "output_type": "stream",
     "text": [
      "Warning: Not enough data points after curating for GBDC on 2024-08-13. Skipping stock.\n",
      "Warning: Not enough data points after curating for CSX on 2024-08-13. Skipping stock.\n",
      "Warning: Not enough data points after curating for LCID on 2024-08-13. Skipping stock.\n",
      "Warning: Not enough data points after curating for PSNY on 2024-08-13. Skipping stock.\n",
      "Warning: Not enough data points after curating for KHC on 2024-08-13. Skipping stock.\n",
      "Warning: Not enough data points after curating for GEO on 2024-08-13. Skipping stock.\n"
     ]
    },
    {
     "name": "stderr",
     "output_type": "stream",
     "text": [
      "Curating 2024-08-13: 100%|██████████| 18/18 [00:00<00:00, 21.49it/s]\n"
     ]
    },
    {
     "name": "stdout",
     "output_type": "stream",
     "text": [
      "Warning: Not enough data points after curating for CXW on 2024-08-13. Skipping stock.\n",
      "Warning: Not enough data points after curating for VLY on 2024-08-13. Skipping stock.\n",
      "Warning: Not enough data points after curating for GCMG on 2024-08-13. Skipping stock.\n",
      "Warning: Not enough data points after curating for AVDX on 2024-08-13. Skipping stock.\n",
      "Warning: Not enough data points after curating for AMRX on 2024-08-13. Skipping stock.\n",
      "Successfully curated data for 1 stocks.\n",
      "\n",
      "--- Processing Time Scale: 1m ---\n",
      "Resampling to 1m and calculating log returns...\n"
     ]
    },
    {
     "name": "stderr",
     "output_type": "stream",
     "text": [
      "Resampling 1m: 100%|██████████| 1/1 [00:00<00:00, 333.17it/s]\n",
      "/tmp/ipykernel_23556/2642790735.py:89: DeprecationWarning: Use of `how='outer'` should be replaced with `how='full'`.\n",
      "  aligned_df_pl = aligned_df_pl.join(df_to_join, on=\"ts_event\", how=\"outer\", coalesce=True)\n"
     ]
    },
    {
     "name": "stdout",
     "output_type": "stream",
     "text": [
      "Aligning data across stocks...\n",
      "Not enough data (418 rows, 1 stocks) remaining after alignment and NaN handling for 1m. Skipping correlation.\n",
      "\n",
      "--- Processing Time Scale: 10ms ---\n",
      "Resampling to 10ms and calculating log returns...\n"
     ]
    },
    {
     "name": "stderr",
     "output_type": "stream",
     "text": [
      "Resampling 10ms: 100%|██████████| 1/1 [00:00<00:00, 16.99it/s]"
     ]
    },
    {
     "name": "stdout",
     "output_type": "stream",
     "text": [
      "Aligning data across stocks...\n"
     ]
    },
    {
     "name": "stderr",
     "output_type": "stream",
     "text": [
      "\n",
      "/tmp/ipykernel_23556/2642790735.py:89: DeprecationWarning: Use of `how='outer'` should be replaced with `how='full'`.\n",
      "  aligned_df_pl = aligned_df_pl.join(df_to_join, on=\"ts_event\", how=\"outer\", coalesce=True)\n"
     ]
    },
    {
     "name": "stdout",
     "output_type": "stream",
     "text": [
      "Not enough data (171953 rows, 1 stocks) remaining after alignment and NaN handling for 10ms. Skipping correlation.\n",
      "\n",
      "==================== Processing Date: 2024-08-14 ====================\n",
      "Loading and curating data for 18 stocks on 2024-08-14...\n"
     ]
    },
    {
     "name": "stderr",
     "output_type": "stream",
     "text": [
      "Curating 2024-08-14:   0%|          | 0/18 [00:00<?, ?it/s]"
     ]
    },
    {
     "name": "stdout",
     "output_type": "stream",
     "text": [
      "Warning: Not enough data points after curating for WBD on 2024-08-14. Skipping stock.\n",
      "Warning: Not enough data points after curating for AAL on 2024-08-14. Skipping stock.\n"
     ]
    },
    {
     "name": "stderr",
     "output_type": "stream",
     "text": [
      "Curating 2024-08-14:  17%|█▋        | 3/18 [00:00<00:00, 26.88it/s]"
     ]
    },
    {
     "name": "stdout",
     "output_type": "stream",
     "text": [
      "Warning: Not enough data points after curating for GT on 2024-08-14. Skipping stock.\n",
      "Warning: Not enough data points after curating for LBTYB on 2024-08-14. Skipping stock.\n",
      "Warning: Not enough data points after curating for MLCO on 2024-08-14. Skipping stock.\n"
     ]
    },
    {
     "name": "stderr",
     "output_type": "stream",
     "text": [
      "Curating 2024-08-14:  33%|███▎      | 6/18 [00:00<00:00, 27.14it/s]"
     ]
    },
    {
     "name": "stdout",
     "output_type": "stream",
     "text": [
      "Warning: Not enough data points after curating for INTC on 2024-08-14. Skipping stock.\n",
      "Warning: Not enough data points after curating for GBDC on 2024-08-14. Skipping stock.\n",
      "Warning: Not enough data points after curating for CSX on 2024-08-14. Skipping stock.\n",
      "Warning: Not enough data points after curating for LCID on 2024-08-14. Skipping stock.\n"
     ]
    },
    {
     "name": "stderr",
     "output_type": "stream",
     "text": [
      "Curating 2024-08-14:  56%|█████▌    | 10/18 [00:00<00:00, 30.48it/s]"
     ]
    },
    {
     "name": "stdout",
     "output_type": "stream",
     "text": [
      "Warning: Not enough data points after curating for PSNY on 2024-08-14. Skipping stock.\n",
      "Warning: Not enough data points after curating for KHC on 2024-08-14. Skipping stock.\n",
      "Warning: Not enough data points after curating for GEO on 2024-08-14. Skipping stock.\n"
     ]
    },
    {
     "name": "stderr",
     "output_type": "stream",
     "text": [
      "Curating 2024-08-14: 100%|██████████| 18/18 [00:00<00:00, 20.62it/s]\n"
     ]
    },
    {
     "name": "stdout",
     "output_type": "stream",
     "text": [
      "Warning: Not enough data points after curating for CXW on 2024-08-14. Skipping stock.\n",
      "Warning: Not enough data points after curating for VLY on 2024-08-14. Skipping stock.\n",
      "Warning: Not enough data points after curating for GCMG on 2024-08-14. Skipping stock.\n",
      "Warning: Not enough data points after curating for AVDX on 2024-08-14. Skipping stock.\n",
      "Warning: Not enough data points after curating for AMRX on 2024-08-14. Skipping stock.\n",
      "Successfully curated data for 1 stocks.\n",
      "\n",
      "--- Processing Time Scale: 1m ---\n",
      "Resampling to 1m and calculating log returns...\n"
     ]
    },
    {
     "name": "stderr",
     "output_type": "stream",
     "text": [
      "Resampling 1m: 100%|██████████| 1/1 [00:00<00:00, 360.92it/s]\n",
      "/tmp/ipykernel_23556/2642790735.py:89: DeprecationWarning: Use of `how='outer'` should be replaced with `how='full'`.\n",
      "  aligned_df_pl = aligned_df_pl.join(df_to_join, on=\"ts_event\", how=\"outer\", coalesce=True)\n"
     ]
    },
    {
     "name": "stdout",
     "output_type": "stream",
     "text": [
      "Aligning data across stocks...\n",
      "Not enough data (415 rows, 1 stocks) remaining after alignment and NaN handling for 1m. Skipping correlation.\n",
      "\n",
      "--- Processing Time Scale: 10ms ---\n",
      "Resampling to 10ms and calculating log returns...\n"
     ]
    },
    {
     "name": "stderr",
     "output_type": "stream",
     "text": [
      "Resampling 10ms: 100%|██████████| 1/1 [00:00<00:00, 30.72it/s]\n",
      "/tmp/ipykernel_23556/2642790735.py:89: DeprecationWarning: Use of `how='outer'` should be replaced with `how='full'`.\n",
      "  aligned_df_pl = aligned_df_pl.join(df_to_join, on=\"ts_event\", how=\"outer\", coalesce=True)\n"
     ]
    },
    {
     "name": "stdout",
     "output_type": "stream",
     "text": [
      "Aligning data across stocks...\n",
      "Not enough data (175372 rows, 1 stocks) remaining after alignment and NaN handling for 10ms. Skipping correlation.\n",
      "\n",
      "==================== Processing Date: 2024-08-15 ====================\n",
      "Loading and curating data for 18 stocks on 2024-08-15...\n"
     ]
    },
    {
     "name": "stderr",
     "output_type": "stream",
     "text": [
      "Curating 2024-08-15:  17%|█▋        | 3/18 [00:00<00:00, 28.69it/s]"
     ]
    },
    {
     "name": "stdout",
     "output_type": "stream",
     "text": [
      "Warning: Not enough data points after curating for WBD on 2024-08-15. Skipping stock.\n",
      "Warning: Not enough data points after curating for AAL on 2024-08-15. Skipping stock.\n",
      "Warning: Not enough data points after curating for GT on 2024-08-15. Skipping stock.\n",
      "Warning: Not enough data points after curating for LBTYB on 2024-08-15. Skipping stock.\n",
      "Warning: Not enough data points after curating for MLCO on 2024-08-15. Skipping stock.\n"
     ]
    },
    {
     "name": "stderr",
     "output_type": "stream",
     "text": [
      "Curating 2024-08-15:  33%|███▎      | 6/18 [00:00<00:00, 26.42it/s]"
     ]
    },
    {
     "name": "stdout",
     "output_type": "stream",
     "text": [
      "Warning: Not enough data points after curating for INTC on 2024-08-15. Skipping stock.\n"
     ]
    },
    {
     "name": "stderr",
     "output_type": "stream",
     "text": [
      "Curating 2024-08-15:  56%|█████▌    | 10/18 [00:00<00:00, 31.24it/s]"
     ]
    },
    {
     "name": "stdout",
     "output_type": "stream",
     "text": [
      "Warning: Not enough data points after curating for GBDC on 2024-08-15. Skipping stock.\n",
      "Warning: Not enough data points after curating for CSX on 2024-08-15. Skipping stock.\n",
      "Warning: Not enough data points after curating for LCID on 2024-08-15. Skipping stock.\n",
      "Warning: Not enough data points after curating for PSNY on 2024-08-15. Skipping stock.\n",
      "Warning: Not enough data points after curating for KHC on 2024-08-15. Skipping stock.\n",
      "Warning: Not enough data points after curating for GEO on 2024-08-15. Skipping stock.\n"
     ]
    },
    {
     "name": "stderr",
     "output_type": "stream",
     "text": [
      "Curating 2024-08-15: 100%|██████████| 18/18 [00:00<00:00, 22.04it/s]\n"
     ]
    },
    {
     "name": "stdout",
     "output_type": "stream",
     "text": [
      "Warning: Not enough data points after curating for CXW on 2024-08-15. Skipping stock.\n",
      "Warning: Not enough data points after curating for VLY on 2024-08-15. Skipping stock.\n",
      "Warning: Not enough data points after curating for GCMG on 2024-08-15. Skipping stock.\n",
      "Warning: Not enough data points after curating for AVDX on 2024-08-15. Skipping stock.\n",
      "Warning: Not enough data points after curating for AMRX on 2024-08-15. Skipping stock.\n",
      "Successfully curated data for 1 stocks.\n",
      "\n",
      "--- Processing Time Scale: 1m ---\n",
      "Resampling to 1m and calculating log returns...\n"
     ]
    },
    {
     "name": "stderr",
     "output_type": "stream",
     "text": [
      "Resampling 1m: 100%|██████████| 1/1 [00:00<00:00, 514.01it/s]\n",
      "/tmp/ipykernel_23556/2642790735.py:89: DeprecationWarning: Use of `how='outer'` should be replaced with `how='full'`.\n",
      "  aligned_df_pl = aligned_df_pl.join(df_to_join, on=\"ts_event\", how=\"outer\", coalesce=True)\n"
     ]
    },
    {
     "name": "stdout",
     "output_type": "stream",
     "text": [
      "Aligning data across stocks...\n",
      "Not enough data (403 rows, 1 stocks) remaining after alignment and NaN handling for 1m. Skipping correlation.\n",
      "\n",
      "--- Processing Time Scale: 10ms ---\n",
      "Resampling to 10ms and calculating log returns...\n"
     ]
    },
    {
     "name": "stderr",
     "output_type": "stream",
     "text": [
      "Resampling 10ms: 100%|██████████| 1/1 [00:00<00:00, 29.26it/s]\n",
      "/tmp/ipykernel_23556/2642790735.py:89: DeprecationWarning: Use of `how='outer'` should be replaced with `how='full'`.\n",
      "  aligned_df_pl = aligned_df_pl.join(df_to_join, on=\"ts_event\", how=\"outer\", coalesce=True)\n"
     ]
    },
    {
     "name": "stdout",
     "output_type": "stream",
     "text": [
      "Aligning data across stocks...\n",
      "Not enough data (147007 rows, 1 stocks) remaining after alignment and NaN handling for 10ms. Skipping correlation.\n",
      "\n",
      "==================== Processing Date: 2024-08-16 ====================\n",
      "Loading and curating data for 18 stocks on 2024-08-16...\n"
     ]
    },
    {
     "name": "stderr",
     "output_type": "stream",
     "text": [
      "Curating 2024-08-16:  17%|█▋        | 3/18 [00:00<00:00, 27.22it/s]"
     ]
    },
    {
     "name": "stdout",
     "output_type": "stream",
     "text": [
      "Warning: Not enough data points after curating for WBD on 2024-08-16. Skipping stock.\n",
      "Warning: Not enough data points after curating for AAL on 2024-08-16. Skipping stock.\n",
      "Warning: Not enough data points after curating for GT on 2024-08-16. Skipping stock.\n",
      "Warning: Not enough data points after curating for LBTYB on 2024-08-16. Skipping stock.\n",
      "Warning: Not enough data points after curating for MLCO on 2024-08-16. Skipping stock.\n"
     ]
    },
    {
     "name": "stderr",
     "output_type": "stream",
     "text": [
      "Curating 2024-08-16:  33%|███▎      | 6/18 [00:00<00:00, 27.43it/s]"
     ]
    },
    {
     "name": "stdout",
     "output_type": "stream",
     "text": [
      "Warning: Not enough data points after curating for INTC on 2024-08-16. Skipping stock.\n",
      "Warning: Not enough data points after curating for GBDC on 2024-08-16. Skipping stock.\n",
      "Warning: Not enough data points after curating for CSX on 2024-08-16. Skipping stock.\n",
      "Warning: Not enough data points after curating for LCID on 2024-08-16. Skipping stock.\n"
     ]
    },
    {
     "name": "stderr",
     "output_type": "stream",
     "text": [
      "Curating 2024-08-16:  56%|█████▌    | 10/18 [00:00<00:00, 29.64it/s]"
     ]
    },
    {
     "name": "stdout",
     "output_type": "stream",
     "text": [
      "Warning: Not enough data points after curating for PSNY on 2024-08-16. Skipping stock.\n",
      "Warning: Not enough data points after curating for KHC on 2024-08-16. Skipping stock.\n",
      "Warning: Not enough data points after curating for GEO on 2024-08-16. Skipping stock.\n"
     ]
    },
    {
     "name": "stderr",
     "output_type": "stream",
     "text": [
      "Curating 2024-08-16: 100%|██████████| 18/18 [00:00<00:00, 20.98it/s]\n"
     ]
    },
    {
     "name": "stdout",
     "output_type": "stream",
     "text": [
      "Warning: Not enough data points after curating for CXW on 2024-08-16. Skipping stock.\n",
      "Warning: Not enough data points after curating for VLY on 2024-08-16. Skipping stock.\n",
      "Warning: Not enough data points after curating for GCMG on 2024-08-16. Skipping stock.\n",
      "Warning: Not enough data points after curating for AVDX on 2024-08-16. Skipping stock.\n",
      "Warning: Not enough data points after curating for AMRX on 2024-08-16. Skipping stock.\n",
      "Successfully curated data for 1 stocks.\n",
      "\n",
      "--- Processing Time Scale: 1m ---\n",
      "Resampling to 1m and calculating log returns...\n"
     ]
    },
    {
     "name": "stderr",
     "output_type": "stream",
     "text": [
      "Resampling 1m: 100%|██████████| 1/1 [00:00<00:00, 336.95it/s]\n",
      "/tmp/ipykernel_23556/2642790735.py:89: DeprecationWarning: Use of `how='outer'` should be replaced with `how='full'`.\n",
      "  aligned_df_pl = aligned_df_pl.join(df_to_join, on=\"ts_event\", how=\"outer\", coalesce=True)\n"
     ]
    },
    {
     "name": "stdout",
     "output_type": "stream",
     "text": [
      "Aligning data across stocks...\n",
      "Not enough data (384 rows, 1 stocks) remaining after alignment and NaN handling for 1m. Skipping correlation.\n",
      "\n",
      "--- Processing Time Scale: 10ms ---\n",
      "Resampling to 10ms and calculating log returns...\n"
     ]
    },
    {
     "name": "stderr",
     "output_type": "stream",
     "text": [
      "Resampling 10ms: 100%|██████████| 1/1 [00:00<00:00, 28.66it/s]\n",
      "/tmp/ipykernel_23556/2642790735.py:89: DeprecationWarning: Use of `how='outer'` should be replaced with `how='full'`.\n",
      "  aligned_df_pl = aligned_df_pl.join(df_to_join, on=\"ts_event\", how=\"outer\", coalesce=True)\n"
     ]
    },
    {
     "name": "stdout",
     "output_type": "stream",
     "text": [
      "Aligning data across stocks...\n",
      "Not enough data (171966 rows, 1 stocks) remaining after alignment and NaN handling for 10ms. Skipping correlation.\n",
      "\n",
      "==================== Processing Date: 2024-08-19 ====================\n",
      "Loading and curating data for 18 stocks on 2024-08-19...\n"
     ]
    },
    {
     "name": "stderr",
     "output_type": "stream",
     "text": [
      "Curating 2024-08-19:  17%|█▋        | 3/18 [00:00<00:00, 28.39it/s]"
     ]
    },
    {
     "name": "stdout",
     "output_type": "stream",
     "text": [
      "Warning: Not enough data points after curating for WBD on 2024-08-19. Skipping stock.\n",
      "Warning: Not enough data points after curating for AAL on 2024-08-19. Skipping stock.\n",
      "Warning: Not enough data points after curating for GT on 2024-08-19. Skipping stock.\n",
      "Warning: Not enough data points after curating for LBTYB on 2024-08-19. Skipping stock.\n",
      "Warning: Not enough data points after curating for MLCO on 2024-08-19. Skipping stock.\n"
     ]
    },
    {
     "name": "stderr",
     "output_type": "stream",
     "text": [
      "Curating 2024-08-19:  33%|███▎      | 6/18 [00:00<00:00, 27.47it/s]"
     ]
    },
    {
     "name": "stdout",
     "output_type": "stream",
     "text": [
      "Warning: Not enough data points after curating for INTC on 2024-08-19. Skipping stock.\n",
      "Warning: Not enough data points after curating for GBDC on 2024-08-19. Skipping stock.\n",
      "Warning: Not enough data points after curating for CSX on 2024-08-19. Skipping stock.\n",
      "Warning: Not enough data points after curating for LCID on 2024-08-19. Skipping stock.\n"
     ]
    },
    {
     "name": "stderr",
     "output_type": "stream",
     "text": [
      "Curating 2024-08-19:  56%|█████▌    | 10/18 [00:00<00:00, 29.44it/s]"
     ]
    },
    {
     "name": "stdout",
     "output_type": "stream",
     "text": [
      "Warning: Not enough data points after curating for PSNY on 2024-08-19. Skipping stock.\n",
      "Warning: Not enough data points after curating for KHC on 2024-08-19. Skipping stock.\n",
      "Warning: Not enough data points after curating for GEO on 2024-08-19. Skipping stock.\n"
     ]
    },
    {
     "name": "stderr",
     "output_type": "stream",
     "text": [
      "Curating 2024-08-19: 100%|██████████| 18/18 [00:00<00:00, 21.52it/s]\n"
     ]
    },
    {
     "name": "stdout",
     "output_type": "stream",
     "text": [
      "Warning: Not enough data points after curating for CXW on 2024-08-19. Skipping stock.\n",
      "Warning: Not enough data points after curating for VLY on 2024-08-19. Skipping stock.\n",
      "Warning: Not enough data points after curating for GCMG on 2024-08-19. Skipping stock.\n",
      "Warning: Not enough data points after curating for AVDX on 2024-08-19. Skipping stock.\n",
      "Warning: Not enough data points after curating for AMRX on 2024-08-19. Skipping stock.\n",
      "Successfully curated data for 1 stocks.\n",
      "\n",
      "--- Processing Time Scale: 1m ---\n",
      "Resampling to 1m and calculating log returns...\n"
     ]
    },
    {
     "name": "stderr",
     "output_type": "stream",
     "text": [
      "Resampling 1m: 100%|██████████| 1/1 [00:00<00:00, 407.61it/s]\n",
      "/tmp/ipykernel_23556/2642790735.py:89: DeprecationWarning: Use of `how='outer'` should be replaced with `how='full'`.\n",
      "  aligned_df_pl = aligned_df_pl.join(df_to_join, on=\"ts_event\", how=\"outer\", coalesce=True)\n"
     ]
    },
    {
     "name": "stdout",
     "output_type": "stream",
     "text": [
      "Aligning data across stocks...\n",
      "Not enough data (413 rows, 1 stocks) remaining after alignment and NaN handling for 1m. Skipping correlation.\n",
      "\n",
      "--- Processing Time Scale: 10ms ---\n",
      "Resampling to 10ms and calculating log returns...\n"
     ]
    },
    {
     "name": "stderr",
     "output_type": "stream",
     "text": [
      "Resampling 10ms: 100%|██████████| 1/1 [00:00<00:00, 32.51it/s]\n",
      "/tmp/ipykernel_23556/2642790735.py:89: DeprecationWarning: Use of `how='outer'` should be replaced with `how='full'`.\n",
      "  aligned_df_pl = aligned_df_pl.join(df_to_join, on=\"ts_event\", how=\"outer\", coalesce=True)\n"
     ]
    },
    {
     "name": "stdout",
     "output_type": "stream",
     "text": [
      "Aligning data across stocks...\n",
      "Not enough data (144092 rows, 1 stocks) remaining after alignment and NaN handling for 10ms. Skipping correlation.\n",
      "\n",
      "==================== Processing Date: 2024-08-20 ====================\n",
      "Loading and curating data for 18 stocks on 2024-08-20...\n"
     ]
    },
    {
     "name": "stderr",
     "output_type": "stream",
     "text": [
      "Curating 2024-08-20:  17%|█▋        | 3/18 [00:00<00:00, 28.54it/s]"
     ]
    },
    {
     "name": "stdout",
     "output_type": "stream",
     "text": [
      "Warning: Not enough data points after curating for WBD on 2024-08-20. Skipping stock.\n",
      "Warning: Not enough data points after curating for AAL on 2024-08-20. Skipping stock.\n",
      "Warning: Not enough data points after curating for GT on 2024-08-20. Skipping stock.\n",
      "Warning: Not enough data points after curating for LBTYB on 2024-08-20. Skipping stock.\n",
      "Warning: Not enough data points after curating for MLCO on 2024-08-20. Skipping stock.\n"
     ]
    },
    {
     "name": "stderr",
     "output_type": "stream",
     "text": [
      "Curating 2024-08-20:  39%|███▉      | 7/18 [00:00<00:00, 31.54it/s]"
     ]
    },
    {
     "name": "stdout",
     "output_type": "stream",
     "text": [
      "Warning: Not enough data points after curating for INTC on 2024-08-20. Skipping stock.\n",
      "Warning: Not enough data points after curating for GBDC on 2024-08-20. Skipping stock.\n"
     ]
    },
    {
     "name": "stderr",
     "output_type": "stream",
     "text": [
      "Curating 2024-08-20:  61%|██████    | 11/18 [00:00<00:00, 32.39it/s]"
     ]
    },
    {
     "name": "stdout",
     "output_type": "stream",
     "text": [
      "Warning: Not enough data points after curating for CSX on 2024-08-20. Skipping stock.\n",
      "Warning: Not enough data points after curating for LCID on 2024-08-20. Skipping stock.\n",
      "Warning: Not enough data points after curating for PSNY on 2024-08-20. Skipping stock.\n",
      "Warning: Not enough data points after curating for KHC on 2024-08-20. Skipping stock.\n",
      "Warning: Not enough data points after curating for GEO on 2024-08-20. Skipping stock.\n"
     ]
    },
    {
     "name": "stderr",
     "output_type": "stream",
     "text": [
      "Curating 2024-08-20: 100%|██████████| 18/18 [00:00<00:00, 21.90it/s]\n"
     ]
    },
    {
     "name": "stdout",
     "output_type": "stream",
     "text": [
      "Warning: Not enough data points after curating for CXW on 2024-08-20. Skipping stock.\n",
      "Warning: Not enough data points after curating for VLY on 2024-08-20. Skipping stock.\n",
      "Warning: Not enough data points after curating for GCMG on 2024-08-20. Skipping stock.\n",
      "Warning: Not enough data points after curating for AVDX on 2024-08-20. Skipping stock.\n",
      "Warning: Not enough data points after curating for AMRX on 2024-08-20. Skipping stock.\n",
      "Successfully curated data for 1 stocks.\n",
      "\n",
      "--- Processing Time Scale: 1m ---\n",
      "Resampling to 1m and calculating log returns...\n"
     ]
    },
    {
     "name": "stderr",
     "output_type": "stream",
     "text": [
      "Resampling 1m: 100%|██████████| 1/1 [00:00<00:00, 263.66it/s]\n",
      "/tmp/ipykernel_23556/2642790735.py:89: DeprecationWarning: Use of `how='outer'` should be replaced with `how='full'`.\n",
      "  aligned_df_pl = aligned_df_pl.join(df_to_join, on=\"ts_event\", how=\"outer\", coalesce=True)\n"
     ]
    },
    {
     "name": "stdout",
     "output_type": "stream",
     "text": [
      "Aligning data across stocks...\n",
      "Not enough data (396 rows, 1 stocks) remaining after alignment and NaN handling for 1m. Skipping correlation.\n",
      "\n",
      "--- Processing Time Scale: 10ms ---\n",
      "Resampling to 10ms and calculating log returns...\n"
     ]
    },
    {
     "name": "stderr",
     "output_type": "stream",
     "text": [
      "Resampling 10ms: 100%|██████████| 1/1 [00:00<00:00, 25.97it/s]\n",
      "/tmp/ipykernel_23556/2642790735.py:89: DeprecationWarning: Use of `how='outer'` should be replaced with `how='full'`.\n",
      "  aligned_df_pl = aligned_df_pl.join(df_to_join, on=\"ts_event\", how=\"outer\", coalesce=True)\n"
     ]
    },
    {
     "name": "stdout",
     "output_type": "stream",
     "text": [
      "Aligning data across stocks...\n",
      "Not enough data (155599 rows, 1 stocks) remaining after alignment and NaN handling for 10ms. Skipping correlation.\n",
      "\n",
      "==================== Processing Date: 2024-08-21 ====================\n",
      "Loading and curating data for 18 stocks on 2024-08-21...\n"
     ]
    },
    {
     "name": "stderr",
     "output_type": "stream",
     "text": [
      "Curating 2024-08-21:   0%|          | 0/18 [00:00<?, ?it/s]"
     ]
    },
    {
     "name": "stdout",
     "output_type": "stream",
     "text": [
      "Warning: Not enough data points after curating for WBD on 2024-08-21. Skipping stock.\n",
      "Warning: Not enough data points after curating for AAL on 2024-08-21. Skipping stock.\n",
      "Warning: Not enough data points after curating for GT on 2024-08-21. Skipping stock.\n"
     ]
    },
    {
     "name": "stderr",
     "output_type": "stream",
     "text": [
      "Curating 2024-08-21:  22%|██▏       | 4/18 [00:00<00:00, 31.89it/s]"
     ]
    },
    {
     "name": "stdout",
     "output_type": "stream",
     "text": [
      "Warning: Not enough data points after curating for LBTYB on 2024-08-21. Skipping stock.\n",
      "Warning: Not enough data points after curating for MLCO on 2024-08-21. Skipping stock.\n",
      "Warning: Not enough data points after curating for INTC on 2024-08-21. Skipping stock.\n",
      "Warning: Not enough data points after curating for GBDC on 2024-08-21. Skipping stock.\n"
     ]
    },
    {
     "name": "stderr",
     "output_type": "stream",
     "text": [
      "Curating 2024-08-21:  44%|████▍     | 8/18 [00:00<00:00, 28.69it/s]"
     ]
    },
    {
     "name": "stdout",
     "output_type": "stream",
     "text": [
      "Warning: Not enough data points after curating for CSX on 2024-08-21. Skipping stock.\n",
      "Warning: Not enough data points after curating for LCID on 2024-08-21. Skipping stock.\n"
     ]
    },
    {
     "name": "stderr",
     "output_type": "stream",
     "text": [
      "Curating 2024-08-21:  67%|██████▋   | 12/18 [00:00<00:00, 30.88it/s]"
     ]
    },
    {
     "name": "stdout",
     "output_type": "stream",
     "text": [
      "Warning: Not enough data points after curating for PSNY on 2024-08-21. Skipping stock.\n",
      "Warning: Not enough data points after curating for KHC on 2024-08-21. Skipping stock.\n",
      "Warning: Not enough data points after curating for GEO on 2024-08-21. Skipping stock.\n",
      "Error loading or curating GOOGL on 2024-08-21: parquet: File out of specification: The file must end with PAR1\n",
      "Warning: Not enough data points after curating for CXW on 2024-08-21. Skipping stock.\n",
      "Warning: Not enough data points after curating for VLY on 2024-08-21. Skipping stock.\n"
     ]
    },
    {
     "name": "stderr",
     "output_type": "stream",
     "text": [
      "Curating 2024-08-21:  94%|█████████▍| 17/18 [00:00<00:00, 35.72it/s]"
     ]
    },
    {
     "name": "stdout",
     "output_type": "stream",
     "text": [
      "Warning: Not enough data points after curating for GCMG on 2024-08-21. Skipping stock.\n",
      "Warning: Not enough data points after curating for AVDX on 2024-08-21. Skipping stock.\n"
     ]
    },
    {
     "name": "stderr",
     "output_type": "stream",
     "text": [
      "Curating 2024-08-21: 100%|██████████| 18/18 [00:00<00:00, 33.81it/s]\n"
     ]
    },
    {
     "name": "stdout",
     "output_type": "stream",
     "text": [
      "Warning: Not enough data points after curating for AMRX on 2024-08-21. Skipping stock.\n",
      "No valid data loaded for any stock on 2024-08-21. Skipping date.\n",
      "\n",
      "==================== Processing Date: 2024-08-22 ====================\n",
      "Loading and curating data for 18 stocks on 2024-08-22...\n"
     ]
    },
    {
     "name": "stderr",
     "output_type": "stream",
     "text": [
      "Curating 2024-08-22:   0%|          | 0/18 [00:00<?, ?it/s]"
     ]
    },
    {
     "name": "stdout",
     "output_type": "stream",
     "text": [
      "Warning: Not enough data points after curating for WBD on 2024-08-22. Skipping stock.\n",
      "Warning: Not enough data points after curating for AAL on 2024-08-22. Skipping stock.\n"
     ]
    },
    {
     "name": "stderr",
     "output_type": "stream",
     "text": [
      "Curating 2024-08-22:  17%|█▋        | 3/18 [00:00<00:00, 25.48it/s]"
     ]
    },
    {
     "name": "stdout",
     "output_type": "stream",
     "text": [
      "Warning: Not enough data points after curating for GT on 2024-08-22. Skipping stock.\n",
      "Warning: Not enough data points after curating for LBTYB on 2024-08-22. Skipping stock.\n",
      "Warning: Not enough data points after curating for MLCO on 2024-08-22. Skipping stock.\n"
     ]
    },
    {
     "name": "stderr",
     "output_type": "stream",
     "text": [
      "Curating 2024-08-22:  33%|███▎      | 6/18 [00:00<00:00, 23.57it/s]"
     ]
    },
    {
     "name": "stdout",
     "output_type": "stream",
     "text": [
      "Warning: Not enough data points after curating for INTC on 2024-08-22. Skipping stock.\n",
      "Warning: Not enough data points after curating for GBDC on 2024-08-22. Skipping stock.\n",
      "Warning: Not enough data points after curating for CSX on 2024-08-22. Skipping stock.\n"
     ]
    },
    {
     "name": "stderr",
     "output_type": "stream",
     "text": [
      "Curating 2024-08-22:  50%|█████     | 9/18 [00:00<00:00, 25.16it/s]"
     ]
    },
    {
     "name": "stdout",
     "output_type": "stream",
     "text": [
      "Warning: Not enough data points after curating for LCID on 2024-08-22. Skipping stock.\n",
      "Warning: Not enough data points after curating for PSNY on 2024-08-22. Skipping stock.\n",
      "Warning: Not enough data points after curating for KHC on 2024-08-22. Skipping stock.\n",
      "Warning: Not enough data points after curating for GEO on 2024-08-22. Skipping stock.\n"
     ]
    },
    {
     "name": "stderr",
     "output_type": "stream",
     "text": [
      "Curating 2024-08-22: 100%|██████████| 18/18 [00:01<00:00, 15.70it/s]\n"
     ]
    },
    {
     "name": "stdout",
     "output_type": "stream",
     "text": [
      "Warning: Not enough data points after curating for CXW on 2024-08-22. Skipping stock.\n",
      "Warning: Not enough data points after curating for VLY on 2024-08-22. Skipping stock.\n",
      "Warning: Not enough data points after curating for GCMG on 2024-08-22. Skipping stock.\n",
      "Warning: Not enough data points after curating for AVDX on 2024-08-22. Skipping stock.\n",
      "Warning: Not enough data points after curating for AMRX on 2024-08-22. Skipping stock.\n",
      "Successfully curated data for 1 stocks.\n",
      "\n",
      "--- Processing Time Scale: 1m ---\n",
      "Resampling to 1m and calculating log returns...\n"
     ]
    },
    {
     "name": "stderr",
     "output_type": "stream",
     "text": [
      "Resampling 1m: 100%|██████████| 1/1 [00:00<00:00, 206.50it/s]\n",
      "/tmp/ipykernel_23556/2642790735.py:89: DeprecationWarning: Use of `how='outer'` should be replaced with `how='full'`.\n",
      "  aligned_df_pl = aligned_df_pl.join(df_to_join, on=\"ts_event\", how=\"outer\", coalesce=True)\n"
     ]
    },
    {
     "name": "stdout",
     "output_type": "stream",
     "text": [
      "Aligning data across stocks...\n",
      "Not enough data (386 rows, 1 stocks) remaining after alignment and NaN handling for 1m. Skipping correlation.\n",
      "\n",
      "--- Processing Time Scale: 10ms ---\n",
      "Resampling to 10ms and calculating log returns...\n"
     ]
    },
    {
     "name": "stderr",
     "output_type": "stream",
     "text": [
      "Resampling 10ms: 100%|██████████| 1/1 [00:00<00:00, 13.67it/s]\n",
      "/tmp/ipykernel_23556/2642790735.py:89: DeprecationWarning: Use of `how='outer'` should be replaced with `how='full'`.\n",
      "  aligned_df_pl = aligned_df_pl.join(df_to_join, on=\"ts_event\", how=\"outer\", coalesce=True)\n"
     ]
    },
    {
     "name": "stdout",
     "output_type": "stream",
     "text": [
      "Aligning data across stocks...\n",
      "Not enough data (291519 rows, 1 stocks) remaining after alignment and NaN handling for 10ms. Skipping correlation.\n",
      "\n",
      "==================== Processing Date: 2024-08-23 ====================\n",
      "Loading and curating data for 18 stocks on 2024-08-23...\n"
     ]
    },
    {
     "name": "stderr",
     "output_type": "stream",
     "text": [
      "Curating 2024-08-23:   0%|          | 0/18 [00:00<?, ?it/s]"
     ]
    },
    {
     "name": "stdout",
     "output_type": "stream",
     "text": [
      "Warning: Not enough data points after curating for WBD on 2024-08-23. Skipping stock.\n",
      "Warning: Not enough data points after curating for AAL on 2024-08-23. Skipping stock.\n"
     ]
    },
    {
     "name": "stderr",
     "output_type": "stream",
     "text": [
      "Curating 2024-08-23:  17%|█▋        | 3/18 [00:00<00:00, 29.72it/s]"
     ]
    },
    {
     "name": "stdout",
     "output_type": "stream",
     "text": [
      "Warning: Not enough data points after curating for GT on 2024-08-23. Skipping stock.\n",
      "Warning: Not enough data points after curating for LBTYB on 2024-08-23. Skipping stock.\n",
      "Warning: Not enough data points after curating for MLCO on 2024-08-23. Skipping stock.\n"
     ]
    },
    {
     "name": "stderr",
     "output_type": "stream",
     "text": [
      "Curating 2024-08-23:  33%|███▎      | 6/18 [00:00<00:00, 26.78it/s]"
     ]
    },
    {
     "name": "stdout",
     "output_type": "stream",
     "text": [
      "Warning: Not enough data points after curating for INTC on 2024-08-23. Skipping stock.\n",
      "Warning: Not enough data points after curating for GBDC on 2024-08-23. Skipping stock.\n"
     ]
    },
    {
     "name": "stderr",
     "output_type": "stream",
     "text": [
      "Curating 2024-08-23:  50%|█████     | 9/18 [00:00<00:00, 26.39it/s]"
     ]
    },
    {
     "name": "stdout",
     "output_type": "stream",
     "text": [
      "Warning: Not enough data points after curating for CSX on 2024-08-23. Skipping stock.\n",
      "Warning: Not enough data points after curating for LCID on 2024-08-23. Skipping stock.\n",
      "Warning: Not enough data points after curating for PSNY on 2024-08-23. Skipping stock.\n",
      "Warning: Not enough data points after curating for KHC on 2024-08-23. Skipping stock.\n",
      "Warning: Not enough data points after curating for GEO on 2024-08-23. Skipping stock.\n",
      "Error loading or curating GOOGL on 2024-08-23: parquet: File out of specification: The file must end with PAR1\n"
     ]
    },
    {
     "name": "stderr",
     "output_type": "stream",
     "text": [
      "Curating 2024-08-23:  78%|███████▊  | 14/18 [00:00<00:00, 32.54it/s]"
     ]
    },
    {
     "name": "stdout",
     "output_type": "stream",
     "text": [
      "Warning: Not enough data points after curating for CXW on 2024-08-23. Skipping stock.\n",
      "Warning: Not enough data points after curating for VLY on 2024-08-23. Skipping stock.\n"
     ]
    },
    {
     "name": "stderr",
     "output_type": "stream",
     "text": [
      "Curating 2024-08-23: 100%|██████████| 18/18 [00:00<00:00, 30.69it/s]\n"
     ]
    },
    {
     "name": "stdout",
     "output_type": "stream",
     "text": [
      "Warning: Not enough data points after curating for GCMG on 2024-08-23. Skipping stock.\n",
      "Warning: Not enough data points after curating for AVDX on 2024-08-23. Skipping stock.\n",
      "Warning: Not enough data points after curating for AMRX on 2024-08-23. Skipping stock.\n",
      "No valid data loaded for any stock on 2024-08-23. Skipping date.\n",
      "\n",
      "==================== Processing Date: 2024-08-26 ====================\n",
      "Loading and curating data for 18 stocks on 2024-08-26...\n"
     ]
    },
    {
     "name": "stderr",
     "output_type": "stream",
     "text": [
      "Curating 2024-08-26:   0%|          | 0/18 [00:00<?, ?it/s]"
     ]
    },
    {
     "name": "stdout",
     "output_type": "stream",
     "text": [
      "Warning: Not enough data points after curating for WBD on 2024-08-26. Skipping stock.\n"
     ]
    },
    {
     "name": "stderr",
     "output_type": "stream",
     "text": [
      "Curating 2024-08-26:  17%|█▋        | 3/18 [00:00<00:00, 28.68it/s]"
     ]
    },
    {
     "name": "stdout",
     "output_type": "stream",
     "text": [
      "Warning: Not enough data points after curating for AAL on 2024-08-26. Skipping stock.\n",
      "Warning: Not enough data points after curating for GT on 2024-08-26. Skipping stock.\n",
      "Warning: Not enough data points after curating for LBTYB on 2024-08-26. Skipping stock.\n"
     ]
    },
    {
     "name": "stderr",
     "output_type": "stream",
     "text": [
      "Curating 2024-08-26:  33%|███▎      | 6/18 [00:00<00:00, 27.52it/s]"
     ]
    },
    {
     "name": "stdout",
     "output_type": "stream",
     "text": [
      "Warning: Not enough data points after curating for MLCO on 2024-08-26. Skipping stock.\n",
      "Warning: Not enough data points after curating for INTC on 2024-08-26. Skipping stock.\n",
      "Warning: Not enough data points after curating for GBDC on 2024-08-26. Skipping stock.\n"
     ]
    },
    {
     "name": "stderr",
     "output_type": "stream",
     "text": [
      "Curating 2024-08-26:  50%|█████     | 9/18 [00:00<00:00, 28.26it/s]"
     ]
    },
    {
     "name": "stdout",
     "output_type": "stream",
     "text": [
      "Warning: Not enough data points after curating for CSX on 2024-08-26. Skipping stock.\n",
      "Warning: Not enough data points after curating for LCID on 2024-08-26. Skipping stock.\n",
      "Warning: Not enough data points after curating for PSNY on 2024-08-26. Skipping stock.\n"
     ]
    },
    {
     "name": "stderr",
     "output_type": "stream",
     "text": [
      "Curating 2024-08-26:  67%|██████▋   | 12/18 [00:00<00:00, 28.63it/s]"
     ]
    },
    {
     "name": "stdout",
     "output_type": "stream",
     "text": [
      "Warning: Not enough data points after curating for KHC on 2024-08-26. Skipping stock.\n",
      "Warning: Not enough data points after curating for GEO on 2024-08-26. Skipping stock.\n"
     ]
    },
    {
     "name": "stderr",
     "output_type": "stream",
     "text": [
      "Curating 2024-08-26: 100%|██████████| 18/18 [00:00<00:00, 19.05it/s]\n"
     ]
    },
    {
     "name": "stdout",
     "output_type": "stream",
     "text": [
      "Warning: Not enough data points after curating for CXW on 2024-08-26. Skipping stock.\n",
      "Warning: Not enough data points after curating for VLY on 2024-08-26. Skipping stock.\n",
      "Warning: Not enough data points after curating for GCMG on 2024-08-26. Skipping stock.\n",
      "Warning: Not enough data points after curating for AVDX on 2024-08-26. Skipping stock.\n",
      "Warning: Not enough data points after curating for AMRX on 2024-08-26. Skipping stock.\n",
      "Successfully curated data for 1 stocks.\n",
      "\n",
      "--- Processing Time Scale: 1m ---\n",
      "Resampling to 1m and calculating log returns...\n"
     ]
    },
    {
     "name": "stderr",
     "output_type": "stream",
     "text": [
      "Resampling 1m: 100%|██████████| 1/1 [00:00<00:00, 230.36it/s]\n",
      "/tmp/ipykernel_23556/2642790735.py:89: DeprecationWarning: Use of `how='outer'` should be replaced with `how='full'`.\n",
      "  aligned_df_pl = aligned_df_pl.join(df_to_join, on=\"ts_event\", how=\"outer\", coalesce=True)\n"
     ]
    },
    {
     "name": "stdout",
     "output_type": "stream",
     "text": [
      "Aligning data across stocks...\n",
      "Not enough data (360 rows, 1 stocks) remaining after alignment and NaN handling for 1m. Skipping correlation.\n",
      "\n",
      "--- Processing Time Scale: 10ms ---\n",
      "Resampling to 10ms and calculating log returns...\n"
     ]
    },
    {
     "name": "stderr",
     "output_type": "stream",
     "text": [
      "Resampling 10ms: 100%|██████████| 1/1 [00:00<00:00, 28.49it/s]"
     ]
    },
    {
     "name": "stdout",
     "output_type": "stream",
     "text": [
      "Aligning data across stocks...\n"
     ]
    },
    {
     "name": "stderr",
     "output_type": "stream",
     "text": [
      "\n",
      "/tmp/ipykernel_23556/2642790735.py:89: DeprecationWarning: Use of `how='outer'` should be replaced with `how='full'`.\n",
      "  aligned_df_pl = aligned_df_pl.join(df_to_join, on=\"ts_event\", how=\"outer\", coalesce=True)\n"
     ]
    },
    {
     "name": "stdout",
     "output_type": "stream",
     "text": [
      "Not enough data (201415 rows, 1 stocks) remaining after alignment and NaN handling for 10ms. Skipping correlation.\n",
      "\n",
      "==================== Processing Date: 2024-08-27 ====================\n",
      "Loading and curating data for 18 stocks on 2024-08-27...\n"
     ]
    },
    {
     "name": "stderr",
     "output_type": "stream",
     "text": [
      "Curating 2024-08-27:  22%|██▏       | 4/18 [00:00<00:00, 33.49it/s]"
     ]
    },
    {
     "name": "stdout",
     "output_type": "stream",
     "text": [
      "Warning: Not enough data points after curating for WBD on 2024-08-27. Skipping stock.\n",
      "Warning: Not enough data points after curating for AAL on 2024-08-27. Skipping stock.\n",
      "Warning: Not enough data points after curating for GT on 2024-08-27. Skipping stock.\n",
      "Warning: Not enough data points after curating for LBTYB on 2024-08-27. Skipping stock.\n",
      "Warning: Not enough data points after curating for MLCO on 2024-08-27. Skipping stock.\n",
      "Warning: Not enough data points after curating for INTC on 2024-08-27. Skipping stock.\n",
      "Warning: Not enough data points after curating for GBDC on 2024-08-27. Skipping stock.\n"
     ]
    },
    {
     "name": "stderr",
     "output_type": "stream",
     "text": [
      "Curating 2024-08-27:  44%|████▍     | 8/18 [00:00<00:00, 30.62it/s]"
     ]
    },
    {
     "name": "stdout",
     "output_type": "stream",
     "text": [
      "Warning: Not enough data points after curating for CSX on 2024-08-27. Skipping stock.\n",
      "Warning: Not enough data points after curating for LCID on 2024-08-27. Skipping stock.\n",
      "Warning: Not enough data points after curating for PSNY on 2024-08-27. Skipping stock.\n"
     ]
    },
    {
     "name": "stderr",
     "output_type": "stream",
     "text": [
      "Curating 2024-08-27:  67%|██████▋   | 12/18 [00:00<00:00, 29.87it/s]"
     ]
    },
    {
     "name": "stdout",
     "output_type": "stream",
     "text": [
      "Warning: Not enough data points after curating for KHC on 2024-08-27. Skipping stock.\n",
      "Warning: Not enough data points after curating for GEO on 2024-08-27. Skipping stock.\n",
      "Error loading or curating GOOGL on 2024-08-27: parquet: File out of specification: The file must end with PAR1\n",
      "Warning: Not enough data points after curating for CXW on 2024-08-27. Skipping stock.\n",
      "Warning: Not enough data points after curating for VLY on 2024-08-27. Skipping stock.\n"
     ]
    },
    {
     "name": "stderr",
     "output_type": "stream",
     "text": [
      "Curating 2024-08-27: 100%|██████████| 18/18 [00:00<00:00, 33.39it/s]\n"
     ]
    },
    {
     "name": "stdout",
     "output_type": "stream",
     "text": [
      "Warning: Not enough data points after curating for GCMG on 2024-08-27. Skipping stock.\n",
      "Warning: Not enough data points after curating for AVDX on 2024-08-27. Skipping stock.\n",
      "Warning: Not enough data points after curating for AMRX on 2024-08-27. Skipping stock.\n",
      "No valid data loaded for any stock on 2024-08-27. Skipping date.\n",
      "\n",
      "==================== Processing Date: 2024-08-28 ====================\n",
      "Loading and curating data for 18 stocks on 2024-08-28...\n"
     ]
    },
    {
     "name": "stderr",
     "output_type": "stream",
     "text": [
      "Curating 2024-08-28:   0%|          | 0/18 [00:00<?, ?it/s]"
     ]
    },
    {
     "name": "stdout",
     "output_type": "stream",
     "text": [
      "Warning: Not enough data points after curating for WBD on 2024-08-28. Skipping stock.\n",
      "Warning: Not enough data points after curating for AAL on 2024-08-28. Skipping stock.\n"
     ]
    },
    {
     "name": "stderr",
     "output_type": "stream",
     "text": [
      "Curating 2024-08-28:  22%|██▏       | 4/18 [00:00<00:00, 30.93it/s]"
     ]
    },
    {
     "name": "stdout",
     "output_type": "stream",
     "text": [
      "Warning: Not enough data points after curating for GT on 2024-08-28. Skipping stock.\n",
      "Warning: Not enough data points after curating for LBTYB on 2024-08-28. Skipping stock.\n",
      "Warning: Not enough data points after curating for MLCO on 2024-08-28. Skipping stock.\n",
      "Warning: Not enough data points after curating for INTC on 2024-08-28. Skipping stock.\n",
      "Warning: Not enough data points after curating for GBDC on 2024-08-28. Skipping stock.\n"
     ]
    },
    {
     "name": "stderr",
     "output_type": "stream",
     "text": [
      "Curating 2024-08-28:  44%|████▍     | 8/18 [00:00<00:00, 25.21it/s]"
     ]
    },
    {
     "name": "stdout",
     "output_type": "stream",
     "text": [
      "Warning: Not enough data points after curating for CSX on 2024-08-28. Skipping stock.\n",
      "Warning: Not enough data points after curating for LCID on 2024-08-28. Skipping stock.\n"
     ]
    },
    {
     "name": "stderr",
     "output_type": "stream",
     "text": [
      "Curating 2024-08-28:  67%|██████▋   | 12/18 [00:00<00:00, 27.78it/s]"
     ]
    },
    {
     "name": "stdout",
     "output_type": "stream",
     "text": [
      "Warning: Not enough data points after curating for PSNY on 2024-08-28. Skipping stock.\n",
      "Warning: Not enough data points after curating for KHC on 2024-08-28. Skipping stock.\n",
      "Warning: Not enough data points after curating for GEO on 2024-08-28. Skipping stock.\n"
     ]
    },
    {
     "name": "stderr",
     "output_type": "stream",
     "text": [
      "Curating 2024-08-28: 100%|██████████| 18/18 [00:00<00:00, 18.53it/s]\n"
     ]
    },
    {
     "name": "stdout",
     "output_type": "stream",
     "text": [
      "Warning: Not enough data points after curating for CXW on 2024-08-28. Skipping stock.\n",
      "Warning: Not enough data points after curating for VLY on 2024-08-28. Skipping stock.\n",
      "Warning: Not enough data points after curating for GCMG on 2024-08-28. Skipping stock.\n",
      "Warning: Not enough data points after curating for AVDX on 2024-08-28. Skipping stock.\n",
      "Warning: Not enough data points after curating for AMRX on 2024-08-28. Skipping stock.\n",
      "Successfully curated data for 1 stocks.\n",
      "\n",
      "--- Processing Time Scale: 1m ---\n",
      "Resampling to 1m and calculating log returns...\n"
     ]
    },
    {
     "name": "stderr",
     "output_type": "stream",
     "text": [
      "Resampling 1m: 100%|██████████| 1/1 [00:00<00:00, 311.96it/s]\n",
      "/tmp/ipykernel_23556/2642790735.py:89: DeprecationWarning: Use of `how='outer'` should be replaced with `how='full'`.\n",
      "  aligned_df_pl = aligned_df_pl.join(df_to_join, on=\"ts_event\", how=\"outer\", coalesce=True)\n"
     ]
    },
    {
     "name": "stdout",
     "output_type": "stream",
     "text": [
      "Aligning data across stocks...\n",
      "Not enough data (416 rows, 1 stocks) remaining after alignment and NaN handling for 1m. Skipping correlation.\n",
      "\n",
      "--- Processing Time Scale: 10ms ---\n",
      "Resampling to 10ms and calculating log returns...\n"
     ]
    },
    {
     "name": "stderr",
     "output_type": "stream",
     "text": [
      "Resampling 10ms: 100%|██████████| 1/1 [00:00<00:00, 24.17it/s]"
     ]
    },
    {
     "name": "stdout",
     "output_type": "stream",
     "text": [
      "Aligning data across stocks...\n"
     ]
    },
    {
     "name": "stderr",
     "output_type": "stream",
     "text": [
      "\n",
      "/tmp/ipykernel_23556/2642790735.py:89: DeprecationWarning: Use of `how='outer'` should be replaced with `how='full'`.\n",
      "  aligned_df_pl = aligned_df_pl.join(df_to_join, on=\"ts_event\", how=\"outer\", coalesce=True)\n"
     ]
    },
    {
     "name": "stdout",
     "output_type": "stream",
     "text": [
      "Not enough data (223082 rows, 1 stocks) remaining after alignment and NaN handling for 10ms. Skipping correlation.\n",
      "\n",
      "==================== Processing Date: 2024-08-29 ====================\n",
      "Loading and curating data for 18 stocks on 2024-08-29...\n"
     ]
    },
    {
     "name": "stderr",
     "output_type": "stream",
     "text": [
      "Curating 2024-08-29:   0%|          | 0/18 [00:00<?, ?it/s]"
     ]
    },
    {
     "name": "stdout",
     "output_type": "stream",
     "text": [
      "Warning: Not enough data points after curating for WBD on 2024-08-29. Skipping stock.\n",
      "Warning: Not enough data points after curating for AAL on 2024-08-29. Skipping stock.\n"
     ]
    },
    {
     "name": "stderr",
     "output_type": "stream",
     "text": [
      "Curating 2024-08-29:  17%|█▋        | 3/18 [00:00<00:00, 23.18it/s]"
     ]
    },
    {
     "name": "stdout",
     "output_type": "stream",
     "text": [
      "Warning: Not enough data points after curating for GT on 2024-08-29. Skipping stock.\n",
      "Warning: Not enough data points after curating for LBTYB on 2024-08-29. Skipping stock.\n",
      "Warning: Not enough data points after curating for MLCO on 2024-08-29. Skipping stock.\n"
     ]
    },
    {
     "name": "stderr",
     "output_type": "stream",
     "text": [
      "Curating 2024-08-29:  33%|███▎      | 6/18 [00:00<00:00, 23.89it/s]"
     ]
    },
    {
     "name": "stdout",
     "output_type": "stream",
     "text": [
      "Warning: Not enough data points after curating for INTC on 2024-08-29. Skipping stock.\n",
      "Warning: Not enough data points after curating for GBDC on 2024-08-29. Skipping stock.\n",
      "Warning: Not enough data points after curating for CSX on 2024-08-29. Skipping stock.\n"
     ]
    },
    {
     "name": "stderr",
     "output_type": "stream",
     "text": [
      "Curating 2024-08-29:  56%|█████▌    | 10/18 [00:00<00:00, 27.40it/s]"
     ]
    },
    {
     "name": "stdout",
     "output_type": "stream",
     "text": [
      "Warning: Not enough data points after curating for LCID on 2024-08-29. Skipping stock.\n",
      "Warning: Not enough data points after curating for PSNY on 2024-08-29. Skipping stock.\n",
      "Warning: Not enough data points after curating for KHC on 2024-08-29. Skipping stock.\n"
     ]
    },
    {
     "name": "stderr",
     "output_type": "stream",
     "text": [
      "Curating 2024-08-29:  78%|███████▊  | 14/18 [00:00<00:00, 31.59it/s]"
     ]
    },
    {
     "name": "stdout",
     "output_type": "stream",
     "text": [
      "Warning: Not enough data points after curating for GEO on 2024-08-29. Skipping stock.\n",
      "Error loading or curating GOOGL on 2024-08-29: parquet: File out of specification: The file must end with PAR1\n",
      "Warning: Not enough data points after curating for CXW on 2024-08-29. Skipping stock.\n",
      "Warning: Not enough data points after curating for VLY on 2024-08-29. Skipping stock.\n",
      "Warning: Not enough data points after curating for GCMG on 2024-08-29. Skipping stock.\n"
     ]
    },
    {
     "name": "stderr",
     "output_type": "stream",
     "text": [
      "Curating 2024-08-29: 100%|██████████| 18/18 [00:00<00:00, 30.51it/s]\n"
     ]
    },
    {
     "name": "stdout",
     "output_type": "stream",
     "text": [
      "Warning: Not enough data points after curating for AVDX on 2024-08-29. Skipping stock.\n",
      "Warning: Not enough data points after curating for AMRX on 2024-08-29. Skipping stock.\n",
      "No valid data loaded for any stock on 2024-08-29. Skipping date.\n",
      "\n",
      "==================== Processing Date: 2024-08-30 ====================\n",
      "Loading and curating data for 18 stocks on 2024-08-30...\n"
     ]
    },
    {
     "name": "stderr",
     "output_type": "stream",
     "text": [
      "Curating 2024-08-30:   0%|          | 0/18 [00:00<?, ?it/s]"
     ]
    },
    {
     "name": "stdout",
     "output_type": "stream",
     "text": [
      "Warning: Not enough data points after curating for WBD on 2024-08-30. Skipping stock.\n"
     ]
    },
    {
     "name": "stderr",
     "output_type": "stream",
     "text": [
      "Curating 2024-08-30:  17%|█▋        | 3/18 [00:00<00:00, 29.47it/s]"
     ]
    },
    {
     "name": "stdout",
     "output_type": "stream",
     "text": [
      "Warning: Not enough data points after curating for AAL on 2024-08-30. Skipping stock.\n",
      "Warning: Not enough data points after curating for GT on 2024-08-30. Skipping stock.\n",
      "Warning: Not enough data points after curating for LBTYB on 2024-08-30. Skipping stock.\n",
      "Warning: Not enough data points after curating for MLCO on 2024-08-30. Skipping stock.\n"
     ]
    },
    {
     "name": "stderr",
     "output_type": "stream",
     "text": [
      "Curating 2024-08-30:  33%|███▎      | 6/18 [00:00<00:00, 23.48it/s]"
     ]
    },
    {
     "name": "stdout",
     "output_type": "stream",
     "text": [
      "Warning: Not enough data points after curating for INTC on 2024-08-30. Skipping stock.\n"
     ]
    },
    {
     "name": "stderr",
     "output_type": "stream",
     "text": [
      "Curating 2024-08-30:  50%|█████     | 9/18 [00:00<00:00, 24.61it/s]"
     ]
    },
    {
     "name": "stdout",
     "output_type": "stream",
     "text": [
      "Warning: Not enough data points after curating for GBDC on 2024-08-30. Skipping stock.\n",
      "Warning: Not enough data points after curating for CSX on 2024-08-30. Skipping stock.\n",
      "Warning: Not enough data points after curating for LCID on 2024-08-30. Skipping stock.\n",
      "Warning: Not enough data points after curating for PSNY on 2024-08-30. Skipping stock.\n",
      "Warning: Not enough data points after curating for KHC on 2024-08-30. Skipping stock.\n",
      "Warning: Not enough data points after curating for GEO on 2024-08-30. Skipping stock.\n"
     ]
    },
    {
     "name": "stderr",
     "output_type": "stream",
     "text": [
      "Curating 2024-08-30: 100%|██████████| 18/18 [00:00<00:00, 19.02it/s]\n"
     ]
    },
    {
     "name": "stdout",
     "output_type": "stream",
     "text": [
      "Warning: Not enough data points after curating for CXW on 2024-08-30. Skipping stock.\n",
      "Warning: Not enough data points after curating for VLY on 2024-08-30. Skipping stock.\n",
      "Warning: Not enough data points after curating for GCMG on 2024-08-30. Skipping stock.\n",
      "Warning: Not enough data points after curating for AVDX on 2024-08-30. Skipping stock.\n",
      "Warning: Not enough data points after curating for AMRX on 2024-08-30. Skipping stock.\n",
      "Successfully curated data for 1 stocks.\n",
      "\n",
      "--- Processing Time Scale: 1m ---\n",
      "Resampling to 1m and calculating log returns...\n"
     ]
    },
    {
     "name": "stderr",
     "output_type": "stream",
     "text": [
      "Resampling 1m: 100%|██████████| 1/1 [00:00<00:00, 422.98it/s]\n",
      "/tmp/ipykernel_23556/2642790735.py:89: DeprecationWarning: Use of `how='outer'` should be replaced with `how='full'`.\n",
      "  aligned_df_pl = aligned_df_pl.join(df_to_join, on=\"ts_event\", how=\"outer\", coalesce=True)\n"
     ]
    },
    {
     "name": "stdout",
     "output_type": "stream",
     "text": [
      "Aligning data across stocks...\n",
      "Not enough data (375 rows, 1 stocks) remaining after alignment and NaN handling for 1m. Skipping correlation.\n",
      "\n",
      "--- Processing Time Scale: 10ms ---\n",
      "Resampling to 10ms and calculating log returns...\n"
     ]
    },
    {
     "name": "stderr",
     "output_type": "stream",
     "text": [
      "Resampling 10ms: 100%|██████████| 1/1 [00:00<00:00, 24.69it/s]\n",
      "/tmp/ipykernel_23556/2642790735.py:89: DeprecationWarning: Use of `how='outer'` should be replaced with `how='full'`.\n",
      "  aligned_df_pl = aligned_df_pl.join(df_to_join, on=\"ts_event\", how=\"outer\", coalesce=True)\n"
     ]
    },
    {
     "name": "stdout",
     "output_type": "stream",
     "text": [
      "Aligning data across stocks...\n",
      "Not enough data (174125 rows, 1 stocks) remaining after alignment and NaN handling for 10ms. Skipping correlation.\n",
      "\n",
      "==================== Processing Date: 2024-09-03 ====================\n",
      "Loading and curating data for 18 stocks on 2024-09-03...\n"
     ]
    },
    {
     "name": "stderr",
     "output_type": "stream",
     "text": [
      "Curating 2024-09-03:  17%|█▋        | 3/18 [00:00<00:00, 28.77it/s]"
     ]
    },
    {
     "name": "stdout",
     "output_type": "stream",
     "text": [
      "Warning: Not enough data points after curating for WBD on 2024-09-03. Skipping stock.\n",
      "Warning: Not enough data points after curating for AAL on 2024-09-03. Skipping stock.\n",
      "Warning: Not enough data points after curating for GT on 2024-09-03. Skipping stock.\n",
      "Warning: Not enough data points after curating for LBTYB on 2024-09-03. Skipping stock.\n",
      "Warning: Not enough data points after curating for MLCO on 2024-09-03. Skipping stock.\n"
     ]
    },
    {
     "name": "stderr",
     "output_type": "stream",
     "text": [
      "Curating 2024-09-03:  33%|███▎      | 6/18 [00:00<00:00, 25.66it/s]"
     ]
    },
    {
     "name": "stdout",
     "output_type": "stream",
     "text": [
      "Warning: Not enough data points after curating for INTC on 2024-09-03. Skipping stock.\n",
      "Warning: Not enough data points after curating for GBDC on 2024-09-03. Skipping stock.\n",
      "Warning: Not enough data points after curating for CSX on 2024-09-03. Skipping stock.\n"
     ]
    },
    {
     "name": "stderr",
     "output_type": "stream",
     "text": [
      "Curating 2024-09-03:  50%|█████     | 9/18 [00:00<00:00, 26.06it/s]"
     ]
    },
    {
     "name": "stdout",
     "output_type": "stream",
     "text": [
      "Warning: Not enough data points after curating for LCID on 2024-09-03. Skipping stock.\n",
      "Warning: Not enough data points after curating for PSNY on 2024-09-03. Skipping stock.\n",
      "Warning: Not enough data points after curating for KHC on 2024-09-03. Skipping stock.\n"
     ]
    },
    {
     "name": "stderr",
     "output_type": "stream",
     "text": [
      "Curating 2024-09-03:  67%|██████▋   | 12/18 [00:00<00:00, 27.19it/s]"
     ]
    },
    {
     "name": "stdout",
     "output_type": "stream",
     "text": [
      "Warning: Not enough data points after curating for GEO on 2024-09-03. Skipping stock.\n"
     ]
    },
    {
     "name": "stderr",
     "output_type": "stream",
     "text": [
      "Curating 2024-09-03: 100%|██████████| 18/18 [00:01<00:00, 16.96it/s]\n"
     ]
    },
    {
     "name": "stdout",
     "output_type": "stream",
     "text": [
      "Warning: Not enough data points after curating for CXW on 2024-09-03. Skipping stock.\n",
      "Warning: Not enough data points after curating for VLY on 2024-09-03. Skipping stock.\n",
      "Warning: Not enough data points after curating for GCMG on 2024-09-03. Skipping stock.\n",
      "Warning: Not enough data points after curating for AVDX on 2024-09-03. Skipping stock.\n",
      "Warning: Not enough data points after curating for AMRX on 2024-09-03. Skipping stock.\n",
      "Successfully curated data for 1 stocks.\n",
      "\n",
      "--- Processing Time Scale: 1m ---\n",
      "Resampling to 1m and calculating log returns...\n"
     ]
    },
    {
     "name": "stderr",
     "output_type": "stream",
     "text": [
      "Resampling 1m: 100%|██████████| 1/1 [00:00<00:00, 368.37it/s]\n",
      "/tmp/ipykernel_23556/2642790735.py:89: DeprecationWarning: Use of `how='outer'` should be replaced with `how='full'`.\n",
      "  aligned_df_pl = aligned_df_pl.join(df_to_join, on=\"ts_event\", how=\"outer\", coalesce=True)\n"
     ]
    },
    {
     "name": "stdout",
     "output_type": "stream",
     "text": [
      "Aligning data across stocks...\n",
      "Not enough data (411 rows, 1 stocks) remaining after alignment and NaN handling for 1m. Skipping correlation.\n",
      "\n",
      "--- Processing Time Scale: 10ms ---\n",
      "Resampling to 10ms and calculating log returns...\n"
     ]
    },
    {
     "name": "stderr",
     "output_type": "stream",
     "text": [
      "Resampling 10ms: 100%|██████████| 1/1 [00:00<00:00, 24.96it/s]"
     ]
    },
    {
     "name": "stdout",
     "output_type": "stream",
     "text": [
      "Aligning data across stocks...\n"
     ]
    },
    {
     "name": "stderr",
     "output_type": "stream",
     "text": [
      "\n",
      "/tmp/ipykernel_23556/2642790735.py:89: DeprecationWarning: Use of `how='outer'` should be replaced with `how='full'`.\n",
      "  aligned_df_pl = aligned_df_pl.join(df_to_join, on=\"ts_event\", how=\"outer\", coalesce=True)\n"
     ]
    },
    {
     "name": "stdout",
     "output_type": "stream",
     "text": [
      "Not enough data (230520 rows, 1 stocks) remaining after alignment and NaN handling for 10ms. Skipping correlation.\n",
      "\n",
      "==================== Processing Date: 2024-09-04 ====================\n",
      "Loading and curating data for 18 stocks on 2024-09-04...\n"
     ]
    },
    {
     "name": "stderr",
     "output_type": "stream",
     "text": [
      "Curating 2024-09-04:  17%|█▋        | 3/18 [00:00<00:00, 28.62it/s]"
     ]
    },
    {
     "name": "stdout",
     "output_type": "stream",
     "text": [
      "Warning: Not enough data points after curating for WBD on 2024-09-04. Skipping stock.\n",
      "Warning: Not enough data points after curating for AAL on 2024-09-04. Skipping stock.\n",
      "Warning: Not enough data points after curating for GT on 2024-09-04. Skipping stock.\n",
      "Warning: Not enough data points after curating for LBTYB on 2024-09-04. Skipping stock.\n",
      "Warning: Not enough data points after curating for MLCO on 2024-09-04. Skipping stock.\n"
     ]
    },
    {
     "name": "stderr",
     "output_type": "stream",
     "text": [
      "Curating 2024-09-04:  33%|███▎      | 6/18 [00:00<00:00, 24.42it/s]"
     ]
    },
    {
     "name": "stdout",
     "output_type": "stream",
     "text": [
      "Warning: Not enough data points after curating for INTC on 2024-09-04. Skipping stock.\n",
      "Warning: Not enough data points after curating for GBDC on 2024-09-04. Skipping stock.\n",
      "Warning: Not enough data points after curating for CSX on 2024-09-04. Skipping stock.\n"
     ]
    },
    {
     "name": "stderr",
     "output_type": "stream",
     "text": [
      "Curating 2024-09-04:  50%|█████     | 9/18 [00:00<00:00, 26.02it/s]"
     ]
    },
    {
     "name": "stdout",
     "output_type": "stream",
     "text": [
      "Warning: Not enough data points after curating for LCID on 2024-09-04. Skipping stock.\n",
      "Warning: Not enough data points after curating for PSNY on 2024-09-04. Skipping stock.\n",
      "Warning: Not enough data points after curating for KHC on 2024-09-04. Skipping stock.\n"
     ]
    },
    {
     "name": "stderr",
     "output_type": "stream",
     "text": [
      "Curating 2024-09-04:  67%|██████▋   | 12/18 [00:00<00:00, 27.24it/s]"
     ]
    },
    {
     "name": "stdout",
     "output_type": "stream",
     "text": [
      "Warning: Not enough data points after curating for GEO on 2024-09-04. Skipping stock.\n"
     ]
    },
    {
     "name": "stderr",
     "output_type": "stream",
     "text": [
      "Curating 2024-09-04: 100%|██████████| 18/18 [00:00<00:00, 18.13it/s]\n"
     ]
    },
    {
     "name": "stdout",
     "output_type": "stream",
     "text": [
      "Warning: Not enough data points after curating for CXW on 2024-09-04. Skipping stock.\n",
      "Warning: Not enough data points after curating for VLY on 2024-09-04. Skipping stock.\n",
      "Warning: Not enough data points after curating for GCMG on 2024-09-04. Skipping stock.\n",
      "Warning: Not enough data points after curating for AVDX on 2024-09-04. Skipping stock.\n",
      "Warning: Not enough data points after curating for AMRX on 2024-09-04. Skipping stock.\n",
      "Successfully curated data for 1 stocks.\n",
      "\n",
      "--- Processing Time Scale: 1m ---\n",
      "Resampling to 1m and calculating log returns...\n"
     ]
    },
    {
     "name": "stderr",
     "output_type": "stream",
     "text": [
      "Resampling 1m: 100%|██████████| 1/1 [00:00<00:00, 188.71it/s]\n",
      "/tmp/ipykernel_23556/2642790735.py:89: DeprecationWarning: Use of `how='outer'` should be replaced with `how='full'`.\n",
      "  aligned_df_pl = aligned_df_pl.join(df_to_join, on=\"ts_event\", how=\"outer\", coalesce=True)\n"
     ]
    },
    {
     "name": "stdout",
     "output_type": "stream",
     "text": [
      "Aligning data across stocks...\n",
      "Not enough data (398 rows, 1 stocks) remaining after alignment and NaN handling for 1m. Skipping correlation.\n",
      "\n",
      "--- Processing Time Scale: 10ms ---\n",
      "Resampling to 10ms and calculating log returns...\n"
     ]
    },
    {
     "name": "stderr",
     "output_type": "stream",
     "text": [
      "Resampling 10ms: 100%|██████████| 1/1 [00:00<00:00, 25.08it/s]"
     ]
    },
    {
     "name": "stdout",
     "output_type": "stream",
     "text": [
      "Aligning data across stocks...\n"
     ]
    },
    {
     "name": "stderr",
     "output_type": "stream",
     "text": [
      "\n",
      "/tmp/ipykernel_23556/2642790735.py:89: DeprecationWarning: Use of `how='outer'` should be replaced with `how='full'`.\n",
      "  aligned_df_pl = aligned_df_pl.join(df_to_join, on=\"ts_event\", how=\"outer\", coalesce=True)\n"
     ]
    },
    {
     "name": "stdout",
     "output_type": "stream",
     "text": [
      "Not enough data (212092 rows, 1 stocks) remaining after alignment and NaN handling for 10ms. Skipping correlation.\n",
      "\n",
      "==================== Processing Date: 2024-09-05 ====================\n",
      "Loading and curating data for 18 stocks on 2024-09-05...\n"
     ]
    },
    {
     "name": "stderr",
     "output_type": "stream",
     "text": [
      "Curating 2024-09-05:   0%|          | 0/18 [00:00<?, ?it/s]"
     ]
    },
    {
     "name": "stdout",
     "output_type": "stream",
     "text": [
      "Warning: Not enough data points after curating for WBD on 2024-09-05. Skipping stock.\n",
      "Warning: Not enough data points after curating for AAL on 2024-09-05. Skipping stock.\n"
     ]
    },
    {
     "name": "stderr",
     "output_type": "stream",
     "text": [
      "Curating 2024-09-05:  17%|█▋        | 3/18 [00:00<00:00, 25.59it/s]"
     ]
    },
    {
     "name": "stdout",
     "output_type": "stream",
     "text": [
      "Warning: Not enough data points after curating for GT on 2024-09-05. Skipping stock.\n",
      "Warning: Not enough data points after curating for LBTYB on 2024-09-05. Skipping stock.\n",
      "Warning: Not enough data points after curating for MLCO on 2024-09-05. Skipping stock.\n"
     ]
    },
    {
     "name": "stderr",
     "output_type": "stream",
     "text": [
      "Curating 2024-09-05:  33%|███▎      | 6/18 [00:00<00:00, 24.60it/s]"
     ]
    },
    {
     "name": "stdout",
     "output_type": "stream",
     "text": [
      "Warning: Not enough data points after curating for INTC on 2024-09-05. Skipping stock.\n",
      "Warning: Not enough data points after curating for GBDC on 2024-09-05. Skipping stock.\n",
      "Warning: Not enough data points after curating for CSX on 2024-09-05. Skipping stock.\n"
     ]
    },
    {
     "name": "stderr",
     "output_type": "stream",
     "text": [
      "Curating 2024-09-05:  50%|█████     | 9/18 [00:00<00:00, 26.60it/s]"
     ]
    },
    {
     "name": "stdout",
     "output_type": "stream",
     "text": [
      "Warning: Not enough data points after curating for LCID on 2024-09-05. Skipping stock.\n",
      "Warning: Not enough data points after curating for PSNY on 2024-09-05. Skipping stock.\n",
      "Warning: Not enough data points after curating for KHC on 2024-09-05. Skipping stock.\n"
     ]
    },
    {
     "name": "stderr",
     "output_type": "stream",
     "text": [
      "Curating 2024-09-05:  67%|██████▋   | 12/18 [00:00<00:00, 27.51it/s]"
     ]
    },
    {
     "name": "stdout",
     "output_type": "stream",
     "text": [
      "Warning: Not enough data points after curating for GEO on 2024-09-05. Skipping stock.\n"
     ]
    },
    {
     "name": "stderr",
     "output_type": "stream",
     "text": [
      "Curating 2024-09-05: 100%|██████████| 18/18 [00:01<00:00, 15.19it/s]\n"
     ]
    },
    {
     "name": "stdout",
     "output_type": "stream",
     "text": [
      "Warning: Not enough data points after curating for CXW on 2024-09-05. Skipping stock.\n",
      "Warning: Not enough data points after curating for VLY on 2024-09-05. Skipping stock.\n",
      "Warning: Not enough data points after curating for GCMG on 2024-09-05. Skipping stock.\n",
      "Warning: Not enough data points after curating for AVDX on 2024-09-05. Skipping stock.\n",
      "Warning: Not enough data points after curating for AMRX on 2024-09-05. Skipping stock.\n",
      "Successfully curated data for 1 stocks.\n",
      "\n",
      "--- Processing Time Scale: 1m ---\n",
      "Resampling to 1m and calculating log returns...\n"
     ]
    },
    {
     "name": "stderr",
     "output_type": "stream",
     "text": [
      "Resampling 1m: 100%|██████████| 1/1 [00:00<00:00, 298.44it/s]\n",
      "/tmp/ipykernel_23556/2642790735.py:89: DeprecationWarning: Use of `how='outer'` should be replaced with `how='full'`.\n",
      "  aligned_df_pl = aligned_df_pl.join(df_to_join, on=\"ts_event\", how=\"outer\", coalesce=True)\n"
     ]
    },
    {
     "name": "stdout",
     "output_type": "stream",
     "text": [
      "Aligning data across stocks...\n",
      "Not enough data (396 rows, 1 stocks) remaining after alignment and NaN handling for 1m. Skipping correlation.\n",
      "\n",
      "--- Processing Time Scale: 10ms ---\n",
      "Resampling to 10ms and calculating log returns...\n"
     ]
    },
    {
     "name": "stderr",
     "output_type": "stream",
     "text": [
      "Resampling 10ms: 100%|██████████| 1/1 [00:00<00:00, 25.74it/s]"
     ]
    },
    {
     "name": "stdout",
     "output_type": "stream",
     "text": [
      "Aligning data across stocks...\n"
     ]
    },
    {
     "name": "stderr",
     "output_type": "stream",
     "text": [
      "\n",
      "/tmp/ipykernel_23556/2642790735.py:89: DeprecationWarning: Use of `how='outer'` should be replaced with `how='full'`.\n",
      "  aligned_df_pl = aligned_df_pl.join(df_to_join, on=\"ts_event\", how=\"outer\", coalesce=True)\n"
     ]
    },
    {
     "name": "stdout",
     "output_type": "stream",
     "text": [
      "Not enough data (225805 rows, 1 stocks) remaining after alignment and NaN handling for 10ms. Skipping correlation.\n",
      "\n",
      "==================== Processing Date: 2024-09-06 ====================\n",
      "Loading and curating data for 18 stocks on 2024-09-06...\n"
     ]
    },
    {
     "name": "stderr",
     "output_type": "stream",
     "text": [
      "Curating 2024-09-06:   0%|          | 0/18 [00:00<?, ?it/s]"
     ]
    },
    {
     "name": "stdout",
     "output_type": "stream",
     "text": [
      "Warning: Not enough data points after curating for WBD on 2024-09-06. Skipping stock.\n",
      "Warning: Not enough data points after curating for AAL on 2024-09-06. Skipping stock.\n"
     ]
    },
    {
     "name": "stderr",
     "output_type": "stream",
     "text": [
      "Curating 2024-09-06:  17%|█▋        | 3/18 [00:00<00:00, 24.69it/s]"
     ]
    },
    {
     "name": "stdout",
     "output_type": "stream",
     "text": [
      "Warning: Not enough data points after curating for GT on 2024-09-06. Skipping stock.\n",
      "Warning: Not enough data points after curating for LBTYB on 2024-09-06. Skipping stock.\n",
      "Warning: Not enough data points after curating for MLCO on 2024-09-06. Skipping stock.\n"
     ]
    },
    {
     "name": "stderr",
     "output_type": "stream",
     "text": [
      "Curating 2024-09-06:  33%|███▎      | 6/18 [00:00<00:00, 23.64it/s]"
     ]
    },
    {
     "name": "stdout",
     "output_type": "stream",
     "text": [
      "Warning: Not enough data points after curating for INTC on 2024-09-06. Skipping stock.\n",
      "Warning: Not enough data points after curating for GBDC on 2024-09-06. Skipping stock.\n"
     ]
    },
    {
     "name": "stderr",
     "output_type": "stream",
     "text": [
      "Curating 2024-09-06:  50%|█████     | 9/18 [00:00<00:00, 24.63it/s]"
     ]
    },
    {
     "name": "stdout",
     "output_type": "stream",
     "text": [
      "Warning: Not enough data points after curating for CSX on 2024-09-06. Skipping stock.\n",
      "Warning: Not enough data points after curating for LCID on 2024-09-06. Skipping stock.\n",
      "Warning: Not enough data points after curating for PSNY on 2024-09-06. Skipping stock.\n",
      "Warning: Not enough data points after curating for KHC on 2024-09-06. Skipping stock.\n"
     ]
    },
    {
     "name": "stderr",
     "output_type": "stream",
     "text": [
      "Curating 2024-09-06:  67%|██████▋   | 12/18 [00:00<00:00, 26.36it/s]"
     ]
    },
    {
     "name": "stdout",
     "output_type": "stream",
     "text": [
      "Warning: Not enough data points after curating for GEO on 2024-09-06. Skipping stock.\n"
     ]
    },
    {
     "name": "stderr",
     "output_type": "stream",
     "text": [
      "Curating 2024-09-06: 100%|██████████| 18/18 [00:01<00:00, 15.64it/s]\n"
     ]
    },
    {
     "name": "stdout",
     "output_type": "stream",
     "text": [
      "Warning: Not enough data points after curating for CXW on 2024-09-06. Skipping stock.\n",
      "Warning: Not enough data points after curating for VLY on 2024-09-06. Skipping stock.\n",
      "Warning: Not enough data points after curating for GCMG on 2024-09-06. Skipping stock.\n",
      "Warning: Not enough data points after curating for AVDX on 2024-09-06. Skipping stock.\n",
      "Warning: Not enough data points after curating for AMRX on 2024-09-06. Skipping stock.\n",
      "Successfully curated data for 1 stocks.\n",
      "\n",
      "--- Processing Time Scale: 1m ---\n",
      "Resampling to 1m and calculating log returns...\n"
     ]
    },
    {
     "name": "stderr",
     "output_type": "stream",
     "text": [
      "Resampling 1m: 100%|██████████| 1/1 [00:00<00:00, 162.80it/s]\n",
      "/tmp/ipykernel_23556/2642790735.py:89: DeprecationWarning: Use of `how='outer'` should be replaced with `how='full'`.\n",
      "  aligned_df_pl = aligned_df_pl.join(df_to_join, on=\"ts_event\", how=\"outer\", coalesce=True)\n"
     ]
    },
    {
     "name": "stdout",
     "output_type": "stream",
     "text": [
      "Aligning data across stocks...\n",
      "Not enough data (408 rows, 1 stocks) remaining after alignment and NaN handling for 1m. Skipping correlation.\n",
      "\n",
      "--- Processing Time Scale: 10ms ---\n",
      "Resampling to 10ms and calculating log returns...\n"
     ]
    },
    {
     "name": "stderr",
     "output_type": "stream",
     "text": [
      "Resampling 10ms: 100%|██████████| 1/1 [00:00<00:00, 17.31it/s]"
     ]
    },
    {
     "name": "stdout",
     "output_type": "stream",
     "text": [
      "Aligning data across stocks...\n"
     ]
    },
    {
     "name": "stderr",
     "output_type": "stream",
     "text": [
      "\n",
      "/tmp/ipykernel_23556/2642790735.py:89: DeprecationWarning: Use of `how='outer'` should be replaced with `how='full'`.\n",
      "  aligned_df_pl = aligned_df_pl.join(df_to_join, on=\"ts_event\", how=\"outer\", coalesce=True)\n"
     ]
    },
    {
     "name": "stdout",
     "output_type": "stream",
     "text": [
      "Not enough data (238699 rows, 1 stocks) remaining after alignment and NaN handling for 10ms. Skipping correlation.\n",
      "\n",
      "==================== Processing Date: 2024-09-09 ====================\n",
      "Loading and curating data for 18 stocks on 2024-09-09...\n"
     ]
    },
    {
     "name": "stderr",
     "output_type": "stream",
     "text": [
      "Curating 2024-09-09:   0%|          | 0/18 [00:00<?, ?it/s]"
     ]
    },
    {
     "name": "stdout",
     "output_type": "stream",
     "text": [
      "Warning: Not enough data points after curating for WBD on 2024-09-09. Skipping stock.\n",
      "Warning: Not enough data points after curating for AAL on 2024-09-09. Skipping stock.\n"
     ]
    },
    {
     "name": "stderr",
     "output_type": "stream",
     "text": [
      "Curating 2024-09-09:  17%|█▋        | 3/18 [00:00<00:00, 25.92it/s]"
     ]
    },
    {
     "name": "stdout",
     "output_type": "stream",
     "text": [
      "Warning: Not enough data points after curating for GT on 2024-09-09. Skipping stock.\n",
      "Warning: Not enough data points after curating for LBTYB on 2024-09-09. Skipping stock.\n",
      "Warning: Not enough data points after curating for MLCO on 2024-09-09. Skipping stock.\n"
     ]
    },
    {
     "name": "stderr",
     "output_type": "stream",
     "text": [
      "Curating 2024-09-09:  33%|███▎      | 6/18 [00:00<00:00, 27.19it/s]"
     ]
    },
    {
     "name": "stdout",
     "output_type": "stream",
     "text": [
      "Warning: Not enough data points after curating for INTC on 2024-09-09. Skipping stock.\n",
      "Warning: Not enough data points after curating for GBDC on 2024-09-09. Skipping stock.\n",
      "Warning: Not enough data points after curating for CSX on 2024-09-09. Skipping stock.\n"
     ]
    },
    {
     "name": "stderr",
     "output_type": "stream",
     "text": [
      "Curating 2024-09-09:  50%|█████     | 9/18 [00:00<00:00, 28.25it/s]"
     ]
    },
    {
     "name": "stdout",
     "output_type": "stream",
     "text": [
      "Warning: Not enough data points after curating for LCID on 2024-09-09. Skipping stock.\n",
      "Warning: Not enough data points after curating for PSNY on 2024-09-09. Skipping stock.\n",
      "Warning: Not enough data points after curating for KHC on 2024-09-09. Skipping stock.\n",
      "Warning: Not enough data points after curating for GEO on 2024-09-09. Skipping stock.\n"
     ]
    },
    {
     "name": "stderr",
     "output_type": "stream",
     "text": [
      "Curating 2024-09-09: 100%|██████████| 18/18 [00:00<00:00, 18.46it/s]\n"
     ]
    },
    {
     "name": "stdout",
     "output_type": "stream",
     "text": [
      "Warning: Not enough data points after curating for CXW on 2024-09-09. Skipping stock.\n",
      "Warning: Not enough data points after curating for VLY on 2024-09-09. Skipping stock.\n",
      "Warning: Not enough data points after curating for GCMG on 2024-09-09. Skipping stock.\n",
      "Warning: Not enough data points after curating for AVDX on 2024-09-09. Skipping stock.\n",
      "Warning: Not enough data points after curating for AMRX on 2024-09-09. Skipping stock.\n",
      "Successfully curated data for 1 stocks.\n",
      "\n",
      "--- Processing Time Scale: 1m ---\n",
      "Resampling to 1m and calculating log returns...\n"
     ]
    },
    {
     "name": "stderr",
     "output_type": "stream",
     "text": [
      "Resampling 1m: 100%|██████████| 1/1 [00:00<00:00, 245.45it/s]\n",
      "/tmp/ipykernel_23556/2642790735.py:89: DeprecationWarning: Use of `how='outer'` should be replaced with `how='full'`.\n",
      "  aligned_df_pl = aligned_df_pl.join(df_to_join, on=\"ts_event\", how=\"outer\", coalesce=True)\n"
     ]
    },
    {
     "name": "stdout",
     "output_type": "stream",
     "text": [
      "Aligning data across stocks...\n",
      "Not enough data (418 rows, 1 stocks) remaining after alignment and NaN handling for 1m. Skipping correlation.\n",
      "\n",
      "--- Processing Time Scale: 10ms ---\n",
      "Resampling to 10ms and calculating log returns...\n"
     ]
    },
    {
     "name": "stderr",
     "output_type": "stream",
     "text": [
      "Resampling 10ms: 100%|██████████| 1/1 [00:00<00:00, 22.02it/s]"
     ]
    },
    {
     "name": "stdout",
     "output_type": "stream",
     "text": [
      "Aligning data across stocks...\n"
     ]
    },
    {
     "name": "stderr",
     "output_type": "stream",
     "text": [
      "\n",
      "/tmp/ipykernel_23556/2642790735.py:89: DeprecationWarning: Use of `how='outer'` should be replaced with `how='full'`.\n",
      "  aligned_df_pl = aligned_df_pl.join(df_to_join, on=\"ts_event\", how=\"outer\", coalesce=True)\n"
     ]
    },
    {
     "name": "stdout",
     "output_type": "stream",
     "text": [
      "Not enough data (225669 rows, 1 stocks) remaining after alignment and NaN handling for 10ms. Skipping correlation.\n",
      "\n",
      "==================== Processing Date: 2024-09-10 ====================\n",
      "Loading and curating data for 18 stocks on 2024-09-10...\n"
     ]
    },
    {
     "name": "stderr",
     "output_type": "stream",
     "text": [
      "Curating 2024-09-10:   0%|          | 0/18 [00:00<?, ?it/s]"
     ]
    },
    {
     "name": "stdout",
     "output_type": "stream",
     "text": [
      "Warning: Not enough data points after curating for WBD on 2024-09-10. Skipping stock.\n",
      "Warning: Not enough data points after curating for AAL on 2024-09-10. Skipping stock.\n"
     ]
    },
    {
     "name": "stderr",
     "output_type": "stream",
     "text": [
      "Curating 2024-09-10:  17%|█▋        | 3/18 [00:00<00:00, 26.76it/s]"
     ]
    },
    {
     "name": "stdout",
     "output_type": "stream",
     "text": [
      "Warning: Not enough data points after curating for GT on 2024-09-10. Skipping stock.\n",
      "Warning: Not enough data points after curating for LBTYB on 2024-09-10. Skipping stock.\n",
      "Warning: Not enough data points after curating for MLCO on 2024-09-10. Skipping stock.\n"
     ]
    },
    {
     "name": "stderr",
     "output_type": "stream",
     "text": [
      "Curating 2024-09-10:  33%|███▎      | 6/18 [00:00<00:00, 27.64it/s]"
     ]
    },
    {
     "name": "stdout",
     "output_type": "stream",
     "text": [
      "Warning: Not enough data points after curating for INTC on 2024-09-10. Skipping stock.\n",
      "Warning: Not enough data points after curating for GBDC on 2024-09-10. Skipping stock.\n",
      "Warning: Not enough data points after curating for CSX on 2024-09-10. Skipping stock.\n"
     ]
    },
    {
     "name": "stderr",
     "output_type": "stream",
     "text": [
      "Curating 2024-09-10:  56%|█████▌    | 10/18 [00:00<00:00, 30.25it/s]"
     ]
    },
    {
     "name": "stdout",
     "output_type": "stream",
     "text": [
      "Warning: Not enough data points after curating for LCID on 2024-09-10. Skipping stock.\n",
      "Warning: Not enough data points after curating for PSNY on 2024-09-10. Skipping stock.\n",
      "Warning: Not enough data points after curating for KHC on 2024-09-10. Skipping stock.\n",
      "Warning: Not enough data points after curating for GEO on 2024-09-10. Skipping stock.\n"
     ]
    },
    {
     "name": "stderr",
     "output_type": "stream",
     "text": [
      "Curating 2024-09-10: 100%|██████████| 18/18 [00:00<00:00, 18.90it/s]\n"
     ]
    },
    {
     "name": "stdout",
     "output_type": "stream",
     "text": [
      "Warning: Not enough data points after curating for CXW on 2024-09-10. Skipping stock.\n",
      "Warning: Not enough data points after curating for VLY on 2024-09-10. Skipping stock.\n",
      "Warning: Not enough data points after curating for GCMG on 2024-09-10. Skipping stock.\n",
      "Warning: Not enough data points after curating for AVDX on 2024-09-10. Skipping stock.\n",
      "Warning: Not enough data points after curating for AMRX on 2024-09-10. Skipping stock.\n",
      "Successfully curated data for 1 stocks.\n",
      "\n",
      "--- Processing Time Scale: 1m ---\n",
      "Resampling to 1m and calculating log returns...\n"
     ]
    },
    {
     "name": "stderr",
     "output_type": "stream",
     "text": [
      "Resampling 1m: 100%|██████████| 1/1 [00:00<00:00, 300.45it/s]\n",
      "/tmp/ipykernel_23556/2642790735.py:89: DeprecationWarning: Use of `how='outer'` should be replaced with `how='full'`.\n",
      "  aligned_df_pl = aligned_df_pl.join(df_to_join, on=\"ts_event\", how=\"outer\", coalesce=True)\n"
     ]
    },
    {
     "name": "stdout",
     "output_type": "stream",
     "text": [
      "Aligning data across stocks...\n",
      "Not enough data (400 rows, 1 stocks) remaining after alignment and NaN handling for 1m. Skipping correlation.\n",
      "\n",
      "--- Processing Time Scale: 10ms ---\n",
      "Resampling to 10ms and calculating log returns...\n"
     ]
    },
    {
     "name": "stderr",
     "output_type": "stream",
     "text": [
      "Resampling 10ms: 100%|██████████| 1/1 [00:00<00:00, 23.31it/s]"
     ]
    },
    {
     "name": "stdout",
     "output_type": "stream",
     "text": [
      "Aligning data across stocks...\n"
     ]
    },
    {
     "name": "stderr",
     "output_type": "stream",
     "text": [
      "\n",
      "/tmp/ipykernel_23556/2642790735.py:89: DeprecationWarning: Use of `how='outer'` should be replaced with `how='full'`.\n",
      "  aligned_df_pl = aligned_df_pl.join(df_to_join, on=\"ts_event\", how=\"outer\", coalesce=True)\n"
     ]
    },
    {
     "name": "stdout",
     "output_type": "stream",
     "text": [
      "Not enough data (194144 rows, 1 stocks) remaining after alignment and NaN handling for 10ms. Skipping correlation.\n",
      "\n",
      "==================== Processing Date: 2024-09-11 ====================\n",
      "Loading and curating data for 18 stocks on 2024-09-11...\n"
     ]
    },
    {
     "name": "stderr",
     "output_type": "stream",
     "text": [
      "Curating 2024-09-11:   0%|          | 0/18 [00:00<?, ?it/s]"
     ]
    },
    {
     "name": "stdout",
     "output_type": "stream",
     "text": [
      "Warning: Not enough data points after curating for WBD on 2024-09-11. Skipping stock.\n",
      "Warning: Not enough data points after curating for AAL on 2024-09-11. Skipping stock.\n"
     ]
    },
    {
     "name": "stderr",
     "output_type": "stream",
     "text": [
      "Curating 2024-09-11:  17%|█▋        | 3/18 [00:00<00:00, 24.70it/s]"
     ]
    },
    {
     "name": "stdout",
     "output_type": "stream",
     "text": [
      "Warning: Not enough data points after curating for GT on 2024-09-11. Skipping stock.\n",
      "Warning: Not enough data points after curating for LBTYB on 2024-09-11. Skipping stock.\n",
      "Warning: Not enough data points after curating for MLCO on 2024-09-11. Skipping stock.\n"
     ]
    },
    {
     "name": "stderr",
     "output_type": "stream",
     "text": [
      "Curating 2024-09-11:  33%|███▎      | 6/18 [00:00<00:00, 23.91it/s]"
     ]
    },
    {
     "name": "stdout",
     "output_type": "stream",
     "text": [
      "Warning: Not enough data points after curating for INTC on 2024-09-11. Skipping stock.\n",
      "Warning: Not enough data points after curating for GBDC on 2024-09-11. Skipping stock.\n"
     ]
    },
    {
     "name": "stderr",
     "output_type": "stream",
     "text": [
      "Curating 2024-09-11:  50%|█████     | 9/18 [00:00<00:00, 24.19it/s]"
     ]
    },
    {
     "name": "stdout",
     "output_type": "stream",
     "text": [
      "Warning: Not enough data points after curating for CSX on 2024-09-11. Skipping stock.\n",
      "Warning: Not enough data points after curating for LCID on 2024-09-11. Skipping stock.\n",
      "Warning: Not enough data points after curating for PSNY on 2024-09-11. Skipping stock.\n"
     ]
    },
    {
     "name": "stderr",
     "output_type": "stream",
     "text": [
      "Curating 2024-09-11:  67%|██████▋   | 12/18 [00:00<00:00, 25.10it/s]"
     ]
    },
    {
     "name": "stdout",
     "output_type": "stream",
     "text": [
      "Warning: Not enough data points after curating for KHC on 2024-09-11. Skipping stock.\n",
      "Warning: Not enough data points after curating for GEO on 2024-09-11. Skipping stock.\n"
     ]
    },
    {
     "name": "stderr",
     "output_type": "stream",
     "text": [
      "Curating 2024-09-11: 100%|██████████| 18/18 [00:01<00:00, 15.54it/s]\n"
     ]
    },
    {
     "name": "stdout",
     "output_type": "stream",
     "text": [
      "Warning: Not enough data points after curating for CXW on 2024-09-11. Skipping stock.\n",
      "Warning: Not enough data points after curating for VLY on 2024-09-11. Skipping stock.\n",
      "Warning: Not enough data points after curating for GCMG on 2024-09-11. Skipping stock.\n",
      "Warning: Not enough data points after curating for AVDX on 2024-09-11. Skipping stock.\n",
      "Warning: Not enough data points after curating for AMRX on 2024-09-11. Skipping stock.\n",
      "Successfully curated data for 1 stocks.\n",
      "\n",
      "--- Processing Time Scale: 1m ---\n",
      "Resampling to 1m and calculating log returns...\n"
     ]
    },
    {
     "name": "stderr",
     "output_type": "stream",
     "text": [
      "Resampling 1m: 100%|██████████| 1/1 [00:00<00:00, 302.38it/s]\n",
      "/tmp/ipykernel_23556/2642790735.py:89: DeprecationWarning: Use of `how='outer'` should be replaced with `how='full'`.\n",
      "  aligned_df_pl = aligned_df_pl.join(df_to_join, on=\"ts_event\", how=\"outer\", coalesce=True)\n"
     ]
    },
    {
     "name": "stdout",
     "output_type": "stream",
     "text": [
      "Aligning data across stocks...\n",
      "Not enough data (409 rows, 1 stocks) remaining after alignment and NaN handling for 1m. Skipping correlation.\n",
      "\n",
      "--- Processing Time Scale: 10ms ---\n",
      "Resampling to 10ms and calculating log returns...\n"
     ]
    },
    {
     "name": "stderr",
     "output_type": "stream",
     "text": [
      "Resampling 10ms: 100%|██████████| 1/1 [00:00<00:00, 20.32it/s]"
     ]
    },
    {
     "name": "stdout",
     "output_type": "stream",
     "text": [
      "Aligning data across stocks...\n"
     ]
    },
    {
     "name": "stderr",
     "output_type": "stream",
     "text": [
      "\n",
      "/tmp/ipykernel_23556/2642790735.py:89: DeprecationWarning: Use of `how='outer'` should be replaced with `how='full'`.\n",
      "  aligned_df_pl = aligned_df_pl.join(df_to_join, on=\"ts_event\", how=\"outer\", coalesce=True)\n"
     ]
    },
    {
     "name": "stdout",
     "output_type": "stream",
     "text": [
      "Not enough data (267526 rows, 1 stocks) remaining after alignment and NaN handling for 10ms. Skipping correlation.\n",
      "\n",
      "==================== Processing Date: 2024-09-12 ====================\n",
      "Loading and curating data for 18 stocks on 2024-09-12...\n"
     ]
    },
    {
     "name": "stderr",
     "output_type": "stream",
     "text": [
      "Curating 2024-09-12:   0%|          | 0/18 [00:00<?, ?it/s]"
     ]
    },
    {
     "name": "stdout",
     "output_type": "stream",
     "text": [
      "Warning: Not enough data points after curating for WBD on 2024-09-12. Skipping stock.\n",
      "Warning: Not enough data points after curating for AAL on 2024-09-12. Skipping stock.\n"
     ]
    },
    {
     "name": "stderr",
     "output_type": "stream",
     "text": [
      "Curating 2024-09-12:  17%|█▋        | 3/18 [00:00<00:00, 25.52it/s]"
     ]
    },
    {
     "name": "stdout",
     "output_type": "stream",
     "text": [
      "Warning: Not enough data points after curating for GT on 2024-09-12. Skipping stock.\n",
      "Warning: Not enough data points after curating for LBTYB on 2024-09-12. Skipping stock.\n",
      "Warning: Not enough data points after curating for MLCO on 2024-09-12. Skipping stock.\n"
     ]
    },
    {
     "name": "stderr",
     "output_type": "stream",
     "text": [
      "Curating 2024-09-12:  33%|███▎      | 6/18 [00:00<00:00, 25.20it/s]"
     ]
    },
    {
     "name": "stdout",
     "output_type": "stream",
     "text": [
      "Warning: Not enough data points after curating for INTC on 2024-09-12. Skipping stock.\n",
      "Warning: Not enough data points after curating for GBDC on 2024-09-12. Skipping stock.\n",
      "Warning: Not enough data points after curating for CSX on 2024-09-12. Skipping stock.\n"
     ]
    },
    {
     "name": "stderr",
     "output_type": "stream",
     "text": [
      "Curating 2024-09-12:  50%|█████     | 9/18 [00:00<00:00, 26.35it/s]"
     ]
    },
    {
     "name": "stdout",
     "output_type": "stream",
     "text": [
      "Warning: Not enough data points after curating for LCID on 2024-09-12. Skipping stock.\n",
      "Warning: Not enough data points after curating for PSNY on 2024-09-12. Skipping stock.\n",
      "Warning: Not enough data points after curating for KHC on 2024-09-12. Skipping stock.\n",
      "Warning: Not enough data points after curating for GEO on 2024-09-12. Skipping stock.\n"
     ]
    },
    {
     "name": "stderr",
     "output_type": "stream",
     "text": [
      "Curating 2024-09-12: 100%|██████████| 18/18 [00:00<00:00, 18.36it/s]\n"
     ]
    },
    {
     "name": "stdout",
     "output_type": "stream",
     "text": [
      "Warning: Not enough data points after curating for CXW on 2024-09-12. Skipping stock.\n",
      "Warning: Not enough data points after curating for VLY on 2024-09-12. Skipping stock.\n",
      "Warning: Not enough data points after curating for GCMG on 2024-09-12. Skipping stock.\n",
      "Warning: Not enough data points after curating for AVDX on 2024-09-12. Skipping stock.\n",
      "Warning: Not enough data points after curating for AMRX on 2024-09-12. Skipping stock.\n",
      "Successfully curated data for 1 stocks.\n",
      "\n",
      "--- Processing Time Scale: 1m ---\n",
      "Resampling to 1m and calculating log returns...\n"
     ]
    },
    {
     "name": "stderr",
     "output_type": "stream",
     "text": [
      "Resampling 1m: 100%|██████████| 1/1 [00:00<00:00, 179.90it/s]\n",
      "/tmp/ipykernel_23556/2642790735.py:89: DeprecationWarning: Use of `how='outer'` should be replaced with `how='full'`.\n",
      "  aligned_df_pl = aligned_df_pl.join(df_to_join, on=\"ts_event\", how=\"outer\", coalesce=True)\n"
     ]
    },
    {
     "name": "stdout",
     "output_type": "stream",
     "text": [
      "Aligning data across stocks...\n",
      "Not enough data (414 rows, 1 stocks) remaining after alignment and NaN handling for 1m. Skipping correlation.\n",
      "\n",
      "--- Processing Time Scale: 10ms ---\n",
      "Resampling to 10ms and calculating log returns...\n"
     ]
    },
    {
     "name": "stderr",
     "output_type": "stream",
     "text": [
      "Resampling 10ms: 100%|██████████| 1/1 [00:00<00:00, 18.54it/s]"
     ]
    },
    {
     "name": "stdout",
     "output_type": "stream",
     "text": [
      "Aligning data across stocks...\n"
     ]
    },
    {
     "name": "stderr",
     "output_type": "stream",
     "text": [
      "\n",
      "/tmp/ipykernel_23556/2642790735.py:89: DeprecationWarning: Use of `how='outer'` should be replaced with `how='full'`.\n",
      "  aligned_df_pl = aligned_df_pl.join(df_to_join, on=\"ts_event\", how=\"outer\", coalesce=True)\n"
     ]
    },
    {
     "name": "stdout",
     "output_type": "stream",
     "text": [
      "Not enough data (222709 rows, 1 stocks) remaining after alignment and NaN handling for 10ms. Skipping correlation.\n",
      "\n",
      "==================== Processing Date: 2024-09-13 ====================\n",
      "Loading and curating data for 18 stocks on 2024-09-13...\n"
     ]
    },
    {
     "name": "stderr",
     "output_type": "stream",
     "text": [
      "Curating 2024-09-13:   0%|          | 0/18 [00:00<?, ?it/s]"
     ]
    },
    {
     "name": "stdout",
     "output_type": "stream",
     "text": [
      "Warning: Not enough data points after curating for WBD on 2024-09-13. Skipping stock.\n",
      "Warning: Not enough data points after curating for AAL on 2024-09-13. Skipping stock.\n"
     ]
    },
    {
     "name": "stderr",
     "output_type": "stream",
     "text": [
      "Curating 2024-09-13:  17%|█▋        | 3/18 [00:00<00:00, 26.56it/s]"
     ]
    },
    {
     "name": "stdout",
     "output_type": "stream",
     "text": [
      "Warning: Not enough data points after curating for GT on 2024-09-13. Skipping stock.\n",
      "Warning: Not enough data points after curating for LBTYB on 2024-09-13. Skipping stock.\n",
      "Warning: Not enough data points after curating for MLCO on 2024-09-13. Skipping stock.\n"
     ]
    },
    {
     "name": "stderr",
     "output_type": "stream",
     "text": [
      "Curating 2024-09-13:  33%|███▎      | 6/18 [00:00<00:00, 27.01it/s]"
     ]
    },
    {
     "name": "stdout",
     "output_type": "stream",
     "text": [
      "Warning: Not enough data points after curating for INTC on 2024-09-13. Skipping stock.\n",
      "Warning: Not enough data points after curating for GBDC on 2024-09-13. Skipping stock.\n",
      "Warning: Not enough data points after curating for CSX on 2024-09-13. Skipping stock.\n"
     ]
    },
    {
     "name": "stderr",
     "output_type": "stream",
     "text": [
      "Curating 2024-09-13:  56%|█████▌    | 10/18 [00:00<00:00, 29.60it/s]"
     ]
    },
    {
     "name": "stdout",
     "output_type": "stream",
     "text": [
      "Warning: Not enough data points after curating for LCID on 2024-09-13. Skipping stock.\n",
      "Warning: Not enough data points after curating for PSNY on 2024-09-13. Skipping stock.\n",
      "Warning: Not enough data points after curating for KHC on 2024-09-13. Skipping stock.\n",
      "Warning: Not enough data points after curating for GEO on 2024-09-13. Skipping stock.\n"
     ]
    },
    {
     "name": "stderr",
     "output_type": "stream",
     "text": [
      "Curating 2024-09-13: 100%|██████████| 18/18 [00:00<00:00, 19.36it/s]\n"
     ]
    },
    {
     "name": "stdout",
     "output_type": "stream",
     "text": [
      "Warning: Not enough data points after curating for CXW on 2024-09-13. Skipping stock.\n",
      "Warning: Not enough data points after curating for VLY on 2024-09-13. Skipping stock.\n",
      "Warning: Not enough data points after curating for GCMG on 2024-09-13. Skipping stock.\n",
      "Warning: Not enough data points after curating for AVDX on 2024-09-13. Skipping stock.\n",
      "Warning: Not enough data points after curating for AMRX on 2024-09-13. Skipping stock.\n",
      "Successfully curated data for 1 stocks.\n",
      "\n",
      "--- Processing Time Scale: 1m ---\n",
      "Resampling to 1m and calculating log returns...\n"
     ]
    },
    {
     "name": "stderr",
     "output_type": "stream",
     "text": [
      "Resampling 1m: 100%|██████████| 1/1 [00:00<00:00, 250.05it/s]\n",
      "/tmp/ipykernel_23556/2642790735.py:89: DeprecationWarning: Use of `how='outer'` should be replaced with `how='full'`.\n",
      "  aligned_df_pl = aligned_df_pl.join(df_to_join, on=\"ts_event\", how=\"outer\", coalesce=True)\n"
     ]
    },
    {
     "name": "stdout",
     "output_type": "stream",
     "text": [
      "Aligning data across stocks...\n",
      "Not enough data (395 rows, 1 stocks) remaining after alignment and NaN handling for 1m. Skipping correlation.\n",
      "\n",
      "--- Processing Time Scale: 10ms ---\n",
      "Resampling to 10ms and calculating log returns...\n"
     ]
    },
    {
     "name": "stderr",
     "output_type": "stream",
     "text": [
      "Resampling 10ms: 100%|██████████| 1/1 [00:00<00:00, 22.81it/s]"
     ]
    },
    {
     "name": "stdout",
     "output_type": "stream",
     "text": [
      "Aligning data across stocks...\n"
     ]
    },
    {
     "name": "stderr",
     "output_type": "stream",
     "text": [
      "\n",
      "/tmp/ipykernel_23556/2642790735.py:89: DeprecationWarning: Use of `how='outer'` should be replaced with `how='full'`.\n",
      "  aligned_df_pl = aligned_df_pl.join(df_to_join, on=\"ts_event\", how=\"outer\", coalesce=True)\n"
     ]
    },
    {
     "name": "stdout",
     "output_type": "stream",
     "text": [
      "Not enough data (195028 rows, 1 stocks) remaining after alignment and NaN handling for 10ms. Skipping correlation.\n",
      "\n",
      "==================== Processing Date: 2024-09-16 ====================\n",
      "Loading and curating data for 18 stocks on 2024-09-16...\n"
     ]
    },
    {
     "name": "stderr",
     "output_type": "stream",
     "text": [
      "Curating 2024-09-16:   0%|          | 0/18 [00:00<?, ?it/s]"
     ]
    },
    {
     "name": "stdout",
     "output_type": "stream",
     "text": [
      "Warning: Not enough data points after curating for WBD on 2024-09-16. Skipping stock.\n",
      "Warning: Not enough data points after curating for AAL on 2024-09-16. Skipping stock.\n"
     ]
    },
    {
     "name": "stderr",
     "output_type": "stream",
     "text": [
      "Curating 2024-09-16:  17%|█▋        | 3/18 [00:00<00:00, 24.72it/s]"
     ]
    },
    {
     "name": "stdout",
     "output_type": "stream",
     "text": [
      "Warning: Not enough data points after curating for GT on 2024-09-16. Skipping stock.\n",
      "Warning: Not enough data points after curating for LBTYB on 2024-09-16. Skipping stock.\n",
      "Warning: Not enough data points after curating for MLCO on 2024-09-16. Skipping stock.\n"
     ]
    },
    {
     "name": "stderr",
     "output_type": "stream",
     "text": [
      "Curating 2024-09-16:  33%|███▎      | 6/18 [00:00<00:00, 22.03it/s]"
     ]
    },
    {
     "name": "stdout",
     "output_type": "stream",
     "text": [
      "Warning: Not enough data points after curating for INTC on 2024-09-16. Skipping stock.\n",
      "Warning: Not enough data points after curating for GBDC on 2024-09-16. Skipping stock.\n",
      "Warning: Not enough data points after curating for CSX on 2024-09-16. Skipping stock.\n",
      "Warning: Not enough data points after curating for LCID on 2024-09-16. Skipping stock.\n"
     ]
    },
    {
     "name": "stderr",
     "output_type": "stream",
     "text": [
      "Curating 2024-09-16:  56%|█████▌    | 10/18 [00:00<00:00, 26.18it/s]"
     ]
    },
    {
     "name": "stdout",
     "output_type": "stream",
     "text": [
      "Warning: Not enough data points after curating for PSNY on 2024-09-16. Skipping stock.\n",
      "Warning: Not enough data points after curating for KHC on 2024-09-16. Skipping stock.\n",
      "Warning: Not enough data points after curating for GEO on 2024-09-16. Skipping stock.\n"
     ]
    },
    {
     "name": "stderr",
     "output_type": "stream",
     "text": [
      "Curating 2024-09-16: 100%|██████████| 18/18 [00:00<00:00, 19.31it/s]\n"
     ]
    },
    {
     "name": "stdout",
     "output_type": "stream",
     "text": [
      "Warning: Not enough data points after curating for CXW on 2024-09-16. Skipping stock.\n",
      "Warning: Not enough data points after curating for VLY on 2024-09-16. Skipping stock.\n",
      "Warning: Not enough data points after curating for GCMG on 2024-09-16. Skipping stock.\n",
      "Warning: Not enough data points after curating for AVDX on 2024-09-16. Skipping stock.\n",
      "Warning: Not enough data points after curating for AMRX on 2024-09-16. Skipping stock.\n",
      "Successfully curated data for 1 stocks.\n",
      "\n",
      "--- Processing Time Scale: 1m ---\n",
      "Resampling to 1m and calculating log returns...\n"
     ]
    },
    {
     "name": "stderr",
     "output_type": "stream",
     "text": [
      "Resampling 1m: 100%|██████████| 1/1 [00:00<00:00, 449.17it/s]\n",
      "/tmp/ipykernel_23556/2642790735.py:89: DeprecationWarning: Use of `how='outer'` should be replaced with `how='full'`.\n",
      "  aligned_df_pl = aligned_df_pl.join(df_to_join, on=\"ts_event\", how=\"outer\", coalesce=True)\n"
     ]
    },
    {
     "name": "stdout",
     "output_type": "stream",
     "text": [
      "Aligning data across stocks...\n",
      "Not enough data (373 rows, 1 stocks) remaining after alignment and NaN handling for 1m. Skipping correlation.\n",
      "\n",
      "--- Processing Time Scale: 10ms ---\n",
      "Resampling to 10ms and calculating log returns...\n"
     ]
    },
    {
     "name": "stderr",
     "output_type": "stream",
     "text": [
      "Resampling 10ms: 100%|██████████| 1/1 [00:00<00:00, 26.57it/s]\n",
      "/tmp/ipykernel_23556/2642790735.py:89: DeprecationWarning: Use of `how='outer'` should be replaced with `how='full'`.\n",
      "  aligned_df_pl = aligned_df_pl.join(df_to_join, on=\"ts_event\", how=\"outer\", coalesce=True)\n"
     ]
    },
    {
     "name": "stdout",
     "output_type": "stream",
     "text": [
      "Aligning data across stocks...\n",
      "Not enough data (177387 rows, 1 stocks) remaining after alignment and NaN handling for 10ms. Skipping correlation.\n",
      "\n",
      "==================== Processing Date: 2024-09-17 ====================\n",
      "Loading and curating data for 18 stocks on 2024-09-17...\n"
     ]
    },
    {
     "name": "stderr",
     "output_type": "stream",
     "text": [
      "Curating 2024-09-17:  17%|█▋        | 3/18 [00:00<00:00, 26.46it/s]"
     ]
    },
    {
     "name": "stdout",
     "output_type": "stream",
     "text": [
      "Warning: Not enough data points after curating for WBD on 2024-09-17. Skipping stock.\n",
      "Warning: Not enough data points after curating for AAL on 2024-09-17. Skipping stock.\n",
      "Warning: Not enough data points after curating for GT on 2024-09-17. Skipping stock.\n",
      "Warning: Not enough data points after curating for LBTYB on 2024-09-17. Skipping stock.\n",
      "Warning: Not enough data points after curating for MLCO on 2024-09-17. Skipping stock.\n"
     ]
    },
    {
     "name": "stderr",
     "output_type": "stream",
     "text": [
      "Curating 2024-09-17:  50%|█████     | 9/18 [00:00<00:00, 18.45it/s]"
     ]
    },
    {
     "name": "stdout",
     "output_type": "stream",
     "text": [
      "Warning: Not enough data points after curating for INTC on 2024-09-17. Skipping stock.\n",
      "Warning: Not enough data points after curating for GBDC on 2024-09-17. Skipping stock.\n",
      "Warning: Not enough data points after curating for CSX on 2024-09-17. Skipping stock.\n",
      "Warning: Not enough data points after curating for LCID on 2024-09-17. Skipping stock.\n",
      "Warning: Not enough data points after curating for PSNY on 2024-09-17. Skipping stock.\n",
      "Warning: Not enough data points after curating for KHC on 2024-09-17. Skipping stock.\n",
      "Warning: Not enough data points after curating for GEO on 2024-09-17. Skipping stock.\n"
     ]
    },
    {
     "name": "stderr",
     "output_type": "stream",
     "text": [
      "Curating 2024-09-17: 100%|██████████| 18/18 [00:01<00:00, 14.42it/s]\n"
     ]
    },
    {
     "name": "stdout",
     "output_type": "stream",
     "text": [
      "Warning: Not enough data points after curating for CXW on 2024-09-17. Skipping stock.\n",
      "Warning: Not enough data points after curating for VLY on 2024-09-17. Skipping stock.\n",
      "Warning: Not enough data points after curating for GCMG on 2024-09-17. Skipping stock.\n",
      "Warning: Not enough data points after curating for AVDX on 2024-09-17. Skipping stock.\n",
      "Warning: Not enough data points after curating for AMRX on 2024-09-17. Skipping stock.\n",
      "Successfully curated data for 1 stocks.\n",
      "\n",
      "--- Processing Time Scale: 1m ---\n",
      "Resampling to 1m and calculating log returns...\n"
     ]
    },
    {
     "name": "stderr",
     "output_type": "stream",
     "text": [
      "Resampling 1m: 100%|██████████| 1/1 [00:00<00:00, 356.90it/s]\n",
      "/tmp/ipykernel_23556/2642790735.py:89: DeprecationWarning: Use of `how='outer'` should be replaced with `how='full'`.\n",
      "  aligned_df_pl = aligned_df_pl.join(df_to_join, on=\"ts_event\", how=\"outer\", coalesce=True)\n"
     ]
    },
    {
     "name": "stdout",
     "output_type": "stream",
     "text": [
      "Aligning data across stocks...\n",
      "Not enough data (362 rows, 1 stocks) remaining after alignment and NaN handling for 1m. Skipping correlation.\n",
      "\n",
      "--- Processing Time Scale: 10ms ---\n",
      "Resampling to 10ms and calculating log returns...\n"
     ]
    },
    {
     "name": "stderr",
     "output_type": "stream",
     "text": [
      "Resampling 10ms: 100%|██████████| 1/1 [00:00<00:00, 16.72it/s]"
     ]
    },
    {
     "name": "stdout",
     "output_type": "stream",
     "text": [
      "Aligning data across stocks...\n"
     ]
    },
    {
     "name": "stderr",
     "output_type": "stream",
     "text": [
      "\n",
      "/tmp/ipykernel_23556/2642790735.py:89: DeprecationWarning: Use of `how='outer'` should be replaced with `how='full'`.\n",
      "  aligned_df_pl = aligned_df_pl.join(df_to_join, on=\"ts_event\", how=\"outer\", coalesce=True)\n"
     ]
    },
    {
     "name": "stdout",
     "output_type": "stream",
     "text": [
      "Not enough data (254796 rows, 1 stocks) remaining after alignment and NaN handling for 10ms. Skipping correlation.\n",
      "\n",
      "==================== Processing Date: 2024-09-18 ====================\n",
      "Loading and curating data for 18 stocks on 2024-09-18...\n"
     ]
    },
    {
     "name": "stderr",
     "output_type": "stream",
     "text": [
      "Curating 2024-09-18:   0%|          | 0/18 [00:00<?, ?it/s]"
     ]
    },
    {
     "name": "stdout",
     "output_type": "stream",
     "text": [
      "Warning: Not enough data points after curating for WBD on 2024-09-18. Skipping stock.\n"
     ]
    },
    {
     "name": "stderr",
     "output_type": "stream",
     "text": [
      "Curating 2024-09-18:  17%|█▋        | 3/18 [00:00<00:00, 21.94it/s]"
     ]
    },
    {
     "name": "stdout",
     "output_type": "stream",
     "text": [
      "Warning: Not enough data points after curating for AAL on 2024-09-18. Skipping stock.\n",
      "Warning: Not enough data points after curating for GT on 2024-09-18. Skipping stock.\n",
      "Warning: Not enough data points after curating for LBTYB on 2024-09-18. Skipping stock.\n",
      "Warning: Not enough data points after curating for MLCO on 2024-09-18. Skipping stock.\n"
     ]
    },
    {
     "name": "stderr",
     "output_type": "stream",
     "text": [
      "Curating 2024-09-18:  33%|███▎      | 6/18 [00:00<00:00, 15.96it/s]"
     ]
    },
    {
     "name": "stdout",
     "output_type": "stream",
     "text": [
      "Warning: Not enough data points after curating for INTC on 2024-09-18. Skipping stock.\n"
     ]
    },
    {
     "name": "stderr",
     "output_type": "stream",
     "text": [
      "Curating 2024-09-18:  50%|█████     | 9/18 [00:00<00:00, 18.92it/s]"
     ]
    },
    {
     "name": "stdout",
     "output_type": "stream",
     "text": [
      "Warning: Not enough data points after curating for GBDC on 2024-09-18. Skipping stock.\n",
      "Warning: Not enough data points after curating for CSX on 2024-09-18. Skipping stock.\n",
      "Warning: Not enough data points after curating for LCID on 2024-09-18. Skipping stock.\n",
      "Warning: Not enough data points after curating for PSNY on 2024-09-18. Skipping stock.\n",
      "Warning: Not enough data points after curating for KHC on 2024-09-18. Skipping stock.\n",
      "Warning: Not enough data points after curating for GEO on 2024-09-18. Skipping stock.\n"
     ]
    },
    {
     "name": "stderr",
     "output_type": "stream",
     "text": [
      "Curating 2024-09-18: 100%|██████████| 18/18 [00:01<00:00,  9.38it/s]\n"
     ]
    },
    {
     "name": "stdout",
     "output_type": "stream",
     "text": [
      "Warning: Not enough data points after curating for CXW on 2024-09-18. Skipping stock.\n",
      "Warning: Not enough data points after curating for VLY on 2024-09-18. Skipping stock.\n",
      "Warning: Not enough data points after curating for GCMG on 2024-09-18. Skipping stock.\n",
      "Warning: Not enough data points after curating for AVDX on 2024-09-18. Skipping stock.\n",
      "Warning: Not enough data points after curating for AMRX on 2024-09-18. Skipping stock.\n",
      "Successfully curated data for 1 stocks.\n",
      "\n",
      "--- Processing Time Scale: 1m ---\n",
      "Resampling to 1m and calculating log returns...\n"
     ]
    },
    {
     "name": "stderr",
     "output_type": "stream",
     "text": [
      "Resampling 1m: 100%|██████████| 1/1 [00:00<00:00, 143.07it/s]\n",
      "/tmp/ipykernel_23556/2642790735.py:89: DeprecationWarning: Use of `how='outer'` should be replaced with `how='full'`.\n",
      "  aligned_df_pl = aligned_df_pl.join(df_to_join, on=\"ts_event\", how=\"outer\", coalesce=True)\n"
     ]
    },
    {
     "name": "stdout",
     "output_type": "stream",
     "text": [
      "Aligning data across stocks...\n",
      "Not enough data (395 rows, 1 stocks) remaining after alignment and NaN handling for 1m. Skipping correlation.\n",
      "\n",
      "--- Processing Time Scale: 10ms ---\n",
      "Resampling to 10ms and calculating log returns...\n"
     ]
    },
    {
     "name": "stderr",
     "output_type": "stream",
     "text": [
      "Resampling 10ms: 100%|██████████| 1/1 [00:00<00:00, 16.13it/s]\n",
      "/tmp/ipykernel_23556/2642790735.py:89: DeprecationWarning: Use of `how='outer'` should be replaced with `how='full'`.\n",
      "  aligned_df_pl = aligned_df_pl.join(df_to_join, on=\"ts_event\", how=\"outer\", coalesce=True)\n"
     ]
    },
    {
     "name": "stdout",
     "output_type": "stream",
     "text": [
      "Aligning data across stocks...\n",
      "Not enough data (361748 rows, 1 stocks) remaining after alignment and NaN handling for 10ms. Skipping correlation.\n",
      "\n",
      "==================== Processing Date: 2024-09-19 ====================\n",
      "Loading and curating data for 18 stocks on 2024-09-19...\n"
     ]
    },
    {
     "name": "stderr",
     "output_type": "stream",
     "text": [
      "Curating 2024-09-19:   0%|          | 0/18 [00:00<?, ?it/s]"
     ]
    },
    {
     "name": "stdout",
     "output_type": "stream",
     "text": [
      "Warning: Not enough data points after curating for WBD on 2024-09-19. Skipping stock.\n"
     ]
    },
    {
     "name": "stderr",
     "output_type": "stream",
     "text": [
      "Curating 2024-09-19:  17%|█▋        | 3/18 [00:00<00:00, 24.29it/s]"
     ]
    },
    {
     "name": "stdout",
     "output_type": "stream",
     "text": [
      "Warning: Not enough data points after curating for AAL on 2024-09-19. Skipping stock.\n",
      "Warning: Not enough data points after curating for GT on 2024-09-19. Skipping stock.\n",
      "Warning: Not enough data points after curating for LBTYB on 2024-09-19. Skipping stock.\n",
      "Warning: Not enough data points after curating for MLCO on 2024-09-19. Skipping stock.\n"
     ]
    },
    {
     "name": "stderr",
     "output_type": "stream",
     "text": [
      "Curating 2024-09-19:  33%|███▎      | 6/18 [00:00<00:00, 23.37it/s]"
     ]
    },
    {
     "name": "stdout",
     "output_type": "stream",
     "text": [
      "Warning: Not enough data points after curating for INTC on 2024-09-19. Skipping stock.\n",
      "Warning: Not enough data points after curating for GBDC on 2024-09-19. Skipping stock.\n",
      "Warning: Not enough data points after curating for CSX on 2024-09-19. Skipping stock.\n"
     ]
    },
    {
     "name": "stderr",
     "output_type": "stream",
     "text": [
      "Curating 2024-09-19:  50%|█████     | 9/18 [00:00<00:00, 25.24it/s]"
     ]
    },
    {
     "name": "stdout",
     "output_type": "stream",
     "text": [
      "Warning: Not enough data points after curating for LCID on 2024-09-19. Skipping stock.\n",
      "Warning: Not enough data points after curating for PSNY on 2024-09-19. Skipping stock.\n",
      "Warning: Not enough data points after curating for KHC on 2024-09-19. Skipping stock.\n",
      "Warning: Not enough data points after curating for GEO on 2024-09-19. Skipping stock.\n"
     ]
    },
    {
     "name": "stderr",
     "output_type": "stream",
     "text": [
      "Curating 2024-09-19: 100%|██████████| 18/18 [00:01<00:00, 17.29it/s]\n"
     ]
    },
    {
     "name": "stdout",
     "output_type": "stream",
     "text": [
      "Warning: Not enough data points after curating for CXW on 2024-09-19. Skipping stock.\n",
      "Warning: Not enough data points after curating for VLY on 2024-09-19. Skipping stock.\n",
      "Warning: Not enough data points after curating for GCMG on 2024-09-19. Skipping stock.\n",
      "Warning: Not enough data points after curating for AVDX on 2024-09-19. Skipping stock.\n",
      "Warning: Not enough data points after curating for AMRX on 2024-09-19. Skipping stock.\n",
      "Successfully curated data for 1 stocks.\n",
      "\n",
      "--- Processing Time Scale: 1m ---\n",
      "Resampling to 1m and calculating log returns...\n"
     ]
    },
    {
     "name": "stderr",
     "output_type": "stream",
     "text": [
      "Resampling 1m: 100%|██████████| 1/1 [00:00<00:00, 190.08it/s]\n",
      "/tmp/ipykernel_23556/2642790735.py:89: DeprecationWarning: Use of `how='outer'` should be replaced with `how='full'`.\n",
      "  aligned_df_pl = aligned_df_pl.join(df_to_join, on=\"ts_event\", how=\"outer\", coalesce=True)\n"
     ]
    },
    {
     "name": "stdout",
     "output_type": "stream",
     "text": [
      "Aligning data across stocks...\n",
      "Not enough data (397 rows, 1 stocks) remaining after alignment and NaN handling for 1m. Skipping correlation.\n",
      "\n",
      "--- Processing Time Scale: 10ms ---\n",
      "Resampling to 10ms and calculating log returns...\n"
     ]
    },
    {
     "name": "stderr",
     "output_type": "stream",
     "text": [
      "Resampling 10ms: 100%|██████████| 1/1 [00:00<00:00, 17.54it/s]\n",
      "/tmp/ipykernel_23556/2642790735.py:89: DeprecationWarning: Use of `how='outer'` should be replaced with `how='full'`.\n",
      "  aligned_df_pl = aligned_df_pl.join(df_to_join, on=\"ts_event\", how=\"outer\", coalesce=True)\n"
     ]
    },
    {
     "name": "stdout",
     "output_type": "stream",
     "text": [
      "Aligning data across stocks...\n",
      "Not enough data (202442 rows, 1 stocks) remaining after alignment and NaN handling for 10ms. Skipping correlation.\n",
      "\n",
      "==================== Processing Date: 2024-09-20 ====================\n",
      "Loading and curating data for 18 stocks on 2024-09-20...\n"
     ]
    },
    {
     "name": "stderr",
     "output_type": "stream",
     "text": [
      "Curating 2024-09-20:   0%|          | 0/18 [00:00<?, ?it/s]"
     ]
    },
    {
     "name": "stdout",
     "output_type": "stream",
     "text": [
      "Warning: Not enough data points after curating for WBD on 2024-09-20. Skipping stock.\n",
      "Warning: Not enough data points after curating for AAL on 2024-09-20. Skipping stock.\n"
     ]
    },
    {
     "name": "stderr",
     "output_type": "stream",
     "text": [
      "Curating 2024-09-20:  17%|█▋        | 3/18 [00:00<00:00, 27.88it/s]"
     ]
    },
    {
     "name": "stdout",
     "output_type": "stream",
     "text": [
      "Warning: Not enough data points after curating for GT on 2024-09-20. Skipping stock.\n",
      "Warning: Not enough data points after curating for LBTYB on 2024-09-20. Skipping stock.\n",
      "Warning: Not enough data points after curating for MLCO on 2024-09-20. Skipping stock.\n"
     ]
    },
    {
     "name": "stderr",
     "output_type": "stream",
     "text": [
      "Curating 2024-09-20:  50%|█████     | 9/18 [00:00<00:00, 18.71it/s]"
     ]
    },
    {
     "name": "stdout",
     "output_type": "stream",
     "text": [
      "Warning: Not enough data points after curating for INTC on 2024-09-20. Skipping stock.\n",
      "Warning: Not enough data points after curating for GBDC on 2024-09-20. Skipping stock.\n",
      "Warning: Not enough data points after curating for CSX on 2024-09-20. Skipping stock.\n",
      "Warning: Not enough data points after curating for LCID on 2024-09-20. Skipping stock.\n",
      "Warning: Not enough data points after curating for PSNY on 2024-09-20. Skipping stock.\n",
      "Warning: Not enough data points after curating for KHC on 2024-09-20. Skipping stock.\n",
      "Warning: Not enough data points after curating for GEO on 2024-09-20. Skipping stock.\n"
     ]
    },
    {
     "name": "stderr",
     "output_type": "stream",
     "text": [
      "Curating 2024-09-20: 100%|██████████| 18/18 [00:01<00:00, 16.42it/s]\n"
     ]
    },
    {
     "name": "stdout",
     "output_type": "stream",
     "text": [
      "Warning: Not enough data points after curating for CXW on 2024-09-20. Skipping stock.\n",
      "Warning: Not enough data points after curating for VLY on 2024-09-20. Skipping stock.\n",
      "Warning: Not enough data points after curating for GCMG on 2024-09-20. Skipping stock.\n",
      "Warning: Not enough data points after curating for AVDX on 2024-09-20. Skipping stock.\n",
      "Warning: Not enough data points after curating for AMRX on 2024-09-20. Skipping stock.\n",
      "Successfully curated data for 1 stocks.\n",
      "\n",
      "--- Processing Time Scale: 1m ---\n",
      "Resampling to 1m and calculating log returns...\n"
     ]
    },
    {
     "name": "stderr",
     "output_type": "stream",
     "text": [
      "Resampling 1m: 100%|██████████| 1/1 [00:00<00:00, 396.55it/s]\n",
      "/tmp/ipykernel_23556/2642790735.py:89: DeprecationWarning: Use of `how='outer'` should be replaced with `how='full'`.\n",
      "  aligned_df_pl = aligned_df_pl.join(df_to_join, on=\"ts_event\", how=\"outer\", coalesce=True)\n"
     ]
    },
    {
     "name": "stdout",
     "output_type": "stream",
     "text": [
      "Aligning data across stocks...\n",
      "Not enough data (374 rows, 1 stocks) remaining after alignment and NaN handling for 1m. Skipping correlation.\n",
      "\n",
      "--- Processing Time Scale: 10ms ---\n",
      "Resampling to 10ms and calculating log returns...\n"
     ]
    },
    {
     "name": "stderr",
     "output_type": "stream",
     "text": [
      "Resampling 10ms: 100%|██████████| 1/1 [00:00<00:00, 24.16it/s]"
     ]
    },
    {
     "name": "stdout",
     "output_type": "stream",
     "text": [
      "Aligning data across stocks...\n"
     ]
    },
    {
     "name": "stderr",
     "output_type": "stream",
     "text": [
      "\n",
      "/tmp/ipykernel_23556/2642790735.py:89: DeprecationWarning: Use of `how='outer'` should be replaced with `how='full'`.\n",
      "  aligned_df_pl = aligned_df_pl.join(df_to_join, on=\"ts_event\", how=\"outer\", coalesce=True)\n"
     ]
    },
    {
     "name": "stdout",
     "output_type": "stream",
     "text": [
      "Not enough data (200729 rows, 1 stocks) remaining after alignment and NaN handling for 10ms. Skipping correlation.\n",
      "\n",
      "==================== Processing Date: 2024-09-23 ====================\n",
      "Loading and curating data for 18 stocks on 2024-09-23...\n"
     ]
    },
    {
     "name": "stderr",
     "output_type": "stream",
     "text": [
      "Curating 2024-09-23:  17%|█▋        | 3/18 [00:00<00:00, 25.80it/s]"
     ]
    },
    {
     "name": "stdout",
     "output_type": "stream",
     "text": [
      "Warning: Not enough data points after curating for WBD on 2024-09-23. Skipping stock.\n",
      "Warning: Not enough data points after curating for AAL on 2024-09-23. Skipping stock.\n",
      "Warning: Not enough data points after curating for GT on 2024-09-23. Skipping stock.\n",
      "Warning: Not enough data points after curating for LBTYB on 2024-09-23. Skipping stock.\n",
      "Warning: Not enough data points after curating for MLCO on 2024-09-23. Skipping stock.\n"
     ]
    },
    {
     "name": "stderr",
     "output_type": "stream",
     "text": [
      "Curating 2024-09-23:  50%|█████     | 9/18 [00:00<00:00, 18.47it/s]"
     ]
    },
    {
     "name": "stdout",
     "output_type": "stream",
     "text": [
      "Warning: Not enough data points after curating for INTC on 2024-09-23. Skipping stock.\n",
      "Warning: Not enough data points after curating for GBDC on 2024-09-23. Skipping stock.\n",
      "Warning: Not enough data points after curating for CSX on 2024-09-23. Skipping stock.\n",
      "Warning: Not enough data points after curating for LCID on 2024-09-23. Skipping stock.\n",
      "Warning: Not enough data points after curating for PSNY on 2024-09-23. Skipping stock.\n",
      "Warning: Not enough data points after curating for KHC on 2024-09-23. Skipping stock.\n",
      "Warning: Not enough data points after curating for GEO on 2024-09-23. Skipping stock.\n"
     ]
    },
    {
     "name": "stderr",
     "output_type": "stream",
     "text": [
      "Curating 2024-09-23: 100%|██████████| 18/18 [00:01<00:00, 16.47it/s]\n"
     ]
    },
    {
     "name": "stdout",
     "output_type": "stream",
     "text": [
      "Warning: Not enough data points after curating for CXW on 2024-09-23. Skipping stock.\n",
      "Warning: Not enough data points after curating for VLY on 2024-09-23. Skipping stock.\n",
      "Warning: Not enough data points after curating for GCMG on 2024-09-23. Skipping stock.\n",
      "Warning: Not enough data points after curating for AVDX on 2024-09-23. Skipping stock.\n",
      "Warning: Not enough data points after curating for AMRX on 2024-09-23. Skipping stock.\n",
      "Successfully curated data for 1 stocks.\n",
      "\n",
      "--- Processing Time Scale: 1m ---\n",
      "Resampling to 1m and calculating log returns...\n"
     ]
    },
    {
     "name": "stderr",
     "output_type": "stream",
     "text": [
      "Resampling 1m: 100%|██████████| 1/1 [00:00<00:00, 365.13it/s]\n",
      "/tmp/ipykernel_23556/2642790735.py:89: DeprecationWarning: Use of `how='outer'` should be replaced with `how='full'`.\n",
      "  aligned_df_pl = aligned_df_pl.join(df_to_join, on=\"ts_event\", how=\"outer\", coalesce=True)\n"
     ]
    },
    {
     "name": "stdout",
     "output_type": "stream",
     "text": [
      "Aligning data across stocks...\n",
      "Not enough data (402 rows, 1 stocks) remaining after alignment and NaN handling for 1m. Skipping correlation.\n",
      "\n",
      "--- Processing Time Scale: 10ms ---\n",
      "Resampling to 10ms and calculating log returns...\n"
     ]
    },
    {
     "name": "stderr",
     "output_type": "stream",
     "text": [
      "Resampling 10ms: 100%|██████████| 1/1 [00:00<00:00, 22.89it/s]"
     ]
    },
    {
     "name": "stdout",
     "output_type": "stream",
     "text": [
      "Aligning data across stocks...\n"
     ]
    },
    {
     "name": "stderr",
     "output_type": "stream",
     "text": [
      "\n",
      "/tmp/ipykernel_23556/2642790735.py:89: DeprecationWarning: Use of `how='outer'` should be replaced with `how='full'`.\n",
      "  aligned_df_pl = aligned_df_pl.join(df_to_join, on=\"ts_event\", how=\"outer\", coalesce=True)\n"
     ]
    },
    {
     "name": "stdout",
     "output_type": "stream",
     "text": [
      "Not enough data (198379 rows, 1 stocks) remaining after alignment and NaN handling for 10ms. Skipping correlation.\n",
      "\n",
      "==================== Processing Date: 2024-09-24 ====================\n",
      "Loading and curating data for 18 stocks on 2024-09-24...\n"
     ]
    },
    {
     "name": "stderr",
     "output_type": "stream",
     "text": [
      "Curating 2024-09-24:   0%|          | 0/18 [00:00<?, ?it/s]"
     ]
    },
    {
     "name": "stdout",
     "output_type": "stream",
     "text": [
      "Warning: Not enough data points after curating for WBD on 2024-09-24. Skipping stock.\n",
      "Warning: Not enough data points after curating for AAL on 2024-09-24. Skipping stock.\n",
      "Warning: Not enough data points after curating for GT on 2024-09-24. Skipping stock.\n"
     ]
    },
    {
     "name": "stderr",
     "output_type": "stream",
     "text": [
      "Curating 2024-09-24:  22%|██▏       | 4/18 [00:00<00:00, 33.50it/s]"
     ]
    },
    {
     "name": "stdout",
     "output_type": "stream",
     "text": [
      "Warning: Not enough data points after curating for LBTYB on 2024-09-24. Skipping stock.\n",
      "Warning: Not enough data points after curating for MLCO on 2024-09-24. Skipping stock.\n"
     ]
    },
    {
     "name": "stderr",
     "output_type": "stream",
     "text": [
      "Curating 2024-09-24:  44%|████▍     | 8/18 [00:00<00:00, 24.44it/s]"
     ]
    },
    {
     "name": "stdout",
     "output_type": "stream",
     "text": [
      "Warning: Not enough data points after curating for INTC on 2024-09-24. Skipping stock.\n",
      "Warning: Not enough data points after curating for GBDC on 2024-09-24. Skipping stock.\n",
      "Warning: Not enough data points after curating for CSX on 2024-09-24. Skipping stock.\n"
     ]
    },
    {
     "name": "stderr",
     "output_type": "stream",
     "text": [
      "Curating 2024-09-24:  61%|██████    | 11/18 [00:00<00:00, 26.18it/s]"
     ]
    },
    {
     "name": "stdout",
     "output_type": "stream",
     "text": [
      "Warning: Not enough data points after curating for LCID on 2024-09-24. Skipping stock.\n",
      "Warning: Not enough data points after curating for PSNY on 2024-09-24. Skipping stock.\n",
      "Warning: Not enough data points after curating for KHC on 2024-09-24. Skipping stock.\n",
      "Warning: Not enough data points after curating for GEO on 2024-09-24. Skipping stock.\n"
     ]
    },
    {
     "name": "stderr",
     "output_type": "stream",
     "text": [
      "Curating 2024-09-24: 100%|██████████| 18/18 [00:00<00:00, 18.99it/s]\n"
     ]
    },
    {
     "name": "stdout",
     "output_type": "stream",
     "text": [
      "Warning: Not enough data points after curating for CXW on 2024-09-24. Skipping stock.\n",
      "Warning: Not enough data points after curating for VLY on 2024-09-24. Skipping stock.\n",
      "Warning: Not enough data points after curating for GCMG on 2024-09-24. Skipping stock.\n",
      "Warning: Not enough data points after curating for AVDX on 2024-09-24. Skipping stock.\n",
      "Warning: Not enough data points after curating for AMRX on 2024-09-24. Skipping stock.\n",
      "Successfully curated data for 1 stocks.\n",
      "\n",
      "--- Processing Time Scale: 1m ---\n",
      "Resampling to 1m and calculating log returns...\n"
     ]
    },
    {
     "name": "stderr",
     "output_type": "stream",
     "text": [
      "Resampling 1m: 100%|██████████| 1/1 [00:00<00:00, 375.83it/s]\n",
      "/tmp/ipykernel_23556/2642790735.py:89: DeprecationWarning: Use of `how='outer'` should be replaced with `how='full'`.\n",
      "  aligned_df_pl = aligned_df_pl.join(df_to_join, on=\"ts_event\", how=\"outer\", coalesce=True)\n"
     ]
    },
    {
     "name": "stdout",
     "output_type": "stream",
     "text": [
      "Aligning data across stocks...\n",
      "Not enough data (394 rows, 1 stocks) remaining after alignment and NaN handling for 1m. Skipping correlation.\n",
      "\n",
      "--- Processing Time Scale: 10ms ---\n",
      "Resampling to 10ms and calculating log returns...\n"
     ]
    },
    {
     "name": "stderr",
     "output_type": "stream",
     "text": [
      "Resampling 10ms: 100%|██████████| 1/1 [00:00<00:00, 24.86it/s]"
     ]
    },
    {
     "name": "stdout",
     "output_type": "stream",
     "text": [
      "Aligning data across stocks...\n"
     ]
    },
    {
     "name": "stderr",
     "output_type": "stream",
     "text": [
      "\n",
      "/tmp/ipykernel_23556/2642790735.py:89: DeprecationWarning: Use of `how='outer'` should be replaced with `how='full'`.\n",
      "  aligned_df_pl = aligned_df_pl.join(df_to_join, on=\"ts_event\", how=\"outer\", coalesce=True)\n"
     ]
    },
    {
     "name": "stdout",
     "output_type": "stream",
     "text": [
      "Not enough data (169699 rows, 1 stocks) remaining after alignment and NaN handling for 10ms. Skipping correlation.\n",
      "\n",
      "==================== Processing Date: 2024-09-25 ====================\n",
      "Loading and curating data for 18 stocks on 2024-09-25...\n"
     ]
    },
    {
     "name": "stderr",
     "output_type": "stream",
     "text": [
      "Curating 2024-09-25:   0%|          | 0/18 [00:00<?, ?it/s]"
     ]
    },
    {
     "name": "stdout",
     "output_type": "stream",
     "text": [
      "Warning: Not enough data points after curating for WBD on 2024-09-25. Skipping stock.\n",
      "Warning: Not enough data points after curating for AAL on 2024-09-25. Skipping stock.\n"
     ]
    },
    {
     "name": "stderr",
     "output_type": "stream",
     "text": [
      "Curating 2024-09-25:  17%|█▋        | 3/18 [00:00<00:00, 25.51it/s]"
     ]
    },
    {
     "name": "stdout",
     "output_type": "stream",
     "text": [
      "Warning: Not enough data points after curating for GT on 2024-09-25. Skipping stock.\n",
      "Warning: Not enough data points after curating for LBTYB on 2024-09-25. Skipping stock.\n",
      "Warning: Not enough data points after curating for MLCO on 2024-09-25. Skipping stock.\n"
     ]
    },
    {
     "name": "stderr",
     "output_type": "stream",
     "text": [
      "Curating 2024-09-25:  33%|███▎      | 6/18 [00:00<00:00, 21.58it/s]"
     ]
    },
    {
     "name": "stdout",
     "output_type": "stream",
     "text": [
      "Warning: Not enough data points after curating for INTC on 2024-09-25. Skipping stock.\n",
      "Warning: Not enough data points after curating for GBDC on 2024-09-25. Skipping stock.\n"
     ]
    },
    {
     "name": "stderr",
     "output_type": "stream",
     "text": [
      "Curating 2024-09-25:  50%|█████     | 9/18 [00:00<00:00, 24.04it/s]"
     ]
    },
    {
     "name": "stdout",
     "output_type": "stream",
     "text": [
      "Warning: Not enough data points after curating for CSX on 2024-09-25. Skipping stock.\n",
      "Warning: Not enough data points after curating for LCID on 2024-09-25. Skipping stock.\n",
      "Warning: Not enough data points after curating for PSNY on 2024-09-25. Skipping stock.\n",
      "Warning: Not enough data points after curating for KHC on 2024-09-25. Skipping stock.\n"
     ]
    },
    {
     "name": "stderr",
     "output_type": "stream",
     "text": [
      "Curating 2024-09-25:  67%|██████▋   | 12/18 [00:00<00:00, 26.00it/s]"
     ]
    },
    {
     "name": "stdout",
     "output_type": "stream",
     "text": [
      "Warning: Not enough data points after curating for GEO on 2024-09-25. Skipping stock.\n"
     ]
    },
    {
     "name": "stderr",
     "output_type": "stream",
     "text": [
      "Curating 2024-09-25: 100%|██████████| 18/18 [00:00<00:00, 19.09it/s]\n"
     ]
    },
    {
     "name": "stdout",
     "output_type": "stream",
     "text": [
      "Warning: Not enough data points after curating for CXW on 2024-09-25. Skipping stock.\n",
      "Warning: Not enough data points after curating for VLY on 2024-09-25. Skipping stock.\n",
      "Warning: Not enough data points after curating for GCMG on 2024-09-25. Skipping stock.\n",
      "Warning: Not enough data points after curating for AVDX on 2024-09-25. Skipping stock.\n",
      "Warning: Not enough data points after curating for AMRX on 2024-09-25. Skipping stock.\n",
      "Successfully curated data for 1 stocks.\n",
      "\n",
      "--- Processing Time Scale: 1m ---\n",
      "Resampling to 1m and calculating log returns...\n"
     ]
    },
    {
     "name": "stderr",
     "output_type": "stream",
     "text": [
      "Resampling 1m: 100%|██████████| 1/1 [00:00<00:00, 262.60it/s]\n",
      "/tmp/ipykernel_23556/2642790735.py:89: DeprecationWarning: Use of `how='outer'` should be replaced with `how='full'`.\n",
      "  aligned_df_pl = aligned_df_pl.join(df_to_join, on=\"ts_event\", how=\"outer\", coalesce=True)\n"
     ]
    },
    {
     "name": "stdout",
     "output_type": "stream",
     "text": [
      "Aligning data across stocks...\n",
      "Not enough data (394 rows, 1 stocks) remaining after alignment and NaN handling for 1m. Skipping correlation.\n",
      "\n",
      "--- Processing Time Scale: 10ms ---\n",
      "Resampling to 10ms and calculating log returns...\n"
     ]
    },
    {
     "name": "stderr",
     "output_type": "stream",
     "text": [
      "Resampling 10ms: 100%|██████████| 1/1 [00:00<00:00, 21.56it/s]"
     ]
    },
    {
     "name": "stdout",
     "output_type": "stream",
     "text": [
      "Aligning data across stocks...\n"
     ]
    },
    {
     "name": "stderr",
     "output_type": "stream",
     "text": [
      "\n",
      "/tmp/ipykernel_23556/2642790735.py:89: DeprecationWarning: Use of `how='outer'` should be replaced with `how='full'`.\n",
      "  aligned_df_pl = aligned_df_pl.join(df_to_join, on=\"ts_event\", how=\"outer\", coalesce=True)\n"
     ]
    },
    {
     "name": "stdout",
     "output_type": "stream",
     "text": [
      "Not enough data (197960 rows, 1 stocks) remaining after alignment and NaN handling for 10ms. Skipping correlation.\n",
      "\n",
      "==================== Processing Date: 2024-09-26 ====================\n",
      "Loading and curating data for 18 stocks on 2024-09-26...\n"
     ]
    },
    {
     "name": "stderr",
     "output_type": "stream",
     "text": [
      "Curating 2024-09-26:   0%|          | 0/18 [00:00<?, ?it/s]"
     ]
    },
    {
     "name": "stdout",
     "output_type": "stream",
     "text": [
      "Warning: Not enough data points after curating for WBD on 2024-09-26. Skipping stock.\n",
      "Warning: Not enough data points after curating for AAL on 2024-09-26. Skipping stock.\n"
     ]
    },
    {
     "name": "stderr",
     "output_type": "stream",
     "text": [
      "Curating 2024-09-26:  17%|█▋        | 3/18 [00:00<00:00, 25.11it/s]"
     ]
    },
    {
     "name": "stdout",
     "output_type": "stream",
     "text": [
      "Warning: Not enough data points after curating for GT on 2024-09-26. Skipping stock.\n",
      "Warning: Not enough data points after curating for LBTYB on 2024-09-26. Skipping stock.\n",
      "Warning: Not enough data points after curating for MLCO on 2024-09-26. Skipping stock.\n"
     ]
    },
    {
     "name": "stderr",
     "output_type": "stream",
     "text": [
      "Curating 2024-09-26:  50%|█████     | 9/18 [00:00<00:00, 18.27it/s]"
     ]
    },
    {
     "name": "stdout",
     "output_type": "stream",
     "text": [
      "Warning: Not enough data points after curating for INTC on 2024-09-26. Skipping stock.\n",
      "Warning: Not enough data points after curating for GBDC on 2024-09-26. Skipping stock.\n",
      "Warning: Not enough data points after curating for CSX on 2024-09-26. Skipping stock.\n",
      "Warning: Not enough data points after curating for LCID on 2024-09-26. Skipping stock.\n",
      "Warning: Not enough data points after curating for PSNY on 2024-09-26. Skipping stock.\n",
      "Warning: Not enough data points after curating for KHC on 2024-09-26. Skipping stock.\n"
     ]
    },
    {
     "name": "stderr",
     "output_type": "stream",
     "text": [
      "Curating 2024-09-26: 100%|██████████| 18/18 [00:00<00:00, 24.07it/s]\n"
     ]
    },
    {
     "name": "stdout",
     "output_type": "stream",
     "text": [
      "Warning: Not enough data points after curating for GEO on 2024-09-26. Skipping stock.\n",
      "Error loading or curating GOOGL on 2024-09-26: parquet: File out of specification: The file must end with PAR1\n",
      "Warning: Not enough data points after curating for CXW on 2024-09-26. Skipping stock.\n",
      "Warning: Not enough data points after curating for VLY on 2024-09-26. Skipping stock.\n",
      "Warning: Not enough data points after curating for GCMG on 2024-09-26. Skipping stock.\n",
      "Warning: Not enough data points after curating for AVDX on 2024-09-26. Skipping stock.\n",
      "Warning: Not enough data points after curating for AMRX on 2024-09-26. Skipping stock.\n",
      "No valid data loaded for any stock on 2024-09-26. Skipping date.\n",
      "\n",
      "==================== Processing Date: 2024-09-27 ====================\n",
      "Loading and curating data for 18 stocks on 2024-09-27...\n"
     ]
    },
    {
     "name": "stderr",
     "output_type": "stream",
     "text": [
      "Curating 2024-09-27:  17%|█▋        | 3/18 [00:00<00:00, 24.99it/s]"
     ]
    },
    {
     "name": "stdout",
     "output_type": "stream",
     "text": [
      "Warning: Not enough data points after curating for WBD on 2024-09-27. Skipping stock.\n",
      "Warning: Not enough data points after curating for AAL on 2024-09-27. Skipping stock.\n",
      "Warning: Not enough data points after curating for GT on 2024-09-27. Skipping stock.\n",
      "Warning: Not enough data points after curating for LBTYB on 2024-09-27. Skipping stock.\n",
      "Warning: Not enough data points after curating for MLCO on 2024-09-27. Skipping stock.\n"
     ]
    },
    {
     "name": "stderr",
     "output_type": "stream",
     "text": [
      "Curating 2024-09-27:  56%|█████▌    | 10/18 [00:00<00:00, 26.75it/s]"
     ]
    },
    {
     "name": "stdout",
     "output_type": "stream",
     "text": [
      "Warning: Not enough data points after curating for INTC on 2024-09-27. Skipping stock.\n",
      "Warning: Not enough data points after curating for GBDC on 2024-09-27. Skipping stock.\n",
      "Warning: Not enough data points after curating for CSX on 2024-09-27. Skipping stock.\n",
      "Warning: Not enough data points after curating for LCID on 2024-09-27. Skipping stock.\n",
      "Warning: Not enough data points after curating for PSNY on 2024-09-27. Skipping stock.\n",
      "Warning: Not enough data points after curating for KHC on 2024-09-27. Skipping stock.\n",
      "Warning: Not enough data points after curating for GEO on 2024-09-27. Skipping stock.\n"
     ]
    },
    {
     "name": "stderr",
     "output_type": "stream",
     "text": [
      "Curating 2024-09-27: 100%|██████████| 18/18 [00:00<00:00, 19.39it/s]\n"
     ]
    },
    {
     "name": "stdout",
     "output_type": "stream",
     "text": [
      "Warning: Not enough data points after curating for CXW on 2024-09-27. Skipping stock.\n",
      "Warning: Not enough data points after curating for VLY on 2024-09-27. Skipping stock.\n",
      "Warning: Not enough data points after curating for GCMG on 2024-09-27. Skipping stock.\n",
      "Warning: Not enough data points after curating for AVDX on 2024-09-27. Skipping stock.\n",
      "Warning: Not enough data points after curating for AMRX on 2024-09-27. Skipping stock.\n",
      "Successfully curated data for 1 stocks.\n",
      "\n",
      "--- Processing Time Scale: 1m ---\n",
      "Resampling to 1m and calculating log returns...\n"
     ]
    },
    {
     "name": "stderr",
     "output_type": "stream",
     "text": [
      "Resampling 1m: 100%|██████████| 1/1 [00:00<00:00, 410.56it/s]\n",
      "/tmp/ipykernel_23556/2642790735.py:89: DeprecationWarning: Use of `how='outer'` should be replaced with `how='full'`.\n",
      "  aligned_df_pl = aligned_df_pl.join(df_to_join, on=\"ts_event\", how=\"outer\", coalesce=True)\n"
     ]
    },
    {
     "name": "stdout",
     "output_type": "stream",
     "text": [
      "Aligning data across stocks...\n",
      "Not enough data (361 rows, 1 stocks) remaining after alignment and NaN handling for 1m. Skipping correlation.\n",
      "\n",
      "--- Processing Time Scale: 10ms ---\n",
      "Resampling to 10ms and calculating log returns...\n"
     ]
    },
    {
     "name": "stderr",
     "output_type": "stream",
     "text": [
      "Resampling 10ms: 100%|██████████| 1/1 [00:00<00:00, 24.48it/s]\n",
      "/tmp/ipykernel_23556/2642790735.py:89: DeprecationWarning: Use of `how='outer'` should be replaced with `how='full'`.\n",
      "  aligned_df_pl = aligned_df_pl.join(df_to_join, on=\"ts_event\", how=\"outer\", coalesce=True)\n"
     ]
    },
    {
     "name": "stdout",
     "output_type": "stream",
     "text": [
      "Aligning data across stocks...\n",
      "Not enough data (200963 rows, 1 stocks) remaining after alignment and NaN handling for 10ms. Skipping correlation.\n",
      "\n",
      "==================== Processing Date: 2024-09-30 ====================\n",
      "Loading and curating data for 18 stocks on 2024-09-30...\n"
     ]
    },
    {
     "name": "stderr",
     "output_type": "stream",
     "text": [
      "Curating 2024-09-30:  17%|█▋        | 3/18 [00:00<00:00, 26.53it/s]"
     ]
    },
    {
     "name": "stdout",
     "output_type": "stream",
     "text": [
      "Warning: Not enough data points after curating for WBD on 2024-09-30. Skipping stock.\n",
      "Warning: Not enough data points after curating for AAL on 2024-09-30. Skipping stock.\n",
      "Warning: Not enough data points after curating for GT on 2024-09-30. Skipping stock.\n",
      "Warning: Not enough data points after curating for LBTYB on 2024-09-30. Skipping stock.\n",
      "Warning: Not enough data points after curating for MLCO on 2024-09-30. Skipping stock.\n"
     ]
    },
    {
     "name": "stderr",
     "output_type": "stream",
     "text": [
      "Curating 2024-09-30:  33%|███▎      | 6/18 [00:00<00:00, 25.01it/s]"
     ]
    },
    {
     "name": "stdout",
     "output_type": "stream",
     "text": [
      "Warning: Not enough data points after curating for INTC on 2024-09-30. Skipping stock.\n"
     ]
    },
    {
     "name": "stderr",
     "output_type": "stream",
     "text": [
      "Curating 2024-09-30:  50%|█████     | 9/18 [00:00<00:00, 27.06it/s]"
     ]
    },
    {
     "name": "stdout",
     "output_type": "stream",
     "text": [
      "Warning: Not enough data points after curating for GBDC on 2024-09-30. Skipping stock.\n",
      "Warning: Not enough data points after curating for CSX on 2024-09-30. Skipping stock.\n",
      "Warning: Not enough data points after curating for LCID on 2024-09-30. Skipping stock.\n",
      "Warning: Not enough data points after curating for PSNY on 2024-09-30. Skipping stock.\n",
      "Warning: Not enough data points after curating for KHC on 2024-09-30. Skipping stock.\n",
      "Warning: Not enough data points after curating for GEO on 2024-09-30. Skipping stock.\n"
     ]
    },
    {
     "name": "stderr",
     "output_type": "stream",
     "text": [
      "Curating 2024-09-30: 100%|██████████| 18/18 [00:00<00:00, 20.06it/s]\n"
     ]
    },
    {
     "name": "stdout",
     "output_type": "stream",
     "text": [
      "Warning: Not enough data points after curating for CXW on 2024-09-30. Skipping stock.\n",
      "Warning: Not enough data points after curating for VLY on 2024-09-30. Skipping stock.\n",
      "Warning: Not enough data points after curating for GCMG on 2024-09-30. Skipping stock.\n",
      "Warning: Not enough data points after curating for AVDX on 2024-09-30. Skipping stock.\n",
      "Warning: Not enough data points after curating for AMRX on 2024-09-30. Skipping stock.\n",
      "Successfully curated data for 1 stocks.\n",
      "\n",
      "--- Processing Time Scale: 1m ---\n",
      "Resampling to 1m and calculating log returns...\n"
     ]
    },
    {
     "name": "stderr",
     "output_type": "stream",
     "text": [
      "Resampling 1m: 100%|██████████| 1/1 [00:00<00:00, 301.29it/s]\n",
      "/tmp/ipykernel_23556/2642790735.py:89: DeprecationWarning: Use of `how='outer'` should be replaced with `how='full'`.\n",
      "  aligned_df_pl = aligned_df_pl.join(df_to_join, on=\"ts_event\", how=\"outer\", coalesce=True)\n"
     ]
    },
    {
     "name": "stdout",
     "output_type": "stream",
     "text": [
      "Aligning data across stocks...\n",
      "Not enough data (385 rows, 1 stocks) remaining after alignment and NaN handling for 1m. Skipping correlation.\n",
      "\n",
      "--- Processing Time Scale: 10ms ---\n",
      "Resampling to 10ms and calculating log returns...\n"
     ]
    },
    {
     "name": "stderr",
     "output_type": "stream",
     "text": [
      "Resampling 10ms: 100%|██████████| 1/1 [00:00<00:00, 23.82it/s]"
     ]
    },
    {
     "name": "stdout",
     "output_type": "stream",
     "text": [
      "Aligning data across stocks...\n"
     ]
    },
    {
     "name": "stderr",
     "output_type": "stream",
     "text": [
      "\n",
      "/tmp/ipykernel_23556/2642790735.py:89: DeprecationWarning: Use of `how='outer'` should be replaced with `how='full'`.\n",
      "  aligned_df_pl = aligned_df_pl.join(df_to_join, on=\"ts_event\", how=\"outer\", coalesce=True)\n"
     ]
    },
    {
     "name": "stdout",
     "output_type": "stream",
     "text": [
      "Not enough data (224495 rows, 1 stocks) remaining after alignment and NaN handling for 10ms. Skipping correlation.\n",
      "\n",
      "==================== Processing Date: 2024-10-01 ====================\n",
      "Loading and curating data for 18 stocks on 2024-10-01...\n"
     ]
    },
    {
     "name": "stderr",
     "output_type": "stream",
     "text": [
      "Curating 2024-10-01:   0%|          | 0/18 [00:00<?, ?it/s]"
     ]
    },
    {
     "name": "stdout",
     "output_type": "stream",
     "text": [
      "Warning: Not enough data points after curating for WBD on 2024-10-01. Skipping stock.\n",
      "Warning: Not enough data points after curating for AAL on 2024-10-01. Skipping stock.\n"
     ]
    },
    {
     "name": "stderr",
     "output_type": "stream",
     "text": [
      "Curating 2024-10-01:  17%|█▋        | 3/18 [00:00<00:00, 22.43it/s]"
     ]
    },
    {
     "name": "stdout",
     "output_type": "stream",
     "text": [
      "Warning: Not enough data points after curating for GT on 2024-10-01. Skipping stock.\n",
      "Warning: Not enough data points after curating for LBTYB on 2024-10-01. Skipping stock.\n",
      "Warning: Not enough data points after curating for MLCO on 2024-10-01. Skipping stock.\n"
     ]
    },
    {
     "name": "stderr",
     "output_type": "stream",
     "text": [
      "Curating 2024-10-01:  33%|███▎      | 6/18 [00:00<00:00, 21.71it/s]"
     ]
    },
    {
     "name": "stdout",
     "output_type": "stream",
     "text": [
      "Warning: Not enough data points after curating for INTC on 2024-10-01. Skipping stock.\n",
      "Warning: Not enough data points after curating for GBDC on 2024-10-01. Skipping stock.\n"
     ]
    },
    {
     "name": "stderr",
     "output_type": "stream",
     "text": [
      "Curating 2024-10-01:  50%|█████     | 9/18 [00:00<00:00, 23.77it/s]"
     ]
    },
    {
     "name": "stdout",
     "output_type": "stream",
     "text": [
      "Warning: Not enough data points after curating for CSX on 2024-10-01. Skipping stock.\n",
      "Warning: Not enough data points after curating for LCID on 2024-10-01. Skipping stock.\n",
      "Warning: Not enough data points after curating for PSNY on 2024-10-01. Skipping stock.\n",
      "Warning: Not enough data points after curating for KHC on 2024-10-01. Skipping stock.\n"
     ]
    },
    {
     "name": "stderr",
     "output_type": "stream",
     "text": [
      "Curating 2024-10-01:  67%|██████▋   | 12/18 [00:00<00:00, 25.76it/s]"
     ]
    },
    {
     "name": "stdout",
     "output_type": "stream",
     "text": [
      "Warning: Not enough data points after curating for GEO on 2024-10-01. Skipping stock.\n"
     ]
    },
    {
     "name": "stderr",
     "output_type": "stream",
     "text": [
      "Curating 2024-10-01: 100%|██████████| 18/18 [00:01<00:00, 14.76it/s]\n"
     ]
    },
    {
     "name": "stdout",
     "output_type": "stream",
     "text": [
      "Warning: Not enough data points after curating for CXW on 2024-10-01. Skipping stock.\n",
      "Warning: Not enough data points after curating for VLY on 2024-10-01. Skipping stock.\n",
      "Warning: Not enough data points after curating for GCMG on 2024-10-01. Skipping stock.\n",
      "Warning: Not enough data points after curating for AVDX on 2024-10-01. Skipping stock.\n",
      "Warning: Not enough data points after curating for AMRX on 2024-10-01. Skipping stock.\n",
      "Successfully curated data for 1 stocks.\n",
      "\n",
      "--- Processing Time Scale: 1m ---\n",
      "Resampling to 1m and calculating log returns...\n"
     ]
    },
    {
     "name": "stderr",
     "output_type": "stream",
     "text": [
      "Resampling 1m: 100%|██████████| 1/1 [00:00<00:00, 398.81it/s]\n",
      "/tmp/ipykernel_23556/2642790735.py:89: DeprecationWarning: Use of `how='outer'` should be replaced with `how='full'`.\n",
      "  aligned_df_pl = aligned_df_pl.join(df_to_join, on=\"ts_event\", how=\"outer\", coalesce=True)\n"
     ]
    },
    {
     "name": "stdout",
     "output_type": "stream",
     "text": [
      "Aligning data across stocks...\n",
      "Not enough data (400 rows, 1 stocks) remaining after alignment and NaN handling for 1m. Skipping correlation.\n",
      "\n",
      "--- Processing Time Scale: 10ms ---\n",
      "Resampling to 10ms and calculating log returns...\n"
     ]
    },
    {
     "name": "stderr",
     "output_type": "stream",
     "text": [
      "Resampling 10ms: 100%|██████████| 1/1 [00:00<00:00, 22.38it/s]"
     ]
    },
    {
     "name": "stdout",
     "output_type": "stream",
     "text": [
      "Aligning data across stocks...\n"
     ]
    },
    {
     "name": "stderr",
     "output_type": "stream",
     "text": [
      "\n",
      "/tmp/ipykernel_23556/2642790735.py:89: DeprecationWarning: Use of `how='outer'` should be replaced with `how='full'`.\n",
      "  aligned_df_pl = aligned_df_pl.join(df_to_join, on=\"ts_event\", how=\"outer\", coalesce=True)\n"
     ]
    },
    {
     "name": "stdout",
     "output_type": "stream",
     "text": [
      "Not enough data (239093 rows, 1 stocks) remaining after alignment and NaN handling for 10ms. Skipping correlation.\n",
      "\n",
      "==================== Processing Date: 2024-10-02 ====================\n",
      "Loading and curating data for 18 stocks on 2024-10-02...\n"
     ]
    },
    {
     "name": "stderr",
     "output_type": "stream",
     "text": [
      "Curating 2024-10-02:   0%|          | 0/18 [00:00<?, ?it/s]"
     ]
    },
    {
     "name": "stdout",
     "output_type": "stream",
     "text": [
      "Warning: Not enough data points after curating for WBD on 2024-10-02. Skipping stock.\n",
      "Warning: Not enough data points after curating for AAL on 2024-10-02. Skipping stock.\n"
     ]
    },
    {
     "name": "stderr",
     "output_type": "stream",
     "text": [
      "Curating 2024-10-02:  17%|█▋        | 3/18 [00:00<00:00, 25.63it/s]"
     ]
    },
    {
     "name": "stdout",
     "output_type": "stream",
     "text": [
      "Warning: Not enough data points after curating for GT on 2024-10-02. Skipping stock.\n",
      "Warning: Not enough data points after curating for LBTYB on 2024-10-02. Skipping stock.\n",
      "Warning: Not enough data points after curating for MLCO on 2024-10-02. Skipping stock.\n"
     ]
    },
    {
     "name": "stderr",
     "output_type": "stream",
     "text": [
      "Curating 2024-10-02:  33%|███▎      | 6/18 [00:00<00:00, 23.67it/s]"
     ]
    },
    {
     "name": "stdout",
     "output_type": "stream",
     "text": [
      "Warning: Not enough data points after curating for INTC on 2024-10-02. Skipping stock.\n",
      "Warning: Not enough data points after curating for GBDC on 2024-10-02. Skipping stock.\n"
     ]
    },
    {
     "name": "stderr",
     "output_type": "stream",
     "text": [
      "Curating 2024-10-02:  50%|█████     | 9/18 [00:00<00:00, 25.64it/s]"
     ]
    },
    {
     "name": "stdout",
     "output_type": "stream",
     "text": [
      "Warning: Not enough data points after curating for CSX on 2024-10-02. Skipping stock.\n",
      "Warning: Not enough data points after curating for LCID on 2024-10-02. Skipping stock.\n",
      "Warning: Not enough data points after curating for PSNY on 2024-10-02. Skipping stock.\n",
      "Warning: Not enough data points after curating for KHC on 2024-10-02. Skipping stock.\n"
     ]
    },
    {
     "name": "stderr",
     "output_type": "stream",
     "text": [
      "Curating 2024-10-02:  67%|██████▋   | 12/18 [00:00<00:00, 26.55it/s]"
     ]
    },
    {
     "name": "stdout",
     "output_type": "stream",
     "text": [
      "Warning: Not enough data points after curating for GEO on 2024-10-02. Skipping stock.\n"
     ]
    },
    {
     "name": "stderr",
     "output_type": "stream",
     "text": [
      "Curating 2024-10-02: 100%|██████████| 18/18 [00:00<00:00, 18.50it/s]\n"
     ]
    },
    {
     "name": "stdout",
     "output_type": "stream",
     "text": [
      "Warning: Not enough data points after curating for CXW on 2024-10-02. Skipping stock.\n",
      "Warning: Not enough data points after curating for VLY on 2024-10-02. Skipping stock.\n",
      "Warning: Not enough data points after curating for GCMG on 2024-10-02. Skipping stock.\n",
      "Warning: Not enough data points after curating for AVDX on 2024-10-02. Skipping stock.\n",
      "Warning: Not enough data points after curating for AMRX on 2024-10-02. Skipping stock.\n",
      "Successfully curated data for 1 stocks.\n",
      "\n",
      "--- Processing Time Scale: 1m ---\n",
      "Resampling to 1m and calculating log returns...\n"
     ]
    },
    {
     "name": "stderr",
     "output_type": "stream",
     "text": [
      "Resampling 1m: 100%|██████████| 1/1 [00:00<00:00, 180.93it/s]\n",
      "/tmp/ipykernel_23556/2642790735.py:89: DeprecationWarning: Use of `how='outer'` should be replaced with `how='full'`.\n",
      "  aligned_df_pl = aligned_df_pl.join(df_to_join, on=\"ts_event\", how=\"outer\", coalesce=True)\n"
     ]
    },
    {
     "name": "stdout",
     "output_type": "stream",
     "text": [
      "Aligning data across stocks...\n",
      "Not enough data (384 rows, 1 stocks) remaining after alignment and NaN handling for 1m. Skipping correlation.\n",
      "\n",
      "--- Processing Time Scale: 10ms ---\n",
      "Resampling to 10ms and calculating log returns...\n"
     ]
    },
    {
     "name": "stderr",
     "output_type": "stream",
     "text": [
      "Resampling 10ms: 100%|██████████| 1/1 [00:00<00:00, 21.36it/s]\n",
      "/tmp/ipykernel_23556/2642790735.py:89: DeprecationWarning: Use of `how='outer'` should be replaced with `how='full'`.\n",
      "  aligned_df_pl = aligned_df_pl.join(df_to_join, on=\"ts_event\", how=\"outer\", coalesce=True)\n"
     ]
    },
    {
     "name": "stdout",
     "output_type": "stream",
     "text": [
      "Aligning data across stocks...\n",
      "Not enough data (170105 rows, 1 stocks) remaining after alignment and NaN handling for 10ms. Skipping correlation.\n",
      "\n",
      "==================== Processing Date: 2024-10-03 ====================\n",
      "Loading and curating data for 18 stocks on 2024-10-03...\n"
     ]
    },
    {
     "name": "stderr",
     "output_type": "stream",
     "text": [
      "Curating 2024-10-03:   0%|          | 0/18 [00:00<?, ?it/s]"
     ]
    },
    {
     "name": "stdout",
     "output_type": "stream",
     "text": [
      "Warning: Not enough data points after curating for WBD on 2024-10-03. Skipping stock.\n",
      "Warning: Not enough data points after curating for AAL on 2024-10-03. Skipping stock.\n"
     ]
    },
    {
     "name": "stderr",
     "output_type": "stream",
     "text": [
      "Curating 2024-10-03:  17%|█▋        | 3/18 [00:00<00:00, 23.96it/s]"
     ]
    },
    {
     "name": "stdout",
     "output_type": "stream",
     "text": [
      "Warning: Not enough data points after curating for GT on 2024-10-03. Skipping stock.\n",
      "Warning: Not enough data points after curating for LBTYB on 2024-10-03. Skipping stock.\n",
      "Warning: Not enough data points after curating for MLCO on 2024-10-03. Skipping stock.\n"
     ]
    },
    {
     "name": "stderr",
     "output_type": "stream",
     "text": [
      "Curating 2024-10-03:  33%|███▎      | 6/18 [00:00<00:00, 21.63it/s]"
     ]
    },
    {
     "name": "stdout",
     "output_type": "stream",
     "text": [
      "Warning: Not enough data points after curating for INTC on 2024-10-03. Skipping stock.\n",
      "Warning: Not enough data points after curating for GBDC on 2024-10-03. Skipping stock.\n"
     ]
    },
    {
     "name": "stderr",
     "output_type": "stream",
     "text": [
      "Curating 2024-10-03:  50%|█████     | 9/18 [00:00<00:00, 23.89it/s]"
     ]
    },
    {
     "name": "stdout",
     "output_type": "stream",
     "text": [
      "Warning: Not enough data points after curating for CSX on 2024-10-03. Skipping stock.\n",
      "Warning: Not enough data points after curating for LCID on 2024-10-03. Skipping stock.\n",
      "Warning: Not enough data points after curating for PSNY on 2024-10-03. Skipping stock.\n",
      "Warning: Not enough data points after curating for KHC on 2024-10-03. Skipping stock.\n"
     ]
    },
    {
     "name": "stderr",
     "output_type": "stream",
     "text": [
      "Curating 2024-10-03:  67%|██████▋   | 12/18 [00:00<00:00, 25.36it/s]"
     ]
    },
    {
     "name": "stdout",
     "output_type": "stream",
     "text": [
      "Warning: Not enough data points after curating for GEO on 2024-10-03. Skipping stock.\n"
     ]
    },
    {
     "name": "stderr",
     "output_type": "stream",
     "text": [
      "Curating 2024-10-03: 100%|██████████| 18/18 [00:00<00:00, 19.91it/s]\n"
     ]
    },
    {
     "name": "stdout",
     "output_type": "stream",
     "text": [
      "Warning: Not enough data points after curating for CXW on 2024-10-03. Skipping stock.\n",
      "Warning: Not enough data points after curating for VLY on 2024-10-03. Skipping stock.\n",
      "Warning: Not enough data points after curating for GCMG on 2024-10-03. Skipping stock.\n",
      "Warning: Not enough data points after curating for AVDX on 2024-10-03. Skipping stock.\n",
      "Warning: Not enough data points after curating for AMRX on 2024-10-03. Skipping stock.\n",
      "Successfully curated data for 1 stocks.\n",
      "\n",
      "--- Processing Time Scale: 1m ---\n",
      "Resampling to 1m and calculating log returns...\n"
     ]
    },
    {
     "name": "stderr",
     "output_type": "stream",
     "text": [
      "Resampling 1m: 100%|██████████| 1/1 [00:00<00:00, 367.18it/s]\n",
      "/tmp/ipykernel_23556/2642790735.py:89: DeprecationWarning: Use of `how='outer'` should be replaced with `how='full'`.\n",
      "  aligned_df_pl = aligned_df_pl.join(df_to_join, on=\"ts_event\", how=\"outer\", coalesce=True)\n"
     ]
    },
    {
     "name": "stdout",
     "output_type": "stream",
     "text": [
      "Aligning data across stocks...\n",
      "Not enough data (387 rows, 1 stocks) remaining after alignment and NaN handling for 1m. Skipping correlation.\n",
      "\n",
      "--- Processing Time Scale: 10ms ---\n",
      "Resampling to 10ms and calculating log returns...\n"
     ]
    },
    {
     "name": "stderr",
     "output_type": "stream",
     "text": [
      "Resampling 10ms: 100%|██████████| 1/1 [00:00<00:00, 21.91it/s]"
     ]
    },
    {
     "name": "stdout",
     "output_type": "stream",
     "text": [
      "Aligning data across stocks...\n"
     ]
    },
    {
     "name": "stderr",
     "output_type": "stream",
     "text": [
      "\n",
      "/tmp/ipykernel_23556/2642790735.py:89: DeprecationWarning: Use of `how='outer'` should be replaced with `how='full'`.\n",
      "  aligned_df_pl = aligned_df_pl.join(df_to_join, on=\"ts_event\", how=\"outer\", coalesce=True)\n"
     ]
    },
    {
     "name": "stdout",
     "output_type": "stream",
     "text": [
      "Not enough data (162103 rows, 1 stocks) remaining after alignment and NaN handling for 10ms. Skipping correlation.\n",
      "\n",
      "==================== Processing Date: 2024-10-04 ====================\n",
      "Loading and curating data for 18 stocks on 2024-10-04...\n"
     ]
    },
    {
     "name": "stderr",
     "output_type": "stream",
     "text": [
      "Curating 2024-10-04:   0%|          | 0/18 [00:00<?, ?it/s]"
     ]
    },
    {
     "name": "stdout",
     "output_type": "stream",
     "text": [
      "Warning: Not enough data points after curating for WBD on 2024-10-04. Skipping stock.\n",
      "Warning: Not enough data points after curating for AAL on 2024-10-04. Skipping stock.\n"
     ]
    },
    {
     "name": "stderr",
     "output_type": "stream",
     "text": [
      "Curating 2024-10-04:  17%|█▋        | 3/18 [00:00<00:00, 24.68it/s]"
     ]
    },
    {
     "name": "stdout",
     "output_type": "stream",
     "text": [
      "Warning: Not enough data points after curating for GT on 2024-10-04. Skipping stock.\n",
      "Warning: Not enough data points after curating for LBTYB on 2024-10-04. Skipping stock.\n",
      "Warning: Not enough data points after curating for MLCO on 2024-10-04. Skipping stock.\n"
     ]
    },
    {
     "name": "stderr",
     "output_type": "stream",
     "text": [
      "Curating 2024-10-04:  33%|███▎      | 6/18 [00:00<00:00, 24.08it/s]"
     ]
    },
    {
     "name": "stdout",
     "output_type": "stream",
     "text": [
      "Warning: Not enough data points after curating for INTC on 2024-10-04. Skipping stock.\n",
      "Warning: Not enough data points after curating for GBDC on 2024-10-04. Skipping stock.\n"
     ]
    },
    {
     "name": "stderr",
     "output_type": "stream",
     "text": [
      "Curating 2024-10-04:  50%|█████     | 9/18 [00:00<00:00, 25.80it/s]"
     ]
    },
    {
     "name": "stdout",
     "output_type": "stream",
     "text": [
      "Warning: Not enough data points after curating for CSX on 2024-10-04. Skipping stock.\n",
      "Warning: Not enough data points after curating for LCID on 2024-10-04. Skipping stock.\n",
      "Warning: Not enough data points after curating for PSNY on 2024-10-04. Skipping stock.\n",
      "Warning: Not enough data points after curating for KHC on 2024-10-04. Skipping stock.\n"
     ]
    },
    {
     "name": "stderr",
     "output_type": "stream",
     "text": [
      "Curating 2024-10-04:  67%|██████▋   | 12/18 [00:00<00:00, 26.50it/s]"
     ]
    },
    {
     "name": "stdout",
     "output_type": "stream",
     "text": [
      "Warning: Not enough data points after curating for GEO on 2024-10-04. Skipping stock.\n"
     ]
    },
    {
     "name": "stderr",
     "output_type": "stream",
     "text": [
      "Curating 2024-10-04: 100%|██████████| 18/18 [00:00<00:00, 18.57it/s]\n"
     ]
    },
    {
     "name": "stdout",
     "output_type": "stream",
     "text": [
      "Warning: Not enough data points after curating for CXW on 2024-10-04. Skipping stock.\n",
      "Warning: Not enough data points after curating for VLY on 2024-10-04. Skipping stock.\n",
      "Warning: Not enough data points after curating for GCMG on 2024-10-04. Skipping stock.\n",
      "Warning: Not enough data points after curating for AVDX on 2024-10-04. Skipping stock.\n",
      "Warning: Not enough data points after curating for AMRX on 2024-10-04. Skipping stock.\n",
      "Successfully curated data for 1 stocks.\n",
      "\n",
      "--- Processing Time Scale: 1m ---\n",
      "Resampling to 1m and calculating log returns...\n"
     ]
    },
    {
     "name": "stderr",
     "output_type": "stream",
     "text": [
      "Resampling 1m: 100%|██████████| 1/1 [00:00<00:00, 366.96it/s]\n",
      "/tmp/ipykernel_23556/2642790735.py:89: DeprecationWarning: Use of `how='outer'` should be replaced with `how='full'`.\n",
      "  aligned_df_pl = aligned_df_pl.join(df_to_join, on=\"ts_event\", how=\"outer\", coalesce=True)\n"
     ]
    },
    {
     "name": "stdout",
     "output_type": "stream",
     "text": [
      "Aligning data across stocks...\n",
      "Not enough data (375 rows, 1 stocks) remaining after alignment and NaN handling for 1m. Skipping correlation.\n",
      "\n",
      "--- Processing Time Scale: 10ms ---\n",
      "Resampling to 10ms and calculating log returns...\n"
     ]
    },
    {
     "name": "stderr",
     "output_type": "stream",
     "text": [
      "Resampling 10ms: 100%|██████████| 1/1 [00:00<00:00, 14.54it/s]\n",
      "/tmp/ipykernel_23556/2642790735.py:89: DeprecationWarning: Use of `how='outer'` should be replaced with `how='full'`.\n",
      "  aligned_df_pl = aligned_df_pl.join(df_to_join, on=\"ts_event\", how=\"outer\", coalesce=True)\n"
     ]
    },
    {
     "name": "stdout",
     "output_type": "stream",
     "text": [
      "Aligning data across stocks...\n",
      "Not enough data (172165 rows, 1 stocks) remaining after alignment and NaN handling for 10ms. Skipping correlation.\n",
      "\n",
      "==================== Processing Date: 2024-10-07 ====================\n",
      "Loading and curating data for 18 stocks on 2024-10-07...\n"
     ]
    },
    {
     "name": "stderr",
     "output_type": "stream",
     "text": [
      "Curating 2024-10-07:   0%|          | 0/18 [00:00<?, ?it/s]"
     ]
    },
    {
     "name": "stdout",
     "output_type": "stream",
     "text": [
      "Warning: Not enough data points after curating for WBD on 2024-10-07. Skipping stock.\n",
      "Warning: Not enough data points after curating for AAL on 2024-10-07. Skipping stock.\n"
     ]
    },
    {
     "name": "stderr",
     "output_type": "stream",
     "text": [
      "Curating 2024-10-07:  17%|█▋        | 3/18 [00:00<00:00, 24.43it/s]"
     ]
    },
    {
     "name": "stdout",
     "output_type": "stream",
     "text": [
      "Warning: Not enough data points after curating for GT on 2024-10-07. Skipping stock.\n",
      "Warning: Not enough data points after curating for LBTYB on 2024-10-07. Skipping stock.\n",
      "Warning: Not enough data points after curating for MLCO on 2024-10-07. Skipping stock.\n"
     ]
    },
    {
     "name": "stderr",
     "output_type": "stream",
     "text": [
      "Curating 2024-10-07:  33%|███▎      | 6/18 [00:00<00:00, 20.43it/s]"
     ]
    },
    {
     "name": "stdout",
     "output_type": "stream",
     "text": [
      "Warning: Not enough data points after curating for INTC on 2024-10-07. Skipping stock.\n",
      "Warning: Not enough data points after curating for GBDC on 2024-10-07. Skipping stock.\n"
     ]
    },
    {
     "name": "stderr",
     "output_type": "stream",
     "text": [
      "Curating 2024-10-07:  50%|█████     | 9/18 [00:00<00:00, 23.24it/s]"
     ]
    },
    {
     "name": "stdout",
     "output_type": "stream",
     "text": [
      "Warning: Not enough data points after curating for CSX on 2024-10-07. Skipping stock.\n",
      "Warning: Not enough data points after curating for LCID on 2024-10-07. Skipping stock.\n",
      "Warning: Not enough data points after curating for PSNY on 2024-10-07. Skipping stock.\n",
      "Warning: Not enough data points after curating for KHC on 2024-10-07. Skipping stock.\n"
     ]
    },
    {
     "name": "stderr",
     "output_type": "stream",
     "text": [
      "Curating 2024-10-07:  67%|██████▋   | 12/18 [00:00<00:00, 25.42it/s]"
     ]
    },
    {
     "name": "stdout",
     "output_type": "stream",
     "text": [
      "Warning: Not enough data points after curating for GEO on 2024-10-07. Skipping stock.\n"
     ]
    },
    {
     "name": "stderr",
     "output_type": "stream",
     "text": [
      "Curating 2024-10-07: 100%|██████████| 18/18 [00:01<00:00, 17.25it/s]\n"
     ]
    },
    {
     "name": "stdout",
     "output_type": "stream",
     "text": [
      "Warning: Not enough data points after curating for CXW on 2024-10-07. Skipping stock.\n",
      "Warning: Not enough data points after curating for VLY on 2024-10-07. Skipping stock.\n",
      "Warning: Not enough data points after curating for GCMG on 2024-10-07. Skipping stock.\n",
      "Warning: Not enough data points after curating for AVDX on 2024-10-07. Skipping stock.\n",
      "Warning: Not enough data points after curating for AMRX on 2024-10-07. Skipping stock.\n",
      "Successfully curated data for 1 stocks.\n",
      "\n",
      "--- Processing Time Scale: 1m ---\n",
      "Resampling to 1m and calculating log returns...\n"
     ]
    },
    {
     "name": "stderr",
     "output_type": "stream",
     "text": [
      "Resampling 1m: 100%|██████████| 1/1 [00:00<00:00, 231.84it/s]\n",
      "/tmp/ipykernel_23556/2642790735.py:89: DeprecationWarning: Use of `how='outer'` should be replaced with `how='full'`.\n",
      "  aligned_df_pl = aligned_df_pl.join(df_to_join, on=\"ts_event\", how=\"outer\", coalesce=True)\n"
     ]
    },
    {
     "name": "stdout",
     "output_type": "stream",
     "text": [
      "Aligning data across stocks...\n",
      "Not enough data (403 rows, 1 stocks) remaining after alignment and NaN handling for 1m. Skipping correlation.\n",
      "\n",
      "--- Processing Time Scale: 10ms ---\n",
      "Resampling to 10ms and calculating log returns...\n"
     ]
    },
    {
     "name": "stderr",
     "output_type": "stream",
     "text": [
      "Resampling 10ms: 100%|██████████| 1/1 [00:00<00:00, 22.23it/s]"
     ]
    },
    {
     "name": "stdout",
     "output_type": "stream",
     "text": [
      "Aligning data across stocks...\n"
     ]
    },
    {
     "name": "stderr",
     "output_type": "stream",
     "text": [
      "\n",
      "/tmp/ipykernel_23556/2642790735.py:89: DeprecationWarning: Use of `how='outer'` should be replaced with `how='full'`.\n",
      "  aligned_df_pl = aligned_df_pl.join(df_to_join, on=\"ts_event\", how=\"outer\", coalesce=True)\n"
     ]
    },
    {
     "name": "stdout",
     "output_type": "stream",
     "text": [
      "Not enough data (239547 rows, 1 stocks) remaining after alignment and NaN handling for 10ms. Skipping correlation.\n",
      "\n",
      "==================== Processing Date: 2024-10-08 ====================\n",
      "Loading and curating data for 18 stocks on 2024-10-08...\n"
     ]
    },
    {
     "name": "stderr",
     "output_type": "stream",
     "text": [
      "Curating 2024-10-08:   0%|          | 0/18 [00:00<?, ?it/s]"
     ]
    },
    {
     "name": "stdout",
     "output_type": "stream",
     "text": [
      "Warning: Not enough data points after curating for WBD on 2024-10-08. Skipping stock.\n",
      "Warning: Not enough data points after curating for AAL on 2024-10-08. Skipping stock.\n"
     ]
    },
    {
     "name": "stderr",
     "output_type": "stream",
     "text": [
      "Curating 2024-10-08:  17%|█▋        | 3/18 [00:00<00:00, 23.46it/s]"
     ]
    },
    {
     "name": "stdout",
     "output_type": "stream",
     "text": [
      "Warning: Not enough data points after curating for GT on 2024-10-08. Skipping stock.\n",
      "Warning: Not enough data points after curating for LBTYB on 2024-10-08. Skipping stock.\n",
      "Warning: Not enough data points after curating for MLCO on 2024-10-08. Skipping stock.\n"
     ]
    },
    {
     "name": "stderr",
     "output_type": "stream",
     "text": [
      "Curating 2024-10-08:  33%|███▎      | 6/18 [00:00<00:00, 21.96it/s]"
     ]
    },
    {
     "name": "stdout",
     "output_type": "stream",
     "text": [
      "Warning: Not enough data points after curating for INTC on 2024-10-08. Skipping stock.\n",
      "Warning: Not enough data points after curating for GBDC on 2024-10-08. Skipping stock.\n"
     ]
    },
    {
     "name": "stderr",
     "output_type": "stream",
     "text": [
      "Curating 2024-10-08:  50%|█████     | 9/18 [00:00<00:00, 24.90it/s]"
     ]
    },
    {
     "name": "stdout",
     "output_type": "stream",
     "text": [
      "Warning: Not enough data points after curating for CSX on 2024-10-08. Skipping stock.\n",
      "Warning: Not enough data points after curating for LCID on 2024-10-08. Skipping stock.\n",
      "Warning: Not enough data points after curating for PSNY on 2024-10-08. Skipping stock.\n",
      "Warning: Not enough data points after curating for KHC on 2024-10-08. Skipping stock.\n",
      "Warning: Not enough data points after curating for GEO on 2024-10-08. Skipping stock.\n"
     ]
    },
    {
     "name": "stderr",
     "output_type": "stream",
     "text": [
      "Curating 2024-10-08: 100%|██████████| 18/18 [00:00<00:00, 20.01it/s]\n"
     ]
    },
    {
     "name": "stdout",
     "output_type": "stream",
     "text": [
      "Warning: Not enough data points after curating for CXW on 2024-10-08. Skipping stock.\n",
      "Warning: Not enough data points after curating for VLY on 2024-10-08. Skipping stock.\n",
      "Warning: Not enough data points after curating for GCMG on 2024-10-08. Skipping stock.\n",
      "Warning: Not enough data points after curating for AVDX on 2024-10-08. Skipping stock.\n",
      "Warning: Not enough data points after curating for AMRX on 2024-10-08. Skipping stock.\n",
      "Successfully curated data for 1 stocks.\n",
      "\n",
      "--- Processing Time Scale: 1m ---\n",
      "Resampling to 1m and calculating log returns...\n"
     ]
    },
    {
     "name": "stderr",
     "output_type": "stream",
     "text": [
      "Resampling 1m: 100%|██████████| 1/1 [00:00<00:00, 429.96it/s]\n",
      "/tmp/ipykernel_23556/2642790735.py:89: DeprecationWarning: Use of `how='outer'` should be replaced with `how='full'`.\n",
      "  aligned_df_pl = aligned_df_pl.join(df_to_join, on=\"ts_event\", how=\"outer\", coalesce=True)\n"
     ]
    },
    {
     "name": "stdout",
     "output_type": "stream",
     "text": [
      "Aligning data across stocks...\n",
      "Not enough data (364 rows, 1 stocks) remaining after alignment and NaN handling for 1m. Skipping correlation.\n",
      "\n",
      "--- Processing Time Scale: 10ms ---\n",
      "Resampling to 10ms and calculating log returns...\n"
     ]
    },
    {
     "name": "stderr",
     "output_type": "stream",
     "text": [
      "Resampling 10ms: 100%|██████████| 1/1 [00:00<00:00, 20.02it/s]"
     ]
    },
    {
     "name": "stdout",
     "output_type": "stream",
     "text": [
      "Aligning data across stocks...\n"
     ]
    },
    {
     "name": "stderr",
     "output_type": "stream",
     "text": [
      "\n",
      "/tmp/ipykernel_23556/2642790735.py:89: DeprecationWarning: Use of `how='outer'` should be replaced with `how='full'`.\n",
      "  aligned_df_pl = aligned_df_pl.join(df_to_join, on=\"ts_event\", how=\"outer\", coalesce=True)\n"
     ]
    },
    {
     "name": "stdout",
     "output_type": "stream",
     "text": [
      "Not enough data (176707 rows, 1 stocks) remaining after alignment and NaN handling for 10ms. Skipping correlation.\n",
      "\n",
      "==================== Processing Date: 2024-10-09 ====================\n",
      "Loading and curating data for 18 stocks on 2024-10-09...\n"
     ]
    },
    {
     "name": "stderr",
     "output_type": "stream",
     "text": [
      "Curating 2024-10-09:   0%|          | 0/18 [00:00<?, ?it/s]"
     ]
    },
    {
     "name": "stdout",
     "output_type": "stream",
     "text": [
      "Warning: Not enough data points after curating for WBD on 2024-10-09. Skipping stock.\n",
      "Warning: Not enough data points after curating for AAL on 2024-10-09. Skipping stock.\n"
     ]
    },
    {
     "name": "stderr",
     "output_type": "stream",
     "text": [
      "Curating 2024-10-09:  17%|█▋        | 3/18 [00:00<00:00, 26.03it/s]"
     ]
    },
    {
     "name": "stdout",
     "output_type": "stream",
     "text": [
      "Warning: Not enough data points after curating for GT on 2024-10-09. Skipping stock.\n",
      "Warning: Not enough data points after curating for LBTYB on 2024-10-09. Skipping stock.\n",
      "Warning: Not enough data points after curating for MLCO on 2024-10-09. Skipping stock.\n"
     ]
    },
    {
     "name": "stderr",
     "output_type": "stream",
     "text": [
      "Curating 2024-10-09:  33%|███▎      | 6/18 [00:00<00:00, 24.49it/s]"
     ]
    },
    {
     "name": "stdout",
     "output_type": "stream",
     "text": [
      "Warning: Not enough data points after curating for INTC on 2024-10-09. Skipping stock.\n",
      "Warning: Not enough data points after curating for GBDC on 2024-10-09. Skipping stock.\n"
     ]
    },
    {
     "name": "stderr",
     "output_type": "stream",
     "text": [
      "Curating 2024-10-09:  50%|█████     | 9/18 [00:00<00:00, 25.94it/s]"
     ]
    },
    {
     "name": "stdout",
     "output_type": "stream",
     "text": [
      "Warning: Not enough data points after curating for CSX on 2024-10-09. Skipping stock.\n",
      "Warning: Not enough data points after curating for LCID on 2024-10-09. Skipping stock.\n",
      "Warning: Not enough data points after curating for PSNY on 2024-10-09. Skipping stock.\n",
      "Warning: Not enough data points after curating for KHC on 2024-10-09. Skipping stock.\n",
      "Warning: Not enough data points after curating for GEO on 2024-10-09. Skipping stock.\n"
     ]
    },
    {
     "name": "stderr",
     "output_type": "stream",
     "text": [
      "Curating 2024-10-09: 100%|██████████| 18/18 [00:00<00:00, 18.87it/s]\n"
     ]
    },
    {
     "name": "stdout",
     "output_type": "stream",
     "text": [
      "Warning: Not enough data points after curating for CXW on 2024-10-09. Skipping stock.\n",
      "Warning: Not enough data points after curating for VLY on 2024-10-09. Skipping stock.\n",
      "Warning: Not enough data points after curating for GCMG on 2024-10-09. Skipping stock.\n",
      "Warning: Not enough data points after curating for AVDX on 2024-10-09. Skipping stock.\n",
      "Warning: Not enough data points after curating for AMRX on 2024-10-09. Skipping stock.\n",
      "Successfully curated data for 1 stocks.\n",
      "\n",
      "--- Processing Time Scale: 1m ---\n",
      "Resampling to 1m and calculating log returns...\n"
     ]
    },
    {
     "name": "stderr",
     "output_type": "stream",
     "text": [
      "Resampling 1m: 100%|██████████| 1/1 [00:00<00:00, 398.32it/s]\n",
      "/tmp/ipykernel_23556/2642790735.py:89: DeprecationWarning: Use of `how='outer'` should be replaced with `how='full'`.\n",
      "  aligned_df_pl = aligned_df_pl.join(df_to_join, on=\"ts_event\", how=\"outer\", coalesce=True)\n"
     ]
    },
    {
     "name": "stdout",
     "output_type": "stream",
     "text": [
      "Aligning data across stocks...\n",
      "Not enough data (410 rows, 1 stocks) remaining after alignment and NaN handling for 1m. Skipping correlation.\n",
      "\n",
      "--- Processing Time Scale: 10ms ---\n",
      "Resampling to 10ms and calculating log returns...\n"
     ]
    },
    {
     "name": "stderr",
     "output_type": "stream",
     "text": [
      "Resampling 10ms: 100%|██████████| 1/1 [00:00<00:00, 24.12it/s]\n",
      "/tmp/ipykernel_23556/2642790735.py:89: DeprecationWarning: Use of `how='outer'` should be replaced with `how='full'`.\n",
      "  aligned_df_pl = aligned_df_pl.join(df_to_join, on=\"ts_event\", how=\"outer\", coalesce=True)\n"
     ]
    },
    {
     "name": "stdout",
     "output_type": "stream",
     "text": [
      "Aligning data across stocks...\n",
      "Not enough data (184597 rows, 1 stocks) remaining after alignment and NaN handling for 10ms. Skipping correlation.\n",
      "\n",
      "==================== Processing Date: 2024-10-10 ====================\n",
      "Loading and curating data for 18 stocks on 2024-10-10...\n"
     ]
    },
    {
     "name": "stderr",
     "output_type": "stream",
     "text": [
      "Curating 2024-10-10:  17%|█▋        | 3/18 [00:00<00:00, 27.16it/s]"
     ]
    },
    {
     "name": "stdout",
     "output_type": "stream",
     "text": [
      "Warning: Not enough data points after curating for WBD on 2024-10-10. Skipping stock.\n",
      "Warning: Not enough data points after curating for AAL on 2024-10-10. Skipping stock.\n",
      "Warning: Not enough data points after curating for GT on 2024-10-10. Skipping stock.\n",
      "Warning: Not enough data points after curating for LBTYB on 2024-10-10. Skipping stock.\n",
      "Warning: Not enough data points after curating for MLCO on 2024-10-10. Skipping stock.\n"
     ]
    },
    {
     "name": "stderr",
     "output_type": "stream",
     "text": [
      "Curating 2024-10-10:  33%|███▎      | 6/18 [00:00<00:00, 24.53it/s]"
     ]
    },
    {
     "name": "stdout",
     "output_type": "stream",
     "text": [
      "Warning: Not enough data points after curating for INTC on 2024-10-10. Skipping stock.\n",
      "Warning: Not enough data points after curating for GBDC on 2024-10-10. Skipping stock.\n",
      "Warning: Not enough data points after curating for CSX on 2024-10-10. Skipping stock.\n"
     ]
    },
    {
     "name": "stderr",
     "output_type": "stream",
     "text": [
      "Curating 2024-10-10:  56%|█████▌    | 10/18 [00:00<00:00, 27.36it/s]"
     ]
    },
    {
     "name": "stdout",
     "output_type": "stream",
     "text": [
      "Warning: Not enough data points after curating for LCID on 2024-10-10. Skipping stock.\n",
      "Warning: Not enough data points after curating for PSNY on 2024-10-10. Skipping stock.\n",
      "Warning: Not enough data points after curating for KHC on 2024-10-10. Skipping stock.\n",
      "Warning: Not enough data points after curating for GEO on 2024-10-10. Skipping stock.\n"
     ]
    },
    {
     "name": "stderr",
     "output_type": "stream",
     "text": [
      "Curating 2024-10-10: 100%|██████████| 18/18 [00:00<00:00, 19.71it/s]\n"
     ]
    },
    {
     "name": "stdout",
     "output_type": "stream",
     "text": [
      "Warning: Not enough data points after curating for CXW on 2024-10-10. Skipping stock.\n",
      "Warning: Not enough data points after curating for VLY on 2024-10-10. Skipping stock.\n",
      "Warning: Not enough data points after curating for GCMG on 2024-10-10. Skipping stock.\n",
      "Warning: Not enough data points after curating for AVDX on 2024-10-10. Skipping stock.\n",
      "Warning: Not enough data points after curating for AMRX on 2024-10-10. Skipping stock.\n",
      "Successfully curated data for 1 stocks.\n",
      "\n",
      "--- Processing Time Scale: 1m ---\n",
      "Resampling to 1m and calculating log returns...\n"
     ]
    },
    {
     "name": "stderr",
     "output_type": "stream",
     "text": [
      "Resampling 1m: 100%|██████████| 1/1 [00:00<00:00, 408.48it/s]\n",
      "/tmp/ipykernel_23556/2642790735.py:89: DeprecationWarning: Use of `how='outer'` should be replaced with `how='full'`.\n",
      "  aligned_df_pl = aligned_df_pl.join(df_to_join, on=\"ts_event\", how=\"outer\", coalesce=True)\n"
     ]
    },
    {
     "name": "stdout",
     "output_type": "stream",
     "text": [
      "Aligning data across stocks...\n",
      "Not enough data (357 rows, 1 stocks) remaining after alignment and NaN handling for 1m. Skipping correlation.\n",
      "\n",
      "--- Processing Time Scale: 10ms ---\n",
      "Resampling to 10ms and calculating log returns...\n"
     ]
    },
    {
     "name": "stderr",
     "output_type": "stream",
     "text": [
      "Resampling 10ms: 100%|██████████| 1/1 [00:00<00:00, 22.58it/s]"
     ]
    },
    {
     "name": "stdout",
     "output_type": "stream",
     "text": [
      "Aligning data across stocks...\n"
     ]
    },
    {
     "name": "stderr",
     "output_type": "stream",
     "text": [
      "\n",
      "/tmp/ipykernel_23556/2642790735.py:89: DeprecationWarning: Use of `how='outer'` should be replaced with `how='full'`.\n",
      "  aligned_df_pl = aligned_df_pl.join(df_to_join, on=\"ts_event\", how=\"outer\", coalesce=True)\n"
     ]
    },
    {
     "name": "stdout",
     "output_type": "stream",
     "text": [
      "Not enough data (206696 rows, 1 stocks) remaining after alignment and NaN handling for 10ms. Skipping correlation.\n",
      "\n",
      "==================== Processing Date: 2024-10-11 ====================\n",
      "Loading and curating data for 18 stocks on 2024-10-11...\n"
     ]
    },
    {
     "name": "stderr",
     "output_type": "stream",
     "text": [
      "Curating 2024-10-11:   0%|          | 0/18 [00:00<?, ?it/s]"
     ]
    },
    {
     "name": "stdout",
     "output_type": "stream",
     "text": [
      "Warning: Not enough data points after curating for WBD on 2024-10-11. Skipping stock.\n",
      "Warning: Not enough data points after curating for AAL on 2024-10-11. Skipping stock.\n"
     ]
    },
    {
     "name": "stderr",
     "output_type": "stream",
     "text": [
      "Curating 2024-10-11:  17%|█▋        | 3/18 [00:00<00:00, 26.08it/s]"
     ]
    },
    {
     "name": "stdout",
     "output_type": "stream",
     "text": [
      "Warning: Not enough data points after curating for GT on 2024-10-11. Skipping stock.\n",
      "Warning: Not enough data points after curating for LBTYB on 2024-10-11. Skipping stock.\n",
      "Warning: Not enough data points after curating for MLCO on 2024-10-11. Skipping stock.\n"
     ]
    },
    {
     "name": "stderr",
     "output_type": "stream",
     "text": [
      "Curating 2024-10-11:  33%|███▎      | 6/18 [00:00<00:00, 24.73it/s]"
     ]
    },
    {
     "name": "stdout",
     "output_type": "stream",
     "text": [
      "Warning: Not enough data points after curating for INTC on 2024-10-11. Skipping stock.\n",
      "Warning: Not enough data points after curating for GBDC on 2024-10-11. Skipping stock.\n",
      "Warning: Not enough data points after curating for CSX on 2024-10-11. Skipping stock.\n"
     ]
    },
    {
     "name": "stderr",
     "output_type": "stream",
     "text": [
      "Curating 2024-10-11:  56%|█████▌    | 10/18 [00:00<00:00, 28.85it/s]"
     ]
    },
    {
     "name": "stdout",
     "output_type": "stream",
     "text": [
      "Warning: Not enough data points after curating for LCID on 2024-10-11. Skipping stock.\n",
      "Warning: Not enough data points after curating for PSNY on 2024-10-11. Skipping stock.\n",
      "Warning: Not enough data points after curating for KHC on 2024-10-11. Skipping stock.\n",
      "Warning: Not enough data points after curating for GEO on 2024-10-11. Skipping stock.\n"
     ]
    },
    {
     "name": "stderr",
     "output_type": "stream",
     "text": [
      "Curating 2024-10-11: 100%|██████████| 18/18 [00:00<00:00, 21.34it/s]\n"
     ]
    },
    {
     "name": "stdout",
     "output_type": "stream",
     "text": [
      "Warning: Not enough data points after curating for CXW on 2024-10-11. Skipping stock.\n",
      "Warning: Not enough data points after curating for VLY on 2024-10-11. Skipping stock.\n",
      "Warning: Not enough data points after curating for GCMG on 2024-10-11. Skipping stock.\n",
      "Warning: Not enough data points after curating for AVDX on 2024-10-11. Skipping stock.\n",
      "Warning: Not enough data points after curating for AMRX on 2024-10-11. Skipping stock.\n",
      "Successfully curated data for 1 stocks.\n",
      "\n",
      "--- Processing Time Scale: 1m ---\n",
      "Resampling to 1m and calculating log returns...\n"
     ]
    },
    {
     "name": "stderr",
     "output_type": "stream",
     "text": [
      "Resampling 1m: 100%|██████████| 1/1 [00:00<00:00, 505.89it/s]\n",
      "/tmp/ipykernel_23556/2642790735.py:89: DeprecationWarning: Use of `how='outer'` should be replaced with `how='full'`.\n",
      "  aligned_df_pl = aligned_df_pl.join(df_to_join, on=\"ts_event\", how=\"outer\", coalesce=True)\n"
     ]
    },
    {
     "name": "stdout",
     "output_type": "stream",
     "text": [
      "Aligning data across stocks...\n",
      "Not enough data (355 rows, 1 stocks) remaining after alignment and NaN handling for 1m. Skipping correlation.\n",
      "\n",
      "--- Processing Time Scale: 10ms ---\n",
      "Resampling to 10ms and calculating log returns...\n"
     ]
    },
    {
     "name": "stderr",
     "output_type": "stream",
     "text": [
      "Resampling 10ms: 100%|██████████| 1/1 [00:00<00:00, 25.18it/s]\n",
      "/tmp/ipykernel_23556/2642790735.py:89: DeprecationWarning: Use of `how='outer'` should be replaced with `how='full'`.\n",
      "  aligned_df_pl = aligned_df_pl.join(df_to_join, on=\"ts_event\", how=\"outer\", coalesce=True)\n"
     ]
    },
    {
     "name": "stdout",
     "output_type": "stream",
     "text": [
      "Aligning data across stocks...\n",
      "Not enough data (165793 rows, 1 stocks) remaining after alignment and NaN handling for 10ms. Skipping correlation.\n",
      "\n",
      "==================== Processing Date: 2024-10-14 ====================\n",
      "Loading and curating data for 18 stocks on 2024-10-14...\n"
     ]
    },
    {
     "name": "stderr",
     "output_type": "stream",
     "text": [
      "Curating 2024-10-14:  22%|██▏       | 4/18 [00:00<00:00, 33.17it/s]"
     ]
    },
    {
     "name": "stdout",
     "output_type": "stream",
     "text": [
      "Warning: Not enough data points after curating for WBD on 2024-10-14. Skipping stock.\n",
      "Warning: Not enough data points after curating for AAL on 2024-10-14. Skipping stock.\n",
      "Warning: Not enough data points after curating for GT on 2024-10-14. Skipping stock.\n",
      "Warning: Not enough data points after curating for LBTYB on 2024-10-14. Skipping stock.\n",
      "Warning: Not enough data points after curating for MLCO on 2024-10-14. Skipping stock.\n",
      "Warning: Not enough data points after curating for INTC on 2024-10-14. Skipping stock.\n"
     ]
    },
    {
     "name": "stderr",
     "output_type": "stream",
     "text": [
      "Curating 2024-10-14:  44%|████▍     | 8/18 [00:00<00:00, 28.18it/s]"
     ]
    },
    {
     "name": "stdout",
     "output_type": "stream",
     "text": [
      "Warning: Not enough data points after curating for GBDC on 2024-10-14. Skipping stock.\n",
      "Warning: Not enough data points after curating for CSX on 2024-10-14. Skipping stock.\n",
      "Warning: Not enough data points after curating for LCID on 2024-10-14. Skipping stock.\n",
      "Warning: Not enough data points after curating for PSNY on 2024-10-14. Skipping stock.\n"
     ]
    },
    {
     "name": "stderr",
     "output_type": "stream",
     "text": [
      "Curating 2024-10-14:  61%|██████    | 11/18 [00:00<00:00, 28.64it/s]"
     ]
    },
    {
     "name": "stdout",
     "output_type": "stream",
     "text": [
      "Warning: Not enough data points after curating for KHC on 2024-10-14. Skipping stock.\n",
      "Warning: Not enough data points after curating for GEO on 2024-10-14. Skipping stock.\n"
     ]
    },
    {
     "name": "stderr",
     "output_type": "stream",
     "text": [
      "Curating 2024-10-14: 100%|██████████| 18/18 [00:00<00:00, 19.57it/s]\n"
     ]
    },
    {
     "name": "stdout",
     "output_type": "stream",
     "text": [
      "Warning: Not enough data points after curating for CXW on 2024-10-14. Skipping stock.\n",
      "Warning: Not enough data points after curating for VLY on 2024-10-14. Skipping stock.\n",
      "Warning: Not enough data points after curating for GCMG on 2024-10-14. Skipping stock.\n",
      "Warning: Not enough data points after curating for AVDX on 2024-10-14. Skipping stock.\n",
      "Warning: Not enough data points after curating for AMRX on 2024-10-14. Skipping stock.\n",
      "Successfully curated data for 1 stocks.\n",
      "\n",
      "--- Processing Time Scale: 1m ---\n",
      "Resampling to 1m and calculating log returns...\n"
     ]
    },
    {
     "name": "stderr",
     "output_type": "stream",
     "text": [
      "Resampling 1m: 100%|██████████| 1/1 [00:00<00:00, 420.86it/s]\n",
      "/tmp/ipykernel_23556/2642790735.py:89: DeprecationWarning: Use of `how='outer'` should be replaced with `how='full'`.\n",
      "  aligned_df_pl = aligned_df_pl.join(df_to_join, on=\"ts_event\", how=\"outer\", coalesce=True)\n"
     ]
    },
    {
     "name": "stdout",
     "output_type": "stream",
     "text": [
      "Aligning data across stocks...\n",
      "Not enough data (371 rows, 1 stocks) remaining after alignment and NaN handling for 1m. Skipping correlation.\n",
      "\n",
      "--- Processing Time Scale: 10ms ---\n",
      "Resampling to 10ms and calculating log returns...\n"
     ]
    },
    {
     "name": "stderr",
     "output_type": "stream",
     "text": [
      "Resampling 10ms: 100%|██████████| 1/1 [00:00<00:00, 24.89it/s]\n",
      "/tmp/ipykernel_23556/2642790735.py:89: DeprecationWarning: Use of `how='outer'` should be replaced with `how='full'`.\n",
      "  aligned_df_pl = aligned_df_pl.join(df_to_join, on=\"ts_event\", how=\"outer\", coalesce=True)\n"
     ]
    },
    {
     "name": "stdout",
     "output_type": "stream",
     "text": [
      "Aligning data across stocks...\n",
      "Not enough data (153860 rows, 1 stocks) remaining after alignment and NaN handling for 10ms. Skipping correlation.\n",
      "\n",
      "==================== Processing Date: 2024-10-15 ====================\n",
      "Loading and curating data for 18 stocks on 2024-10-15...\n"
     ]
    },
    {
     "name": "stderr",
     "output_type": "stream",
     "text": [
      "Curating 2024-10-15:  17%|█▋        | 3/18 [00:00<00:00, 27.43it/s]"
     ]
    },
    {
     "name": "stdout",
     "output_type": "stream",
     "text": [
      "Warning: Not enough data points after curating for WBD on 2024-10-15. Skipping stock.\n",
      "Warning: Not enough data points after curating for AAL on 2024-10-15. Skipping stock.\n",
      "Warning: Not enough data points after curating for GT on 2024-10-15. Skipping stock.\n",
      "Warning: Not enough data points after curating for LBTYB on 2024-10-15. Skipping stock.\n",
      "Warning: Not enough data points after curating for MLCO on 2024-10-15. Skipping stock.\n"
     ]
    },
    {
     "name": "stderr",
     "output_type": "stream",
     "text": [
      "Curating 2024-10-15:  33%|███▎      | 6/18 [00:00<00:00, 24.69it/s]"
     ]
    },
    {
     "name": "stdout",
     "output_type": "stream",
     "text": [
      "Warning: Not enough data points after curating for INTC on 2024-10-15. Skipping stock.\n",
      "Warning: Not enough data points after curating for GBDC on 2024-10-15. Skipping stock.\n",
      "Warning: Not enough data points after curating for CSX on 2024-10-15. Skipping stock.\n"
     ]
    },
    {
     "name": "stderr",
     "output_type": "stream",
     "text": [
      "Curating 2024-10-15:  56%|█████▌    | 10/18 [00:00<00:00, 27.69it/s]"
     ]
    },
    {
     "name": "stdout",
     "output_type": "stream",
     "text": [
      "Warning: Not enough data points after curating for LCID on 2024-10-15. Skipping stock.\n",
      "Warning: Not enough data points after curating for PSNY on 2024-10-15. Skipping stock.\n",
      "Warning: Not enough data points after curating for KHC on 2024-10-15. Skipping stock.\n",
      "Warning: Not enough data points after curating for GEO on 2024-10-15. Skipping stock.\n"
     ]
    },
    {
     "name": "stderr",
     "output_type": "stream",
     "text": [
      "Curating 2024-10-15: 100%|██████████| 18/18 [00:01<00:00, 17.49it/s]\n"
     ]
    },
    {
     "name": "stdout",
     "output_type": "stream",
     "text": [
      "Warning: Not enough data points after curating for CXW on 2024-10-15. Skipping stock.\n",
      "Warning: Not enough data points after curating for VLY on 2024-10-15. Skipping stock.\n",
      "Warning: Not enough data points after curating for GCMG on 2024-10-15. Skipping stock.\n",
      "Warning: Not enough data points after curating for AVDX on 2024-10-15. Skipping stock.\n",
      "Warning: Not enough data points after curating for AMRX on 2024-10-15. Skipping stock.\n",
      "Successfully curated data for 1 stocks.\n",
      "\n",
      "--- Processing Time Scale: 1m ---\n",
      "Resampling to 1m and calculating log returns...\n"
     ]
    },
    {
     "name": "stderr",
     "output_type": "stream",
     "text": [
      "Resampling 1m: 100%|██████████| 1/1 [00:00<00:00, 321.67it/s]\n",
      "/tmp/ipykernel_23556/2642790735.py:89: DeprecationWarning: Use of `how='outer'` should be replaced with `how='full'`.\n",
      "  aligned_df_pl = aligned_df_pl.join(df_to_join, on=\"ts_event\", how=\"outer\", coalesce=True)\n"
     ]
    },
    {
     "name": "stdout",
     "output_type": "stream",
     "text": [
      "Aligning data across stocks...\n",
      "Not enough data (373 rows, 1 stocks) remaining after alignment and NaN handling for 1m. Skipping correlation.\n",
      "\n",
      "--- Processing Time Scale: 10ms ---\n",
      "Resampling to 10ms and calculating log returns...\n"
     ]
    },
    {
     "name": "stderr",
     "output_type": "stream",
     "text": [
      "Resampling 10ms: 100%|██████████| 1/1 [00:00<00:00, 25.37it/s]"
     ]
    },
    {
     "name": "stdout",
     "output_type": "stream",
     "text": [
      "Aligning data across stocks...\n"
     ]
    },
    {
     "name": "stderr",
     "output_type": "stream",
     "text": [
      "\n",
      "/tmp/ipykernel_23556/2642790735.py:89: DeprecationWarning: Use of `how='outer'` should be replaced with `how='full'`.\n",
      "  aligned_df_pl = aligned_df_pl.join(df_to_join, on=\"ts_event\", how=\"outer\", coalesce=True)\n"
     ]
    },
    {
     "name": "stdout",
     "output_type": "stream",
     "text": [
      "Not enough data (234477 rows, 1 stocks) remaining after alignment and NaN handling for 10ms. Skipping correlation.\n",
      "\n",
      "==================== Processing Date: 2024-10-16 ====================\n",
      "Loading and curating data for 18 stocks on 2024-10-16...\n"
     ]
    },
    {
     "name": "stderr",
     "output_type": "stream",
     "text": [
      "Curating 2024-10-16:  17%|█▋        | 3/18 [00:00<00:00, 26.02it/s]"
     ]
    },
    {
     "name": "stdout",
     "output_type": "stream",
     "text": [
      "Warning: Not enough data points after curating for WBD on 2024-10-16. Skipping stock.\n",
      "Warning: Not enough data points after curating for AAL on 2024-10-16. Skipping stock.\n",
      "Warning: Not enough data points after curating for GT on 2024-10-16. Skipping stock.\n",
      "Warning: Not enough data points after curating for LBTYB on 2024-10-16. Skipping stock.\n",
      "Warning: Not enough data points after curating for MLCO on 2024-10-16. Skipping stock.\n"
     ]
    },
    {
     "name": "stderr",
     "output_type": "stream",
     "text": [
      "Curating 2024-10-16:  33%|███▎      | 6/18 [00:00<00:00, 25.12it/s]"
     ]
    },
    {
     "name": "stdout",
     "output_type": "stream",
     "text": [
      "Warning: Not enough data points after curating for INTC on 2024-10-16. Skipping stock.\n",
      "Warning: Not enough data points after curating for GBDC on 2024-10-16. Skipping stock.\n",
      "Warning: Not enough data points after curating for CSX on 2024-10-16. Skipping stock.\n",
      "Warning: Not enough data points after curating for LCID on 2024-10-16. Skipping stock.\n"
     ]
    },
    {
     "name": "stderr",
     "output_type": "stream",
     "text": [
      "Curating 2024-10-16:  56%|█████▌    | 10/18 [00:00<00:00, 28.46it/s]"
     ]
    },
    {
     "name": "stdout",
     "output_type": "stream",
     "text": [
      "Warning: Not enough data points after curating for PSNY on 2024-10-16. Skipping stock.\n",
      "Warning: Not enough data points after curating for KHC on 2024-10-16. Skipping stock.\n",
      "Warning: Not enough data points after curating for GEO on 2024-10-16. Skipping stock.\n"
     ]
    },
    {
     "name": "stderr",
     "output_type": "stream",
     "text": [
      "Curating 2024-10-16: 100%|██████████| 18/18 [00:00<00:00, 20.90it/s]\n"
     ]
    },
    {
     "name": "stdout",
     "output_type": "stream",
     "text": [
      "Warning: Not enough data points after curating for CXW on 2024-10-16. Skipping stock.\n",
      "Warning: Not enough data points after curating for VLY on 2024-10-16. Skipping stock.\n",
      "Warning: Not enough data points after curating for GCMG on 2024-10-16. Skipping stock.\n",
      "Warning: Not enough data points after curating for AVDX on 2024-10-16. Skipping stock.\n",
      "Warning: Not enough data points after curating for AMRX on 2024-10-16. Skipping stock.\n",
      "Successfully curated data for 1 stocks.\n",
      "\n",
      "--- Processing Time Scale: 1m ---\n",
      "Resampling to 1m and calculating log returns...\n"
     ]
    },
    {
     "name": "stderr",
     "output_type": "stream",
     "text": [
      "Resampling 1m: 100%|██████████| 1/1 [00:00<00:00, 426.21it/s]\n",
      "/tmp/ipykernel_23556/2642790735.py:89: DeprecationWarning: Use of `how='outer'` should be replaced with `how='full'`.\n",
      "  aligned_df_pl = aligned_df_pl.join(df_to_join, on=\"ts_event\", how=\"outer\", coalesce=True)\n"
     ]
    },
    {
     "name": "stdout",
     "output_type": "stream",
     "text": [
      "Aligning data across stocks...\n",
      "Not enough data (378 rows, 1 stocks) remaining after alignment and NaN handling for 1m. Skipping correlation.\n",
      "\n",
      "--- Processing Time Scale: 10ms ---\n",
      "Resampling to 10ms and calculating log returns...\n"
     ]
    },
    {
     "name": "stderr",
     "output_type": "stream",
     "text": [
      "Resampling 10ms: 100%|██████████| 1/1 [00:00<00:00, 28.72it/s]\n",
      "/tmp/ipykernel_23556/2642790735.py:89: DeprecationWarning: Use of `how='outer'` should be replaced with `how='full'`.\n",
      "  aligned_df_pl = aligned_df_pl.join(df_to_join, on=\"ts_event\", how=\"outer\", coalesce=True)\n"
     ]
    },
    {
     "name": "stdout",
     "output_type": "stream",
     "text": [
      "Aligning data across stocks...\n",
      "Not enough data (177488 rows, 1 stocks) remaining after alignment and NaN handling for 10ms. Skipping correlation.\n",
      "\n",
      "==================== Processing Date: 2024-10-17 ====================\n",
      "Loading and curating data for 18 stocks on 2024-10-17...\n"
     ]
    },
    {
     "name": "stderr",
     "output_type": "stream",
     "text": [
      "Curating 2024-10-17:  17%|█▋        | 3/18 [00:00<00:00, 29.20it/s]"
     ]
    },
    {
     "name": "stdout",
     "output_type": "stream",
     "text": [
      "Warning: Not enough data points after curating for WBD on 2024-10-17. Skipping stock.\n",
      "Warning: Not enough data points after curating for AAL on 2024-10-17. Skipping stock.\n",
      "Warning: Not enough data points after curating for GT on 2024-10-17. Skipping stock.\n",
      "Warning: Not enough data points after curating for LBTYB on 2024-10-17. Skipping stock.\n",
      "Warning: Not enough data points after curating for MLCO on 2024-10-17. Skipping stock.\n"
     ]
    },
    {
     "name": "stderr",
     "output_type": "stream",
     "text": [
      "Curating 2024-10-17:  33%|███▎      | 6/18 [00:00<00:00, 26.47it/s]"
     ]
    },
    {
     "name": "stdout",
     "output_type": "stream",
     "text": [
      "Warning: Not enough data points after curating for INTC on 2024-10-17. Skipping stock.\n",
      "Warning: Not enough data points after curating for GBDC on 2024-10-17. Skipping stock.\n",
      "Warning: Not enough data points after curating for CSX on 2024-10-17. Skipping stock.\n"
     ]
    },
    {
     "name": "stderr",
     "output_type": "stream",
     "text": [
      "Curating 2024-10-17:  50%|█████     | 9/18 [00:00<00:00, 25.17it/s]"
     ]
    },
    {
     "name": "stdout",
     "output_type": "stream",
     "text": [
      "Warning: Not enough data points after curating for LCID on 2024-10-17. Skipping stock.\n",
      "Warning: Not enough data points after curating for PSNY on 2024-10-17. Skipping stock.\n",
      "Warning: Not enough data points after curating for KHC on 2024-10-17. Skipping stock.\n",
      "Warning: Not enough data points after curating for GEO on 2024-10-17. Skipping stock.\n"
     ]
    },
    {
     "name": "stderr",
     "output_type": "stream",
     "text": [
      "Curating 2024-10-17: 100%|██████████| 18/18 [00:00<00:00, 19.97it/s]\n"
     ]
    },
    {
     "name": "stdout",
     "output_type": "stream",
     "text": [
      "Warning: Not enough data points after curating for CXW on 2024-10-17. Skipping stock.\n",
      "Warning: Not enough data points after curating for VLY on 2024-10-17. Skipping stock.\n",
      "Warning: Not enough data points after curating for GCMG on 2024-10-17. Skipping stock.\n",
      "Warning: Not enough data points after curating for AVDX on 2024-10-17. Skipping stock.\n",
      "Warning: Not enough data points after curating for AMRX on 2024-10-17. Skipping stock.\n",
      "Successfully curated data for 1 stocks.\n",
      "\n",
      "--- Processing Time Scale: 1m ---\n",
      "Resampling to 1m and calculating log returns...\n"
     ]
    },
    {
     "name": "stderr",
     "output_type": "stream",
     "text": [
      "Resampling 1m: 100%|██████████| 1/1 [00:00<00:00, 368.99it/s]\n",
      "/tmp/ipykernel_23556/2642790735.py:89: DeprecationWarning: Use of `how='outer'` should be replaced with `how='full'`.\n",
      "  aligned_df_pl = aligned_df_pl.join(df_to_join, on=\"ts_event\", how=\"outer\", coalesce=True)\n"
     ]
    },
    {
     "name": "stdout",
     "output_type": "stream",
     "text": [
      "Aligning data across stocks...\n",
      "Not enough data (398 rows, 1 stocks) remaining after alignment and NaN handling for 1m. Skipping correlation.\n",
      "\n",
      "--- Processing Time Scale: 10ms ---\n",
      "Resampling to 10ms and calculating log returns...\n"
     ]
    },
    {
     "name": "stderr",
     "output_type": "stream",
     "text": [
      "Resampling 10ms: 100%|██████████| 1/1 [00:00<00:00, 26.62it/s]\n",
      "/tmp/ipykernel_23556/2642790735.py:89: DeprecationWarning: Use of `how='outer'` should be replaced with `how='full'`.\n",
      "  aligned_df_pl = aligned_df_pl.join(df_to_join, on=\"ts_event\", how=\"outer\", coalesce=True)\n"
     ]
    },
    {
     "name": "stdout",
     "output_type": "stream",
     "text": [
      "Aligning data across stocks...\n",
      "Not enough data (215105 rows, 1 stocks) remaining after alignment and NaN handling for 10ms. Skipping correlation.\n",
      "\n",
      "==================== Processing Date: 2024-10-18 ====================\n",
      "Loading and curating data for 18 stocks on 2024-10-18...\n"
     ]
    },
    {
     "name": "stderr",
     "output_type": "stream",
     "text": [
      "Curating 2024-10-18:  22%|██▏       | 4/18 [00:00<00:00, 34.91it/s]"
     ]
    },
    {
     "name": "stdout",
     "output_type": "stream",
     "text": [
      "Warning: Not enough data points after curating for WBD on 2024-10-18. Skipping stock.\n",
      "Warning: Not enough data points after curating for AAL on 2024-10-18. Skipping stock.\n",
      "Warning: Not enough data points after curating for GT on 2024-10-18. Skipping stock.\n",
      "Warning: Not enough data points after curating for LBTYB on 2024-10-18. Skipping stock.\n",
      "Warning: Not enough data points after curating for MLCO on 2024-10-18. Skipping stock.\n",
      "Warning: Not enough data points after curating for INTC on 2024-10-18. Skipping stock.\n",
      "Warning: Not enough data points after curating for GBDC on 2024-10-18. Skipping stock.\n"
     ]
    },
    {
     "name": "stderr",
     "output_type": "stream",
     "text": [
      "Curating 2024-10-18:  44%|████▍     | 8/18 [00:00<00:00, 31.09it/s]"
     ]
    },
    {
     "name": "stdout",
     "output_type": "stream",
     "text": [
      "Warning: Not enough data points after curating for CSX on 2024-10-18. Skipping stock.\n",
      "Warning: Not enough data points after curating for LCID on 2024-10-18. Skipping stock.\n",
      "Warning: Not enough data points after curating for PSNY on 2024-10-18. Skipping stock.\n",
      "Warning: Not enough data points after curating for KHC on 2024-10-18. Skipping stock.\n"
     ]
    },
    {
     "name": "stderr",
     "output_type": "stream",
     "text": [
      "Curating 2024-10-18:  67%|██████▋   | 12/18 [00:00<00:00, 31.98it/s]"
     ]
    },
    {
     "name": "stdout",
     "output_type": "stream",
     "text": [
      "Warning: Not enough data points after curating for GEO on 2024-10-18. Skipping stock.\n"
     ]
    },
    {
     "name": "stderr",
     "output_type": "stream",
     "text": [
      "Curating 2024-10-18: 100%|██████████| 18/18 [00:00<00:00, 23.76it/s]\n"
     ]
    },
    {
     "name": "stdout",
     "output_type": "stream",
     "text": [
      "Warning: Not enough data points after curating for CXW on 2024-10-18. Skipping stock.\n",
      "Warning: Not enough data points after curating for VLY on 2024-10-18. Skipping stock.\n",
      "Warning: Not enough data points after curating for GCMG on 2024-10-18. Skipping stock.\n",
      "Warning: Not enough data points after curating for AVDX on 2024-10-18. Skipping stock.\n",
      "Warning: Not enough data points after curating for AMRX on 2024-10-18. Skipping stock.\n",
      "Successfully curated data for 1 stocks.\n",
      "\n",
      "--- Processing Time Scale: 1m ---\n",
      "Resampling to 1m and calculating log returns...\n"
     ]
    },
    {
     "name": "stderr",
     "output_type": "stream",
     "text": [
      "Resampling 1m: 100%|██████████| 1/1 [00:00<00:00, 348.16it/s]\n",
      "/tmp/ipykernel_23556/2642790735.py:89: DeprecationWarning: Use of `how='outer'` should be replaced with `how='full'`.\n",
      "  aligned_df_pl = aligned_df_pl.join(df_to_join, on=\"ts_event\", how=\"outer\", coalesce=True)\n"
     ]
    },
    {
     "name": "stdout",
     "output_type": "stream",
     "text": [
      "Aligning data across stocks...\n",
      "Not enough data (351 rows, 1 stocks) remaining after alignment and NaN handling for 1m. Skipping correlation.\n",
      "\n",
      "--- Processing Time Scale: 10ms ---\n",
      "Resampling to 10ms and calculating log returns...\n"
     ]
    },
    {
     "name": "stderr",
     "output_type": "stream",
     "text": [
      "Resampling 10ms: 100%|██████████| 1/1 [00:00<00:00, 21.52it/s]\n",
      "/tmp/ipykernel_23556/2642790735.py:89: DeprecationWarning: Use of `how='outer'` should be replaced with `how='full'`.\n",
      "  aligned_df_pl = aligned_df_pl.join(df_to_join, on=\"ts_event\", how=\"outer\", coalesce=True)\n"
     ]
    },
    {
     "name": "stdout",
     "output_type": "stream",
     "text": [
      "Aligning data across stocks...\n",
      "Not enough data (143807 rows, 1 stocks) remaining after alignment and NaN handling for 10ms. Skipping correlation.\n",
      "\n",
      "==================== Processing Date: 2024-10-21 ====================\n",
      "Loading and curating data for 18 stocks on 2024-10-21...\n"
     ]
    },
    {
     "name": "stderr",
     "output_type": "stream",
     "text": [
      "Curating 2024-10-21:  17%|█▋        | 3/18 [00:00<00:00, 29.75it/s]"
     ]
    },
    {
     "name": "stdout",
     "output_type": "stream",
     "text": [
      "Warning: Not enough data points after curating for WBD on 2024-10-21. Skipping stock.\n",
      "Warning: Not enough data points after curating for AAL on 2024-10-21. Skipping stock.\n",
      "Warning: Not enough data points after curating for GT on 2024-10-21. Skipping stock.\n",
      "Warning: Not enough data points after curating for LBTYB on 2024-10-21. Skipping stock.\n",
      "Warning: Not enough data points after curating for MLCO on 2024-10-21. Skipping stock.\n"
     ]
    },
    {
     "name": "stderr",
     "output_type": "stream",
     "text": [
      "Curating 2024-10-21:  33%|███▎      | 6/18 [00:00<00:00, 26.07it/s]"
     ]
    },
    {
     "name": "stdout",
     "output_type": "stream",
     "text": [
      "Warning: Not enough data points after curating for INTC on 2024-10-21. Skipping stock.\n",
      "Warning: Not enough data points after curating for GBDC on 2024-10-21. Skipping stock.\n",
      "Warning: Not enough data points after curating for CSX on 2024-10-21. Skipping stock.\n",
      "Warning: Not enough data points after curating for LCID on 2024-10-21. Skipping stock.\n"
     ]
    },
    {
     "name": "stderr",
     "output_type": "stream",
     "text": [
      "Curating 2024-10-21:  56%|█████▌    | 10/18 [00:00<00:00, 30.40it/s]"
     ]
    },
    {
     "name": "stdout",
     "output_type": "stream",
     "text": [
      "Warning: Not enough data points after curating for PSNY on 2024-10-21. Skipping stock.\n",
      "Warning: Not enough data points after curating for KHC on 2024-10-21. Skipping stock.\n",
      "Warning: Not enough data points after curating for GEO on 2024-10-21. Skipping stock.\n"
     ]
    },
    {
     "name": "stderr",
     "output_type": "stream",
     "text": [
      "Curating 2024-10-21: 100%|██████████| 18/18 [00:00<00:00, 22.89it/s]\n"
     ]
    },
    {
     "name": "stdout",
     "output_type": "stream",
     "text": [
      "Warning: Not enough data points after curating for CXW on 2024-10-21. Skipping stock.\n",
      "Warning: Not enough data points after curating for VLY on 2024-10-21. Skipping stock.\n",
      "Warning: Not enough data points after curating for GCMG on 2024-10-21. Skipping stock.\n",
      "Warning: Not enough data points after curating for AVDX on 2024-10-21. Skipping stock.\n",
      "Warning: Not enough data points after curating for AMRX on 2024-10-21. Skipping stock.\n",
      "Successfully curated data for 1 stocks.\n",
      "\n",
      "--- Processing Time Scale: 1m ---\n",
      "Resampling to 1m and calculating log returns...\n"
     ]
    },
    {
     "name": "stderr",
     "output_type": "stream",
     "text": [
      "Resampling 1m: 100%|██████████| 1/1 [00:00<00:00, 406.23it/s]\n",
      "/tmp/ipykernel_23556/2642790735.py:89: DeprecationWarning: Use of `how='outer'` should be replaced with `how='full'`.\n",
      "  aligned_df_pl = aligned_df_pl.join(df_to_join, on=\"ts_event\", how=\"outer\", coalesce=True)\n"
     ]
    },
    {
     "name": "stdout",
     "output_type": "stream",
     "text": [
      "Aligning data across stocks...\n",
      "Not enough data (373 rows, 1 stocks) remaining after alignment and NaN handling for 1m. Skipping correlation.\n",
      "\n",
      "--- Processing Time Scale: 10ms ---\n",
      "Resampling to 10ms and calculating log returns...\n"
     ]
    },
    {
     "name": "stderr",
     "output_type": "stream",
     "text": [
      "Resampling 10ms: 100%|██████████| 1/1 [00:00<00:00, 22.88it/s]"
     ]
    },
    {
     "name": "stdout",
     "output_type": "stream",
     "text": [
      "Aligning data across stocks...\n",
      "Not enough data (152555 rows, 1 stocks) remaining after alignment and NaN handling for 10ms. Skipping correlation.\n",
      "\n",
      "Correlation analysis complete.\n"
     ]
    },
    {
     "name": "stderr",
     "output_type": "stream",
     "text": [
      "\n",
      "/tmp/ipykernel_23556/2642790735.py:89: DeprecationWarning: Use of `how='outer'` should be replaced with `how='full'`.\n",
      "  aligned_df_pl = aligned_df_pl.join(df_to_join, on=\"ts_event\", how=\"outer\", coalesce=True)\n"
     ]
    }
   ],
   "source": [
    "# --- Main Processing Loop ---\n",
    "\n",
    "target_time_scales = [\"1m\", \"10ms\"]\n",
    "\n",
    "for date in target_dates:\n",
    "    print(f\"\\n{'='*20} Processing Date: {date} {'='*20}\")\n",
    "    stocks_on_this_date = date_stocks[date]\n",
    "    \n",
    "    daily_data = {} # Store curated dataframes for the day\n",
    "    print(f\"Loading and curating data for {len(stocks_on_this_date)} stocks on {date}...\")\n",
    "    for stock in tqdm(stocks_on_this_date, desc=f\"Curating {date}\"):\n",
    "        file_path = os.path.join(FOLDER_PATH, stock, f\"{stock}_{date}.parquet\")\n",
    "        try:\n",
    "            df_raw = pl.read_parquet(file_path)\n",
    "            if df_raw.height == 0:\n",
    "                print(f\"Warning: Empty dataframe for {stock} on {date}. Skipping stock.\")\n",
    "                continue\n",
    "            df_curated = curate_mid_price(df_raw, stock)\n",
    "            if df_curated.height > 1: # Need at least 2 points to calculate returns\n",
    "                daily_data[stock] = df_curated\n",
    "            else:\n",
    "                 print(f\"Warning: Not enough data points after curating for {stock} on {date}. Skipping stock.\")\n",
    "        except Exception as e:\n",
    "            print(f\"Error loading or curating {stock} on {date}: {e}\")\n",
    "            \n",
    "    if not daily_data:\n",
    "        print(f\"No valid data loaded for any stock on {date}. Skipping date.\")\n",
    "        continue\n",
    "        \n",
    "    print(f\"Successfully curated data for {len(daily_data)} stocks.\")\n",
    "\n",
    "    for time_scale in target_time_scales:\n",
    "        print(f\"\\n--- Processing Time Scale: {time_scale} ---\")\n",
    "        \n",
    "        resampled_returns = {}\n",
    "        print(f\"Resampling to {time_scale} and calculating log returns...\")\n",
    "        \n",
    "        base_df = None # To store the timestamp index for joining\n",
    "\n",
    "        for stock, df in tqdm(daily_data.items(), desc=f\"Resampling {time_scale}\"):\n",
    "            try:\n",
    "                # Resample data\n",
    "                df_resampled = df.group_by_dynamic(\n",
    "                    index_column=\"ts_event\",\n",
    "                    every=time_scale,\n",
    "                    closed='left' # include left endpoint, exclude right\n",
    "                ).agg(\n",
    "                    pl.col(\"micro_price\").last().alias(stock) # Rename column to stock name\n",
    "                )\n",
    "\n",
    "                # Calculate log returns\n",
    "                df_resampled = df_resampled.with_columns(\n",
    "                    pl.col(stock).log().diff().alias(stock) # Calculate log return, keep stock name\n",
    "                )\n",
    "\n",
    "                # Drop the first row (which has null return) and any other nulls\n",
    "                df_resampled = df_resampled.drop_nulls(subset=[stock])\n",
    "\n",
    "                if df_resampled.height == 0:\n",
    "                     print(f\"Warning: No valid returns after resampling for {stock} at {time_scale}. Skipping stock.\")\n",
    "                     continue\n",
    "\n",
    "                resampled_returns[stock] = df_resampled\n",
    "\n",
    "                # Use the first stock's timestamps as the base for joining\n",
    "                if base_df is None:\n",
    "                     base_df = df_resampled.select(\"ts_event\")\n",
    "\n",
    "            except Exception as e:\n",
    "                print(f\"Error resampling or calculating returns for {stock} at {time_scale}: {e}\")\n",
    "                \n",
    "        if not resampled_returns or base_df is None:\n",
    "            print(f\"Could not generate returns for any stock at timescale {time_scale}. Skipping.\")\n",
    "            continue\n",
    "\n",
    "        # --- Align Data using outer join ---\n",
    "        print(\"Aligning data across stocks...\")\n",
    "        aligned_df_pl = base_df # Start with the base timestamps\n",
    "\n",
    "        for stock, df_ret in resampled_returns.items():\n",
    "             # Ensure the stock column exists before joining\n",
    "             if stock not in df_ret.columns:\n",
    "                  print(f\"Warning: Column '{stock}' not found in resampled returns for {stock}. Skipping join.\")\n",
    "                  continue\n",
    "             # Select only ts_event and the stock return column\n",
    "             df_to_join = df_ret.select([\"ts_event\", stock])\n",
    "             try:\n",
    "                  # Perform outer join to keep all timestamps and fill missing values with null\n",
    "                  aligned_df_pl = aligned_df_pl.join(df_to_join, on=\"ts_event\", how=\"outer\", coalesce=True)\n",
    "             except Exception as e:\n",
    "                  print(f\"Error joining data for stock {stock}: {e}\")\n",
    "\n",
    "\n",
    "        # Convert to Pandas for easier correlation and NaN handling per row\n",
    "        try:\n",
    "             aligned_df_pd = aligned_df_pl.to_pandas().set_index(\"ts_event\")\n",
    "        except Exception as e:\n",
    "             print(f\"Error converting aligned data to Pandas: {e}. Skipping timescale {time_scale}.\")\n",
    "             continue\n",
    "\n",
    "        # Drop rows where ALL stock returns are NaN (less likely with outer join but good practice)\n",
    "        aligned_df_pd = aligned_df_pd.dropna(how='all')\n",
    "        # Drop columns that are entirely NaN\n",
    "        aligned_df_pd = aligned_df_pd.dropna(axis=1, how='all')\n",
    "\n",
    "\n",
    "        # Optional: Fill remaining NaNs or drop rows with any NaNs\n",
    "        # Option 1: Forward fill (can introduce biases)\n",
    "        # aligned_df_pd = aligned_df_pd.ffill()\n",
    "        # Option 2: Drop rows with *any* NaN (might lose a lot of data)\n",
    "        aligned_df_pd = aligned_df_pd.dropna(how='any')\n",
    "        # Option 3: Interpolate (linear, time, etc.) - more complex\n",
    "        # aligned_df_pd = aligned_df_pd.interpolate(method='time')\n",
    "\n",
    "\n",
    "        if aligned_df_pd.shape[0] < 2 or aligned_df_pd.shape[1] < 2:\n",
    "             print(f\"Not enough data ({aligned_df_pd.shape[0]} rows, {aligned_df_pd.shape[1]} stocks) \"\n",
    "                   f\"remaining after alignment and NaN handling for {time_scale}. Skipping correlation.\")\n",
    "             continue\n",
    "             \n",
    "        print(f\"Aligned data shape for correlation ({time_scale}): {aligned_df_pd.shape} (rows, stocks)\")\n",
    "        final_stocks = aligned_df_pd.columns.tolist() # Stocks actually used\n",
    "\n",
    "        # --- Calculate Correlation Matrix ---\n",
    "        print(\"Calculating correlation matrix...\")\n",
    "        try:\n",
    "            corr_matrix = aligned_df_pd.corr(method='pearson')\n",
    "        except Exception as e:\n",
    "             print(f\"Error calculating correlation matrix: {e}. Skipping timescale {time_scale}.\")\n",
    "             continue\n",
    "\n",
    "        # --- Plot Correlation Matrix Heatmap ---\n",
    "        plt.figure(figsize=(12, 10))\n",
    "        sns.heatmap(corr_matrix, cmap='coolwarm', annot=False, fmt=\".2f\",\n",
    "                    xticklabels=corr_matrix.columns, yticklabels=corr_matrix.columns)\n",
    "        plt.title(f\"Correlation Matrix ({len(final_stocks)} Stocks) - {date} - {time_scale}\")\n",
    "        plt.xticks(rotation=90)\n",
    "        plt.yticks(rotation=0)\n",
    "        plt.tight_layout()\n",
    "        plt.show()\n",
    "        # plt.savefig(f\"correlation_matrix_{date}_{time_scale}.png\") # Optional: save figure\n",
    "\n",
    "        # --- Random Matrix Theory (RMT) Analysis ---\n",
    "        print(\"\\nPerforming RMT analysis...\")\n",
    "        try:\n",
    "            # Ensure matrix is symmetric and has no NaNs before eigenvalue calculation\n",
    "            if not corr_matrix.isna().any().any() and np.allclose(corr_matrix.values, corr_matrix.values.T):\n",
    "                eigenvalues = eigvalsh(corr_matrix) # Use eigvalsh for real symmetric matrices\n",
    "                eigenvalues.sort() # Sort ascending\n",
    "                \n",
    "                T, N = aligned_df_pd.shape # Number of time points, Number of stocks\n",
    "                if N <= 1:\n",
    "                     print(\"Skipping RMT analysis: Need at least 2 stocks.\")\n",
    "                     continue\n",
    "                Q = T / N\n",
    "                \n",
    "                if Q < 1:\n",
    "                    print(f\"Warning: RMT Marchenko-Pastur law requires T >= N (Q >= 1). Current Q={Q:.2f}. Bounds may not be reliable.\")\n",
    "                    # Still calculate bounds for reference, but with a warning\n",
    "                \n",
    "                # Marchenko-Pastur theoretical bounds (assuming variance sigma^2=1 for correlation matrix)\n",
    "                lambda_plus = (1 + np.sqrt(1/Q))**2\n",
    "                lambda_minus = (1 - np.sqrt(1/Q))**2 if Q >=1 else 0 # lambda_minus is 0 if Q < 1\n",
    "\n",
    "                print(f\"  Number of time points (T): {T}\")\n",
    "                print(f\"  Number of stocks (N): {N}\")\n",
    "                print(f\"  Q = T/N: {Q:.4f}\")\n",
    "                print(f\"  Marchenko-Pastur Bounds: [{lambda_minus:.4f}, {lambda_plus:.4f}]\")\n",
    "\n",
    "                # Identify eigenvalues outside the theoretical bulk\n",
    "                significant_eigenvalues = eigenvalues[eigenvalues > lambda_plus]\n",
    "                print(f\"  Number of eigenvalues: {len(eigenvalues)}\")\n",
    "                print(f\"  Eigenvalues range: [{eigenvalues.min():.4f}, {eigenvalues.max():.4f}]\")\n",
    "                print(f\"  Number of eigenvalues > lambda_plus: {len(significant_eigenvalues)}\")\n",
    "                if len(significant_eigenvalues) > 0:\n",
    "                    print(f\"  Largest eigenvalues (potentially significant): {significant_eigenvalues[::-1][:5]}\") # Show top 5 largest\n",
    "\n",
    "                # --- Plot Eigenvalue Distribution ---\n",
    "                plt.figure(figsize=(10, 6))\n",
    "                plt.hist(eigenvalues, bins='auto', density=True, label='Empirical Eigenvalue Distribution')\n",
    "                plt.axvline(lambda_minus, color='r', linestyle='--', label=f'λ- = {lambda_minus:.3f}')\n",
    "                plt.axvline(lambda_plus, color='r', linestyle='--', label=f'λ+ = {lambda_plus:.3f}')\n",
    "                plt.title(f'Eigenvalue Distribution vs Marchenko-Pastur - {date} - {time_scale}')\n",
    "                plt.xlabel('Eigenvalue')\n",
    "                plt.ylabel('Density')\n",
    "                plt.legend()\n",
    "                plt.tight_layout()\n",
    "                plt.show()\n",
    "                # plt.savefig(f\"eigenvalue_distribution_{date}_{time_scale}.png\") # Optional: save figure\n",
    "\n",
    "            else:\n",
    "                print(\"Could not compute eigenvalues: Correlation matrix contains NaNs or is not symmetric.\")\n",
    "\n",
    "        except Exception as e:\n",
    "            print(f\"Error during RMT analysis: {e}\")\n",
    "\n",
    "print(\"\\nCorrelation analysis complete.\")"
   ]
  },
  {
   "cell_type": "code",
   "execution_count": null,
   "id": "8f0d1c0f",
   "metadata": {},
   "outputs": [],
   "source": []
  }
 ],
 "metadata": {
  "kernelspec": {
   "display_name": ".venv",
   "language": "python",
   "name": "python3"
  }
 },
 "nbformat": 4,
 "nbformat_minor": 5
}
