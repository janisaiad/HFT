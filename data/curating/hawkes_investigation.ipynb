{
 "cells": [
  {
   "cell_type": "code",
   "execution_count": 1,
   "metadata": {},
   "outputs": [
    {
     "name": "stderr",
     "output_type": "stream",
     "text": [
      "Python-dotenv could not parse statement starting at line 4\n",
      "Python-dotenv could not parse statement starting at line 5\n",
      "Python-dotenv could not parse statement starting at line 6\n",
      "Python-dotenv could not parse statement starting at line 7\n",
      "Python-dotenv could not parse statement starting at line 8\n",
      "Python-dotenv could not parse statement starting at line 9\n",
      "Python-dotenv could not parse statement starting at line 10\n"
     ]
    }
   ],
   "source": [
    "import os\n",
    "import polars as pl\n",
    "import dotenv\n",
    "from tqdm import tqdm\n",
    "import matplotlib.pyplot as plt\n",
    "import plotly.graph_objects as go\n",
    "FOLDER_PATH = os.getenv(\"FOLDER_PATH\")\n",
    "\n",
    "\n",
    "dotenv.load_dotenv()\n",
    "stock = \"WBD\""
   ]
  },
  {
   "cell_type": "code",
   "execution_count": 2,
   "metadata": {},
   "outputs": [
    {
     "name": "stdout",
     "output_type": "stream",
     "text": [
      "74 \n",
      " ['WBD_2024-07-22.parquet', 'WBD_2024-07-23.parquet', 'WBD_2024-07-24.parquet', 'WBD_2024-07-25.parquet', 'WBD_2024-07-26.parquet', 'WBD_2024-07-29.parquet', 'WBD_2024-07-30.parquet', 'WBD_2024-07-31.parquet', 'WBD_2024-08-01.parquet', 'WBD_2024-08-02.parquet', 'WBD_2024-08-05.parquet', 'WBD_2024-08-06.parquet', 'WBD_2024-08-07.parquet', 'WBD_2024-08-08.parquet', 'WBD_2024-08-09.parquet', 'WBD_2024-08-12.parquet', 'WBD_2024-08-13.parquet', 'WBD_2024-08-14.parquet', 'WBD_2024-08-15.parquet', 'WBD_2024-08-16.parquet', 'WBD_2024-08-19.parquet', 'WBD_2024-08-20.parquet', 'WBD_2024-08-21.parquet', 'WBD_2024-08-22.parquet', 'WBD_2024-08-23.parquet', 'WBD_2024-08-26.parquet', 'WBD_2024-08-27.parquet', 'WBD_2024-08-28.parquet', 'WBD_2024-08-29.parquet', 'WBD_2024-08-30.parquet', 'WBD_2024-09-03.parquet', 'WBD_2024-09-04.parquet', 'WBD_2024-09-05.parquet', 'WBD_2024-09-06.parquet', 'WBD_2024-09-09.parquet', 'WBD_2024-09-10.parquet', 'WBD_2024-09-11.parquet', 'WBD_2024-09-12.parquet', 'WBD_2024-09-13.parquet', 'WBD_2024-09-16.parquet', 'WBD_2024-09-17.parquet', 'WBD_2024-09-18.parquet', 'WBD_2024-09-19.parquet', 'WBD_2024-09-20.parquet', 'WBD_2024-09-23.parquet', 'WBD_2024-09-24.parquet', 'WBD_2024-09-25.parquet', 'WBD_2024-09-26.parquet', 'WBD_2024-09-27.parquet', 'WBD_2024-09-30.parquet', 'WBD_2024-10-01.parquet', 'WBD_2024-10-02.parquet', 'WBD_2024-10-03.parquet', 'WBD_2024-10-04.parquet', 'WBD_2024-10-07.parquet', 'WBD_2024-10-08.parquet', 'WBD_2024-10-09.parquet', 'WBD_2024-10-10.parquet', 'WBD_2024-10-11.parquet', 'WBD_2024-10-14.parquet', 'WBD_2024-10-15.parquet', 'WBD_2024-10-16.parquet', 'WBD_2024-10-17.parquet', 'WBD_2024-10-18.parquet', 'WBD_2024-10-21.parquet', 'WBD_2024-10-22.parquet', 'WBD_2024-10-23.parquet', 'WBD_2024-10-24.parquet', 'WBD_2024-10-25.parquet', 'WBD_2024-10-28.parquet', 'WBD_2024-10-29.parquet', 'WBD_2024-10-30.parquet', 'WBD_2024-10-31.parquet', 'WBD_2024-11-01.parquet']\n"
     ]
    }
   ],
   "source": [
    "parquet_files = [f for f in os.listdir(f\"{FOLDER_PATH}/data/hawkes_dataset/{stock}\") if f.endswith('.parquet')]\n",
    "parquet_files.sort()\n",
    "print(len(parquet_files),\"\\n\",parquet_files)\n",
    "threshold = len(parquet_files)//10\n",
    "threshold = 1\n",
    "parquet_files = parquet_files[:threshold]\n",
    "# Read and concatenate all parquet files\n",
    "df = pl.concat([\n",
    "    pl.read_parquet(f\"{FOLDER_PATH}/data/hawkes_dataset/{stock}/{file}\") \n",
    "    for file in parquet_files\n",
    "])"
   ]
  },
  {
   "cell_type": "code",
   "execution_count": 3,
   "metadata": {},
   "outputs": [],
   "source": [
    "def curate_mid_price(df,stock):\n",
    "    num_entries_by_publisher = df.group_by(\"publisher_id\").len().sort(\"len\", descending=True)\n",
    "    if len(num_entries_by_publisher) > 1:\n",
    "            df = df.filter(pl.col(\"publisher_id\") == 41)\n",
    "        \n",
    "        \n",
    "    if stock == \"GOOGL\":\n",
    "        df = df.filter(pl.col(\"ts_event\").dt.hour() >= 13)\n",
    "        df = df.filter(pl.col(\"ts_event\").dt.hour() <= 20)\n",
    "        \n",
    "        \n",
    "    else:\n",
    "        df = df.filter(\n",
    "            (\n",
    "                (pl.col(\"ts_event\").dt.hour() == 9) & (pl.col(\"ts_event\").dt.minute() >= 35) |\n",
    "                (pl.col(\"ts_event\").dt.hour() > 9) & (pl.col(\"ts_event\").dt.hour() < 16)\n",
    "            )\n",
    "        )\n",
    "    \n",
    "    # Remove the first row at 9:30\n",
    "    df = df.with_row_index(\"index\").filter(\n",
    "        ~((pl.col(\"ts_event\").dt.hour() == 9) & \n",
    "          (pl.col(\"ts_event\").dt.minute() == 30) & \n",
    "          (pl.col(\"index\") == df.filter(\n",
    "              (pl.col(\"ts_event\").dt.hour() == 9) & \n",
    "              (pl.col(\"ts_event\").dt.minute() == 30)\n",
    "          ).with_row_index(\"index\").select(\"index\").min())\n",
    "        )\n",
    "    ).drop(\"index\")\n",
    "    mid_price = (df[\"ask_px_00\"] + df[\"bid_px_00\"]) / 2\n",
    "    \n",
    "    \n",
    "    # managing nans or infs, preceding value filling\n",
    "    mid_price = mid_price.fill_nan(mid_price.shift(1))\n",
    "    df = df.with_columns(mid_price=mid_price)\n",
    "    # now we define the mid price with the microprice, barycenter of bid and ask prices by their weights\n",
    "    df = df.sort(\"ts_event\")\n",
    "    return df\n",
    "\n",
    "\n",
    "df_price = pl.concat([\n",
    "    pl.read_parquet(f\"{FOLDER_PATH}{stock}/{file}\") \n",
    "    for file in parquet_files\n",
    "])\n",
    "df_price = curate_mid_price(df_price,stock)\n",
    "df_price = df_price[\"ts_event\",\"mid_price\"]\n"
   ]
  },
  {
   "cell_type": "code",
   "execution_count": 4,
   "metadata": {},
   "outputs": [
    {
     "data": {
      "text/html": [
       "<div><style>\n",
       ".dataframe > thead > tr,\n",
       ".dataframe > tbody > tr {\n",
       "  text-align: right;\n",
       "  white-space: pre-wrap;\n",
       "}\n",
       "</style>\n",
       "<small>shape: (5, 9)</small><table border=\"1\" class=\"dataframe\"><thead><tr><th>ts_event</th><th>P_a</th><th>P_b</th><th>T_a</th><th>T_b</th><th>L_a</th><th>L_b</th><th>C_a</th><th>C_b</th></tr><tr><td>datetime[ns, US/Eastern]</td><td>i32</td><td>i32</td><td>i32</td><td>i32</td><td>i32</td><td>i32</td><td>i32</td><td>i32</td></tr></thead><tbody><tr><td>2024-07-22 09:30:00.011066936 EDT</td><td>0</td><td>0</td><td>0</td><td>0</td><td>1</td><td>0</td><td>0</td><td>0</td></tr><tr><td>2024-07-22 09:30:00.011079662 EDT</td><td>0</td><td>0</td><td>0</td><td>0</td><td>1</td><td>1</td><td>0</td><td>0</td></tr><tr><td>2024-07-22 09:30:00.011839980 EDT</td><td>0</td><td>0</td><td>0</td><td>0</td><td>1</td><td>2</td><td>0</td><td>0</td></tr><tr><td>2024-07-22 09:30:00.011845202 EDT</td><td>0</td><td>0</td><td>0</td><td>0</td><td>2</td><td>2</td><td>0</td><td>0</td></tr><tr><td>2024-07-22 09:30:00.013075122 EDT</td><td>0</td><td>0</td><td>0</td><td>0</td><td>3</td><td>2</td><td>0</td><td>0</td></tr></tbody></table></div>"
      ],
      "text/plain": [
       "shape: (5, 9)\n",
       "┌─────────────────────────────────┬─────┬─────┬─────┬───┬─────┬─────┬─────┬─────┐\n",
       "│ ts_event                        ┆ P_a ┆ P_b ┆ T_a ┆ … ┆ L_a ┆ L_b ┆ C_a ┆ C_b │\n",
       "│ ---                             ┆ --- ┆ --- ┆ --- ┆   ┆ --- ┆ --- ┆ --- ┆ --- │\n",
       "│ datetime[ns, US/Eastern]        ┆ i32 ┆ i32 ┆ i32 ┆   ┆ i32 ┆ i32 ┆ i32 ┆ i32 │\n",
       "╞═════════════════════════════════╪═════╪═════╪═════╪═══╪═════╪═════╪═════╪═════╡\n",
       "│ 2024-07-22 09:30:00.011066936 … ┆ 0   ┆ 0   ┆ 0   ┆ … ┆ 1   ┆ 0   ┆ 0   ┆ 0   │\n",
       "│ 2024-07-22 09:30:00.011079662 … ┆ 0   ┆ 0   ┆ 0   ┆ … ┆ 1   ┆ 1   ┆ 0   ┆ 0   │\n",
       "│ 2024-07-22 09:30:00.011839980 … ┆ 0   ┆ 0   ┆ 0   ┆ … ┆ 1   ┆ 2   ┆ 0   ┆ 0   │\n",
       "│ 2024-07-22 09:30:00.011845202 … ┆ 0   ┆ 0   ┆ 0   ┆ … ┆ 2   ┆ 2   ┆ 0   ┆ 0   │\n",
       "│ 2024-07-22 09:30:00.013075122 … ┆ 0   ┆ 0   ┆ 0   ┆ … ┆ 3   ┆ 2   ┆ 0   ┆ 0   │\n",
       "└─────────────────────────────────┴─────┴─────┴─────┴───┴─────┴─────┴─────┴─────┘"
      ]
     },
     "execution_count": 4,
     "metadata": {},
     "output_type": "execute_result"
    }
   ],
   "source": [
    "df.head()"
   ]
  },
  {
   "cell_type": "code",
   "execution_count": 5,
   "metadata": {},
   "outputs": [
    {
     "data": {
      "text/html": [
       "<div><style>\n",
       ".dataframe > thead > tr,\n",
       ".dataframe > tbody > tr {\n",
       "  text-align: right;\n",
       "  white-space: pre-wrap;\n",
       "}\n",
       "</style>\n",
       "<small>shape: (5, 2)</small><table border=\"1\" class=\"dataframe\"><thead><tr><th>ts_event</th><th>mid_price</th></tr><tr><td>datetime[ns, US/Eastern]</td><td>f64</td></tr></thead><tbody><tr><td>2024-07-22 09:35:00.001689461 EDT</td><td>8.515</td></tr><tr><td>2024-07-22 09:35:00.001985212 EDT</td><td>8.515</td></tr><tr><td>2024-07-22 09:35:00.029098385 EDT</td><td>8.515</td></tr><tr><td>2024-07-22 09:35:00.217015369 EDT</td><td>8.515</td></tr><tr><td>2024-07-22 09:35:00.217059151 EDT</td><td>8.515</td></tr></tbody></table></div>"
      ],
      "text/plain": [
       "shape: (5, 2)\n",
       "┌─────────────────────────────────┬───────────┐\n",
       "│ ts_event                        ┆ mid_price │\n",
       "│ ---                             ┆ ---       │\n",
       "│ datetime[ns, US/Eastern]        ┆ f64       │\n",
       "╞═════════════════════════════════╪═══════════╡\n",
       "│ 2024-07-22 09:35:00.001689461 … ┆ 8.515     │\n",
       "│ 2024-07-22 09:35:00.001985212 … ┆ 8.515     │\n",
       "│ 2024-07-22 09:35:00.029098385 … ┆ 8.515     │\n",
       "│ 2024-07-22 09:35:00.217015369 … ┆ 8.515     │\n",
       "│ 2024-07-22 09:35:00.217059151 … ┆ 8.515     │\n",
       "└─────────────────────────────────┴───────────┘"
      ]
     },
     "execution_count": 5,
     "metadata": {},
     "output_type": "execute_result"
    }
   ],
   "source": [
    "df_price.head()"
   ]
  },
  {
   "cell_type": "code",
   "execution_count": 6,
   "metadata": {},
   "outputs": [
    {
     "data": {
      "image/png": "[encoded data removed]",
      "text/plain": [
       "<Figure size 1000x600 with 4 Axes>"
      ]
     },
     "metadata": {},
     "output_type": "display_data"
    },
    {
     "data": {
      "image/png": "[encoded data removed]",
      "text/plain": [
       "<Figure size 640x480 with 1 Axes>"
      ]
     },
     "metadata": {},
     "output_type": "display_data"
    },
    {
     "data": {
      "text/plain": [
       "<Figure size 640x480 with 0 Axes>"
      ]
     },
     "metadata": {},
     "output_type": "display_data"
    }
   ],
   "source": [
    "# Plot differences between ask and bid events\n",
    "fig, ((ax1, ax2), (ax3, ax4)) = plt.subplots(2, 2, figsize=(10, 6))\n",
    "fig.suptitle('Differences between Ask and Bid Events')\n",
    "\n",
    "# Plot P_a - P_b\n",
    "ax1.plot(df['ts_event'], df['P_a'] - df['P_b'])\n",
    "ax1.set_title('P_a - P_b')\n",
    "ax1.set_xlabel('Time')\n",
    "ax1.set_ylabel('Difference')\n",
    "\n",
    "# Plot T_a - T_b  \n",
    "ax2.plot(df['ts_event'], df['T_a'] - df['T_b'])\n",
    "ax2.set_title('T_a - T_b')\n",
    "ax2.set_xlabel('Time')\n",
    "ax2.set_ylabel('Difference')\n",
    "\n",
    "# Plot L_a - L_b\n",
    "ax3.plot(df['ts_event'], df['L_a'] - df['L_b'])\n",
    "ax3.set_title('L_a - L_b')\n",
    "ax3.set_xlabel('Time')\n",
    "ax3.set_ylabel('Difference')\n",
    "\n",
    "# Plot C_a - C_b\n",
    "ax4.plot(df['ts_event'], df['C_a'] - df['C_b'])\n",
    "ax4.set_title('C_a - C_b')\n",
    "ax4.set_xlabel('Time')\n",
    "ax4.set_ylabel('Difference')\n",
    "\n",
    "plt.tight_layout()\n",
    "plt.show()\n",
    "plt.savefig(f\"/home/janis/HFTP2/HFT/results/hurst/plots/{stock}/{stock}_diff_between_ask_and_bid_events.png\")\n",
    "\n",
    "plt.plot(df_price[\"ts_event\"], df_price[\"mid_price\"])\n",
    "plt.grid()\n",
    "plt.show()\n",
    "plt.savefig(f\"/home/janis/HFTP2/HFT/results/hurst/plots/{stock}/{stock}_mid_price.png\")\n",
    "\n",
    "\n",
    "\n"
   ]
  },
  {
   "cell_type": "markdown",
   "metadata": {},
   "source": [
    "> Exp kernel on hawkes, after we will see others long term memory kernels"
   ]
  },
  {
   "cell_type": "code",
   "execution_count": 12,
   "metadata": {},
   "outputs": [],
   "source": [
    "fraction = 0.05\n",
    "# get the first 5% of the data\n",
    "df = df.slice(0, int(len(df) * fraction))\n"
   ]
  },
  {
   "cell_type": "code",
   "execution_count": 13,
   "metadata": {},
   "outputs": [
    {
     "name": "stderr",
     "output_type": "stream",
     "text": [
      "/home/janis/HFTP2/HFT/.venv/lib/python3.12/site-packages/Hawkes/model.py:643: RuntimeWarning: overflow encountered in multiply\n",
      "  Int = Int + alpha[i] * ( np.exp( -beta[i] * x1 ) - np.exp( -beta[i] * x2 ) )\n",
      "/home/janis/HFTP2/HFT/.venv/lib/python3.12/site-packages/Hawkes/model.py:655: RuntimeWarning: overflow encountered in multiply\n",
      "  dInt[('alpha',i)] = np.exp( -beta[i] * x1 ) - np.exp( -beta[i] * x2 )\n",
      "/home/janis/HFTP2/HFT/.venv/lib/python3.12/site-packages/Hawkes/model.py:656: RuntimeWarning: overflow encountered in multiply\n",
      "  dInt[('beta',i) ] = alpha[i] * ( - x1 * np.exp( -beta[i] * x1 ) + x2 * np.exp( -beta[i] * x2 ) )\n",
      "/home/janis/HFTP2/HFT/.venv/lib/python3.12/site-packages/Hawkes/model.py:180: RuntimeWarning: invalid value encountered in divide\n",
      "  G = { key: (dl[key]/l).sum(axis=-1) - dInt[key] for key in dl }\n"
     ]
    },
    {
     "ename": "KeyboardInterrupt",
     "evalue": "",
     "output_type": "error",
     "traceback": [
      "\u001b[0;31m---------------------------------------------------------------------------\u001b[0m",
      "\u001b[0;31mKeyboardInterrupt\u001b[0m                         Traceback (most recent call last)",
      "Cell \u001b[0;32mIn[13], line 27\u001b[0m\n\u001b[1;32m     25\u001b[0m itv \u001b[38;5;241m=\u001b[39m [\u001b[38;5;28mfloat\u001b[39m(times[\u001b[38;5;241m0\u001b[39m]), \u001b[38;5;28mfloat\u001b[39m(times[\u001b[38;5;241m-\u001b[39m\u001b[38;5;241m1\u001b[39m])]  \u001b[38;5;66;03m# Observation interval\u001b[39;00m\n\u001b[1;32m     26\u001b[0m \u001b[38;5;28;01mtry\u001b[39;00m:\n\u001b[0;32m---> 27\u001b[0m     \u001b[43mmodel\u001b[49m\u001b[38;5;241;43m.\u001b[39;49m\u001b[43mfit\u001b[49m\u001b[43m(\u001b[49m\u001b[43mevent_times\u001b[49m\u001b[43m,\u001b[49m\u001b[43m \u001b[49m\u001b[43mitv\u001b[49m\u001b[43m)\u001b[49m\n\u001b[1;32m     28\u001b[0m     models[event_type] \u001b[38;5;241m=\u001b[39m model\n\u001b[1;32m     29\u001b[0m     \u001b[38;5;28mprint\u001b[39m(\u001b[38;5;124mf\u001b[39m\u001b[38;5;124m\"\u001b[39m\u001b[38;5;130;01m\\n\u001b[39;00m\u001b[38;5;124mResults for \u001b[39m\u001b[38;5;132;01m{\u001b[39;00mevent_type\u001b[38;5;132;01m}\u001b[39;00m\u001b[38;5;124m:\u001b[39m\u001b[38;5;124m\"\u001b[39m)\n",
      "File \u001b[0;32m~/HFTP2/HFT/.venv/lib/python3.12/site-packages/Hawkes/model.py:153\u001b[0m, in \u001b[0;36mestimator.fit\u001b[0;34m(self, T, itv, prior, opt, merge)\u001b[0m\n\u001b[1;32m    150\u001b[0m stg \u001b[38;5;241m=\u001b[39m merge_stg([stg_b,stg_k])\n\u001b[1;32m    151\u001b[0m \u001b[38;5;28mself\u001b[39m\u001b[38;5;241m.\u001b[39mstg \u001b[38;5;241m=\u001b[39m stg\n\u001b[0;32m--> 153\u001b[0m [para,L,ste,G_norm,i_loop] \u001b[38;5;241m=\u001b[39m \u001b[43mQuasi_Newton\u001b[49m\u001b[43m(\u001b[49m\u001b[38;5;28;43mself\u001b[39;49m\u001b[43m,\u001b[49m\u001b[43mprior\u001b[49m\u001b[43m,\u001b[49m\u001b[43mmerge\u001b[49m\u001b[43m,\u001b[49m\u001b[43mopt\u001b[49m\u001b[43m)\u001b[49m\n\u001b[1;32m    155\u001b[0m \u001b[38;5;28mself\u001b[39m\u001b[38;5;241m.\u001b[39mpara \u001b[38;5;241m=\u001b[39m para\n\u001b[1;32m    156\u001b[0m \u001b[38;5;28mself\u001b[39m\u001b[38;5;241m.\u001b[39mparameter \u001b[38;5;241m=\u001b[39m para\n",
      "File \u001b[0;32m~/HFTP2/HFT/.venv/lib/python3.12/site-packages/Hawkes/tools/Quasi_Newton.py:146\u001b[0m, in \u001b[0;36mQuasi_Newton\u001b[0;34m(model, prior, merge, opt)\u001b[0m\n\u001b[1;32m    143\u001b[0m para[param\u001b[38;5;241m.\u001b[39midx(\u001b[38;5;124m\"\u001b[39m\u001b[38;5;124mpara_exp\u001b[39m\u001b[38;5;124m\"\u001b[39m)] \u001b[38;5;241m*\u001b[39m\u001b[38;5;241m=\u001b[39m np\u001b[38;5;241m.\u001b[39mexp( s_extended[param\u001b[38;5;241m.\u001b[39midx(\u001b[38;5;124m\"\u001b[39m\u001b[38;5;124mpara_exp\u001b[39m\u001b[38;5;124m\"\u001b[39m)] )\n\u001b[1;32m    145\u001b[0m \u001b[38;5;66;03m#calculate Likelihood and Gradient at the new point\u001b[39;00m\n\u001b[0;32m--> 146\u001b[0m [L2,G2] \u001b[38;5;241m=\u001b[39m \u001b[43mPenalized_LG\u001b[49m\u001b[43m(\u001b[49m\u001b[43mmodel\u001b[49m\u001b[43m,\u001b[49m\u001b[43mpara\u001b[49m\u001b[43m,\u001b[49m\u001b[43mprior\u001b[49m\u001b[43m)\u001b[49m\n\u001b[1;32m    147\u001b[0m G2[param\u001b[38;5;241m.\u001b[39midx(\u001b[38;5;124m\"\u001b[39m\u001b[38;5;124mpara_exp\u001b[39m\u001b[38;5;124m\"\u001b[39m)] \u001b[38;5;241m*\u001b[39m\u001b[38;5;241m=\u001b[39m para[param\u001b[38;5;241m.\u001b[39midx(\u001b[38;5;124m\"\u001b[39m\u001b[38;5;124mpara_exp\u001b[39m\u001b[38;5;124m\"\u001b[39m)]\n\u001b[1;32m    148\u001b[0m G2 \u001b[38;5;241m=\u001b[39m np\u001b[38;5;241m.\u001b[39mdot(M_merge,G2)\n",
      "File \u001b[0;32m~/HFTP2/HFT/.venv/lib/python3.12/site-packages/Hawkes/tools/Quasi_Newton.py:261\u001b[0m, in \u001b[0;36mPenalized_LG\u001b[0;34m(model, para, prior, only_L)\u001b[0m\n\u001b[1;32m    257\u001b[0m \u001b[38;5;28;01mdef\u001b[39;00m\u001b[38;5;250m \u001b[39m\u001b[38;5;21mPenalized_LG\u001b[39m(model,para,prior,only_L\u001b[38;5;241m=\u001b[39m\u001b[38;5;28;01mFalse\u001b[39;00m):\n\u001b[1;32m    259\u001b[0m     param \u001b[38;5;241m=\u001b[39m model\u001b[38;5;241m.\u001b[39mstg[\u001b[38;5;124m'\u001b[39m\u001b[38;5;124mpara_label\u001b[39m\u001b[38;5;124m'\u001b[39m]\n\u001b[0;32m--> 261\u001b[0m     [L,G] \u001b[38;5;241m=\u001b[39m \u001b[43mmodel\u001b[49m\u001b[38;5;241;43m.\u001b[39;49m\u001b[43mLG\u001b[49m\u001b[43m(\u001b[49m\u001b[43mparam\u001b[49m\u001b[38;5;241;43m.\u001b[39;49m\u001b[43mto_dict\u001b[49m\u001b[43m(\u001b[49m\u001b[43mpara\u001b[49m\u001b[43m)\u001b[49m\u001b[43m,\u001b[49m\u001b[43monly_L\u001b[49m\u001b[43m)\u001b[49m\n\u001b[1;32m    263\u001b[0m     \u001b[38;5;28;01mif\u001b[39;00m \u001b[38;5;28misinstance\u001b[39m(G,\u001b[38;5;28mstr\u001b[39m):\n\u001b[1;32m    264\u001b[0m         G \u001b[38;5;241m=\u001b[39m G_NUMERICAL(model,para)\n",
      "File \u001b[0;32m~/HFTP2/HFT/.venv/lib/python3.12/site-packages/Hawkes/model.py:172\u001b[0m, in \u001b[0;36mestimator.LG\u001b[0;34m(self, para, only_L)\u001b[0m\n\u001b[1;32m    170\u001b[0m [Int_baseline,dInt_baseline] \u001b[38;5;241m=\u001b[39m \u001b[38;5;28mself\u001b[39m\u001b[38;5;241m.\u001b[39mbaseline\u001b[38;5;241m.\u001b[39mLG_INT()\n\u001b[1;32m    171\u001b[0m [l_kernel,dl_kernel]         \u001b[38;5;241m=\u001b[39m \u001b[38;5;28mself\u001b[39m\u001b[38;5;241m.\u001b[39mkernel\u001b[38;5;241m.\u001b[39mLG_SUM()\n\u001b[0;32m--> 172\u001b[0m [Int_kernel,dInt_kernel]     \u001b[38;5;241m=\u001b[39m \u001b[38;5;28;43mself\u001b[39;49m\u001b[38;5;241;43m.\u001b[39;49m\u001b[43mkernel\u001b[49m\u001b[38;5;241;43m.\u001b[39;49m\u001b[43mLG_INT\u001b[49m\u001b[43m(\u001b[49m\u001b[43m)\u001b[49m\n\u001b[1;32m    174\u001b[0m l \u001b[38;5;241m=\u001b[39m l_baseline \u001b[38;5;241m+\u001b[39m l_kernel\n\u001b[1;32m    175\u001b[0m Int \u001b[38;5;241m=\u001b[39m Int_baseline \u001b[38;5;241m+\u001b[39m Int_kernel\n",
      "File \u001b[0;32m~/HFTP2/HFT/.venv/lib/python3.12/site-packages/Hawkes/model.py:260\u001b[0m, in \u001b[0;36mbase_component_kernel_class.LG_INT\u001b[0;34m(self)\u001b[0m\n\u001b[1;32m    258\u001b[0m [_,en] \u001b[38;5;241m=\u001b[39m \u001b[38;5;28mself\u001b[39m\u001b[38;5;241m.\u001b[39mitv\n\u001b[1;32m    259\u001b[0m Int  \u001b[38;5;241m=\u001b[39m \u001b[38;5;28mself\u001b[39m\u001b[38;5;241m.\u001b[39mint(\u001b[38;5;241m0\u001b[39m,en\u001b[38;5;241m-\u001b[39mT)\u001b[38;5;241m.\u001b[39msum()\n\u001b[0;32m--> 260\u001b[0m dInt_tmp \u001b[38;5;241m=\u001b[39m \u001b[38;5;28;43mself\u001b[39;49m\u001b[38;5;241;43m.\u001b[39;49m\u001b[43md_int\u001b[49m\u001b[43m(\u001b[49m\u001b[43mnp\u001b[49m\u001b[38;5;241;43m.\u001b[39;49m\u001b[43mzeros_like\u001b[49m\u001b[43m(\u001b[49m\u001b[43mT\u001b[49m\u001b[43m)\u001b[49m\u001b[43m,\u001b[49m\u001b[43men\u001b[49m\u001b[38;5;241;43m-\u001b[39;49m\u001b[43mT\u001b[49m\u001b[43m)\u001b[49m\n\u001b[1;32m    261\u001b[0m dInt \u001b[38;5;241m=\u001b[39m { key:dInt_tmp[key]\u001b[38;5;241m.\u001b[39msum(axis\u001b[38;5;241m=\u001b[39m\u001b[38;5;241m-\u001b[39m\u001b[38;5;241m1\u001b[39m) \u001b[38;5;28;01mfor\u001b[39;00m key \u001b[38;5;129;01min\u001b[39;00m \u001b[38;5;28mself\u001b[39m\u001b[38;5;241m.\u001b[39mpara_list }\n\u001b[1;32m    262\u001b[0m \u001b[38;5;28;01mreturn\u001b[39;00m [Int,dInt]\n",
      "File \u001b[0;32m~/HFTP2/HFT/.venv/lib/python3.12/site-packages/Hawkes/model.py:656\u001b[0m, in \u001b[0;36mkernel_exp.d_int\u001b[0;34m(self, x1, x2)\u001b[0m\n\u001b[1;32m    654\u001b[0m \u001b[38;5;28;01mfor\u001b[39;00m i \u001b[38;5;129;01min\u001b[39;00m \u001b[38;5;28mrange\u001b[39m(num_exp):\n\u001b[1;32m    655\u001b[0m     dInt[(\u001b[38;5;124m'\u001b[39m\u001b[38;5;124malpha\u001b[39m\u001b[38;5;124m'\u001b[39m,i)] \u001b[38;5;241m=\u001b[39m np\u001b[38;5;241m.\u001b[39mexp( \u001b[38;5;241m-\u001b[39mbeta[i] \u001b[38;5;241m*\u001b[39m x1 ) \u001b[38;5;241m-\u001b[39m np\u001b[38;5;241m.\u001b[39mexp( \u001b[38;5;241m-\u001b[39mbeta[i] \u001b[38;5;241m*\u001b[39m x2 )\n\u001b[0;32m--> 656\u001b[0m     dInt[(\u001b[38;5;124m'\u001b[39m\u001b[38;5;124mbeta\u001b[39m\u001b[38;5;124m'\u001b[39m,i) ] \u001b[38;5;241m=\u001b[39m alpha[i] \u001b[38;5;241m*\u001b[39m ( \u001b[38;5;241m-\u001b[39m x1 \u001b[38;5;241m*\u001b[39m \u001b[43mnp\u001b[49m\u001b[38;5;241;43m.\u001b[39;49m\u001b[43mexp\u001b[49m\u001b[43m(\u001b[49m\u001b[43m \u001b[49m\u001b[38;5;241;43m-\u001b[39;49m\u001b[43mbeta\u001b[49m\u001b[43m[\u001b[49m\u001b[43mi\u001b[49m\u001b[43m]\u001b[49m\u001b[43m \u001b[49m\u001b[38;5;241;43m*\u001b[39;49m\u001b[43m \u001b[49m\u001b[43mx1\u001b[49m\u001b[43m \u001b[49m\u001b[43m)\u001b[49m \u001b[38;5;241m+\u001b[39m x2 \u001b[38;5;241m*\u001b[39m np\u001b[38;5;241m.\u001b[39mexp( \u001b[38;5;241m-\u001b[39mbeta[i] \u001b[38;5;241m*\u001b[39m x2 ) )\n\u001b[1;32m    658\u001b[0m \u001b[38;5;28;01mreturn\u001b[39;00m dInt\n",
      "\u001b[0;31mKeyboardInterrupt\u001b[0m: "
     ]
    },
    {
     "ename": "",
     "evalue": "",
     "output_type": "error",
     "traceback": [
      "\u001b[1;31mThe Kernel crashed while executing code in the current cell or a previous cell. \n",
      "\u001b[1;31mPlease review the code in the cell(s) to identify a possible cause of the failure. \n",
      "\u001b[1;31mClick <a href='https://aka.ms/vscodeJupyterKernelCrash'>here</a> for more info. \n",
      "\u001b[1;31mView Jupyter <a href='command:jupyter.viewOutput'>log</a> for further details."
     ]
    }
   ],
   "source": [
    "# Fit multivariate Hawkes process to the data\n",
    "import Hawkes as hk\n",
    "import numpy as np\n",
    "import matplotlib.pyplot as plt\n",
    "\n",
    "# Convert timestamps to seconds since start\n",
    "start_time = df[\"ts_event\"].min()\n",
    "times = (df[\"ts_event\"] - start_time).cast(pl.Duration).dt.total_seconds().cast(pl.Float64).to_numpy()\n",
    "\n",
    "# Get event times for each dimension\n",
    "event_types = ['P_a', 'P_b', 'T_a', 'T_b', 'L_a', 'L_b', 'C_a', 'C_b']\n",
    "\n",
    "# Create separate models for each event type\n",
    "models = {}\n",
    "for event_type in event_types:\n",
    "    # Get event times for this type\n",
    "    event_times = times[df[event_type].to_numpy() > 0]\n",
    "    \n",
    "    # Create and configure model\n",
    "    model = hk.estimator()\n",
    "    model.set_kernel('exp')  # Use exponential kernel\n",
    "    model.set_baseline('const')  # Use constant baseline\n",
    "    \n",
    "    # Fit model\n",
    "    itv = [float(times[0]), float(times[-1])]  # Observation interval\n",
    "    try:\n",
    "        model.fit(event_times, itv)\n",
    "        models[event_type] = model\n",
    "        print(f\"\\nResults for {event_type}:\")\n",
    "        print(model.get_params())\n",
    "    except Exception as e:\n",
    "        print(f\"Error fitting model for {event_type}: {str(e)}\")\n",
    "        continue\n",
    "\n",
    "# Plot intensities for successfully fitted models\n",
    "fig, axes = plt.subplots(4, 2, figsize=(15, 20))\n",
    "axes = axes.flatten()\n",
    "\n",
    "for i, event_type in enumerate(event_types):\n",
    "    if event_type not in models:\n",
    "        continue\n",
    "        \n",
    "    model = models[event_type]\n",
    "    ax = axes[i]\n",
    "    plt.sca(ax)  # Set current axis\n",
    "    \n",
    "    # Add event markers\n",
    "    event_times = times[df[event_type].to_numpy() > 0]\n",
    "    ymin, ymax = ax.get_ylim()\n",
    "    ax.vlines(event_times, ymin=ymin, ymax=ymax, alpha=0.1, color='red')\n",
    "    \n",
    "    ax.set_title(f'Hawkes Process Intensity for {event_type}')\n",
    "    ax.set_xlabel('Time (seconds)')\n",
    "    ax.set_ylabel('Intensity')\n",
    "    ax.grid(True)\n",
    "\n",
    "plt.tight_layout()\n",
    "plt.show()\n",
    "plt.savefig(f\"/home/janis/HFTP2/HFT/results/hurst/plots/{stock}/{stock}_hawkes_intensity.png\")\n",
    "\n",
    "# Diagnostic plots for successfully fitted models\n",
    "fig, axes = plt.subplots(4, 2, figsize=(15, 20))\n",
    "axes = axes.flatten()\n",
    "\n",
    "for i, event_type in enumerate(event_types):\n",
    "    if event_type not in models:\n",
    "        continue\n",
    "        \n",
    "    model = models[event_type]\n",
    "    ax = axes[i]\n",
    "    plt.sca(ax)\n",
    "    try:\n",
    "        model.plot_KS()\n",
    "        ax.set_title(f'KS Plot for {event_type}')\n",
    "    except Exception as e:\n",
    "        print(f\"Error plotting KS plot for {event_type}: {str(e)}\")\n",
    "        continue\n",
    "\n",
    "plt.tight_layout()\n",
    "plt.show()\n",
    "plt.savefig(f\"/home/janis/HFTP2/HFT/results/hurst/plots/{stock}/{stock}_hawkes_diagnostics.png\")\n"
   ]
  },
  {
   "cell_type": "code",
   "execution_count": null,
   "metadata": {},
   "outputs": [],
   "source": [
    "    "
   ]
  },
  {
   "cell_type": "code",
   "execution_count": null,
   "metadata": {},
   "outputs": [],
   "source": []
  },
  {
   "cell_type": "code",
   "execution_count": 19,
   "metadata": {},
   "outputs": [],
   "source": []
  },
  {
   "cell_type": "code",
   "execution_count": null,
   "metadata": {},
   "outputs": [],
   "source": []
  },
  {
   "cell_type": "markdown",
   "metadata": {},
   "source": [
    "Average arrival time"
   ]
  },
  {
   "cell_type": "code",
   "execution_count": null,
   "metadata": {},
   "outputs": [],
   "source": [
    "# Compute average time between mid price changes\n",
    "import numpy as np\n",
    "import matplotlib.pyplot as plt\n",
    "\n",
    "# Calculate time differences between mid price changes in nanoseconds and convert to milliseconds\n",
    "time_diffs = df.with_columns(\n",
    "    mid_price_change=pl.col(\"mid_price\").diff()\n",
    ").filter(\n",
    "    pl.col(\"mid_price_change\") != 0\n",
    ").select(\n",
    "    (pl.col(\"ts_event\").diff().cast(pl.Int64) / 1_000_000).alias(\"time_diff_ms\")  # Convert to milliseconds\n",
    ").drop_nulls()\n",
    "\n",
    "# Filter out times > 1 hour (3600000 milliseconds) \n",
    "time_diffs = time_diffs.filter(pl.col(\"time_diff_ms\") <= 36000)\n",
    "\n",
    "# Take first alpha fraction of data\n",
    "alpha = 0.1  # Use first 10% of data\n",
    "time_diffs_np = time_diffs.to_numpy().flatten()[:int(len(time_diffs) * alpha)]\n",
    "\n",
    "# Create histogram\n",
    "plt.figure(figsize=(10, 6))\n",
    "plt.hist(time_diffs_np, bins='auto', density=True, alpha=0.7)\n",
    "\n",
    "plt.title(f'Distribution of Time Between Mid Price Changes (<1h) for {stock} (First {alpha*100}% of data)')\n",
    "plt.xlabel('Time between mid price changes (milliseconds)')\n",
    "plt.ylabel('Density')\n",
    "plt.ylim(0,0.0002)\n",
    "print('Average time between mid price changes:', time_diffs.mean())\n",
    "avg_arrival_time = time_diffs.mean()[\"time_diff_ms\"][0] \n",
    "plt.grid(True, alpha=0.3)"
   ]
  },
  {
   "cell_type": "code",
   "execution_count": null,
   "metadata": {},
   "outputs": [],
   "source": [
    "\n",
    "# Save plot\n",
    "os.makedirs(f\"/home/janis/HFTP2/HFT/results/hurst/plots/{stock}/\", exist_ok=True)\n",
    "plt.savefig(f\"/home/janis/HFTP2/HFT/results/hurst/plots/{stock}/{stock}_arrival_times.png\")\n"
   ]
  },
  {
   "cell_type": "code",
   "execution_count": null,
   "metadata": {},
   "outputs": [],
   "source": [
    "time_scales = [str(int(k*avg_arrival_time))+\"us\" for k in [1,5,10,30,100,1000,3000,10000,30000,100000,300000,1000000,3000000]]\n",
    "print(time_scales)"
   ]
  },
  {
   "cell_type": "code",
   "execution_count": null,
   "metadata": {},
   "outputs": [],
   "source": [
    "time_scales = time_scales\n",
    "\n",
    "dfs = {}\n",
    "\n",
    "for scale in time_scales:\n",
    "    df_temp = df_cleaned.group_by(pl.col(\"ts_event\").dt.truncate(scale)).agg([\n",
    "        pl.col(\"mid_price\").last().alias(\"mid_price\")\n",
    "    ])\n",
    "    \n",
    "    df_temp = df_temp.sort(\"ts_event\")\n",
    "    \n",
    "    df_temp = df_temp.with_columns(\n",
    "        tick_variation=pl.when(pl.col(\"ts_event\").dt.date().diff() == 0)\n",
    "        .then(pl.col(\"mid_price\").diff()/avg_spread)\n",
    "        .otherwise(None)\n",
    "    )\n",
    "    df_temp = df_temp.with_columns(\n",
    "        log_variation=pl.when(pl.col(\"ts_event\").dt.date().diff() == 0)\n",
    "        .then(pl.col(\"mid_price\").log().diff())\n",
    "        .otherwise(None)\n",
    "    )\n",
    "    \n",
    "    dfs[scale] = df_temp\n",
    "    \n",
    "    print(f\"\\n{scale} sampling:\")\n",
    "    print(df_temp.head())"
   ]
  },
  {
   "cell_type": "code",
   "execution_count": null,
   "metadata": {},
   "outputs": [],
   "source": [
    "\"\"\"\n",
    "import plotly.graph_objects as go\n",
    "\n",
    "# Create plots for each time scale\n",
    "for scale in time_scales:\n",
    "    df_current = dfs[scale]\n",
    "    \n",
    "    fig = go.Figure()\n",
    "    fig.add_trace(\n",
    "        go.Scatter(x=df_current[\"ts_event\"], y=df_current[\"mid_price\"], name=\"Mid Price\")\n",
    "    )\n",
    "    fig.update_layout(\n",
    "        title=f\"{scale} Sampling\",\n",
    "        xaxis_title=\"Time\", \n",
    "        yaxis_title=\"Mid Price\"\n",
    "    )\n",
    "    fig.show()\n",
    "\"\"\""
   ]
  },
  {
   "cell_type": "code",
   "execution_count": null,
   "metadata": {},
   "outputs": [],
   "source": [
    "# Calculate volatility under Bachelier model\n",
    "# In Bachelier model, log returns are normally distributed with variance = sigma^2 * dt\n",
    "# So sigma = sqrt(var(log returns) / dt)\n",
    "for scale in time_scales:\n",
    "    df_current = dfs[scale]\n",
    "    \n",
    "    # Add time difference column in seconds by converting nanoseconds to seconds\n",
    "    df_current = df_current.with_columns(\n",
    "        dt=pl.col(\"ts_event\").diff().cast(pl.Int64) / 1e9  # Convert directly to seconds\n",
    "    )\n",
    "    \n",
    "    # Calculate volatility using log variations and time differences, normalized by avg_spread\n",
    "    df_current = df_current.with_columns(\n",
    "        vol_bachelier=pl.when(pl.col(\"tick_variation\").is_not_null())\n",
    "        .then((pl.col(\"tick_variation\").abs() / pl.col(\"dt\").sqrt()) / avg_spread)\n",
    "        .otherwise(None)\n",
    "    )\n",
    "    \n",
    "    dfs[scale] = df_current\n",
    "    \n",
    "    # Print summary statistics\n",
    "    print(f\"\\nBachelier volatility stats for {scale} sampling:\")\n",
    "    print(df_current.select(\"vol_bachelier\").describe())\n"
   ]
  },
  {
   "cell_type": "code",
   "execution_count": null,
   "metadata": {},
   "outputs": [],
   "source": [
    "# Plot histograms and time series of volatility for each sampling scale\n",
    "import matplotlib.pyplot as plt\n",
    "\n",
    "# Create subplots for histograms\n",
    "fig_hist, axes_hist = plt.subplots(len(time_scales), 1, figsize=(10, 4*len(time_scales)))\n",
    "fig_hist.suptitle('Volatility Histograms by Sampling Scale')\n",
    "\n",
    "# Create subplots for time series\n",
    "fig_ts, axes_ts = plt.subplots(len(time_scales), 1, figsize=(10, 4*len(time_scales)))\n",
    "fig_ts.suptitle('Volatility Time Series by Sampling Scale')\n",
    "\n",
    "for i, scale in enumerate(time_scales):\n",
    "    df_current = dfs[scale]\n",
    "    \n",
    "    # Plot histogram\n",
    "    vol_data = df_current.select('vol_bachelier').to_numpy().flatten()\n",
    "    axes_hist[i].hist(vol_data[~np.isnan(vol_data)], bins=50, density=True)  # Remove NaN values\n",
    "    axes_hist[i].set_title(f'{scale} Sampling')\n",
    "    axes_hist[i].set_xlabel('Volatility')\n",
    "    axes_hist[i].set_ylabel('Density')\n",
    "    \n",
    "    # Plot time series - first day only\n",
    "    first_day = df_current.select('ts_event').to_numpy()[0].astype('datetime64[D]')\n",
    "    mask = df_current.select('ts_event').to_numpy().astype('datetime64[D]') == first_day\n",
    "    \n",
    "    axes_ts[i].plot(df_current.select('ts_event').to_numpy()[mask], \n",
    "                    df_current.select('vol_bachelier').to_numpy()[mask])\n",
    "    axes_ts[i].set_title(f'{scale} Sampling - First Day')\n",
    "    axes_ts[i].set_xlabel('Time') \n",
    "    axes_ts[i].set_ylabel('Volatility')\n",
    "\n",
    "plt.tight_layout()\n",
    "plt.show()\n",
    "plt.savefig(f\"/home/janis/HFTP2/HFT/results/hurst/plots/{stock}/{stock}_volatility_histograms_{threshold}.png\")"
   ]
  },
  {
   "cell_type": "code",
   "execution_count": null,
   "metadata": {},
   "outputs": [],
   "source": [
    "# Calculate volatility under Bachelier model\n",
    "# In Bachelier model, log returns are normally distributed with variance = sigma^2 * dt\n",
    "# So sigma = sqrt(var(log returns) / dt)\n",
    "for scale in time_scales:\n",
    "    df_current = dfs[scale]\n",
    "    \n",
    "    # Add time difference column in seconds by converting nanoseconds to seconds\n",
    "    df_current = df_current.with_columns(\n",
    "        dt=pl.col(\"ts_event\").diff().cast(pl.Int64) / 1e9  # Convert directly to seconds\n",
    "    )\n",
    "    \n",
    "    # Calculate volatility using log variations and time differences, normalized by avg_spread\n",
    "    df_current = df_current.with_columns(\n",
    "        vol_bachelier=pl.when(pl.col(\"log_variation\").is_not_null())\n",
    "        .then((pl.col(\"log_variation\").abs() / pl.col(\"dt\").sqrt()) / avg_spread)\n",
    "        .otherwise(None)\n",
    "    )\n",
    "    \n",
    "    dfs[scale] = df_current\n",
    "    \n",
    "    # Print summary statistics\n",
    "    print(f\"\\nBachelier volatility stats for {scale} sampling:\")\n",
    "    print(df_current.select(\"log_variation\").describe())\n"
   ]
  },
  {
   "cell_type": "code",
   "execution_count": null,
   "metadata": {},
   "outputs": [],
   "source": [
    "# Plot histograms and time series of volatility for each sampling scale\n",
    "import matplotlib.pyplot as plt\n",
    "\n",
    "# Create subplots for histograms\n",
    "fig_hist, axes_hist = plt.subplots(len(time_scales), 1, figsize=(10, 4*len(time_scales)))\n",
    "fig_hist.suptitle('Volatility Histograms by Sampling Scale')\n",
    "\n",
    "# Create subplots for time series\n",
    "fig_ts, axes_ts = plt.subplots(len(time_scales), 1, figsize=(10, 4*len(time_scales)))\n",
    "fig_ts.suptitle('Volatility Time Series by Sampling Scale')\n",
    "\n",
    "for i, scale in enumerate(time_scales):\n",
    "    df_current = dfs[scale]\n",
    "    \n",
    "    # Plot histogram\n",
    "    vol_data = df_current.select('log_variation').to_numpy().flatten()\n",
    "    axes_hist[i].hist(vol_data[~np.isnan(vol_data)], bins=50, density=True)  # Remove NaN values\n",
    "    axes_hist[i].set_title(f'{scale} Sampling')\n",
    "    axes_hist[i].set_xlabel('Volatility')\n",
    "    axes_hist[i].set_ylabel('Density')\n",
    "    \n",
    "    # Plot time series - first day only\n",
    "    first_day = df_current.select('ts_event').to_numpy()[0].astype('datetime64[D]')\n",
    "    mask = df_current.select('ts_event').to_numpy().astype('datetime64[D]') == first_day\n",
    "    \n",
    "    axes_ts[i].plot(df_current.select('ts_event').to_numpy()[mask], \n",
    "                    df_current.select('log_variation').to_numpy()[mask])\n",
    "    axes_ts[i].set_title(f'{scale} Sampling - First Day')\n",
    "    axes_ts[i].set_xlabel('Time') \n",
    "    axes_ts[i].set_ylabel('Volatility')\n",
    "\n",
    "plt.tight_layout()\n",
    "plt.show()\n",
    "plt.savefig(f\"/home/janis/HFTP2/HFT/results/hurst/plots/{stock}/{stock}_volatility_histograms_{threshold}.png\")\n",
    "plt.close(\"all\")"
   ]
  },
  {
   "cell_type": "code",
   "execution_count": null,
   "metadata": {},
   "outputs": [],
   "source": [
    "for scale in time_scales:\n",
    "    # describe all columns\n",
    "    print(dfs[scale].describe())"
   ]
  },
  {
   "cell_type": "code",
   "execution_count": 33,
   "metadata": {},
   "outputs": [],
   "source": [
    "time_scales = time_scales[::-1]"
   ]
  },
  {
   "cell_type": "code",
   "execution_count": null,
   "metadata": {},
   "outputs": [],
   "source": [
    "#plot autocorrelation of log variations\n",
    "\n",
    "for scale in tqdm(time_scales[::-1], \"Calculating autocorrelation for each scale\"):\n",
    "    # to npy and remove nans\n",
    "    print(scale)\n",
    "    log_var = dfs[scale].select(\"log_variation\").to_numpy().flatten()\n",
    "    log_var = log_var[~np.isnan(log_var)]\n",
    "    n = len(log_var)\n",
    "    lags = np.arange(n)\n",
    "    autocorr = np.array([np.corrcoef(log_var[:-lag], log_var[lag:])[0,1] if lag > 0 else 1 for lag in lags])\n",
    "\n",
    "    plt.plot(lags, autocorr)\n",
    "    plt.title(f\"Autocorrelation of Log Variations - {scale} Sampling\")\n",
    "    plt.xlabel(\"Lag\")\n",
    "    plt.grid()\n",
    "    plt.ylabel(\"Autocorrelation\")\n",
    "    plt.show()\n",
    "    plt.savefig(f\"/home/janis/HFTP2/HFT/results/hurst/plots/{stock}/{stock}_autocorrelation_{scale}log_var_vanilla.png\")\n"
   ]
  },
  {
   "cell_type": "code",
   "execution_count": null,
   "metadata": {},
   "outputs": [],
   "source": [
    "#plot autocorrelation of log variations\n",
    "\n",
    "for scale in tqdm(time_scales[::-1], \"Calculating autocorrelation for each scale\"):\n",
    "    # to npy and remove nans\n",
    "    print(scale)\n",
    "    log_var = dfs[scale].select(\"log_variation\").to_numpy().flatten()\n",
    "    log_var = log_var[~np.isnan(log_var)]\n",
    "    log_var = log_var * log_var\n",
    "    n = len(log_var)\n",
    "    lags = np.arange(n)\n",
    "    autocorr = np.array([np.corrcoef(log_var[:-lag], log_var[lag:])[0,1] if lag > 0 else 1 for lag in lags])\n",
    "\n",
    "    plt.plot(lags[:min(500,len(lags)//5)], autocorr[:min(500,len(lags)//5)])\n",
    "    plt.title(f\"Autocorrelation of Log Variations - {scale} Sampling\")\n",
    "    plt.xlabel(\"Lag\")\n",
    "    plt.grid()\n",
    "    plt.yscale(\"log\")\n",
    "    plt.ylabel(\"Autocorrelation\")\n",
    "    plt.show()\n",
    "    plt.savefig(f\"/home/janis/HFTP2/HFT/results/hurst/plots/{stock}/{stock}_autocorrelation_{scale}_squared_logvar_betterviz_500_log.png\")\n"
   ]
  },
  {
   "cell_type": "code",
   "execution_count": null,
   "metadata": {},
   "outputs": [],
   "source": [
    "# Compute volatility as rolling mean of squared log variations\n",
    "window_size = 20  # Number of periods to use for rolling window\n",
    "\n",
    "for scale in time_scales:\n",
    "    # Square the log variations \n",
    "    dfs[scale] = dfs[scale].with_columns(\n",
    "        pl.col(\"log_variation\").pow(2).alias(\"squared_log_var\")\n",
    "    )\n",
    "    \n",
    "    # Calculate rolling mean volatility\n",
    "    dfs[scale] = dfs[scale].with_columns(\n",
    "        pl.col(\"squared_log_var\")\n",
    "        .rolling_mean(window_size=window_size)\n",
    "        .sqrt()  # Take sqrt to get volatility in original units\n",
    "        .alias(\"rolling_volatility\")\n",
    "    )\n",
    "\n",
    "    # Plot the rolling volatility\n",
    "    plt.figure(figsize=(10,6))\n",
    "    # Get first day by filtering ts_event to only include data from the first date\n",
    "    first_day = dfs[scale][\"ts_event\"].dt.date()[0]\n",
    "    mask = dfs[scale][\"ts_event\"].dt.date() == first_day\n",
    "    plt.plot(dfs[scale].filter(mask)[\"ts_event\"], dfs[scale].filter(mask)[\"rolling_volatility\"])\n",
    "    plt.title(f\"Rolling Volatility ({window_size} period) - {scale} Sampling\")\n",
    "    plt.xlabel(\"Time\")\n",
    "    plt.ylabel(\"Volatility\")\n",
    "    plt.grid(True)\n",
    "    plt.show()\n",
    "    plt.savefig(f\"/home/janis/HFTP2/HFT/results/hurst/plots/{stock}/{stock}_rolling_vol_{scale}.png\")\n"
   ]
  },
  {
   "cell_type": "code",
   "execution_count": null,
   "metadata": {},
   "outputs": [],
   "source": [
    "from hurst import compute_Hc\n",
    "\n",
    "for scale in time_scales:\n",
    "    # to npy and remove nans\n",
    "    log_var = dfs[scale].select(\"log_variation\").to_numpy().flatten()\n",
    "    log_var = log_var[~np.isnan(log_var)]\n",
    "    H, c, data = compute_Hc(log_var)\n",
    "    print(f\"Hurst Exponent for {scale} Sampling: {H}\")\n",
    "    print(f\"Hurst Exponent for {scale} Sampling: {H}\")\n"
   ]
  },
  {
   "cell_type": "code",
   "execution_count": null,
   "metadata": {},
   "outputs": [],
   "source": [
    "from hurst import compute_Hc\n",
    "\n",
    "for scale in time_scales:\n",
    "    # to npy and remove nans\n",
    "    log_var = dfs[scale].select(\"log_variation\").to_numpy().flatten()\n",
    "    log_var = log_var[~np.isnan(log_var)]\n",
    "    log_var = log_var * log_var\n",
    "    H, c, data = compute_Hc(log_var)\n",
    "    print(f\"Hurst Exponent for {scale} Sampling: {H}\")\n",
    "    print(f\"Hurst Exponent for {scale} Sampling: {H}\")\n"
   ]
  },
  {
   "cell_type": "code",
   "execution_count": null,
   "metadata": {},
   "outputs": [],
   "source": [
    "import arch\n",
    "import matplotlib.pyplot as plt\n",
    "import numpy as np\n",
    "\n",
    "for scale in time_scales:\n",
    "    print(f\"\\nFitting GARCH model for {scale} sampling\")\n",
    "    \n",
    "    # Get first day data only\n",
    "    first_day = dfs[scale][\"ts_event\"].dt.date()[0]\n",
    "    mask = dfs[scale][\"ts_event\"].dt.date() == first_day\n",
    "    first_day_data = dfs[scale].filter(mask)\n",
    "    \n",
    "    # Get returns data for first day only\n",
    "    returns = first_day_data.select(\"mid_price\").to_numpy().flatten()\n",
    "    \n",
    "    # Create and fit GARCH(1,1) model with constant mean\n",
    "    model = arch.arch_model(returns, mean='Constant', vol='GARCH', p=1, q=1)\n",
    "    results = model.fit(disp='off')  # Suppress optimization output\n",
    "    print(results.summary())\n",
    "\n",
    "    # Get conditional volatility\n",
    "    cvol = results.conditional_volatility\n",
    "    \n",
    "    # Get standardized residuals \n",
    "    stres = results.resid / cvol\n",
    "    \n",
    "    # Make predictions\n",
    "    forecasts = results.forecast(horizon=3)\n",
    "    \n",
    "    # Plot conditional volatility\n",
    "    plt.figure(figsize=(10,6))\n",
    "    plt.plot(first_day_data[\"ts_event\"], cvol)\n",
    "    plt.title(f\"GARCH Conditional Volatility - {scale} Sampling\")\n",
    "    plt.xlabel(\"Time\") \n",
    "    plt.ylabel(\"Conditional Volatility\")\n",
    "    plt.grid(True)\n",
    "    plt.show()\n",
    "    plt.savefig(f\"/home/janis/HFTP2/HFT/results/hurst/plots/{stock}/{stock}_garch_vol_{scale}.png\")\n",
    "\n",
    "    # Plot standardized residuals\n",
    "    plt.figure(figsize=(10,6))\n",
    "    plt.plot(first_day_data[\"ts_event\"], stres)\n",
    "    plt.title(f\"GARCH Standardized Residuals - {scale} Sampling\")\n",
    "    plt.xlabel(\"Time\")\n",
    "    plt.ylabel(\"Standardized Residuals\")\n",
    "    plt.grid(True)\n",
    "    plt.show()\n",
    "    # vol extraction\n",
    "    vol = cvol[~np.isnan(cvol)]\n",
    "    vol1 = vol[len(vol)//2:]\n",
    "    vol2 = vol[:len(vol)//2]\n",
    "    H, c, data = compute_Hc(vol1)\n",
    "    H2, c2, data2 = compute_Hc(vol2)\n",
    "    print(f\"Hurst Exponent for {scale} Sampling: {H}\")\n",
    "    print(f\"Hurst Exponent for {scale} Sampling: {H2}\")\n",
    "    plt.savefig(f\"/home/janis/HFTP2/HFT/results/hurst/plots/{stock}/{stock}_garch_resid_{scale}.png\")\n"
   ]
  },
  {
   "cell_type": "code",
   "execution_count": null,
   "metadata": {},
   "outputs": [],
   "source": []
  },
  {
   "cell_type": "code",
   "execution_count": null,
   "metadata": {},
   "outputs": [],
   "source": []
  }
 ],
 "metadata": {
  "kernelspec": {
   "display_name": ".venv",
   "language": "python",
   "name": "python3"
  },
  "language_info": {
   "codemirror_mode": {
    "name": "ipython",
    "version": 3
   },
   "file_extension": ".py",
   "mimetype": "text/x-python",
   "name": "python",
   "nbconvert_exporter": "python",
   "pygments_lexer": "ipython3",
   "version": "3.12.7"
  }
 },
 "nbformat": 4,
 "nbformat_minor": 2
}
