{
 "cells": [
  {
   "cell_type": "code",
   "execution_count": 1,
   "metadata": {},
   "outputs": [
    {
     "name": "stderr",
     "output_type": "stream",
     "text": [
      "Python-dotenv could not parse statement starting at line 4\n",
      "Python-dotenv could not parse statement starting at line 5\n",
      "Python-dotenv could not parse statement starting at line 6\n",
      "Python-dotenv could not parse statement starting at line 7\n",
      "Python-dotenv could not parse statement starting at line 8\n",
      "Python-dotenv could not parse statement starting at line 9\n",
      "Python-dotenv could not parse statement starting at line 10\n"
     ]
    },
    {
     "data": {
      "text/plain": [
       "True"
      ]
     },
     "execution_count": 1,
     "metadata": {},
     "output_type": "execute_result"
    }
   ],
   "source": [
    "import os\n",
    "import polars as pl\n",
    "import dotenv\n",
    "from tqdm import tqdm\n",
    "import plotly.graph_objects as go\n",
    "FOLDER_PATH = os.getenv(\"FOLDER_PATH\")\n",
    "\n",
    "\n",
    "dotenv.load_dotenv()"
   ]
  },
  {
   "cell_type": "code",
   "execution_count": 2,
   "metadata": {},
   "outputs": [],
   "source": [
    "df =  df = pl.read_parquet(f\"{FOLDER_PATH}INTC/INTC_2024-07-22.parquet\")"
   ]
  },
  {
   "cell_type": "code",
   "execution_count": 3,
   "metadata": {},
   "outputs": [
    {
     "data": {
      "text/html": [
       "<div><style>\n",
       ".dataframe > thead > tr,\n",
       ".dataframe > tbody > tr {\n",
       "  text-align: right;\n",
       "  white-space: pre-wrap;\n",
       "}\n",
       "</style>\n",
       "<small>shape: (5, 75)</small><table border=\"1\" class=\"dataframe\"><thead><tr><th>ts_event</th><th>rtype</th><th>publisher_id</th><th>instrument_id</th><th>action</th><th>side</th><th>depth</th><th>price</th><th>size</th><th>flags</th><th>ts_in_delta</th><th>sequence</th><th>bid_px_00</th><th>ask_px_00</th><th>bid_sz_00</th><th>ask_sz_00</th><th>bid_ct_00</th><th>ask_ct_00</th><th>bid_px_01</th><th>ask_px_01</th><th>bid_sz_01</th><th>ask_sz_01</th><th>bid_ct_01</th><th>ask_ct_01</th><th>bid_px_02</th><th>ask_px_02</th><th>bid_sz_02</th><th>ask_sz_02</th><th>bid_ct_02</th><th>ask_ct_02</th><th>bid_px_03</th><th>ask_px_03</th><th>bid_sz_03</th><th>ask_sz_03</th><th>bid_ct_03</th><th>ask_ct_03</th><th>bid_px_04</th><th>ask_px_04</th><th>bid_sz_04</th><th>ask_sz_04</th><th>bid_ct_04</th><th>ask_ct_04</th><th>bid_px_05</th><th>ask_px_05</th><th>bid_sz_05</th><th>ask_sz_05</th><th>bid_ct_05</th><th>ask_ct_05</th><th>bid_px_06</th><th>ask_px_06</th><th>bid_sz_06</th><th>ask_sz_06</th><th>bid_ct_06</th><th>ask_ct_06</th><th>bid_px_07</th><th>ask_px_07</th><th>bid_sz_07</th><th>ask_sz_07</th><th>bid_ct_07</th><th>ask_ct_07</th><th>bid_px_08</th><th>ask_px_08</th><th>bid_sz_08</th><th>ask_sz_08</th><th>bid_ct_08</th><th>ask_ct_08</th><th>bid_px_09</th><th>ask_px_09</th><th>bid_sz_09</th><th>ask_sz_09</th><th>bid_ct_09</th><th>ask_ct_09</th><th>symbol</th><th>date</th><th>ts_recv</th></tr><tr><td>datetime[ns, US/Eastern]</td><td>u8</td><td>u16</td><td>u32</td><td>str</td><td>str</td><td>u8</td><td>f64</td><td>u32</td><td>u8</td><td>i32</td><td>u32</td><td>f64</td><td>f64</td><td>u32</td><td>u32</td><td>u32</td><td>u32</td><td>f64</td><td>f64</td><td>u32</td><td>u32</td><td>u32</td><td>u32</td><td>f64</td><td>f64</td><td>u32</td><td>u32</td><td>u32</td><td>u32</td><td>f64</td><td>f64</td><td>u32</td><td>u32</td><td>u32</td><td>u32</td><td>f64</td><td>f64</td><td>u32</td><td>u32</td><td>u32</td><td>u32</td><td>f64</td><td>f64</td><td>u32</td><td>u32</td><td>u32</td><td>u32</td><td>f64</td><td>f64</td><td>u32</td><td>u32</td><td>u32</td><td>u32</td><td>f64</td><td>f64</td><td>u32</td><td>u32</td><td>u32</td><td>u32</td><td>f64</td><td>f64</td><td>u32</td><td>u32</td><td>u32</td><td>u32</td><td>f64</td><td>f64</td><td>u32</td><td>u32</td><td>u32</td><td>u32</td><td>str</td><td>date</td><td>datetime[ns, UTC]</td></tr></thead><tbody><tr><td>2024-07-22 04:00:00.019136430 EDT</td><td>10</td><td>2</td><td>8565</td><td>&quot;A&quot;</td><td>&quot;N&quot;</td><td>0</td><td>32.94</td><td>300</td><td>130</td><td>166862</td><td>272865</td><td>32.94</td><td>null</td><td>300</td><td>0</td><td>1</td><td>0</td><td>null</td><td>null</td><td>0</td><td>0</td><td>0</td><td>0</td><td>null</td><td>null</td><td>0</td><td>0</td><td>0</td><td>0</td><td>null</td><td>null</td><td>0</td><td>0</td><td>0</td><td>0</td><td>null</td><td>null</td><td>0</td><td>0</td><td>0</td><td>0</td><td>null</td><td>null</td><td>0</td><td>0</td><td>0</td><td>0</td><td>null</td><td>null</td><td>0</td><td>0</td><td>0</td><td>0</td><td>null</td><td>null</td><td>0</td><td>0</td><td>0</td><td>0</td><td>null</td><td>null</td><td>0</td><td>0</td><td>0</td><td>0</td><td>null</td><td>null</td><td>0</td><td>0</td><td>0</td><td>0</td><td>&quot;INTC&quot;</td><td>2024-07-22</td><td>2024-07-22 08:00:00.019303292 UTC</td></tr><tr><td>2024-07-22 04:00:00.019176414 EDT</td><td>10</td><td>2</td><td>8565</td><td>&quot;A&quot;</td><td>&quot;A&quot;</td><td>0</td><td>33.24</td><td>300</td><td>130</td><td>165991</td><td>272870</td><td>32.94</td><td>33.24</td><td>300</td><td>300</td><td>1</td><td>1</td><td>null</td><td>null</td><td>0</td><td>0</td><td>0</td><td>0</td><td>null</td><td>null</td><td>0</td><td>0</td><td>0</td><td>0</td><td>null</td><td>null</td><td>0</td><td>0</td><td>0</td><td>0</td><td>null</td><td>null</td><td>0</td><td>0</td><td>0</td><td>0</td><td>null</td><td>null</td><td>0</td><td>0</td><td>0</td><td>0</td><td>null</td><td>null</td><td>0</td><td>0</td><td>0</td><td>0</td><td>null</td><td>null</td><td>0</td><td>0</td><td>0</td><td>0</td><td>null</td><td>null</td><td>0</td><td>0</td><td>0</td><td>0</td><td>null</td><td>null</td><td>0</td><td>0</td><td>0</td><td>0</td><td>&quot;INTC&quot;</td><td>2024-07-22</td><td>2024-07-22 08:00:00.019342405 UTC</td></tr><tr><td>2024-07-22 04:00:00.124162129 EDT</td><td>10</td><td>2</td><td>8565</td><td>&quot;A&quot;</td><td>&quot;A&quot;</td><td>0</td><td>33.15</td><td>98</td><td>130</td><td>165583</td><td>274848</td><td>32.94</td><td>33.15</td><td>300</td><td>98</td><td>1</td><td>1</td><td>null</td><td>33.24</td><td>0</td><td>300</td><td>0</td><td>1</td><td>null</td><td>null</td><td>0</td><td>0</td><td>0</td><td>0</td><td>null</td><td>null</td><td>0</td><td>0</td><td>0</td><td>0</td><td>null</td><td>null</td><td>0</td><td>0</td><td>0</td><td>0</td><td>null</td><td>null</td><td>0</td><td>0</td><td>0</td><td>0</td><td>null</td><td>null</td><td>0</td><td>0</td><td>0</td><td>0</td><td>null</td><td>null</td><td>0</td><td>0</td><td>0</td><td>0</td><td>null</td><td>null</td><td>0</td><td>0</td><td>0</td><td>0</td><td>null</td><td>null</td><td>0</td><td>0</td><td>0</td><td>0</td><td>&quot;INTC&quot;</td><td>2024-07-22</td><td>2024-07-22 08:00:00.124327712 UTC</td></tr><tr><td>2024-07-22 04:00:00.124660817 EDT</td><td>10</td><td>2</td><td>8565</td><td>&quot;T&quot;</td><td>&quot;N&quot;</td><td>0</td><td>32.95</td><td>60</td><td>0</td><td>221450</td><td>274851</td><td>32.94</td><td>33.15</td><td>300</td><td>98</td><td>1</td><td>1</td><td>null</td><td>33.24</td><td>0</td><td>300</td><td>0</td><td>1</td><td>null</td><td>null</td><td>0</td><td>0</td><td>0</td><td>0</td><td>null</td><td>null</td><td>0</td><td>0</td><td>0</td><td>0</td><td>null</td><td>null</td><td>0</td><td>0</td><td>0</td><td>0</td><td>null</td><td>null</td><td>0</td><td>0</td><td>0</td><td>0</td><td>null</td><td>null</td><td>0</td><td>0</td><td>0</td><td>0</td><td>null</td><td>null</td><td>0</td><td>0</td><td>0</td><td>0</td><td>null</td><td>null</td><td>0</td><td>0</td><td>0</td><td>0</td><td>null</td><td>null</td><td>0</td><td>0</td><td>0</td><td>0</td><td>&quot;INTC&quot;</td><td>2024-07-22</td><td>2024-07-22 08:00:00.124882267 UTC</td></tr><tr><td>2024-07-22 04:00:00.124660817 EDT</td><td>10</td><td>2</td><td>8565</td><td>&quot;A&quot;</td><td>&quot;B&quot;</td><td>0</td><td>33.03</td><td>49</td><td>130</td><td>221450</td><td>274852</td><td>33.03</td><td>33.15</td><td>49</td><td>98</td><td>1</td><td>1</td><td>32.94</td><td>33.24</td><td>300</td><td>300</td><td>1</td><td>1</td><td>null</td><td>null</td><td>0</td><td>0</td><td>0</td><td>0</td><td>null</td><td>null</td><td>0</td><td>0</td><td>0</td><td>0</td><td>null</td><td>null</td><td>0</td><td>0</td><td>0</td><td>0</td><td>null</td><td>null</td><td>0</td><td>0</td><td>0</td><td>0</td><td>null</td><td>null</td><td>0</td><td>0</td><td>0</td><td>0</td><td>null</td><td>null</td><td>0</td><td>0</td><td>0</td><td>0</td><td>null</td><td>null</td><td>0</td><td>0</td><td>0</td><td>0</td><td>null</td><td>null</td><td>0</td><td>0</td><td>0</td><td>0</td><td>&quot;INTC&quot;</td><td>2024-07-22</td><td>2024-07-22 08:00:00.124882267 UTC</td></tr></tbody></table></div>"
      ],
      "text/plain": [
       "shape: (5, 75)\n",
       "┌─────────────┬───────┬────────────┬────────────┬───┬───────────┬────────┬────────────┬────────────┐\n",
       "│ ts_event    ┆ rtype ┆ publisher_ ┆ instrument ┆ … ┆ ask_ct_09 ┆ symbol ┆ date       ┆ ts_recv    │\n",
       "│ ---         ┆ ---   ┆ id         ┆ _id        ┆   ┆ ---       ┆ ---    ┆ ---        ┆ ---        │\n",
       "│ datetime[ns ┆ u8    ┆ ---        ┆ ---        ┆   ┆ u32       ┆ str    ┆ date       ┆ datetime[n │\n",
       "│ ,           ┆       ┆ u16        ┆ u32        ┆   ┆           ┆        ┆            ┆ s, UTC]    │\n",
       "│ US/Eastern] ┆       ┆            ┆            ┆   ┆           ┆        ┆            ┆            │\n",
       "╞═════════════╪═══════╪════════════╪════════════╪═══╪═══════════╪════════╪════════════╪════════════╡\n",
       "│ 2024-07-22  ┆ 10    ┆ 2          ┆ 8565       ┆ … ┆ 0         ┆ INTC   ┆ 2024-07-22 ┆ 2024-07-22 │\n",
       "│ 04:00:00.01 ┆       ┆            ┆            ┆   ┆           ┆        ┆            ┆ 08:00:00.0 │\n",
       "│ 9136430 …   ┆       ┆            ┆            ┆   ┆           ┆        ┆            ┆ 19303292 … │\n",
       "│ 2024-07-22  ┆ 10    ┆ 2          ┆ 8565       ┆ … ┆ 0         ┆ INTC   ┆ 2024-07-22 ┆ 2024-07-22 │\n",
       "│ 04:00:00.01 ┆       ┆            ┆            ┆   ┆           ┆        ┆            ┆ 08:00:00.0 │\n",
       "│ 9176414 …   ┆       ┆            ┆            ┆   ┆           ┆        ┆            ┆ 19342405 … │\n",
       "│ 2024-07-22  ┆ 10    ┆ 2          ┆ 8565       ┆ … ┆ 0         ┆ INTC   ┆ 2024-07-22 ┆ 2024-07-22 │\n",
       "│ 04:00:00.12 ┆       ┆            ┆            ┆   ┆           ┆        ┆            ┆ 08:00:00.1 │\n",
       "│ 4162129 …   ┆       ┆            ┆            ┆   ┆           ┆        ┆            ┆ 24327712 … │\n",
       "│ 2024-07-22  ┆ 10    ┆ 2          ┆ 8565       ┆ … ┆ 0         ┆ INTC   ┆ 2024-07-22 ┆ 2024-07-22 │\n",
       "│ 04:00:00.12 ┆       ┆            ┆            ┆   ┆           ┆        ┆            ┆ 08:00:00.1 │\n",
       "│ 4660817 …   ┆       ┆            ┆            ┆   ┆           ┆        ┆            ┆ 24882267 … │\n",
       "│ 2024-07-22  ┆ 10    ┆ 2          ┆ 8565       ┆ … ┆ 0         ┆ INTC   ┆ 2024-07-22 ┆ 2024-07-22 │\n",
       "│ 04:00:00.12 ┆       ┆            ┆            ┆   ┆           ┆        ┆            ┆ 08:00:00.1 │\n",
       "│ 4660817 …   ┆       ┆            ┆            ┆   ┆           ┆        ┆            ┆ 24882267 … │\n",
       "└─────────────┴───────┴────────────┴────────────┴───┴───────────┴────────┴────────────┴────────────┘"
      ]
     },
     "execution_count": 3,
     "metadata": {},
     "output_type": "execute_result"
    }
   ],
   "source": [
    "df.head()"
   ]
  },
  {
   "cell_type": "code",
   "execution_count": 4,
   "metadata": {},
   "outputs": [],
   "source": [
    "num_entries_by_publisher = df.group_by(\"publisher_id\").len().sort(\"len\", descending=True)\n",
    "if len(num_entries_by_publisher) > 1:\n",
    "    df = df.filter(pl.col(\"publisher_id\") == 41)"
   ]
  },
  {
   "cell_type": "code",
   "execution_count": null,
   "metadata": {},
   "outputs": [],
   "source": [
    "print(num_entries_by_publisher)"
   ]
  },
  {
   "cell_type": "code",
   "execution_count": 6,
   "metadata": {},
   "outputs": [],
   "source": [
    "df = df.filter(\n",
    "    (\n",
    "        (pl.col(\"ts_event\").dt.hour() == 9) & (pl.col(\"ts_event\").dt.minute() >= 30) |\n",
    "        (pl.col(\"ts_event\").dt.hour() > 9) & (pl.col(\"ts_event\").dt.hour() < 16) |\n",
    "        (pl.col(\"ts_event\").dt.hour() == 16) & (pl.col(\"ts_event\").dt.minute() == 0)\n",
    "    )\n",
    ")"
   ]
  },
  {
   "cell_type": "code",
   "execution_count": 7,
   "metadata": {},
   "outputs": [],
   "source": [
    "mid_price = (df[\"ask_px_00\"] + df[\"bid_px_00\"]) / 2        \n",
    "# managing nans or infs, preceding value filling\n",
    "mid_price = mid_price.fill_nan(mid_price.shift(1))"
   ]
  },
  {
   "cell_type": "code",
   "execution_count": null,
   "metadata": {},
   "outputs": [],
   "source": [
    "\n",
    "# Create figure\n",
    "fig = go.Figure()\n",
    "\n",
    "# Add best bid line\n",
    "fig.add_trace(go.Scatter(\n",
    "    x=df['ts_event'],\n",
    "    y=df['bid_px_00'],\n",
    "    mode='lines',\n",
    "    name='Best Bid',\n",
    "    line=dict(color='blue')\n",
    "))\n",
    "\n",
    "# Add best ask line  \n",
    "fig.add_trace(go.Scatter(\n",
    "    x=df['ts_event'], \n",
    "    y=df['ask_px_00'],\n",
    "    mode='lines',\n",
    "    name='Best Ask',\n",
    "    line=dict(color='red')\n",
    "))\n",
    "\n",
    "fig.add_trace(go.Scatter(\n",
    "    x=df['ts_event'],\n",
    "    y=mid_price,\n",
    "    mode='lines',\n",
    "    name='Mid Price',\n",
    "    line=dict(color='black')\n",
    "))\n",
    "\n",
    "\n",
    "# Update layout\n",
    "fig.update_layout(\n",
    "    title='Order Book and bid/ask',\n",
    "    xaxis_title='Time',\n",
    "    yaxis_title='Price',\n",
    "    showlegend=True\n",
    ")\n",
    "\n",
    "fig.show()\n",
    "\n"
   ]
  },
  {
   "cell_type": "code",
   "execution_count": null,
   "metadata": {},
   "outputs": [],
   "source": [
    "pl.save_parquet(df, f\"{FOLDER_PATH}/INTC/INTC_2024-07-22_curated.parquet\")"
   ]
  },
  {
   "cell_type": "code",
   "execution_count": null,
   "metadata": {},
   "outputs": [],
   "source": [
    "\n",
    "for stock in tqdm(os.listdir(FOLDER_PATH)[0:1], desc=\"Stock treatment\"):\n",
    "    for file in tqdm(os.listdir(f\"{FOLDER_PATH}/{stock}\"), desc=\"File treatment\"):\n",
    "       \n",
    "        if pl.col(\"publisher_id\").n_unique() > 1:\n",
    "            df = df.filter(pl.col(\"publisher_id\") == 41)\n",
    "        else:\n",
    "            df = df.filter(pl.col(\"publisher_id\") == 2)\n",
    "            \n",
    "            \n",
    "        if stock == \"GOOGL\":\n",
    "            df = df.filter(pl.col(\"ts_event\").dt.hour() >= 13)\n",
    "            df = df.filter(pl.col(\"ts_event\").dt.hour() <= 20)\n",
    "        else:\n",
    "            df = df.filter(\n",
    "                (\n",
    "                    (pl.col(\"ts_event\").dt.hour() == 9) & (pl.col(\"ts_event\").dt.minute() >= 30) |\n",
    "                    (pl.col(\"ts_event\").dt.hour() > 9) & (pl.col(\"ts_event\").dt.hour() < 16) |\n",
    "                    (pl.col(\"ts_event\").dt.hour() == 16) & (pl.col(\"ts_event\").dt.minute() == 0)\n",
    "                )\n",
    "            )\n",
    "        \n",
    "        mid_price = (df[\"ask_px_00\"] + df[\"bid_px_00\"]) / 2\n",
    "        \n",
    "        # managing nans or infs, preceding value filling\n",
    "        mid_price = mid_price.fill_nan(mid_price.shift(1)).fill_inf(mid_price.shift(1)).fill_null(mid_price.shift(1))\n",
    "        df = df.with_columns(mid_price=mid_price)\n",
    "        df.write_parquet(f\"{FOLDER_PATH}/{stock}/{file[:-9]}_curated.parquet\")\n",
    "        \n",
    "\n",
    "\n",
    "\n",
    "\n",
    "\n",
    "\n"
   ]
  },
  {
   "cell_type": "code",
   "execution_count": null,
   "metadata": {},
   "outputs": [],
   "source": []
  }
 ],
 "metadata": {
  "kernelspec": {
   "display_name": ".venv",
   "language": "python",
   "name": "python3"
  },
  "language_info": {
   "codemirror_mode": {
    "name": "ipython",
    "version": 3
   },
   "file_extension": ".py",
   "mimetype": "text/x-python",
   "name": "python",
   "nbconvert_exporter": "python",
   "pygments_lexer": "ipython3",
   "version": "3.12.7"
  }
 },
 "nbformat": 4,
 "nbformat_minor": 2
}
