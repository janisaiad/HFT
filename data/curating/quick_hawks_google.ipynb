{
 "cells": [
  {
   "cell_type": "markdown",
   "id": "7c2ccc3d",
   "metadata": {},
   "source": [
    "jupyter:\n",
    "  jupytext:\n",
    "    text_representation:\n",
    "      extension: .py\n",
    "      format_name: percent\n",
    "      format_version: '1.5'\n",
    "      jupytext_version: 1.16.7\n",
    "  kernelspec:\n",
    "    display_name: .venv\n",
    "    language: python\n",
    "    name: python3\n",
    "---"
   ]
  },
  {
   "cell_type": "code",
   "execution_count": 34,
   "id": "91873d82",
   "metadata": {},
   "outputs": [],
   "source": [
    "import os\n",
    "import polars as pl\n",
    "import dotenv\n",
    "import numpy as np\n",
    "import matplotlib.pyplot as plt\n",
    "from scipy.optimize import minimize\n",
    "from scipy.stats import norm\n",
    "from tqdm import tqdm"
   ]
  },
  {
   "cell_type": "code",
   "execution_count": 35,
   "id": "d413a779",
   "metadata": {
    "lines_to_next_cell": 1
   },
   "outputs": [
    {
     "name": "stderr",
     "output_type": "stream",
     "text": [
      "Python-dotenv could not parse statement starting at line 4\n",
      "Python-dotenv could not parse statement starting at line 5\n",
      "Python-dotenv could not parse statement starting at line 6\n",
      "Python-dotenv could not parse statement starting at line 7\n",
      "Python-dotenv could not parse statement starting at line 8\n",
      "Python-dotenv could not parse statement starting at line 9\n",
      "Python-dotenv could not parse statement starting at line 10\n"
     ]
    },
    {
     "data": {
      "text/plain": [
       "True"
      ]
     },
     "execution_count": 35,
     "metadata": {},
     "output_type": "execute_result"
    }
   ],
   "source": [
    "dotenv.load_dotenv()"
   ]
  },
  {
   "cell_type": "code",
   "execution_count": 36,
   "id": "f177f146",
   "metadata": {
    "lines_to_next_cell": 1
   },
   "outputs": [],
   "source": [
    "def hill_estimator(data, k):\n",
    "    \"\"\"Compute Hill estimator for tail index\"\"\"\n",
    "    sorted_data = np.sort(data)[::-1]  # Sort in descending order\n",
    "    if k >= len(sorted_data):\n",
    "        return None\n",
    "    log_ratios = np.log(sorted_data[:k] / sorted_data[k])\n",
    "    return k / np.sum(log_ratios)"
   ]
  },
  {
   "cell_type": "code",
   "execution_count": 37,
   "id": "fa0ac739",
   "metadata": {},
   "outputs": [],
   "source": [
    "# Load GOOGL data\n",
    "df = pl.read_parquet(\"/home/janis/HFTP2/HFT/data/DB_MBP_10/data/hawkes_dataset/GOOGL/GOOGL_2024-08-08.parquet\")"
   ]
  },
  {
   "cell_type": "code",
   "execution_count": 38,
   "id": "68044f7a",
   "metadata": {},
   "outputs": [],
   "source": [
    "# Define counting processes based on the columns\n",
    "counting_processes = {\n",
    "    \"P_a\": df[\"P_a\"],\n",
    "    \"P_b\": df[\"P_b\"],\n",
    "    \"T_a\": df[\"T_a\"],\n",
    "    \"T_b\": df[\"T_b\"], \n",
    "    \"L_a\": df[\"L_a\"],\n",
    "    \"L_b\": df[\"L_b\"],\n",
    "    \"C_a\": df[\"C_a\"],\n",
    "    \"C_b\": df[\"C_b\"]\n",
    "}"
   ]
  },
  {
   "cell_type": "code",
   "execution_count": 39,
   "id": "d5760bb3",
   "metadata": {},
   "outputs": [
    {
     "name": "stdout",
     "output_type": "stream",
     "text": [
      "\n",
      "Analyse du processus P_a\n",
      "Nombre d'événements: 134843\n",
      "Moyenne estimateur de Hill: 3.2222\n",
      "\n",
      "Analyse du processus P_b\n",
      "Nombre d'événements: 134855\n",
      "Moyenne estimateur de Hill: 3.3728\n",
      "\n",
      "Analyse du processus T_a\n",
      "Nombre d'événements: 47652\n",
      "Moyenne estimateur de Hill: 4.4513\n",
      "\n",
      "Analyse du processus T_b\n",
      "Nombre d'événements: 43866\n",
      "Moyenne estimateur de Hill: 4.9931\n",
      "\n",
      "Analyse du processus L_a\n",
      "Nombre d'événements: 835378\n",
      "Moyenne estimateur de Hill: 4.0111\n",
      "\n",
      "Analyse du processus L_b\n",
      "Nombre d'événements: 736989\n",
      "Moyenne estimateur de Hill: 3.5690\n",
      "\n",
      "Analyse du processus C_a\n",
      "Nombre d'événements: 824702\n",
      "Moyenne estimateur de Hill: 4.4899\n",
      "\n",
      "Analyse du processus C_b\n",
      "Nombre d'événements: 714962\n",
      "Moyenne estimateur de Hill: 4.1154\n"
     ]
    }
   ],
   "source": [
    "for process_name, events in counting_processes.items():\n",
    "    print(f\"\\nAnalyse du processus {process_name}\")\n",
    "    \n",
    "    # Convert to inter-arrival times\n",
    "    events_np = df[\"ts_event\"].to_numpy()\n",
    "    counts = events.to_numpy()\n",
    "    \n",
    "    if len(events_np) > 1:\n",
    "        start_time = events_np[0]\n",
    "        event_times_sec = (events_np - start_time).astype('timedelta64[ns]').astype(np.float64) / 1e9\n",
    "        \n",
    "        # Get times where count changes\n",
    "        event_indices = np.where(np.diff(counts) != 0)[0] + 1\n",
    "        event_times = event_times_sec[event_indices]\n",
    "        inter_arrival_times = np.diff(event_times)\n",
    "        \n",
    "        # Calculate Hill estimator\n",
    "        k_values = np.arange(10, min(100, len(inter_arrival_times)))\n",
    "        hill_estimates = [hill_estimator(inter_arrival_times, k) for k in k_values]\n",
    "        \n",
    "        print(f\"Nombre d'événements: {len(event_indices)}\")\n",
    "        print(f\"Moyenne estimateur de Hill: {np.mean(hill_estimates):.4f}\")\n",
    "        \n",
    "        # Create plots\n",
    "        plt.figure(figsize=(12, 6))\n",
    "        \n",
    "        # Plot 1: Hill estimator vs k\n",
    "        plt.subplot(1, 2, 1)\n",
    "        plt.plot(k_values, hill_estimates, 'b-', label='Estimateur de Hill')\n",
    "        plt.axhline(y=np.mean(hill_estimates), color='r', linestyle='--',\n",
    "                   label=f'Moyenne α ≈ {np.mean(hill_estimates):.2f}')\n",
    "        plt.xlabel('k')\n",
    "        plt.ylabel('Estimateur de Hill α')\n",
    "        plt.title(f'Estimateur de Hill vs k - {process_name}')\n",
    "        plt.legend()\n",
    "        \n",
    "        # Plot 2: Inter-arrival time distribution\n",
    "        plt.subplot(1, 2, 2)\n",
    "        plt.hist(inter_arrival_times, bins=50, density=True, alpha=0.7)\n",
    "        plt.xlabel('Temps inter-arrivée (s)')\n",
    "        plt.ylabel('Densité')\n",
    "        plt.title(f'Distribution des temps inter-arrivée - {process_name}')\n",
    "        \n",
    "        plt.tight_layout()\n",
    "        plt.savefig(f'inter_arrival_times_analysis_{process_name}.png')\n",
    "        plt.close()\n",
    "    else:\n",
    "        print(f\"Pas assez d'événements pour analyser {process_name}\")"
   ]
  }
 ],
 "metadata": {
  "jupytext": {
   "cell_metadata_filter": "-all",
   "main_language": "python",
   "notebook_metadata_filter": "-all"
  },
  "language_info": {
   "name": "python"
  }
 },
 "nbformat": 4,
 "nbformat_minor": 5
}
