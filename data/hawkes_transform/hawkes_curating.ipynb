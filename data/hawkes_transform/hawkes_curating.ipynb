{
 "cells": [
  {
   "cell_type": "code",
   "execution_count": null,
   "metadata": {},
   "outputs": [],
   "source": [
    "import os\n",
    "import polars as pl\n",
    "import dotenv\n",
    "from tqdm import tqdm\n",
    "import plotly.graph_objects as go\n",
    "FOLDER_PATH = os.getenv(\"FOLDER_PATH\")\n",
    "\n",
    "\n",
    "dotenv.load_dotenv()"
   ]
  },
  {
   "cell_type": "code",
   "execution_count": 2,
   "metadata": {},
   "outputs": [],
   "source": [
    "df =  df = pl.read_parquet(f\"{FOLDER_PATH}INTC/INTC_2024-07-22.parquet\")"
   ]
  },
  {
   "cell_type": "code",
   "execution_count": null,
   "metadata": {},
   "outputs": [],
   "source": [
    "df.head(20)"
   ]
  },
  {
   "cell_type": "code",
   "execution_count": 5,
   "metadata": {},
   "outputs": [],
   "source": [
    "num_entries_by_publisher = df.group_by(\"publisher_id\").len().sort(\"len\", descending=True)\n",
    "if len(num_entries_by_publisher) > 1:\n",
    "    df = df.filter(pl.col(\"publisher_id\") == 41)"
   ]
  },
  {
   "cell_type": "code",
   "execution_count": null,
   "metadata": {},
   "outputs": [],
   "source": [
    "print(num_entries_by_publisher)"
   ]
  },
  {
   "cell_type": "code",
   "execution_count": 7,
   "metadata": {},
   "outputs": [],
   "source": [
    "df = df.filter(\n",
    "    (\n",
    "        (pl.col(\"ts_event\").dt.hour() == 9) & (pl.col(\"ts_event\").dt.minute() >= 30) |\n",
    "        (pl.col(\"ts_event\").dt.hour() > 9) & (pl.col(\"ts_event\").dt.hour() < 16) |\n",
    "        (pl.col(\"ts_event\").dt.hour() == 16) & (pl.col(\"ts_event\").dt.minute() == 0)\n",
    "    )\n",
    ")"
   ]
  },
  {
   "cell_type": "code",
   "execution_count": 8,
   "metadata": {},
   "outputs": [],
   "source": [
    "mid_price = (df[\"ask_px_00\"] + df[\"bid_px_00\"]) / 2        \n",
    "# managing nans or infs, preceding value filling\n",
    "mid_price = mid_price.fill_nan(mid_price.shift(1))"
   ]
  },
  {
   "cell_type": "code",
   "execution_count": null,
   "metadata": {},
   "outputs": [],
   "source": [
    "\n",
    "# Create figure\n",
    "fig = go.Figure()\n",
    "\n",
    "# Add best bid line\n",
    "fig.add_trace(go.Scatter(\n",
    "    x=df['ts_event'],\n",
    "    y=df['bid_px_00'],\n",
    "    mode='lines',\n",
    "    name='Best Bid',\n",
    "    line=dict(color='blue')\n",
    "))\n",
    "\n",
    "# Add best ask line  \n",
    "fig.add_trace(go.Scatter(\n",
    "    x=df['ts_event'], \n",
    "    y=df['ask_px_00'],\n",
    "    mode='lines',\n",
    "    name='Best Ask',\n",
    "    line=dict(color='red')\n",
    "))\n",
    "\n",
    "fig.add_trace(go.Scatter(\n",
    "    x=df['ts_event'],\n",
    "    y=mid_price,\n",
    "    mode='lines',\n",
    "    name='Mid Price',\n",
    "    line=dict(color='black')\n",
    "))\n",
    "\n",
    "\n",
    "# Update layout\n",
    "fig.update_layout(\n",
    "    title='Order Book and bid/ask',\n",
    "    xaxis_title='Time',\n",
    "    yaxis_title='Price',\n",
    "    showlegend=True\n",
    ")\n",
    "\n",
    "fig.show()\n",
    "\n"
   ]
  },
  {
   "cell_type": "code",
   "execution_count": 10,
   "metadata": {},
   "outputs": [],
   "source": [
    "from enum import Enum\n",
    "from dataclasses import dataclass\n",
    "from typing import List, Tuple\n",
    "\n",
    "# Définir les types d'événements\n",
    "class EventType(Enum):\n",
    "    PRICE_UP = \"PRICE_UP\"       # P(a)\n",
    "    PRICE_DOWN = \"PRICE_DOWN\"   # P(b)\n",
    "    TRADE_ASK = \"TRADE_ASK\"     # T(a)\n",
    "    TRADE_BID = \"TRADE_BID\"     # T(b)\n",
    "    LIMIT_ASK = \"LIMIT_ASK\"     # L(a)\n",
    "    LIMIT_BID = \"LIMIT_BID\"     # L(b)\n",
    "    CANCEL_ASK = \"CANCEL_ASK\"   # C(a)\n",
    "    CANCEL_BID = \"CANCEL_BID\"   # C(b)\n"
   ]
  },
  {
   "cell_type": "code",
   "execution_count": null,
   "metadata": {},
   "outputs": [],
   "source": [
    "def create_hawkes_counting_process(df: pl.DataFrame) -> pl.DataFrame:\n",
    "    # Traiter les valeurs nulles dans bid_px_00 et ask_px_00\n",
    "    df = df.with_columns([\n",
    "        pl.when(pl.col(\"bid_px_00\").is_null() | pl.col(\"ask_px_00\").is_null())\n",
    "        .then(None)\n",
    "        .otherwise((pl.col(\"bid_px_00\") + pl.col(\"ask_px_00\")) / 2)\n",
    "        .alias(\"mid_price\")\n",
    "    ])\n",
    "    \n",
    "    # Calculer les changements de prix\n",
    "    df = df.with_columns([\n",
    "        pl.col(\"mid_price\").diff().alias(\"price_change\")\n",
    "    ])\n",
    "    \n",
    "    # Créer les indicateurs (traiter les valeurs nulles)\n",
    "    df = df.with_columns([\n",
    "        # Prix\n",
    "        pl.when(pl.col(\"price_change\") > 0).then(1).otherwise(0).alias(\"P_a\"),\n",
    "        pl.when(pl.col(\"price_change\") < 0).then(1).otherwise(0).alias(\"P_b\"),\n",
    "        \n",
    "        # Trades\n",
    "        pl.when((pl.col(\"action\") == \"T\") & (pl.col(\"side\") == \"A\") & \n",
    "                (pl.col(\"price_change\").is_null() | (pl.col(\"price_change\") == 0)))\n",
    "        .then(1).otherwise(0).alias(\"T_a\"),\n",
    "        \n",
    "        pl.when((pl.col(\"action\") == \"T\") & (pl.col(\"side\") == \"B\") & \n",
    "                (pl.col(\"price_change\").is_null() | (pl.col(\"price_change\") == 0)))\n",
    "        .then(1).otherwise(0).alias(\"T_b\"),\n",
    "        \n",
    "        # Limit orders\n",
    "        pl.when((pl.col(\"action\") == \"A\") & (pl.col(\"side\") == \"A\") & \n",
    "                (pl.col(\"price_change\").is_null() | (pl.col(\"price_change\") == 0)))\n",
    "        .then(1).otherwise(0).alias(\"L_a\"),\n",
    "        \n",
    "        pl.when((pl.col(\"action\") == \"A\") & (pl.col(\"side\") == \"B\") & \n",
    "                (pl.col(\"price_change\").is_null() | (pl.col(\"price_change\") == 0)))\n",
    "        .then(1).otherwise(0).alias(\"L_b\"),\n",
    "        \n",
    "        # Cancel orders\n",
    "        pl.when((pl.col(\"action\") == \"C\") & (pl.col(\"side\") == \"A\") & \n",
    "                (pl.col(\"price_change\").is_null() | (pl.col(\"price_change\") == 0)))\n",
    "        .then(1).otherwise(0).alias(\"C_a\"),\n",
    "        \n",
    "        pl.when((pl.col(\"action\") == \"C\") & (pl.col(\"side\") == \"B\") & \n",
    "                (pl.col(\"price_change\").is_null() | (pl.col(\"price_change\") == 0)))\n",
    "        .then(1).otherwise(0).alias(\"C_b\")\n",
    "    ])\n",
    "    \n",
    "    # Créer les processus cumulatifs en utilisant cum_sum()\n",
    "    counting_process = df.select([\n",
    "        \"ts_event\",\n",
    "        pl.col(\"P_a\").cum_sum().alias(\"P_a\"),\n",
    "        pl.col(\"P_b\").cum_sum().alias(\"P_b\"),\n",
    "        pl.col(\"T_a\").cum_sum().alias(\"T_a\"),\n",
    "        pl.col(\"T_b\").cum_sum().alias(\"T_b\"),\n",
    "        pl.col(\"L_a\").cum_sum().alias(\"L_a\"),\n",
    "        pl.col(\"L_b\").cum_sum().alias(\"L_b\"),\n",
    "        pl.col(\"C_a\").cum_sum().alias(\"C_a\"),\n",
    "        pl.col(\"C_b\").cum_sum().alias(\"C_b\")\n",
    "    ])\n",
    "    \n",
    "    return counting_process\n",
    "\n",
    "# Usage\n",
    "hawkes_process = create_hawkes_counting_process(df)\n",
    "print(hawkes_process)\n",
    "\n",
    "# Pour sauvegarder en parquet\n",
    "# hawkes_process.write_parquet(\"hawkes_counting_process.parquet\")"
   ]
  },
  {
   "cell_type": "code",
   "execution_count": null,
   "metadata": {},
   "outputs": [],
   "source": []
  },
  {
   "cell_type": "code",
   "execution_count": null,
   "metadata": {},
   "outputs": [],
   "source": []
  }
 ],
 "metadata": {
  "kernelspec": {
   "display_name": ".venv",
   "language": "python",
   "name": "python3"
  },
  "language_info": {
   "codemirror_mode": {
    "name": "ipython",
    "version": 3
   },
   "file_extension": ".py",
   "mimetype": "text/x-python",
   "name": "python",
   "nbconvert_exporter": "python",
   "pygments_lexer": "ipython3",
   "version": "3.12.7"
  }
 },
 "nbformat": 4,
 "nbformat_minor": 2
}
