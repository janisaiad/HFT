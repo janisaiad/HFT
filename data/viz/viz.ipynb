{
 "cells": [
  {
   "cell_type": "code",
   "execution_count": 1,
   "metadata": {},
   "outputs": [],
   "source": [
    "import polars as pl"
   ]
  },
  {
   "cell_type": "code",
   "execution_count": 2,
   "metadata": {},
   "outputs": [],
   "source": [
    "\n",
    "# Load the parquet file\n",
    "df = pl.read_parquet('/home/janis/EAP1/HFT_QR_RL/data/smash4/DB_MBP_10/UA/UA_2024-09-13_dbeq-basic.parquet')\n"
   ]
  },
  {
   "cell_type": "code",
   "execution_count": 3,
   "metadata": {},
   "outputs": [
    {
     "data": {
      "text/html": [
       "<div><style>\n",
       ".dataframe > thead > tr,\n",
       ".dataframe > tbody > tr {\n",
       "  text-align: right;\n",
       "  white-space: pre-wrap;\n",
       "}\n",
       "</style>\n",
       "<small>shape: (5, 13)</small><table border=\"1\" class=\"dataframe\"><thead><tr><th>ts_event</th><th>rtype</th><th>publisher_id</th><th>instrument_id</th><th>action</th><th>reason</th><th>trading_event</th><th>is_trading</th><th>is_quoting</th><th>is_short_sell_restricted</th><th>symbol</th><th>date</th><th>ts_recv</th></tr><tr><td>datetime[ns, US/Eastern]</td><td>u8</td><td>u16</td><td>u32</td><td>u16</td><td>u16</td><td>u16</td><td>str</td><td>str</td><td>str</td><td>str</td><td>date</td><td>datetime[ns, US/Eastern]</td></tr></thead><tbody><tr><td>2024-09-13 00:25:21.031792257 EDT</td><td>18</td><td>39</td><td>16406</td><td>0</td><td>0</td><td>0</td><td>&quot;~&quot;</td><td>&quot;~&quot;</td><td>&quot;~&quot;</td><td>&quot;UA&quot;</td><td>2024-09-13</td><td>2024-09-13 00:25:21.059345294 EDT</td></tr><tr><td>2024-09-13 00:25:21.031792257 EDT</td><td>18</td><td>39</td><td>16406</td><td>1</td><td>0</td><td>0</td><td>&quot;N&quot;</td><td>&quot;N&quot;</td><td>&quot;~&quot;</td><td>&quot;UA&quot;</td><td>2024-09-13</td><td>2024-09-13 00:25:21.059345294 EDT</td></tr><tr><td>2024-09-13 00:23:22.277564594 EDT</td><td>18</td><td>40</td><td>16406</td><td>0</td><td>0</td><td>0</td><td>&quot;~&quot;</td><td>&quot;~&quot;</td><td>&quot;~&quot;</td><td>&quot;UA&quot;</td><td>2024-09-13</td><td>2024-09-13 02:03:00.005838611 EDT</td></tr><tr><td>2024-09-13 00:23:22.277564594 EDT</td><td>18</td><td>40</td><td>16406</td><td>1</td><td>0</td><td>0</td><td>&quot;N&quot;</td><td>&quot;N&quot;</td><td>&quot;~&quot;</td><td>&quot;UA&quot;</td><td>2024-09-13</td><td>2024-09-13 02:03:00.005838611 EDT</td></tr><tr><td>2024-09-13 00:23:22.277564594 EDT</td><td>18</td><td>40</td><td>16406</td><td>0</td><td>0</td><td>0</td><td>&quot;~&quot;</td><td>&quot;~&quot;</td><td>&quot;~&quot;</td><td>&quot;UA&quot;</td><td>2024-09-13</td><td>2024-09-13 02:03:00.005888701 EDT</td></tr></tbody></table></div>"
      ],
      "text/plain": [
       "shape: (5, 13)\n",
       "┌────────────┬───────┬────────────┬────────────┬───┬────────────┬────────┬────────────┬────────────┐\n",
       "│ ts_event   ┆ rtype ┆ publisher_ ┆ instrument ┆ … ┆ is_short_s ┆ symbol ┆ date       ┆ ts_recv    │\n",
       "│ ---        ┆ ---   ┆ id         ┆ _id        ┆   ┆ ell_restri ┆ ---    ┆ ---        ┆ ---        │\n",
       "│ datetime[n ┆ u8    ┆ ---        ┆ ---        ┆   ┆ cted       ┆ str    ┆ date       ┆ datetime[n │\n",
       "│ s, US/East ┆       ┆ u16        ┆ u32        ┆   ┆ ---        ┆        ┆            ┆ s, US/East │\n",
       "│ ern]       ┆       ┆            ┆            ┆   ┆ str        ┆        ┆            ┆ ern]       │\n",
       "╞════════════╪═══════╪════════════╪════════════╪═══╪════════════╪════════╪════════════╪════════════╡\n",
       "│ 2024-09-13 ┆ 18    ┆ 39         ┆ 16406      ┆ … ┆ ~          ┆ UA     ┆ 2024-09-13 ┆ 2024-09-13 │\n",
       "│ 00:25:21.0 ┆       ┆            ┆            ┆   ┆            ┆        ┆            ┆ 00:25:21.0 │\n",
       "│ 31792257 … ┆       ┆            ┆            ┆   ┆            ┆        ┆            ┆ 59345294 … │\n",
       "│ 2024-09-13 ┆ 18    ┆ 39         ┆ 16406      ┆ … ┆ ~          ┆ UA     ┆ 2024-09-13 ┆ 2024-09-13 │\n",
       "│ 00:25:21.0 ┆       ┆            ┆            ┆   ┆            ┆        ┆            ┆ 00:25:21.0 │\n",
       "│ 31792257 … ┆       ┆            ┆            ┆   ┆            ┆        ┆            ┆ 59345294 … │\n",
       "│ 2024-09-13 ┆ 18    ┆ 40         ┆ 16406      ┆ … ┆ ~          ┆ UA     ┆ 2024-09-13 ┆ 2024-09-13 │\n",
       "│ 00:23:22.2 ┆       ┆            ┆            ┆   ┆            ┆        ┆            ┆ 02:03:00.0 │\n",
       "│ 77564594 … ┆       ┆            ┆            ┆   ┆            ┆        ┆            ┆ 05838611 … │\n",
       "│ 2024-09-13 ┆ 18    ┆ 40         ┆ 16406      ┆ … ┆ ~          ┆ UA     ┆ 2024-09-13 ┆ 2024-09-13 │\n",
       "│ 00:23:22.2 ┆       ┆            ┆            ┆   ┆            ┆        ┆            ┆ 02:03:00.0 │\n",
       "│ 77564594 … ┆       ┆            ┆            ┆   ┆            ┆        ┆            ┆ 05838611 … │\n",
       "│ 2024-09-13 ┆ 18    ┆ 40         ┆ 16406      ┆ … ┆ ~          ┆ UA     ┆ 2024-09-13 ┆ 2024-09-13 │\n",
       "│ 00:23:22.2 ┆       ┆            ┆            ┆   ┆            ┆        ┆            ┆ 02:03:00.0 │\n",
       "│ 77564594 … ┆       ┆            ┆            ┆   ┆            ┆        ┆            ┆ 05888701 … │\n",
       "└────────────┴───────┴────────────┴────────────┴───┴────────────┴────────┴────────────┴────────────┘"
      ]
     },
     "execution_count": 3,
     "metadata": {},
     "output_type": "execute_result"
    }
   ],
   "source": [
    "df.head()"
   ]
  },
  {
   "cell_type": "code",
   "execution_count": null,
   "metadata": {},
   "outputs": [],
   "source": []
  }
 ],
 "metadata": {
  "kernelspec": {
   "display_name": ".venv",
   "language": "python",
   "name": "python3"
  },
  "language_info": {
   "codemirror_mode": {
    "name": "ipython",
    "version": 3
   },
   "file_extension": ".py",
   "mimetype": "text/x-python",
   "name": "python",
   "nbconvert_exporter": "python",
   "pygments_lexer": "ipython3",
   "version": "3.12.7"
  }
 },
 "nbformat": 4,
 "nbformat_minor": 2
}
