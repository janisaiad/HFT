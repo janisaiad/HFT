{
 "cells": [
  {
   "cell_type": "code",
   "execution_count": null,
   "metadata": {},
   "outputs": [],
   "source": [
    "import os\n",
    "import polars as pl\n",
    "import dotenv\n",
    "from tqdm import tqdm\n",
    "import plotly.graph_objects as go\n",
    "FOLDER_PATH = os.getenv(\"FOLDER_PATH\")\n",
    "\n",
    "\n",
    "dotenv.load_dotenv()"
   ]
  },
  {
   "cell_type": "code",
   "execution_count": 3,
   "metadata": {},
   "outputs": [],
   "source": [
    "df =  df = pl.read_parquet(f\"{FOLDER_PATH}/INTC/INTC_2024-07-22.parquet\")"
   ]
  },
  {
   "cell_type": "code",
   "execution_count": null,
   "metadata": {},
   "outputs": [],
   "source": [
    "df.head()"
   ]
  },
  {
   "cell_type": "code",
   "execution_count": null,
   "metadata": {},
   "outputs": [],
   "source": []
  },
  {
   "cell_type": "code",
   "execution_count": 14,
   "metadata": {},
   "outputs": [],
   "source": [
    "num_entries_by_publisher = df.group_by(\"publisher_id\").len().sort(\"len\", descending=True)\n",
    "if len(num_entries_by_publisher) > 1:\n",
    "    df = df.filter(pl.col(\"publisher_id\") == 41)"
   ]
  },
  {
   "cell_type": "code",
   "execution_count": null,
   "metadata": {},
   "outputs": [],
   "source": [
    "print(num_entries_by_publisher)"
   ]
  },
  {
   "cell_type": "code",
   "execution_count": 16,
   "metadata": {},
   "outputs": [],
   "source": [
    "df = df.filter(\n",
    "    (\n",
    "        (pl.col(\"ts_event\").dt.hour() == 9) & (pl.col(\"ts_event\").dt.minute() >= 30) |\n",
    "        (pl.col(\"ts_event\").dt.hour() > 9) & (pl.col(\"ts_event\").dt.hour() < 16) |\n",
    "        (pl.col(\"ts_event\").dt.hour() == 16) & (pl.col(\"ts_event\").dt.minute() == 0)\n",
    "    )\n",
    ")"
   ]
  },
  {
   "cell_type": "code",
   "execution_count": null,
   "metadata": {},
   "outputs": [],
   "source": [
    "mid_price = (df[\"ask_px_00\"] + df[\"bid_px_00\"]) / 2        \n",
    "# managing nans or infs, preceding value filling\n",
    "mid_price = mid_price.fill_nan(mid_price.shift(1))"
   ]
  },
  {
   "cell_type": "code",
   "execution_count": null,
   "metadata": {},
   "outputs": [],
   "source": [
    "\n",
    "# Create figure\n",
    "fig = go.Figure()\n",
    "\n",
    "# Add best bid line\n",
    "fig.add_trace(go.Scatter(\n",
    "    x=df['ts_event'],\n",
    "    y=df['bid_px_00'],\n",
    "    mode='lines',\n",
    "    name='Best Bid',\n",
    "    line=dict(color='blue')\n",
    "))\n",
    "\n",
    "# Add best ask line  \n",
    "fig.add_trace(go.Scatter(\n",
    "    x=df['ts_event'], \n",
    "    y=df['ask_px_00'],\n",
    "    mode='lines',\n",
    "    name='Best Ask',\n",
    "    line=dict(color='red')\n",
    "))\n",
    "\n",
    "fig.add_trace(go.Scatter(\n",
    "    x=df['ts_event'],\n",
    "    y=mid_price,\n",
    "    mode='lines',\n",
    "    name='Mid Price',\n",
    "    line=dict(color='black')\n",
    "))\n",
    "\n",
    "\n",
    "# Update layout\n",
    "fig.update_layout(\n",
    "    title='Order Book and bid/ask',\n",
    "    xaxis_title='Time',\n",
    "    yaxis_title='Price',\n",
    "    showlegend=True\n",
    ")\n",
    "\n",
    "fig.show()\n",
    "\n"
   ]
  },
  {
   "cell_type": "code",
   "execution_count": null,
   "metadata": {},
   "outputs": [],
   "source": [
    "pl.save_parquet(df, f\"{FOLDER_PATH}/INTC/INTC_2024-07-22_curated.parquet\")"
   ]
  },
  {
   "cell_type": "code",
   "execution_count": null,
   "metadata": {},
   "outputs": [],
   "source": [
    "\n",
    "for stock in tqdm(os.listdir(FOLDER_PATH)[0:1], desc=\"Stock treatment\"):\n",
    "    for file in tqdm(os.listdir(f\"{FOLDER_PATH}/{stock}\"), desc=\"File treatment\"):\n",
    "       \n",
    "        if pl.col(\"publisher_id\").n_unique() > 1:\n",
    "            df = df.filter(pl.col(\"publisher_id\") == 41)\n",
    "        else:\n",
    "            df = df.filter(pl.col(\"publisher_id\") == 2)\n",
    "            \n",
    "            \n",
    "        if stock == \"GOOGL\":\n",
    "            df = df.filter(pl.col(\"ts_event\").dt.hour() >= 13)\n",
    "            df = df.filter(pl.col(\"ts_event\").dt.hour() <= 20)\n",
    "        else:\n",
    "            df = df.filter(\n",
    "                (\n",
    "                    (pl.col(\"ts_event\").dt.hour() == 9) & (pl.col(\"ts_event\").dt.minute() >= 30) |\n",
    "                    (pl.col(\"ts_event\").dt.hour() > 9) & (pl.col(\"ts_event\").dt.hour() < 16) |\n",
    "                    (pl.col(\"ts_event\").dt.hour() == 16) & (pl.col(\"ts_event\").dt.minute() == 0)\n",
    "                )\n",
    "            )\n",
    "        \n",
    "        mid_price = (df[\"ask_px_00\"] + df[\"bid_px_00\"]) / 2\n",
    "        \n",
    "        # managing nans or infs, preceding value filling\n",
    "        mid_price = mid_price.fill_nan(mid_price.shift(1)).fill_inf(mid_price.shift(1)).fill_null(mid_price.shift(1))\n",
    "        df = df.with_columns(mid_price=mid_price)\n",
    "        df.write_parquet(f\"{FOLDER_PATH}/{stock}/{file[:-9]}_curated.parquet\")\n",
    "        \n",
    "\n",
    "\n",
    "\n",
    "\n",
    "\n",
    "\n"
   ]
  }
 ],
 "metadata": {
  "kernelspec": {
   "display_name": ".venv",
   "language": "python",
   "name": "python3"
  },
  "language_info": {
   "codemirror_mode": {
    "name": "ipython",
    "version": 3
   },
   "file_extension": ".py",
   "mimetype": "text/x-python",
   "name": "python",
   "nbconvert_exporter": "python",
   "pygments_lexer": "ipython3",
   "version": "3.12.7"
  }
 },
 "nbformat": 4,
 "nbformat_minor": 2
}
